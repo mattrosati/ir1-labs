{
 "cells": [
  {
   "cell_type": "markdown",
   "metadata": {
    "deletable": false,
    "editable": false,
    "nbgrader": {
     "cell_type": "markdown",
     "checksum": "1bba455de8bc2825ca70469169bbadaa",
     "grade": false,
     "grade_id": "cell-c9cd9e550239e812",
     "locked": true,
     "schema_version": 3,
     "solution": false,
     "task": false
    }
   },
   "source": [
    "# Homework 1 (Total Points: 250) <a class=\"anchor\" id=\"top\"></a>\n",
    "\n",
    "\n",
    "**Submission instructions**:\n",
    "- The cells with the `# YOUR CODE HERE` denote that these sections are graded and you need to add your implementation.\n",
    "- For Part 1: You can use the `nltk`, `NumPy`, and `matplotlib` libraries here. Other libraries, e.g., `gensim` or `scikit-learn`, may not be used. For Part 2: `gensim` is allowed in addition to the imported libraries in the next code cell\n",
    "- Please use Python 3.6.5 and `pip install -r requirements.txt` to avoid version issues.\n",
    "- The notebook you submit has to have the student ids, separated by underscores (E.g., `12341234_12341234_12341234_hw1.ipynb`).\n",
    "- This will be parsed by a regexp, **so please double check your filename**.\n",
    "- Only one member of each group has to submit the file (**please do not compress the .ipynb file when you will submit it**) to canvas.\n",
    "- **Make sure to check that your notebook runs before submission**. A quick way to do this is to restart the kernel and run all the cells.  \n",
    "- Do not change the number of arugments in the given functions.\n",
    "- **Please do not delete/add new cells**. Removing cells **will** lead to grade deduction. \n",
    "- Note, that you are not allowed to use Google Colab.\n",
    "\n",
    "\n",
    "**Learning Goals**:\n",
    "- [Part 1, Term-based matching](#part1) (165 points):\n",
    "    - Learn how to load a dataset and process it.\n",
    "    - Learn how to implement several standard IR methods (TF-IDF, BM25, QL) and understand their weaknesses & strengths.\n",
    "    - Learn how to evaluate IR methods.\n",
    "- [Part 2, Semantic-based matching](#part2) (85 points):\n",
    "    - Learn how to implement vector-space retrieval methods (LSI, LDA).\n",
    "    - Learn how to use LSI and LDA for re-ranking.\n",
    "\n",
    "    \n",
    "**Resources**: \n",
    "- **Part 1**: Sections 2.3, 4.1, 4.2, 4.3, 5.3, 5.6, 5.7, 6.2, 7, 8 of [Search Engines: Information Retrieval in Practice](https://ciir.cs.umass.edu/downloads/SEIRiP.pdf)\n",
    "- **Part 2**: [LSI - Chapter 18](https://nlp.stanford.edu/IR-book/pdf/18lsi.pdf) from [Introduction to Information Retrieval](https://nlp.stanford.edu/IR-book/) book and the [original LDA paper](https://jmlr.org/papers/volume3/blei03a/blei03a.pdf)"
   ]
  },
  {
   "cell_type": "code",
   "execution_count": 1,
   "metadata": {
    "deletable": false,
    "editable": false,
    "nbgrader": {
     "cell_type": "code",
     "checksum": "c55bfe94ff1f564dd595547e516c4c6e",
     "grade": false,
     "grade_id": "cell-f5357fabdb9660e3",
     "locked": true,
     "schema_version": 3,
     "solution": false,
     "task": false
    }
   },
   "outputs": [],
   "source": [
    "# imports \n",
    "# TODO: Ensure that no additional library is imported in the notebook. \n",
    "# TODO: Only the standard library and the following libraries are allowed:\n",
    "# TODO: You can also use unlisted classes from these libraries or standard libraries (such as defaultdict, Counter, ...).\n",
    "\n",
    "import os\n",
    "import zipfile\n",
    "from functools import partial\n",
    "\n",
    "import nltk\n",
    "import requests\n",
    "import numpy as np\n",
    "from tqdm import tqdm\n",
    "\n",
    "import matplotlib.pyplot as plt\n",
    "from matplotlib.pyplot import cm\n",
    "\n",
    "from ipywidgets import widgets\n",
    "from IPython.display import display, HTML\n",
    "#from IPython.html import widgets\n",
    "from collections import namedtuple\n",
    "\n",
    "%matplotlib inline"
   ]
  },
  {
   "cell_type": "markdown",
   "metadata": {
    "deletable": false,
    "editable": false,
    "nbgrader": {
     "cell_type": "markdown",
     "checksum": "c8328f758ca5b69f76eee03dbbdd4715",
     "grade": false,
     "grade_id": "cell-7428e12ed184408b",
     "locked": true,
     "schema_version": 3,
     "solution": false,
     "task": false
    }
   },
   "source": [
    "\n",
    "# Part 1: Term-based Matching (165 points) <a class=\"anchor\" id=\"part1\"></a>\n",
    "\n",
    "[Back to top](#top)\n",
    "\n",
    "In the first part, we will learn the basics of IR from loading and preprocessing the material, to implementing some well known search algorithms, to evaluating the ranking performance of the implemented algorithms. We will be using the CACM dataset throughout the assignment. The CACM dataset is a collection of titles and abstracts from the journal CACM (Communication of the ACM).\n",
    "\n",
    "Table of contents:\n",
    "- [Section 1: Text Processing](#text_processing) (5 points)\n",
    "- [Section 2: Indexing](#indexing) (10 points)\n",
    "- [Section 3: Ranking](#ranking) (80 points)\n",
    "- [Section 4: Evaluation](#evaluation) (40 points)\n",
    "- [Section 5: Analysis](#analysis) (30 points)\n"
   ]
  },
  {
   "cell_type": "markdown",
   "metadata": {
    "deletable": false,
    "editable": false,
    "nbgrader": {
     "cell_type": "markdown",
     "checksum": "4e3f938065183dc743aa8254b96b4f5e",
     "grade": false,
     "grade_id": "cell-4b24825cf4ae55ec",
     "locked": true,
     "schema_version": 3,
     "solution": false,
     "task": false
    }
   },
   "source": [
    "---\n",
    "## Section 1: Text Processing (5 points)<a class=\"anchor\" id=\"text_processing\"></a>\n",
    "\n",
    "[Back to Part 1](#part1)\n",
    "\n",
    "In this section, we will load the dataset and learn how to clean up the data to make it usable for an IR system. \n",
    "First, go through the implementation of the following functions:\n",
    "- `read_cacm_docs`: Reads in the CACM documents.\n",
    "- `read_queries`: Reads in the CACM queries.\n",
    "- `load_stopwords`: Loads the stopwords.\n",
    "\n",
    "The points of this section are earned for the following implementations:\n",
    "- `tokenize` (3 points): Tokenizes the input text.\n",
    "- `stem_token` (2 points): Stems the given token. \n",
    "\n",
    "We are using the [CACM dataset](http://ir.dcs.gla.ac.uk/resources/test_collections/cacm/), which is a small, classic IR dataset, composed of a collection of titles and abstracts from the journal CACM. It comes with relevance judgements for queries, so we can evaluate our IR system. \n"
   ]
  },
  {
   "cell_type": "markdown",
   "metadata": {
    "deletable": false,
    "editable": false,
    "nbgrader": {
     "cell_type": "markdown",
     "checksum": "0155d897c7016389d73d160921947a6f",
     "grade": false,
     "grade_id": "cell-45651364e7af6d5a",
     "locked": true,
     "schema_version": 3,
     "solution": false,
     "task": false
    }
   },
   "source": [
    "---\n",
    "### 1.1 Read the CACM documents\n",
    "\n",
    "\n",
    "The following cell downloads the dataset and unzips it to a local directory."
   ]
  },
  {
   "cell_type": "code",
   "execution_count": 2,
   "metadata": {
    "deletable": false,
    "editable": false,
    "nbgrader": {
     "cell_type": "code",
     "checksum": "4d43c9ad6e77cc01ce4cef0c34824930",
     "grade": false,
     "grade_id": "cell-bbc3030bb3fe7e02",
     "locked": true,
     "schema_version": 3,
     "solution": false,
     "task": false
    }
   },
   "outputs": [],
   "source": [
    "def download_dataset():\n",
    "    folder_path = os.environ.get(\"IR1_DATA_PATH\")\n",
    "    if not folder_path:\n",
    "        folder_path = \"./datasets/\"\n",
    "    os.makedirs(folder_path, exist_ok=True)\n",
    "    \n",
    "    file_location = os.path.join(folder_path, \"cacm.zip\")\n",
    "    \n",
    "    # download file if it doesn't exist\n",
    "    if not os.path.exists(file_location):\n",
    "        \n",
    "        url = \"https://surfdrive.surf.nl/files/index.php/s/M0FGJpX2p8wDwxR/download\"\n",
    "\n",
    "        with open(file_location, \"wb\") as handle:\n",
    "            print(f\"Downloading file from {url} to {file_location}\")\n",
    "            response = requests.get(url, stream=True)\n",
    "            for data in tqdm(response.iter_content()):\n",
    "                handle.write(data)\n",
    "            print(\"Finished downloading file\")\n",
    "    \n",
    "    if not os.path.exists(os.path.join(folder_path, \"train.txt\")):\n",
    "        \n",
    "        # unzip file\n",
    "        with zipfile.ZipFile(file_location, 'r') as zip_ref:\n",
    "            zip_ref.extractall(folder_path)\n",
    "        \n",
    "download_dataset()"
   ]
  },
  {
   "cell_type": "markdown",
   "metadata": {
    "deletable": false,
    "editable": false,
    "nbgrader": {
     "cell_type": "markdown",
     "checksum": "31609b0d61d0c74cbd69bc43e47c23be",
     "grade": false,
     "grade_id": "cell-a7dd9a9bf98ede05",
     "locked": true,
     "schema_version": 3,
     "solution": false,
     "task": false
    }
   },
   "source": [
    "---\n",
    "\n",
    "You can see a brief description of each file in the dataset by looking at the README file:"
   ]
  },
  {
   "cell_type": "code",
   "execution_count": 3,
   "metadata": {
    "deletable": false,
    "editable": false,
    "nbgrader": {
     "cell_type": "code",
     "checksum": "cb3c9a2b8b2bf4fd5b7446b0c4c00f43",
     "grade": false,
     "grade_id": "cell-9b6ff1a17124711f",
     "locked": true,
     "schema_version": 3,
     "solution": false,
     "task": false
    }
   },
   "outputs": [
    {
     "name": "stdout",
     "output_type": "stream",
     "text": [
      "Files in this directory with sizes:\n",
      "          0 Jun 19 21:01 README\n",
      "\n",
      "    2187734 Jun 19 20:55 cacm.all              text of documents\n",
      "        626 Jun 19 20:58 cite.info             key to citation info\n",
      "                                                (the X sections in cacm.all)\n",
      "       2668 Jun 19 20:55 common_words           stop words used by smart\n",
      "       2194 Jun 19 20:55 make_coll*             shell script to make collection\n",
      "       1557 Jun 19 20:55 make_coll_term*        ditto (both useless without\n",
      "                                                smart system)\n",
      "       9948 Jun 19 20:55 qrels.text             relation giving\n",
      "                                                    qid did 0 0\n",
      "                                                to indicate dument did is\n",
      "                                                relevant to query qid\n",
      "      13689 Jun 19 20:55 query.text             Original text of the query\n",
      "\n"
     ]
    }
   ],
   "source": [
    "##### Read the README file \n",
    "with open (\"./datasets/README\",\"r\") as file:\n",
    "    readme = file.read()\n",
    "    print(readme)\n",
    "#####"
   ]
  },
  {
   "cell_type": "markdown",
   "metadata": {
    "deletable": false,
    "editable": false,
    "nbgrader": {
     "cell_type": "markdown",
     "checksum": "6e2712c4c4632bf7486a532f7f18074d",
     "grade": false,
     "grade_id": "cell-73351431869fda76",
     "locked": true,
     "schema_version": 3,
     "solution": false,
     "task": false
    }
   },
   "source": [
    "---\n",
    "We are interested in 4 files:\n",
    "- `cacm.all` : Contains the text for all documents. Note that some documents do not have abstracts available\n",
    "- `query.text` : The text of all queries\n",
    "- `qrels.text` : The relevance judgements\n",
    "- `common_words` : A list of common words. This may be used as a collection of stopwords"
   ]
  },
  {
   "cell_type": "code",
   "execution_count": 4,
   "metadata": {
    "deletable": false,
    "editable": false,
    "nbgrader": {
     "cell_type": "code",
     "checksum": "f1162c15177eb4ffe466531d03cff4a2",
     "grade": false,
     "grade_id": "cell-b44dd14079f278ca",
     "locked": true,
     "schema_version": 3,
     "solution": false,
     "task": false
    }
   },
   "outputs": [
    {
     "name": "stdout",
     "output_type": "stream",
     "text": [
      ".I 1\n",
      ".T\n",
      "Preliminary Report-International Algebraic Language\n",
      ".B\n",
      "CACM December, 1958\n",
      ".A\n",
      "Perlis, A. J.\n",
      "Samelson,K.\n",
      ".N\n",
      "CA581203 JB March 22, 1978  8:28 PM\n",
      ".X\n",
      "100\t5\t1\n",
      "123\t5\t1\n",
      "164\t5\t1\n",
      "1\t5\t1\n",
      "1\t5\t1\n",
      "1\t5\t1\n",
      "205\t5\t1\n",
      "210\t5\t1\n",
      "214\t5\t1\n",
      "1982\t5\t1\n",
      "398\t5\t1\n",
      "642\t5\t1\n",
      "669\t5\t1\n",
      "1\t6\t1\n",
      "1\t6\t1\n",
      "1\t6\t1\n",
      "1\t6\t1\n",
      "1\t6\t1\n",
      "1\t6\t1\n",
      "1\t6\t1\n",
      "1\t6\t1\n",
      "1\t6\t1\n",
      "1\t6\t1\n",
      "165\t6\t1\n",
      "196\t6\t1\n",
      "196\t6\t1\n",
      "1273\t6\t1\n",
      "1883\t6\t1\n",
      "324\t6\t1\n",
      "43\t6\t1\n",
      "53\t6\t1\n",
      "91\t6\t1\n",
      "410\t6\t1\n",
      "3184\t6\t1\n",
      "\n"
     ]
    }
   ],
   "source": [
    "##### The first 45 lines of the CACM dataset forms the first record\n",
    "# We are interested only in 3 fields. \n",
    "# 1. the '.I' field, which is the document id\n",
    "# 2. the '.T' field (the title) and\n",
    "# 3. the '.W' field (the abstract, which may be absent)\n",
    "with open (\"./datasets/cacm.all\",\"r\") as file:\n",
    "    cacm_all = \"\".join(file.readlines()[:45])\n",
    "    print(cacm_all)\n",
    "#####"
   ]
  },
  {
   "cell_type": "markdown",
   "metadata": {
    "deletable": false,
    "editable": false,
    "nbgrader": {
     "cell_type": "markdown",
     "checksum": "250b413baccd8efb186bb46a34ae0060",
     "grade": false,
     "grade_id": "cell-c4bf2e263ec553d8",
     "locked": true,
     "schema_version": 3,
     "solution": false,
     "task": false
    }
   },
   "source": [
    "---\n",
    "\n",
    "The following function reads the `cacm.all` file. Note that each document has a variable number of lines. The `.I` field denotes a new document:"
   ]
  },
  {
   "cell_type": "code",
   "execution_count": 5,
   "metadata": {
    "deletable": false,
    "editable": false,
    "nbgrader": {
     "cell_type": "code",
     "checksum": "57d757e6a7a6938740dc899022b4f291",
     "grade": false,
     "grade_id": "cell-b736116eb419c624",
     "locked": true,
     "schema_version": 3,
     "solution": false,
     "task": false
    }
   },
   "outputs": [],
   "source": [
    "def read_cacm_docs(root_folder = \"./datasets/\"):\n",
    "    \"\"\"\n",
    "        Reads in the CACM documents. The dataset is assumed to be in the folder \"./datasets/\" by default\n",
    "        Returns: A list of 2-tuples: (doc_id, document), where 'document' is a single string created by \n",
    "            appending the title and abstract (separated by a \"\\n\"). \n",
    "            In case the record doesn't have an abstract, the document is composed only by the title\n",
    "    \"\"\"\n",
    "    with open(os.path.join(root_folder, \"cacm.all\")) as reader:\n",
    "        lines = reader.readlines()\n",
    "    \n",
    "    doc_id, title, abstract = None, None, None\n",
    "    \n",
    "    docs = []\n",
    "    line_idx = 0\n",
    "    while line_idx < len(lines):\n",
    "        line = lines[line_idx]\n",
    "        if line.startswith(\".I\"):\n",
    "            if doc_id is not None:\n",
    "                docs.append((doc_id, title, abstract))\n",
    "                doc_id, title, abstract = None, None, None\n",
    "            \n",
    "            doc_id = line.split()[-1]\n",
    "            line_idx += 1\n",
    "        elif line.startswith(\".T\"):\n",
    "            # start at next line\n",
    "            line_idx += 1\n",
    "            temp_lines = []\n",
    "            # read till next '.'\n",
    "            while not lines[line_idx].startswith(\".\"):\n",
    "                temp_lines.append(lines[line_idx].strip(\"\\n\"))\n",
    "                line_idx += 1\n",
    "            title = \"\\n\".join(temp_lines).strip(\"\\n\")\n",
    "        elif line.startswith(\".W\"):\n",
    "            # start at next line\n",
    "            line_idx += 1\n",
    "            temp_lines = []\n",
    "            # read till next '.'\n",
    "            while not lines[line_idx].startswith(\".\"):\n",
    "                temp_lines.append(lines[line_idx].strip(\"\\n\"))\n",
    "                line_idx += 1\n",
    "            abstract = \"\\n\".join(temp_lines).strip(\"\\n\")\n",
    "        else:\n",
    "            line_idx += 1\n",
    "    \n",
    "    docs.append((doc_id, title, abstract))\n",
    "    \n",
    "    p_docs = []\n",
    "    for (did, t, a) in docs:\n",
    "        if a is None:\n",
    "            a = \"\"\n",
    "        p_docs.append((did, t + \"\\n\" + a))\n",
    "    return p_docs\n"
   ]
  },
  {
   "cell_type": "code",
   "execution_count": 6,
   "metadata": {
    "deletable": false,
    "editable": false,
    "nbgrader": {
     "cell_type": "code",
     "checksum": "2f81930fcd89670b6e20e2255e1f2369",
     "grade": false,
     "grade_id": "cell-a1c43818e0d3fd79",
     "locked": true,
     "schema_version": 3,
     "solution": false,
     "task": false
    }
   },
   "outputs": [],
   "source": [
    "##### Function check\n",
    "docs = read_cacm_docs()\n",
    "\n",
    "assert isinstance(docs, list)\n",
    "assert len(docs) == 3204, \"There should be exactly 3204 documents\"\n",
    "\n",
    "unzipped_docs = list(zip(*docs))\n",
    "assert np.sum(np.array(list(map(int,unzipped_docs[0])))) == 5134410\n",
    "\n",
    "##### "
   ]
  },
  {
   "cell_type": "markdown",
   "metadata": {
    "deletable": false,
    "editable": false,
    "nbgrader": {
     "cell_type": "markdown",
     "checksum": "25fd3cfaf2137c56002b850699b3c9d3",
     "grade": false,
     "grade_id": "cell-5ed2ddc91f73c60e",
     "locked": true,
     "schema_version": 3,
     "solution": false,
     "task": false
    }
   },
   "source": [
    "---\n",
    "### 1.2 Read the CACM queries\n",
    "\n",
    "Next, let us read the queries. They are formatted similarly:"
   ]
  },
  {
   "cell_type": "code",
   "execution_count": 7,
   "metadata": {
    "deletable": false,
    "editable": false,
    "nbgrader": {
     "cell_type": "code",
     "checksum": "5d26c0908e758acb9968b84056b1060a",
     "grade": false,
     "grade_id": "cell-5c7e8e7c4fc2757f",
     "locked": true,
     "schema_version": 3,
     "solution": false,
     "task": false
    }
   },
   "outputs": [
    {
     "name": "stdout",
     "output_type": "stream",
     "text": [
      ".I 1\n",
      ".W\n",
      " What articles exist which deal with TSS (Time Sharing System), an\n",
      "operating system for IBM computers?\n",
      ".N\n",
      " 1. Richard Alexander, Comp Serv, Langmuir Lab (TSS)\n",
      " \n",
      ".I 2\n",
      ".W\n",
      " I am interested in articles written either by Prieve or Udo Pooch\n",
      ".A\n",
      "Prieve, B.\n",
      "Pooch, U.\n",
      ".N\n",
      " 2. Richard Alexander, Comp Serv, Langmuir Lab (author = Pooch or Prieve)\n"
     ]
    }
   ],
   "source": [
    "##### The first 15 lines of 'query.text' has 2 queries\n",
    "# We are interested only in 2 fields. \n",
    "# 1. the '.I' - the query id\n",
    "# 2. the '.W' - the query\n",
    "!head -15 ./datasets/query.text\n",
    "#####"
   ]
  },
  {
   "cell_type": "markdown",
   "metadata": {
    "deletable": false,
    "editable": false,
    "nbgrader": {
     "cell_type": "markdown",
     "checksum": "8f19f311a660f30e3f86cb0f7037d54a",
     "grade": false,
     "grade_id": "cell-88e293507d2dcef6",
     "locked": true,
     "schema_version": 3,
     "solution": false,
     "task": false
    }
   },
   "source": [
    "---\n",
    "\n",
    "The following function reads the `query.text` file:"
   ]
  },
  {
   "cell_type": "code",
   "execution_count": 8,
   "metadata": {
    "deletable": false,
    "editable": false,
    "nbgrader": {
     "cell_type": "code",
     "checksum": "e3fbb193211007672849487f5cff1664",
     "grade": false,
     "grade_id": "cell-433e3ad5d0e2572a",
     "locked": true,
     "schema_version": 3,
     "solution": false,
     "task": false
    }
   },
   "outputs": [],
   "source": [
    "def read_queries(root_folder = \"./datasets/\"):\n",
    "    \"\"\"\n",
    "        Reads in the CACM queries. The dataset is assumed to be in the folder \"./datasets/\" by default\n",
    "        Returns: A list of 2-tuples: (query_id, query)\n",
    "    \"\"\"\n",
    "    with open(os.path.join(root_folder, \"query.text\")) as reader:\n",
    "        lines = reader.readlines()\n",
    "    \n",
    "    query_id, query = None, None\n",
    "    \n",
    "    queries = []\n",
    "    line_idx = 0\n",
    "    while line_idx < len(lines):\n",
    "        line = lines[line_idx]\n",
    "        if line.startswith(\".I\"):\n",
    "            if query_id is not None:\n",
    "                queries.append((query_id, query))\n",
    "                query_id, query = None, None\n",
    "    \n",
    "            query_id = line.split()[-1]\n",
    "            line_idx += 1\n",
    "        elif line.startswith(\".W\"):\n",
    "            # start at next line\n",
    "            line_idx += 1\n",
    "            temp_lines = []\n",
    "            # read till next '.'\n",
    "            while not lines[line_idx].startswith(\".\"):\n",
    "                temp_lines.append(lines[line_idx].strip(\"\\n\"))\n",
    "                line_idx += 1\n",
    "            query = \"\\n\".join(temp_lines).strip(\"\\n\")\n",
    "        else:\n",
    "            line_idx += 1\n",
    "    \n",
    "    queries.append((query_id, query))\n",
    "    return queries\n"
   ]
  },
  {
   "cell_type": "code",
   "execution_count": 9,
   "metadata": {
    "deletable": false,
    "editable": false,
    "nbgrader": {
     "cell_type": "code",
     "checksum": "a897b9771b54f447be3418d7246fc4a0",
     "grade": false,
     "grade_id": "cell-6ec540abce66c598",
     "locked": true,
     "schema_version": 3,
     "solution": false,
     "task": false
    }
   },
   "outputs": [],
   "source": [
    "##### Function check\n",
    "queries = read_queries()\n",
    "\n",
    "assert isinstance(queries, list)\n",
    "assert len(queries) == 64 and all([q[1] is not None for q in queries]), \"There should be exactly 64 queries\"\n",
    "\n",
    "unzipped_queries = list(zip(*queries))\n",
    "assert np.sum(np.array(list(map(int,unzipped_queries[0])))) == 2080\n",
    "\n",
    "##### "
   ]
  },
  {
   "cell_type": "markdown",
   "metadata": {
    "deletable": false,
    "editable": false,
    "nbgrader": {
     "cell_type": "markdown",
     "checksum": "a300c41912ac63b239070b4c15c9f5c5",
     "grade": false,
     "grade_id": "cell-1c31569491d7b782",
     "locked": true,
     "schema_version": 3,
     "solution": false,
     "task": false
    }
   },
   "source": [
    "---\n",
    "### 1.3 Read the stop words\n",
    "\n",
    "We use the common words stored in `common_words`:"
   ]
  },
  {
   "cell_type": "code",
   "execution_count": 10,
   "metadata": {
    "deletable": false,
    "editable": false,
    "nbgrader": {
     "cell_type": "code",
     "checksum": "1ad6f5bae6a792504c1c8513ae5751ad",
     "grade": false,
     "grade_id": "cell-34bdb63461418a96",
     "locked": true,
     "schema_version": 3,
     "solution": false,
     "task": false
    }
   },
   "outputs": [
    {
     "name": "stdout",
     "output_type": "stream",
     "text": [
      "a\n",
      "about\n",
      "above\n",
      "accordingly\n",
      "across\n",
      "after\n",
      "afterwards\n",
      "again\n",
      "against\n",
      "all\n"
     ]
    }
   ],
   "source": [
    "##### Read the stop words file \n",
    "!head ./datasets/common_words\n",
    "##### Read the README file "
   ]
  },
  {
   "cell_type": "markdown",
   "metadata": {
    "deletable": false,
    "editable": false,
    "nbgrader": {
     "cell_type": "markdown",
     "checksum": "6d0fe612e770213b6397c2179b07a966",
     "grade": false,
     "grade_id": "cell-4744bde0338895d8",
     "locked": true,
     "schema_version": 3,
     "solution": false,
     "task": false
    }
   },
   "source": [
    "---\n",
    "\n",
    "The following function reads the `common_words` file (For better coverage, we try to keep them in lowercase):"
   ]
  },
  {
   "cell_type": "code",
   "execution_count": 11,
   "metadata": {
    "deletable": false,
    "editable": false,
    "nbgrader": {
     "cell_type": "code",
     "checksum": "9409713fd26eb0c33587e190638997c4",
     "grade": false,
     "grade_id": "cell-7357aa40f64e5bcb",
     "locked": true,
     "schema_version": 3,
     "solution": false,
     "task": false
    }
   },
   "outputs": [],
   "source": [
    "def load_stopwords(root_folder = \"./datasets/\"):\n",
    "    \"\"\"\n",
    "        Loads the stopwords. The dataset is assumed to be in the folder \"./datasets/\" by default\n",
    "        Output: A set of stopwords\n",
    "    \"\"\"\n",
    "    with open(os.path.join(root_folder, \"common_words\")) as reader:\n",
    "        lines = reader.readlines()\n",
    "    stopwords = set([l.strip().lower() for l in lines])\n",
    "    return stopwords\n"
   ]
  },
  {
   "cell_type": "code",
   "execution_count": 12,
   "metadata": {
    "deletable": false,
    "editable": false,
    "nbgrader": {
     "cell_type": "code",
     "checksum": "f1c8153c3c38133bc2db6e7b076ad470",
     "grade": false,
     "grade_id": "cell-2ca3ac162004de97",
     "locked": true,
     "schema_version": 3,
     "solution": false,
     "task": false
    }
   },
   "outputs": [],
   "source": [
    "##### Function check\n",
    "stopwords = load_stopwords()\n",
    "\n",
    "assert isinstance(stopwords, set)\n",
    "assert len(stopwords) == 428, \"There should be exactly 428 stop words\"\n",
    "\n",
    "assert np.sum(np.array(list(map(len,stopwords)))) == 2234\n",
    "\n",
    "##### \n"
   ]
  },
  {
   "cell_type": "markdown",
   "metadata": {
    "deletable": false,
    "editable": false,
    "nbgrader": {
     "cell_type": "markdown",
     "checksum": "92c1191e9e7291dcf0d70dc67b907a65",
     "grade": false,
     "grade_id": "cell-134b72872f4300cb",
     "locked": true,
     "schema_version": 3,
     "solution": false,
     "task": false
    }
   },
   "source": [
    "---\n",
    "### 1.4 Tokenization (3 points)\n",
    "\n",
    "We can now write some basic text processing functions. \n",
    "A first step is to tokenize the text. \n",
    "\n",
    "**Note**: Use the  `WordPunctTokenizer` available in the `nltk` library:"
   ]
  },
  {
   "cell_type": "code",
   "execution_count": 13,
   "metadata": {
    "deletable": false,
    "nbgrader": {
     "cell_type": "code",
     "checksum": "3f5564d3c75bf22fbf832b3a9b938f37",
     "grade": false,
     "grade_id": "cell-322be4c9499bdc4b",
     "locked": false,
     "schema_version": 3,
     "solution": true,
     "task": false
    }
   },
   "outputs": [],
   "source": [
    "# TODO: Implement this! (4 points)\n",
    "def tokenize(text):\n",
    "    \"\"\"\n",
    "        Tokenizes the input text. Use the WordPunctTokenizer\n",
    "        Input: text - a string\n",
    "        Output: a list of tokens\n",
    "    \"\"\"\n",
    "    # YOUR CODE HERE\n",
    "    return nltk.tokenize.WordPunctTokenizer().tokenize(text)\n",
    "    # raise NotImplementedError()"
   ]
  },
  {
   "cell_type": "code",
   "execution_count": 14,
   "metadata": {
    "deletable": false,
    "editable": false,
    "nbgrader": {
     "cell_type": "code",
     "checksum": "e15af22c4d8ae0a3f9dac43bef7097ec",
     "grade": true,
     "grade_id": "cell-7fbf48bf7541a622",
     "locked": true,
     "points": 3,
     "schema_version": 3,
     "solution": false,
     "task": false
    }
   },
   "outputs": [
    {
     "name": "stdout",
     "output_type": "stream",
     "text": [
      "['the', 'quick', 'brown', 'fox', 'jumps', 'over', 'the', 'lazy', 'dog']\n"
     ]
    }
   ],
   "source": [
    "##### Function check\n",
    "text = \"the quick brown fox jumps over the lazy dog\"\n",
    "tokens = tokenize(text)\n",
    "\n",
    "assert isinstance(tokens, list)\n",
    "assert len(tokens) == 9\n",
    "\n",
    "print(tokens)\n",
    "# output: ['the', 'quick', 'brown', 'fox', 'jumps', 'over', 'the', 'lazy', 'dog']\n",
    "#####"
   ]
  },
  {
   "cell_type": "markdown",
   "metadata": {
    "deletable": false,
    "editable": false,
    "nbgrader": {
     "cell_type": "markdown",
     "checksum": "34210618bff4cb47aad2f03cb4b9854c",
     "grade": false,
     "grade_id": "cell-fd1b98ae61b697ca",
     "locked": true,
     "schema_version": 3,
     "solution": false,
     "task": false
    }
   },
   "source": [
    "---\n",
    "### 1.5 Stemming (2 points)\n",
    "\n",
    "Write a function to stem tokens. \n",
    "Again, you can use the nltk library for this:"
   ]
  },
  {
   "cell_type": "code",
   "execution_count": 15,
   "metadata": {
    "deletable": false,
    "nbgrader": {
     "cell_type": "code",
     "checksum": "1c4a6aa979d66158c7b6b992af43293a",
     "grade": false,
     "grade_id": "cell-e3f6c8e3f874b28d",
     "locked": false,
     "schema_version": 3,
     "solution": true,
     "task": false
    }
   },
   "outputs": [],
   "source": [
    "# TODO: Implement this! (3 points)\n",
    "def stem_token(token):\n",
    "    \"\"\"\n",
    "        Stems the given token using the PorterStemmer from the nltk library\n",
    "        Input: a single token\n",
    "        Output: the stem of the token\n",
    "    \"\"\"\n",
    "    # YOUR CODE HERE\n",
    "    stemmer = nltk.stem.porter.PorterStemmer()\n",
    "    return stemmer.stem(token)\n",
    "    # raise NotImplementedError()"
   ]
  },
  {
   "cell_type": "code",
   "execution_count": 16,
   "metadata": {
    "deletable": false,
    "editable": false,
    "nbgrader": {
     "cell_type": "code",
     "checksum": "9363b4f09b556d424d9c895d4ab57b1c",
     "grade": true,
     "grade_id": "cell-cd6863e6ee6ed205",
     "locked": true,
     "points": 2,
     "schema_version": 3,
     "solution": false,
     "task": false
    }
   },
   "outputs": [],
   "source": [
    "##### Function check\n",
    "\n",
    "assert stem_token('owned') == 'own'\n",
    "assert stem_token('itemization') == 'item'\n",
    "#####"
   ]
  },
  {
   "cell_type": "markdown",
   "metadata": {
    "deletable": false,
    "editable": false,
    "nbgrader": {
     "cell_type": "markdown",
     "checksum": "0b311d014146da6afa1d39542fab9869",
     "grade": false,
     "grade_id": "cell-47c9f90498699110",
     "locked": true,
     "schema_version": 3,
     "solution": false,
     "task": false
    }
   },
   "source": [
    "---\n",
    "### 1.6 Summary\n",
    "\n",
    "The following function puts it all together. Given an input string, this functions tokenizes and processes it according to the flags that you set."
   ]
  },
  {
   "cell_type": "code",
   "execution_count": 17,
   "metadata": {
    "deletable": false,
    "editable": false,
    "nbgrader": {
     "cell_type": "code",
     "checksum": "2ff2d215ee8e0039c5a91fd3de12e6bd",
     "grade": false,
     "grade_id": "cell-dd0d3f46b30801da",
     "locked": true,
     "schema_version": 3,
     "solution": false,
     "task": false
    }
   },
   "outputs": [],
   "source": [
    "#### Putting it all together\n",
    "def process_text(text, stem=False, remove_stopwords=False, lowercase_text=False):\n",
    "    \n",
    "    tokens = []\n",
    "    for token in tokenize(text):\n",
    "        if remove_stopwords and token.lower() in stopwords:\n",
    "            continue\n",
    "        if stem:\n",
    "            token = stem_token(token)\n",
    "        if lowercase_text:\n",
    "            token = token.lower()\n",
    "        tokens.append(token)\n",
    "\n",
    "    return tokens\n",
    "#### "
   ]
  },
  {
   "cell_type": "markdown",
   "metadata": {
    "deletable": false,
    "editable": false,
    "nbgrader": {
     "cell_type": "markdown",
     "checksum": "02d433b18eb43654fa4306a7bf55b190",
     "grade": false,
     "grade_id": "cell-8d885bfd2edd43ae",
     "locked": true,
     "schema_version": 3,
     "solution": false,
     "task": false
    }
   },
   "source": [
    "---\n",
    "\n",
    "Let's create two sets of preprocessed documents.\n",
    "We can process the documents and queries according to these two configurations:"
   ]
  },
  {
   "cell_type": "code",
   "execution_count": 18,
   "metadata": {
    "deletable": false,
    "editable": false,
    "nbgrader": {
     "cell_type": "code",
     "checksum": "dbe4ca667be6842fdcf512fbcad50c7f",
     "grade": false,
     "grade_id": "cell-d427365ee0fb21d8",
     "locked": true,
     "schema_version": 3,
     "solution": false,
     "task": false
    }
   },
   "outputs": [],
   "source": [
    "# In this configuration:\n",
    "# Don't preprocess the text, except to tokenize \n",
    "config_1 = {\n",
    "  \"stem\": False,\n",
    "  \"remove_stopwords\" : False,\n",
    "  \"lowercase_text\": True\n",
    "} \n",
    "\n",
    "\n",
    "# In this configuration:\n",
    "# Preprocess the text, stem and remove stopwords\n",
    "config_2 = {\n",
    "  \"stem\": True,\n",
    "  \"remove_stopwords\" : True,\n",
    "  \"lowercase_text\": True, \n",
    "} \n",
    "\n",
    "####\n",
    "doc_repr_1 = []\n",
    "doc_repr_2 = []\n",
    "for (doc_id, document) in docs:\n",
    "    doc_repr_1.append((doc_id, process_text(document, **config_1)))\n",
    "    doc_repr_2.append((doc_id, process_text(document, **config_2)))\n",
    "\n",
    "####"
   ]
  },
  {
   "cell_type": "markdown",
   "metadata": {
    "deletable": false,
    "editable": false,
    "nbgrader": {
     "cell_type": "markdown",
     "checksum": "b60589aac19e80941d860d9b3f1e9a16",
     "grade": false,
     "grade_id": "cell-b1c102db61ae7495",
     "locked": true,
     "schema_version": 3,
     "solution": false,
     "task": false
    }
   },
   "source": [
    "--- \n",
    "\n",
    "## Section 2: Indexing (10 points)<a class=\"anchor\" id=\"indexing\"></a>\n",
    "\n",
    "[Back to Part 1](#part1)\n",
    "\n",
    "\n",
    "\n",
    "A retrieval function usually takes in a query document pair, and scores a query against a document.  Our document set is quite small - just a few thousand documents. However, consider a web-scale dataset with a few million documents. In such a scenario, it would become infeasible to score every query and document pair. In such a case, we can build an inverted index. From Wikipedia:\n",
    "\n",
    "> ... , an inverted index (also referred to as a postings file or inverted file) is a database index storing a mapping from content, such as words or numbers, to its locations in a table, .... The purpose of an inverted index is to allow fast full-text searches, at a cost of increased processing when a document is added to the database. ...\n",
    "\n",
    "\n",
    "Consider a simple inverted index, which maps from word to document. This can improve the performance of a retrieval system significantly. In this assignment, we consider a *simple* inverted index, which maps a word to a set of documents. In practice, however, more complex indices might be used.  \n"
   ]
  },
  {
   "cell_type": "markdown",
   "metadata": {
    "deletable": false,
    "editable": false,
    "nbgrader": {
     "cell_type": "markdown",
     "checksum": "710fd943f45523ac36fcb887cc0d4d39",
     "grade": false,
     "grade_id": "cell-fa373192c1b7bb95",
     "locked": true,
     "schema_version": 3,
     "solution": false,
     "task": false
    }
   },
   "source": [
    "### 2.1 Term Frequency-index (10 points)\n",
    "In this assignment, we will be using an index created in memory since our dataset is tiny. To get started, build a simple index that maps each `token` to a list of `(doc_id, count)` where `count` is the count of the `token` in `doc_id`.\n",
    "For consistency, build this index using a python dictionary.\n",
    "    \n",
    "Now, implement a function to build an index:"
   ]
  },
  {
   "cell_type": "code",
   "execution_count": 19,
   "metadata": {
    "deletable": false,
    "nbgrader": {
     "cell_type": "code",
     "checksum": "d4e8c6b658c469379d5fe511de05b536",
     "grade": false,
     "grade_id": "cell-077599b87e953209",
     "locked": false,
     "schema_version": 3,
     "solution": true,
     "task": false
    }
   },
   "outputs": [],
   "source": [
    "from collections import defaultdict\n",
    "\n",
    "# TODO: Implement this! (10 points)\n",
    "def build_tf_index(documents):\n",
    "    \"\"\"\n",
    "        Build an inverted index (with counts). The output is a dictionary which takes in a token\n",
    "        and returns a list of (doc_id, count) where 'count' is the count of the 'token' in 'doc_id'\n",
    "        Input: a list of documents - (doc_id, tokens) \n",
    "        Output: An inverted index implemented within a pyhton dictionary: [token] -> [(doc_id, token_count)]\n",
    "    \"\"\"\n",
    "    # YOUR CODE HERE\n",
    "    inv_index = defaultdict(list)\n",
    "    for doc_id, tokens in documents:\n",
    "      token_counts = {}\n",
    "      for token in tokens:\n",
    "        token_counts[token] = token_counts.get(token, 0) + 1\n",
    "\n",
    "      for token, count in token_counts.items():\n",
    "        if token not in inv_index.keys():\n",
    "          inv_index[token] = []\n",
    "  \n",
    "        inv_index[token].append((doc_id, count))\n",
    "    \n",
    "    return inv_index\n",
    "    # raise NotImplementedError()"
   ]
  },
  {
   "cell_type": "markdown",
   "metadata": {
    "deletable": false,
    "editable": false,
    "nbgrader": {
     "cell_type": "markdown",
     "checksum": "15e7041b4323d2a290322de538ff7670",
     "grade": false,
     "grade_id": "cell-093aebfa504f96f2",
     "locked": true,
     "schema_version": 3,
     "solution": false,
     "task": false
    }
   },
   "source": [
    "---\n",
    "Now we can build indexed documents and preprocess the queries based on the two configurations:"
   ]
  },
  {
   "cell_type": "code",
   "execution_count": 20,
   "metadata": {
    "deletable": false,
    "editable": false,
    "nbgrader": {
     "cell_type": "code",
     "checksum": "e27540c1d8d77a3779a05f557f3f40c6",
     "grade": false,
     "grade_id": "cell-b2ff1676348b90a8",
     "locked": true,
     "schema_version": 3,
     "solution": false,
     "task": false
    }
   },
   "outputs": [],
   "source": [
    "#### Indexed documents based on the two configs\n",
    "\n",
    "# Create the 2 indices\n",
    "tf_index_1 = build_tf_index(doc_repr_1)\n",
    "tf_index_2 = build_tf_index(doc_repr_2)\n",
    "\n",
    "# This function returns the tf_index of the corresponding config\n",
    "def get_index(index_set):\n",
    "    assert index_set in {1, 2}\n",
    "    return {\n",
    "        1: tf_index_1,\n",
    "        2: tf_index_2\n",
    "    }[index_set]\n",
    "\n",
    "####\n",
    "#### Preprocessed query based on the two configs\n",
    "\n",
    "# This function preprocesses the text given the index set, according to the specified config\n",
    "def preprocess_query(text, index_set):\n",
    "    assert index_set in {1, 2}\n",
    "    if index_set == 1:\n",
    "        return process_text(text, **config_1)\n",
    "    elif index_set == 2:\n",
    "        return process_text(text, **config_2)\n",
    "\n",
    "#### "
   ]
  },
  {
   "cell_type": "code",
   "execution_count": 21,
   "metadata": {
    "deletable": false,
    "editable": false,
    "nbgrader": {
     "cell_type": "code",
     "checksum": "f0cbc8703e1248cd6edf03f9019b69db",
     "grade": true,
     "grade_id": "cell-fc7c7232d5d2ee46",
     "locked": true,
     "points": 5,
     "schema_version": 3,
     "solution": false,
     "task": false
    }
   },
   "outputs": [
    {
     "name": "stdout",
     "output_type": "stream",
     "text": [
      "sample tf index for computer: [('4', 1), ('7', 1), ('10', 1), ('13', 1), ('19', 1), ('22', 1), ('23', 1), ('37', 1), ('40', 3), ('41', 1)]\n",
      "sample tf index for examples: [('111', 1), ('320', 1), ('644', 1), ('691', 1), ('727', 1), ('848', 1), ('892', 1), ('893', 1), ('1049', 1), ('1051', 1)]\n"
     ]
    }
   ],
   "source": [
    "##### Function check\n",
    "\n",
    "assert isinstance(tf_index_1, dict)\n",
    "\n",
    "assert isinstance(tf_index_1['computer'], list)\n",
    "print('sample tf index for computer:', tf_index_1['computer'][:10])\n",
    "\n",
    "assert isinstance(tf_index_1['examples'], list)\n",
    "print('sample tf index for examples:', tf_index_1['examples'][:10])\n",
    "#### "
   ]
  },
  {
   "cell_type": "code",
   "execution_count": 22,
   "metadata": {
    "deletable": false,
    "editable": false,
    "nbgrader": {
     "cell_type": "code",
     "checksum": "d49b8ac36815d9a5cb4bed838ab53a50",
     "grade": true,
     "grade_id": "cell-ff06bd11204db250",
     "locked": true,
     "points": 5,
     "schema_version": 3,
     "solution": false,
     "task": false
    }
   },
   "outputs": [
    {
     "name": "stdout",
     "output_type": "stream",
     "text": [
      "sample tf index for computer: [('4', 1), ('7', 1), ('10', 1), ('13', 1), ('19', 1), ('22', 1), ('23', 1), ('37', 1), ('40', 3), ('41', 1)]\n",
      "sample tf index for examples: []\n"
     ]
    }
   ],
   "source": [
    "##### Function check\n",
    "\n",
    "assert isinstance(tf_index_2, dict)\n",
    "\n",
    "assert isinstance(tf_index_2['computer'], list)\n",
    "print('sample tf index for computer:', tf_index_1['computer'][:10])\n",
    "\n",
    "assert isinstance(tf_index_2['examples'], list)\n",
    "print('sample tf index for examples:', tf_index_2['examples'][:10])\n",
    "#### "
   ]
  },
  {
   "cell_type": "markdown",
   "metadata": {
    "deletable": false,
    "editable": false,
    "nbgrader": {
     "cell_type": "markdown",
     "checksum": "880b2ef3ca405f2af6e0667d2dc7a600",
     "grade": false,
     "grade_id": "cell-89eba71f04310291",
     "locked": true,
     "schema_version": 3,
     "solution": false,
     "task": false
    }
   },
   "source": [
    "\n",
    "---\n",
    "## Section 3: Ranking  (80 points) <a class=\"anchor\" id=\"ranking\"></a>\n",
    "\n",
    "[Back to Part 1](#part1)\n",
    "\n",
    "Now that we have cleaned and processed our dataset, we can start building simple IR systems. \n",
    "\n",
    "For now, we consider *simple* IR systems, which involve computing scores from the tokens present in the document/query. More advanced methods are covered in later assignments.\n",
    "\n",
    "We will implement the following methods in this section:\n",
    "- [Section 3.1: Bag of Words](#bow) (10 points)\n",
    "- [Section 3.2: TF-IDF](#tfidf) (15 points)\n",
    "- [Section 3.3: Query Likelihood Model](#qlm) (35 points)\n",
    "- [Section 3.4: BM25](#bm25) (20 points)\n",
    "\n",
    "*All search functions should be able to handle multiple words queries.*\n",
    "\n",
    "**Scoring policy:**\n",
    "Your implementations in this section are scored based on the expected performance of your ranking functions.\n",
    "You will get a full mark if your implementation meets the expected performance (measured by some evaluation metric).\n",
    "Otherwise, you may get partial credit.\n",
    "For example, if your *Bag of words* ranking function has 60% of expected performance, you will get 6 out of 10."
   ]
  },
  {
   "cell_type": "markdown",
   "metadata": {
    "deletable": false,
    "editable": false,
    "nbgrader": {
     "cell_type": "markdown",
     "checksum": "6c74e5061917358300c6e8085ec07864",
     "grade": false,
     "grade_id": "cell-3daf70a60e393adf",
     "locked": true,
     "schema_version": 3,
     "solution": false,
     "task": false
    }
   },
   "source": [
    "--- \n",
    "\n",
    "### Section 3.1: Bag of Words (10 points)<a class=\"anchor\" id=\"bow\"></a>\n",
    "\n",
    "Probably the simplest IR model is the Bag of Words (BOW) model.\n",
    "Implement a function that scores and ranks all the documents against a query using this model.   \n",
    "\n",
    "- For consistency, you should use the count of the token and **not** the binary indicator.\n",
    "- Use `float` type for the scores (even though the scores are integers in this case).\n",
    "- No normalization of the scores is necessary, as the ordering is what we are interested in.\n",
    "- If two documents have the same score, they can have any ordering: you are not required to disambiguate.\n"
   ]
  },
  {
   "cell_type": "code",
   "execution_count": 23,
   "metadata": {
    "deletable": false,
    "nbgrader": {
     "cell_type": "code",
     "checksum": "fee4640e22bfc4f05eb958a675ef40e7",
     "grade": false,
     "grade_id": "cell-de9cf0459c4b9324",
     "locked": false,
     "schema_version": 3,
     "solution": true,
     "task": false
    }
   },
   "outputs": [],
   "source": [
    "# TODO: Implement this! (10 points)\n",
    "def bow_search(query, index_set):\n",
    "    \"\"\"\n",
    "        Perform a search over all documents with the given query. \n",
    "        Note: You have to use the `get_index` function created in the previous cells\n",
    "        Input: \n",
    "            query - a (unprocessed) query\n",
    "            index_set - the index to use\n",
    "        Output: a list of (document_id, score), sorted in descending relevance to the given query. \n",
    "    \"\"\"\n",
    "    index = get_index(index_set)\n",
    "    processed_query = preprocess_query(query, index_set)\n",
    "    \n",
    "    # YOUR CODE HERE\n",
    "    scores = {}\n",
    "    for token in processed_query:\n",
    "      if token in index.keys():\n",
    "        for doc_id, token_count in index[token]:\n",
    "          scores[doc_id] = scores.get(doc_id, 0) + token_count\n",
    "    \n",
    "    result = [(k,float(v)) for k, v in sorted(scores.items(), key=lambda item: item[1], reverse=True)]\n",
    "    return result\n",
    "    # raise NotImplementedError()"
   ]
  },
  {
   "cell_type": "code",
   "execution_count": 24,
   "metadata": {
    "deletable": false,
    "editable": false,
    "nbgrader": {
     "cell_type": "code",
     "checksum": "613524fbbf02b1d122c6611a71fbf11b",
     "grade": true,
     "grade_id": "cell-9f6aceae6dd9125f",
     "locked": true,
     "points": 2,
     "schema_version": 3,
     "solution": false,
     "task": false
    }
   },
   "outputs": [],
   "source": [
    "#### Function check\n",
    "\n",
    "test_bow = bow_search(\"how to implement bag of words search\", index_set=1)[:5]\n",
    "assert isinstance(test_bow, list)\n",
    "assert len(test_bow[0]) == 2\n",
    "assert isinstance(test_bow[0][0], str)\n",
    "assert isinstance(test_bow[0][1], float)\n",
    "\n",
    "#### "
   ]
  },
  {
   "cell_type": "code",
   "execution_count": 25,
   "metadata": {
    "deletable": false,
    "editable": false,
    "nbgrader": {
     "cell_type": "code",
     "checksum": "9af20897659edb62fe77598483590500",
     "grade": true,
     "grade_id": "cell-4eed3abf233d9b58",
     "locked": true,
     "points": 2,
     "schema_version": 3,
     "solution": false,
     "task": false
    }
   },
   "outputs": [
    {
     "name": "stdout",
     "output_type": "stream",
     "text": [
      "BOW Results:\n",
      "Rank 0(1.3e+01): On Computing The Fast Fourier Transform\\nCooley an...\n",
      "Rank 1(1.2e+01): Variable Length Tree Structures Having Minimum Ave...\n",
      "Rank 2(1.1e+01): A Modular Computer Sharing System\\nAn alternative ...\n",
      "Rank 3(1e+01): PEEKABIT, Computer Offspring of Punched\\nCard PEEK...\n",
      "Rank 4(9.0): Computer Simulation-Discussion of the\\nTechnique a...\n"
     ]
    }
   ],
   "source": [
    "\n",
    "docs_by_id = dict(docs)\n",
    "def print_results(docs, len_limit=50):    \n",
    "    for i, (doc_id, score) in enumerate(docs):\n",
    "        doc_content = docs_by_id[doc_id].strip().replace(\"\\n\", \"\\\\n\")[:len_limit] + \"...\"\n",
    "        print(f\"Rank {i}({score:.2}): {doc_content}\")\n",
    "\n",
    "test_bow_2 = bow_search(\"computer search word\", index_set=2)[:5]\n",
    "print(f\"BOW Results:\")\n",
    "print_results(test_bow_2)\n"
   ]
  },
  {
   "cell_type": "code",
   "execution_count": 26,
   "metadata": {
    "deletable": false,
    "editable": false,
    "nbgrader": {
     "cell_type": "code",
     "checksum": "3c9c8b16c8e7d1032f101e9da8a6e845",
     "grade": true,
     "grade_id": "cell-4d65a2d7090c466c",
     "locked": true,
     "points": 3,
     "schema_version": 3,
     "solution": false,
     "task": false
    }
   },
   "outputs": [
    {
     "name": "stdout",
     "output_type": "stream",
     "text": [
      "BOW Results:\n",
      "Rank 0(9.0): CURRICULUM 68 -- Recommendations for Academic\\nPro...\n",
      "Rank 1(9.0): Variable Length Tree Structures Having Minimum Ave...\n",
      "Rank 2(7.0): Computer Formulation of the Equations of Motion Us...\n",
      "Rank 3(7.0): The Effects of Multiplexing on a Computer-Communic...\n",
      "Rank 4(6.0): Optimizing Bit-time Computer Simulation\\nA major c...\n"
     ]
    }
   ],
   "source": [
    "\n",
    "test_bow_1 = bow_search(\"computer search word\", index_set=1)[:5]\n",
    "print(f\"BOW Results:\")\n",
    "print_results(test_bow_1)\n"
   ]
  },
  {
   "cell_type": "code",
   "execution_count": 27,
   "metadata": {
    "deletable": false,
    "editable": false,
    "nbgrader": {
     "cell_type": "code",
     "checksum": "b7e593847aa4202ae45ec061fb18ad73",
     "grade": true,
     "grade_id": "cell-dedf36ab5853ce20",
     "locked": true,
     "points": 3,
     "schema_version": 3,
     "solution": false,
     "task": false
    }
   },
   "outputs": [
    {
     "name": "stdout",
     "output_type": "stream",
     "text": [
      "top-5 docs for index1: ('1771', '1936', '1543', '2535', '678')\n",
      "top-5 docs for index2: ('1525', '1936', '1844', '1700', '1366')\n"
     ]
    }
   ],
   "source": [
    "print('top-5 docs for index1:', list(zip(*test_bow_1[:5]))[0])\n",
    "print('top-5 docs for index2:', list(zip(*test_bow_2[:5]))[0])\n"
   ]
  },
  {
   "cell_type": "markdown",
   "metadata": {
    "deletable": false,
    "editable": false,
    "nbgrader": {
     "cell_type": "markdown",
     "checksum": "b04352ee0716dfdf094b8cdb6f32e984",
     "grade": false,
     "grade_id": "cell-a5c09c79ac1f2871",
     "locked": true,
     "schema_version": 3,
     "solution": false,
     "task": false
    }
   },
   "source": [
    "\n",
    "---\n",
    "\n",
    "### Section 3.2: TF-IDF (15 points) <a class=\"anchor\" id=\"tfidf\"></a>\n",
    "\n",
    "Before we implement the tf-idf scoring functions, let's first write a function to compute the document frequencies of all words.  \n",
    "\n",
    "#### 3.2.1 Document frequency (5 points)\n",
    "Compute the document frequencies of all tokens in the collection. \n",
    "Your code should return a dictionary with tokens as its keys and the number of documents containing the token as values.\n",
    "For consistency, the values should have `int` type."
   ]
  },
  {
   "cell_type": "code",
   "execution_count": 28,
   "metadata": {
    "deletable": false,
    "nbgrader": {
     "cell_type": "code",
     "checksum": "5c53263cf4c0b0ffcaae08b91fc364cc",
     "grade": false,
     "grade_id": "cell-9a2369f32e864b8a",
     "locked": false,
     "schema_version": 3,
     "solution": true,
     "task": false
    }
   },
   "outputs": [],
   "source": [
    "# TODO: Implement this! (5 points)\n",
    "def compute_df(documents):\n",
    "    \"\"\"\n",
    "        Compute the document frequency of all terms in the vocabulary\n",
    "        Input: A list of documents\n",
    "        Output: A dictionary with {token: document frequency (int)}\n",
    "    \"\"\"\n",
    "    # YOUR CODE HERE\n",
    "    df_counts = {}\n",
    "    for tokens in documents:\n",
    "      visited_tokens = []\n",
    "      for token in tokens:\n",
    "        if token not in visited_tokens:\n",
    "          visited_tokens.append(token)\n",
    "          df_counts[token] = df_counts.get(token, 0) + 1\n",
    "\n",
    "    return df_counts\n",
    "    # raise NotImplementedError()"
   ]
  },
  {
   "cell_type": "code",
   "execution_count": 29,
   "metadata": {
    "deletable": false,
    "editable": false,
    "nbgrader": {
     "cell_type": "code",
     "checksum": "154985511d7925c5793a1f97dea81880",
     "grade": false,
     "grade_id": "cell-4c3bddd0b73ac90e",
     "locked": true,
     "schema_version": 3,
     "solution": false,
     "task": false
    }
   },
   "outputs": [],
   "source": [
    "#### Compute df based on the two configs\n",
    "\n",
    "# get the document frequencies of each document\n",
    "df_1 = compute_df([d[1] for d in doc_repr_1])\n",
    "df_2 = compute_df([d[1] for d in doc_repr_2])\n",
    "\n",
    "def get_df(index_set):\n",
    "    assert index_set in {1, 2}\n",
    "    return {\n",
    "        1: df_1,\n",
    "        2: df_2\n",
    "    }[index_set]\n",
    "####"
   ]
  },
  {
   "cell_type": "code",
   "execution_count": 30,
   "metadata": {
    "deletable": false,
    "editable": false,
    "nbgrader": {
     "cell_type": "code",
     "checksum": "110cc180068cf3f77c682ee3de2a117c",
     "grade": true,
     "grade_id": "cell-79e8a6db1e5fc46f",
     "locked": true,
     "points": 5,
     "schema_version": 3,
     "solution": false,
     "task": false
    }
   },
   "outputs": [
    {
     "name": "stdout",
     "output_type": "stream",
     "text": [
      "597\n",
      "11\n"
     ]
    }
   ],
   "source": [
    "#### Function check\n",
    "\n",
    "print(df_1['computer'])\n",
    "print(df_2['computer'])\n",
    "####"
   ]
  },
  {
   "cell_type": "markdown",
   "metadata": {
    "deletable": false,
    "editable": false,
    "nbgrader": {
     "cell_type": "markdown",
     "checksum": "d0d577668fa51b80aeab6e67209ae73b",
     "grade": false,
     "grade_id": "cell-52f6acc487e1b96d",
     "locked": true,
     "schema_version": 3,
     "solution": false,
     "task": false
    }
   },
   "source": [
    "---\n",
    "#### 3.2.2 TF-IDF search (10 points)\n",
    "Next, implement a function that computes a tf-idf score, given a query.\n",
    "Use the following formulas for TF and IDF:\n",
    "\n",
    "$$ TF=\\log (1 + f_{d,t}) $$\n",
    "\n",
    "$$ IDF=\\log (\\frac{N}{n_t})$$\n",
    "\n",
    "where $f_{d,t}$ is the frequency of token $t$ in document $d$, $N$ is the number of total documents and $n_t$ is the number of documents containing token $t$.\n",
    "\n",
    "**Note:** your implementation will be auto-graded assuming you have used the above formulas.\n"
   ]
  },
  {
   "cell_type": "code",
   "execution_count": 31,
   "metadata": {
    "deletable": false,
    "nbgrader": {
     "cell_type": "code",
     "checksum": "3534c44b4a3419ca1db98eebe7115dc1",
     "grade": false,
     "grade_id": "cell-2fb5ba34b2994cd9",
     "locked": false,
     "schema_version": 3,
     "solution": true,
     "task": false
    }
   },
   "outputs": [],
   "source": [
    "# TODO: Implement this! (10 points)\n",
    "def tfidf_search(query, index_set):\n",
    "    \"\"\"\n",
    "        Perform a search over all documents with the given query using tf-idf. \n",
    "        Note #1: You have to use the `get_index` (and the `get_df`) function created in the previous cells\n",
    "        Input: \n",
    "            query - a (unprocessed) query\n",
    "            index_set - the index to use\n",
    "        Output: a list of (document_id, score), sorted in descending relevance to the given query \n",
    "    \"\"\"\n",
    "    index = get_index(index_set)\n",
    "    df = get_df(index_set)\n",
    "    processed_query = preprocess_query(query, index_set)\n",
    "    \n",
    "    N = len(docs)\n",
    "    # YOUR CODE HERE\n",
    "    scores = {}\n",
    "    for token in processed_query:\n",
    "      if token in index.keys():\n",
    "        for doc_id, token_count in index[token]:\n",
    "          scores[doc_id] = scores.get(doc_id, 0) + (np.log(1 + token_count) * np.log(N/df[token]))\n",
    "    \n",
    "    result = [(k,float(v)) for k, v in sorted(scores.items(), key=lambda item: item[1], reverse=True)]\n",
    "    return result\n",
    "    # raise NotImplementedError()"
   ]
  },
  {
   "cell_type": "code",
   "execution_count": 32,
   "metadata": {
    "deletable": false,
    "editable": false,
    "nbgrader": {
     "cell_type": "code",
     "checksum": "7b66a514663d898694b09a23a597312b",
     "grade": true,
     "grade_id": "cell-bc68aeeacf42beb3",
     "locked": true,
     "points": 2,
     "schema_version": 3,
     "solution": false,
     "task": false
    }
   },
   "outputs": [],
   "source": [
    "\n",
    "#### Function check\n",
    "test_tfidf = tfidf_search(\"how to implement tf idf search\", index_set=1)[:5]\n",
    "assert isinstance(test_tfidf, list)\n",
    "assert len(test_tfidf[0]) == 2\n",
    "assert isinstance(test_tfidf[0][0], str)\n",
    "assert isinstance(test_tfidf[0][1], float)\n",
    "\n",
    "####"
   ]
  },
  {
   "cell_type": "code",
   "execution_count": 33,
   "metadata": {
    "deletable": false,
    "editable": false,
    "nbgrader": {
     "cell_type": "code",
     "checksum": "98fb1326cf4bf7983ae237ca8a9105f9",
     "grade": true,
     "grade_id": "cell-c7702fa8179fadb9",
     "locked": true,
     "points": 2,
     "schema_version": 3,
     "solution": false,
     "task": false
    }
   },
   "outputs": [
    {
     "name": "stdout",
     "output_type": "stream",
     "text": [
      "TFIDF Results:\n",
      "Rank 0(1.3e+01): PEEKABIT, Computer Offspring of Punched\\nCard PEEK...\n",
      "Rank 1(9.8): Variable Length Tree Structures Having Minimum Ave...\n",
      "Rank 2(8.2): A Stochastic Approach to the Grammatical Coding of...\n",
      "Rank 3(8.1): Full Table Quadratic Searching for Scatter Storage...\n",
      "Rank 4(7.6): Use of Tree Structures for Processing Files\\nIn da...\n"
     ]
    }
   ],
   "source": [
    "\n",
    "test_tfidf_2 = tfidf_search(\"computer word search\", index_set=2)[:5]\n",
    "print(f\"TFIDF Results:\")\n",
    "print_results(test_tfidf_2)\n"
   ]
  },
  {
   "cell_type": "code",
   "execution_count": 34,
   "metadata": {
    "deletable": false,
    "editable": false,
    "nbgrader": {
     "cell_type": "code",
     "checksum": "733b5b67be5e53989f5b763ce5e52ee9",
     "grade": true,
     "grade_id": "cell-3284f50ac29abbaa",
     "locked": true,
     "points": 3,
     "schema_version": 3,
     "solution": false,
     "task": false
    }
   },
   "outputs": [
    {
     "name": "stdout",
     "output_type": "stream",
     "text": [
      "TFIDF Results:\n",
      "Rank 0(9.4): Variable Length Tree Structures Having Minimum Ave...\n",
      "Rank 1(7.4): On the Feasibility of Voice Input to\\nan On-line C...\n",
      "Rank 2(7.3): Median Split Trees: A Fast Lookup Technique for Fr...\n",
      "Rank 3(7.0): Execution Time Requirements for Encipherment Progr...\n",
      "Rank 4(7.0): Storage and Search Properties of a Tree-Organized ...\n"
     ]
    }
   ],
   "source": [
    "\n",
    "test_tfidf_1 = tfidf_search(\"computer word search\", index_set=1)[:5]\n",
    "print(f\"TFIDF Results:\")\n",
    "print_results(test_tfidf_1)\n"
   ]
  },
  {
   "cell_type": "code",
   "execution_count": 35,
   "metadata": {
    "deletable": false,
    "editable": false,
    "nbgrader": {
     "cell_type": "code",
     "checksum": "e0edb37a5ae807a2de85d578c87ccb78",
     "grade": true,
     "grade_id": "cell-d908c80a3155354b",
     "locked": true,
     "points": 3,
     "schema_version": 3,
     "solution": false,
     "task": false
    }
   },
   "outputs": [
    {
     "name": "stdout",
     "output_type": "stream",
     "text": [
      "top-5 docs for index1 with BOW search: ('1771', '1936', '1543', '2535', '678')\n",
      "top-5 docs for index2 with BOW search: ('1525', '1936', '1844', '1700', '1366')\n",
      "top-5 docs for index1 with TF-IDF search: ('1936', '2054', '3041', '2620', '944')\n",
      "top-5 docs for index2 with TF-IDF search: ('1700', '1936', '1235', '2018', '849')\n"
     ]
    }
   ],
   "source": [
    "\n",
    "print('top-5 docs for index1 with BOW search:', list(zip(*test_bow_1[:5]))[0])\n",
    "print('top-5 docs for index2 with BOW search:', list(zip(*test_bow_2[:5]))[0])\n",
    "print('top-5 docs for index1 with TF-IDF search:', list(zip(*test_tfidf_1[:5]))[0])\n",
    "print('top-5 docs for index2 with TF-IDF search:', list(zip(*test_tfidf_2[:5]))[0])\n",
    "\n"
   ]
  },
  {
   "cell_type": "markdown",
   "metadata": {
    "deletable": false,
    "editable": false,
    "nbgrader": {
     "cell_type": "markdown",
     "checksum": "cdffc83f0eaea937cf64a212e7e9af8d",
     "grade": false,
     "grade_id": "cell-f5d923459ba21733",
     "locked": true,
     "schema_version": 3,
     "solution": false,
     "task": false
    }
   },
   "source": [
    "--- \n",
    "\n",
    "### Section 3.3: Query Likelihood Model (35 points) <a class=\"anchor\" id=\"qlm\"></a>\n",
    "\n",
    "In this section, you will implement a simple query likelihood model. \n",
    "\n",
    "\n",
    "#### 3.3.1 Naive QL (15 points)\n",
    "\n",
    "First, let us implement a naive version of a QL model, assuming a multinomial unigram language model (with a uniform prior over the documents). \n",
    "\n"
   ]
  },
  {
   "cell_type": "code",
   "execution_count": 36,
   "metadata": {
    "deletable": false,
    "editable": false,
    "nbgrader": {
     "cell_type": "code",
     "checksum": "b7ae2b7d818b428b4638c1c9206d2aca",
     "grade": false,
     "grade_id": "cell-98505778f7b68e7f",
     "locked": true,
     "schema_version": 3,
     "solution": false,
     "task": false
    }
   },
   "outputs": [],
   "source": [
    "#### Document length for normalization\n",
    "\n",
    "def doc_lengths(documents):\n",
    "    doc_lengths = {doc_id:len(doc) for (doc_id, doc) in documents}\n",
    "    return doc_lengths\n",
    "\n",
    "doc_lengths_1 = doc_lengths(doc_repr_1)\n",
    "doc_lengths_2 = doc_lengths(doc_repr_2)\n",
    "\n",
    "def get_doc_lengths(index_set):\n",
    "    assert index_set in {1, 2}\n",
    "    return {\n",
    "        1: doc_lengths_1,\n",
    "        2: doc_lengths_2\n",
    "    }[index_set]\n",
    "####"
   ]
  },
  {
   "cell_type": "code",
   "execution_count": 37,
   "metadata": {
    "deletable": false,
    "nbgrader": {
     "cell_type": "code",
     "checksum": "cedd08303a914243fefdb6b876977ca1",
     "grade": false,
     "grade_id": "cell-8bcf2b804d636c2e",
     "locked": false,
     "schema_version": 3,
     "solution": true,
     "task": false
    }
   },
   "outputs": [],
   "source": [
    "# TODO: Implement this! (15 points)\n",
    "def naive_ql_search(query, index_set):\n",
    "    \"\"\"\n",
    "        Perform a search over all documents with the given query using a naive QL model. \n",
    "        Note #1: You have to use the `get_index` (and get_doc_lengths) function created in the previous cells\n",
    "        Input: \n",
    "            query - a (unprocessed) query\n",
    "            index_set - the index to use\n",
    "        Output: a list of (document_id, score), sorted in descending relevance to the given query \n",
    "    \"\"\"\n",
    "    index = get_index(index_set)\n",
    "    doc_lengths = get_doc_lengths(index_set)\n",
    "    processed_query = preprocess_query(query, index_set)\n",
    "    # YOUR CODE HERE\n",
    "    # loop over documents\n",
    "    ranking = {}\n",
    "    for token in processed_query:\n",
    "        if not index[token]:\n",
    "            continue\n",
    "        freqs = {doc: freq for doc, freq in index[token]}\n",
    "        for doc, length in doc_lengths.items():\n",
    "            if doc in freqs:\n",
    "                ranking[doc] = ranking.get(doc, 1.)*(freqs[doc]/length)\n",
    "            else:\n",
    "                ranking[doc] = ranking.get(doc, 1.)*0.0\n",
    "\n",
    "    # sort ranking result\n",
    "    ranking = [(k, v) for k,v in ranking.items()]\n",
    "    ranking.sort(key=lambda x: x[1], reverse=True)\n",
    "\n",
    "    return ranking\n",
    "    # raise NotImplementedError()"
   ]
  },
  {
   "cell_type": "code",
   "execution_count": 38,
   "metadata": {
    "deletable": false,
    "editable": false,
    "nbgrader": {
     "cell_type": "code",
     "checksum": "b550d15bdad28354c336020a00c33d56",
     "grade": true,
     "grade_id": "cell-5a83ac12ecde8578",
     "locked": true,
     "points": 3,
     "schema_version": 3,
     "solution": false,
     "task": false
    }
   },
   "outputs": [
    {
     "name": "stdout",
     "output_type": "stream",
     "text": [
      "Naive QL Results:\n",
      "Rank 0(0.2): A Report Writer For COBOL...\n",
      "Rank 1(0.2): A CRT Report Generating System...\n",
      "Rank 2(0.17): Preliminary Report-International Algebraic Languag...\n",
      "Rank 3(0.17): Supplement to the ALGOL 60 Report...\n",
      "Rank 4(0.14): ALGOL Sub-Committee Report - Extensions...\n"
     ]
    }
   ],
   "source": [
    "#### Function check\n",
    "test_naiveql = naive_ql_search(\"report\", index_set=1)[:5]\n",
    "print(f\"Naive QL Results:\")\n",
    "print_results(test_naiveql)\n",
    "####"
   ]
  },
  {
   "cell_type": "code",
   "execution_count": 39,
   "metadata": {
    "deletable": false,
    "editable": false,
    "nbgrader": {
     "cell_type": "code",
     "checksum": "799df1d81c63fe90edbb6c218fc707fb",
     "grade": true,
     "grade_id": "cell-80f4bf2137f997bb",
     "locked": true,
     "points": 2,
     "schema_version": 3,
     "solution": false,
     "task": false
    }
   },
   "outputs": [],
   "source": [
    "#### Please do not change this. This cell is used for grading."
   ]
  },
  {
   "cell_type": "code",
   "execution_count": 40,
   "metadata": {
    "deletable": false,
    "editable": false,
    "nbgrader": {
     "cell_type": "code",
     "checksum": "875a4a517d27e20625d41783cebec118",
     "grade": true,
     "grade_id": "cell-5ce2993458a8ce51",
     "locked": true,
     "points": 3,
     "schema_version": 3,
     "solution": false,
     "task": false
    }
   },
   "outputs": [],
   "source": [
    "#### Please do not change this. This cell is used for grading."
   ]
  },
  {
   "cell_type": "code",
   "execution_count": 41,
   "metadata": {
    "deletable": false,
    "editable": false,
    "nbgrader": {
     "cell_type": "code",
     "checksum": "d5c4e1c3852e71a46f32825b122f1b71",
     "grade": true,
     "grade_id": "cell-7753bdb54e292f3d",
     "locked": true,
     "points": 3,
     "schema_version": 3,
     "solution": false,
     "task": false
    }
   },
   "outputs": [],
   "source": [
    "#### Please do not change this. This cell is used for grading."
   ]
  },
  {
   "cell_type": "code",
   "execution_count": 42,
   "metadata": {
    "deletable": false,
    "editable": false,
    "nbgrader": {
     "cell_type": "code",
     "checksum": "c4d4332d4356e89ce0240f6b80e1899a",
     "grade": true,
     "grade_id": "cell-54e476e2f96e64bb",
     "locked": true,
     "points": 4,
     "schema_version": 3,
     "solution": false,
     "task": false
    }
   },
   "outputs": [],
   "source": [
    "#### Please do not change this. This cell is used for grading."
   ]
  },
  {
   "cell_type": "markdown",
   "metadata": {
    "deletable": false,
    "editable": false,
    "nbgrader": {
     "cell_type": "markdown",
     "checksum": "8d739dc91a22bd48897f603885f95a74",
     "grade": false,
     "grade_id": "cell-5414dfd69dab8b94",
     "locked": true,
     "schema_version": 3,
     "solution": false,
     "task": false
    }
   },
   "source": [
    "---\n",
    "#### 3.3.2 QL (20 points)\n",
    "Now, let's implement a QL model that handles the issues with the naive version. In particular, you will implement a QL model with Jelinek-Mercer Smoothing. That means an interpolated score is computed per word - one term is the same as the previous naive version, and the second term comes from a unigram language model. In addition, you should accumulate the scores by summing the **log** (smoothed) probability which leads to better numerical stability."
   ]
  },
  {
   "cell_type": "code",
   "execution_count": 43,
   "metadata": {
    "deletable": false,
    "nbgrader": {
     "cell_type": "code",
     "checksum": "b8c6abf937ad333e628f1db891f2e29e",
     "grade": false,
     "grade_id": "cell-bb1f506409771257",
     "locked": false,
     "schema_version": 3,
     "solution": true,
     "task": false
    }
   },
   "outputs": [],
   "source": [
    "# TODO: Implement this! (20 points)\n",
    "\n",
    "# YOUR CODE HERE\n",
    "# raise NotImplementedError()\n",
    "\n",
    "def ql_search(query, index_set):\n",
    "    \"\"\"\n",
    "        Perform a search over all documents with the given query using a QL model \n",
    "        with Jelinek-Mercer Smoothing (set smoothing=0.1). \n",
    "        \n",
    "        \n",
    "        Note #1: You have to use the `get_index` (and get_doc_lengths) function created in the previous cells\n",
    "        Note #2: You might have to create some variables beforehand and use them in this function\n",
    "        \n",
    "        \n",
    "        Input: \n",
    "            query - a (unprocessed) query\n",
    "            index_set - the index to use\n",
    "        Output: a list of (document_id, score), sorted in descending relevance to the given query \n",
    "    \"\"\"\n",
    "    index = get_index(index_set)\n",
    "    doc_lengths = get_doc_lengths(index_set)\n",
    "    processed_query = preprocess_query(query, index_set)\n",
    "    \n",
    "    # YOUR CODE HERE\n",
    "        # hard-coding smoothing because I don't want to break any tests\n",
    "    # adding it as an argument of the function would definitely be better\n",
    "    smooth = 0.1\n",
    "\n",
    "    # build total counts of words\n",
    "    corpus_len = np.sum(list(doc_lengths.values()))\n",
    "\n",
    "    # loop over documents\n",
    "    ranking = {} \n",
    "    for token in processed_query:\n",
    "      if not index[token]:\n",
    "        continue\n",
    "      token_n = 0\n",
    "      freqs = {}\n",
    "      for doc, val in index[token]:\n",
    "        freqs[doc] = val\n",
    "        token_n += val\n",
    "      for doc, l in doc_lengths.items():\n",
    "        if doc in freqs:\n",
    "          count = freqs[doc]\n",
    "        else:\n",
    "          count = 0\n",
    "        likelihood = np.log((1-smooth)*(count/l) + smooth*(token_n/corpus_len))\n",
    "        ranking[doc] = ranking.get(doc, 0.0) + likelihood\n",
    "\n",
    "    # sort ranking result\n",
    "    ranking = [(k, v) for k,v in ranking.items()]\n",
    "    ranking.sort(key=lambda x: x[1], reverse=True)\n",
    "\n",
    "    return ranking\n",
    "    # raise NotImplementedError()\n",
    "    "
   ]
  },
  {
   "cell_type": "code",
   "execution_count": 44,
   "metadata": {
    "deletable": false,
    "editable": false,
    "nbgrader": {
     "cell_type": "code",
     "checksum": "0b12a7f3355193a257fd9f5f69a66562",
     "grade": true,
     "grade_id": "cell-850e9d6369bcec32",
     "locked": true,
     "points": 4,
     "schema_version": 3,
     "solution": false,
     "task": false
    }
   },
   "outputs": [
    {
     "name": "stdout",
     "output_type": "stream",
     "text": [
      "Rank 0(-1.7): A Report Writer For COBOL...\n",
      "Rank 1(-1.7): A CRT Report Generating System...\n",
      "Rank 2(-1.9): Preliminary Report-International Algebraic Languag...\n",
      "Rank 3(-1.9): Supplement to the ALGOL 60 Report...\n",
      "Rank 4(-2.1): ALGOL Sub-Committee Report - Extensions...\n",
      "\n",
      "Rank 0(-1.7e+01): A Report Writer For COBOL...\n",
      "Rank 1(-1.7e+01): A CRT Report Generating System...\n",
      "Rank 2(-1.9e+01): Preliminary Report-International Algebraic Languag...\n",
      "Rank 3(-1.9e+01): Supplement to the ALGOL 60 Report...\n",
      "Rank 4(-2.1e+01): ALGOL Sub-Committee Report - Extensions...\n"
     ]
    }
   ],
   "source": [
    "#### Function check\n",
    "test_ql_results = ql_search(\"report\", index_set=1)[:5]\n",
    "print_results(test_ql_results)\n",
    "print()\n",
    "test_ql_results_long = ql_search(\"report \" * 10, index_set=1)[:5]\n",
    "print_results(test_ql_results_long)\n",
    "####"
   ]
  },
  {
   "cell_type": "code",
   "execution_count": 45,
   "metadata": {
    "deletable": false,
    "editable": false,
    "nbgrader": {
     "cell_type": "code",
     "checksum": "e40be645140389c115849856145f5b59",
     "grade": true,
     "grade_id": "cell-958cdcf6fd6899b7",
     "locked": true,
     "points": 3,
     "schema_version": 3,
     "solution": false,
     "task": false
    }
   },
   "outputs": [],
   "source": [
    "#### Please do not change this. This cell is used for grading."
   ]
  },
  {
   "cell_type": "code",
   "execution_count": 46,
   "metadata": {
    "deletable": false,
    "editable": false,
    "nbgrader": {
     "cell_type": "code",
     "checksum": "41d4aff001df17e7963ba79b45810b30",
     "grade": true,
     "grade_id": "cell-384dc23a0c251f6e",
     "locked": true,
     "points": 4,
     "schema_version": 3,
     "solution": false,
     "task": false
    }
   },
   "outputs": [],
   "source": [
    "#### Please do not change this. This cell is used for grading."
   ]
  },
  {
   "cell_type": "code",
   "execution_count": 47,
   "metadata": {
    "deletable": false,
    "editable": false,
    "nbgrader": {
     "cell_type": "code",
     "checksum": "893e8c5a073abc8ebb763d267b91bc02",
     "grade": true,
     "grade_id": "cell-7218966cba5097cc",
     "locked": true,
     "points": 4,
     "schema_version": 3,
     "solution": false,
     "task": false
    }
   },
   "outputs": [],
   "source": [
    "#### Please do not change this. This cell is used for grading."
   ]
  },
  {
   "cell_type": "code",
   "execution_count": 48,
   "metadata": {
    "deletable": false,
    "editable": false,
    "nbgrader": {
     "cell_type": "code",
     "checksum": "f99cb6f8b1f5830aaed8f06712ff846e",
     "grade": true,
     "grade_id": "cell-481ab073259ae53f",
     "locked": true,
     "points": 5,
     "schema_version": 3,
     "solution": false,
     "task": false
    }
   },
   "outputs": [],
   "source": [
    "#### Please do not change this. This cell is used for grading."
   ]
  },
  {
   "cell_type": "markdown",
   "metadata": {
    "deletable": false,
    "editable": false,
    "nbgrader": {
     "cell_type": "markdown",
     "checksum": "c02f14705d679579b1aa9f78f54779d5",
     "grade": false,
     "grade_id": "cell-f44088bfdac1dc90",
     "locked": true,
     "schema_version": 3,
     "solution": false,
     "task": false
    }
   },
   "source": [
    "--- \n",
    "\n",
    "### Section 3.4: BM25 (20 points) <a class=\"anchor\" id=\"bm25\"></a>\n",
    "\n",
    "In this section, we will implement the BM25 scoring function. \n"
   ]
  },
  {
   "cell_type": "code",
   "execution_count": 49,
   "metadata": {
    "deletable": false,
    "nbgrader": {
     "cell_type": "code",
     "checksum": "e57efe06ea92af1c83784a42eb3d86e0",
     "grade": false,
     "grade_id": "cell-15640fc9b5d00a3c",
     "locked": false,
     "schema_version": 3,
     "solution": true,
     "task": false
    }
   },
   "outputs": [],
   "source": [
    "# TODO: Implement this! (20 points)\n",
    "def bm25_search(query, index_set):\n",
    "    \"\"\"\n",
    "        Perform a search over all documents with the given query using BM25. Use k_1 = 1.5 and b = 0.75\n",
    "        Note #1: You have to use the `get_index` (and `get_doc_lengths`) function created in the previous cells\n",
    "        Note #2: You might have to create some variables beforehand and use them in this function\n",
    "        \n",
    "        Input: \n",
    "            query - a (unprocessed) query\n",
    "            index_set - the index to use\n",
    "        Output: a list of (document_id, score), sorted in descending relevance to the given query \n",
    "    \"\"\"\n",
    "    \n",
    "    index = get_index(index_set)\n",
    "    df = get_df(index_set)\n",
    "    doc_lengths = get_doc_lengths(index_set)\n",
    "    processed_query = preprocess_query(query, index_set)\n",
    "    \n",
    "    # YOUR CODE HERE\n",
    "    k_1 = 1.5\n",
    "    b = 0.75 \n",
    "    N = len(doc_lengths)\n",
    "    dl_avg = sum(doc_lengths.values()) / N\n",
    "    bm25_scores = {}\n",
    "\n",
    "    for token in processed_query:\n",
    "      if token in index.keys():\n",
    "        for doc_id, token_count in index[token]:\n",
    "          bm25_scores[doc_id] = bm25_scores.get(doc_id, 0) + (np.log(N/df[token]) * (k_1 + 1) * token_count) / (k_1 * ((1-b) + b * (doc_lengths[doc_id] / dl_avg)) + token_count) \n",
    "\n",
    "    bm25_scores_list = [(k,float(v)) for k, v in sorted(bm25_scores.items(), key=lambda item: item[1], reverse=True)]\n",
    "    return bm25_scores_list\n",
    "    # raise NotImplementedError()"
   ]
  },
  {
   "cell_type": "code",
   "execution_count": 50,
   "metadata": {
    "deletable": false,
    "editable": false,
    "nbgrader": {
     "cell_type": "code",
     "checksum": "4be9de5d4e94637960d83725422bea6c",
     "grade": true,
     "grade_id": "cell-d10536bca72c74b1",
     "locked": true,
     "points": 3,
     "schema_version": 3,
     "solution": false,
     "task": false
    }
   },
   "outputs": [
    {
     "name": "stdout",
     "output_type": "stream",
     "text": [
      "Rank 0(6.7): A Report Writer For COBOL...\n",
      "Rank 1(6.7): A CRT Report Generating System...\n",
      "Rank 2(6.6): Preliminary Report-International Algebraic Languag...\n",
      "Rank 3(6.6): Supplement to the ALGOL 60 Report...\n",
      "Rank 4(6.5): ALGOL Sub-Committee Report - Extensions...\n"
     ]
    }
   ],
   "source": [
    "#### Function check\n",
    "test_bm25_results = bm25_search(\"report\", index_set=1)[:5]\n",
    "print_results(test_bm25_results)\n",
    "####"
   ]
  },
  {
   "cell_type": "code",
   "execution_count": 51,
   "metadata": {
    "deletable": false,
    "editable": false,
    "nbgrader": {
     "cell_type": "code",
     "checksum": "31b550d6a46ae4f8ede88788799ac2b9",
     "grade": true,
     "grade_id": "cell-60f6ec5052712d79",
     "locked": true,
     "points": 5,
     "schema_version": 3,
     "solution": false,
     "task": false
    }
   },
   "outputs": [],
   "source": [
    "#### Please do not change this. This cell is used for grading."
   ]
  },
  {
   "cell_type": "code",
   "execution_count": 52,
   "metadata": {
    "deletable": false,
    "editable": false,
    "nbgrader": {
     "cell_type": "code",
     "checksum": "3da2ec16bfe781916e71755d65aa2983",
     "grade": true,
     "grade_id": "cell-5d17524043a5abcc",
     "locked": true,
     "points": 5,
     "schema_version": 3,
     "solution": false,
     "task": false
    }
   },
   "outputs": [],
   "source": [
    "#### Please do not change this. This cell is used for grading."
   ]
  },
  {
   "cell_type": "code",
   "execution_count": 53,
   "metadata": {
    "deletable": false,
    "editable": false,
    "nbgrader": {
     "cell_type": "code",
     "checksum": "e7b563d54fa84c20909c0ae107010541",
     "grade": true,
     "grade_id": "cell-ff8e704eda1184e3",
     "locked": true,
     "points": 3,
     "schema_version": 3,
     "solution": false,
     "task": false
    }
   },
   "outputs": [],
   "source": [
    "#### Please do not change this. This cell is used for grading."
   ]
  },
  {
   "cell_type": "code",
   "execution_count": 54,
   "metadata": {
    "deletable": false,
    "editable": false,
    "nbgrader": {
     "cell_type": "code",
     "checksum": "b013f90974b396630a8831d6f1d7e5f7",
     "grade": true,
     "grade_id": "cell-a52310500a2543cb",
     "locked": true,
     "points": 4,
     "schema_version": 3,
     "solution": false,
     "task": false
    }
   },
   "outputs": [],
   "source": [
    "#### Please do not change this. This cell is used for grading."
   ]
  },
  {
   "cell_type": "markdown",
   "metadata": {
    "deletable": false,
    "editable": false,
    "nbgrader": {
     "cell_type": "markdown",
     "checksum": "8fcf67cb7d5e8b26cb9bf1f0aa42c847",
     "grade": false,
     "grade_id": "cell-8b2b412c81d62f2d",
     "locked": true,
     "schema_version": 3,
     "solution": false,
     "task": false
    }
   },
   "source": [
    "\n",
    "---\n",
    "\n",
    "### 3.5. Test Your Functions\n",
    "\n",
    "The widget below allows you to play with the search functions you've written so far. Use this to test your search functions and ensure that they work as expected."
   ]
  },
  {
   "cell_type": "code",
   "execution_count": 55,
   "metadata": {
    "deletable": false,
    "editable": false,
    "nbgrader": {
     "cell_type": "code",
     "checksum": "dfeb204b390acc0794dbdcac92b0cf2c",
     "grade": false,
     "grade_id": "cell-c9c2bb76354e8d97",
     "locked": true,
     "schema_version": 3,
     "solution": false,
     "task": false
    }
   },
   "outputs": [],
   "source": [
    "#### Highlighter function\n",
    "# class for results\n",
    "ResultRow = namedtuple(\"ResultRow\", [\"doc_id\", \"snippet\", \"score\"])\n",
    "# doc_id -> doc\n",
    "docs_by_id = dict((d[0], d[1]) for d in docs)\n",
    "\n",
    "def highlight_text(document, query, tol=17):\n",
    "    import re\n",
    "    tokens = tokenize(query)\n",
    "    regex = \"|\".join(f\"(\\\\b{t}\\\\b)\" for t in tokens)\n",
    "    regex = re.compile(regex, flags=re.IGNORECASE)\n",
    "    output = \"\"\n",
    "    i = 0\n",
    "    for m in regex.finditer(document):\n",
    "        start_idx = max(0, m.start() - tol)\n",
    "        end_idx = min(len(document), m.end() + tol)\n",
    "        output += \"\".join([\"...\",\n",
    "                        document[start_idx:m.start()],\n",
    "                        \"<strong>\",\n",
    "                        document[m.start():m.end()],\n",
    "                        \"</strong>\",\n",
    "                        document[m.end():end_idx],\n",
    "                        \"...\"])\n",
    "    return output.replace(\"\\n\", \" \")\n",
    "\n",
    "\n",
    "def make_results(query, search_fn, index_set):\n",
    "    results = []\n",
    "    for doc_id, score in search_fn(query, index_set):\n",
    "        highlight = highlight_text(docs_by_id[doc_id], query)\n",
    "        if len(highlight.strip()) == 0:\n",
    "            highlight = docs_by_id[doc_id]\n",
    "        results.append(ResultRow(doc_id, highlight, score))\n",
    "    return results\n",
    "####"
   ]
  },
  {
   "cell_type": "code",
   "execution_count": 56,
   "metadata": {},
   "outputs": [
    {
     "data": {
      "application/vnd.jupyter.widget-view+json": {
       "model_id": "ae48ef0573804427bef8f1dc7ce31d56",
       "version_major": 2,
       "version_minor": 0
      },
      "text/plain": [
       "Text(value='', description='Search Bar')"
      ]
     },
     "metadata": {},
     "output_type": "display_data"
    }
   ],
   "source": [
    "# TODO: Set this to the function you want to test!\n",
    "# this function should take in a query (string)\n",
    "# and return a sorted list of (doc_id, score) \n",
    "# with the most relevant document in the first position\n",
    "search_fn = bm25_search\n",
    "index_set = 1\n",
    "\n",
    "text = widgets.Text(description=\"Search Bar\", width=200)\n",
    "display(text)\n",
    "\n",
    "def handle_submit(sender):\n",
    "    print(f\"Searching for: '{sender.value}'\")\n",
    "    \n",
    "    results = make_results(sender.value, search_fn, index_set)\n",
    "    \n",
    "    # display only the top 5\n",
    "    results = results[:5]\n",
    "    \n",
    "    body = \"\"\n",
    "    for idx, r in enumerate(results):\n",
    "        body += f\"<li>Document #{r.doc_id}({r.score}): {r.snippet}</li>\"\n",
    "    display(HTML(f\"<ul>{body}</ul>\"))\n",
    "    \n",
    "\n",
    "text.on_submit(handle_submit)"
   ]
  },
  {
   "cell_type": "markdown",
   "metadata": {
    "deletable": false,
    "editable": false,
    "nbgrader": {
     "cell_type": "markdown",
     "checksum": "019b1ff878dc6339dd068e2d48d19904",
     "grade": false,
     "grade_id": "cell-8d46fe8e4f3d8cdb",
     "locked": true,
     "schema_version": 3,
     "solution": false,
     "task": false
    }
   },
   "source": [
    "---\n",
    "\n",
    "## Section 4: Evaluation (40 points) <a class=\"anchor\" id=\"evaluation\"></a>\n",
    "\n",
    "[Back to Part 1](#part1)\n",
    "\n",
    "In order to analyze the effectiveness of retrieval algorithms, we first have to learn how to evaluate such a system. In particular, we will work with offline evaluation metrics. These metrics are computed on a dataset with known relevance judgements.\n",
    "\n",
    "Implement the following evaluation metrics. \n",
    "\n",
    "1. Precision (7 points)\n",
    "2. Recall (7 points)\n",
    "3. Mean Average Precision (13 points)\n",
    "4. Expected Reciprocal Rank (13 points)"
   ]
  },
  {
   "cell_type": "markdown",
   "metadata": {
    "deletable": false,
    "editable": false,
    "nbgrader": {
     "cell_type": "markdown",
     "checksum": "e46f54c7f81d88bbc950b0fae14c4ca5",
     "grade": false,
     "grade_id": "cell-3419fd3bc663d7cc",
     "locked": true,
     "schema_version": 3,
     "solution": false,
     "task": false
    }
   },
   "source": [
    "---\n",
    "### 4.1 Read relevance labels\n",
    "\n",
    "Let's take a look at the `qrels.text` file, which contains the ground truth relevance scores. The relevance labels for CACM are binary - either 0 or 1. \n"
   ]
  },
  {
   "cell_type": "code",
   "execution_count": 57,
   "metadata": {
    "deletable": false,
    "editable": false,
    "nbgrader": {
     "cell_type": "code",
     "checksum": "6c11025f5a222796f2882c73c1634799",
     "grade": false,
     "grade_id": "cell-6b738366059dde9e",
     "locked": true,
     "schema_version": 3,
     "solution": false,
     "task": false
    }
   },
   "outputs": [
    {
     "name": "stdout",
     "output_type": "stream",
     "text": [
      "01 1410  0 0\n",
      "01 1572  0 0\n",
      "01 1605  0 0\n",
      "01 2020  0 0\n",
      "01 2358  0 0\n",
      "02 2434  0 0\n",
      "02 2863  0 0\n",
      "02 3078  0 0\n",
      "03 1134  0 0\n",
      "03 1613  0 0\n"
     ]
    }
   ],
   "source": [
    "!head ./datasets/qrels.text"
   ]
  },
  {
   "cell_type": "markdown",
   "metadata": {
    "deletable": false,
    "editable": false,
    "nbgrader": {
     "cell_type": "markdown",
     "checksum": "7ce95245c1597183320d7254afde5c8e",
     "grade": false,
     "grade_id": "cell-10e16bff2753ffbb",
     "locked": true,
     "schema_version": 3,
     "solution": false,
     "task": false
    }
   },
   "source": [
    "---\n",
    "\n",
    "The first column is the query_id and the second column is the document_id. We can safely ignore the 3rd and 4th columns."
   ]
  },
  {
   "cell_type": "code",
   "execution_count": 58,
   "metadata": {
    "deletable": false,
    "nbgrader": {
     "cell_type": "code",
     "checksum": "000c6d59dce08dba0ba1e8d691dbbc2e",
     "grade": false,
     "grade_id": "cell-ee5253a4ef602fce",
     "locked": false,
     "schema_version": 3,
     "solution": true,
     "task": false
    }
   },
   "outputs": [],
   "source": [
    "# YOUR CODE HERE\n",
    "def read_qrels(root_folder = \"./datasets/\"):\n",
    "    \"\"\"\n",
    "        Reads the qrels.text file. \n",
    "        Output: A dictionary: query_id -> [list of relevant documents]\n",
    "    \"\"\"\n",
    "    with open(os.path.join(root_folder, \"qrels.text\")) as reader:\n",
    "        lines = reader.readlines()\n",
    "    \n",
    "    relevant_docs = defaultdict(set)\n",
    "    for line in lines:\n",
    "        query_id, doc_id, _, _ = line.split()\n",
    "        relevant_docs[str(int(query_id))].add(doc_id)\n",
    "    return relevant_docs\n",
    "# raise NotImplementedError()\n"
   ]
  },
  {
   "cell_type": "code",
   "execution_count": 59,
   "metadata": {
    "deletable": false,
    "editable": false,
    "nbgrader": {
     "cell_type": "code",
     "checksum": "d60caeba85c2a97d2211184a5ae91fd1",
     "grade": false,
     "grade_id": "cell-72215605fbe24f65",
     "locked": true,
     "schema_version": 3,
     "solution": false,
     "task": false
    }
   },
   "outputs": [],
   "source": [
    "#### Function check\n",
    "qrels = read_qrels()\n",
    "\n",
    "assert len(qrels) == 52, \"There should be 52 queries with relevance judgements\"\n",
    "assert sum(len(j) for j in qrels.values()) == 796, \"There should be a total of 796 Relevance Judgements\"\n",
    "\n",
    "assert np.min(np.array([len(j) for j in qrels.values()])) == 1\n",
    "assert np.max(np.array([len(j) for j in qrels.values()])) == 51\n",
    "\n",
    "####"
   ]
  },
  {
   "cell_type": "markdown",
   "metadata": {
    "deletable": false,
    "editable": false,
    "nbgrader": {
     "cell_type": "markdown",
     "checksum": "6c9e7428a52e291a2cdf92a379730d4c",
     "grade": false,
     "grade_id": "cell-176a6fb2939d0420",
     "locked": true,
     "schema_version": 3,
     "solution": false,
     "task": false
    }
   },
   "source": [
    "---\n",
    "**Note:** For a given query `query_id`, you can assume that documents *not* in `qrels[query_id]` are not relevant to `query_id`. \n"
   ]
  },
  {
   "cell_type": "markdown",
   "metadata": {
    "deletable": false,
    "editable": false,
    "nbgrader": {
     "cell_type": "markdown",
     "checksum": "b26a818c7b4f7ad490e00b35ea0edd69",
     "grade": false,
     "grade_id": "cell-bd8341b72cdd89bb",
     "locked": true,
     "schema_version": 3,
     "solution": false,
     "task": false
    }
   },
   "source": [
    "---\n",
    "### 4.2 Precision (7 points)\n",
    "Implement the `precision@k` metric:"
   ]
  },
  {
   "cell_type": "code",
   "execution_count": 60,
   "metadata": {
    "deletable": false,
    "nbgrader": {
     "cell_type": "code",
     "checksum": "43dea1979ebdec24ffcfeff71c670433",
     "grade": false,
     "grade_id": "cell-494bd0cce108ed67",
     "locked": false,
     "schema_version": 3,
     "solution": true,
     "task": false
    }
   },
   "outputs": [],
   "source": [
    "# TODO: Implement this! (7 points)\n",
    "def precision_k(results, relevant_docs, k):\n",
    "    \"\"\"\n",
    "        Compute Precision@K\n",
    "        Input: \n",
    "            results: A sorted list of 2-tuples (document_id, score), \n",
    "                    with the most relevant document in the first position\n",
    "            relevant_docs: A set of relevant documents. \n",
    "            k: the cut-off\n",
    "        Output: Precision@K\n",
    "    \"\"\"\n",
    "    if k > len(results):\n",
    "        k = len(results)\n",
    "    # YOUR CODE HERE\n",
    "    relevant_items = 0\n",
    "    for result in results[:k]:\n",
    "      if result[0] in relevant_docs:\n",
    "        relevant_items += 1\n",
    "\n",
    "    return relevant_items/k\n",
    "    # raise NotImplementedError()"
   ]
  },
  {
   "cell_type": "code",
   "execution_count": 61,
   "metadata": {
    "deletable": false,
    "editable": false,
    "nbgrader": {
     "cell_type": "code",
     "checksum": "9222e35582b1840ffb60fd02fb0b60c3",
     "grade": true,
     "grade_id": "cell-e7ff0d91c319ca64",
     "locked": true,
     "points": 7,
     "schema_version": 3,
     "solution": false,
     "task": false
    }
   },
   "outputs": [
    {
     "name": "stdout",
     "output_type": "stream",
     "text": [
      "query: What articles exist which deal with TSS (Time Sharing System), an\n",
      "operating system for IBM computers?\n",
      "precision@10 = 0.2\n"
     ]
    }
   ],
   "source": [
    "\n",
    "#### Function check\n",
    "qid = queries[0][0]\n",
    "qtext = queries[0][1]\n",
    "print(f'query:{qtext}')\n",
    "results = bm25_search(qtext, 2)\n",
    "precision = precision_k(results, qrels[qid], 10)\n",
    "print(f'precision@10 = {precision}')\n",
    "####"
   ]
  },
  {
   "cell_type": "markdown",
   "metadata": {
    "deletable": false,
    "editable": false,
    "nbgrader": {
     "cell_type": "markdown",
     "checksum": "8fd3b3998197c7097a40348500affb68",
     "grade": false,
     "grade_id": "cell-afd95f865bc7191e",
     "locked": true,
     "schema_version": 3,
     "solution": false,
     "task": false
    }
   },
   "source": [
    "---\n",
    "### 4.3 Recall (7 points)\n",
    "Implement the `recall@k` metric:"
   ]
  },
  {
   "cell_type": "code",
   "execution_count": 62,
   "metadata": {
    "deletable": false,
    "nbgrader": {
     "cell_type": "code",
     "checksum": "b2020e5741ae03b3fe35817ed8f4ccaa",
     "grade": false,
     "grade_id": "cell-c323fc8c3f8a7cf8",
     "locked": false,
     "schema_version": 3,
     "solution": true,
     "task": false
    }
   },
   "outputs": [],
   "source": [
    "# TODO: Implement this! (7 points)\n",
    "def recall_k(results, relevant_docs, k):\n",
    "    \"\"\"\n",
    "        Compute Recall@K\n",
    "        Input: \n",
    "            results: A sorted list of 2-tuples (document_id, score), with the most relevant document in the first position\n",
    "            relevant_docs: A set of relevant documents. \n",
    "            k: the cut-off\n",
    "        Output: Recall@K\n",
    "    \"\"\"\n",
    "    # YOUR CODE HERE\n",
    "    results_k = results[:k]\n",
    "    relevant_n = len(relevant_docs)\n",
    "    count = 0\n",
    "    for retrieved in results_k:\n",
    "      for d in relevant_docs:\n",
    "        if retrieved[0] == d:\n",
    "          count += 1\n",
    "    \n",
    "    return count/relevant_n\n",
    "    # raise NotImplementedError()"
   ]
  },
  {
   "cell_type": "code",
   "execution_count": 63,
   "metadata": {
    "deletable": false,
    "editable": false,
    "nbgrader": {
     "cell_type": "code",
     "checksum": "56b6e0b8522f8b2dffbfb3206b2efa84",
     "grade": true,
     "grade_id": "cell-b25172161aef165c",
     "locked": true,
     "points": 7,
     "schema_version": 3,
     "solution": false,
     "task": false
    }
   },
   "outputs": [
    {
     "name": "stdout",
     "output_type": "stream",
     "text": [
      "query: SETL, Very High Level Languages\n",
      "recall@10 = 0.3157894736842105\n"
     ]
    }
   ],
   "source": [
    "#### Function check\n",
    "qid = queries[10][0]\n",
    "qtext = queries[10][1]\n",
    "print(f'query:{qtext}')\n",
    "results = bm25_search(qtext, 2)\n",
    "recall = recall_k(results, qrels[qid], 10)\n",
    "print(f'recall@10 = {recall}')\n",
    "####"
   ]
  },
  {
   "cell_type": "markdown",
   "metadata": {
    "deletable": false,
    "editable": false,
    "nbgrader": {
     "cell_type": "markdown",
     "checksum": "b3d3c7bd1cd977cd07ef5df7d3fbf159",
     "grade": false,
     "grade_id": "cell-77fd2e7a39a74739",
     "locked": true,
     "schema_version": 3,
     "solution": false,
     "task": false
    }
   },
   "source": [
    "---\n",
    "### 4.4 Mean Average Precision (13 points)\n",
    "Implement the `map` metric:"
   ]
  },
  {
   "cell_type": "code",
   "execution_count": 64,
   "metadata": {
    "deletable": false,
    "nbgrader": {
     "cell_type": "code",
     "checksum": "aae2c62f2ffd76f5b6c004e9519b9f14",
     "grade": false,
     "grade_id": "cell-e50925fa9093a30d",
     "locked": false,
     "schema_version": 3,
     "solution": true,
     "task": false
    }
   },
   "outputs": [],
   "source": [
    "# TODO: Implement this! (12 points)\n",
    "def average_precision(results, relevant_docs):\n",
    "    \"\"\"\n",
    "        Compute Average Precision (for a single query - the results are \n",
    "        averaged across queries to get MAP in the next few cells)\n",
    "        Hint: You can use the recall_k and precision_k functions here!\n",
    "        Input: \n",
    "            results: A sorted list of 2-tuples (document_id, score), with the most \n",
    "                    relevant document in the first position\n",
    "            relevant_docs: A set of relevant documents. \n",
    "        Output: Average Precision\n",
    "    \"\"\"\n",
    "    # YOUR CODE HERE\n",
    "    n = len(results)\n",
    "    relevant_n = len(relevant_docs)\n",
    "    precision_sum = 0\n",
    "\n",
    "    for k, result in enumerate(results):\n",
    "      if result[0] in relevant_docs:\n",
    "        precision_sum += precision_k(results, relevant_docs, k+1)\n",
    "    return precision_sum/relevant_n\n",
    "    # raise NotImplementedError()"
   ]
  },
  {
   "cell_type": "code",
   "execution_count": 65,
   "metadata": {
    "deletable": false,
    "editable": false,
    "nbgrader": {
     "cell_type": "code",
     "checksum": "3b00e147c2fa146fa59f179b7c9cab75",
     "grade": true,
     "grade_id": "cell-8a1f7ec98571e58b",
     "locked": true,
     "points": 13,
     "schema_version": 3,
     "solution": false,
     "task": false
    }
   },
   "outputs": [
    {
     "name": "stdout",
     "output_type": "stream",
     "text": [
      "query: computational complexity, intractability, class-complete reductions,\n",
      "algorithms and efficiency\n",
      "MAP = 0.17240404110559454\n"
     ]
    }
   ],
   "source": [
    "#### Function check\n",
    "qid = queries[20][0]\n",
    "qtext = queries[20][1]\n",
    "print(f'query:{qtext}')\n",
    "results = bm25_search(qtext, 2)\n",
    "mean_ap = average_precision(results, qrels[qid])\n",
    "print(f'MAP = {mean_ap}')\n",
    "####"
   ]
  },
  {
   "cell_type": "markdown",
   "metadata": {
    "deletable": false,
    "editable": false,
    "nbgrader": {
     "cell_type": "markdown",
     "checksum": "36f85f45ef52d9467ba9a717d6d99ff2",
     "grade": false,
     "grade_id": "cell-1da18f0fe6f6d7be",
     "locked": true,
     "schema_version": 3,
     "solution": false,
     "task": false
    }
   },
   "source": [
    "---\n",
    "### 4.5 Expected Reciprocal Rank (13 points)\n",
    "Implement the `err` metric:"
   ]
  },
  {
   "cell_type": "code",
   "execution_count": 66,
   "metadata": {
    "deletable": false,
    "nbgrader": {
     "cell_type": "code",
     "checksum": "9ac94db728e23ea1f5dc0d509473c6fb",
     "grade": false,
     "grade_id": "cell-64262889f9b267ea",
     "locked": false,
     "schema_version": 3,
     "solution": true,
     "task": false
    }
   },
   "outputs": [],
   "source": [
    "# TODO: Implement this! (12 points)\n",
    "def err(results, relevant_docs):\n",
    "    \"\"\"\n",
    "        Compute the expected reciprocal rank.\n",
    "        Hint: https://dl.acm.org/doi/pdf/10.1145/1645953.1646033?download=true\n",
    "        Input: \n",
    "            results: A sorted list of 2-tuples (document_id, score), with the most \n",
    "                    relevant document in the first position\n",
    "            relevant_docs: A set of relevant documents. \n",
    "        Output: ERR\n",
    "        \n",
    "    \"\"\"\n",
    "    # YOUR CODE HERE\n",
    "    p = 1\n",
    "    err = 0\n",
    "    for i, (doc, _) in enumerate(results):\n",
    "        if doc in relevant_docs:\n",
    "            R_g = (2**1 - 1)/(2**1)\n",
    "        else:\n",
    "            R_g = 0\n",
    "        err += p * R_g/(i+1)\n",
    "        p *= (1-R_g)\n",
    "\n",
    "    return err\n",
    "    # raise NotImplementedError()"
   ]
  },
  {
   "cell_type": "code",
   "execution_count": 67,
   "metadata": {
    "deletable": false,
    "editable": false,
    "nbgrader": {
     "cell_type": "code",
     "checksum": "b7d201de0990b69d5f38704668665d87",
     "grade": true,
     "grade_id": "cell-071e3970ff1afae4",
     "locked": true,
     "points": 13,
     "schema_version": 3,
     "solution": false,
     "task": false
    }
   },
   "outputs": [
    {
     "name": "stdout",
     "output_type": "stream",
     "text": [
      "query: I'd like to find articles describing the use of singular value decomposition\n",
      "in digital image processing.  Applications include finding approximations\n",
      "to the original image and restoring images that are subject to noise. An\n",
      "article on the subject is H.C. Andrews and C.L. Patterson \"Outer product\n",
      "expansions and their uses in digital image processing\", American Mathematical\n",
      "Monthly, vol. 82.\n",
      "ERR = 0.625\n"
     ]
    }
   ],
   "source": [
    "#### Function check\n",
    "qid = queries[30][0]\n",
    "qtext = queries[30][1]\n",
    "print(f'query:{qtext}')\n",
    "results = bm25_search(qtext, 2)\n",
    "ERR = err(results, qrels[qid])\n",
    "print(f'ERR = {ERR}')\n",
    "####"
   ]
  },
  {
   "cell_type": "markdown",
   "metadata": {
    "deletable": false,
    "editable": false,
    "nbgrader": {
     "cell_type": "markdown",
     "checksum": "5bd94caf77cfa5f34675df758d91002d",
     "grade": false,
     "grade_id": "cell-43709a765f353946",
     "locked": true,
     "schema_version": 3,
     "solution": false,
     "task": false
    }
   },
   "source": [
    "---\n",
    "### 4.6 Evaluate Search Functions\n",
    "\n",
    "Let's define some metrics@k using [partial functions](https://docs.python.org/3/library/functools.html#functools.partial)"
   ]
  },
  {
   "cell_type": "code",
   "execution_count": 68,
   "metadata": {
    "deletable": false,
    "editable": false,
    "nbgrader": {
     "cell_type": "code",
     "checksum": "49ccc158e5fb7340ace55e90eeb9d62a",
     "grade": false,
     "grade_id": "cell-dab560e18e340da8",
     "locked": true,
     "schema_version": 3,
     "solution": false,
     "task": false
    }
   },
   "outputs": [],
   "source": [
    "#### metrics@k functions\n",
    "\n",
    "recall_at_1 = partial(recall_k, k=1)\n",
    "recall_at_5 = partial(recall_k, k=5)\n",
    "recall_at_10 = partial(recall_k, k=10)\n",
    "precision_at_1 = partial(precision_k, k=1)\n",
    "precision_at_5 = partial(precision_k, k=5)\n",
    "precision_at_10 = partial(precision_k, k=10)\n",
    "\n",
    "\n",
    "list_of_metrics = [\n",
    "    (\"ERR\", err),\n",
    "    (\"MAP\", average_precision),\n",
    "    (\"Recall@1\",recall_at_1),\n",
    "    (\"Recall@5\", recall_at_5),\n",
    "    (\"Recall@10\", recall_at_10),\n",
    "    (\"Precision@1\", precision_at_1),\n",
    "    (\"Precision@5\", precision_at_5),\n",
    "    (\"Precision@10\", precision_at_10)]\n",
    "####"
   ]
  },
  {
   "cell_type": "markdown",
   "metadata": {
    "deletable": false,
    "editable": false,
    "nbgrader": {
     "cell_type": "markdown",
     "checksum": "fb541002c03221b453b8936290020ea5",
     "grade": false,
     "grade_id": "cell-580a2bdc66d03b47",
     "locked": true,
     "schema_version": 3,
     "solution": false,
     "task": false
    }
   },
   "source": [
    "---\n",
    "\n",
    "The following function evaluates a `search_fn` using the `metric_fn`. Note that the final number is averaged over all the queries"
   ]
  },
  {
   "cell_type": "code",
   "execution_count": 69,
   "metadata": {},
   "outputs": [],
   "source": [
    "#### Evaluate a search function\n",
    "\n",
    "list_of_search_fns = [\n",
    "    (\"BOW\", bow_search),\n",
    "    (\"TF-IDF\", tfidf_search),\n",
    "    (\"NaiveQL\", naive_ql_search),\n",
    "    (\"QL\", ql_search),\n",
    "    (\"BM25\", bm25_search)\n",
    "]\n",
    "\n",
    "def evaluate_search_fn(search_fn, metric_fns, index_set=None):\n",
    "    # build a dict query_id -> query \n",
    "    queries_by_id = dict((q[0], q[1]) for q in queries)\n",
    "    \n",
    "    metrics = {}\n",
    "    for metric, metric_fn in metric_fns:\n",
    "        metrics[metric] = np.zeros(len(qrels), dtype=np.float32)\n",
    "    \n",
    "    for i, (query_id, relevant_docs) in enumerate(qrels.items()):\n",
    "        query = queries_by_id[query_id]\n",
    "        if index_set:\n",
    "            results = search_fn(query, index_set)\n",
    "        else:\n",
    "            results = search_fn(query)\n",
    "        \n",
    "        for metric, metric_fn in metric_fns:\n",
    "            metrics[metric][i] = metric_fn(results, relevant_docs)\n",
    "\n",
    "    \n",
    "    \n",
    "    final_dict = {}\n",
    "    for metric, metric_vals in metrics.items():\n",
    "        final_dict[metric] = metric_vals.mean()\n",
    "    \n",
    "    return final_dict\n",
    "####"
   ]
  },
  {
   "cell_type": "markdown",
   "metadata": {
    "deletable": false,
    "editable": false,
    "nbgrader": {
     "cell_type": "markdown",
     "checksum": "6ea67534f74a8f81e1f504794f641709",
     "grade": false,
     "grade_id": "cell-b156d83a0649cbb4",
     "locked": true,
     "schema_version": 3,
     "solution": false,
     "task": false
    }
   },
   "source": [
    "## Section 5: Analysis (30 points) <a class=\"anchor\" id=\"analysis\"></a>\n",
    "\n",
    "[Back to Part 1](#part1)\n",
    "\n",
    "In the final section of Part1, we will compare the different term-based IR algorithms and different preprocessing configurations and analyze their advantages and disadvantages.\n",
    "\n",
    "### Section 5.1: Plot (20 points)\n",
    "\n",
    "First, gather the results. The results should consider the index set, the different search functions and different metrics. Plot the results in bar charts, per metric, with clear labels.\n",
    "\n",
    "**Rubric:**\n",
    "- Each Metric is plotted: 7 points\n",
    "- Each Method is plotted: 7 points\n",
    "- Clear titles, x label, y labels and legends (if applicable): 6 points"
   ]
  },
  {
   "cell_type": "code",
   "execution_count": 70,
   "metadata": {
    "deletable": false,
    "nbgrader": {
     "cell_type": "code",
     "checksum": "7e2588a925d13ddf588abe8311dc9cfc",
     "grade": true,
     "grade_id": "cell-46fda42a25863a04",
     "locked": false,
     "points": 20,
     "schema_version": 3,
     "solution": true,
     "task": false
    }
   },
   "outputs": [
    {
     "data": {
      "image/png": "[encoded data removed]",
      "text/plain": [
       "<Figure size 864x432 with 1 Axes>"
      ]
     },
     "metadata": {
      "needs_background": "light"
     },
     "output_type": "display_data"
    },
    {
     "data": {
      "image/png": "[encoded data removed]",
      "text/plain": [
       "<Figure size 864x432 with 1 Axes>"
      ]
     },
     "metadata": {
      "needs_background": "light"
     },
     "output_type": "display_data"
    }
   ],
   "source": [
    "# YOUR CODE HERE\n",
    "results = {}\n",
    "for name_fn, search_fn in list_of_search_fns:\n",
    "    for index_set in {1, 2}:\n",
    "        results[(name_fn, index_set)] = evaluate_search_fn(search_fn, list_of_metrics, index_set)\n",
    "\n",
    "# for metric in metrics:\n",
    "#     metric_results = []\n",
    "#     for index_set in {1, 2}:\n",
    "#         index_results = []\n",
    "#         for name_fn, search_fn in list_of_search_fns:\n",
    "#             index_results.append(results[(name_fn, index_set)][metric])\n",
    "#         metric_results.append(index_results)\n",
    "#     fig = plt.figure()\n",
    "#     ax = fig.add_axes([0,0,1,1])\n",
    "#     print(metric_results)\n",
    "#     ax.bar(X - 0.15, metric_results[0], width = 0.3)\n",
    "#     ax.bar(X + 0.15, metric_results[1], width = 0.3)\n",
    "#     ax.set_xticks(X, search_fns)\n",
    "#     ax.set_title(metric)\n",
    "#     ax.legend(labels=['index 1', 'index 2'])\n",
    "#     plt.show()\n",
    "\n",
    "search_fns = [\"BOW\", \"TF-IDF\", \"NaiveQL\", \"QL\", \"BM25\"]\n",
    "metrics = [\"ERR\", \"MAP\", \"Recall@1\",\"Recall@5\",\"Recall@10\",\"Precision@1\",\"Precision@5\",\"Precision@10\"]\n",
    "titles = [\"Unprepocessed docs\", \"Preprocessed docs\"]\n",
    "X = np.arange(len(metrics))\n",
    "\n",
    "for i, index_set in enumerate({1, 2}):\n",
    "    metric_results = []\n",
    "    for name_fn, search_fn in list_of_search_fns:\n",
    "        metric_results.append(results[(name_fn, index_set)])\n",
    "    fig = plt.figure(figsize=(12, 6))\n",
    "    ax = fig.add_axes([0,0,1,1])\n",
    "    ax.bar(X - 0.3, metric_results[0].values(), width = 0.15)\n",
    "    ax.bar(X - 0.15, metric_results[1].values(), width = 0.15)\n",
    "    ax.bar(X + 0.0, metric_results[2].values(), width = 0.15)\n",
    "    ax.bar(X + 0.15, metric_results[3].values(), width = 0.15)\n",
    "    ax.bar(X + 0.3, metric_results[4].values(), width = 0.15)\n",
    "    ax.set_xticks(X)\n",
    "    ax.set_xticklabels(metrics)\n",
    "    ax.set_title(titles[i])\n",
    "    ax.legend(labels=search_fns)\n",
    "    plt.show()\n",
    "# raise NotImplementedError()"
   ]
  },
  {
   "cell_type": "markdown",
   "metadata": {
    "deletable": false,
    "editable": false,
    "nbgrader": {
     "cell_type": "markdown",
     "checksum": "e88c444a0acf4e398c65e289169b75f7",
     "grade": false,
     "grade_id": "cell-8aabe3bcf265deb0",
     "locked": true,
     "points": 10,
     "schema_version": 3,
     "solution": false,
     "task": true
    }
   },
   "source": [
    "---\n",
    "### Section 5.2: Summary (10 points)\n",
    "Write a summary of what you observe in the results.\n",
    "Your summary should compare results across the 2 indices and the methods being used. State what you expected to see in the results, followed by either supporting evidence *or* justify why the results did not support your expectations.      "
   ]
  },
  {
   "cell_type": "markdown",
   "metadata": {},
   "source": [
    "Write your answer here!"
   ]
  },
  {
   "cell_type": "markdown",
   "metadata": {
    "deletable": false,
    "editable": false,
    "nbgrader": {
     "cell_type": "markdown",
     "checksum": "b3eb77be74eecca205fc7b47316d1627",
     "grade": false,
     "grade_id": "cell-bb60dd5c092d0f2e",
     "locked": true,
     "schema_version": 3,
     "solution": false,
     "task": false
    }
   },
   "source": [
    "---\n",
    "---\n",
    "# Part 2: Semantic-based Matching (85 points) <a class=\"anchor\" id=\"part2\"></a>\n",
    "\n",
    "[Back to top](#top)\n",
    "\n",
    "We will now experiment with methods that go beyond lexical methods like TF-IDF, which operate at the word level and are high dimensional and sparse, and look at methods which constructs low dimensional dense representations of queries and documents. \n",
    "\n",
    "Since these low-dimensional methods have a higher time complexity, they are typically used in conjunction with methods like BM-25. That is, instead of searching through potentially million documents to find matches using low dimensional vectors, a list of K documents are retrieved using BM25, and then **re-ranked** using the other method. This is the method that is going to be applied in the following exercises. \n",
    "\n",
    "LSI/LDA takes documents that are similar on a semantic level - for instance, if they are describing the same topic - and projects them into nearby vectors, despite having low lexical overlap.\n",
    "\n",
    "In this assignment, you will use `gensim` to create LSI/LDA models and use them in re-ranking. \n",
    "\n",
    "**Note**: The following exercises only uses `doc_repr_2` and `config_2`\n",
    "\n",
    "Table of contents:\n",
    "- [Section 6: LSI](#lsi) (15 points)\n",
    "- [Section 7: LDA](#lda) (10 points)\n",
    "- [Section 8: Word2Vec/Doc2Vec](#2vec) (20 points)\n",
    "- [Section 8: Re-ranking](#reranking) (10 points)\n",
    "- [Section 9: Re-ranking Evaluation](#reranking_eval) (30 points)"
   ]
  },
  {
   "cell_type": "markdown",
   "metadata": {
    "deletable": false,
    "editable": false,
    "nbgrader": {
     "cell_type": "markdown",
     "checksum": "f7c7b2cab82f576ed0acf836ca57171c",
     "grade": false,
     "grade_id": "cell-6b2c81e7a8abd180",
     "locked": true,
     "schema_version": 3,
     "solution": false,
     "task": false
    }
   },
   "source": [
    "---\n",
    "## Section 6: Latent Semantic Indexing (LSI) (15 points) <a class=\"anchor\" id=\"lsi\"></a>\n",
    "\n",
    "[Back to Part 2](#part2)\n",
    "\n",
    "LSI is one of the methods to embed the queries and documents into vectors. It is based on a method similar to Principal Component Analysis (PCA) for obtaining a dense concept matrix out of the sparse term-document matrix.\n",
    "\n",
    "See [wikipedia](https://en.wikipedia.org/wiki/Latent_semantic_analysis), particularly [#Mathematics_of_LSI](https://en.wikipedia.org/wiki/Latent_semantic_analysis#Mathematics_of_LSI)."
   ]
  },
  {
   "cell_type": "code",
   "execution_count": 71,
   "metadata": {
    "deletable": false,
    "editable": false,
    "nbgrader": {
     "cell_type": "code",
     "checksum": "c17ee75319cb517e2bf48ec3d9efc329",
     "grade": false,
     "grade_id": "cell-59913daee47f680d",
     "locked": true,
     "schema_version": 3,
     "solution": false,
     "task": false
    }
   },
   "outputs": [],
   "source": [
    "from gensim.corpora import Dictionary\n",
    "from gensim.models import LdaModel, LsiModel, Word2Vec\n",
    "from gensim.models.doc2vec import Doc2Vec, TaggedDocument\n",
    "from gensim import downloader as g_downloader\n",
    "# gensim uses logging, so set it up \n",
    "import logging\n",
    "logging.basicConfig(format='%(asctime)s : %(levelname)s : %(message)s', level=logging.INFO)"
   ]
  },
  {
   "cell_type": "markdown",
   "metadata": {
    "deletable": false,
    "editable": false,
    "nbgrader": {
     "cell_type": "markdown",
     "checksum": "5fce140c546759b54a9fc060901ae77c",
     "grade": false,
     "grade_id": "cell-3644faff4976598a",
     "locked": true,
     "schema_version": 3,
     "solution": false,
     "task": false
    }
   },
   "source": [
    "---\n",
    "### Section 6.1: Cosine Similarity (5 points)<a class=\"anchor\" id=\"cosing_sim\"></a>\n",
    "Before we begin, let us first define our method of similarity for the LSI model, the cosine similarity:\n",
    "\n",
    "$$\\text{similarity} = \\cos(\\theta) = {\\mathbf{A} \\cdot \\mathbf{B} \\over \\|\\mathbf{A}\\| \\|\\mathbf{B}\\|} = \\frac{ \\sum\\limits_{i=1}^{n}{A_i  B_i} }{ \\sqrt{\\sum\\limits_{i=1}^{n}{A_i^2}}  \\sqrt{\\sum\\limits_{i=1}^{n}{B_i^2}} }$$\n",
    "\n",
    "Since we are using gensim, the types of vectors returned by their classes are of the form defined below (they are not just simple vectors):"
   ]
  },
  {
   "cell_type": "code",
   "execution_count": 72,
   "metadata": {
    "deletable": false,
    "editable": false,
    "nbgrader": {
     "cell_type": "code",
     "checksum": "4e340e1a1d546f430c018fd0760e707a",
     "grade": false,
     "grade_id": "cell-3995a50f951314d5",
     "locked": true,
     "schema_version": 3,
     "solution": false,
     "task": false
    }
   },
   "outputs": [],
   "source": [
    "# 1, 2, 3 are either latent dimensions (LSI), or topics (LDA)\n",
    "# The second value in each tuple is a number (LSI) or a probability (LDA)  \n",
    "example_vec_1 = [(1, 0.2), (2, 0.3), (3, 0.4)]\n",
    "example_vec_2 = [(1, 0.2), (2, 0.7), (3, 0.4)]"
   ]
  },
  {
   "cell_type": "markdown",
   "metadata": {
    "deletable": false,
    "editable": false,
    "nbgrader": {
     "cell_type": "markdown",
     "checksum": "20832fd4f579f49ae204b0efee02edd1",
     "grade": false,
     "grade_id": "cell-5e54d581858dc8f7",
     "locked": true,
     "schema_version": 3,
     "solution": false,
     "task": false
    }
   },
   "source": [
    "---\n",
    "**Implementation (2+3 points):**\n",
    "Now, implement the `dot product` operation on these types of vectors and using this operator, implement the `cosine similarity` (don't forget: two functions to implement!):"
   ]
  },
  {
   "cell_type": "code",
   "execution_count": 73,
   "metadata": {
    "deletable": false,
    "nbgrader": {
     "cell_type": "code",
     "checksum": "06a712ee75fc213a21c5f0067fd8fe28",
     "grade": false,
     "grade_id": "cell-0e8189f5f93de33f",
     "locked": false,
     "schema_version": 3,
     "solution": true,
     "task": false
    }
   },
   "outputs": [],
   "source": [
    "# TODO: Implement this! (2 points)\n",
    "def dot(vec_1,vec_2): \n",
    "    \"\"\"\n",
    "        vec_1 and vec_2 are of the form: [(int, float), (int, float), ...]\n",
    "        Return the dot product of two such vectors, computed only on the floats\n",
    "        You can assume that the lengths of the vectors are the same, and the dimensions are aligned \n",
    "            i.e you won't get: vec_1 = [(1, 0.2)] ; vec_2 = [(2, 0.3)] \n",
    "                                (dimensions are unaligned and lengths are different)\n",
    "    \"\"\"\n",
    "    # YOUR CODE HERE\n",
    "    result = 0\n",
    "    for i, data in enumerate(vec_1):\n",
    "      result += vec_1[i][1]*vec_2[i][1]\n",
    "    return result\n",
    "    # raise NotImplementedError()\n",
    "\n",
    "\n",
    "\n",
    "# TODO: Implement this! (3 points)\n",
    "def cosine_sim(vec_1, vec_2):\n",
    "    # YOUR CODE HERE\n",
    "    numerator = dot(vec_1, vec_2)\n",
    "    len_1 = 0\n",
    "    len_2 = 0\n",
    "    for i, data in enumerate(vec_1):\n",
    "      len_1 += vec_1[i][1]**2\n",
    "      len_2 += vec_2[i][1]**2\n",
    "    denominator = np.sqrt(len_1)*np.sqrt(len_2)\n",
    "\n",
    "    return numerator/denominator\n",
    "    # raise NotImplementedError()"
   ]
  },
  {
   "cell_type": "code",
   "execution_count": 74,
   "metadata": {
    "deletable": false,
    "editable": false,
    "nbgrader": {
     "cell_type": "code",
     "checksum": "d22a4a7325ba7815a808390388f534a1",
     "grade": true,
     "grade_id": "cell-b25d04ed6b79fd35",
     "locked": true,
     "points": 2,
     "schema_version": 3,
     "solution": false,
     "task": false
    }
   },
   "outputs": [
    {
     "name": "stdout",
     "output_type": "stream",
     "text": [
      "vectors: ([(1, 0.2), (2, 0.3), (3, 0.4)], [(1, 0.2), (2, 0.7), (3, 0.4)])\n",
      "dot product = 0.41000000000000003\n",
      "cosine similarity = 0.9165587597202866\n"
     ]
    }
   ],
   "source": [
    "##### Function check\n",
    "print(f'vectors: {(example_vec_1,example_vec_2)}')\n",
    "print(f'dot product = {dot(example_vec_1,example_vec_2)}')\n",
    "print(f'cosine similarity = {cosine_sim(example_vec_1,example_vec_2)}')\n",
    "##### "
   ]
  },
  {
   "cell_type": "code",
   "execution_count": 75,
   "metadata": {
    "deletable": false,
    "editable": false,
    "nbgrader": {
     "cell_type": "code",
     "checksum": "0744131724ce76b1b3f163b4bae5f700",
     "grade": true,
     "grade_id": "cell-ae3c4466866ace77",
     "locked": true,
     "points": 3,
     "schema_version": 3,
     "solution": false,
     "task": false
    }
   },
   "outputs": [],
   "source": [
    "#### Please do not change this. This cell is used for grading."
   ]
  },
  {
   "cell_type": "markdown",
   "metadata": {
    "deletable": false,
    "editable": false,
    "nbgrader": {
     "cell_type": "markdown",
     "checksum": "9b123f599f9ea372d14676e23f1c6a52",
     "grade": false,
     "grade_id": "cell-4b2534067c44fcdf",
     "locked": true,
     "schema_version": 3,
     "solution": false,
     "task": false
    }
   },
   "source": [
    "---\n",
    "### Section 6.2: LSI Retrieval (10 points)<a class=\"anchor\" id=\"lsi_retrieval\"></a>\n",
    "LSI retrieval is simply ranking the documents based on their cosine similarity to the query vector.\n",
    "First, let's write a parent class for vector-based retrieval models:"
   ]
  },
  {
   "cell_type": "code",
   "execution_count": 76,
   "metadata": {
    "deletable": false,
    "editable": false,
    "nbgrader": {
     "cell_type": "code",
     "checksum": "ecc111d58182570e2252b8ef5d6b02af",
     "grade": false,
     "grade_id": "cell-937936cea18711ee",
     "locked": true,
     "schema_version": 3,
     "solution": false,
     "task": false
    }
   },
   "outputs": [],
   "source": [
    "class VectorSpaceRetrievalModel:\n",
    "    \"\"\"\n",
    "        Parent class for Dense Vector Retrieval models\n",
    "    \"\"\"\n",
    "    def __init__(self, doc_repr):\n",
    "        \"\"\"\n",
    "            document_collection: \n",
    "                [\n",
    "                    (doc_id_1, [token 1, token 2, ...]), \n",
    "                    (doc_id_2, [token 1, token 2, ....]) \n",
    "                    ...\n",
    "                ]\n",
    "\n",
    "        \"\"\"\n",
    "        self.doc_repr = doc_repr\n",
    "        self.documents = [_[1] for _ in self.doc_repr]\n",
    "        \n",
    "        # construct a dictionary\n",
    "        self.dictionary = Dictionary(self.documents)\n",
    "        # Filter out words that occur less than 20 documents, or more than 50% of the documents.\n",
    "        self.dictionary.filter_extremes(no_below=10)\n",
    "        self.corpus = [self.dictionary.doc2bow(doc) for doc in self.documents]\n",
    "    \n",
    "        # Make a index to word dictionary.\n",
    "        temp = self.dictionary[0]  # This is only to \"load\" the dictionary.\n",
    "        self.id2word = self.dictionary.id2token\n",
    "        \n",
    "        # this is set by the train_model function\n",
    "        self.model = None\n",
    "        \n",
    "        \n",
    "    def vectorize_documents(self):\n",
    "        \"\"\"\n",
    "            Returns a doc_id -> vector dictionary\n",
    "        \"\"\"\n",
    "        vectors = {}\n",
    "        for (doc_id, _), cc in zip(self.doc_repr, self.corpus):\n",
    "            vectors[doc_id] = self.model[cc]\n",
    "        return vectors\n",
    "\n",
    "    def vectorize_query(self, query):\n",
    "        # Note the use of config_2 here!\n",
    "        query = process_text(query, **config_2)\n",
    "        query_vector = self.dictionary.doc2bow(query)\n",
    "        return self.model[query_vector]\n",
    "    \n",
    "    def train_model(self):\n",
    "        \"\"\"\n",
    "            Trains a model and sets the 'self.model' variable. \n",
    "            Make sure to use the variables created in the __init__ method.\n",
    "            e.g the variables which may be useful: {corpus, dictionary, id2word}\n",
    "        \"\"\"\n",
    "        raise NotImplementedError()"
   ]
  },
  {
   "cell_type": "markdown",
   "metadata": {
    "deletable": false,
    "editable": false,
    "nbgrader": {
     "cell_type": "markdown",
     "checksum": "ff161eefd9b81b768cd6361bc1a502b0",
     "grade": false,
     "grade_id": "cell-704a18c2f80cd60c",
     "locked": true,
     "schema_version": 3,
     "solution": false,
     "task": false
    }
   },
   "source": [
    "---\n",
    "**Implementation (5 points):**\n",
    "Implement the `train_model` method in the following class (note that this is only one line of code in `gensim`!). Ensure that the parameters defined in the `__init__` method are not changed, and are *used in the `train_method` function*. Normally, the hyperaparameter space will be searched using grid search / other methods - in this assignment we have provided the hyperparameters for you.\n",
    "\n",
    "The last two lines of code train an LSI model on the list of documents which have been stemmed, lower-cased and have stopwords removed. "
   ]
  },
  {
   "cell_type": "code",
   "execution_count": 132,
   "metadata": {
    "deletable": false,
    "nbgrader": {
     "cell_type": "code",
     "checksum": "0e90eedc27c248bc1ae050518a46a46c",
     "grade": false,
     "grade_id": "cell-307682c9089f15d6",
     "locked": false,
     "schema_version": 3,
     "solution": true,
     "task": false
    }
   },
   "outputs": [],
   "source": [
    "# TODO: Implement this! (5 points)\n",
    "class LsiRetrievalModel(VectorSpaceRetrievalModel):\n",
    "    def __init__(self, doc_repr):\n",
    "        super().__init__(doc_repr)\n",
    "        \n",
    "        self.num_topics = 100\n",
    "        self.chunksize = 2000\n",
    "    \n",
    "    def train_model(self):\n",
    "        # YOUR CODE HERE\n",
    "        self.model = LsiModel(corpus = self.corpus, id2word = self.id2word, num_topics = self.num_topics, chunksize = self.chunksize)\n",
    "        # raise NotImplementedError()"
   ]
  },
  {
   "cell_type": "code",
   "execution_count": 133,
   "metadata": {
    "deletable": false,
    "editable": false,
    "nbgrader": {
     "cell_type": "code",
     "checksum": "00399cfe13d60cb4beed1271e36004b0",
     "grade": true,
     "grade_id": "cell-5ce512650c1b2dfb",
     "locked": true,
     "points": 0,
     "schema_version": 3,
     "solution": false,
     "task": false
    }
   },
   "outputs": [
    {
     "name": "stderr",
     "output_type": "stream",
     "text": [
      "2022-02-22 21:34:59,286 : INFO : adding document #0 to Dictionary(0 unique tokens: [])\n",
      "2022-02-22 21:34:59,573 : INFO : built Dictionary(5937 unique tokens: ['-', 'algebra', 'intern', 'languag', 'preliminari']...) from 3204 documents (total 115969 corpus positions)\n",
      "2022-02-22 21:34:59,589 : INFO : discarding 4740 tokens: [('repeat', 8), ('glossari', 7), ('inspect', 8), ('uncol', 2), ('rung', 9), ('secant', 2), ('.', 1603), ('acceler', 6), ('diverg', 3), ('induc', 9)]...\n",
      "2022-02-22 21:34:59,589 : INFO : keeping 1197 tokens which were in no less than 10 and no more than 1602 (=50.0%) documents\n",
      "2022-02-22 21:34:59,605 : INFO : resulting dictionary: Dictionary(1197 unique tokens: ['-', 'algebra', 'intern', 'languag', 'preliminari']...)\n",
      "2022-02-22 21:34:59,754 : INFO : using serial LSI version on this node\n",
      "2022-02-22 21:34:59,754 : INFO : updating model with new documents\n",
      "2022-02-22 21:34:59,754 : INFO : preparing a new chunk of documents\n",
      "2022-02-22 21:34:59,820 : INFO : using 100 extra samples and 2 power iterations\n",
      "2022-02-22 21:34:59,820 : INFO : 1st phase: constructing (1197, 200) action matrix\n",
      "2022-02-22 21:34:59,919 : INFO : orthonormalizing (1197, 200) action matrix\n",
      "2022-02-22 21:35:00,260 : INFO : 2nd phase: running dense svd on (200, 2000) matrix\n",
      "2022-02-22 21:35:00,563 : INFO : computing the final decomposition\n",
      "2022-02-22 21:35:00,563 : INFO : keeping 100 factors (discarding 13.438% of energy spectrum)\n",
      "2022-02-22 21:35:00,573 : INFO : processed documents up to #2000\n",
      "2022-02-22 21:35:00,577 : INFO : topic #0(152.127): 0.741*\",\" + 0.342*\"-\" + 0.211*\"system\" + 0.204*\"program\" + 0.192*\"comput\" + 0.146*\"(\" + 0.127*\"languag\" + 0.108*\")\" + 0.084*\"gener\" + 0.083*\"data\"\n",
      "2022-02-22 21:35:00,581 : INFO : topic #1(60.600): -0.607*\"(\" + -0.434*\")\" + -0.366*\"algorithm\" + -0.300*\"-\" + 0.237*\",\" + 0.213*\"system\" + 0.132*\"comput\" + -0.096*\"[\" + 0.093*\"program\" + -0.084*\"])\"\n",
      "2022-02-22 21:35:00,581 : INFO : topic #2(57.438): -0.744*\"-\" + 0.452*\",\" + -0.263*\"system\" + 0.214*\"(\" + 0.166*\")\" + -0.107*\"time\" + -0.105*\"program\" + 0.094*\"algorithm\" + -0.068*\"comput\" + -0.067*\"share\"\n",
      "2022-02-22 21:35:00,581 : INFO : topic #3(48.370): -0.483*\"system\" + -0.375*\"program\" + -0.367*\"comput\" + 0.363*\"-\" + 0.308*\",\" + -0.212*\"(\" + -0.168*\")\" + -0.147*\"algorithm\" + 0.144*\"languag\" + -0.119*\"time\"\n",
      "2022-02-22 21:35:00,581 : INFO : topic #4(45.710): 0.489*\"comput\" + -0.475*\"languag\" + -0.428*\"program\" + 0.238*\"method\" + 0.141*\"problem\" + -0.121*\"system\" + -0.109*\")\" + 0.107*\"equat\" + 0.100*\"algorithm\" + -0.099*\"(\"\n",
      "2022-02-22 21:35:00,589 : INFO : preparing a new chunk of documents\n",
      "2022-02-22 21:35:00,605 : INFO : using 100 extra samples and 2 power iterations\n",
      "2022-02-22 21:35:00,605 : INFO : 1st phase: constructing (1197, 200) action matrix\n",
      "2022-02-22 21:35:00,630 : INFO : orthonormalizing (1197, 200) action matrix\n",
      "2022-02-22 21:35:00,955 : INFO : 2nd phase: running dense svd on (200, 1204) matrix\n",
      "2022-02-22 21:35:01,165 : INFO : computing the final decomposition\n",
      "2022-02-22 21:35:01,165 : INFO : keeping 100 factors (discarding 14.062% of energy spectrum)\n",
      "2022-02-22 21:35:01,174 : INFO : merging projections: (1197, 100) + (1197, 100)\n",
      "2022-02-22 21:35:01,374 : INFO : keeping 100 factors (discarding 8.166% of energy spectrum)\n",
      "2022-02-22 21:35:01,378 : INFO : processed documents up to #3204\n",
      "2022-02-22 21:35:01,378 : INFO : topic #0(225.136): 0.759*\",\" + 0.337*\"-\" + 0.196*\"system\" + 0.186*\"program\" + 0.166*\"comput\" + 0.139*\"(\" + 0.103*\")\" + 0.103*\"algorithm\" + 0.099*\"languag\" + 0.087*\"time\"\n",
      "2022-02-22 21:35:01,378 : INFO : topic #1(87.805): 0.613*\"-\" + -0.399*\",\" + 0.399*\"(\" + 0.326*\"algorithm\" + 0.293*\")\" + -0.129*\"system\" + -0.107*\"program\" + 0.085*\"method\" + 0.077*\"time\" + 0.062*\"1\"\n",
      "2022-02-22 21:35:01,387 : INFO : topic #2(81.909): 0.550*\"-\" + -0.434*\"(\" + 0.355*\"system\" + -0.321*\")\" + -0.291*\",\" + -0.266*\"algorithm\" + 0.146*\"program\" + 0.123*\"comput\" + 0.078*\"time\" + -0.064*\"[\"\n",
      "2022-02-22 21:35:01,388 : INFO : topic #3(72.433): -0.693*\"program\" + 0.339*\",\" + 0.279*\"-\" + -0.251*\"(\" + -0.221*\"system\" + -0.214*\"languag\" + -0.204*\")\" + -0.160*\"comput\" + -0.099*\"data\" + -0.056*\"execut\"\n",
      "2022-02-22 21:35:01,390 : INFO : topic #4(68.523): -0.673*\"system\" + 0.453*\"program\" + 0.254*\"languag\" + 0.212*\"-\" + -0.179*\"comput\" + -0.165*\"(\" + -0.121*\")\" + -0.115*\"model\" + 0.101*\",\" + -0.098*\"algorithm\"\n"
     ]
    },
    {
     "data": {
      "text/plain": [
       "[(0, 0.015214389147875656),\n",
       " (1, -0.016233312527598295),\n",
       " (2, -0.0001722739607012472),\n",
       " (3, -0.0018643224351122167),\n",
       " (4, -0.009460048880424399),\n",
       " (5, -0.004758056078118715),\n",
       " (6, 0.027119725385605885),\n",
       " (7, 0.016704436142480107),\n",
       " (8, -0.03156756527904294),\n",
       " (9, -0.0009550729480260478),\n",
       " (10, 0.0025105829512263207),\n",
       " (11, -0.01730337171904863),\n",
       " (12, 0.0004005821033473732),\n",
       " (13, 0.0007817667551265704),\n",
       " (14, 0.004143154533416907),\n",
       " (15, 0.0058168779119704556),\n",
       " (16, 0.004807396486360829),\n",
       " (17, 0.0030159072058672538),\n",
       " (18, -0.017617405144249785),\n",
       " (19, 0.021256203721326535),\n",
       " (20, -0.007817377718207438),\n",
       " (21, -0.01229921956370808),\n",
       " (22, 0.04790530223131731),\n",
       " (23, 0.02590807068438762),\n",
       " (24, -0.011287806082001943),\n",
       " (25, -0.009980083446975523),\n",
       " (26, 0.007373151486175882),\n",
       " (27, 0.07575053995691824),\n",
       " (28, -0.06136675672756495),\n",
       " (29, 0.03202373101376576),\n",
       " (30, 0.04513454140531377),\n",
       " (31, 0.04583986643299841),\n",
       " (32, -0.07183986939526563),\n",
       " (33, 0.05003614221560983),\n",
       " (34, -0.024591323205189815),\n",
       " (35, 0.06165224900145855),\n",
       " (36, 0.04268422509975756),\n",
       " (37, -0.0011166173116036746),\n",
       " (38, -0.06032121445533041),\n",
       " (39, 0.017448283675632184),\n",
       " (40, -0.04330335742494983),\n",
       " (41, -0.035311176935374985),\n",
       " (42, 0.024303550044680163),\n",
       " (43, 0.01876460697868223),\n",
       " (44, 0.009779984177988678),\n",
       " (45, 0.05598234767499092),\n",
       " (46, -0.01432630996892941),\n",
       " (47, 0.00958322494513099),\n",
       " (48, -0.01064217125980177),\n",
       " (49, 0.03056834134889106),\n",
       " (50, 0.01957690009856193),\n",
       " (51, 0.05452981239173135),\n",
       " (52, -0.01729050442567192),\n",
       " (53, 0.0016551723504741626),\n",
       " (54, 0.038791506394164954),\n",
       " (55, 0.026602528588585337),\n",
       " (56, -0.008722207207280225),\n",
       " (57, -0.012228078472525274),\n",
       " (58, -0.01700686314600895),\n",
       " (59, 0.03142224205171888),\n",
       " (60, -0.01702800225023115),\n",
       " (61, 0.04238544822169358),\n",
       " (62, -0.01602066704875741),\n",
       " (63, 0.026435722396867048),\n",
       " (64, 0.05714284037514554),\n",
       " (65, 0.04207091821552337),\n",
       " (66, 0.013230554140313228),\n",
       " (67, -0.04795660653177551),\n",
       " (68, 0.037489110410055065),\n",
       " (69, -0.026119866486748387),\n",
       " (70, -0.058347040138865776),\n",
       " (71, -0.02436431124236865),\n",
       " (72, 0.05382544275315949),\n",
       " (73, -0.05299209561524635),\n",
       " (74, -0.010640875618573593),\n",
       " (75, 0.067147475088867),\n",
       " (76, -0.03210530473070553),\n",
       " (77, 0.02404913898932031),\n",
       " (78, 0.053547893896896105),\n",
       " (79, 0.027850356273712656),\n",
       " (80, -0.009528671916023808),\n",
       " (81, -0.007606137988256113),\n",
       " (82, 0.029465215799107644),\n",
       " (83, 0.020382424868480478),\n",
       " (84, -0.07795946996816332),\n",
       " (85, 0.0026258413087985946),\n",
       " (86, -0.025982142505888806),\n",
       " (87, -0.040061723146169924),\n",
       " (88, -0.05977255997174782),\n",
       " (89, 0.06196715268673528),\n",
       " (90, -0.05926646426293654),\n",
       " (91, 0.02765551472940775),\n",
       " (92, -0.038722408741023576),\n",
       " (93, -0.065155629378185),\n",
       " (94, -0.027792735020850005),\n",
       " (95, -0.008473451299316984),\n",
       " (96, -0.0004018587542564053),\n",
       " (97, -0.018988315959574606),\n",
       " (98, -0.021097579134162506),\n",
       " (99, 0.005120089393641069)]"
      ]
     },
     "execution_count": 133,
     "metadata": {},
     "output_type": "execute_result"
    }
   ],
   "source": [
    "##### Function check\n",
    "lsi = LsiRetrievalModel(doc_repr_2)\n",
    "lsi.train_model()\n",
    "\n",
    "# you can now get an LSI vector for a given query in the following way:\n",
    "lsi.vectorize_query(\"report\")\n",
    "##### "
   ]
  },
  {
   "cell_type": "markdown",
   "metadata": {
    "deletable": false,
    "editable": false,
    "nbgrader": {
     "cell_type": "markdown",
     "checksum": "7116bb9f576c5bb04934e1d59c51d729",
     "grade": false,
     "grade_id": "cell-4c5eeb557b4fca2f",
     "locked": true,
     "points": 5,
     "schema_version": 3,
     "solution": false,
     "task": true
    }
   },
   "source": [
    "\\#### Please do not change this. This cell is used for grading."
   ]
  },
  {
   "cell_type": "markdown",
   "metadata": {
    "deletable": false,
    "editable": false,
    "nbgrader": {
     "cell_type": "markdown",
     "checksum": "26e2ff3c413745e633d99f66c041d6b1",
     "grade": false,
     "grade_id": "cell-c4e50296cd17a555",
     "locked": true,
     "schema_version": 3,
     "solution": false,
     "task": false
    }
   },
   "source": [
    "---\n",
    "**Implementation (5 points):**\n",
    " Next, implement a basic ranking class for vector space retrieval (used for all semantic methods): "
   ]
  },
  {
   "cell_type": "code",
   "execution_count": 79,
   "metadata": {
    "deletable": false,
    "nbgrader": {
     "cell_type": "code",
     "checksum": "1a8389d2f0635c3405e2b0b27ed9f327",
     "grade": false,
     "grade_id": "cell-250515d288e80cdc",
     "locked": false,
     "schema_version": 3,
     "solution": true,
     "task": false
    }
   },
   "outputs": [],
   "source": [
    "# TODO: Implement this! (5 points)\n",
    "class DenseRetrievalRanker:\n",
    "    def __init__(self, vsrm, similarity_fn):\n",
    "        \"\"\"\n",
    "            vsrm: instance of `VectorSpaceRetrievalModel`\n",
    "            similarity_fn: function instance that takes in two vectors \n",
    "                            and returns a similarity score e.g cosine_sim defined earlier\n",
    "        \"\"\"\n",
    "        self.vsrm = vsrm \n",
    "        self.vectorized_documents = self.vsrm.vectorize_documents()\n",
    "        self.similarity_fn = similarity_fn\n",
    "    \n",
    "    def _compute_sim(self, query_vector):\n",
    "        \"\"\"\n",
    "            Compute the similarity of `query_vector` to documents in \n",
    "            `self.vectorized_documents` using `self.similarity_fn`\n",
    "            Returns a list of (doc_id, score) tuples\n",
    "        \"\"\"\n",
    "        # YOUR CODE HERE\n",
    "        results = [(doc, cosine_sim(vec, query_vector)) for doc, vec in self.vectorized_documents.items() if vec and query_vector]\n",
    "        return results\n",
    "        # raise NotImplementedError()\n",
    "    \n",
    "    def search(self, query):\n",
    "        scores = self._compute_sim(self.vsrm.vectorize_query(query))\n",
    "        scores.sort(key=lambda _:-_[1])\n",
    "        return scores "
   ]
  },
  {
   "cell_type": "code",
   "execution_count": 80,
   "metadata": {
    "deletable": false,
    "editable": false,
    "nbgrader": {
     "cell_type": "code",
     "checksum": "f237dd1ef6c1783c06797f4b514421f5",
     "grade": true,
     "grade_id": "cell-b73068b3e77a8e31",
     "locked": true,
     "points": 0,
     "schema_version": 3,
     "solution": false,
     "task": false
    }
   },
   "outputs": [
    {
     "data": {
      "text/plain": [
       "[('599', 0.7996827831906627),\n",
       " ('947', 0.5774474447333775),\n",
       " ('53', 0.49448849538850015),\n",
       " ('3160', 0.45052656117145023),\n",
       " ('1339', 0.44868688793119443)]"
      ]
     },
     "execution_count": 80,
     "metadata": {},
     "output_type": "execute_result"
    }
   ],
   "source": [
    "##### Function check\n",
    "drm_lsi = DenseRetrievalRanker(lsi, cosine_sim)\n",
    "drm_lsi.search(\"report\")[:5]\n",
    "##### "
   ]
  },
  {
   "cell_type": "markdown",
   "metadata": {
    "deletable": false,
    "editable": false,
    "nbgrader": {
     "cell_type": "markdown",
     "checksum": "5b3f19fdcaa585d263706d5a26038799",
     "grade": false,
     "grade_id": "cell-034c755a6502b868",
     "locked": true,
     "points": 5,
     "schema_version": 3,
     "solution": false,
     "task": true
    }
   },
   "source": [
    "\\#### Please do not change this. This cell is used for grading."
   ]
  },
  {
   "cell_type": "markdown",
   "metadata": {
    "deletable": false,
    "editable": false,
    "nbgrader": {
     "cell_type": "markdown",
     "checksum": "dcafef6e037033c46304b914f7c78bdf",
     "grade": false,
     "grade_id": "cell-d1df23f497d5ed6b",
     "locked": true,
     "schema_version": 3,
     "solution": false,
     "task": false
    }
   },
   "source": [
    "---\n",
    "Now, you can test your LSI model in the following cell: try finding queries which are lexically different to documents, but semantically similar - does LSI work well for these queries?!"
   ]
  },
  {
   "cell_type": "code",
   "execution_count": 123,
   "metadata": {
    "deletable": false,
    "editable": false,
    "nbgrader": {
     "cell_type": "code",
     "checksum": "11734bc7674377b340ad51297a8e8bb5",
     "grade": false,
     "grade_id": "cell-efd1d08dfc04ec3e",
     "locked": true,
     "schema_version": 3,
     "solution": false,
     "task": false
    }
   },
   "outputs": [
    {
     "data": {
      "application/vnd.jupyter.widget-view+json": {
       "model_id": "a76f17f5f7674be0b3d11e85abbaadd1",
       "version_major": 2,
       "version_minor": 0
      },
      "text/plain": [
       "Text(value='', description='Search Bar')"
      ]
     },
     "metadata": {},
     "output_type": "display_data"
    },
    {
     "name": "stdout",
     "output_type": "stream",
     "text": [
      "Searching for: 'report' (SEARCH FN: <bound method DenseRetrievalRanker.search of <__main__.DenseRetrievalRanker object at 0x0000021E51656A90>>)\n"
     ]
    },
    {
     "data": {
      "text/html": [
       "<ul><li>Document #599(0.7996827831906627): ...A <strong>Report</strong> Writer For COBOL...</li><li>Document #947(0.5774474447333775): ... to the ALGOL 60 <strong>Report</strong> ...</li><li>Document #53(0.49448849538850015): Recommendations of the SHARE ALGOL Committee\n",
       "</li><li>Document #3160(0.45052656117145023): ...ter Science This <strong>report</strong> is based on the ......-authors of the  <strong>report</strong> are: Gordon Bell......contents of this <strong>report</strong>.  In preparation......n of the current <strong>report</strong> dated January 15......paration  of the <strong>report</strong>. $Note: Followin......sentation of the <strong>report</strong>, there is a posi...</li><li>Document #1339(0.44868688793119443): A Contribution to the Development of ALGOL\n",
       "</li></ul>"
      ],
      "text/plain": [
       "<IPython.core.display.HTML object>"
      ]
     },
     "metadata": {},
     "output_type": "display_data"
    }
   ],
   "source": [
    "# test your LSI model\n",
    "search_fn = drm_lsi.search\n",
    "\n",
    "text = widgets.Text(description=\"Search Bar\", width=200)\n",
    "display(text)\n",
    "\n",
    "def make_results_2(query, search_fn):\n",
    "    results = []\n",
    "    for doc_id, score in search_fn(query):\n",
    "        highlight = highlight_text(docs_by_id[doc_id], query)\n",
    "        if len(highlight.strip()) == 0:\n",
    "            highlight = docs_by_id[doc_id]\n",
    "        results.append(ResultRow(doc_id, highlight, score))\n",
    "    return results\n",
    "\n",
    "def handle_submit_2(sender):\n",
    "    print(f\"Searching for: '{sender.value}' (SEARCH FN: {search_fn})\")\n",
    "    \n",
    "    results = make_results_2(sender.value, search_fn)\n",
    "    \n",
    "    # display only the top 5\n",
    "    results = results[:5]\n",
    "    \n",
    "    body = \"\"\n",
    "    for idx, r in enumerate(results):\n",
    "        body += f\"<li>Document #{r.doc_id}({r.score}): {r.snippet}</li>\"\n",
    "    display(HTML(f\"<ul>{body}</ul>\"))\n",
    "    \n",
    "\n",
    "text.on_submit(handle_submit_2)"
   ]
  },
  {
   "cell_type": "markdown",
   "metadata": {
    "deletable": false,
    "editable": false,
    "nbgrader": {
     "cell_type": "markdown",
     "checksum": "d074ce1ca48384cdda78742741c938be",
     "grade": false,
     "grade_id": "cell-3a86cef264d8f6cf",
     "locked": true,
     "schema_version": 3,
     "solution": false,
     "task": false
    }
   },
   "source": [
    "---\n",
    "## Section 7: Latent Dirichlet Allocation (LDA) (10 points) <a class=\"anchor\" id=\"lda\"></a>\n",
    "\n",
    "[Back to Part 2](#part2)\n",
    "\n",
    "The specifics of LDA is out of the scope of this assignment, but we will use the `gensim` implementation to perform search using LDA over our small document collection. The key thing to remember is that LDA, unlike LSI, outputs a topic **distribution**, not a vector. With that in mind, let's first define a similarity measure.\n"
   ]
  },
  {
   "cell_type": "markdown",
   "metadata": {
    "deletable": false,
    "editable": false,
    "nbgrader": {
     "cell_type": "markdown",
     "checksum": "db01092373b18f0c9dfed1bb17db4ad9",
     "grade": false,
     "grade_id": "cell-6b78ad22c2d60ba7",
     "locked": true,
     "schema_version": 3,
     "solution": false,
     "task": false
    }
   },
   "source": [
    "---\n",
    "### Section 7.1: Jenson-Shannon divergence (5 points) <a class=\"anchor\" id=\"js_sim\"></a>\n",
    "\n",
    "The Jenson-Shannon divergence is a symmetric and finite measure on two probability distributions (unlike the KL, which is neither). For identical distributions, the JSD is equal to 0, and since our code uses 0 as irrelevant and higher scores as relevant, we use `(1 - JSD)` as the score or 'similarity' in our setup\n",
    "\n",
    "**Note**: the JSD is bounded to \\[0,1\\] only if we use log base 2. So please ensure that you're using `np.log2` instead of `np.log`"
   ]
  },
  {
   "cell_type": "code",
   "execution_count": 82,
   "metadata": {
    "deletable": false,
    "nbgrader": {
     "cell_type": "code",
     "checksum": "a579e6cd7a24a3516bc9a84528b392d3",
     "grade": false,
     "grade_id": "cell-d2376a85a4841e98",
     "locked": false,
     "schema_version": 3,
     "solution": true,
     "task": false
    }
   },
   "outputs": [],
   "source": [
    "## TODO: Implement this! (5 points)\n",
    "def jenson_shannon_divergence(vec_1, vec_2, assert_prob=False):\n",
    "    \"\"\"\n",
    "        Computes the Jensen-Shannon divergence between two probability distributions. \n",
    "        NOTE: DO NOT RETURN 1 - JSD here, that is handled by the next function which is already implemented! \n",
    "        The inputs are *gensim* vectors - same as the vectors for the cosine_sim function\n",
    "        assert_prob is a flag that checks if the inputs are proper probability distributions \n",
    "            i.e they sum to 1 and are positive - use this to check your inputs if needed. \n",
    "                (This is optional to implement, but recommended - \n",
    "                you can the default to False to save a few ms off the runtime)\n",
    "    \"\"\"\n",
    "    # YOUR CODE HERE\n",
    "    v1 = np.array([v[1] for v in vec_1])\n",
    "    v2 = np.array([v[1] for v in vec_2])\n",
    "\n",
    "    if assert_prob:\n",
    "        assert(np.sum(v1) == 1)\n",
    "        assert(np.sum(v2) == 1)\n",
    "        assert(np.min(v1) >= 0)\n",
    "        assert(np.min(v2) >= 0)\n",
    "\n",
    "    def kl(p, q):\n",
    "        return np.sum(p[i] * np.log2(p[i]/q[i]) for i in range(p.shape[0]))\n",
    "    \n",
    "    m = 0.5 * (v1 + v2)\n",
    "    jsd = 0.5 * kl(v1, m) + 0.5 * kl(v2, m)\n",
    "\n",
    "    return jsd\n",
    "    # raise NotImplementedError()\n",
    "\n",
    "def jenson_shannon_sim(vec_1, vec_2, assert_prob=False):\n",
    "    return 1 - jenson_shannon_divergence(vec_1, vec_2, assert_prob)\n",
    "\n"
   ]
  },
  {
   "cell_type": "code",
   "execution_count": 83,
   "metadata": {
    "deletable": false,
    "editable": false,
    "nbgrader": {
     "cell_type": "code",
     "checksum": "ab340aa941c9fb5c89b3fd0a9139e246",
     "grade": true,
     "grade_id": "cell-487c6d2933f38053",
     "locked": true,
     "points": 5,
     "schema_version": 3,
     "solution": false,
     "task": false
    }
   },
   "outputs": [
    {
     "name": "stderr",
     "output_type": "stream",
     "text": [
      "C:\\Users\\irene\\AppData\\Local\\Continuum\\anaconda3\\envs\\ir2022\\lib\\site-packages\\ipykernel_launcher.py:23: DeprecationWarning: Calling np.sum(generator) is deprecated, and in the future will give a different result. Use np.sum(np.fromiter(generator)) or the python sum builtin instead.\n"
     ]
    },
    {
     "data": {
      "text/plain": [
       "0.9251064410358459"
      ]
     },
     "execution_count": 83,
     "metadata": {},
     "output_type": "execute_result"
    }
   ],
   "source": [
    "##### Function check\n",
    "vec_1 = [(1, 0.3), (2, 0.4), (3, 0.3)]\n",
    "vec_2 = [(1, 0.1), (2, 0.7), (3, 0.2)]\n",
    "jenson_shannon_sim(vec_1, vec_2, assert_prob=True)\n",
    "##### "
   ]
  },
  {
   "cell_type": "markdown",
   "metadata": {
    "deletable": false,
    "editable": false,
    "nbgrader": {
     "cell_type": "markdown",
     "checksum": "0a1583a5f23e3390038331cce67f5d8e",
     "grade": false,
     "grade_id": "cell-4535cc67a50b80fa",
     "locked": true,
     "schema_version": 3,
     "solution": false,
     "task": false
    }
   },
   "source": [
    "---\n",
    "### Section 7.2: LDA retrieval (5 points) <a class=\"anchor\" id=\"lda_ret\"></a>\n",
    "\n",
    "Implement the `train_model` method in the following class (note that this is only one line of code in `gensim`!). Ensure that the parameters defined in the `__init__` method are not changed, and are *used in the `train_method` function*. You do not need to set this. Normally, the hyperaparameter space will be searched using grid search / other methods. Note that training the LDA model might take some time\n",
    "\n",
    "The last two lines of code train an LDA model on the list of documents which have been stemmed, lower-cased and have stopwords removed. "
   ]
  },
  {
   "cell_type": "code",
   "execution_count": 129,
   "metadata": {
    "deletable": false,
    "nbgrader": {
     "cell_type": "code",
     "checksum": "27de8e4fa85536bb396b73bfc51b3f50",
     "grade": false,
     "grade_id": "cell-021a48dff4a8bb91",
     "locked": false,
     "schema_version": 3,
     "solution": true,
     "task": false
    }
   },
   "outputs": [],
   "source": [
    "# TODO: Implement this! (5 points)\n",
    "class LdaRetrievalModel(VectorSpaceRetrievalModel):\n",
    "    def __init__(self, doc_repr):\n",
    "        super().__init__(doc_repr)\n",
    "        \n",
    "        # use these parameters in the train_model method\n",
    "        self.num_topics = 100\n",
    "        self.chunksize = 2000\n",
    "        self.passes = 20\n",
    "        self.iterations = 400\n",
    "        self.eval_every = 10\n",
    "        # this is need to get full vectors\n",
    "        self.minimum_probability=0.0\n",
    "        self.alpha='auto'\n",
    "        self.eta='auto'\n",
    "    \n",
    "    \n",
    "    def train_model(self):\n",
    "        # YOUR CODE HERE\n",
    "        self.model = LdaModel(corpus = self.corpus,\n",
    "                              id2word = self.id2word,\n",
    "                              num_topics = self.num_topics,\n",
    "                              chunksize = self.chunksize,\n",
    "                              passes = self.passes,\n",
    "                              iterations = self.iterations,\n",
    "                              eval_every = self.eval_every,\n",
    "                              minimum_probability = self.minimum_probability,\n",
    "                              alpha = self.alpha,\n",
    "                              eta = self.eta)\n",
    "        # raise NotImplementedError()"
   ]
  },
  {
   "cell_type": "code",
   "execution_count": 130,
   "metadata": {
    "deletable": false,
    "editable": false,
    "nbgrader": {
     "cell_type": "code",
     "checksum": "be70fcb8098d0b6ce64cd2a10e6a05b7",
     "grade": true,
     "grade_id": "cell-86750b715f0345fd",
     "locked": true,
     "points": 0,
     "schema_version": 3,
     "solution": false,
     "task": false
    }
   },
   "outputs": [
    {
     "name": "stderr",
     "output_type": "stream",
     "text": [
      "2022-02-22 21:26:05,886 : INFO : adding document #0 to Dictionary(0 unique tokens: [])\n",
      "2022-02-22 21:26:06,172 : INFO : built Dictionary(5937 unique tokens: ['-', 'algebra', 'intern', 'languag', 'preliminari']...) from 3204 documents (total 115969 corpus positions)\n",
      "2022-02-22 21:26:06,188 : INFO : discarding 4740 tokens: [('repeat', 8), ('glossari', 7), ('inspect', 8), ('uncol', 2), ('rung', 9), ('secant', 2), ('.', 1603), ('acceler', 6), ('diverg', 3), ('induc', 9)]...\n",
      "2022-02-22 21:26:06,188 : INFO : keeping 1197 tokens which were in no less than 10 and no more than 1602 (=50.0%) documents\n",
      "2022-02-22 21:26:06,209 : INFO : resulting dictionary: Dictionary(1197 unique tokens: ['-', 'algebra', 'intern', 'languag', 'preliminari']...)\n",
      "2022-02-22 21:26:06,371 : INFO : using autotuned alpha, starting with [0.01, 0.01, 0.01, 0.01, 0.01, 0.01, 0.01, 0.01, 0.01, 0.01, 0.01, 0.01, 0.01, 0.01, 0.01, 0.01, 0.01, 0.01, 0.01, 0.01, 0.01, 0.01, 0.01, 0.01, 0.01, 0.01, 0.01, 0.01, 0.01, 0.01, 0.01, 0.01, 0.01, 0.01, 0.01, 0.01, 0.01, 0.01, 0.01, 0.01, 0.01, 0.01, 0.01, 0.01, 0.01, 0.01, 0.01, 0.01, 0.01, 0.01, 0.01, 0.01, 0.01, 0.01, 0.01, 0.01, 0.01, 0.01, 0.01, 0.01, 0.01, 0.01, 0.01, 0.01, 0.01, 0.01, 0.01, 0.01, 0.01, 0.01, 0.01, 0.01, 0.01, 0.01, 0.01, 0.01, 0.01, 0.01, 0.01, 0.01, 0.01, 0.01, 0.01, 0.01, 0.01, 0.01, 0.01, 0.01, 0.01, 0.01, 0.01, 0.01, 0.01, 0.01, 0.01, 0.01, 0.01, 0.01, 0.01, 0.01]\n",
      "2022-02-22 21:26:06,371 : INFO : using serial LDA version on this node\n",
      "2022-02-22 21:26:06,395 : INFO : running online (multi-pass) LDA training, 100 topics, 20 passes over the supplied corpus of 3204 documents, updating model once every 2000 documents, evaluating perplexity every 3204 documents, iterating 400x with a convergence threshold of 0.001000\n",
      "2022-02-22 21:26:06,395 : INFO : PROGRESS: pass 0, at document #2000/3204\n",
      "2022-02-22 21:26:10,953 : INFO : optimized alpha [0.009908384, 0.0097942995, 0.009850438, 0.009762997, 0.009788836, 0.009778593, 0.009788727, 0.009809236, 0.009799087, 0.009768269, 0.00990882, 0.009778533, 0.009825006, 0.009830424, 0.0099031385, 0.009820464, 0.009773213, 0.009809626, 0.009829926, 0.009950349, 0.009991717, 0.009903171, 0.009871971, 0.009842492, 0.0098196175, 0.009783407, 0.009861682, 0.009788854, 0.009814872, 0.009877037, 0.009809492, 0.009825055, 0.00979404, 0.009762963, 0.009809661, 0.009773352, 0.009804541, 0.009824822, 0.009856333, 0.009856669, 0.009804423, 0.009866744, 0.009825524, 0.009830343, 0.009861711, 0.009794413, 0.00989756, 0.009928306, 0.009809352, 0.009830669, 0.009809546, 0.009830078, 0.009824958, 0.009783452, 0.009945007, 0.010068524, 0.009834725, 0.009768065, 0.009778481, 0.009778663, 0.009788814, 0.009788863, 0.009783542, 0.009788847, 0.009788714, 0.009851527, 0.009783659, 0.0097992085, 0.009804264, 0.009783754, 0.0097939195, 0.009819862, 0.009773375, 0.0098044025, 0.009825012, 0.009830859, 0.00980477, 0.009885286, 0.009865906, 0.009871431, 0.009851179, 0.00984596, 0.009980593, 0.009892114, 0.009799125, 0.009861974, 0.009794046, 0.009814344, 0.009887459, 0.009953507, 0.009814676, 0.009804659, 0.009835581, 0.009778542, 0.009814671, 0.009788757, 0.009861298, 0.00982991, 0.009794, 0.009773361]\n",
      "2022-02-22 21:26:10,964 : INFO : merging changes from 2000 documents into a model of 3204 documents\n",
      "2022-02-22 21:26:10,998 : INFO : topic #9 (0.010): 0.085*\"-\" + 0.074*\",\" + 0.053*\"number\" + 0.042*\"gener\" + 0.042*\"bit\" + 0.042*\"random\" + 0.032*\"test\" + 0.021*\"pseudo\" + 0.021*\"run\" + 0.021*\"arithmet\"\n",
      "2022-02-22 21:26:11,002 : INFO : topic #3 (0.010): 0.109*\"algorithm\" + 0.054*\"relat\" + 0.054*\"shown\" + 0.054*\"(\" + 0.054*\"applic\" + 0.054*\"method\" + 0.054*\")\" + 0.054*\"phase\" + 0.054*\"comput\" + 0.054*\"product\"\n",
      "2022-02-22 21:26:11,002 : INFO : topic #20 (0.010): 0.092*\"(\" + 0.077*\"algorithm\" + 0.053*\")\" + 0.040*\"-\" + 0.032*\"method\" + 0.032*\"])\" + 0.032*\"[\" + 0.020*\"function\" + 0.020*\"integr\" + 0.018*\",\"\n",
      "2022-02-22 21:26:11,006 : INFO : topic #19 (0.010): 0.076*\",\" + 0.034*\"languag\" + 0.022*\"comput\" + 0.022*\"-\" + 0.018*\"program\" + 0.016*\"procedur\" + 0.014*\"process\" + 0.011*\"system\" + 0.011*\"present\" + 0.011*\"problem\"\n",
      "2022-02-22 21:26:11,007 : INFO : topic #55 (0.010): 0.074*\",\" + 0.041*\"-\" + 0.027*\"(\" + 0.025*\")\" + 0.025*\"system\" + 0.019*\"program\" + 0.018*\"\"\" + 0.018*\"comput\" + 0.011*\"algorithm\" + 0.011*\"time\"\n",
      "2022-02-22 21:26:11,007 : INFO : topic diff=82.562439, rho=1.000000\n",
      "2022-02-22 21:26:13,948 : INFO : -7.266 per-word bound, 153.9 perplexity estimate based on a held-out corpus of 1204 documents with 49783 words\n",
      "2022-02-22 21:26:13,965 : INFO : PROGRESS: pass 0, at document #3204/3204\n",
      "2022-02-22 21:26:16,325 : INFO : optimized alpha [0.010231672, 0.010058031, 0.009690653, 0.009634826, 0.009982824, 0.009901781, 0.009800053, 0.009878516, 0.00979207, 0.009862574, 0.010268485, 0.009871327, 0.010196685, 0.009943389, 0.0101242745, 0.009943705, 0.01037688, 0.009915741, 0.009788313, 0.010093751, 0.010383961, 0.010003575, 0.009954435, 0.01010863, 0.009865466, 0.009777249, 0.010058346, 0.010044816, 0.010021228, 0.010084612, 0.009703627, 0.009907368, 0.01005681, 0.009576203, 0.009963588, 0.010151028, 0.009805706, 0.009876522, 0.010093557, 0.009922555, 0.009962941, 0.0103565, 0.010132912, 0.009835452, 0.010234318, 0.009723482, 0.009986042, 0.009867036, 0.010014024, 0.009962723, 0.009857143, 0.009711667, 0.009977629, 0.009788691, 0.010221486, 0.010347521, 0.009999702, 0.00955878, 0.009791411, 0.010188929, 0.009782464, 0.01020072, 0.0098357545, 0.009917531, 0.009857896, 0.0101483455, 0.009771946, 0.009888325, 0.009839064, 0.0100051565, 0.009641767, 0.009836505, 0.009916346, 0.0105971005, 0.009865771, 0.010062486, 0.009911616, 0.009932007, 0.010103574, 0.00985292, 0.010486384, 0.009828444, 0.010056783, 0.010058026, 0.009828555, 0.010023375, 0.009781978, 0.010017701, 0.010173575, 0.010016649, 0.010062648, 0.010171128, 0.010031494, 0.009848992, 0.00997311, 0.009999533, 0.0098012965, 0.009682309, 0.009963294, 0.009639161]\n",
      "2022-02-22 21:26:16,351 : INFO : merging changes from 1204 documents into a model of 3204 documents\n",
      "2022-02-22 21:26:16,376 : INFO : topic #57 (0.010): 0.163*\"algorithm\" + 0.136*\"(\" + 0.100*\"g5\" + 0.098*\"random\" + 0.072*\"number\" + 0.069*\"pseudo\" + 0.053*\")\" + 0.045*\"[\" + 0.043*\"elementari\" + 0.040*\"-\"\n",
      "2022-02-22 21:26:16,382 : INFO : topic #33 (0.010): 0.270*\"intellig\" + 0.214*\"extract\" + 0.172*\"abil\" + 0.026*\"system\" + 0.026*\"inform\" + 0.021*\"data\" + 0.000*\"situat\" + 0.000*\"regress\" + 0.000*\"simpson\" + 0.000*\"stage\"\n",
      "2022-02-22 21:26:16,382 : INFO : topic #20 (0.010): 0.122*\"(\" + 0.110*\"algorithm\" + 0.100*\")\" + 0.036*\"method\" + 0.032*\"-\" + 0.032*\"[\" + 0.032*\"hash\" + 0.023*\"integr\" + 0.020*\"cluster\" + 0.015*\"'\"\n",
      "2022-02-22 21:26:16,382 : INFO : topic #80 (0.010): 0.072*\",\" + 0.030*\"comput\" + 0.022*\"languag\" + 0.022*\"simul\" + 0.018*\"program\" + 0.018*\"-\" + 0.017*\"discuss\" + 0.017*\"paper\" + 0.015*\"induct\" + 0.013*\"access\"\n",
      "2022-02-22 21:26:16,382 : INFO : topic #73 (0.011): 0.102*\"tree\" + 0.075*\",\" + 0.056*\"search\" + 0.040*\"structur\" + 0.037*\"averag\" + 0.033*\"node\" + 0.021*\"time\" + 0.020*\"cost\" + 0.019*\"updat\" + 0.017*\"map\"\n",
      "2022-02-22 21:26:16,390 : INFO : topic diff=0.773643, rho=0.707107\n",
      "2022-02-22 21:26:16,406 : INFO : PROGRESS: pass 1, at document #2000/3204\n",
      "2022-02-22 21:26:18,683 : INFO : optimized alpha [0.010165436, 0.010029389, 0.00972629, 0.009577258, 0.00989981, 0.009873347, 0.009860207, 0.009881579, 0.009832655, 0.009898123, 0.010199308, 0.009850909, 0.01019825, 0.009890993, 0.010038671, 0.009885873, 0.010411107, 0.009955763, 0.009780099, 0.010058507, 0.010740124, 0.009976575, 0.009848747, 0.010060939, 0.009795155, 0.010071929, 0.009987727, 0.010002237, 0.009929396, 0.010021324, 0.009828808, 0.009894906, 0.010020201, 0.009484075, 0.0099929515, 0.010284665, 0.009819705, 0.009848482, 0.01011683, 0.009873747, 0.009944601, 0.010320893, 0.01003579, 0.009858748, 0.010181201, 0.009777925, 0.009935165, 0.009834256, 0.009993959, 0.009956169, 0.00979051, 0.010259028, 0.009993419, 0.010039416, 0.010145018, 0.010276958, 0.009927232, 0.009526162, 0.009783687, 0.010160614, 0.009781666, 0.010183296, 0.009784795, 0.009896456, 0.009858381, 0.010056478, 0.009781628, 0.00982595, 0.009806081, 0.009982344, 0.009648355, 0.0098144775, 0.009937047, 0.010529392, 0.0098802475, 0.010051126, 0.009817532, 0.009876906, 0.010028421, 0.009807125, 0.010391536, 0.00973375, 0.00994309, 0.009949338, 0.009793724, 0.009978282, 0.009695765, 0.0099763675, 0.010089421, 0.009970946, 0.010018313, 0.010173504, 0.0099906325, 0.010020534, 0.009943364, 0.010159057, 0.009701631, 0.009626979, 0.009938831, 0.009553423]\n"
     ]
    },
    {
     "name": "stderr",
     "output_type": "stream",
     "text": [
      "2022-02-22 21:26:18,704 : INFO : merging changes from 2000 documents into a model of 3204 documents\n",
      "2022-02-22 21:26:18,727 : INFO : topic #33 (0.009): 0.270*\"extract\" + 0.231*\"abil\" + 0.193*\"intellig\" + 0.030*\"inform\" + 0.030*\"system\" + 0.028*\"data\" + 0.000*\"situat\" + 0.000*\"regress\" + 0.000*\"simpson\" + 0.000*\"stage\"\n",
      "2022-02-22 21:26:18,727 : INFO : topic #57 (0.010): 0.169*\"random\" + 0.145*\"algorithm\" + 0.127*\"(\" + 0.124*\"number\" + 0.071*\"pseudo\" + 0.068*\")\" + 0.064*\"elementari\" + 0.050*\"g5\" + 0.037*\"-\" + 0.034*\"[\"\n",
      "2022-02-22 21:26:18,727 : INFO : topic #16 (0.010): 0.113*\"(\" + 0.093*\"]\" + 0.090*\"equat\" + 0.085*\")\" + 0.069*\"solut\" + 0.043*\",\" + 0.041*\"minim\" + 0.038*\"[\" + 0.031*\"=\" + 0.028*\"algorithm\"\n",
      "2022-02-22 21:26:18,727 : INFO : topic #73 (0.011): 0.092*\"tree\" + 0.074*\",\" + 0.059*\"search\" + 0.039*\"structur\" + 0.030*\"averag\" + 0.030*\"node\" + 0.023*\"time\" + 0.021*\"map\" + 0.017*\"cost\" + 0.016*\"updat\"\n",
      "2022-02-22 21:26:18,727 : INFO : topic #20 (0.011): 0.141*\"(\" + 0.128*\"algorithm\" + 0.114*\")\" + 0.039*\"integr\" + 0.028*\"method\" + 0.027*\"[\" + 0.026*\"-\" + 0.021*\"matrix\" + 0.018*\"hash\" + 0.017*\"'\"\n",
      "2022-02-22 21:26:18,743 : INFO : topic diff=0.322488, rho=0.526900\n",
      "2022-02-22 21:26:21,224 : INFO : -6.879 per-word bound, 117.7 perplexity estimate based on a held-out corpus of 1204 documents with 49783 words\n",
      "2022-02-22 21:26:21,230 : INFO : PROGRESS: pass 1, at document #3204/3204\n",
      "2022-02-22 21:26:23,252 : INFO : optimized alpha [0.010262525, 0.010325426, 0.009651724, 0.009640407, 0.010071623, 0.010031323, 0.009987069, 0.009994513, 0.009915123, 0.010051347, 0.01041575, 0.009973204, 0.01056125, 0.009998007, 0.010208409, 0.010008969, 0.010980468, 0.010105069, 0.009863858, 0.010089004, 0.010957739, 0.010046656, 0.009889773, 0.010287294, 0.009873919, 0.010394429, 0.010125283, 0.01024701, 0.0100395745, 0.0101539735, 0.009798622, 0.009982908, 0.010275645, 0.009401375, 0.010169211, 0.010648882, 0.009865744, 0.009892624, 0.010321712, 0.009892737, 0.010142731, 0.010750604, 0.010244191, 0.009876765, 0.010417047, 0.009813545, 0.010027895, 0.009787786, 0.010155904, 0.010099841, 0.009901635, 0.010355144, 0.010106901, 0.010111705, 0.010297214, 0.010356273, 0.010010741, 0.009494248, 0.0100045055, 0.010503457, 0.009791485, 0.010660755, 0.0099113565, 0.0101590315, 0.010109781, 0.010224695, 0.009821823, 0.00993707, 0.009915621, 0.010236661, 0.00964776, 0.009893398, 0.010179354, 0.011047661, 0.009985763, 0.010157331, 0.009941927, 0.00993531, 0.010259367, 0.009870041, 0.01082118, 0.009750513, 0.010019157, 0.0099935625, 0.009908865, 0.010089907, 0.009737217, 0.010163734, 0.010352954, 0.010058914, 0.010320743, 0.010545385, 0.010207898, 0.010159748, 0.010105976, 0.0105152875, 0.009713515, 0.009580378, 0.010065241, 0.009537221]\n",
      "2022-02-22 21:26:23,272 : INFO : merging changes from 1204 documents into a model of 3204 documents\n",
      "2022-02-22 21:26:23,301 : INFO : topic #33 (0.009): 0.277*\"extract\" + 0.249*\"intellig\" + 0.248*\"abil\" + 0.020*\"inform\" + 0.018*\"system\" + 0.015*\"data\" + 0.000*\"situat\" + 0.000*\"regress\" + 0.000*\"simpson\" + 0.000*\"stage\"\n",
      "2022-02-22 21:26:23,301 : INFO : topic #57 (0.009): 0.207*\"random\" + 0.178*\"algorithm\" + 0.137*\"number\" + 0.124*\"(\" + 0.071*\")\" + 0.060*\"elementari\" + 0.049*\"pseudo\" + 0.048*\"g5\" + 0.032*\"-\" + 0.029*\"[\"\n",
      "2022-02-22 21:26:23,301 : INFO : topic #20 (0.011): 0.132*\"(\" + 0.123*\"algorithm\" + 0.107*\")\" + 0.036*\"integr\" + 0.032*\"hash\" + 0.031*\"method\" + 0.028*\"-\" + 0.024*\"matrix\" + 0.023*\"[\" + 0.021*\"cluster\"\n",
      "2022-02-22 21:26:23,316 : INFO : topic #73 (0.011): 0.119*\"tree\" + 0.081*\",\" + 0.073*\"search\" + 0.047*\"structur\" + 0.038*\"averag\" + 0.035*\"node\" + 0.025*\"time\" + 0.021*\"map\" + 0.019*\"cost\" + 0.019*\"updat\"\n",
      "2022-02-22 21:26:23,317 : INFO : topic #16 (0.011): 0.147*\"]\" + 0.113*\"(\" + 0.104*\")\" + 0.075*\"equat\" + 0.064*\"solut\" + 0.049*\"[\" + 0.043*\"minim\" + 0.038*\",\" + 0.036*\"=\" + 0.035*\"algorithm\"\n",
      "2022-02-22 21:26:23,317 : INFO : topic diff=0.430644, rho=0.526900\n",
      "2022-02-22 21:26:23,339 : INFO : PROGRESS: pass 2, at document #2000/3204\n",
      "2022-02-22 21:26:25,505 : INFO : optimized alpha [0.010209507, 0.010333473, 0.009771351, 0.009633405, 0.010028363, 0.010029015, 0.010108298, 0.0100484975, 0.010018634, 0.010117643, 0.010365484, 0.010018579, 0.010573812, 0.009959193, 0.010146508, 0.009976953, 0.011004425, 0.010201579, 0.009968193, 0.010059172, 0.0111578405, 0.0100727165, 0.009817848, 0.010250565, 0.009840749, 0.011050336, 0.010062815, 0.01023352, 0.009959329, 0.01009782, 0.009993319, 0.010009732, 0.010270095, 0.009335959, 0.010230138, 0.010849208, 0.009988505, 0.009915335, 0.010387764, 0.009862945, 0.010180121, 0.010738979, 0.010166709, 0.009930895, 0.0104071405, 0.009954667, 0.009983387, 0.009804806, 0.0101710325, 0.01013685, 0.009868865, 0.010852593, 0.010163485, 0.010337694, 0.010248813, 0.010289869, 0.009938292, 0.009541252, 0.010069525, 0.010474395, 0.009805986, 0.010674667, 0.009907878, 0.010183328, 0.010157679, 0.010154977, 0.009856364, 0.009882157, 0.009937714, 0.010221443, 0.009693485, 0.00990917, 0.010219629, 0.010984968, 0.010036012, 0.010173305, 0.009875653, 0.009897287, 0.010229609, 0.009858636, 0.010731012, 0.0096836435, 0.009944506, 0.009895403, 0.009901454, 0.010059877, 0.009681506, 0.010130378, 0.010300554, 0.010011691, 0.010302726, 0.010561125, 0.01017485, 0.010344484, 0.010088417, 0.010724293, 0.009648939, 0.009582013, 0.010050495, 0.009489487]\n",
      "2022-02-22 21:26:25,520 : INFO : merging changes from 2000 documents into a model of 3204 documents\n",
      "2022-02-22 21:26:25,544 : INFO : topic #33 (0.009): 0.294*\"extract\" + 0.273*\"abil\" + 0.198*\"intellig\" + 0.024*\"inform\" + 0.022*\"system\" + 0.021*\"data\" + 0.000*\"situat\" + 0.000*\"regress\" + 0.000*\"simpson\" + 0.000*\"stage\"\n",
      "2022-02-22 21:26:25,544 : INFO : topic #99 (0.009): 0.113*\"modif\" + 0.111*\"multiprogram\" + 0.086*\"disk\" + 0.083*\"content\" + 0.068*\"system\" + 0.064*\",\" + 0.055*\"recoveri\" + 0.042*\"method\" + 0.039*\"simultan\" + 0.034*\"statu\"\n",
      "2022-02-22 21:26:25,544 : INFO : topic #73 (0.011): 0.109*\"tree\" + 0.079*\",\" + 0.076*\"search\" + 0.044*\"structur\" + 0.032*\"averag\" + 0.032*\"node\" + 0.025*\"time\" + 0.025*\"map\" + 0.017*\"cost\" + 0.016*\"updat\"\n",
      "2022-02-22 21:26:25,544 : INFO : topic #25 (0.011): 0.272*\")\" + 0.270*\"(\" + 0.266*\"algorithm\" + 0.043*\"surfac\" + 0.036*\"polynomi\" + 0.024*\"coeffici\" + 0.017*\"differ\" + 0.013*\"express\" + 0.011*\"integ\" + 0.009*\"root\"\n",
      "2022-02-22 21:26:25,544 : INFO : topic #20 (0.011): 0.131*\"(\" + 0.123*\"algorithm\" + 0.106*\")\" + 0.054*\"integr\" + 0.029*\"method\" + 0.026*\"-\" + 0.023*\"'\" + 0.023*\"matrix\" + 0.022*\"hash\" + 0.018*\"squar\"\n",
      "2022-02-22 21:26:25,544 : INFO : topic diff=0.405889, rho=0.466151\n",
      "2022-02-22 21:26:27,655 : INFO : -6.763 per-word bound, 108.6 perplexity estimate based on a held-out corpus of 1204 documents with 49783 words\n",
      "2022-02-22 21:26:27,655 : INFO : PROGRESS: pass 2, at document #3204/3204\n",
      "2022-02-22 21:26:29,568 : INFO : optimized alpha [0.010251844, 0.010635872, 0.00974398, 0.0097534815, 0.010209067, 0.010193445, 0.010283687, 0.010176182, 0.0101340385, 0.010281509, 0.010542351, 0.010147008, 0.010893133, 0.010062324, 0.010357979, 0.010118106, 0.011480293, 0.010357932, 0.010127629, 0.010079442, 0.01135511, 0.010130893, 0.009867509, 0.010460999, 0.009957395, 0.011534467, 0.0101650795, 0.010472362, 0.0100540295, 0.010215952, 0.009976473, 0.01011933, 0.010482678, 0.009271448, 0.0103906775, 0.011154687, 0.010059778, 0.009981777, 0.010566605, 0.009908156, 0.0103730075, 0.011183462, 0.010364615, 0.009966622, 0.010592956, 0.010004499, 0.010097576, 0.009788613, 0.010371084, 0.0103171235, 0.010018469, 0.010958376, 0.010255707, 0.010460339, 0.010396217, 0.010340686, 0.0099746995, 0.009577085, 0.010323114, 0.010799648, 0.009861619, 0.011165519, 0.010051482, 0.010474622, 0.010469845, 0.010324658, 0.009919179, 0.01000834, 0.010112495, 0.010473076, 0.009746643, 0.009998957, 0.010468539, 0.011447696, 0.010129816, 0.010279463, 0.010021971, 0.009946328, 0.010463709, 0.009984778, 0.0111188935, 0.009734937, 0.010056079, 0.009959768, 0.010038662, 0.010155586, 0.009731276, 0.0102735525, 0.010548428, 0.010165385, 0.010578961, 0.010880272, 0.010396916, 0.010495634, 0.010269029, 0.011057002, 0.009680367, 0.009592113, 0.010166962, 0.009507346]\n",
      "2022-02-22 21:26:29,588 : INFO : merging changes from 1204 documents into a model of 3204 documents\n"
     ]
    },
    {
     "name": "stderr",
     "output_type": "stream",
     "text": [
      "2022-02-22 21:26:29,606 : INFO : topic #33 (0.009): 0.286*\"extract\" + 0.275*\"abil\" + 0.238*\"intellig\" + 0.018*\"inform\" + 0.015*\"system\" + 0.013*\"data\" + 0.000*\"situat\" + 0.000*\"regress\" + 0.000*\"simpson\" + 0.000*\"stage\"\n",
      "2022-02-22 21:26:29,606 : INFO : topic #99 (0.010): 0.138*\"multiprogram\" + 0.116*\"modif\" + 0.111*\"disk\" + 0.095*\"content\" + 0.067*\",\" + 0.057*\"recoveri\" + 0.053*\"system\" + 0.044*\"'\" + 0.037*\"method\" + 0.037*\"load\"\n",
      "2022-02-22 21:26:29,606 : INFO : topic #73 (0.011): 0.130*\"tree\" + 0.085*\"search\" + 0.083*\",\" + 0.048*\"structur\" + 0.037*\"averag\" + 0.037*\"node\" + 0.026*\"time\" + 0.024*\"map\" + 0.020*\"updat\" + 0.019*\"cost\"\n",
      "2022-02-22 21:26:29,606 : INFO : topic #16 (0.011): 0.159*\"]\" + 0.112*\"(\" + 0.109*\")\" + 0.078*\"equat\" + 0.074*\"solut\" + 0.055*\"[\" + 0.041*\"minim\" + 0.040*\"=\" + 0.036*\"algorithm\" + 0.033*\",\"\n",
      "2022-02-22 21:26:29,622 : INFO : topic #25 (0.012): 0.290*\"algorithm\" + 0.269*\"(\" + 0.265*\")\" + 0.063*\"surfac\" + 0.026*\"polynomi\" + 0.017*\"coeffici\" + 0.015*\"differ\" + 0.011*\"integ\" + 0.011*\"express\" + 0.009*\"root\"\n",
      "2022-02-22 21:26:29,625 : INFO : topic diff=0.534826, rho=0.466151\n",
      "2022-02-22 21:26:29,643 : INFO : PROGRESS: pass 3, at document #2000/3204\n",
      "2022-02-22 21:26:31,727 : INFO : optimized alpha [0.01021641, 0.010658993, 0.009907507, 0.0097696595, 0.010197345, 0.010201601, 0.010425132, 0.010238165, 0.010250079, 0.01035889, 0.010527683, 0.010209927, 0.010915805, 0.010050995, 0.010309264, 0.010091037, 0.011492499, 0.010480954, 0.010293879, 0.010066717, 0.011519214, 0.0101744905, 0.00980824, 0.010430659, 0.009942171, 0.012296765, 0.010104728, 0.010476129, 0.009990969, 0.010173946, 0.0101765115, 0.010162852, 0.010491946, 0.00922163, 0.010448039, 0.011374946, 0.010241055, 0.010021892, 0.010667114, 0.009892919, 0.01045064, 0.011208787, 0.010320102, 0.010074026, 0.010610013, 0.010182787, 0.010066069, 0.009819818, 0.010397014, 0.010374442, 0.010005398, 0.011440977, 0.010317965, 0.010689383, 0.01035884, 0.010286517, 0.00990687, 0.009654859, 0.010423508, 0.010774822, 0.009900473, 0.011209262, 0.01005854, 0.01051041, 0.010580136, 0.010265436, 0.009963534, 0.009975769, 0.010166052, 0.010470721, 0.009794914, 0.010030403, 0.010514824, 0.011389582, 0.010180012, 0.01030508, 0.009981071, 0.009932186, 0.010457264, 0.00999986, 0.011027561, 0.009678063, 0.009991254, 0.009879252, 0.010048716, 0.010126646, 0.0096884975, 0.010249524, 0.0105216345, 0.010165392, 0.010587495, 0.010905906, 0.010378735, 0.0106856655, 0.010269681, 0.0112831, 0.009631939, 0.009609228, 0.010164454, 0.009488092]\n",
      "2022-02-22 21:26:31,749 : INFO : merging changes from 2000 documents into a model of 3204 documents\n",
      "2022-02-22 21:26:31,772 : INFO : topic #33 (0.009): 0.305*\"abil\" + 0.296*\"extract\" + 0.199*\"intellig\" + 0.017*\"data\" + 0.016*\"inform\" + 0.014*\"system\" + 0.000*\"situat\" + 0.000*\"regress\" + 0.000*\"simpson\" + 0.000*\"stage\"\n",
      "2022-02-22 21:26:31,772 : INFO : topic #99 (0.009): 0.155*\"multiprogram\" + 0.127*\"modif\" + 0.092*\"disk\" + 0.077*\"content\" + 0.065*\",\" + 0.058*\"system\" + 0.052*\"recoveri\" + 0.042*\"simultan\" + 0.042*\"method\" + 0.038*\"load\"\n",
      "2022-02-22 21:26:31,780 : INFO : topic #51 (0.011): 0.236*\"[\" + 0.204*\"algorithm\" + 0.188*\"(\" + 0.184*\"])\" + 0.021*\"d1\" + 0.020*\"g6\" + 0.016*\"normal\" + 0.014*\"integr\" + 0.013*\"function\" + 0.011*\"e2\"\n",
      "2022-02-22 21:26:31,781 : INFO : topic #20 (0.012): 0.122*\"(\" + 0.115*\"algorithm\" + 0.099*\")\" + 0.068*\"integr\" + 0.031*\"method\" + 0.029*\"'\" + 0.027*\"hash\" + 0.024*\"-\" + 0.022*\"adapt\" + 0.021*\"matrix\"\n",
      "2022-02-22 21:26:31,781 : INFO : topic #25 (0.012): 0.291*\")\" + 0.290*\"(\" + 0.285*\"algorithm\" + 0.036*\"surfac\" + 0.027*\"polynomi\" + 0.017*\"coeffici\" + 0.013*\"differ\" + 0.008*\"express\" + 0.008*\"integ\" + 0.007*\"root\"\n",
      "2022-02-22 21:26:31,784 : INFO : topic diff=0.550162, rho=0.422502\n",
      "2022-02-22 21:26:34,025 : INFO : -6.685 per-word bound, 102.9 perplexity estimate based on a held-out corpus of 1204 documents with 49783 words\n",
      "2022-02-22 21:26:34,025 : INFO : PROGRESS: pass 3, at document #3204/3204\n",
      "2022-02-22 21:26:35,916 : INFO : optimized alpha [0.010252239, 0.01094909, 0.009892217, 0.009910164, 0.01038074, 0.01035191, 0.010604233, 0.010372573, 0.01037289, 0.010526879, 0.010696993, 0.010337879, 0.011218121, 0.01016306, 0.01051357, 0.010230983, 0.011936039, 0.010653179, 0.010490458, 0.010086336, 0.011674164, 0.010238415, 0.009868581, 0.010656698, 0.010066254, 0.012909189, 0.0101839425, 0.010713492, 0.010077784, 0.010303689, 0.0101844, 0.010273496, 0.010701615, 0.009173265, 0.010609377, 0.011653504, 0.010319215, 0.010096569, 0.010857304, 0.00994543, 0.010679102, 0.01157932, 0.010512433, 0.010116581, 0.01077991, 0.010244774, 0.010181096, 0.009834117, 0.010605975, 0.010576427, 0.0101562925, 0.011569352, 0.010401593, 0.010830483, 0.010519324, 0.010345077, 0.0099590905, 0.00971789, 0.010702157, 0.011086159, 0.009982925, 0.0117254425, 0.010207452, 0.010794021, 0.010873081, 0.0104461135, 0.010038389, 0.010112249, 0.010351062, 0.010705432, 0.009881323, 0.010140589, 0.010754699, 0.011806915, 0.01028346, 0.010412659, 0.010150421, 0.009981317, 0.010693953, 0.010168151, 0.011361475, 0.009791311, 0.010121822, 0.009932108, 0.010188137, 0.010214129, 0.00973834, 0.010376863, 0.010752728, 0.010352812, 0.0108417645, 0.011200118, 0.010604399, 0.010826767, 0.010449359, 0.011612259, 0.009689028, 0.009657039, 0.010270907, 0.009522329]\n",
      "2022-02-22 21:26:35,938 : INFO : merging changes from 1204 documents into a model of 3204 documents\n",
      "2022-02-22 21:26:35,962 : INFO : topic #33 (0.009): 0.310*\"abil\" + 0.283*\"extract\" + 0.229*\"intellig\" + 0.012*\"inform\" + 0.011*\"data\" + 0.010*\"system\" + 0.000*\"situat\" + 0.000*\"regress\" + 0.000*\"simpson\" + 0.000*\"stage\"\n",
      "2022-02-22 21:26:35,962 : INFO : topic #99 (0.010): 0.168*\"multiprogram\" + 0.124*\"modif\" + 0.105*\"disk\" + 0.091*\"content\" + 0.066*\",\" + 0.054*\"recoveri\" + 0.049*\"system\" + 0.046*\"'\" + 0.045*\"load\" + 0.037*\"method\"\n",
      "2022-02-22 21:26:35,962 : INFO : topic #73 (0.012): 0.137*\"tree\" + 0.093*\"search\" + 0.084*\",\" + 0.048*\"structur\" + 0.038*\"node\" + 0.037*\"averag\" + 0.026*\"time\" + 0.026*\"map\" + 0.021*\"updat\" + 0.019*\"cost\"\n",
      "2022-02-22 21:26:35,962 : INFO : topic #16 (0.012): 0.167*\"]\" + 0.111*\")\" + 0.107*\"(\" + 0.078*\"solut\" + 0.077*\"equat\" + 0.062*\"[\" + 0.044*\"=\" + 0.043*\"minim\" + 0.038*\"algorithm\" + 0.029*\",\"\n",
      "2022-02-22 21:26:35,962 : INFO : topic #25 (0.013): 0.300*\"algorithm\" + 0.289*\"(\" + 0.279*\")\" + 0.051*\"surfac\" + 0.022*\"polynomi\" + 0.013*\"coeffici\" + 0.012*\"differ\" + 0.007*\"integ\" + 0.007*\"express\" + 0.007*\"root\"\n",
      "2022-02-22 21:26:35,974 : INFO : topic diff=0.664852, rho=0.422502\n",
      "2022-02-22 21:26:35,997 : INFO : PROGRESS: pass 4, at document #2000/3204\n",
      "2022-02-22 21:26:37,909 : INFO : optimized alpha [0.010225003, 0.0109729655, 0.010048765, 0.009936328, 0.010365101, 0.010367156, 0.010750638, 0.010446083, 0.010505215, 0.0106148105, 0.010697874, 0.0104224635, 0.011237105, 0.010154669, 0.010463247, 0.010213877, 0.011947955, 0.010778134, 0.010711855, 0.010081786, 0.011833483, 0.010285094, 0.009819114, 0.010631397, 0.010063891, 0.013843561, 0.010131293, 0.010730177, 0.010034414, 0.01027711, 0.010369219, 0.010339859, 0.010719556, 0.0091300765, 0.010668363, 0.011867229, 0.010545975, 0.010135922, 0.010988934, 0.009949871, 0.010771575, 0.011613581, 0.010482858, 0.010258336, 0.010809823, 0.010439539, 0.010156165, 0.009875273, 0.010645658, 0.010643617, 0.010153802, 0.012034997, 0.010473596, 0.011053685, 0.010490673, 0.010304645, 0.009911878, 0.009807185, 0.010822389, 0.011073662, 0.010050211, 0.011792255, 0.010219612, 0.010836062, 0.01100057, 0.010403192, 0.010085597, 0.010092066, 0.010424474, 0.010714374, 0.009943533, 0.010195448, 0.010798551, 0.011760074, 0.010333997, 0.010448696, 0.010122095, 0.009975143, 0.010697023, 0.010191436, 0.011282888, 0.009748769, 0.010074236, 0.009857755, 0.010203122, 0.010191946, 0.009709679, 0.010356757, 0.010745627, 0.010366256, 0.010845913, 0.01122191, 0.010592368, 0.0110089565, 0.010453289, 0.0118344305, 0.009658668, 0.009686544, 0.010272816, 0.009516735]\n",
      "2022-02-22 21:26:37,925 : INFO : merging changes from 2000 documents into a model of 3204 documents\n",
      "2022-02-22 21:26:37,954 : INFO : topic #33 (0.009): 0.330*\"abil\" + 0.294*\"extract\" + 0.198*\"intellig\" + 0.012*\"data\" + 0.010*\"inform\" + 0.008*\"system\" + 0.000*\"situat\" + 0.000*\"regress\" + 0.000*\"simpson\" + 0.000*\"stage\"\n"
     ]
    },
    {
     "name": "stderr",
     "output_type": "stream",
     "text": [
      "2022-02-22 21:26:37,954 : INFO : topic #99 (0.010): 0.183*\"multiprogram\" + 0.133*\"modif\" + 0.092*\"disk\" + 0.078*\"content\" + 0.063*\",\" + 0.052*\"system\" + 0.049*\"recoveri\" + 0.045*\"load\" + 0.043*\"simultan\" + 0.038*\"method\"\n",
      "2022-02-22 21:26:37,962 : INFO : topic #16 (0.012): 0.139*\"]\" + 0.106*\"(\" + 0.100*\")\" + 0.095*\"equat\" + 0.090*\"solut\" + 0.054*\"[\" + 0.046*\"=\" + 0.041*\"minim\" + 0.035*\"algorithm\" + 0.031*\",\"\n",
      "2022-02-22 21:26:37,964 : INFO : topic #51 (0.012): 0.246*\"[\" + 0.206*\"algorithm\" + 0.191*\"(\" + 0.183*\"])\" + 0.022*\"d1\" + 0.020*\"g6\" + 0.014*\"normal\" + 0.013*\"integr\" + 0.012*\"e2\" + 0.011*\"function\"\n",
      "2022-02-22 21:26:37,967 : INFO : topic #25 (0.014): 0.304*\"(\" + 0.300*\")\" + 0.292*\"algorithm\" + 0.032*\"surfac\" + 0.021*\"polynomi\" + 0.013*\"coeffici\" + 0.010*\"differ\" + 0.006*\"integ\" + 0.005*\"root\" + 0.005*\"express\"\n",
      "2022-02-22 21:26:37,969 : INFO : topic diff=0.642226, rho=0.389191\n",
      "2022-02-22 21:26:40,313 : INFO : -6.630 per-word bound, 99.0 perplexity estimate based on a held-out corpus of 1204 documents with 49783 words\n",
      "2022-02-22 21:26:40,328 : INFO : PROGRESS: pass 4, at document #3204/3204\n",
      "2022-02-22 21:26:42,288 : INFO : optimized alpha [0.010279434, 0.011259252, 0.01005011, 0.010089293, 0.010535903, 0.010506923, 0.01093833, 0.01060467, 0.010642782, 0.010781385, 0.0108447615, 0.010551358, 0.011535074, 0.010272131, 0.0106637515, 0.010360744, 0.012355246, 0.010938203, 0.010919927, 0.010094265, 0.012011008, 0.0103511205, 0.009869508, 0.0108873295, 0.010202032, 0.01459725, 0.010201978, 0.010955151, 0.010115456, 0.0104045095, 0.010381937, 0.010452421, 0.010918388, 0.009091301, 0.010828634, 0.012120712, 0.010617072, 0.010215043, 0.011187721, 0.010012108, 0.011006364, 0.011973511, 0.010672181, 0.010313561, 0.010971159, 0.010512656, 0.010282933, 0.009892325, 0.010833585, 0.010860167, 0.01031728, 0.012155055, 0.010530117, 0.0112088835, 0.010670729, 0.0103766555, 0.009954838, 0.009893887, 0.011095301, 0.011387291, 0.010139597, 0.012301018, 0.010371243, 0.011123144, 0.011272401, 0.010567797, 0.010158206, 0.010225375, 0.01062401, 0.010929879, 0.010039682, 0.01032096, 0.011019119, 0.012164059, 0.010446635, 0.010541594, 0.01032601, 0.0100343805, 0.010910749, 0.010364888, 0.01159134, 0.009882831, 0.010225236, 0.009920895, 0.010355609, 0.010273502, 0.009759868, 0.010468307, 0.01096118, 0.010564464, 0.011097689, 0.0114897825, 0.010809628, 0.011157175, 0.010613595, 0.0121414475, 0.009724882, 0.009769011, 0.010371756, 0.00956465]\n",
      "2022-02-22 21:26:42,309 : INFO : merging changes from 1204 documents into a model of 3204 documents\n",
      "2022-02-22 21:26:42,341 : INFO : topic #33 (0.009): 0.337*\"abil\" + 0.279*\"extract\" + 0.223*\"intellig\" + 0.008*\"data\" + 0.008*\"inform\" + 0.006*\"system\" + 0.000*\"situat\" + 0.000*\"regress\" + 0.000*\"simpson\" + 0.000*\"stage\"\n",
      "2022-02-22 21:26:42,341 : INFO : topic #99 (0.010): 0.192*\"multiprogram\" + 0.129*\"modif\" + 0.102*\"disk\" + 0.092*\"content\" + 0.062*\",\" + 0.052*\"recoveri\" + 0.051*\"load\" + 0.045*\"'\" + 0.045*\"system\" + 0.034*\"simultan\"\n",
      "2022-02-22 21:26:42,341 : INFO : topic #61 (0.012): 0.118*\"structur\" + 0.080*\",\" + 0.072*\"program\" + 0.047*\"data\" + 0.045*\"proof\" + 0.037*\"formal\" + 0.029*\"concept\" + 0.027*\"base\" + 0.026*\"organ\" + 0.022*\"implement\"\n",
      "2022-02-22 21:26:42,341 : INFO : topic #16 (0.012): 0.174*\"]\" + 0.113*\")\" + 0.107*\"(\" + 0.074*\"solut\" + 0.072*\"[\" + 0.071*\"equat\" + 0.048*\"minim\" + 0.047*\"=\" + 0.040*\"algorithm\" + 0.025*\"linear\"\n",
      "2022-02-22 21:26:42,352 : INFO : topic #25 (0.015): 0.302*\"(\" + 0.301*\"algorithm\" + 0.291*\")\" + 0.044*\"surfac\" + 0.018*\"polynomi\" + 0.010*\"coeffici\" + 0.009*\"differ\" + 0.006*\"integ\" + 0.005*\"root\" + 0.004*\"express\"\n",
      "2022-02-22 21:26:42,353 : INFO : topic diff=0.703446, rho=0.389191\n",
      "2022-02-22 21:26:42,370 : INFO : PROGRESS: pass 5, at document #2000/3204\n",
      "2022-02-22 21:26:44,591 : INFO : optimized alpha [0.01026055, 0.011275837, 0.010214353, 0.010116998, 0.010526414, 0.010519018, 0.011072723, 0.010671456, 0.010777289, 0.010881526, 0.010859341, 0.010646133, 0.011559281, 0.01026814, 0.01061984, 0.010357711, 0.01233815, 0.011063814, 0.011147273, 0.010091081, 0.012154194, 0.01040263, 0.009837275, 0.010865977, 0.010201412, 0.015630588, 0.0101632625, 0.01097956, 0.01007939, 0.01038338, 0.010554681, 0.010537461, 0.010930323, 0.009053224, 0.010891504, 0.012338911, 0.010856198, 0.010263214, 0.011338484, 0.010033283, 0.011121151, 0.012014133, 0.01064766, 0.010462335, 0.0110047255, 0.010706805, 0.010265227, 0.009940548, 0.010879969, 0.010940756, 0.010329453, 0.012605595, 0.010609436, 0.0114247175, 0.01064918, 0.01033971, 0.009917648, 0.0100065665, 0.011216531, 0.011377416, 0.010212202, 0.012387812, 0.010393469, 0.0111712, 0.011412703, 0.010533088, 0.010206309, 0.010213758, 0.010700279, 0.010941229, 0.010112683, 0.010383655, 0.011061287, 0.012125133, 0.010501641, 0.010581362, 0.010313596, 0.01003106, 0.010922575, 0.010388097, 0.011517411, 0.009863009, 0.0101936655, 0.009853013, 0.010363494, 0.010268467, 0.00974829, 0.010457309, 0.0109555125, 0.0106051, 0.011108241, 0.011516886, 0.010815045, 0.0113398265, 0.010620714, 0.01235301, 0.00969718, 0.00980046, 0.010369955, 0.009558316]\n",
      "2022-02-22 21:26:44,611 : INFO : merging changes from 2000 documents into a model of 3204 documents\n",
      "2022-02-22 21:26:44,637 : INFO : topic #33 (0.009): 0.349*\"abil\" + 0.291*\"extract\" + 0.197*\"intellig\" + 0.008*\"data\" + 0.006*\"inform\" + 0.004*\"system\" + 0.000*\"situat\" + 0.000*\"regress\" + 0.000*\"simpson\" + 0.000*\"stage\"\n",
      "2022-02-22 21:26:44,637 : INFO : topic #99 (0.010): 0.206*\"multiprogram\" + 0.136*\"modif\" + 0.090*\"disk\" + 0.081*\"content\" + 0.059*\",\" + 0.050*\"load\" + 0.048*\"recoveri\" + 0.047*\"system\" + 0.038*\"'\" + 0.038*\"simultan\"\n",
      "2022-02-22 21:26:44,637 : INFO : topic #61 (0.012): 0.122*\"structur\" + 0.079*\",\" + 0.072*\"program\" + 0.048*\"data\" + 0.040*\"proof\" + 0.037*\"formal\" + 0.030*\"concept\" + 0.028*\"organ\" + 0.027*\"base\" + 0.022*\"implement\"\n",
      "2022-02-22 21:26:44,647 : INFO : topic #51 (0.013): 0.249*\"[\" + 0.208*\"algorithm\" + 0.194*\"(\" + 0.182*\"])\" + 0.023*\"d1\" + 0.020*\"g6\" + 0.014*\"normal\" + 0.013*\"e2\" + 0.012*\"integr\" + 0.011*\"-\"\n",
      "2022-02-22 21:26:44,648 : INFO : topic #25 (0.016): 0.312*\"(\" + 0.306*\")\" + 0.294*\"algorithm\" + 0.030*\"surfac\" + 0.018*\"polynomi\" + 0.010*\"coeffici\" + 0.008*\"differ\" + 0.005*\"root\" + 0.005*\"integ\" + 0.004*\"express\"\n",
      "2022-02-22 21:26:44,650 : INFO : topic diff=0.639015, rho=0.362690\n",
      "2022-02-22 21:26:46,835 : INFO : -6.586 per-word bound, 96.1 perplexity estimate based on a held-out corpus of 1204 documents with 49783 words\n",
      "2022-02-22 21:26:46,835 : INFO : PROGRESS: pass 5, at document #3204/3204\n",
      "2022-02-22 21:26:48,679 : INFO : optimized alpha [0.0103154145, 0.011567653, 0.01022706, 0.010267054, 0.010696791, 0.010663098, 0.011259838, 0.010814206, 0.010899783, 0.011051477, 0.010990714, 0.010783304, 0.011841574, 0.01038174, 0.010828065, 0.010514837, 0.012714707, 0.011220861, 0.01133752, 0.010106811, 0.012302161, 0.010480403, 0.0099092, 0.011114671, 0.010337556, 0.016553575, 0.010236276, 0.011191943, 0.010161961, 0.010509339, 0.010565379, 0.010649143, 0.01112085, 0.0090193655, 0.011052031, 0.01258599, 0.010934608, 0.010352867, 0.011543763, 0.010094918, 0.011353647, 0.012342096, 0.0108650625, 0.010522802, 0.011156273, 0.010784018, 0.010406214, 0.009965885, 0.011056993, 0.011155762, 0.01051172, 0.012654068, 0.010681428, 0.011601371, 0.0108087715, 0.010427018, 0.009970949, 0.010102751, 0.011496685, 0.011674662, 0.010314522, 0.012905158, 0.010539224, 0.011450433, 0.011677611, 0.010707152, 0.010292925, 0.010332753, 0.010904847, 0.011147812, 0.010205883, 0.010517217, 0.011262674, 0.01250568, 0.01060728, 0.010671753, 0.010509243, 0.010093273, 0.0111408, 0.010586479, 0.011798133, 0.010007213, 0.010351237, 0.009928082, 0.010500499, 0.0103389695, 0.0098077515, 0.01056216, 0.011165606, 0.010801782, 0.01133951, 0.011763237, 0.011010043, 0.011478664, 0.010777907, 0.012660319, 0.009768593, 0.009889913, 0.0104723135, 0.0096095465]\n",
      "2022-02-22 21:26:48,692 : INFO : merging changes from 1204 documents into a model of 3204 documents\n",
      "2022-02-22 21:26:48,724 : INFO : topic #33 (0.009): 0.352*\"abil\" + 0.278*\"extract\" + 0.220*\"intellig\" + 0.005*\"data\" + 0.004*\"inform\" + 0.003*\"system\" + 0.000*\"situat\" + 0.000*\"regress\" + 0.000*\"simpson\" + 0.000*\"stage\"\n"
     ]
    },
    {
     "name": "stderr",
     "output_type": "stream",
     "text": [
      "2022-02-22 21:26:48,733 : INFO : topic #99 (0.010): 0.210*\"multiprogram\" + 0.131*\"modif\" + 0.099*\"disk\" + 0.095*\"content\" + 0.059*\",\" + 0.053*\"load\" + 0.051*\"recoveri\" + 0.046*\"'\" + 0.041*\"system\" + 0.031*\"simultan\"\n",
      "2022-02-22 21:26:48,733 : INFO : topic #16 (0.013): 0.177*\"]\" + 0.111*\")\" + 0.105*\"(\" + 0.089*\"[\" + 0.070*\"solut\" + 0.063*\"equat\" + 0.052*\"minim\" + 0.049*\"=\" + 0.044*\"algorithm\" + 0.025*\"linear\"\n",
      "2022-02-22 21:26:48,733 : INFO : topic #61 (0.013): 0.123*\"structur\" + 0.082*\",\" + 0.074*\"program\" + 0.051*\"data\" + 0.044*\"proof\" + 0.037*\"formal\" + 0.029*\"concept\" + 0.026*\"base\" + 0.025*\"organ\" + 0.023*\"implement\"\n",
      "2022-02-22 21:26:48,733 : INFO : topic #25 (0.017): 0.312*\"(\" + 0.300*\"algorithm\" + 0.299*\")\" + 0.040*\"surfac\" + 0.016*\"polynomi\" + 0.008*\"coeffici\" + 0.007*\"differ\" + 0.004*\"integ\" + 0.004*\"root\" + 0.003*\"express\"\n",
      "2022-02-22 21:26:48,741 : INFO : topic diff=0.660895, rho=0.362690\n",
      "2022-02-22 21:26:48,759 : INFO : PROGRESS: pass 6, at document #2000/3204\n",
      "2022-02-22 21:26:50,632 : INFO : optimized alpha [0.01029835, 0.011601469, 0.010388896, 0.010298124, 0.010689116, 0.010683316, 0.011389607, 0.010880952, 0.01103339, 0.011153914, 0.011012063, 0.010876921, 0.011864791, 0.010372666, 0.010791275, 0.010522443, 0.0127018485, 0.011347975, 0.011571694, 0.010115229, 0.012435601, 0.010541764, 0.009879453, 0.011096821, 0.010341961, 0.017672729, 0.010204118, 0.01121793, 0.010137236, 0.010493087, 0.01073353, 0.01074065, 0.01114279, 0.008985377, 0.011118814, 0.01279919, 0.011169767, 0.010409127, 0.01168971, 0.0101292515, 0.0114839, 0.012387194, 0.01084633, 0.010682582, 0.01119351, 0.0109861335, 0.010391024, 0.0100169815, 0.011106116, 0.011247311, 0.010538895, 0.013090829, 0.010764015, 0.011825827, 0.010786121, 0.0104016755, 0.00994208, 0.010220242, 0.011621897, 0.011681432, 0.010392136, 0.012994014, 0.01056536, 0.01149268, 0.011826943, 0.010686793, 0.010352489, 0.010325327, 0.010976654, 0.011165301, 0.010282042, 0.0105836475, 0.011296029, 0.012465525, 0.010653937, 0.010715016, 0.010503905, 0.010094166, 0.011156763, 0.010616775, 0.011734692, 0.0099951085, 0.010328186, 0.009868672, 0.010518485, 0.0103382785, 0.009800827, 0.010551952, 0.011168969, 0.0108506335, 0.011348389, 0.011787796, 0.011020034, 0.011655043, 0.01079704, 0.012858672, 0.009748128, 0.009938402, 0.010472463, 0.009609051]\n",
      "2022-02-22 21:26:50,655 : INFO : merging changes from 2000 documents into a model of 3204 documents\n",
      "2022-02-22 21:26:50,684 : INFO : topic #33 (0.009): 0.360*\"abil\" + 0.290*\"extract\" + 0.197*\"intellig\" + 0.005*\"data\" + 0.003*\"inform\" + 0.002*\"system\" + 0.000*\"situat\" + 0.000*\"regress\" + 0.000*\"simpson\" + 0.000*\"stage\"\n",
      "2022-02-22 21:26:50,684 : INFO : topic #99 (0.010): 0.219*\"multiprogram\" + 0.138*\"modif\" + 0.088*\"disk\" + 0.085*\"content\" + 0.057*\",\" + 0.053*\"load\" + 0.048*\"recoveri\" + 0.043*\"system\" + 0.039*\"'\" + 0.035*\"simultan\"\n",
      "2022-02-22 21:26:50,684 : INFO : topic #61 (0.013): 0.126*\"structur\" + 0.080*\",\" + 0.073*\"program\" + 0.052*\"data\" + 0.039*\"proof\" + 0.038*\"formal\" + 0.030*\"concept\" + 0.026*\"organ\" + 0.026*\"base\" + 0.023*\"implement\"\n",
      "2022-02-22 21:26:50,684 : INFO : topic #51 (0.013): 0.249*\"[\" + 0.210*\"algorithm\" + 0.196*\"(\" + 0.184*\"])\" + 0.024*\"d1\" + 0.021*\"g6\" + 0.014*\"normal\" + 0.013*\"e2\" + 0.012*\"-\" + 0.012*\"integr\"\n",
      "2022-02-22 21:26:50,684 : INFO : topic #25 (0.018): 0.320*\"(\" + 0.312*\")\" + 0.293*\"algorithm\" + 0.028*\"surfac\" + 0.016*\"polynomi\" + 0.009*\"coeffici\" + 0.006*\"differ\" + 0.004*\"integ\" + 0.004*\"root\" + 0.002*\"express\"\n",
      "2022-02-22 21:26:50,694 : INFO : topic diff=0.582478, rho=0.340958\n",
      "2022-02-22 21:26:52,928 : INFO : -6.555 per-word bound, 94.0 perplexity estimate based on a held-out corpus of 1204 documents with 49783 words\n",
      "2022-02-22 21:26:52,928 : INFO : PROGRESS: pass 6, at document #3204/3204\n",
      "2022-02-22 21:26:54,954 : INFO : optimized alpha [0.010356756, 0.011894039, 0.010415024, 0.010449333, 0.010847907, 0.010823159, 0.01159026, 0.011028724, 0.0111523075, 0.011321837, 0.0111461785, 0.011010092, 0.012120555, 0.010483496, 0.010986264, 0.010677649, 0.013073527, 0.011513039, 0.011775742, 0.010127931, 0.012589359, 0.010633445, 0.009942339, 0.011340362, 0.0104770195, 0.018707559, 0.010279536, 0.0114232, 0.010221642, 0.010615487, 0.01074568, 0.0108524, 0.011330355, 0.008955504, 0.01127423, 0.013038422, 0.011239518, 0.01049996, 0.011905591, 0.010202188, 0.01172917, 0.012718882, 0.011053443, 0.010745014, 0.011340383, 0.011058242, 0.010533641, 0.010052558, 0.011280583, 0.011465486, 0.010727479, 0.013106065, 0.0108318785, 0.012023326, 0.010952986, 0.010487511, 0.009993179, 0.010337108, 0.011927266, 0.011985561, 0.010497703, 0.013527074, 0.010715585, 0.011746645, 0.0120939035, 0.010867374, 0.010437304, 0.010438105, 0.011177777, 0.011368238, 0.010373035, 0.010719428, 0.011493705, 0.012836938, 0.010741864, 0.010806774, 0.010699169, 0.01016212, 0.0113644255, 0.010826982, 0.012001977, 0.010177855, 0.01049553, 0.009945944, 0.010648298, 0.010390497, 0.009854712, 0.010654374, 0.011371991, 0.011050311, 0.01157171, 0.012022496, 0.01122755, 0.011796139, 0.010955374, 0.01314623, 0.00982719, 0.010048709, 0.01058444, 0.009657928]\n",
      "2022-02-22 21:26:54,978 : INFO : merging changes from 1204 documents into a model of 3204 documents\n",
      "2022-02-22 21:26:55,004 : INFO : topic #33 (0.009): 0.361*\"abil\" + 0.277*\"extract\" + 0.218*\"intellig\" + 0.003*\"data\" + 0.002*\"inform\" + 0.001*\"system\" + 0.000*\"situat\" + 0.000*\"regress\" + 0.000*\"simpson\" + 0.000*\"stage\"\n",
      "2022-02-22 21:26:55,004 : INFO : topic #99 (0.010): 0.220*\"multiprogram\" + 0.133*\"modif\" + 0.097*\"content\" + 0.095*\"disk\" + 0.056*\",\" + 0.055*\"load\" + 0.050*\"recoveri\" + 0.047*\"'\" + 0.039*\"system\" + 0.030*\"simultan\"\n",
      "2022-02-22 21:26:55,004 : INFO : topic #95 (0.013): 0.150*\"(\" + 0.127*\"set\" + 0.122*\"1\" + 0.120*\")\" + 0.094*\"2\" + 0.061*\"3\" + 0.038*\"partit\" + 0.032*\";\" + 0.025*\"element\" + 0.023*\"gener\"\n",
      "2022-02-22 21:26:55,004 : INFO : topic #61 (0.014): 0.127*\"structur\" + 0.083*\",\" + 0.075*\"program\" + 0.055*\"data\" + 0.042*\"proof\" + 0.037*\"formal\" + 0.029*\"concept\" + 0.025*\"base\" + 0.024*\"implement\" + 0.023*\"theorem\"\n",
      "2022-02-22 21:26:55,013 : INFO : topic #25 (0.019): 0.319*\"(\" + 0.306*\")\" + 0.297*\"algorithm\" + 0.037*\"surfac\" + 0.014*\"polynomi\" + 0.007*\"coeffici\" + 0.005*\"differ\" + 0.004*\"integ\" + 0.003*\"root\" + 0.002*\"express\"\n",
      "2022-02-22 21:26:55,016 : INFO : topic diff=0.587942, rho=0.340958\n",
      "2022-02-22 21:26:55,035 : INFO : PROGRESS: pass 7, at document #2000/3204\n",
      "2022-02-22 21:26:57,159 : INFO : optimized alpha [0.010346303, 0.011936382, 0.0105821835, 0.010480265, 0.010838471, 0.010840468, 0.011708824, 0.011093961, 0.011282091, 0.011434476, 0.011180988, 0.011104902, 0.012149254, 0.010474977, 0.010952289, 0.0106914565, 0.013056199, 0.011640304, 0.012019776, 0.010135081, 0.0127247805, 0.010698887, 0.009924467, 0.011322076, 0.010484435, 0.019968893, 0.01024794, 0.011447175, 0.010201963, 0.010615588, 0.010899945, 0.010957372, 0.011350786, 0.008924961, 0.011339578, 0.013245818, 0.011470347, 0.010572174, 0.0120630665, 0.010246717, 0.011874873, 0.012766293, 0.011031226, 0.010908865, 0.011377464, 0.011260028, 0.010527568, 0.010103224, 0.011328848, 0.011560112, 0.010759732, 0.013528658, 0.010910729, 0.012265231, 0.010943539, 0.010479445, 0.009974799, 0.010463097, 0.012054887, 0.011994055, 0.01057867, 0.013618154, 0.010741902, 0.011791572, 0.012258569, 0.0108509585, 0.010500947, 0.010431125, 0.011260267, 0.011387778, 0.01045242, 0.010794864, 0.011526634, 0.012797812, 0.01078805, 0.010846379, 0.01069855, 0.010161729, 0.0113825, 0.010860434, 0.011943979, 0.010167186, 0.010478208, 0.0098904325, 0.010668603, 0.010388765, 0.009851902, 0.010644857, 0.01138554, 0.011103541, 0.011577185, 0.012040852, 0.01124903, 0.011965619, 0.010980291, 0.013337126, 0.009814496, 0.0101031605, 0.010588125, 0.009658032]\n",
      "2022-02-22 21:26:57,184 : INFO : merging changes from 2000 documents into a model of 3204 documents\n",
      "2022-02-22 21:26:57,218 : INFO : topic #33 (0.009): 0.366*\"abil\" + 0.289*\"extract\" + 0.197*\"intellig\" + 0.002*\"data\" + 0.001*\"inform\" + 0.001*\"system\" + 0.000*\"situat\" + 0.000*\"regress\" + 0.000*\"simpson\" + 0.000*\"stage\"\n",
      "2022-02-22 21:26:57,218 : INFO : topic #99 (0.010): 0.226*\"multiprogram\" + 0.140*\"modif\" + 0.088*\"content\" + 0.087*\"disk\" + 0.055*\",\" + 0.055*\"load\" + 0.047*\"recoveri\" + 0.041*\"system\" + 0.040*\"'\" + 0.034*\"simultan\"\n"
     ]
    },
    {
     "name": "stderr",
     "output_type": "stream",
     "text": [
      "2022-02-22 21:26:57,222 : INFO : topic #51 (0.014): 0.246*\"[\" + 0.212*\"algorithm\" + 0.198*\"(\" + 0.186*\"])\" + 0.025*\"d1\" + 0.021*\"g6\" + 0.015*\"normal\" + 0.014*\"e2\" + 0.012*\"-\" + 0.011*\"integr\"\n",
      "2022-02-22 21:26:57,222 : INFO : topic #61 (0.014): 0.130*\"structur\" + 0.082*\",\" + 0.074*\"program\" + 0.055*\"data\" + 0.038*\"proof\" + 0.038*\"formal\" + 0.030*\"concept\" + 0.025*\"organ\" + 0.025*\"base\" + 0.024*\"implement\"\n",
      "2022-02-22 21:26:57,222 : INFO : topic #25 (0.020): 0.326*\"(\" + 0.317*\")\" + 0.291*\"algorithm\" + 0.027*\"surfac\" + 0.014*\"polynomi\" + 0.008*\"coeffici\" + 0.005*\"differ\" + 0.003*\"integ\" + 0.003*\"root\" + 0.002*\"express\"\n",
      "2022-02-22 21:26:57,222 : INFO : topic diff=0.512661, rho=0.322715\n",
      "2022-02-22 21:26:59,681 : INFO : -6.531 per-word bound, 92.5 perplexity estimate based on a held-out corpus of 1204 documents with 49783 words\n",
      "2022-02-22 21:26:59,681 : INFO : PROGRESS: pass 7, at document #3204/3204\n",
      "2022-02-22 21:27:01,627 : INFO : optimized alpha [0.010408015, 0.012231182, 0.010614629, 0.010627663, 0.0109989885, 0.010959476, 0.011913964, 0.011240922, 0.011401292, 0.011598236, 0.011330199, 0.011258961, 0.0123913195, 0.010589343, 0.011144775, 0.010851604, 0.013403929, 0.011804298, 0.012222125, 0.010153512, 0.0128846485, 0.010803564, 0.009990149, 0.011580352, 0.010619075, 0.021117972, 0.010323055, 0.01163761, 0.010296536, 0.010735274, 0.010916564, 0.011087299, 0.011533399, 0.0089007495, 0.01148503, 0.013475293, 0.0115449, 0.010661499, 0.012303312, 0.010321861, 0.0121273585, 0.013093234, 0.011253595, 0.010961519, 0.011511558, 0.011333829, 0.010678079, 0.010137251, 0.011489725, 0.011779269, 0.010952191, 0.013523972, 0.010984006, 0.0124806, 0.01110913, 0.010552716, 0.010032155, 0.010608211, 0.012337687, 0.012280414, 0.0106821135, 0.014154646, 0.01088839, 0.012022936, 0.012519073, 0.011026719, 0.010581717, 0.010544355, 0.011456276, 0.011588156, 0.010544676, 0.010944939, 0.011706676, 0.013159028, 0.010880578, 0.010933842, 0.010891428, 0.010235119, 0.011590671, 0.011073991, 0.012193644, 0.010353358, 0.0106553575, 0.009975242, 0.0108124595, 0.010447474, 0.009908951, 0.010739596, 0.011589233, 0.011313022, 0.011791142, 0.012255966, 0.011463196, 0.0120998975, 0.0111376485, 0.013610723, 0.009898128, 0.010230465, 0.010697947, 0.009707559]\n",
      "2022-02-22 21:27:01,638 : INFO : merging changes from 1204 documents into a model of 3204 documents\n",
      "2022-02-22 21:27:01,676 : INFO : topic #33 (0.009): 0.364*\"abil\" + 0.275*\"extract\" + 0.221*\"intellig\" + 0.002*\"data\" + 0.001*\"inform\" + 0.001*\"system\" + 0.000*\"situat\" + 0.000*\"regress\" + 0.000*\"simpson\" + 0.000*\"stage\"\n",
      "2022-02-22 21:27:01,676 : INFO : topic #99 (0.010): 0.227*\"multiprogram\" + 0.135*\"modif\" + 0.098*\"content\" + 0.094*\"disk\" + 0.056*\"load\" + 0.055*\",\" + 0.050*\"recoveri\" + 0.047*\"'\" + 0.037*\"system\" + 0.030*\"simultan\"\n",
      "2022-02-22 21:27:01,676 : INFO : topic #95 (0.014): 0.158*\"(\" + 0.128*\")\" + 0.124*\"1\" + 0.122*\"set\" + 0.096*\"2\" + 0.062*\"3\" + 0.036*\"partit\" + 0.034*\";\" + 0.025*\"element\" + 0.023*\"gener\"\n",
      "2022-02-22 21:27:01,676 : INFO : topic #61 (0.014): 0.131*\"structur\" + 0.084*\",\" + 0.075*\"program\" + 0.058*\"data\" + 0.042*\"proof\" + 0.038*\"formal\" + 0.029*\"concept\" + 0.025*\"implement\" + 0.024*\"base\" + 0.024*\"theorem\"\n",
      "2022-02-22 21:27:01,685 : INFO : topic #25 (0.021): 0.325*\"(\" + 0.311*\")\" + 0.294*\"algorithm\" + 0.035*\"surfac\" + 0.012*\"polynomi\" + 0.007*\"coeffici\" + 0.004*\"differ\" + 0.003*\"integ\" + 0.002*\"root\" + 0.001*\"express\"\n",
      "2022-02-22 21:27:01,685 : INFO : topic diff=0.514055, rho=0.322715\n",
      "2022-02-22 21:27:01,706 : INFO : PROGRESS: pass 8, at document #2000/3204\n",
      "2022-02-22 21:27:03,735 : INFO : optimized alpha [0.0104083065, 0.012283739, 0.010789205, 0.010656989, 0.010992946, 0.010977633, 0.012029761, 0.011311982, 0.011528014, 0.0117155835, 0.011372222, 0.011362218, 0.012413846, 0.010581277, 0.011115044, 0.01086105, 0.013380692, 0.01192852, 0.012457956, 0.010164201, 0.013014555, 0.010866366, 0.009972083, 0.011566821, 0.010630835, 0.022477735, 0.010293506, 0.011663449, 0.010273242, 0.010735383, 0.011060117, 0.011191689, 0.011561326, 0.008873056, 0.011549315, 0.01368192, 0.011768946, 0.010739162, 0.012476427, 0.010361537, 0.012277433, 0.013149192, 0.011238266, 0.011131485, 0.011550492, 0.011534358, 0.010671961, 0.010184545, 0.011537409, 0.011873773, 0.010996163, 0.01393399, 0.011059765, 0.012719549, 0.011104831, 0.010550329, 0.0100214165, 0.010737997, 0.012471922, 0.012306142, 0.01077634, 0.0142374495, 0.010913294, 0.012065129, 0.012678078, 0.011012211, 0.010646124, 0.010542568, 0.0115371635, 0.011606162, 0.010620967, 0.011025696, 0.011737621, 0.013122723, 0.010928276, 0.010976968, 0.010890122, 0.010235094, 0.011608996, 0.011108758, 0.012148322, 0.010356924, 0.010649762, 0.009935292, 0.010833215, 0.010447862, 0.009912819, 0.010732376, 0.011596021, 0.011372228, 0.011802839, 0.012272674, 0.011488326, 0.012261641, 0.011183356, 0.013782509, 0.009887812, 0.010292176, 0.010706464, 0.009709594]\n",
      "2022-02-22 21:27:03,751 : INFO : merging changes from 2000 documents into a model of 3204 documents\n",
      "2022-02-22 21:27:03,780 : INFO : topic #33 (0.009): 0.368*\"abil\" + 0.287*\"extract\" + 0.200*\"intellig\" + 0.001*\"data\" + 0.001*\"inform\" + 0.000*\"system\" + 0.000*\"situat\" + 0.000*\"regress\" + 0.000*\"simpson\" + 0.000*\"stage\"\n",
      "2022-02-22 21:27:03,780 : INFO : topic #99 (0.010): 0.232*\"multiprogram\" + 0.141*\"modif\" + 0.090*\"content\" + 0.086*\"disk\" + 0.056*\"load\" + 0.054*\",\" + 0.047*\"recoveri\" + 0.042*\"'\" + 0.039*\"system\" + 0.033*\"simultan\"\n",
      "2022-02-22 21:27:03,789 : INFO : topic #51 (0.014): 0.244*\"[\" + 0.213*\"algorithm\" + 0.201*\"(\" + 0.188*\"])\" + 0.025*\"d1\" + 0.021*\"g6\" + 0.015*\"e2\" + 0.015*\"normal\" + 0.013*\"-\" + 0.011*\"integr\"\n",
      "2022-02-22 21:27:03,789 : INFO : topic #61 (0.014): 0.133*\"structur\" + 0.083*\",\" + 0.075*\"program\" + 0.058*\"data\" + 0.039*\"formal\" + 0.038*\"proof\" + 0.030*\"concept\" + 0.024*\"implement\" + 0.024*\"organ\" + 0.023*\"base\"\n",
      "2022-02-22 21:27:03,789 : INFO : topic #25 (0.022): 0.330*\"(\" + 0.321*\")\" + 0.289*\"algorithm\" + 0.026*\"surfac\" + 0.012*\"polynomi\" + 0.007*\"coeffici\" + 0.004*\"differ\" + 0.003*\"integ\" + 0.002*\"root\" + 0.001*\"express\"\n",
      "2022-02-22 21:27:03,798 : INFO : topic diff=0.446226, rho=0.307119\n",
      "2022-02-22 21:27:06,305 : INFO : -6.512 per-word bound, 91.2 perplexity estimate based on a held-out corpus of 1204 documents with 49783 words\n",
      "2022-02-22 21:27:06,308 : INFO : PROGRESS: pass 8, at document #3204/3204\n",
      "2022-02-22 21:27:08,399 : INFO : optimized alpha [0.010473099, 0.012582137, 0.010824911, 0.010798683, 0.011158584, 0.011089079, 0.01223073, 0.011458982, 0.011639222, 0.011882104, 0.0115155345, 0.011504518, 0.012650225, 0.010699231, 0.011300197, 0.011029137, 0.01371691, 0.012092114, 0.012659531, 0.0101851085, 0.013164108, 0.010980722, 0.010040544, 0.011828214, 0.010765664, 0.02377387, 0.010371127, 0.01184966, 0.010379996, 0.010858586, 0.011081076, 0.011324956, 0.011739939, 0.008851468, 0.011691885, 0.013909837, 0.0118271485, 0.010830141, 0.012721928, 0.010438969, 0.012525157, 0.013452524, 0.011470174, 0.01118674, 0.011673186, 0.011607094, 0.010822145, 0.010214721, 0.011695074, 0.01209164, 0.01119886, 0.0139106475, 0.011132705, 0.012965872, 0.011267007, 0.010637107, 0.0100767985, 0.010896912, 0.012794646, 0.012589544, 0.0108893365, 0.014764311, 0.011056873, 0.012294423, 0.012930099, 0.011189852, 0.010731646, 0.010648613, 0.011729026, 0.011802148, 0.0107066035, 0.011175764, 0.011913747, 0.013465467, 0.01102541, 0.011060656, 0.011075909, 0.010316277, 0.011815475, 0.011317682, 0.012385596, 0.010547056, 0.010831321, 0.010021968, 0.0109741585, 0.010515277, 0.009970352, 0.010815108, 0.011801164, 0.011586165, 0.012017972, 0.012473489, 0.01171553, 0.012389963, 0.011346058, 0.014036286, 0.00996311, 0.010427891, 0.0108173005, 0.009762311]\n",
      "2022-02-22 21:27:08,423 : INFO : merging changes from 1204 documents into a model of 3204 documents\n",
      "2022-02-22 21:27:08,445 : INFO : topic #33 (0.009): 0.365*\"abil\" + 0.274*\"extract\" + 0.223*\"intellig\" + 0.001*\"data\" + 0.001*\"inform\" + 0.000*\"system\" + 0.000*\"situat\" + 0.000*\"regress\" + 0.000*\"simpson\" + 0.000*\"stage\"\n",
      "2022-02-22 21:27:08,453 : INFO : topic #99 (0.010): 0.232*\"multiprogram\" + 0.135*\"modif\" + 0.099*\"content\" + 0.096*\"disk\" + 0.057*\"load\" + 0.054*\",\" + 0.049*\"recoveri\" + 0.048*\"'\" + 0.035*\"system\" + 0.029*\"simultan\"\n"
     ]
    },
    {
     "name": "stderr",
     "output_type": "stream",
     "text": [
      "2022-02-22 21:27:08,453 : INFO : topic #95 (0.014): 0.167*\"(\" + 0.136*\")\" + 0.126*\"1\" + 0.115*\"set\" + 0.097*\"2\" + 0.063*\"3\" + 0.035*\";\" + 0.035*\"partit\" + 0.025*\"element\" + 0.022*\"gener\"\n",
      "2022-02-22 21:27:08,459 : INFO : topic #61 (0.015): 0.134*\"structur\" + 0.086*\",\" + 0.076*\"program\" + 0.060*\"data\" + 0.041*\"proof\" + 0.038*\"formal\" + 0.029*\"concept\" + 0.025*\"implement\" + 0.024*\"construct\" + 0.024*\"theorem\"\n",
      "2022-02-22 21:27:08,459 : INFO : topic #25 (0.024): 0.329*\"(\" + 0.316*\")\" + 0.292*\"algorithm\" + 0.033*\"surfac\" + 0.011*\"polynomi\" + 0.006*\"coeffici\" + 0.004*\"integ\" + 0.003*\"differ\" + 0.001*\"root\" + 0.001*\"express\"\n",
      "2022-02-22 21:27:08,463 : INFO : topic diff=0.447677, rho=0.307119\n",
      "2022-02-22 21:27:08,489 : INFO : PROGRESS: pass 9, at document #2000/3204\n",
      "2022-02-22 21:27:10,751 : INFO : optimized alpha [0.010478506, 0.012639092, 0.011002301, 0.010828212, 0.011150722, 0.011106582, 0.012342506, 0.0115239695, 0.011763491, 0.012013, 0.011554088, 0.011612775, 0.012670947, 0.010693111, 0.011276038, 0.011050879, 0.013684009, 0.012215611, 0.012899244, 0.0101991, 0.013295186, 0.011054153, 0.010032538, 0.011817294, 0.010776795, 0.025227454, 0.010352521, 0.011872238, 0.010357816, 0.0108650485, 0.011224787, 0.0114374915, 0.011776597, 0.008827488, 0.011758737, 0.014104318, 0.012055663, 0.010914728, 0.012901581, 0.010474196, 0.012687217, 0.013509234, 0.011461148, 0.01136151, 0.011712312, 0.011805431, 0.010815954, 0.010262046, 0.0117476545, 0.012186302, 0.011249041, 0.014311374, 0.01120744, 0.013216478, 0.011270944, 0.010638224, 0.010070057, 0.011037126, 0.012932326, 0.01263533, 0.010981993, 0.014865444, 0.011082227, 0.012336018, 0.013089874, 0.011175393, 0.010798499, 0.01064701, 0.011813717, 0.011824019, 0.010780156, 0.011255216, 0.011943076, 0.013430172, 0.011079492, 0.011107218, 0.0110822525, 0.010324159, 0.011841039, 0.011343772, 0.012333593, 0.010546713, 0.010826915, 0.009981172, 0.010993747, 0.010517651, 0.009974499, 0.010808471, 0.011808656, 0.011649612, 0.012030192, 0.012492562, 0.011742407, 0.012542954, 0.011394911, 0.014200578, 0.009956475, 0.0104996525, 0.010828676, 0.0097661195]\n",
      "2022-02-22 21:27:10,759 : INFO : merging changes from 2000 documents into a model of 3204 documents\n",
      "2022-02-22 21:27:10,787 : INFO : topic #33 (0.009): 0.367*\"abil\" + 0.284*\"extract\" + 0.206*\"intellig\" + 0.001*\"data\" + 0.000*\"inform\" + 0.000*\"system\" + 0.000*\"situat\" + 0.000*\"regress\" + 0.000*\"simpson\" + 0.000*\"stage\"\n",
      "2022-02-22 21:27:10,787 : INFO : topic #99 (0.010): 0.235*\"multiprogram\" + 0.141*\"modif\" + 0.092*\"content\" + 0.088*\"disk\" + 0.058*\"load\" + 0.053*\",\" + 0.047*\"recoveri\" + 0.042*\"'\" + 0.036*\"system\" + 0.033*\"simultan\"\n",
      "2022-02-22 21:27:10,787 : INFO : topic #51 (0.014): 0.240*\"[\" + 0.214*\"algorithm\" + 0.203*\"(\" + 0.189*\"])\" + 0.026*\"d1\" + 0.021*\"g6\" + 0.015*\"e2\" + 0.015*\"normal\" + 0.013*\"-\" + 0.011*\"e4\"\n",
      "2022-02-22 21:27:10,803 : INFO : topic #61 (0.015): 0.137*\"structur\" + 0.085*\",\" + 0.076*\"program\" + 0.061*\"data\" + 0.039*\"formal\" + 0.038*\"proof\" + 0.029*\"concept\" + 0.025*\"implement\" + 0.023*\"construct\" + 0.023*\"organ\"\n",
      "2022-02-22 21:27:10,803 : INFO : topic #25 (0.025): 0.333*\"(\" + 0.324*\")\" + 0.287*\"algorithm\" + 0.025*\"surfac\" + 0.011*\"polynomi\" + 0.006*\"coeffici\" + 0.004*\"differ\" + 0.003*\"integ\" + 0.001*\"root\" + 0.001*\"express\"\n",
      "2022-02-22 21:27:10,803 : INFO : topic diff=0.388077, rho=0.293585\n",
      "2022-02-22 21:27:13,040 : INFO : -6.495 per-word bound, 90.2 perplexity estimate based on a held-out corpus of 1204 documents with 49783 words\n",
      "2022-02-22 21:27:13,041 : INFO : PROGRESS: pass 9, at document #3204/3204\n",
      "2022-02-22 21:27:14,936 : INFO : optimized alpha [0.010546244, 0.01293578, 0.011038503, 0.010970195, 0.011316201, 0.011211327, 0.012552196, 0.011674327, 0.011882085, 0.01217377, 0.011706637, 0.011747078, 0.012902653, 0.010809558, 0.011460482, 0.011216086, 0.014003404, 0.012373555, 0.013103886, 0.010222236, 0.01344215, 0.011164403, 0.010103616, 0.012079647, 0.0109147895, 0.026601309, 0.010435174, 0.012060912, 0.010463391, 0.010989241, 0.011244303, 0.011571605, 0.011949352, 0.008808108, 0.011890374, 0.014324647, 0.012119398, 0.011010189, 0.013146814, 0.010556542, 0.012940647, 0.013824048, 0.011700261, 0.01142224, 0.011821946, 0.011871586, 0.010966295, 0.010291246, 0.011899829, 0.01239155, 0.011453936, 0.014274093, 0.0112829115, 0.013475082, 0.0114247585, 0.010703526, 0.010126154, 0.011209806, 0.013264107, 0.012932455, 0.011109701, 0.01538805, 0.011218118, 0.012552017, 0.013334552, 0.011349667, 0.010880776, 0.010754485, 0.012005148, 0.01201641, 0.010872992, 0.011408382, 0.012107299, 0.013766365, 0.011181247, 0.011190617, 0.011267511, 0.010405043, 0.012052509, 0.011557492, 0.012566043, 0.010736103, 0.0110104885, 0.010069802, 0.011135038, 0.010585321, 0.010042355, 0.010893545, 0.012012917, 0.011859966, 0.012238362, 0.012683472, 0.011953989, 0.012669185, 0.011566011, 0.014446505, 0.010034052, 0.0106462445, 0.01093286, 0.00981474]\n",
      "2022-02-22 21:27:14,956 : INFO : merging changes from 1204 documents into a model of 3204 documents\n",
      "2022-02-22 21:27:14,982 : INFO : topic #33 (0.009): 0.364*\"abil\" + 0.272*\"extract\" + 0.227*\"intellig\" + 0.000*\"data\" + 0.000*\"inform\" + 0.000*\"system\" + 0.000*\"situat\" + 0.000*\"regress\" + 0.000*\"simpson\" + 0.000*\"stage\"\n",
      "2022-02-22 21:27:14,982 : INFO : topic #99 (0.010): 0.233*\"multiprogram\" + 0.136*\"modif\" + 0.099*\"content\" + 0.098*\"disk\" + 0.059*\"load\" + 0.053*\",\" + 0.049*\"recoveri\" + 0.047*\"'\" + 0.033*\"system\" + 0.029*\"simultan\"\n",
      "2022-02-22 21:27:14,988 : INFO : topic #95 (0.014): 0.176*\"(\" + 0.144*\")\" + 0.126*\"1\" + 0.109*\"set\" + 0.097*\"2\" + 0.063*\"3\" + 0.036*\";\" + 0.033*\"partit\" + 0.024*\":\" + 0.024*\"element\"\n",
      "2022-02-22 21:27:14,988 : INFO : topic #61 (0.015): 0.138*\"structur\" + 0.087*\",\" + 0.076*\"program\" + 0.062*\"data\" + 0.041*\"proof\" + 0.039*\"formal\" + 0.029*\"concept\" + 0.025*\"implement\" + 0.025*\"construct\" + 0.024*\"theorem\"\n",
      "2022-02-22 21:27:14,988 : INFO : topic #25 (0.027): 0.331*\"(\" + 0.319*\")\" + 0.290*\"algorithm\" + 0.032*\"surfac\" + 0.010*\"polynomi\" + 0.006*\"coeffici\" + 0.004*\"integ\" + 0.003*\"differ\" + 0.001*\"root\" + 0.001*\"express\"\n",
      "2022-02-22 21:27:14,994 : INFO : topic diff=0.391424, rho=0.293585\n",
      "2022-02-22 21:27:15,021 : INFO : PROGRESS: pass 10, at document #2000/3204\n",
      "2022-02-22 21:27:17,164 : INFO : optimized alpha [0.010559244, 0.012989803, 0.011211223, 0.011000044, 0.011311349, 0.011229822, 0.012663937, 0.01173851, 0.012007767, 0.012302658, 0.011742106, 0.011843855, 0.0129252635, 0.010806732, 0.011439902, 0.01123508, 0.013967629, 0.012496835, 0.013344352, 0.010234778, 0.013567064, 0.011241744, 0.010099059, 0.012074689, 0.010931437, 0.02813806, 0.010420595, 0.012077028, 0.010449546, 0.010996907, 0.011379018, 0.011690611, 0.011976064, 0.008786177, 0.011953299, 0.014509722, 0.012347926, 0.011098354, 0.01333719, 0.010595153, 0.013109747, 0.013883472, 0.011701978, 0.0115940785, 0.011859717, 0.012059978, 0.010964741, 0.010332842, 0.011953718, 0.012488395, 0.011505316, 0.01466649, 0.011356891, 0.013732241, 0.011420153, 0.010706548, 0.010124435, 0.011363813, 0.013397779, 0.012973789, 0.011199481, 0.015481809, 0.01124242, 0.012593275, 0.01348599, 0.011340049, 0.010942487, 0.010752932, 0.012085148, 0.012043785, 0.0109472405, 0.011491652, 0.012143766, 0.01373391, 0.011233463, 0.011235717, 0.011269875, 0.010414345, 0.012081634, 0.011586891, 0.012518531, 0.010738185, 0.011013456, 0.01003807, 0.011152141, 0.010591016, 0.010058011, 0.010890507, 0.0120244995, 0.011927735, 0.012254542, 0.012701311, 0.011986026, 0.01282132, 0.011617832, 0.01460802, 0.010030777, 0.010720244, 0.010948457, 0.009820172]\n",
      "2022-02-22 21:27:17,183 : INFO : merging changes from 2000 documents into a model of 3204 documents\n",
      "2022-02-22 21:27:17,208 : INFO : topic #33 (0.009): 0.366*\"abil\" + 0.282*\"extract\" + 0.211*\"intellig\" + 0.000*\"data\" + 0.000*\"inform\" + 0.000*\"system\" + 0.000*\"situat\" + 0.000*\"regress\" + 0.000*\"simpson\" + 0.000*\"stage\"\n",
      "2022-02-22 21:27:17,208 : INFO : topic #99 (0.010): 0.236*\"multiprogram\" + 0.141*\"modif\" + 0.092*\"content\" + 0.091*\"disk\" + 0.059*\"load\" + 0.052*\",\" + 0.047*\"recoveri\" + 0.042*\"'\" + 0.034*\"system\" + 0.033*\"simultan\"\n",
      "2022-02-22 21:27:17,208 : INFO : topic #51 (0.015): 0.238*\"[\" + 0.215*\"algorithm\" + 0.205*\"(\" + 0.191*\"])\" + 0.026*\"d1\" + 0.022*\"g6\" + 0.016*\"e2\" + 0.015*\"normal\" + 0.013*\"-\" + 0.011*\"e4\"\n"
     ]
    },
    {
     "name": "stderr",
     "output_type": "stream",
     "text": [
      "2022-02-22 21:27:17,208 : INFO : topic #61 (0.015): 0.140*\"structur\" + 0.087*\",\" + 0.076*\"program\" + 0.062*\"data\" + 0.039*\"formal\" + 0.038*\"proof\" + 0.029*\"concept\" + 0.025*\"implement\" + 0.024*\"construct\" + 0.022*\"organ\"\n",
      "2022-02-22 21:27:17,208 : INFO : topic #25 (0.028): 0.335*\"(\" + 0.325*\")\" + 0.286*\"algorithm\" + 0.025*\"surfac\" + 0.010*\"polynomi\" + 0.006*\"coeffici\" + 0.004*\"differ\" + 0.003*\"integ\" + 0.001*\"root\" + 0.001*\"express\"\n",
      "2022-02-22 21:27:17,223 : INFO : topic diff=0.339737, rho=0.281696\n",
      "2022-02-22 21:27:19,572 : INFO : -6.481 per-word bound, 89.3 perplexity estimate based on a held-out corpus of 1204 documents with 49783 words\n",
      "2022-02-22 21:27:19,572 : INFO : PROGRESS: pass 10, at document #3204/3204\n",
      "2022-02-22 21:27:21,346 : INFO : optimized alpha [0.010622378, 0.013279512, 0.011250759, 0.011140173, 0.011474462, 0.011336424, 0.012873794, 0.011889735, 0.012122269, 0.012467126, 0.011892801, 0.011968262, 0.013153195, 0.010914362, 0.011624153, 0.011408709, 0.014271561, 0.0126525825, 0.013555755, 0.01026004, 0.013708784, 0.011348406, 0.010172703, 0.012338949, 0.011062594, 0.029694846, 0.01050566, 0.012257146, 0.010549316, 0.011130088, 0.011394657, 0.011828622, 0.012146448, 0.008768714, 0.012086218, 0.014719816, 0.012405398, 0.011190529, 0.013601879, 0.010684869, 0.013384875, 0.014173938, 0.011951388, 0.011651993, 0.011965744, 0.012131385, 0.011113035, 0.010368557, 0.012112503, 0.012679205, 0.011701881, 0.0146196205, 0.011427024, 0.014010292, 0.011579956, 0.010785014, 0.010178935, 0.011539851, 0.013742658, 0.013279041, 0.011325734, 0.015993804, 0.011374001, 0.012808974, 0.0137239825, 0.011511703, 0.011021967, 0.010856927, 0.012265409, 0.012233349, 0.01102922, 0.01165092, 0.012305641, 0.014064618, 0.011337185, 0.011308302, 0.011452374, 0.010490127, 0.012290013, 0.01180849, 0.012747114, 0.010924783, 0.011199498, 0.010128631, 0.011296788, 0.010654009, 0.0101355985, 0.010967625, 0.01221709, 0.012135253, 0.012473943, 0.012886406, 0.012197368, 0.012939894, 0.011792039, 0.014839947, 0.010110623, 0.01087019, 0.011051804, 0.009871975]\n",
      "2022-02-22 21:27:21,365 : INFO : merging changes from 1204 documents into a model of 3204 documents\n",
      "2022-02-22 21:27:21,390 : INFO : topic #33 (0.009): 0.363*\"abil\" + 0.271*\"extract\" + 0.230*\"intellig\" + 0.000*\"data\" + 0.000*\"inform\" + 0.000*\"system\" + 0.000*\"situat\" + 0.000*\"regress\" + 0.000*\"simpson\" + 0.000*\"stage\"\n",
      "2022-02-22 21:27:21,398 : INFO : topic #99 (0.010): 0.235*\"multiprogram\" + 0.135*\"modif\" + 0.099*\"content\" + 0.099*\"disk\" + 0.060*\"load\" + 0.052*\",\" + 0.049*\"recoveri\" + 0.047*\"'\" + 0.031*\"system\" + 0.029*\"simultan\"\n",
      "2022-02-22 21:27:21,398 : INFO : topic #95 (0.015): 0.184*\"(\" + 0.152*\")\" + 0.126*\"1\" + 0.102*\"set\" + 0.097*\"2\" + 0.063*\"3\" + 0.038*\";\" + 0.031*\"partit\" + 0.026*\":\" + 0.023*\"element\"\n",
      "2022-02-22 21:27:21,403 : INFO : topic #61 (0.016): 0.141*\"structur\" + 0.089*\",\" + 0.077*\"program\" + 0.063*\"data\" + 0.041*\"proof\" + 0.039*\"formal\" + 0.029*\"concept\" + 0.025*\"implement\" + 0.025*\"construct\" + 0.024*\"theorem\"\n",
      "2022-02-22 21:27:21,405 : INFO : topic #25 (0.030): 0.333*\"(\" + 0.321*\")\" + 0.289*\"algorithm\" + 0.031*\"surfac\" + 0.009*\"polynomi\" + 0.005*\"coeffici\" + 0.004*\"integ\" + 0.003*\"differ\" + 0.000*\"root\" + 0.000*\"express\"\n",
      "2022-02-22 21:27:21,405 : INFO : topic diff=0.344371, rho=0.281696\n",
      "2022-02-22 21:27:21,428 : INFO : PROGRESS: pass 11, at document #2000/3204\n",
      "2022-02-22 21:27:23,299 : INFO : optimized alpha [0.010642533, 0.013328978, 0.011423988, 0.011170356, 0.011472552, 0.011355918, 0.012985863, 0.011958315, 0.012244599, 0.012597784, 0.011930204, 0.012068911, 0.013177764, 0.010907271, 0.011603655, 0.011436127, 0.014231185, 0.012777644, 0.013795767, 0.010271314, 0.013831895, 0.011428181, 0.0101783145, 0.012329509, 0.011075566, 0.03130031, 0.010490371, 0.012272295, 0.010540403, 0.011137339, 0.011518055, 0.011952571, 0.012185167, 0.008748567, 0.012150436, 0.014900159, 0.012629171, 0.011286878, 0.013792245, 0.010726775, 0.0135611445, 0.01423828, 0.011955268, 0.011822962, 0.012003996, 0.012323633, 0.011114279, 0.010410554, 0.012159654, 0.012771429, 0.011757751, 0.015008535, 0.01150197, 0.01426913, 0.011586178, 0.010789619, 0.010184673, 0.011693765, 0.013895417, 0.013325185, 0.011414517, 0.016091293, 0.011397409, 0.012851779, 0.013871344, 0.011503519, 0.011083416, 0.010855483, 0.012347909, 0.012267721, 0.011105841, 0.011728577, 0.01233901, 0.014031106, 0.011392463, 0.011358376, 0.011457202, 0.01050082, 0.012317578, 0.011834666, 0.0127073005, 0.010923133, 0.011198717, 0.010098303, 0.011313108, 0.0106642125, 0.010155063, 0.010961975, 0.012227707, 0.012203945, 0.012495775, 0.01290495, 0.012224389, 0.01309168, 0.011843608, 0.014993058, 0.010107671, 0.010953957, 0.011068465, 0.009881577]\n",
      "2022-02-22 21:27:23,323 : INFO : merging changes from 2000 documents into a model of 3204 documents\n",
      "2022-02-22 21:27:23,346 : INFO : topic #33 (0.009): 0.366*\"abil\" + 0.281*\"extract\" + 0.214*\"intellig\" + 0.000*\"data\" + 0.000*\"inform\" + 0.000*\"system\" + 0.000*\"situat\" + 0.000*\"regress\" + 0.000*\"simpson\" + 0.000*\"stage\"\n",
      "2022-02-22 21:27:23,352 : INFO : topic #99 (0.010): 0.236*\"multiprogram\" + 0.140*\"modif\" + 0.094*\"disk\" + 0.092*\"content\" + 0.061*\"load\" + 0.052*\",\" + 0.047*\"recoveri\" + 0.042*\"'\" + 0.034*\"simultan\" + 0.032*\"system\"\n",
      "2022-02-22 21:27:23,352 : INFO : topic #95 (0.015): 0.187*\"(\" + 0.155*\")\" + 0.124*\"1\" + 0.101*\"set\" + 0.098*\"2\" + 0.061*\"3\" + 0.037*\";\" + 0.031*\"partit\" + 0.026*\":\" + 0.026*\"element\"\n",
      "2022-02-22 21:27:23,356 : INFO : topic #61 (0.016): 0.143*\"structur\" + 0.088*\",\" + 0.077*\"program\" + 0.063*\"data\" + 0.040*\"formal\" + 0.037*\"proof\" + 0.030*\"concept\" + 0.025*\"implement\" + 0.025*\"construct\" + 0.022*\"theorem\"\n",
      "2022-02-22 21:27:23,357 : INFO : topic #25 (0.031): 0.335*\"(\" + 0.327*\")\" + 0.286*\"algorithm\" + 0.025*\"surfac\" + 0.010*\"polynomi\" + 0.005*\"coeffici\" + 0.003*\"differ\" + 0.003*\"integ\" + 0.000*\"express\" + 0.000*\"root\"\n",
      "2022-02-22 21:27:23,361 : INFO : topic diff=0.300158, rho=0.271143\n",
      "2022-02-22 21:27:25,444 : INFO : -6.469 per-word bound, 88.6 perplexity estimate based on a held-out corpus of 1204 documents with 49783 words\n",
      "2022-02-22 21:27:25,444 : INFO : PROGRESS: pass 11, at document #3204/3204\n",
      "2022-02-22 21:27:27,164 : INFO : optimized alpha [0.010706217, 0.013615471, 0.011479595, 0.011306544, 0.01163112, 0.011464597, 0.013202262, 0.012110729, 0.0123554785, 0.012751969, 0.012071159, 0.012170336, 0.013393733, 0.011016735, 0.011788243, 0.011620886, 0.014517549, 0.012931794, 0.01401739, 0.010296246, 0.0139753185, 0.01153422, 0.010263746, 0.012590478, 0.011210453, 0.032911845, 0.0105753755, 0.012447411, 0.010649228, 0.011271734, 0.011527569, 0.012089251, 0.012359227, 0.008732767, 0.0122794295, 0.015104104, 0.012680712, 0.011391412, 0.01404232, 0.010813853, 0.013834207, 0.014522124, 0.01221543, 0.011891773, 0.012106842, 0.012400431, 0.011255836, 0.010447705, 0.012322218, 0.012957059, 0.011952245, 0.014962717, 0.011569722, 0.014560847, 0.011746888, 0.010868194, 0.0102376845, 0.011873488, 0.014244906, 0.013648366, 0.011539534, 0.01660434, 0.011525185, 0.013058989, 0.014106517, 0.011667835, 0.011162896, 0.01096137, 0.012526188, 0.012449487, 0.011185216, 0.011883636, 0.01249628, 0.014350897, 0.011490477, 0.011433848, 0.011647873, 0.010574492, 0.012520664, 0.012069782, 0.01292395, 0.011112312, 0.01138241, 0.010190885, 0.011456177, 0.010725416, 0.0102372905, 0.011036853, 0.01241512, 0.012409172, 0.0127181215, 0.013076036, 0.012435876, 0.0132091725, 0.012021219, 0.0152189415, 0.0101874955, 0.01111243, 0.01117373, 0.0099341655]\n",
      "2022-02-22 21:27:27,180 : INFO : merging changes from 1204 documents into a model of 3204 documents\n",
      "2022-02-22 21:27:27,215 : INFO : topic #33 (0.009): 0.363*\"abil\" + 0.271*\"extract\" + 0.232*\"intellig\" + 0.000*\"data\" + 0.000*\"inform\" + 0.000*\"system\" + 0.000*\"situat\" + 0.000*\"regress\" + 0.000*\"simpson\" + 0.000*\"stage\"\n",
      "2022-02-22 21:27:27,215 : INFO : topic #99 (0.010): 0.237*\"multiprogram\" + 0.135*\"modif\" + 0.101*\"disk\" + 0.098*\"content\" + 0.061*\"load\" + 0.052*\",\" + 0.049*\"recoveri\" + 0.047*\"'\" + 0.030*\"simultan\" + 0.030*\"system\"\n",
      "2022-02-22 21:27:27,215 : INFO : topic #95 (0.015): 0.192*\"(\" + 0.159*\")\" + 0.125*\"1\" + 0.097*\"set\" + 0.096*\"2\" + 0.062*\"3\" + 0.039*\";\" + 0.030*\"partit\" + 0.027*\":\" + 0.023*\"element\"\n"
     ]
    },
    {
     "name": "stderr",
     "output_type": "stream",
     "text": [
      "2022-02-22 21:27:27,215 : INFO : topic #61 (0.017): 0.142*\"structur\" + 0.091*\",\" + 0.077*\"program\" + 0.063*\"data\" + 0.041*\"proof\" + 0.039*\"formal\" + 0.029*\"concept\" + 0.026*\"construct\" + 0.025*\"implement\" + 0.024*\"theorem\"\n",
      "2022-02-22 21:27:27,225 : INFO : topic #25 (0.033): 0.335*\"(\" + 0.322*\")\" + 0.288*\"algorithm\" + 0.031*\"surfac\" + 0.008*\"polynomi\" + 0.005*\"coeffici\" + 0.004*\"integ\" + 0.003*\"differ\" + 0.000*\"express\" + 0.000*\"root\"\n",
      "2022-02-22 21:27:27,225 : INFO : topic diff=0.306236, rho=0.271143\n",
      "2022-02-22 21:27:27,248 : INFO : PROGRESS: pass 12, at document #2000/3204\n",
      "2022-02-22 21:27:29,066 : INFO : optimized alpha [0.010726033, 0.013669729, 0.011653848, 0.011335704, 0.011632009, 0.011486535, 0.013313115, 0.012183611, 0.012476511, 0.01287962, 0.012112194, 0.012262042, 0.013422134, 0.011009892, 0.011769375, 0.011653256, 0.014478772, 0.0130520845, 0.014261138, 0.010309051, 0.014096881, 0.011613471, 0.010270674, 0.012581744, 0.011225784, 0.03458328, 0.010562263, 0.0124616735, 0.01064059, 0.011283035, 0.0116494, 0.012215118, 0.012404786, 0.008714194, 0.012341795, 0.0152802, 0.012900265, 0.011488358, 0.014233091, 0.010857485, 0.014021831, 0.014585755, 0.012216475, 0.012074728, 0.012144068, 0.012585605, 0.011261277, 0.0104873665, 0.0123678455, 0.013048428, 0.012004672, 0.015343166, 0.011647258, 0.014846457, 0.01175262, 0.010872854, 0.0102408705, 0.012032238, 0.014407514, 0.013700945, 0.011630532, 0.016696898, 0.011549273, 0.013101756, 0.0142539255, 0.011662583, 0.011224192, 0.010964338, 0.012602997, 0.012487332, 0.011261311, 0.011963782, 0.012530033, 0.014316465, 0.011545797, 0.011484177, 0.011653526, 0.010587914, 0.012556678, 0.012096084, 0.012896638, 0.011110144, 0.011382614, 0.010163091, 0.011473281, 0.010732697, 0.010264392, 0.011030207, 0.0124249, 0.012478977, 0.012736856, 0.013095427, 0.012461459, 0.0133608505, 0.012075813, 0.015374171, 0.010188812, 0.011197044, 0.011189938, 0.009942471]\n",
      "2022-02-22 21:27:29,083 : INFO : merging changes from 2000 documents into a model of 3204 documents\n",
      "2022-02-22 21:27:29,109 : INFO : topic #33 (0.009): 0.365*\"abil\" + 0.280*\"extract\" + 0.216*\"intellig\" + 0.000*\"data\" + 0.000*\"inform\" + 0.000*\"system\" + 0.000*\"situat\" + 0.000*\"regress\" + 0.000*\"simpson\" + 0.000*\"stage\"\n",
      "2022-02-22 21:27:29,117 : INFO : topic #99 (0.010): 0.238*\"multiprogram\" + 0.140*\"modif\" + 0.099*\"disk\" + 0.092*\"content\" + 0.062*\"load\" + 0.051*\",\" + 0.047*\"recoveri\" + 0.042*\"'\" + 0.031*\"simultan\" + 0.031*\"system\"\n",
      "2022-02-22 21:27:29,117 : INFO : topic #51 (0.015): 0.235*\"[\" + 0.216*\"algorithm\" + 0.208*\"(\" + 0.192*\"])\" + 0.027*\"d1\" + 0.022*\"g6\" + 0.016*\"e2\" + 0.015*\"normal\" + 0.013*\"-\" + 0.011*\"integr\"\n",
      "2022-02-22 21:27:29,121 : INFO : topic #61 (0.017): 0.144*\"structur\" + 0.090*\",\" + 0.077*\"program\" + 0.064*\"data\" + 0.040*\"formal\" + 0.038*\"proof\" + 0.030*\"concept\" + 0.025*\"implement\" + 0.025*\"construct\" + 0.023*\"theorem\"\n",
      "2022-02-22 21:27:29,124 : INFO : topic #25 (0.035): 0.337*\"(\" + 0.328*\")\" + 0.285*\"algorithm\" + 0.024*\"surfac\" + 0.008*\"polynomi\" + 0.005*\"coeffici\" + 0.004*\"integ\" + 0.003*\"differ\" + 0.000*\"express\" + 0.000*\"root\"\n",
      "2022-02-22 21:27:29,125 : INFO : topic diff=0.267939, rho=0.261694\n",
      "2022-02-22 21:27:31,124 : INFO : -6.457 per-word bound, 87.8 perplexity estimate based on a held-out corpus of 1204 documents with 49783 words\n",
      "2022-02-22 21:27:31,124 : INFO : PROGRESS: pass 12, at document #3204/3204\n",
      "2022-02-22 21:27:32,763 : INFO : optimized alpha [0.010785707, 0.013959703, 0.01170474, 0.011473237, 0.011786588, 0.011592323, 0.013533485, 0.012337464, 0.012589616, 0.013035462, 0.012249341, 0.012349753, 0.013629798, 0.011109181, 0.011952086, 0.0118466765, 0.014751985, 0.013202, 0.014487236, 0.010338128, 0.014242286, 0.011711521, 0.010362849, 0.012850934, 0.0113620525, 0.036272492, 0.010649735, 0.012632338, 0.010746504, 0.011418765, 0.011655788, 0.012358748, 0.012582719, 0.008699862, 0.012467277, 0.015481927, 0.012943445, 0.0116025545, 0.014478463, 0.010944578, 0.014305265, 0.014860421, 0.012482404, 0.012151421, 0.012246778, 0.012656771, 0.011404175, 0.010523618, 0.0125345, 0.013229608, 0.012186938, 0.015288376, 0.011715509, 0.01514942, 0.011919575, 0.01095412, 0.010297092, 0.012215925, 0.014756031, 0.014033578, 0.01175979, 0.01721897, 0.011673665, 0.013295399, 0.014483706, 0.01183814, 0.01130384, 0.011072175, 0.012782427, 0.012667421, 0.0113408035, 0.01211236, 0.012688599, 0.014622992, 0.011643558, 0.011552523, 0.011837109, 0.010661971, 0.012752251, 0.012329047, 0.013110883, 0.011297352, 0.011566974, 0.010257678, 0.011612657, 0.010806522, 0.010353445, 0.011100665, 0.0126022715, 0.0126851825, 0.012956908, 0.013273451, 0.0126653435, 0.013477598, 0.012259662, 0.015587585, 0.010271005, 0.0113593545, 0.0112899495, 0.009997997]\n",
      "2022-02-22 21:27:32,779 : INFO : merging changes from 1204 documents into a model of 3204 documents\n",
      "2022-02-22 21:27:32,809 : INFO : topic #33 (0.009): 0.362*\"abil\" + 0.270*\"extract\" + 0.232*\"intellig\" + 0.000*\"data\" + 0.000*\"inform\" + 0.000*\"system\" + 0.000*\"situat\" + 0.000*\"regress\" + 0.000*\"simpson\" + 0.000*\"stage\"\n",
      "2022-02-22 21:27:32,809 : INFO : topic #99 (0.010): 0.240*\"multiprogram\" + 0.135*\"modif\" + 0.105*\"disk\" + 0.099*\"content\" + 0.061*\"load\" + 0.052*\",\" + 0.049*\"recoveri\" + 0.043*\"'\" + 0.029*\"system\" + 0.028*\"simultan\"\n",
      "2022-02-22 21:27:32,817 : INFO : topic #95 (0.016): 0.198*\"(\" + 0.165*\")\" + 0.125*\"1\" + 0.095*\"2\" + 0.092*\"set\" + 0.062*\"3\" + 0.039*\";\" + 0.029*\"partit\" + 0.028*\":\" + 0.023*\"element\"\n",
      "2022-02-22 21:27:32,820 : INFO : topic #61 (0.017): 0.144*\"structur\" + 0.092*\",\" + 0.077*\"program\" + 0.064*\"data\" + 0.041*\"proof\" + 0.039*\"formal\" + 0.029*\"concept\" + 0.026*\"construct\" + 0.026*\"implement\" + 0.024*\"theorem\"\n",
      "2022-02-22 21:27:32,820 : INFO : topic #25 (0.036): 0.336*\"(\" + 0.324*\")\" + 0.287*\"algorithm\" + 0.030*\"surfac\" + 0.007*\"polynomi\" + 0.004*\"coeffici\" + 0.004*\"integ\" + 0.003*\"differ\" + 0.000*\"express\" + 0.000*\"root\"\n",
      "2022-02-22 21:27:32,820 : INFO : topic diff=0.274236, rho=0.261694\n",
      "2022-02-22 21:27:32,842 : INFO : PROGRESS: pass 13, at document #2000/3204\n",
      "2022-02-22 21:27:34,640 : INFO : optimized alpha [0.010806609, 0.014009876, 0.01187577, 0.011501425, 0.011785605, 0.011612235, 0.013643358, 0.012410003, 0.012714334, 0.013163731, 0.012293944, 0.012439386, 0.013649916, 0.011104051, 0.011931687, 0.011888343, 0.014703502, 0.013317865, 0.014725931, 0.010353637, 0.014359028, 0.011793339, 0.010376236, 0.012846145, 0.01138258, 0.0380318, 0.010633077, 0.012647405, 0.010736792, 0.011429611, 0.0117719015, 0.012486738, 0.012618724, 0.008682678, 0.012526415, 0.015652193, 0.013160876, 0.011703119, 0.014673368, 0.0109899985, 0.014491692, 0.0149195595, 0.012488552, 0.012338804, 0.012286184, 0.012833654, 0.011410668, 0.010561127, 0.012577024, 0.013316915, 0.012240829, 0.015660895, 0.011797184, 0.015440049, 0.011929365, 0.010963114, 0.010299219, 0.012373661, 0.014940124, 0.014088957, 0.011860568, 0.017304618, 0.0116970185, 0.013340028, 0.014631409, 0.0118341185, 0.011363683, 0.011076493, 0.012866853, 0.012707159, 0.011413678, 0.012192063, 0.012724421, 0.014591471, 0.011703472, 0.011604623, 0.011843607, 0.010679284, 0.012786887, 0.01235536, 0.013088641, 0.011296054, 0.01157252, 0.010230831, 0.011630554, 0.010819433, 0.010383866, 0.0110959485, 0.012612972, 0.012751352, 0.012974459, 0.013291893, 0.012696132, 0.013629518, 0.012314098, 0.015731232, 0.010267229, 0.011442014, 0.011311481, 0.01000759]\n",
      "2022-02-22 21:27:34,664 : INFO : merging changes from 2000 documents into a model of 3204 documents\n",
      "2022-02-22 21:27:34,692 : INFO : topic #33 (0.009): 0.365*\"abil\" + 0.279*\"extract\" + 0.217*\"intellig\" + 0.000*\"data\" + 0.000*\"inform\" + 0.000*\"system\" + 0.000*\"situat\" + 0.000*\"regress\" + 0.000*\"simpson\" + 0.000*\"stage\"\n",
      "2022-02-22 21:27:34,692 : INFO : topic #99 (0.010): 0.241*\"multiprogram\" + 0.140*\"modif\" + 0.102*\"disk\" + 0.093*\"content\" + 0.063*\"load\" + 0.051*\",\" + 0.047*\"recoveri\" + 0.038*\"'\" + 0.033*\"simultan\" + 0.030*\"system\"\n",
      "2022-02-22 21:27:34,695 : INFO : topic #95 (0.016): 0.199*\"(\" + 0.167*\")\" + 0.123*\"1\" + 0.097*\"2\" + 0.091*\"set\" + 0.060*\"3\" + 0.038*\";\" + 0.029*\"partit\" + 0.028*\":\" + 0.025*\"element\"\n",
      "2022-02-22 21:27:34,695 : INFO : topic #61 (0.017): 0.146*\"structur\" + 0.091*\",\" + 0.077*\"program\" + 0.064*\"data\" + 0.040*\"formal\" + 0.038*\"proof\" + 0.030*\"concept\" + 0.026*\"implement\" + 0.025*\"construct\" + 0.023*\"theorem\"\n"
     ]
    },
    {
     "name": "stderr",
     "output_type": "stream",
     "text": [
      "2022-02-22 21:27:34,700 : INFO : topic #25 (0.038): 0.339*\"(\" + 0.329*\")\" + 0.285*\"algorithm\" + 0.024*\"surfac\" + 0.007*\"polynomi\" + 0.005*\"coeffici\" + 0.004*\"integ\" + 0.003*\"differ\" + 0.000*\"express\" + 0.000*\"root\"\n",
      "2022-02-22 21:27:34,703 : INFO : topic diff=0.241050, rho=0.253169\n",
      "2022-02-22 21:27:36,664 : INFO : -6.446 per-word bound, 87.2 perplexity estimate based on a held-out corpus of 1204 documents with 49783 words\n",
      "2022-02-22 21:27:36,664 : INFO : PROGRESS: pass 13, at document #3204/3204\n",
      "2022-02-22 21:27:38,400 : INFO : optimized alpha [0.010862483, 0.014288925, 0.011924652, 0.011638115, 0.011939074, 0.011710535, 0.013859348, 0.012562908, 0.012824487, 0.013315829, 0.012427861, 0.012527148, 0.013849926, 0.011205618, 0.012112874, 0.012090615, 0.014970624, 0.013469601, 0.014947399, 0.010388923, 0.014503537, 0.011888904, 0.0104771955, 0.013107756, 0.0115155615, 0.03979248, 0.010720706, 0.0128166815, 0.010840123, 0.011559854, 0.011775338, 0.012629575, 0.012795428, 0.008669633, 0.012648743, 0.015842186, 0.013207331, 0.011822002, 0.014920575, 0.011079605, 0.014776953, 0.015191923, 0.0127685405, 0.012418052, 0.012381029, 0.012902221, 0.011555065, 0.010596573, 0.012745246, 0.0134942625, 0.01241403, 0.015607535, 0.011863548, 0.015745126, 0.012090029, 0.011042372, 0.010354121, 0.012561619, 0.015307266, 0.014425784, 0.011986741, 0.017814625, 0.011815937, 0.013532233, 0.014853193, 0.012005717, 0.01144123, 0.011181695, 0.013039625, 0.012885896, 0.011495801, 0.012342341, 0.01287919, 0.014894956, 0.011803666, 0.01167114, 0.01202823, 0.010760553, 0.012978255, 0.012591778, 0.013309275, 0.011476915, 0.011745569, 0.01032746, 0.011766625, 0.010891345, 0.010472962, 0.011169377, 0.012791585, 0.012961535, 0.013189948, 0.013457104, 0.012895753, 0.013742858, 0.012496674, 0.015946262, 0.010345255, 0.011608216, 0.011411427, 0.010066031]\n",
      "2022-02-22 21:27:38,422 : INFO : merging changes from 1204 documents into a model of 3204 documents\n",
      "2022-02-22 21:27:38,438 : INFO : topic #33 (0.009): 0.362*\"abil\" + 0.270*\"extract\" + 0.233*\"intellig\" + 0.000*\"data\" + 0.000*\"inform\" + 0.000*\"system\" + 0.000*\"situat\" + 0.000*\"regress\" + 0.000*\"simpson\" + 0.000*\"stage\"\n",
      "2022-02-22 21:27:38,447 : INFO : topic #99 (0.010): 0.241*\"multiprogram\" + 0.135*\"modif\" + 0.110*\"disk\" + 0.100*\"content\" + 0.062*\"load\" + 0.052*\",\" + 0.049*\"recoveri\" + 0.037*\"'\" + 0.029*\"simultan\" + 0.028*\"system\"\n",
      "2022-02-22 21:27:38,447 : INFO : topic #95 (0.016): 0.203*\"(\" + 0.170*\")\" + 0.125*\"1\" + 0.095*\"2\" + 0.087*\"set\" + 0.061*\"3\" + 0.040*\";\" + 0.030*\":\" + 0.028*\"partit\" + 0.022*\"element\"\n",
      "2022-02-22 21:27:38,447 : INFO : topic #61 (0.018): 0.146*\"structur\" + 0.093*\",\" + 0.076*\"program\" + 0.064*\"data\" + 0.041*\"proof\" + 0.040*\"formal\" + 0.029*\"concept\" + 0.026*\"construct\" + 0.026*\"implement\" + 0.024*\"theorem\"\n",
      "2022-02-22 21:27:38,451 : INFO : topic #25 (0.040): 0.338*\"(\" + 0.326*\")\" + 0.286*\"algorithm\" + 0.030*\"surfac\" + 0.006*\"polynomi\" + 0.004*\"integ\" + 0.004*\"coeffici\" + 0.003*\"differ\" + 0.000*\"express\" + 0.000*\"root\"\n",
      "2022-02-22 21:27:38,452 : INFO : topic diff=0.247053, rho=0.253169\n",
      "2022-02-22 21:27:38,471 : INFO : PROGRESS: pass 14, at document #2000/3204\n",
      "2022-02-22 21:27:40,367 : INFO : optimized alpha [0.010884461, 0.014335114, 0.012092784, 0.011665431, 0.01194227, 0.011730026, 0.013971789, 0.012636734, 0.012956198, 0.013438327, 0.0124712875, 0.012610095, 0.013869, 0.011202099, 0.012093995, 0.012138411, 0.014924067, 0.01358792, 0.015183047, 0.01040303, 0.014628343, 0.011968939, 0.010488983, 0.013100271, 0.011538211, 0.041601643, 0.010708677, 0.012829422, 0.010833395, 0.011571745, 0.011889005, 0.0127582215, 0.012849202, 0.008653705, 0.012706426, 0.016008865, 0.013424611, 0.011923567, 0.015112588, 0.011118463, 0.014956908, 0.0152487615, 0.012773291, 0.012607184, 0.0124211125, 0.013077666, 0.011564002, 0.0106333485, 0.012786443, 0.013587857, 0.012464901, 0.01597664, 0.011942007, 0.016037181, 0.012094811, 0.011053992, 0.010359055, 0.01272314, 0.015492411, 0.014484062, 0.01208101, 0.017908959, 0.011837195, 0.013572014, 0.014999649, 0.012002853, 0.011501123, 0.011191437, 0.013115598, 0.012925894, 0.0115699135, 0.01242321, 0.012915458, 0.014860785, 0.011870874, 0.011717804, 0.012037019, 0.010780251, 0.013016396, 0.012616726, 0.013298504, 0.011473723, 0.011754846, 0.010302757, 0.011785341, 0.010904177, 0.010511693, 0.011166432, 0.012803085, 0.013027482, 0.013212863, 0.013468069, 0.012917204, 0.013890145, 0.012554152, 0.016096577, 0.010343045, 0.011693449, 0.01143387, 0.0100768395]\n",
      "2022-02-22 21:27:40,377 : INFO : merging changes from 2000 documents into a model of 3204 documents\n",
      "2022-02-22 21:27:40,415 : INFO : topic #33 (0.009): 0.364*\"abil\" + 0.279*\"extract\" + 0.218*\"intellig\" + 0.000*\"data\" + 0.000*\"inform\" + 0.000*\"system\" + 0.000*\"situat\" + 0.000*\"regress\" + 0.000*\"simpson\" + 0.000*\"stage\"\n",
      "2022-02-22 21:27:40,417 : INFO : topic #99 (0.010): 0.241*\"multiprogram\" + 0.139*\"modif\" + 0.110*\"disk\" + 0.093*\"content\" + 0.063*\"load\" + 0.051*\",\" + 0.047*\"recoveri\" + 0.032*\"'\" + 0.032*\"simultan\" + 0.029*\"system\"\n",
      "2022-02-22 21:27:40,417 : INFO : topic #95 (0.016): 0.204*\"(\" + 0.172*\")\" + 0.123*\"1\" + 0.096*\"2\" + 0.087*\"set\" + 0.059*\"3\" + 0.039*\";\" + 0.029*\":\" + 0.029*\"partit\" + 0.024*\"element\"\n",
      "2022-02-22 21:27:40,417 : INFO : topic #61 (0.018): 0.148*\"structur\" + 0.092*\",\" + 0.077*\"program\" + 0.065*\"data\" + 0.040*\"formal\" + 0.038*\"proof\" + 0.030*\"concept\" + 0.026*\"implement\" + 0.026*\"construct\" + 0.023*\"theorem\"\n",
      "2022-02-22 21:27:40,425 : INFO : topic #25 (0.042): 0.340*\"(\" + 0.330*\")\" + 0.285*\"algorithm\" + 0.024*\"surfac\" + 0.005*\"polynomi\" + 0.004*\"coeffici\" + 0.004*\"integ\" + 0.003*\"differ\" + 0.000*\"express\" + 0.000*\"root\"\n",
      "2022-02-22 21:27:40,427 : INFO : topic diff=0.218323, rho=0.245426\n",
      "2022-02-22 21:27:42,458 : INFO : -6.437 per-word bound, 86.6 perplexity estimate based on a held-out corpus of 1204 documents with 49783 words\n",
      "2022-02-22 21:27:42,458 : INFO : PROGRESS: pass 14, at document #3204/3204\n",
      "2022-02-22 21:27:44,101 : INFO : optimized alpha [0.01093691, 0.014609466, 0.012142319, 0.011799142, 0.01208757, 0.011826088, 0.0141866, 0.0127915405, 0.013068914, 0.013587078, 0.012610096, 0.012698154, 0.014064708, 0.011303707, 0.012271344, 0.0123347305, 0.015182502, 0.013733474, 0.015397197, 0.010444162, 0.014772211, 0.012067129, 0.010583386, 0.013373662, 0.011672946, 0.043489587, 0.010796544, 0.012997724, 0.01093435, 0.011699167, 0.011892137, 0.012892713, 0.013025032, 0.008641823, 0.012823275, 0.016190967, 0.013468829, 0.012054305, 0.015358827, 0.011205991, 0.015250549, 0.015516282, 0.013054383, 0.012686548, 0.01251373, 0.013146524, 0.011710085, 0.010674627, 0.012953744, 0.013750392, 0.012634667, 0.015918087, 0.012006635, 0.01634789, 0.012252107, 0.0111290775, 0.010417095, 0.0129104825, 0.01587262, 0.014825421, 0.012206835, 0.018403482, 0.011953412, 0.0137602165, 0.015216901, 0.012170893, 0.011581454, 0.011294259, 0.0132821025, 0.013106155, 0.0116547225, 0.012580405, 0.013069395, 0.0151556125, 0.011966266, 0.011785056, 0.012220511, 0.010857429, 0.013206599, 0.012854311, 0.013514958, 0.011655794, 0.011924401, 0.010401419, 0.011918435, 0.010979027, 0.010600955, 0.01124048, 0.012985839, 0.013228439, 0.013426946, 0.013626748, 0.013112886, 0.01400321, 0.012740866, 0.016303416, 0.010415078, 0.011863867, 0.011526869, 0.010131938]\n",
      "2022-02-22 21:27:44,116 : INFO : merging changes from 1204 documents into a model of 3204 documents\n",
      "2022-02-22 21:27:44,147 : INFO : topic #33 (0.009): 0.362*\"abil\" + 0.270*\"extract\" + 0.233*\"intellig\" + 0.000*\"data\" + 0.000*\"inform\" + 0.000*\"system\" + 0.000*\"situat\" + 0.000*\"regress\" + 0.000*\"simpson\" + 0.000*\"stage\"\n",
      "2022-02-22 21:27:44,147 : INFO : topic #99 (0.010): 0.241*\"multiprogram\" + 0.135*\"modif\" + 0.117*\"disk\" + 0.100*\"content\" + 0.062*\"load\" + 0.052*\",\" + 0.049*\"recoveri\" + 0.032*\"'\" + 0.029*\"simultan\" + 0.027*\"system\"\n",
      "2022-02-22 21:27:44,152 : INFO : topic #53 (0.016): 0.645*\"function\" + 0.085*\"seri\" + 0.040*\"error\" + 0.035*\"static\" + 0.030*\"s14\" + 0.023*\"power\" + 0.023*\"(\" + 0.023*\"algorithm\" + 0.021*\"s22\" + 0.020*\"wave\"\n",
      "2022-02-22 21:27:44,152 : INFO : topic #61 (0.018): 0.148*\"structur\" + 0.094*\",\" + 0.076*\"program\" + 0.065*\"data\" + 0.041*\"proof\" + 0.040*\"formal\" + 0.029*\"concept\" + 0.026*\"implement\" + 0.026*\"construct\" + 0.024*\"theorem\"\n"
     ]
    },
    {
     "name": "stderr",
     "output_type": "stream",
     "text": [
      "2022-02-22 21:27:44,152 : INFO : topic #25 (0.043): 0.339*\"(\" + 0.327*\")\" + 0.285*\"algorithm\" + 0.029*\"surfac\" + 0.004*\"polynomi\" + 0.004*\"integ\" + 0.004*\"coeffici\" + 0.003*\"differ\" + 0.000*\"express\" + 0.000*\"root\"\n",
      "2022-02-22 21:27:44,152 : INFO : topic diff=0.223934, rho=0.245426\n",
      "2022-02-22 21:27:44,176 : INFO : PROGRESS: pass 15, at document #2000/3204\n",
      "2022-02-22 21:27:46,140 : INFO : optimized alpha [0.010965196, 0.014660765, 0.012315077, 0.0118256835, 0.012090451, 0.011842371, 0.0142983915, 0.012865216, 0.013207855, 0.0137089575, 0.012650922, 0.012774954, 0.01408622, 0.011303101, 0.012256877, 0.0123826135, 0.015135968, 0.0138526745, 0.01562829, 0.010459493, 0.014896209, 0.01215428, 0.010598729, 0.013369947, 0.01169769, 0.045368366, 0.010787618, 0.0130113475, 0.010927851, 0.011713436, 0.01200358, 0.013022192, 0.013093058, 0.008627021, 0.012879664, 0.016356353, 0.013682936, 0.012164059, 0.015553729, 0.011246714, 0.015446054, 0.0155748855, 0.013068732, 0.012876055, 0.012552983, 0.013322249, 0.011721396, 0.010709503, 0.012990615, 0.013838675, 0.012685743, 0.016280444, 0.012079221, 0.016639728, 0.012254968, 0.01114324, 0.010423432, 0.013069933, 0.016057258, 0.014888466, 0.012299285, 0.018487006, 0.011975552, 0.013801934, 0.015360496, 0.012172086, 0.011641553, 0.011306513, 0.013364282, 0.013149569, 0.011730129, 0.012657994, 0.013101463, 0.015122518, 0.0120320525, 0.011835061, 0.01223449, 0.010876836, 0.013241824, 0.012880977, 0.013503628, 0.011653529, 0.01193168, 0.010378696, 0.011937967, 0.010998394, 0.01064275, 0.01124057, 0.012998091, 0.01329584, 0.013442292, 0.013643719, 0.013142825, 0.014147854, 0.012795303, 0.016446749, 0.010415596, 0.011956026, 0.011551651, 0.010142718]\n",
      "2022-02-22 21:27:46,157 : INFO : merging changes from 2000 documents into a model of 3204 documents\n",
      "2022-02-22 21:27:46,180 : INFO : topic #33 (0.009): 0.364*\"abil\" + 0.279*\"extract\" + 0.218*\"intellig\" + 0.000*\"data\" + 0.000*\"inform\" + 0.000*\"system\" + 0.000*\"situat\" + 0.000*\"regress\" + 0.000*\"simpson\" + 0.000*\"stage\"\n",
      "2022-02-22 21:27:46,180 : INFO : topic #99 (0.010): 0.240*\"multiprogram\" + 0.139*\"modif\" + 0.117*\"disk\" + 0.094*\"content\" + 0.063*\"load\" + 0.052*\",\" + 0.047*\"recoveri\" + 0.031*\"simultan\" + 0.028*\"system\" + 0.028*\"'\"\n",
      "2022-02-22 21:27:46,180 : INFO : topic #53 (0.017): 0.644*\"function\" + 0.089*\"seri\" + 0.041*\"error\" + 0.034*\"s14\" + 0.028*\"static\" + 0.025*\"power\" + 0.023*\"s22\" + 0.021*\"wave\" + 0.021*\"(\" + 0.020*\"algorithm\"\n",
      "2022-02-22 21:27:46,193 : INFO : topic #61 (0.018): 0.150*\"structur\" + 0.093*\",\" + 0.076*\"program\" + 0.065*\"data\" + 0.040*\"formal\" + 0.038*\"proof\" + 0.030*\"concept\" + 0.026*\"implement\" + 0.026*\"construct\" + 0.023*\"theorem\"\n",
      "2022-02-22 21:27:46,195 : INFO : topic #25 (0.045): 0.342*\"(\" + 0.331*\")\" + 0.284*\"algorithm\" + 0.024*\"surfac\" + 0.004*\"coeffici\" + 0.004*\"integ\" + 0.004*\"polynomi\" + 0.003*\"differ\" + 0.000*\"express\" + 0.000*\"root\"\n",
      "2022-02-22 21:27:46,199 : INFO : topic diff=0.199010, rho=0.238352\n",
      "2022-02-22 21:27:48,480 : INFO : -6.430 per-word bound, 86.2 perplexity estimate based on a held-out corpus of 1204 documents with 49783 words\n",
      "2022-02-22 21:27:48,480 : INFO : PROGRESS: pass 15, at document #3204/3204\n",
      "2022-02-22 21:27:50,237 : INFO : optimized alpha [0.011014345, 0.014933909, 0.012367734, 0.011956712, 0.012240046, 0.011936364, 0.014520752, 0.0130220475, 0.013341786, 0.013854526, 0.012786873, 0.012845588, 0.014275217, 0.011400277, 0.0124284625, 0.012583268, 0.015389316, 0.013989526, 0.015835203, 0.0104977945, 0.015045469, 0.012255117, 0.010691168, 0.013631182, 0.011836661, 0.047231793, 0.010871509, 0.013176294, 0.011026706, 0.011840682, 0.0120159015, 0.01315889, 0.013283994, 0.008616177, 0.012993962, 0.016537353, 0.0137223005, 0.012289821, 0.015808538, 0.011332389, 0.01575773, 0.015850207, 0.013351392, 0.012953076, 0.012646128, 0.013388877, 0.011869264, 0.010749965, 0.013162506, 0.014014661, 0.012854832, 0.016220182, 0.012144651, 0.016953064, 0.012404064, 0.011216733, 0.010478228, 0.013259436, 0.016457247, 0.015235005, 0.012427332, 0.01899547, 0.012089296, 0.013986535, 0.015570558, 0.012341806, 0.011724662, 0.011407192, 0.013524806, 0.01332912, 0.011815306, 0.01280974, 0.0132522145, 0.01541219, 0.0121302, 0.011898475, 0.012414737, 0.010948022, 0.013428568, 0.013107162, 0.013735101, 0.011827722, 0.012102872, 0.010477359, 0.01207069, 0.011084966, 0.010738591, 0.011310794, 0.013190237, 0.013501305, 0.013655318, 0.013793521, 0.013334903, 0.014255199, 0.012983791, 0.016646167, 0.010490267, 0.012133151, 0.011647239, 0.010196658]\n",
      "2022-02-22 21:27:50,265 : INFO : merging changes from 1204 documents into a model of 3204 documents\n",
      "2022-02-22 21:27:50,288 : INFO : topic #33 (0.009): 0.362*\"abil\" + 0.270*\"extract\" + 0.233*\"intellig\" + 0.000*\"data\" + 0.000*\"inform\" + 0.000*\"system\" + 0.000*\"situat\" + 0.000*\"regress\" + 0.000*\"simpson\" + 0.000*\"stage\"\n",
      "2022-02-22 21:27:50,288 : INFO : topic #99 (0.010): 0.241*\"multiprogram\" + 0.135*\"modif\" + 0.124*\"disk\" + 0.100*\"content\" + 0.062*\"load\" + 0.052*\",\" + 0.049*\"recoveri\" + 0.029*\"simultan\" + 0.028*\"'\" + 0.025*\"system\"\n",
      "2022-02-22 21:27:50,288 : INFO : topic #53 (0.017): 0.660*\"function\" + 0.086*\"seri\" + 0.039*\"error\" + 0.035*\"static\" + 0.030*\"s14\" + 0.024*\"power\" + 0.021*\"s22\" + 0.020*\"wave\" + 0.019*\"algorithm\" + 0.018*\"(\"\n",
      "2022-02-22 21:27:50,300 : INFO : topic #61 (0.019): 0.150*\"structur\" + 0.094*\",\" + 0.076*\"program\" + 0.065*\"data\" + 0.041*\"proof\" + 0.040*\"formal\" + 0.030*\"concept\" + 0.026*\"implement\" + 0.026*\"construct\" + 0.024*\"theorem\"\n",
      "2022-02-22 21:27:50,301 : INFO : topic #25 (0.047): 0.341*\"(\" + 0.328*\")\" + 0.284*\"algorithm\" + 0.029*\"surfac\" + 0.004*\"integ\" + 0.004*\"coeffici\" + 0.003*\"polynomi\" + 0.002*\"differ\" + 0.000*\"express\" + 0.000*\"root\"\n",
      "2022-02-22 21:27:50,302 : INFO : topic diff=0.204239, rho=0.238352\n",
      "2022-02-22 21:27:50,324 : INFO : PROGRESS: pass 16, at document #2000/3204\n",
      "2022-02-22 21:27:52,014 : INFO : optimized alpha [0.011042256, 0.014981537, 0.012538116, 0.011983861, 0.012241174, 0.011956526, 0.0146320835, 0.013101648, 0.013487978, 0.013979139, 0.012831284, 0.012919431, 0.014295781, 0.011402449, 0.012413915, 0.012641649, 0.015341042, 0.014111421, 0.016063632, 0.010519271, 0.015165335, 0.01234494, 0.01071358, 0.013624862, 0.011862071, 0.04913569, 0.010865479, 0.01318928, 0.011019086, 0.0118517745, 0.012125359, 0.013286321, 0.013353615, 0.008602387, 0.013047658, 0.016695915, 0.013933543, 0.012404951, 0.016002746, 0.011374982, 0.01595828, 0.015914166, 0.013361196, 0.013141702, 0.012683124, 0.013563603, 0.011885588, 0.010784269, 0.013196726, 0.014104529, 0.012904623, 0.016579963, 0.012215873, 0.017248722, 0.012415328, 0.011228127, 0.010484665, 0.013421495, 0.01664715, 0.015297446, 0.012516692, 0.019072419, 0.012110914, 0.014027062, 0.015713267, 0.012341161, 0.0117836185, 0.011421889, 0.013602097, 0.013372809, 0.011890645, 0.012879792, 0.013283403, 0.015378405, 0.012193266, 0.01194481, 0.012429497, 0.010968437, 0.013468805, 0.013137099, 0.013731383, 0.011830556, 0.012110973, 0.010458907, 0.012089624, 0.0111052245, 0.010783298, 0.011311095, 0.013203197, 0.013567075, 0.013672867, 0.013808321, 0.013362182, 0.0143957315, 0.0130398115, 0.016790539, 0.010493367, 0.012227978, 0.011671521, 0.010207408]\n",
      "2022-02-22 21:27:52,029 : INFO : merging changes from 2000 documents into a model of 3204 documents\n",
      "2022-02-22 21:27:52,049 : INFO : topic #33 (0.009): 0.364*\"abil\" + 0.279*\"extract\" + 0.219*\"intellig\" + 0.000*\"data\" + 0.000*\"inform\" + 0.000*\"system\" + 0.000*\"situat\" + 0.000*\"regress\" + 0.000*\"simpson\" + 0.000*\"stage\"\n",
      "2022-02-22 21:27:52,049 : INFO : topic #99 (0.010): 0.240*\"multiprogram\" + 0.139*\"modif\" + 0.124*\"disk\" + 0.094*\"content\" + 0.063*\"load\" + 0.051*\",\" + 0.047*\"recoveri\" + 0.031*\"simultan\" + 0.027*\"system\" + 0.026*\"univac\"\n",
      "2022-02-22 21:27:52,049 : INFO : topic #53 (0.017): 0.657*\"function\" + 0.090*\"seri\" + 0.040*\"error\" + 0.034*\"s14\" + 0.028*\"static\" + 0.025*\"power\" + 0.023*\"s22\" + 0.021*\"wave\" + 0.017*\"algorithm\" + 0.017*\"(\"\n",
      "2022-02-22 21:27:52,049 : INFO : topic #61 (0.019): 0.151*\"structur\" + 0.093*\",\" + 0.076*\"program\" + 0.065*\"data\" + 0.040*\"formal\" + 0.038*\"proof\" + 0.031*\"concept\" + 0.026*\"implement\" + 0.026*\"construct\" + 0.023*\"theorem\"\n",
      "2022-02-22 21:27:52,049 : INFO : topic #25 (0.049): 0.343*\"(\" + 0.333*\")\" + 0.283*\"algorithm\" + 0.024*\"surfac\" + 0.004*\"integ\" + 0.004*\"coeffici\" + 0.003*\"differ\" + 0.003*\"polynomi\" + 0.000*\"express\" + 0.000*\"root\"\n"
     ]
    },
    {
     "name": "stderr",
     "output_type": "stream",
     "text": [
      "2022-02-22 21:27:52,066 : INFO : topic diff=0.182822, rho=0.231857\n",
      "2022-02-22 21:27:54,004 : INFO : -6.423 per-word bound, 85.8 perplexity estimate based on a held-out corpus of 1204 documents with 49783 words\n",
      "2022-02-22 21:27:54,004 : INFO : PROGRESS: pass 16, at document #3204/3204\n",
      "2022-02-22 21:27:55,586 : INFO : optimized alpha [0.011088354, 0.015247853, 0.012589071, 0.012112399, 0.012390407, 0.012046339, 0.014853905, 0.0132531235, 0.013640332, 0.014124505, 0.012964656, 0.012978403, 0.014483939, 0.011499959, 0.012587335, 0.012851667, 0.015589787, 0.014248095, 0.016276, 0.010567203, 0.015314208, 0.012443614, 0.010814654, 0.01388501, 0.012000802, 0.051024757, 0.010954069, 0.013353665, 0.011118137, 0.011976492, 0.012139534, 0.013422939, 0.01354667, 0.008592474, 0.013164723, 0.016869728, 0.013965565, 0.0125475135, 0.01625714, 0.011458915, 0.016270101, 0.016182473, 0.013635405, 0.013216505, 0.012776865, 0.013628154, 0.012035365, 0.010830263, 0.013368136, 0.014277385, 0.013068351, 0.016518047, 0.012277488, 0.017561642, 0.0125665385, 0.011302372, 0.010542537, 0.013610793, 0.017051792, 0.015637515, 0.012639864, 0.019577058, 0.012220082, 0.014205584, 0.015922416, 0.012515027, 0.011864999, 0.01152277, 0.013762284, 0.013554437, 0.011971704, 0.013023708, 0.013431248, 0.015663387, 0.012289251, 0.012006908, 0.012606741, 0.011044618, 0.013655002, 0.01336507, 0.0139565915, 0.012004138, 0.012283935, 0.010555617, 0.012219797, 0.011192187, 0.010881451, 0.011382127, 0.013394627, 0.013774618, 0.013876984, 0.013965749, 0.0135483425, 0.014497647, 0.013227748, 0.016979404, 0.010570631, 0.012412124, 0.0117629515, 0.010252487]\n",
      "2022-02-22 21:27:55,601 : INFO : merging changes from 1204 documents into a model of 3204 documents\n",
      "2022-02-22 21:27:55,630 : INFO : topic #33 (0.009): 0.362*\"abil\" + 0.270*\"extract\" + 0.233*\"intellig\" + 0.000*\"data\" + 0.000*\"inform\" + 0.000*\"system\" + 0.000*\"situat\" + 0.000*\"regress\" + 0.000*\"simpson\" + 0.000*\"stage\"\n",
      "2022-02-22 21:27:55,632 : INFO : topic #99 (0.010): 0.242*\"multiprogram\" + 0.136*\"modif\" + 0.130*\"disk\" + 0.100*\"content\" + 0.063*\"load\" + 0.052*\",\" + 0.049*\"recoveri\" + 0.027*\"simultan\" + 0.025*\"system\" + 0.025*\"complet\"\n",
      "2022-02-22 21:27:55,634 : INFO : topic #53 (0.018): 0.671*\"function\" + 0.087*\"seri\" + 0.037*\"error\" + 0.035*\"static\" + 0.030*\"s14\" + 0.024*\"power\" + 0.021*\"s22\" + 0.020*\"wave\" + 0.016*\"algorithm\" + 0.015*\"(\"\n",
      "2022-02-22 21:27:55,637 : INFO : topic #61 (0.020): 0.151*\"structur\" + 0.095*\",\" + 0.076*\"program\" + 0.065*\"data\" + 0.041*\"proof\" + 0.040*\"formal\" + 0.030*\"concept\" + 0.026*\"implement\" + 0.026*\"construct\" + 0.024*\"theorem\"\n",
      "2022-02-22 21:27:55,639 : INFO : topic #25 (0.051): 0.343*\"(\" + 0.330*\")\" + 0.283*\"algorithm\" + 0.029*\"surfac\" + 0.004*\"integ\" + 0.004*\"coeffici\" + 0.002*\"differ\" + 0.002*\"polynomi\" + 0.000*\"express\" + 0.000*\"root\"\n",
      "2022-02-22 21:27:55,643 : INFO : topic diff=0.187906, rho=0.231857\n",
      "2022-02-22 21:27:55,659 : INFO : PROGRESS: pass 17, at document #2000/3204\n",
      "2022-02-22 21:27:57,259 : INFO : optimized alpha [0.011112107, 0.015291972, 0.01275731, 0.012138902, 0.012395502, 0.012063457, 0.014963216, 0.01333571, 0.013803188, 0.014245572, 0.013012453, 0.0130480025, 0.014501985, 0.011500782, 0.0125741735, 0.01291753, 0.01554514, 0.014367954, 0.01650564, 0.010589697, 0.015437065, 0.012534842, 0.010834137, 0.013874563, 0.012025532, 0.052988395, 0.010952018, 0.013366063, 0.011114493, 0.011984511, 0.012249902, 0.013548495, 0.013624057, 0.008579606, 0.013218819, 0.017023614, 0.01418057, 0.012666678, 0.016460218, 0.011498167, 0.016463034, 0.016244397, 0.0136595275, 0.013402951, 0.012814635, 0.013802064, 0.0120565295, 0.010866539, 0.013407456, 0.014362208, 0.013122913, 0.01687192, 0.012348898, 0.017859334, 0.012577308, 0.011318873, 0.010556288, 0.013774111, 0.0172532, 0.015701247, 0.012729116, 0.019649928, 0.012241238, 0.01425297, 0.016062602, 0.012515422, 0.011924266, 0.01153849, 0.013839615, 0.01359849, 0.012048465, 0.013093802, 0.013463119, 0.015628984, 0.0123525765, 0.012056592, 0.012622238, 0.011068519, 0.013694133, 0.013389221, 0.013955367, 0.012006465, 0.012292882, 0.010537619, 0.012238152, 0.011214702, 0.010925362, 0.011382655, 0.0134083135, 0.013845122, 0.013895095, 0.0139814885, 0.01357311, 0.014637584, 0.013280892, 0.01712308, 0.010573798, 0.012509704, 0.011785465, 0.010263246]\n",
      "2022-02-22 21:27:57,289 : INFO : merging changes from 2000 documents into a model of 3204 documents\n",
      "2022-02-22 21:27:57,314 : INFO : topic #33 (0.009): 0.364*\"abil\" + 0.278*\"extract\" + 0.219*\"intellig\" + 0.000*\"data\" + 0.000*\"inform\" + 0.000*\"system\" + 0.000*\"situat\" + 0.000*\"regress\" + 0.000*\"simpson\" + 0.000*\"stage\"\n",
      "2022-02-22 21:27:57,314 : INFO : topic #99 (0.010): 0.241*\"multiprogram\" + 0.139*\"modif\" + 0.130*\"disk\" + 0.093*\"content\" + 0.063*\"load\" + 0.052*\",\" + 0.047*\"recoveri\" + 0.030*\"simultan\" + 0.026*\"system\" + 0.025*\"univac\"\n",
      "2022-02-22 21:27:57,314 : INFO : topic #53 (0.018): 0.668*\"function\" + 0.091*\"seri\" + 0.039*\"error\" + 0.034*\"s14\" + 0.028*\"static\" + 0.026*\"power\" + 0.023*\"s22\" + 0.021*\"wave\" + 0.015*\"algorithm\" + 0.013*\"arbitrari\"\n",
      "2022-02-22 21:27:57,323 : INFO : topic #61 (0.020): 0.153*\"structur\" + 0.094*\",\" + 0.075*\"program\" + 0.065*\"data\" + 0.041*\"formal\" + 0.038*\"proof\" + 0.031*\"concept\" + 0.026*\"implement\" + 0.025*\"construct\" + 0.023*\"theorem\"\n",
      "2022-02-22 21:27:57,324 : INFO : topic #25 (0.053): 0.345*\"(\" + 0.333*\")\" + 0.282*\"algorithm\" + 0.024*\"surfac\" + 0.004*\"integ\" + 0.004*\"coeffici\" + 0.003*\"differ\" + 0.002*\"polynomi\" + 0.000*\"express\" + 0.000*\"root\"\n",
      "2022-02-22 21:27:57,324 : INFO : topic diff=0.169066, rho=0.225865\n",
      "2022-02-22 21:27:59,239 : INFO : -6.417 per-word bound, 85.4 perplexity estimate based on a held-out corpus of 1204 documents with 49783 words\n",
      "2022-02-22 21:27:59,247 : INFO : PROGRESS: pass 17, at document #3204/3204\n",
      "2022-02-22 21:28:00,786 : INFO : optimized alpha [0.011159489, 0.015554734, 0.012804278, 0.012265149, 0.012537441, 0.012160719, 0.015187506, 0.01349212, 0.013976686, 0.014393593, 0.013148513, 0.013095812, 0.01468958, 0.011594359, 0.012744728, 0.013134814, 0.015795346, 0.014512822, 0.016717318, 0.010636791, 0.0155915795, 0.0126316175, 0.010935482, 0.014136652, 0.012159666, 0.054881092, 0.0110431705, 0.013535054, 0.011213754, 0.012111578, 0.012265875, 0.013680078, 0.013814374, 0.00857055, 0.013333703, 0.017197032, 0.0142082395, 0.012802259, 0.016714517, 0.011582655, 0.016781181, 0.016508752, 0.013951544, 0.013475623, 0.012911458, 0.013867207, 0.012208344, 0.010909664, 0.013576065, 0.014543211, 0.013291425, 0.016808467, 0.012406866, 0.01816871, 0.012725944, 0.011393863, 0.0106111225, 0.013960843, 0.017669369, 0.01604717, 0.012861812, 0.020154517, 0.012348376, 0.014431144, 0.016271066, 0.012684125, 0.012006263, 0.011637537, 0.013989182, 0.013777236, 0.012130126, 0.013237648, 0.013613259, 0.0159066, 0.012449136, 0.012122066, 0.012799017, 0.01115997, 0.0138747655, 0.013624196, 0.014190623, 0.012184177, 0.012460839, 0.010634572, 0.012366026, 0.011300099, 0.0110299755, 0.011454542, 0.013599186, 0.014057508, 0.014093441, 0.014120097, 0.01375616, 0.014737104, 0.013468506, 0.017317869, 0.010645655, 0.012689179, 0.011875191, 0.010309489]\n",
      "2022-02-22 21:28:00,802 : INFO : merging changes from 1204 documents into a model of 3204 documents\n",
      "2022-02-22 21:28:00,831 : INFO : topic #33 (0.009): 0.362*\"abil\" + 0.271*\"extract\" + 0.233*\"intellig\" + 0.000*\"data\" + 0.000*\"inform\" + 0.000*\"system\" + 0.000*\"situat\" + 0.000*\"regress\" + 0.000*\"simpson\" + 0.000*\"stage\"\n",
      "2022-02-22 21:28:00,839 : INFO : topic #99 (0.010): 0.243*\"multiprogram\" + 0.137*\"modif\" + 0.135*\"disk\" + 0.099*\"content\" + 0.065*\"load\" + 0.051*\",\" + 0.049*\"recoveri\" + 0.026*\"simultan\" + 0.024*\"complet\" + 0.023*\"system\"\n",
      "2022-02-22 21:28:00,839 : INFO : topic #53 (0.018): 0.680*\"function\" + 0.088*\"seri\" + 0.037*\"error\" + 0.035*\"static\" + 0.030*\"s14\" + 0.025*\"power\" + 0.021*\"s22\" + 0.020*\"wave\" + 0.014*\"algorithm\" + 0.012*\"arbitrari\"\n",
      "2022-02-22 21:28:00,843 : INFO : topic #61 (0.020): 0.153*\"structur\" + 0.096*\",\" + 0.075*\"program\" + 0.065*\"data\" + 0.041*\"proof\" + 0.040*\"formal\" + 0.030*\"concept\" + 0.026*\"implement\" + 0.026*\"construct\" + 0.024*\"theorem\"\n",
      "2022-02-22 21:28:00,843 : INFO : topic #25 (0.055): 0.344*\"(\" + 0.331*\")\" + 0.281*\"algorithm\" + 0.028*\"surfac\" + 0.004*\"integ\" + 0.003*\"coeffici\" + 0.002*\"differ\" + 0.001*\"polynomi\" + 0.000*\"express\" + 0.000*\"root\"\n"
     ]
    },
    {
     "name": "stderr",
     "output_type": "stream",
     "text": [
      "2022-02-22 21:28:00,843 : INFO : topic diff=0.173901, rho=0.225865\n",
      "2022-02-22 21:28:00,863 : INFO : PROGRESS: pass 18, at document #2000/3204\n",
      "2022-02-22 21:28:02,508 : INFO : optimized alpha [0.011185475, 0.015602322, 0.012974753, 0.012292359, 0.012539482, 0.012180251, 0.015294873, 0.013571733, 0.0141485585, 0.0145144025, 0.013196808, 0.013165808, 0.014706814, 0.011595257, 0.012732856, 0.013202175, 0.015740056, 0.014633962, 0.016944647, 0.010657878, 0.015712274, 0.012722809, 0.010959428, 0.014123635, 0.012185087, 0.05682007, 0.011041261, 0.013549816, 0.01121148, 0.012124633, 0.012375882, 0.013803856, 0.01389496, 0.008558519, 0.013388297, 0.01735026, 0.014420737, 0.012924065, 0.0169155, 0.0116238445, 0.016981192, 0.016568763, 0.013974142, 0.01365853, 0.012952896, 0.014040461, 0.012226141, 0.010944201, 0.013618902, 0.014626508, 0.013344805, 0.01715862, 0.012474364, 0.018466571, 0.012733467, 0.011410125, 0.010623603, 0.01412553, 0.017870417, 0.016113961, 0.012955318, 0.020227756, 0.012369108, 0.014482154, 0.016410705, 0.012686922, 0.012065844, 0.011655534, 0.014061967, 0.013823194, 0.012206966, 0.013304982, 0.013644295, 0.01586984, 0.012512754, 0.012172291, 0.0128138205, 0.0111859115, 0.013914352, 0.013650173, 0.014193434, 0.012194086, 0.012470593, 0.010618156, 0.012385323, 0.011322261, 0.0110803945, 0.011453961, 0.013618086, 0.01412951, 0.014115415, 0.014133909, 0.013778468, 0.014874972, 0.013520355, 0.017459216, 0.010648924, 0.012788227, 0.011896054, 0.010322525]\n",
      "2022-02-22 21:28:02,541 : INFO : merging changes from 2000 documents into a model of 3204 documents\n",
      "2022-02-22 21:28:02,571 : INFO : topic #33 (0.009): 0.364*\"abil\" + 0.278*\"extract\" + 0.219*\"intellig\" + 0.000*\"data\" + 0.000*\"inform\" + 0.000*\"system\" + 0.000*\"situat\" + 0.000*\"regress\" + 0.000*\"simpson\" + 0.000*\"stage\"\n",
      "2022-02-22 21:28:02,571 : INFO : topic #99 (0.010): 0.241*\"multiprogram\" + 0.140*\"modif\" + 0.135*\"disk\" + 0.093*\"content\" + 0.066*\"load\" + 0.051*\",\" + 0.047*\"recoveri\" + 0.030*\"simultan\" + 0.025*\"system\" + 0.024*\"univac\"\n",
      "2022-02-22 21:28:02,571 : INFO : topic #53 (0.018): 0.676*\"function\" + 0.092*\"seri\" + 0.038*\"error\" + 0.034*\"s14\" + 0.028*\"static\" + 0.026*\"power\" + 0.023*\"s22\" + 0.021*\"wave\" + 0.013*\"arbitrari\" + 0.012*\"algorithm\"\n",
      "2022-02-22 21:28:02,571 : INFO : topic #61 (0.020): 0.155*\"structur\" + 0.095*\",\" + 0.075*\"program\" + 0.065*\"data\" + 0.041*\"formal\" + 0.038*\"proof\" + 0.031*\"concept\" + 0.026*\"implement\" + 0.025*\"construct\" + 0.023*\"theorem\"\n",
      "2022-02-22 21:28:02,578 : INFO : topic #25 (0.057): 0.346*\"(\" + 0.334*\")\" + 0.281*\"algorithm\" + 0.024*\"surfac\" + 0.004*\"integ\" + 0.004*\"coeffici\" + 0.003*\"differ\" + 0.001*\"polynomi\" + 0.000*\"express\" + 0.000*\"root\"\n",
      "2022-02-22 21:28:02,579 : INFO : topic diff=0.157466, rho=0.220316\n",
      "2022-02-22 21:28:04,505 : INFO : -6.412 per-word bound, 85.1 perplexity estimate based on a held-out corpus of 1204 documents with 49783 words\n",
      "2022-02-22 21:28:04,505 : INFO : PROGRESS: pass 18, at document #3204/3204\n",
      "2022-02-22 21:28:05,969 : INFO : optimized alpha [0.011236231, 0.015861757, 0.01302261, 0.012416498, 0.012681467, 0.012273659, 0.015516231, 0.013733167, 0.014338065, 0.014662551, 0.013335451, 0.013212651, 0.014883216, 0.011689363, 0.01289842, 0.013417066, 0.015989197, 0.014776341, 0.017152801, 0.010708144, 0.01586953, 0.01282254, 0.011061156, 0.01438505, 0.012319321, 0.058754217, 0.0111309, 0.013716182, 0.011311173, 0.0122607825, 0.012391313, 0.013933124, 0.01409298, 0.0085502425, 0.013498619, 0.017523339, 0.01444947, 0.013062164, 0.017169768, 0.011708976, 0.017303172, 0.016820403, 0.014261069, 0.013729195, 0.013055156, 0.014103743, 0.012380181, 0.010990665, 0.0137874605, 0.014794049, 0.013510901, 0.017093638, 0.012531184, 0.018775634, 0.0128867375, 0.011487975, 0.010677538, 0.014312406, 0.018301776, 0.016465852, 0.013088257, 0.02072511, 0.012474372, 0.014657546, 0.016612781, 0.012853115, 0.012148556, 0.011755002, 0.014214217, 0.014001739, 0.012289336, 0.013436671, 0.013791973, 0.016143402, 0.012609759, 0.012234346, 0.012995131, 0.011273724, 0.014089722, 0.013879678, 0.014425635, 0.012373817, 0.012642913, 0.010721324, 0.012513322, 0.01140405, 0.011195543, 0.011524617, 0.013816318, 0.014341817, 0.014313448, 0.014264912, 0.013956131, 0.014969522, 0.0137053365, 0.01763441, 0.010717588, 0.012979701, 0.011984181, 0.010368021]\n",
      "2022-02-22 21:28:05,989 : INFO : merging changes from 1204 documents into a model of 3204 documents\n",
      "2022-02-22 21:28:06,017 : INFO : topic #33 (0.009): 0.362*\"abil\" + 0.271*\"extract\" + 0.233*\"intellig\" + 0.000*\"data\" + 0.000*\"inform\" + 0.000*\"system\" + 0.000*\"situat\" + 0.000*\"regress\" + 0.000*\"simpson\" + 0.000*\"stage\"\n",
      "2022-02-22 21:28:06,025 : INFO : topic #99 (0.010): 0.242*\"multiprogram\" + 0.139*\"disk\" + 0.137*\"modif\" + 0.098*\"content\" + 0.068*\"load\" + 0.051*\",\" + 0.049*\"recoveri\" + 0.026*\"simultan\" + 0.024*\"complet\" + 0.023*\"statu\"\n",
      "2022-02-22 21:28:06,025 : INFO : topic #53 (0.019): 0.687*\"function\" + 0.089*\"seri\" + 0.036*\"error\" + 0.035*\"static\" + 0.030*\"s14\" + 0.025*\"power\" + 0.021*\"s22\" + 0.020*\"wave\" + 0.012*\"arbitrari\" + 0.011*\"algorithm\"\n",
      "2022-02-22 21:28:06,025 : INFO : topic #61 (0.021): 0.155*\"structur\" + 0.096*\",\" + 0.075*\"program\" + 0.064*\"data\" + 0.041*\"proof\" + 0.040*\"formal\" + 0.031*\"concept\" + 0.026*\"implement\" + 0.026*\"construct\" + 0.024*\"theorem\"\n",
      "2022-02-22 21:28:06,025 : INFO : topic #25 (0.059): 0.345*\"(\" + 0.332*\")\" + 0.280*\"algorithm\" + 0.028*\"surfac\" + 0.004*\"integ\" + 0.003*\"coeffici\" + 0.002*\"differ\" + 0.001*\"polynomi\" + 0.000*\"express\" + 0.000*\"root\"\n",
      "2022-02-22 21:28:06,034 : INFO : topic diff=0.162096, rho=0.220316\n",
      "2022-02-22 21:28:06,055 : INFO : PROGRESS: pass 19, at document #2000/3204\n",
      "2022-02-22 21:28:07,664 : INFO : optimized alpha [0.011260719, 0.015907744, 0.013191229, 0.012441755, 0.01268318, 0.012290185, 0.015630057, 0.013817272, 0.014528614, 0.014783259, 0.013387209, 0.013278761, 0.0149029475, 0.011694088, 0.012892038, 0.01348752, 0.015935788, 0.014895774, 0.017377874, 0.01073251, 0.015995158, 0.012911037, 0.011088274, 0.014372845, 0.012345484, 0.06071298, 0.011127874, 0.013728859, 0.011310174, 0.0122721335, 0.012501087, 0.014055218, 0.014175212, 0.008538978, 0.013550822, 0.017674161, 0.014662894, 0.01318257, 0.017370526, 0.011752062, 0.017501201, 0.016880464, 0.014282293, 0.013905733, 0.013097305, 0.014278012, 0.012400056, 0.011025921, 0.0138322925, 0.01487926, 0.013563207, 0.017440336, 0.012596301, 0.019071689, 0.012892461, 0.0115065435, 0.010691129, 0.01447857, 0.01851676, 0.016532192, 0.013178924, 0.020789785, 0.012494715, 0.014705789, 0.016751945, 0.012854108, 0.012208522, 0.011775211, 0.014293314, 0.014049602, 0.0123650115, 0.013502833, 0.013823732, 0.016106153, 0.012672332, 0.01228253, 0.013010623, 0.011301719, 0.0141297765, 0.013902976, 0.014430741, 0.01238047, 0.012652097, 0.010705226, 0.012532133, 0.011430877, 0.011246379, 0.011521761, 0.013825366, 0.01441393, 0.014339169, 0.0142830955, 0.013982248, 0.015107086, 0.013761883, 0.01777735, 0.010719782, 0.013077428, 0.012004715, 0.010378791]\n",
      "2022-02-22 21:28:07,680 : INFO : merging changes from 2000 documents into a model of 3204 documents\n",
      "2022-02-22 21:28:07,715 : INFO : topic #33 (0.009): 0.364*\"abil\" + 0.278*\"extract\" + 0.219*\"intellig\" + 0.000*\"data\" + 0.000*\"inform\" + 0.000*\"system\" + 0.000*\"situat\" + 0.000*\"regress\" + 0.000*\"simpson\" + 0.000*\"stage\"\n",
      "2022-02-22 21:28:07,717 : INFO : topic #99 (0.010): 0.242*\"multiprogram\" + 0.140*\"modif\" + 0.139*\"disk\" + 0.091*\"content\" + 0.069*\"load\" + 0.050*\",\" + 0.048*\"recoveri\" + 0.029*\"simultan\" + 0.024*\"univac\" + 0.023*\"complet\"\n",
      "2022-02-22 21:28:07,717 : INFO : topic #53 (0.019): 0.683*\"function\" + 0.093*\"seri\" + 0.037*\"error\" + 0.034*\"s14\" + 0.028*\"static\" + 0.026*\"power\" + 0.023*\"s22\" + 0.021*\"wave\" + 0.013*\"arbitrari\" + 0.010*\"algorithm\"\n",
      "2022-02-22 21:28:07,717 : INFO : topic #61 (0.021): 0.156*\"structur\" + 0.096*\",\" + 0.074*\"program\" + 0.065*\"data\" + 0.041*\"formal\" + 0.038*\"proof\" + 0.031*\"concept\" + 0.026*\"implement\" + 0.025*\"construct\" + 0.023*\"theorem\"\n",
      "2022-02-22 21:28:07,723 : INFO : topic #25 (0.061): 0.347*\"(\" + 0.334*\")\" + 0.280*\"algorithm\" + 0.023*\"surfac\" + 0.004*\"integ\" + 0.004*\"coeffici\" + 0.003*\"differ\" + 0.001*\"polynomi\" + 0.000*\"express\" + 0.000*\"root\"\n",
      "2022-02-22 21:28:07,726 : INFO : topic diff=0.147507, rho=0.215156\n"
     ]
    },
    {
     "name": "stderr",
     "output_type": "stream",
     "text": [
      "2022-02-22 21:28:09,544 : INFO : -6.407 per-word bound, 84.9 perplexity estimate based on a held-out corpus of 1204 documents with 49783 words\n",
      "2022-02-22 21:28:09,544 : INFO : PROGRESS: pass 19, at document #3204/3204\n",
      "2022-02-22 21:28:10,972 : INFO : optimized alpha [0.011308663, 0.016166935, 0.013242401, 0.012563934, 0.012822975, 0.012382084, 0.01584861, 0.013976405, 0.014744869, 0.014936962, 0.01352867, 0.013329541, 0.015079267, 0.011782451, 0.013059912, 0.013705173, 0.016181154, 0.0150356665, 0.017585745, 0.010778104, 0.016149616, 0.013020765, 0.011188453, 0.014633831, 0.012482124, 0.062649116, 0.0112160845, 0.01389275, 0.01141435, 0.012399623, 0.012516, 0.014189805, 0.014375974, 0.008531411, 0.013661708, 0.017840793, 0.014687388, 0.013328202, 0.01762812, 0.011840045, 0.017836483, 0.017137941, 0.014569464, 0.013974467, 0.013195503, 0.014342029, 0.012551927, 0.011073598, 0.014008448, 0.015052499, 0.013734356, 0.017370712, 0.012654313, 0.019380575, 0.013041207, 0.011587271, 0.010748074, 0.014663145, 0.01895432, 0.016881593, 0.0133145265, 0.021279873, 0.012598229, 0.014881192, 0.016953772, 0.013017932, 0.012289811, 0.011877288, 0.01444063, 0.014228177, 0.012443694, 0.013642077, 0.013969063, 0.016373118, 0.012769997, 0.0123457, 0.013189531, 0.011388123, 0.014302616, 0.014134854, 0.014668069, 0.012555719, 0.012817525, 0.010799, 0.012660374, 0.011509267, 0.011363744, 0.01158921, 0.014020917, 0.014631531, 0.014529219, 0.014417053, 0.014154839, 0.015202279, 0.0139468545, 0.01794612, 0.010789277, 0.013266918, 0.012089215, 0.010425459]\n",
      "2022-02-22 21:28:10,990 : INFO : merging changes from 1204 documents into a model of 3204 documents\n",
      "2022-02-22 21:28:11,008 : INFO : topic #33 (0.009): 0.362*\"abil\" + 0.271*\"extract\" + 0.232*\"intellig\" + 0.000*\"data\" + 0.000*\"inform\" + 0.000*\"system\" + 0.000*\"situat\" + 0.000*\"regress\" + 0.000*\"simpson\" + 0.000*\"stage\"\n",
      "2022-02-22 21:28:11,024 : INFO : topic #99 (0.010): 0.243*\"multiprogram\" + 0.144*\"disk\" + 0.138*\"modif\" + 0.096*\"content\" + 0.070*\"load\" + 0.050*\",\" + 0.050*\"recoveri\" + 0.025*\"simultan\" + 0.024*\"complet\" + 0.023*\"statu\"\n",
      "2022-02-22 21:28:11,026 : INFO : topic #53 (0.019): 0.693*\"function\" + 0.090*\"seri\" + 0.035*\"error\" + 0.035*\"static\" + 0.030*\"s14\" + 0.025*\"power\" + 0.021*\"s22\" + 0.020*\"wave\" + 0.012*\"arbitrari\" + 0.010*\"algorithm\"\n",
      "2022-02-22 21:28:11,029 : INFO : topic #61 (0.021): 0.157*\"structur\" + 0.097*\",\" + 0.074*\"program\" + 0.065*\"data\" + 0.041*\"proof\" + 0.040*\"formal\" + 0.031*\"concept\" + 0.026*\"implement\" + 0.026*\"construct\" + 0.024*\"theorem\"\n",
      "2022-02-22 21:28:11,031 : INFO : topic #25 (0.063): 0.347*\"(\" + 0.333*\")\" + 0.278*\"algorithm\" + 0.028*\"surfac\" + 0.004*\"integ\" + 0.003*\"coeffici\" + 0.002*\"differ\" + 0.001*\"polynomi\" + 0.000*\"express\" + 0.000*\"root\"\n",
      "2022-02-22 21:28:11,031 : INFO : topic diff=0.151601, rho=0.215156\n"
     ]
    },
    {
     "data": {
      "text/plain": [
       "[(0, 0.0046513337),\n",
       " (1, 0.0066495757),\n",
       " (2, 0.005446694),\n",
       " (3, 0.0051676356),\n",
       " (4, 0.0052741813),\n",
       " (5, 0.0050928392),\n",
       " (6, 0.0065186466),\n",
       " (7, 0.41705036),\n",
       " (8, 0.0060646697),\n",
       " (9, 0.006143679),\n",
       " (10, 0.0055644386),\n",
       " (11, 0.0054825353),\n",
       " (12, 0.00620221),\n",
       " (13, 0.004846206),\n",
       " (14, 0.005371635),\n",
       " (15, 0.0056370352),\n",
       " (16, 0.006655424),\n",
       " (17, 0.0061842767),\n",
       " (18, 0.0072331424),\n",
       " (19, 0.004433111),\n",
       " (20, 0.006642452),\n",
       " (21, 0.005355533),\n",
       " (22, 0.0046018907),\n",
       " (23, 0.006018999),\n",
       " (24, 0.0051339865),\n",
       " (25, 0.025768029),\n",
       " (26, 0.0046132556),\n",
       " (27, 0.0057141874),\n",
       " (28, 0.0046948036),\n",
       " (29, 0.0051000533),\n",
       " (30, 0.00514792),\n",
       " (31, 0.005836368),\n",
       " (32, 0.0059129405),\n",
       " (33, 0.0035090302),\n",
       " (34, 0.0056191576),\n",
       " (35, 0.0073380456),\n",
       " (36, 0.0060410276),\n",
       " (37, 0.0054819845),\n",
       " (38, 0.0072505716),\n",
       " (39, 0.004869895),\n",
       " (40, 0.007336273),\n",
       " (41, 0.007048957),\n",
       " (42, 0.0059925243),\n",
       " (43, 0.005747798),\n",
       " (44, 0.0054274043),\n",
       " (45, 0.0058989786),\n",
       " (46, 0.005162697),\n",
       " (47, 0.00455465),\n",
       " (48, 0.0057617747),\n",
       " (49, 0.0061912),\n",
       " (50, 0.005649038),\n",
       " (51, 0.0071446975),\n",
       " (52, 0.005204809),\n",
       " (53, 0.007971369),\n",
       " (54, 0.005363941),\n",
       " (55, 0.004765927),\n",
       " (56, 0.0044207596),\n",
       " (57, 0.006031056),\n",
       " (58, 0.007796047),\n",
       " (59, 0.006943519),\n",
       " (60, 0.0054763597),\n",
       " (61, 0.008752564),\n",
       " (62, 0.0051817414),\n",
       " (63, 0.0061207404),\n",
       " (64, 0.006973207),\n",
       " (65, 0.005354368),\n",
       " (66, 0.005054887),\n",
       " (67, 0.0048852134),\n",
       " (68, 0.005939534),\n",
       " (69, 0.0058521507),\n",
       " (70, 0.00511818),\n",
       " (71, 0.0056110835),\n",
       " (72, 0.0057455753),\n",
       " (73, 0.00673438),\n",
       " (74, 0.0052523906),\n",
       " (75, 0.0050778743),\n",
       " (76, 0.005424948),\n",
       " (77, 0.004684016),\n",
       " (78, 0.005882768),\n",
       " (79, 0.0058137663),\n",
       " (80, 0.006033081),\n",
       " (81, 0.005164257),\n",
       " (82, 0.0052719396),\n",
       " (83, 0.0044417055),\n",
       " (84, 0.005207302),\n",
       " (85, 0.0047338433),\n",
       " (86, 0.004673989),\n",
       " (87, 0.0047667245),\n",
       " (88, 0.005766903),\n",
       " (89, 0.006018053),\n",
       " (90, 0.0059759715),\n",
       " (91, 0.0059298365),\n",
       " (92, 0.005821986),\n",
       " (93, 0.0062528057),\n",
       " (94, 0.0057364404),\n",
       " (95, 0.007381367),\n",
       " (96, 0.0044377064),\n",
       " (97, 0.005456778),\n",
       " (98, 0.0049723806),\n",
       " (99, 0.0042880652)]"
      ]
     },
     "execution_count": 130,
     "metadata": {},
     "output_type": "execute_result"
    }
   ],
   "source": [
    "##### Function check\n",
    "lda = LdaRetrievalModel(doc_repr_2)\n",
    "lda.train_model()\n",
    "\n",
    "# you can now get an LDA vector for a given query in the following way:\n",
    "lda.vectorize_query(\"report\")\n",
    "##### "
   ]
  },
  {
   "cell_type": "markdown",
   "metadata": {
    "deletable": false,
    "editable": false,
    "nbgrader": {
     "cell_type": "markdown",
     "checksum": "32d83b6ea79ca3ddb789a7f8805a1b25",
     "grade": false,
     "grade_id": "cell-0e24b727d5908c0e",
     "locked": true,
     "points": 5,
     "schema_version": 3,
     "solution": false,
     "task": true
    }
   },
   "source": [
    "\\#### Please do not change this. This cell is used for grading."
   ]
  },
  {
   "cell_type": "markdown",
   "metadata": {
    "deletable": false,
    "editable": false,
    "nbgrader": {
     "cell_type": "markdown",
     "checksum": "114a934f0b9ce696e6cf09d3b8da6a3d",
     "grade": false,
     "grade_id": "cell-b1bffcb970b18aeb",
     "locked": true,
     "schema_version": 3,
     "solution": false,
     "task": false
    }
   },
   "source": [
    "---\n",
    "Now we can use the `DenseRetrievalModel` class to obtain an LDA search function.\n",
    "You can test your LDA model in the following cell: Try finding queries which are lexically different to documents, but semantically similar - does LDA work well for these queries?!"
   ]
  },
  {
   "cell_type": "code",
   "execution_count": 135,
   "metadata": {},
   "outputs": [
    {
     "data": {
      "application/vnd.jupyter.widget-view+json": {
       "model_id": "3c12762105a44fa1aa052634be3c7835",
       "version_major": 2,
       "version_minor": 0
      },
      "text/plain": [
       "Text(value='', description='Search Bar')"
      ]
     },
     "metadata": {},
     "output_type": "display_data"
    },
    {
     "name": "stdout",
     "output_type": "stream",
     "text": [
      "Searching for: 'mitochondria' (SEARCH FN: <bound method DenseRetrievalRanker.search of <__main__.DenseRetrievalRanker object at 0x0000021E0C20D160>>)\n"
     ]
    },
    {
     "data": {
      "text/html": [
       "<ul><li>Document #235(1.0000000017744288): Two Think Pieces\n",
       "</li><li>Document #913(1.0000000017744288): Neliac\n",
       "</li><li>Document #917(1.0000000017744288): COMIT\n",
       "</li><li>Document #2782(1.0000000017744288): A Reply to Gentleman and Marovich\n",
       "</li><li>Document #2014(0.5148287705055776): Function Minimization and Linear Search $E4) (Algorithm 387)\n",
       "</li></ul>"
      ],
      "text/plain": [
       "<IPython.core.display.HTML object>"
      ]
     },
     "metadata": {},
     "output_type": "display_data"
    },
    {
     "name": "stdout",
     "output_type": "stream",
     "text": [
      "Searching for: 'blue ocean' (SEARCH FN: <bound method DenseRetrievalRanker.search of <__main__.DenseRetrievalRanker object at 0x0000021E0C20D160>>)\n"
     ]
    },
    {
     "data": {
      "text/html": [
       "<ul><li>Document #235(1.0000000017744288): Two Think Pieces\n",
       "</li><li>Document #913(1.0000000017744288): Neliac\n",
       "</li><li>Document #917(1.0000000017744288): COMIT\n",
       "</li><li>Document #2782(1.0000000017744288): A Reply to Gentleman and Marovich\n",
       "</li><li>Document #2014(0.5148287705055776): Function Minimization and Linear Search $E4) (Algorithm 387)\n",
       "</li></ul>"
      ],
      "text/plain": [
       "<IPython.core.display.HTML object>"
      ]
     },
     "metadata": {},
     "output_type": "display_data"
    }
   ],
   "source": [
    "drm_lda = DenseRetrievalRanker(lda, jenson_shannon_sim)\n",
    "\n",
    "# test your LDA model\n",
    "search_fn = drm_lda.search\n",
    "\n",
    "text = widgets.Text(description=\"Search Bar\", width=200)\n",
    "display(text)\n",
    "\n",
    "\n",
    "text.on_submit(handle_submit_2)"
   ]
  },
  {
   "cell_type": "markdown",
   "metadata": {
    "deletable": false,
    "editable": false,
    "nbgrader": {
     "cell_type": "markdown",
     "checksum": "9d7f15863b655119b45f4d89354e5661",
     "grade": false,
     "grade_id": "cell-190cd0854b2791cc",
     "locked": true,
     "schema_version": 3,
     "solution": false,
     "task": false
    }
   },
   "source": [
    "## Section 8: Word2Vec/Doc2Vec (20 points) <a class=\"anchor\" id=\"2vec\"></a>\n",
    "\n",
    "[Back to Part 2](#part2)\n",
    "\n",
    "We will implement two other methods here, the Word2Vec model and the Doc2Vec model, also using `gensim`. Word2Vec creates representations of words, not documents, so the word level vectors need to be aggregated to obtain a representation for the document. Here, we will simply take the mean of the vectors. \n",
    "\n",
    "\n",
    "A drawback of these models is that they need a lot of training data. Our dataset is tiny, so in addition to using a model trained on the data, we will also use a pre-trained model for Word2Vec (this will be automatically downloaded).     \n",
    "\n",
    "*Note*:\n",
    "1. The code in vectorize_documents / vectorize_query should return gensim-like vectors i.e `[(dim, val), .. (dim, val)]`. \n",
    "2. For Word2Vec: You should also handle the following two cases: (a) A word in the query is not present in the vocabulary of the model and (b) none of the words in the query are present in the model - you can return 0 scores for all documents in this case. For either of these, you can check if a `word` is present in the vocab by using `word in self.model`\n"
   ]
  },
  {
   "cell_type": "code",
   "execution_count": 87,
   "metadata": {
    "deletable": false,
    "nbgrader": {
     "cell_type": "code",
     "checksum": "83ab733608ed14c29c09b36b4e1b6daa",
     "grade": false,
     "grade_id": "cell-2b73759f9baf688f",
     "locked": false,
     "schema_version": 3,
     "solution": true,
     "task": false
    }
   },
   "outputs": [
    {
     "name": "stderr",
     "output_type": "stream",
     "text": [
      "2022-02-22 19:51:13,138 : INFO : adding document #0 to Dictionary(0 unique tokens: [])\n",
      "2022-02-22 19:51:13,352 : INFO : built Dictionary(5937 unique tokens: ['-', 'algebra', 'intern', 'languag', 'preliminari']...) from 3204 documents (total 115969 corpus positions)\n",
      "2022-02-22 19:51:13,369 : INFO : discarding 4740 tokens: [('repeat', 8), ('glossari', 7), ('inspect', 8), ('uncol', 2), ('rung', 9), ('secant', 2), ('.', 1603), ('acceler', 6), ('diverg', 3), ('induc', 9)]...\n",
      "2022-02-22 19:51:13,369 : INFO : keeping 1197 tokens which were in no less than 10 and no more than 1602 (=50.0%) documents\n",
      "2022-02-22 19:51:13,379 : INFO : resulting dictionary: Dictionary(1197 unique tokens: ['-', 'algebra', 'intern', 'languag', 'preliminari']...)\n",
      "2022-02-22 19:51:13,517 : INFO : collecting all words and their counts\n",
      "2022-02-22 19:51:13,517 : INFO : PROGRESS: at sentence #0, processed 0 words, keeping 0 word types\n",
      "2022-02-22 19:51:13,543 : INFO : collected 5937 word types from a corpus of 115969 raw words and 3204 sentences\n",
      "2022-02-22 19:51:13,543 : INFO : Loading a fresh vocabulary\n",
      "2022-02-22 19:51:13,574 : INFO : effective_min_count=1 retains 5937 unique words (100% of original 5937, drops 0)\n",
      "2022-02-22 19:51:13,575 : INFO : effective_min_count=1 leaves 115969 word corpus (100% of original 115969, drops 0)\n",
      "2022-02-22 19:51:13,610 : INFO : deleting the raw counts dictionary of 5937 items\n",
      "2022-02-22 19:51:13,611 : INFO : sample=0.001 downsamples 40 most-common words\n",
      "2022-02-22 19:51:13,612 : INFO : downsampling leaves estimated 92346 word corpus (79.6% of prior 115969)\n",
      "2022-02-22 19:51:13,628 : INFO : estimated required memory for 5937 words and 100 dimensions: 7718100 bytes\n",
      "2022-02-22 19:51:13,628 : INFO : resetting layer weights\n",
      "2022-02-22 19:51:15,298 : INFO : training model with 3 workers on 5937 vocabulary and 100 features, using sg=0 hs=0 sample=0.001 negative=5 window=5\n",
      "2022-02-22 19:51:15,390 : INFO : worker thread finished; awaiting finish of 2 more threads\n",
      "2022-02-22 19:51:15,401 : INFO : worker thread finished; awaiting finish of 1 more threads\n",
      "2022-02-22 19:51:15,404 : INFO : worker thread finished; awaiting finish of 0 more threads\n",
      "2022-02-22 19:51:15,405 : INFO : EPOCH - 1 : training on 115969 raw words (92259 effective words) took 0.1s, 967738 effective words/s\n",
      "2022-02-22 19:51:15,498 : INFO : worker thread finished; awaiting finish of 2 more threads\n",
      "2022-02-22 19:51:15,504 : INFO : worker thread finished; awaiting finish of 1 more threads\n",
      "2022-02-22 19:51:15,506 : INFO : worker thread finished; awaiting finish of 0 more threads\n",
      "2022-02-22 19:51:15,507 : INFO : EPOCH - 2 : training on 115969 raw words (92431 effective words) took 0.1s, 963926 effective words/s\n",
      "2022-02-22 19:51:15,603 : INFO : worker thread finished; awaiting finish of 2 more threads\n",
      "2022-02-22 19:51:15,613 : INFO : worker thread finished; awaiting finish of 1 more threads\n",
      "2022-02-22 19:51:15,614 : INFO : worker thread finished; awaiting finish of 0 more threads\n",
      "2022-02-22 19:51:15,614 : INFO : EPOCH - 3 : training on 115969 raw words (92323 effective words) took 0.1s, 893047 effective words/s\n",
      "2022-02-22 19:51:15,726 : INFO : worker thread finished; awaiting finish of 2 more threads\n",
      "2022-02-22 19:51:15,734 : INFO : worker thread finished; awaiting finish of 1 more threads\n",
      "2022-02-22 19:51:15,734 : INFO : worker thread finished; awaiting finish of 0 more threads\n",
      "2022-02-22 19:51:15,734 : INFO : EPOCH - 4 : training on 115969 raw words (92304 effective words) took 0.1s, 793601 effective words/s\n",
      "2022-02-22 19:51:15,869 : INFO : worker thread finished; awaiting finish of 2 more threads\n",
      "2022-02-22 19:51:15,873 : INFO : worker thread finished; awaiting finish of 1 more threads\n",
      "2022-02-22 19:51:15,881 : INFO : worker thread finished; awaiting finish of 0 more threads\n",
      "2022-02-22 19:51:15,882 : INFO : EPOCH - 5 : training on 115969 raw words (92424 effective words) took 0.1s, 684707 effective words/s\n",
      "2022-02-22 19:51:15,884 : INFO : training on a 579845 raw words (461741 effective words) took 0.6s, 796851 effective words/s\n",
      "C:\\Users\\irene\\AppData\\Local\\Continuum\\anaconda3\\envs\\ir2022\\lib\\site-packages\\ipykernel_launcher.py:57: DeprecationWarning: Call to deprecated `__contains__` (Method will be removed in 4.0.0, use self.wv.__contains__() instead).\n"
     ]
    },
    {
     "data": {
      "text/plain": [
       "[(0, 0.04229673370718956),\n",
       " (1, -0.3232675790786743),\n",
       " (2, 0.040513355284929276),\n",
       " (3, -0.12726528942584991),\n",
       " (4, -0.13579896092414856),\n",
       " (5, -0.2112433761358261),\n",
       " (6, -0.026629261672496796),\n",
       " (7, -0.21559639275074005),\n",
       " (8, -0.1708383858203888),\n",
       " (9, -0.2054508924484253),\n",
       " (10, 0.049279965460300446),\n",
       " (11, -0.22258669137954712),\n",
       " (12, 0.02434416301548481),\n",
       " (13, -0.34249573945999146),\n",
       " (14, -0.24966029822826385),\n",
       " (15, 0.24981431663036346),\n",
       " (16, -0.3442755341529846),\n",
       " (17, -0.11900870501995087),\n",
       " (18, -0.01690872386097908),\n",
       " (19, 0.3632412850856781),\n",
       " (20, -0.35676372051239014),\n",
       " (21, -0.07763443887233734),\n",
       " (22, 0.07153202593326569),\n",
       " (23, 0.04803032428026199),\n",
       " (24, 0.3654310405254364),\n",
       " (25, 0.005460985936224461),\n",
       " (26, -0.007824252359569073),\n",
       " (27, 0.0945926159620285),\n",
       " (28, 0.0391194112598896),\n",
       " (29, -0.12106903642416),\n",
       " (30, 0.3122483491897583),\n",
       " (31, -0.030950890854001045),\n",
       " (32, 0.33738380670547485),\n",
       " (33, 0.49971890449523926),\n",
       " (34, -0.32050588726997375),\n",
       " (35, 0.029388081282377243),\n",
       " (36, -0.20014406740665436),\n",
       " (37, 0.01233706995844841),\n",
       " (38, -0.04876772686839104),\n",
       " (39, 0.035060733556747437),\n",
       " (40, 0.28287866711616516),\n",
       " (41, -0.04481610655784607),\n",
       " (42, -0.07849646359682083),\n",
       " (43, 0.12693147361278534),\n",
       " (44, 0.37318819761276245),\n",
       " (45, -0.0013558438513427973),\n",
       " (46, 0.26594382524490356),\n",
       " (47, -0.03237837553024292),\n",
       " (48, 0.16461709141731262),\n",
       " (49, -0.11478107422590256),\n",
       " (50, -0.1459776759147644),\n",
       " (51, 0.07705380767583847),\n",
       " (52, 0.12326741218566895),\n",
       " (53, -0.1033267080783844),\n",
       " (54, 0.30289122462272644),\n",
       " (55, 0.02080596797168255),\n",
       " (56, 0.10187681019306183),\n",
       " (57, 0.12853814661502838),\n",
       " (58, 0.13357575237751007),\n",
       " (59, -0.05199714004993439),\n",
       " (60, -0.12682506442070007),\n",
       " (61, -0.46151062846183777),\n",
       " (62, -0.2780723571777344),\n",
       " (63, -0.11498962342739105),\n",
       " (64, -0.10315687209367752),\n",
       " (65, -0.5890878438949585),\n",
       " (66, 0.40473464131355286),\n",
       " (67, -0.032423462718725204),\n",
       " (68, 0.008082919754087925),\n",
       " (69, 0.24346217513084412),\n",
       " (70, 0.09618724882602692),\n",
       " (71, 0.31877601146698),\n",
       " (72, 0.02952251397073269),\n",
       " (73, -0.050517063587903976),\n",
       " (74, 0.20158322155475616),\n",
       " (75, -0.18830111622810364),\n",
       " (76, 0.058414410799741745),\n",
       " (77, 0.03644287586212158),\n",
       " (78, -0.04502515494823456),\n",
       " (79, 0.14536306262016296),\n",
       " (80, 0.14738422632217407),\n",
       " (81, -0.12471100687980652),\n",
       " (82, 0.018478231504559517),\n",
       " (83, 0.15075138211250305),\n",
       " (84, -0.562103271484375),\n",
       " (85, -0.15935157239437103),\n",
       " (86, 0.13153013586997986),\n",
       " (87, 0.06286970525979996),\n",
       " (88, 0.3304747939109802),\n",
       " (89, -0.12683312594890594),\n",
       " (90, 0.08218367397785187),\n",
       " (91, 0.4015897512435913),\n",
       " (92, 0.17690807580947876),\n",
       " (93, -0.1144145056605339),\n",
       " (94, 0.09165367484092712),\n",
       " (95, 0.08205405622720718),\n",
       " (96, -0.007226570975035429),\n",
       " (97, 0.16458788514137268),\n",
       " (98, 0.1343342512845993),\n",
       " (99, -0.3339640498161316)]"
      ]
     },
     "execution_count": 87,
     "metadata": {},
     "output_type": "execute_result"
    }
   ],
   "source": [
    "# TODO: Implement this! (10 points)\n",
    "class W2VRetrievalModel(VectorSpaceRetrievalModel):\n",
    "    def __init__(self, doc_repr):\n",
    "        super().__init__(doc_repr)\n",
    "        \n",
    "        # the dimensionality of the vectors\n",
    "        self.size = 100 \n",
    "        self.min_count = 1\n",
    "    \n",
    "    def train_model(self):\n",
    "        \"\"\"\n",
    "        Trains the W2V model\n",
    "        \"\"\"\n",
    "        # YOUR CODE HERE\n",
    "        self.model = Word2Vec(sentences = self.documents,\n",
    "                              size = self.size,\n",
    "                              min_count = self.min_count)\n",
    "        # raise NotImplementedError()\n",
    "        \n",
    "    def vectorize_documents(self):\n",
    "        \"\"\"\n",
    "            Returns a doc_id -> vector dictionary\n",
    "        \"\"\"\n",
    "        # YOUR CODE HERE\n",
    "        vectors = {}\n",
    "        for (doc_id, _), cc in zip(self.doc_repr, self.documents):\n",
    "            vectors_list = []\n",
    "            for word in cc:\n",
    "                if word in self.model:\n",
    "                    vectors_list.append(self.model.wv[word])\n",
    "                else:\n",
    "                    # if word not present in the vocab treat it as UNK with a zero vector\n",
    "                    vectors_list.append(np.zeros(self.size))\n",
    "                 \n",
    "            final_vector = []\n",
    "            if vectors_list:\n",
    "                vectors_mean = np.mean(vectors_list, axis=0)\n",
    "                for i, value in enumerate(vectors_mean):\n",
    "                    final_vector.append((i, value))\n",
    "            else:\n",
    "                for i in range(self.size):\n",
    "                    final_vector.append((i, 0))\n",
    "        \n",
    "            vectors[doc_id] = final_vector\n",
    "\n",
    "        return vectors\n",
    "        # raise NotImplementedError()\n",
    "\n",
    "    def vectorize_query(self, query):\n",
    "        \"\"\"\n",
    "        Vectorizes the query using the W2V model\n",
    "        \"\"\"\n",
    "        query = process_text(query, **config_2)\n",
    "        # YOUR CODE HERE\n",
    "        vectors = []\n",
    "        for word in query:\n",
    "            if word in self.model:\n",
    "                vectors.append(self.model.wv[word])\n",
    "            else:\n",
    "                # if word not present in the vocab treat it as UNK with a zero vector\n",
    "                vectors.append(np.zeros(self.size))\n",
    "\n",
    "        final_vector = []\n",
    "        if vectors:\n",
    "            vectors_mean = np.mean(vectors, axis=0)\n",
    "            for i, value in enumerate(vectors_mean):\n",
    "                final_vector.append((i, value))\n",
    "        else:\n",
    "            for i in range(self.size):\n",
    "                final_vector.append((i, 0))\n",
    "\n",
    "        return final_vector\n",
    "        # raise NotImplementedError()\n",
    "    \n",
    "    \n",
    "class W2VPretrainedRetrievalModel(W2VRetrievalModel):\n",
    "    def __init__(self, doc_repr):\n",
    "        super().__init__(doc_repr)\n",
    "        self.model_name = \"word2vec-google-news-300\"\n",
    "        self.size = 300\n",
    "    \n",
    "    def train_model(self):\n",
    "        \"\"\"\n",
    "        Loads the pretrained model\n",
    "        \"\"\"\n",
    "        self.model = g_downloader.load(self.model_name)\n",
    "\n",
    "w2v = W2VRetrievalModel(doc_repr_2)\n",
    "w2v.train_model()\n",
    "\n",
    "# you can now get a W2V vector for a given query in the following way:\n",
    "w2v.vectorize_query(\"report amazing\")"
   ]
  },
  {
   "cell_type": "code",
   "execution_count": 88,
   "metadata": {
    "deletable": false,
    "editable": false,
    "nbgrader": {
     "cell_type": "code",
     "checksum": "f92b5c5a8c6c4b80652b94223209ab0b",
     "grade": true,
     "grade_id": "cell-b31c0f8d214b8bdf",
     "locked": true,
     "points": 0,
     "schema_version": 3,
     "solution": false,
     "task": false
    }
   },
   "outputs": [
    {
     "name": "stderr",
     "output_type": "stream",
     "text": [
      "C:\\Users\\irene\\AppData\\Local\\Continuum\\anaconda3\\envs\\ir2022\\lib\\site-packages\\ipykernel_launcher.py:57: DeprecationWarning: Call to deprecated `__contains__` (Method will be removed in 4.0.0, use self.wv.__contains__() instead).\n"
     ]
    }
   ],
   "source": [
    "assert len(w2v.vectorize_query(\"report\")) == 100\n",
    "assert len(w2v.vectorize_query(\"this is a sentence that is not mellifluous\")) == 100\n"
   ]
  },
  {
   "cell_type": "markdown",
   "metadata": {
    "deletable": false,
    "editable": false,
    "nbgrader": {
     "cell_type": "markdown",
     "checksum": "8dfaabebcb06f308a7ca61fdc5d369e7",
     "grade": false,
     "grade_id": "cell-c2614fa067386384",
     "locked": true,
     "points": 8,
     "schema_version": 3,
     "solution": false,
     "task": true
    }
   },
   "source": [
    "\\#### Please do not change this. This cell is used for grading."
   ]
  },
  {
   "cell_type": "code",
   "execution_count": 89,
   "metadata": {},
   "outputs": [
    {
     "name": "stderr",
     "output_type": "stream",
     "text": [
      "2022-02-22 19:51:15,943 : INFO : adding document #0 to Dictionary(0 unique tokens: [])\n",
      "2022-02-22 19:51:16,245 : INFO : built Dictionary(5937 unique tokens: ['-', 'algebra', 'intern', 'languag', 'preliminari']...) from 3204 documents (total 115969 corpus positions)\n",
      "2022-02-22 19:51:16,268 : INFO : discarding 4740 tokens: [('repeat', 8), ('glossari', 7), ('inspect', 8), ('uncol', 2), ('rung', 9), ('secant', 2), ('.', 1603), ('acceler', 6), ('diverg', 3), ('induc', 9)]...\n",
      "2022-02-22 19:51:16,269 : INFO : keeping 1197 tokens which were in no less than 10 and no more than 1602 (=50.0%) documents\n",
      "2022-02-22 19:51:16,274 : INFO : resulting dictionary: Dictionary(1197 unique tokens: ['-', 'algebra', 'intern', 'languag', 'preliminari']...)\n",
      "2022-02-22 19:51:17,582 : INFO : loading projection weights from C:\\Users\\irene/gensim-data\\word2vec-google-news-300\\word2vec-google-news-300.gz\n",
      "2022-02-22 19:52:16,313 : INFO : loaded (3000000, 300) matrix from C:\\Users\\irene/gensim-data\\word2vec-google-news-300\\word2vec-google-news-300.gz\n",
      "C:\\Users\\irene\\AppData\\Local\\Continuum\\anaconda3\\envs\\ir2022\\lib\\site-packages\\ipykernel_launcher.py:58: DeprecationWarning: Call to deprecated `wv` (Attribute will be removed in 4.0.0, use self instead).\n"
     ]
    },
    {
     "data": {
      "text/plain": [
       "[(0, -0.14257812),\n",
       " (1, -0.1640625),\n",
       " (2, -0.09033203),\n",
       " (3, -0.11230469),\n",
       " (4, 0.100097656),\n",
       " (5, -0.041259766),\n",
       " (6, 0.048828125),\n",
       " (7, -0.13671875),\n",
       " (8, 0.19628906),\n",
       " (9, -0.13476562),\n",
       " (10, -0.017578125),\n",
       " (11, 0.032226562),\n",
       " (12, 0.095214844),\n",
       " (13, -0.10595703),\n",
       " (14, -0.16992188),\n",
       " (15, 0.041015625),\n",
       " (16, -0.26367188),\n",
       " (17, -0.0063171387),\n",
       " (18, -0.17773438),\n",
       " (19, -0.24023438),\n",
       " (20, 0.3515625),\n",
       " (21, -0.012207031),\n",
       " (22, -0.16210938),\n",
       " (23, -0.12060547),\n",
       " (24, 0.04321289),\n",
       " (25, 0.10986328),\n",
       " (26, 0.052490234),\n",
       " (27, 0.17871094),\n",
       " (28, -0.14550781),\n",
       " (29, 0.13769531),\n",
       " (30, -0.08203125),\n",
       " (31, -0.28320312),\n",
       " (32, -0.10888672),\n",
       " (33, -0.2890625),\n",
       " (34, 0.072265625),\n",
       " (35, -0.04736328),\n",
       " (36, 0.040283203),\n",
       " (37, 0.067871094),\n",
       " (38, 0.11669922),\n",
       " (39, 0.000831604),\n",
       " (40, 0.068359375),\n",
       " (41, 0.12011719),\n",
       " (42, -0.088378906),\n",
       " (43, 0.33789062),\n",
       " (44, -0.044677734),\n",
       " (45, -0.030151367),\n",
       " (46, 0.0076904297),\n",
       " (47, -0.021118164),\n",
       " (48, -0.25390625),\n",
       " (49, 0.14941406),\n",
       " (50, 0.3984375),\n",
       " (51, 0.021606445),\n",
       " (52, -0.02319336),\n",
       " (53, 0.0063476562),\n",
       " (54, 0.008239746),\n",
       " (55, -0.16894531),\n",
       " (56, 0.037353516),\n",
       " (57, -0.06347656),\n",
       " (58, 0.1171875),\n",
       " (59, -0.1484375),\n",
       " (60, -0.07861328),\n",
       " (61, 0.36914062),\n",
       " (62, -0.22460938),\n",
       " (63, 0.17382812),\n",
       " (64, 0.0138549805),\n",
       " (65, 0.1875),\n",
       " (66, -0.10107422),\n",
       " (67, 0.037841797),\n",
       " (68, 0.0021209717),\n",
       " (69, -0.05126953),\n",
       " (70, 0.096191406),\n",
       " (71, -0.057128906),\n",
       " (72, 0.10595703),\n",
       " (73, -0.020996094),\n",
       " (74, 0.16113281),\n",
       " (75, 0.09765625),\n",
       " (76, 0.038330078),\n",
       " (77, 0.21972656),\n",
       " (78, 0.10644531),\n",
       " (79, 0.0859375),\n",
       " (80, 0.1796875),\n",
       " (81, -0.08300781),\n",
       " (82, -0.033203125),\n",
       " (83, 0.041015625),\n",
       " (84, -0.064941406),\n",
       " (85, 0.019897461),\n",
       " (86, 0.13378906),\n",
       " (87, -0.09765625),\n",
       " (88, -0.19335938),\n",
       " (89, -0.23535156),\n",
       " (90, 0.19042969),\n",
       " (91, 0.0024871826),\n",
       " (92, -0.01574707),\n",
       " (93, 0.032226562),\n",
       " (94, -0.21972656),\n",
       " (95, -0.091308594),\n",
       " (96, 0.021240234),\n",
       " (97, 0.15820312),\n",
       " (98, 0.29882812),\n",
       " (99, -0.328125),\n",
       " (100, 0.057373047),\n",
       " (101, -0.04638672),\n",
       " (102, 0.11328125),\n",
       " (103, -0.1015625),\n",
       " (104, 0.18066406),\n",
       " (105, -0.025146484),\n",
       " (106, -0.16601562),\n",
       " (107, -0.096191406),\n",
       " (108, 0.018798828),\n",
       " (109, -0.19433594),\n",
       " (110, 0.14941406),\n",
       " (111, -0.056640625),\n",
       " (112, -0.106933594),\n",
       " (113, -0.15039062),\n",
       " (114, -0.17578125),\n",
       " (115, 0.11279297),\n",
       " (116, 0.049316406),\n",
       " (117, 0.21972656),\n",
       " (118, 0.31835938),\n",
       " (119, 0.15722656),\n",
       " (120, -0.29296875),\n",
       " (121, 0.10498047),\n",
       " (122, -0.296875),\n",
       " (123, -0.013427734),\n",
       " (124, 0.09082031),\n",
       " (125, 0.012573242),\n",
       " (126, -0.051513672),\n",
       " (127, -0.12890625),\n",
       " (128, 0.014465332),\n",
       " (129, 0.12060547),\n",
       " (130, -0.10107422),\n",
       " (131, -0.111328125),\n",
       " (132, 0.063964844),\n",
       " (133, -0.052978516),\n",
       " (134, -0.04321289),\n",
       " (135, -0.012939453),\n",
       " (136, -0.02758789),\n",
       " (137, -0.09716797),\n",
       " (138, -0.20214844),\n",
       " (139, 0.123046875),\n",
       " (140, -0.04248047),\n",
       " (141, 0.17382812),\n",
       " (142, -0.013671875),\n",
       " (143, 0.1015625),\n",
       " (144, -0.0009384155),\n",
       " (145, -0.03564453),\n",
       " (146, 0.30078125),\n",
       " (147, -0.068359375),\n",
       " (148, -0.056152344),\n",
       " (149, 0.037597656),\n",
       " (150, 0.06591797),\n",
       " (151, 0.040283203),\n",
       " (152, 0.0119018555),\n",
       " (153, 0.096191406),\n",
       " (154, 0.3671875),\n",
       " (155, -0.27929688),\n",
       " (156, -0.052001953),\n",
       " (157, -0.106933594),\n",
       " (158, -0.13476562),\n",
       " (159, -0.046142578),\n",
       " (160, 0.25),\n",
       " (161, 0.0056762695),\n",
       " (162, -0.014404297),\n",
       " (163, -0.03100586),\n",
       " (164, -0.060302734),\n",
       " (165, 0.10595703),\n",
       " (166, 0.37890625),\n",
       " (167, 0.05883789),\n",
       " (168, 0.123046875),\n",
       " (169, -0.115234375),\n",
       " (170, 0.14941406),\n",
       " (171, -0.1640625),\n",
       " (172, -0.23339844),\n",
       " (173, -0.07763672),\n",
       " (174, 0.026733398),\n",
       " (175, -0.021118164),\n",
       " (176, 0.19433594),\n",
       " (177, -0.056152344),\n",
       " (178, -0.006439209),\n",
       " (179, -0.16992188),\n",
       " (180, -0.118652344),\n",
       " (181, -0.06738281),\n",
       " (182, -0.068847656),\n",
       " (183, -0.08691406),\n",
       " (184, -0.1015625),\n",
       " (185, 0.014160156),\n",
       " (186, -0.20117188),\n",
       " (187, 0.09814453),\n",
       " (188, -0.010253906),\n",
       " (189, 0.1875),\n",
       " (190, 0.19628906),\n",
       " (191, -0.22070312),\n",
       " (192, -0.19628906),\n",
       " (193, -0.07373047),\n",
       " (194, 0.06640625),\n",
       " (195, -0.13378906),\n",
       " (196, 0.18359375),\n",
       " (197, -0.20019531),\n",
       " (198, 0.19824219),\n",
       " (199, 0.05029297),\n",
       " (200, 0.029907227),\n",
       " (201, 0.017700195),\n",
       " (202, -0.19335938),\n",
       " (203, -0.096191406),\n",
       " (204, -0.10253906),\n",
       " (205, 0.21289062),\n",
       " (206, -0.029907227),\n",
       " (207, 0.14355469),\n",
       " (208, 0.041015625),\n",
       " (209, -0.21191406),\n",
       " (210, 0.20800781),\n",
       " (211, 0.13769531),\n",
       " (212, -0.01965332),\n",
       " (213, 0.014953613),\n",
       " (214, -0.09765625),\n",
       " (215, 0.24316406),\n",
       " (216, 0.080078125),\n",
       " (217, 0.08251953),\n",
       " (218, 0.09863281),\n",
       " (219, 0.056884766),\n",
       " (220, 0.04248047),\n",
       " (221, 0.068847656),\n",
       " (222, -0.03540039),\n",
       " (223, -0.076171875),\n",
       " (224, -0.00016117096),\n",
       " (225, -0.07519531),\n",
       " (226, 0.22460938),\n",
       " (227, 0.15136719),\n",
       " (228, 0.10058594),\n",
       " (229, 0.10986328),\n",
       " (230, 0.023803711),\n",
       " (231, 0.088378906),\n",
       " (232, 0.061767578),\n",
       " (233, -0.107910156),\n",
       " (234, 0.06225586),\n",
       " (235, 0.0034332275),\n",
       " (236, 0.080566406),\n",
       " (237, 0.106933594),\n",
       " (238, 0.08886719),\n",
       " (239, -0.23730469),\n",
       " (240, 0.064941406),\n",
       " (241, 0.010192871),\n",
       " (242, -0.088378906),\n",
       " (243, -0.33203125),\n",
       " (244, 0.0046691895),\n",
       " (245, 0.21289062),\n",
       " (246, 0.0859375),\n",
       " (247, 0.020385742),\n",
       " (248, 0.045654297),\n",
       " (249, 0.1484375),\n",
       " (250, 0.11816406),\n",
       " (251, 0.055664062),\n",
       " (252, -0.17285156),\n",
       " (253, -0.125),\n",
       " (254, -0.025390625),\n",
       " (255, -0.31835938),\n",
       " (256, 0.03112793),\n",
       " (257, 0.0859375),\n",
       " (258, -0.041992188),\n",
       " (259, 0.15625),\n",
       " (260, 0.16113281),\n",
       " (261, 0.19824219),\n",
       " (262, -0.100097656),\n",
       " (263, 0.203125),\n",
       " (264, 0.12890625),\n",
       " (265, 0.23339844),\n",
       " (266, -0.26757812),\n",
       " (267, 0.05517578),\n",
       " (268, 0.048828125),\n",
       " (269, 0.072265625),\n",
       " (270, 0.24414062),\n",
       " (271, 0.24414062),\n",
       " (272, 0.056884766),\n",
       " (273, -0.0546875),\n",
       " (274, -0.033691406),\n",
       " (275, -0.12060547),\n",
       " (276, 0.03491211),\n",
       " (277, -0.14550781),\n",
       " (278, 0.087402344),\n",
       " (279, -0.08300781),\n",
       " (280, 0.017211914),\n",
       " (281, 0.14355469),\n",
       " (282, -0.122558594),\n",
       " (283, 0.1796875),\n",
       " (284, 0.13085938),\n",
       " (285, -0.16503906),\n",
       " (286, 0.012756348),\n",
       " (287, 0.16015625),\n",
       " (288, -0.03112793),\n",
       " (289, 0.08203125),\n",
       " (290, 0.17382812),\n",
       " (291, -0.16796875),\n",
       " (292, 0.13085938),\n",
       " (293, 0.08544922),\n",
       " (294, -0.2109375),\n",
       " (295, -0.13085938),\n",
       " (296, -0.028930664),\n",
       " (297, -0.10546875),\n",
       " (298, 0.084472656),\n",
       " (299, -0.14160156)]"
      ]
     },
     "execution_count": 89,
     "metadata": {},
     "output_type": "execute_result"
    }
   ],
   "source": [
    "w2v_pretrained = W2VPretrainedRetrievalModel(doc_repr_2)\n",
    "w2v_pretrained.train_model()\n",
    "\n",
    "# you can now get an W2V vector for a given query in the following way:\n",
    "w2v_pretrained.vectorize_query(\"report\")"
   ]
  },
  {
   "cell_type": "code",
   "execution_count": 90,
   "metadata": {
    "deletable": false,
    "editable": false,
    "nbgrader": {
     "cell_type": "code",
     "checksum": "0822845afb5eafe5ddb1ffeaa4f4942a",
     "grade": true,
     "grade_id": "cell-1b1466f8ce516f42",
     "locked": true,
     "points": 2,
     "schema_version": 3,
     "solution": false,
     "task": false
    }
   },
   "outputs": [
    {
     "name": "stdout",
     "output_type": "stream",
     "text": [
      "300\n"
     ]
    },
    {
     "name": "stderr",
     "output_type": "stream",
     "text": [
      "C:\\Users\\irene\\AppData\\Local\\Continuum\\anaconda3\\envs\\ir2022\\lib\\site-packages\\ipykernel_launcher.py:58: DeprecationWarning: Call to deprecated `wv` (Attribute will be removed in 4.0.0, use self instead).\n"
     ]
    }
   ],
   "source": [
    "##### Function check\n",
    "\n",
    "print(len(w2v_pretrained.vectorize_query(\"report\")))\n",
    "#####"
   ]
  },
  {
   "cell_type": "code",
   "execution_count": 91,
   "metadata": {},
   "outputs": [
    {
     "name": "stderr",
     "output_type": "stream",
     "text": [
      "C:\\Users\\irene\\AppData\\Local\\Continuum\\anaconda3\\envs\\ir2022\\lib\\site-packages\\ipykernel_launcher.py:29: DeprecationWarning: Call to deprecated `__contains__` (Method will be removed in 4.0.0, use self.wv.__contains__() instead).\n"
     ]
    },
    {
     "data": {
      "application/vnd.jupyter.widget-view+json": {
       "model_id": "1da41b5510714af4a78e4e15567ec980",
       "version_major": 2,
       "version_minor": 0
      },
      "text/plain": [
       "Text(value='', description='Search Bar')"
      ]
     },
     "metadata": {},
     "output_type": "display_data"
    }
   ],
   "source": [
    "drm_w2v = DenseRetrievalRanker(w2v, cosine_sim)\n",
    "\n",
    "# test your W2V model\n",
    "search_fn = drm_w2v.search\n",
    "\n",
    "text = widgets.Text(description=\"Search Bar\", width=200)\n",
    "display(text)\n",
    "\n",
    "\n",
    "text.on_submit(handle_submit_2)"
   ]
  },
  {
   "cell_type": "code",
   "execution_count": 92,
   "metadata": {},
   "outputs": [
    {
     "name": "stderr",
     "output_type": "stream",
     "text": [
      "C:\\Users\\irene\\AppData\\Local\\Continuum\\anaconda3\\envs\\ir2022\\lib\\site-packages\\ipykernel_launcher.py:30: DeprecationWarning: Call to deprecated `wv` (Attribute will be removed in 4.0.0, use self instead).\n"
     ]
    },
    {
     "data": {
      "application/vnd.jupyter.widget-view+json": {
       "model_id": "aeb38aea1dd1443f88c7357391e89bda",
       "version_major": 2,
       "version_minor": 0
      },
      "text/plain": [
       "Text(value='', description='Search Bar')"
      ]
     },
     "metadata": {},
     "output_type": "display_data"
    }
   ],
   "source": [
    "drm_w2v_pretrained = DenseRetrievalRanker(w2v_pretrained, cosine_sim)\n",
    "\n",
    "# test your LDA model\n",
    "search_fn = drm_w2v_pretrained.search\n",
    "\n",
    "text = widgets.Text(description=\"Search Bar\", width=200)\n",
    "display(text)\n",
    "\n",
    "\n",
    "text.on_submit(handle_submit_2)"
   ]
  },
  {
   "cell_type": "markdown",
   "metadata": {
    "deletable": false,
    "editable": false,
    "nbgrader": {
     "cell_type": "markdown",
     "checksum": "51b778984fd60757974f51047c61eb15",
     "grade": false,
     "grade_id": "cell-b92f701cbc706108",
     "locked": true,
     "schema_version": 3,
     "solution": false,
     "task": false
    }
   },
   "source": [
    "**Implementation (10 points):**\n",
    "For Doc2Vec, you will need to create a list of `TaggedDocument` instead of using the `self.corpus` or `self.documents` variable. Use the document id as the 'tag'.\n",
    "  "
   ]
  },
  {
   "cell_type": "code",
   "execution_count": 93,
   "metadata": {
    "deletable": false,
    "nbgrader": {
     "cell_type": "code",
     "checksum": "1f60fdeb97febb7f4a6fd5bf109aac20",
     "grade": false,
     "grade_id": "cell-680facdcc98a19ab",
     "locked": false,
     "schema_version": 3,
     "solution": true,
     "task": false
    }
   },
   "outputs": [
    {
     "name": "stderr",
     "output_type": "stream",
     "text": [
      "2022-02-22 19:52:18,414 : INFO : adding document #0 to Dictionary(0 unique tokens: [])\n",
      "2022-02-22 19:52:18,673 : INFO : built Dictionary(5937 unique tokens: ['-', 'algebra', 'intern', 'languag', 'preliminari']...) from 3204 documents (total 115969 corpus positions)\n",
      "2022-02-22 19:52:18,674 : INFO : discarding 4740 tokens: [('repeat', 8), ('glossari', 7), ('inspect', 8), ('uncol', 2), ('rung', 9), ('secant', 2), ('.', 1603), ('acceler', 6), ('diverg', 3), ('induc', 9)]...\n",
      "2022-02-22 19:52:18,674 : INFO : keeping 1197 tokens which were in no less than 10 and no more than 1602 (=50.0%) documents\n",
      "2022-02-22 19:52:18,690 : INFO : resulting dictionary: Dictionary(1197 unique tokens: ['-', 'algebra', 'intern', 'languag', 'preliminari']...)\n",
      "2022-02-22 19:52:18,835 : INFO : collecting all words and their counts\n",
      "2022-02-22 19:52:18,836 : INFO : collected 0 word types and 0 unique tags from a corpus of 0 examples and 0 words\n",
      "2022-02-22 19:52:18,837 : INFO : Loading a fresh vocabulary\n",
      "2022-02-22 19:52:18,838 : INFO : effective_min_count=1 retains 0 unique words (0% of original 0, drops 0)\n",
      "2022-02-22 19:52:18,840 : INFO : effective_min_count=1 leaves 0 word corpus (0% of original 0, drops 0)\n",
      "2022-02-22 19:52:18,840 : INFO : deleting the raw counts dictionary of 0 items\n",
      "2022-02-22 19:52:18,840 : INFO : sample=0.001 downsamples 0 most-common words\n",
      "2022-02-22 19:52:18,842 : INFO : downsampling leaves estimated 0 word corpus (0.0% of prior 0)\n",
      "2022-02-22 19:52:18,843 : INFO : estimated required memory for 0 words and 100 dimensions: 0 bytes\n",
      "2022-02-22 19:52:18,844 : INFO : resetting layer weights\n"
     ]
    },
    {
     "data": {
      "text/plain": [
       "[(0, 0.004504104),\n",
       " (1, -0.002791077),\n",
       " (2, 0.0038373354),\n",
       " (3, 0.004081095),\n",
       " (4, -0.0036113998),\n",
       " (5, -0.00329884),\n",
       " (6, 0.00093938445),\n",
       " (7, 0.0024281403),\n",
       " (8, 0.0025378005),\n",
       " (9, 0.0016906247),\n",
       " (10, 0.0021743586),\n",
       " (11, -0.00056082004),\n",
       " (12, 0.002715503),\n",
       " (13, 0.0014469889),\n",
       " (14, -0.003747298),\n",
       " (15, -0.003922313),\n",
       " (16, -0.0007051911),\n",
       " (17, 0.0017230539),\n",
       " (18, 0.0042041675),\n",
       " (19, -0.0027216238),\n",
       " (20, 0.0012027253),\n",
       " (21, -0.0010701452),\n",
       " (22, -0.0029264053),\n",
       " (23, -0.003101292),\n",
       " (24, 0.00046481614),\n",
       " (25, 0.00023605113),\n",
       " (26, 0.0047258437),\n",
       " (27, 0.0011423635),\n",
       " (28, -0.00039898464),\n",
       " (29, -0.0023071875),\n",
       " (30, 0.0009821624),\n",
       " (31, -0.0028196268),\n",
       " (32, -0.00277689),\n",
       " (33, -0.00040931947),\n",
       " (34, -0.002707477),\n",
       " (35, -0.0015083465),\n",
       " (36, -0.0010253913),\n",
       " (37, -0.0010207072),\n",
       " (38, -0.0030042704),\n",
       " (39, 0.003024681),\n",
       " (40, -0.0034227518),\n",
       " (41, 0.0007159721),\n",
       " (42, -0.002041756),\n",
       " (43, 0.0041668224),\n",
       " (44, 0.004827927),\n",
       " (45, -0.003384708),\n",
       " (46, -2.6518452e-05),\n",
       " (47, 0.0035465688),\n",
       " (48, 0.001547978),\n",
       " (49, 0.004766682),\n",
       " (50, 0.0034445166),\n",
       " (51, -0.0029226048),\n",
       " (52, 0.0032224895),\n",
       " (53, 0.000121546494),\n",
       " (54, 0.0023490223),\n",
       " (55, 0.002207152),\n",
       " (56, 0.0032203135),\n",
       " (57, 0.0010771932),\n",
       " (58, 0.0018248372),\n",
       " (59, 0.00084882195),\n",
       " (60, 0.0034431918),\n",
       " (61, -0.002064143),\n",
       " (62, 0.0013761473),\n",
       " (63, 0.0029166508),\n",
       " (64, -0.00046738173),\n",
       " (65, 0.004204319),\n",
       " (66, 0.0042802794),\n",
       " (67, 0.0034721373),\n",
       " (68, -0.0023000878),\n",
       " (69, -0.0043194126),\n",
       " (70, 0.0017711155),\n",
       " (71, -0.00031456686),\n",
       " (72, 0.00037560234),\n",
       " (73, -0.00063869293),\n",
       " (74, -0.0036503149),\n",
       " (75, -0.004897284),\n",
       " (76, -0.003503506),\n",
       " (77, -0.0019282767),\n",
       " (78, 0.004801847),\n",
       " (79, 0.0007070679),\n",
       " (80, 0.001633095),\n",
       " (81, -5.3620533e-05),\n",
       " (82, -0.0047823503),\n",
       " (83, -0.00038521865),\n",
       " (84, 0.0030535047),\n",
       " (85, -0.0009967044),\n",
       " (86, -0.0031932665),\n",
       " (87, -0.00062842935),\n",
       " (88, 0.00032393515),\n",
       " (89, -0.0007493739),\n",
       " (90, 0.0023897765),\n",
       " (91, 0.0049591665),\n",
       " (92, -0.004441566),\n",
       " (93, 0.002881031),\n",
       " (94, 0.00473019),\n",
       " (95, -0.0022760835),\n",
       " (96, 0.0029043492),\n",
       " (97, 0.000110481946),\n",
       " (98, -0.0033210507),\n",
       " (99, -0.0012392653)]"
      ]
     },
     "execution_count": 93,
     "metadata": {},
     "output_type": "execute_result"
    }
   ],
   "source": [
    "# TODO: Implement this! (10 points)\n",
    "class D2VRetrievalModel(VectorSpaceRetrievalModel):\n",
    "    def __init__(self, doc_repr):\n",
    "        super().__init__(doc_repr)\n",
    "        \n",
    "        self.vector_size= 100\n",
    "        self.min_count = 1\n",
    "        self.epochs = 20\n",
    "        \n",
    "        # YOUR CODE HERE\n",
    "        tagged_docs = []\n",
    "        for (doc_id, _), cc in zip(self.doc_repr, self.documents):\n",
    "            docs.append(TaggedDocument(words=cc, tags=[doc_id]))\n",
    "\n",
    "        self.tagged_documents = tagged_docs\n",
    "        # raise NotImplementedError()\n",
    "        \n",
    "    def train_model(self):\n",
    "        # YOUR CODE HERE\n",
    "        self.model = Doc2Vec(vector_size = self.vector_size,\n",
    "                              min_count = self.min_count,\n",
    "                              epochs = self.epochs)\n",
    "        self.model.build_vocab(self.tagged_documents)\n",
    "        # raise NotImplementedError()\n",
    "    \n",
    "    def vectorize_documents(self):\n",
    "        \"\"\"\n",
    "            Returns a doc_id -> vector dictionary\n",
    "        \"\"\"\n",
    "        # YOUR CODE HERE\n",
    "        vectors = {}\n",
    "        for (doc_id, _), cc in zip(self.doc_repr, self.documents):\n",
    "            vectors[doc_id] = [(i, value) for i, value in enumerate(self.model.infer_vector(cc))]\n",
    "\n",
    "        return vectors\n",
    "        # raise NotImplementedError()\n",
    "\n",
    "    def vectorize_query(self, query):\n",
    "        # YOUR CODE HERE\n",
    "        query = process_text(query, **config_2)\n",
    "        vectors = [(i, value) for i, value in enumerate(self.model.infer_vector(query))]\n",
    "        return vectors\n",
    "        # raise NotImplementedError()\n",
    "        \n",
    "d2v = D2VRetrievalModel(doc_repr_2)\n",
    "d2v.train_model()\n",
    "\n",
    "\n",
    "# # you can now get an LSI vector for a given query in the following way:\n",
    "d2v.vectorize_query(\"report\")"
   ]
  },
  {
   "cell_type": "code",
   "execution_count": 94,
   "metadata": {
    "deletable": false,
    "editable": false,
    "nbgrader": {
     "cell_type": "code",
     "checksum": "e83a363a9d4f136efbdde1426a83925e",
     "grade": true,
     "grade_id": "cell-5e2c5e0c9a2e8cb5",
     "locked": true,
     "points": 0,
     "schema_version": 3,
     "solution": false,
     "task": false
    }
   },
   "outputs": [],
   "source": [
    "#### Please do not change this. This cell is used for grading."
   ]
  },
  {
   "cell_type": "markdown",
   "metadata": {
    "deletable": false,
    "editable": false,
    "nbgrader": {
     "cell_type": "markdown",
     "checksum": "5bb46bf6b9be1e0ca66f0b0bc6260ecb",
     "grade": false,
     "grade_id": "cell-8a49d414f798a595",
     "locked": true,
     "points": 10,
     "schema_version": 3,
     "solution": false,
     "task": true
    }
   },
   "source": [
    "\\#### Please do not change this. This cell is used for grading."
   ]
  },
  {
   "cell_type": "code",
   "execution_count": 95,
   "metadata": {},
   "outputs": [
    {
     "data": {
      "application/vnd.jupyter.widget-view+json": {
       "model_id": "6a58943085494cc7a2314d8325bbc22d",
       "version_major": 2,
       "version_minor": 0
      },
      "text/plain": [
       "Text(value='', description='Search Bar')"
      ]
     },
     "metadata": {},
     "output_type": "display_data"
    }
   ],
   "source": [
    "drm_d2v = DenseRetrievalRanker(d2v, cosine_sim)\n",
    "\n",
    "# test your LDA model\n",
    "search_fn = drm_d2v.search\n",
    "\n",
    "text = widgets.Text(description=\"Search Bar\", width=200)\n",
    "display(text)\n",
    "\n",
    "\n",
    "text.on_submit(handle_submit_2)"
   ]
  },
  {
   "cell_type": "markdown",
   "metadata": {
    "deletable": false,
    "editable": false,
    "nbgrader": {
     "cell_type": "markdown",
     "checksum": "363ec36c1d03d9f9e1c2045a6e193c14",
     "grade": false,
     "grade_id": "cell-3529ae29eece7b97",
     "locked": true,
     "schema_version": 3,
     "solution": false,
     "task": false
    }
   },
   "source": [
    "---\n",
    "## Section 9: Re-ranking (10 points) <a class=\"anchor\" id=\"reranking\"></a>\n",
    "\n",
    "[Back to Part 2](#part2)\n",
    "\n",
    "To motivate the re-ranking perspective (i.e retrieve with lexical method + rerank with a semantic method), let's search using semantic methods and compare it to BM25's performance, along with their runtime:\n"
   ]
  },
  {
   "cell_type": "code",
   "execution_count": 96,
   "metadata": {
    "deletable": false,
    "editable": false,
    "nbgrader": {
     "cell_type": "code",
     "checksum": "5755f70e3eb28abc65d14d80125338af",
     "grade": false,
     "grade_id": "cell-f8f43bf5ae383128",
     "locked": true,
     "schema_version": 3,
     "solution": false,
     "task": false
    }
   },
   "outputs": [
    {
     "name": "stdout",
     "output_type": "stream",
     "text": [
      "BM25: \n",
      "2.74 ms ± 447 µs per loop (mean ± std. dev. of 7 runs, 1000 loops each)\n",
      "LSI: \n",
      "722 ms ± 92.1 ms per loop (mean ± std. dev. of 7 runs, 1 loop each)\n",
      "LDA: \n",
      "5.44 s ± 2.44 s per loop (mean ± std. dev. of 7 runs, 1 loop each)\n",
      "W2V: \n"
     ]
    },
    {
     "name": "stderr",
     "output_type": "stream",
     "text": [
      "C:\\Users\\irene\\AppData\\Local\\Continuum\\anaconda3\\envs\\ir2022\\lib\\site-packages\\ipykernel_launcher.py:57: DeprecationWarning: Call to deprecated `__contains__` (Method will be removed in 4.0.0, use self.wv.__contains__() instead).\n"
     ]
    },
    {
     "name": "stdout",
     "output_type": "stream",
     "text": [
      "4.07 s ± 645 ms per loop (mean ± std. dev. of 7 runs, 1 loop each)\n",
      "W2V(Pretrained): \n"
     ]
    },
    {
     "name": "stderr",
     "output_type": "stream",
     "text": [
      "C:\\Users\\irene\\AppData\\Local\\Continuum\\anaconda3\\envs\\ir2022\\lib\\site-packages\\ipykernel_launcher.py:58: DeprecationWarning: Call to deprecated `wv` (Attribute will be removed in 4.0.0, use self instead).\n",
      "C:\\Users\\irene\\AppData\\Local\\Continuum\\anaconda3\\envs\\ir2022\\lib\\site-packages\\ipykernel_launcher.py:30: RuntimeWarning: invalid value encountered in double_scalars\n"
     ]
    },
    {
     "name": "stdout",
     "output_type": "stream",
     "text": [
      "6.89 s ± 1.28 s per loop (mean ± std. dev. of 7 runs, 1 loop each)\n",
      "D2V:\n",
      "3.32 s ± 175 ms per loop (mean ± std. dev. of 7 runs, 1 loop each)\n"
     ]
    }
   ],
   "source": [
    "query = \"algebraic functions\"\n",
    "print(\"BM25: \")\n",
    "%timeit bm25_search(query, 2)\n",
    "print(\"LSI: \")\n",
    "%timeit drm_lsi.search(query)\n",
    "print(\"LDA: \")\n",
    "%timeit drm_lda.search(query)\n",
    "print(\"W2V: \")\n",
    "%timeit drm_w2v.search(query)\n",
    "print(\"W2V(Pretrained): \")\n",
    "%timeit drm_w2v_pretrained.search(query)\n",
    "print(\"D2V:\")\n",
    "%timeit drm_d2v.search(query)"
   ]
  },
  {
   "cell_type": "markdown",
   "metadata": {
    "deletable": false,
    "editable": false,
    "nbgrader": {
     "cell_type": "markdown",
     "checksum": "ae398da0a8c23c95bcbb0023b7ec6f34",
     "grade": false,
     "grade_id": "cell-db5ff09f97841af7",
     "locked": true,
     "schema_version": 3,
     "solution": false,
     "task": false
    }
   },
   "source": [
    "---\n",
    "\n",
    "**Implementation (10 points):**\n",
    "Re-ranking involves retrieving a small set of documents using simple but fast methods like BM25 and then re-ranking them with the aid of semantic methods such as LDA or LSI. Implement the following class, which takes in an `initial_retrieval_fn` - the initial retrieval function and `vsrm` - an instance of the `VectorSpaceRetrievalModel` class (i.e LSI/LDA) as input. The search function should first retrieve an initial list of K documents, and then these documents are re-ranked using a semantic method. This not only makes retrieval faster, but semantic methods perform poorly when used in isolation, as you will find out."
   ]
  },
  {
   "cell_type": "code",
   "execution_count": 97,
   "metadata": {
    "deletable": false,
    "nbgrader": {
     "cell_type": "code",
     "checksum": "63b6b05a676a2ae3f08d8bed1bc59428",
     "grade": false,
     "grade_id": "cell-5bf47600d1a0c507",
     "locked": false,
     "schema_version": 3,
     "solution": true,
     "task": false
    }
   },
   "outputs": [],
   "source": [
    "# TODO: Implement this! (10 points)\n",
    "class DenseRerankingModel:\n",
    "    def __init__(self, initial_retrieval_fn, vsrm, similarity_fn):\n",
    "        \"\"\"\n",
    "            initial_retrieval_fn: takes in a query and returns a list of [(doc_id, score)] (sorted)\n",
    "            vsrm: instance of `VectorSpaceRetrievalModel`\n",
    "            similarity_fn: function instance that takes in two vectors \n",
    "                            and returns a similarity score e.g cosine_sim defined earlier\n",
    "        \"\"\"\n",
    "        self.ret = initial_retrieval_fn\n",
    "        self.vsrm = vsrm\n",
    "        self.similarity_fn = similarity_fn\n",
    "        self.vectorized_documents = vsrm.vectorize_documents()\n",
    "        \n",
    "        assert len(self.vectorized_documents) == len(doc_repr_2)\n",
    "    \n",
    "    def search(self, query, K=50):\n",
    "        \"\"\"\n",
    "            First, retrieve the top K results using the retrieval function\n",
    "            Then, re-rank the results using the VSRM instance\n",
    "        \"\"\"\n",
    "        # YOUR CODE HERE\n",
    "        results = self.ret(query)[:K]\n",
    "        \n",
    "        retrieved_doc_ids = [value[0] for value in results]\n",
    "        query_vector = self.vsrm.vectorize_query(query)\n",
    "\n",
    "        scores = [(doc_id, self.similarity_fn(vec, query_vector)) \n",
    "                  for doc_id, vec in self.vectorized_documents.items() \n",
    "                  if (doc_id in retrieved_doc_ids) and vec and query_vector]\n",
    "        scores.sort(key=lambda _:-_[1])\n",
    "        return scores\n",
    "        # raise NotImplementedError()"
   ]
  },
  {
   "cell_type": "code",
   "execution_count": 98,
   "metadata": {
    "deletable": false,
    "editable": false,
    "nbgrader": {
     "cell_type": "code",
     "checksum": "334ab5af96976265cace682ab82a7387",
     "grade": true,
     "grade_id": "cell-52c6d18a4c0b4882",
     "locked": true,
     "points": 0,
     "schema_version": 3,
     "solution": false,
     "task": false
    }
   },
   "outputs": [
    {
     "name": "stderr",
     "output_type": "stream",
     "text": [
      "C:\\Users\\irene\\AppData\\Local\\Continuum\\anaconda3\\envs\\ir2022\\lib\\site-packages\\ipykernel_launcher.py:29: DeprecationWarning: Call to deprecated `__contains__` (Method will be removed in 4.0.0, use self.wv.__contains__() instead).\n",
      "C:\\Users\\irene\\AppData\\Local\\Continuum\\anaconda3\\envs\\ir2022\\lib\\site-packages\\ipykernel_launcher.py:30: DeprecationWarning: Call to deprecated `wv` (Attribute will be removed in 4.0.0, use self instead).\n"
     ]
    }
   ],
   "source": [
    "##### Function check\n",
    "bm25_search_2 = partial(bm25_search, index_set=2)\n",
    "lsi_rerank = DenseRerankingModel(bm25_search_2, lsi, cosine_sim)\n",
    "lda_rerank = DenseRerankingModel(bm25_search_2, lda, jenson_shannon_sim)\n",
    "w2v_rerank = DenseRerankingModel(bm25_search_2, w2v, cosine_sim)\n",
    "w2v_pretrained_rerank = DenseRerankingModel(bm25_search_2, w2v_pretrained, cosine_sim)\n",
    "d2v_rerank = DenseRerankingModel(bm25_search_2, d2v, cosine_sim)\n",
    "\n",
    "##### "
   ]
  },
  {
   "cell_type": "markdown",
   "metadata": {
    "deletable": false,
    "editable": false,
    "nbgrader": {
     "cell_type": "markdown",
     "checksum": "bd904253f45f84e63bab3a69729058fc",
     "grade": false,
     "grade_id": "cell-93215dfe6bcf7cff",
     "locked": true,
     "points": 10,
     "schema_version": 3,
     "solution": false,
     "task": true
    }
   },
   "source": [
    "\\#### Please do not change this. This cell is used for grading."
   ]
  },
  {
   "cell_type": "markdown",
   "metadata": {
    "deletable": false,
    "editable": false,
    "nbgrader": {
     "cell_type": "markdown",
     "checksum": "b592e60292bfe3d9ef2930a354c4077a",
     "grade": false,
     "grade_id": "cell-aa694ff55fa91e7d",
     "locked": true,
     "schema_version": 3,
     "solution": false,
     "task": false
    }
   },
   "source": [
    "---\n",
    "Now, let us time the new search functions:"
   ]
  },
  {
   "cell_type": "code",
   "execution_count": 99,
   "metadata": {
    "deletable": false,
    "editable": false,
    "nbgrader": {
     "cell_type": "code",
     "checksum": "338c7e3528cba266a865a061287c0e38",
     "grade": false,
     "grade_id": "cell-5edbd481562ad91f",
     "locked": true,
     "schema_version": 3,
     "solution": false,
     "task": false
    }
   },
   "outputs": [
    {
     "name": "stdout",
     "output_type": "stream",
     "text": [
      "BM25: \n",
      "2.53 ms ± 508 µs per loop (mean ± std. dev. of 7 runs, 100 loops each)\n",
      "LSI: \n",
      "20.9 ms ± 4.1 ms per loop (mean ± std. dev. of 7 runs, 10 loops each)\n",
      "LDA: \n"
     ]
    },
    {
     "name": "stderr",
     "output_type": "stream",
     "text": [
      "C:\\Users\\irene\\AppData\\Local\\Continuum\\anaconda3\\envs\\ir2022\\lib\\site-packages\\ipykernel_launcher.py:23: DeprecationWarning: Calling np.sum(generator) is deprecated, and in the future will give a different result. Use np.sum(np.fromiter(generator)) or the python sum builtin instead.\n"
     ]
    },
    {
     "name": "stdout",
     "output_type": "stream",
     "text": [
      "60.6 ms ± 7.98 ms per loop (mean ± std. dev. of 7 runs, 10 loops each)\n",
      "W2V: \n"
     ]
    },
    {
     "name": "stderr",
     "output_type": "stream",
     "text": [
      "C:\\Users\\irene\\AppData\\Local\\Continuum\\anaconda3\\envs\\ir2022\\lib\\site-packages\\ipykernel_launcher.py:57: DeprecationWarning: Call to deprecated `__contains__` (Method will be removed in 4.0.0, use self.wv.__contains__() instead).\n"
     ]
    },
    {
     "name": "stdout",
     "output_type": "stream",
     "text": [
      "86.7 ms ± 40.3 ms per loop (mean ± std. dev. of 7 runs, 10 loops each)\n",
      "W2V(Pretrained): \n"
     ]
    },
    {
     "name": "stderr",
     "output_type": "stream",
     "text": [
      "C:\\Users\\irene\\AppData\\Local\\Continuum\\anaconda3\\envs\\ir2022\\lib\\site-packages\\ipykernel_launcher.py:58: DeprecationWarning: Call to deprecated `wv` (Attribute will be removed in 4.0.0, use self instead).\n"
     ]
    },
    {
     "name": "stdout",
     "output_type": "stream",
     "text": [
      "100 ms ± 7.81 ms per loop (mean ± std. dev. of 7 runs, 10 loops each)\n",
      "D2V:\n",
      "55.8 ms ± 8.64 ms per loop (mean ± std. dev. of 7 runs, 10 loops each)\n"
     ]
    }
   ],
   "source": [
    "query = \"algebraic functions\"\n",
    "print(\"BM25: \")\n",
    "%timeit bm25_search(query, 2)\n",
    "print(\"LSI: \")\n",
    "%timeit lsi_rerank.search(query)\n",
    "print(\"LDA: \")\n",
    "%timeit lda_rerank.search(query)\n",
    "print(\"W2V: \")\n",
    "%timeit w2v_rerank.search(query)\n",
    "print(\"W2V(Pretrained): \")\n",
    "%timeit w2v_pretrained_rerank.search(query)\n",
    "print(\"D2V:\")\n",
    "%timeit d2v_rerank.search(query)"
   ]
  },
  {
   "cell_type": "markdown",
   "metadata": {
    "deletable": false,
    "editable": false,
    "nbgrader": {
     "cell_type": "markdown",
     "checksum": "c45c5e3f015b2de89d9d39ae3766368b",
     "grade": false,
     "grade_id": "cell-85c50f2ab9eec301",
     "locked": true,
     "schema_version": 3,
     "solution": false,
     "task": false
    }
   },
   "source": [
    "---\n",
    "As you can see, it is much faster (but BM25 is still orders of magnitude faster)."
   ]
  },
  {
   "cell_type": "markdown",
   "metadata": {
    "deletable": false,
    "editable": false,
    "nbgrader": {
     "cell_type": "markdown",
     "checksum": "1e2f3388e3807659f303fe31a75a010e",
     "grade": false,
     "grade_id": "cell-5071bb99b2af61cb",
     "locked": true,
     "schema_version": 3,
     "solution": false,
     "task": false
    }
   },
   "source": [
    "---\n",
    "## Section 10: Evaluation & Analysis (30 points) <a class=\"anchor\" id=\"reranking_eval\"></a>\n",
    "\n",
    "[Back to Part 2](#part2)\n",
    "\n",
    "[Previously](#evaluation) we have implemented some evaluation metrics and used them for measuring the ranking performance of term-based IR algorithms. In this section, we will do the same for semantic methods, both with and without re-ranking.\n",
    "\n",
    "### Section 10.1: Plot (10 points)\n",
    "\n",
    "First, gather the results. The results should consider the index set, the different search functions and different metrics. Plot the results in bar charts, per metric, with clear labels.\n",
    "\n",
    "Then, gather only the re-ranking models, and plot and compare them with the results obtained in part 1 (only index set 2)."
   ]
  },
  {
   "cell_type": "code",
   "execution_count": 100,
   "metadata": {
    "deletable": false,
    "editable": false,
    "nbgrader": {
     "cell_type": "code",
     "checksum": "4fe81520ac6413a803838913fd64de03",
     "grade": false,
     "grade_id": "cell-b672fe6dfae0b1ce",
     "locked": true,
     "schema_version": 3,
     "solution": false,
     "task": false
    }
   },
   "outputs": [],
   "source": [
    "list_of_sem_search_fns = [\n",
    "    (\"lda\", drm_lda.search),\n",
    "    (\"lsi\", drm_lsi.search),\n",
    "    (\"w2v\", drm_w2v.search),\n",
    "    (\"w2v_pretrained\", drm_w2v_pretrained.search),\n",
    "    (\"d2v\", drm_d2v.search),\n",
    "    (\"lsi_rr\", lsi_rerank.search),\n",
    "    (\"lda_rr\", lda_rerank.search),\n",
    "    (\"w2v_rr\", w2v_rerank.search),\n",
    "    (\"w2v_pretrained_rr\", w2v_pretrained_rerank.search),\n",
    "    (\"d2v_rr\", d2v_rerank.search),\n",
    "    \n",
    "]"
   ]
  },
  {
   "cell_type": "code",
   "execution_count": 122,
   "metadata": {
    "deletable": false,
    "nbgrader": {
     "cell_type": "code",
     "checksum": "54707c4afac084299aeefa047259b4a9",
     "grade": true,
     "grade_id": "cell-7dd8273b0f5a3c22",
     "locked": false,
     "points": 10,
     "schema_version": 3,
     "solution": true,
     "task": false
    }
   },
   "outputs": [
    {
     "name": "stderr",
     "output_type": "stream",
     "text": [
      "C:\\Users\\irene\\AppData\\Local\\Continuum\\anaconda3\\envs\\ir2022\\lib\\site-packages\\ipykernel_launcher.py:57: DeprecationWarning: Call to deprecated `__contains__` (Method will be removed in 4.0.0, use self.wv.__contains__() instead).\n",
      "C:\\Users\\irene\\AppData\\Local\\Continuum\\anaconda3\\envs\\ir2022\\lib\\site-packages\\ipykernel_launcher.py:58: DeprecationWarning: Call to deprecated `wv` (Attribute will be removed in 4.0.0, use self instead).\n",
      "C:\\Users\\irene\\AppData\\Local\\Continuum\\anaconda3\\envs\\ir2022\\lib\\site-packages\\ipykernel_launcher.py:30: RuntimeWarning: invalid value encountered in double_scalars\n",
      "C:\\Users\\irene\\AppData\\Local\\Continuum\\anaconda3\\envs\\ir2022\\lib\\site-packages\\ipykernel_launcher.py:23: DeprecationWarning: Calling np.sum(generator) is deprecated, and in the future will give a different result. Use np.sum(np.fromiter(generator)) or the python sum builtin instead.\n"
     ]
    },
    {
     "data": {
      "image/png": "[encoded data removed]",
      "text/plain": [
       "<Figure size 864x432 with 1 Axes>"
      ]
     },
     "metadata": {
      "needs_background": "light"
     },
     "output_type": "display_data"
    },
    {
     "data": {
      "image/png": "[encoded data removed]",
      "text/plain": [
       "<Figure size 864x432 with 1 Axes>"
      ]
     },
     "metadata": {
      "needs_background": "light"
     },
     "output_type": "display_data"
    }
   ],
   "source": [
    "# YOUR CODE HERE\n",
    "results = {}\n",
    "for name_fn, search_fn in list_of_sem_search_fns:\n",
    "    results[name_fn] = evaluate_search_fn(search_fn, list_of_metrics)\n",
    "\n",
    "search_fns = [\"lsi\", \"lda\", \"w2v\", \"w2v_pretrained\", \"d2v\", \"lsi_rr\", \"lda_rr\", \"w2v_rr\", \"w2v_pretrained_rr\", \"d2v_rr\"]\n",
    "metrics = [\"ERR\", \"MAP\", \"Recall@1\", \"Recall@5\", \"Recall@10\", \"Precision@1\", \"Precision@5\", \"Precision@10\"]\n",
    "X = np.arange(len(metrics))\n",
    "\n",
    "fig = plt.figure(figsize=(12, 6))\n",
    "ax = fig.add_axes([0,0,1,1])\n",
    "ax.bar(X - 0.3, results[\"lsi\"].values(), width = 0.15)\n",
    "ax.bar(X - 0.15, results[\"lda\"].values(), width = 0.15)\n",
    "ax.bar(X - 0.0, results[\"w2v\"].values(), width = 0.15)\n",
    "ax.bar(X + 0.15, results[\"w2v_pretrained\"].values(), width = 0.15)\n",
    "ax.bar(X + 0.3, results[\"d2v\"].values(), width = 0.15)\n",
    "ax.set_xticks(X)\n",
    "ax.set_xticklabels(metrics)\n",
    "ax.set_title(\"Search Function results without Reranking\")\n",
    "ax.legend(labels=search_fns[:5])\n",
    "plt.show()\n",
    "fig = plt.figure(figsize=(12, 6))\n",
    "ax = fig.add_axes([0,0,1,1])\n",
    "ax.bar(X - 0.3, results[\"lsi_rr\"].values(), width = 0.15)\n",
    "ax.bar(X - 0.15, results[\"lda_rr\"].values(), width = 0.15)\n",
    "ax.bar(X + 0.0, results[\"w2v_rr\"].values(), width = 0.15)\n",
    "ax.bar(X + 0.15, results[\"w2v_pretrained_rr\"].values(), width = 0.15)\n",
    "ax.bar(X + 0.3, results[\"d2v_rr\"].values(), width = 0.15)\n",
    "ax.set_xticks(X)\n",
    "ax.set_xticklabels(metrics)\n",
    "ax.set_title(\"Search Function results with Reranking\")\n",
    "ax.legend(labels=search_fns[5:])\n",
    "plt.show()\n",
    "# raise NotImplementedError()"
   ]
  },
  {
   "cell_type": "code",
   "execution_count": 128,
   "metadata": {},
   "outputs": [
    {
     "data": {
      "image/png": "[encoded data removed]",
      "text/plain": [
       "<Figure size 864x432 with 1 Axes>"
      ]
     },
     "metadata": {
      "needs_background": "light"
     },
     "output_type": "display_data"
    },
    {
     "data": {
      "image/png": "[encoded data removed]",
      "text/plain": [
       "<Figure size 864x432 with 1 Axes>"
      ]
     },
     "metadata": {
      "needs_background": "light"
     },
     "output_type": "display_data"
    }
   ],
   "source": [
    "search_fns = [\"lsi\", \"lda\", \"w2v\", \"w2v_pretrained\", \"d2v\", \"lsi_rr\", \"lda_rr\", \"w2v_rr\", \"w2v_pretrained_rr\", \"d2v_rr\"]\n",
    "metrics = [\"ERR\", \"MAP\", \"Recall@1\", \"Recall@5\", \"Recall@10\", \"Precision@1\", \"Precision@5\", \"Precision@10\"]\n",
    "X = np.arange(len(metrics))\n",
    "\n",
    "fig = plt.figure(figsize=(12, 6))\n",
    "ax = fig.add_axes([0,0,1,1])\n",
    "ax.bar(X - 0.3, results[\"lsi\"].values(), width = 0.15)\n",
    "ax.bar(X - 0.15, results[\"lda\"].values(), width = 0.15)\n",
    "ax.bar(X - 0.0, results[\"w2v\"].values(), width = 0.15)\n",
    "ax.bar(X + 0.15, results[\"w2v_pretrained\"].values(), width = 0.15)\n",
    "ax.bar(X + 0.3, results[\"d2v\"].values(), width = 0.15)\n",
    "ax.set_xticks(X)\n",
    "ax.set_xticklabels(metrics)\n",
    "ax.set_title(titles[i])\n",
    "ax.legend(labels=search_fns[:5])\n",
    "plt.ylim(0, 0.35)\n",
    "plt.show()\n",
    "fig = plt.figure(figsize=(12, 6))\n",
    "ax = fig.add_axes([0,0,1,1])\n",
    "ax.bar(X - 0.3, results[\"lsi_rr\"].values(), width = 0.15)\n",
    "ax.bar(X - 0.15, results[\"lda_rr\"].values(), width = 0.15)\n",
    "ax.bar(X + 0.0, results[\"w2v_rr\"].values(), width = 0.15)\n",
    "ax.bar(X + 0.15, results[\"w2v_pretrained_rr\"].values(), width = 0.15)\n",
    "ax.bar(X + 0.3, results[\"d2v_rr\"].values(), width = 0.15)\n",
    "ax.set_xticks(X)\n",
    "ax.set_xticklabels(metrics)\n",
    "ax.set_title(titles[i])\n",
    "ax.legend(labels=search_fns[5:])\n",
    "plt.show()"
   ]
  },
  {
   "cell_type": "markdown",
   "metadata": {
    "deletable": false,
    "editable": false,
    "nbgrader": {
     "cell_type": "markdown",
     "checksum": "a8a3b6189bdde66704c694d85e38d049",
     "grade": false,
     "grade_id": "cell-deb2ef3daa306e82",
     "locked": true,
     "schema_version": 3,
     "solution": false,
     "task": false
    }
   },
   "source": [
    "### Section 10.2: Summary (20 points)\n",
    "\n",
    "Your summary should compare methods from Part 1 and Part 2 (only for index set 2). State what you expected to see in the results, followed by either supporting evidence *or* justify why the results did not support your expectations. Consider the availability of data, scalability, domain/type of data, etc."
   ]
  },
  {
   "cell_type": "markdown",
   "metadata": {
    "deletable": false,
    "nbgrader": {
     "cell_type": "markdown",
     "checksum": "ff97c43837d10bff6aaffa75e1492887",
     "grade": true,
     "grade_id": "cell-ec5dd7d9cf59dd86",
     "locked": false,
     "points": 20,
     "schema_version": 3,
     "solution": true,
     "task": false
    }
   },
   "source": [
    "YOUR ANSWER HERE"
   ]
  }
 ],
 "metadata": {
  "kernelspec": {
   "display_name": "Python 3",
   "language": "python",
   "name": "python3"
  },
  "language_info": {
   "codemirror_mode": {
    "name": "ipython",
    "version": 3
   },
   "file_extension": ".py",
   "mimetype": "text/x-python",
   "name": "python",
   "nbconvert_exporter": "python",
   "pygments_lexer": "ipython3",
   "version": "3.6.5"
  },
  "toc": {
   "base_numbering": 1,
   "nav_menu": {},
   "number_sections": true,
   "sideBar": true,
   "skip_h1_title": false,
   "title_cell": "Table of Contents",
   "title_sidebar": "Contents",
   "toc_cell": false,
   "toc_position": {},
   "toc_section_display": true,
   "toc_window_display": false
  }
 },
 "nbformat": 4,
 "nbformat_minor": 4
}
