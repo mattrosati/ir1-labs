{
 "cells": [
  {
   "cell_type": "markdown",
   "metadata": {
    "deletable": false,
    "editable": false,
    "nbgrader": {
     "cell_type": "markdown",
     "checksum": "1bba455de8bc2825ca70469169bbadaa",
     "grade": false,
     "grade_id": "cell-c9cd9e550239e812",
     "locked": true,
     "schema_version": 3,
     "solution": false,
     "task": false
    }
   },
   "source": [
    "# Homework 1 (Total Points: 250) <a class=\"anchor\" id=\"top\"></a>\n",
    "\n",
    "\n",
    "**Submission instructions**:\n",
    "- The cells with the `# YOUR CODE HERE` denote that these sections are graded and you need to add your implementation.\n",
    "- For Part 1: You can use the `nltk`, `NumPy`, and `matplotlib` libraries here. Other libraries, e.g., `gensim` or `scikit-learn`, may not be used. For Part 2: `gensim` is allowed in addition to the imported libraries in the next code cell\n",
    "- Please use Python 3.6.5 and `pip install -r requirements.txt` to avoid version issues.\n",
    "- The notebook you submit has to have the student ids, separated by underscores (E.g., `12341234_12341234_12341234_hw1.ipynb`).\n",
    "- This will be parsed by a regexp, **so please double check your filename**.\n",
    "- Only one member of each group has to submit the file (**please do not compress the .ipynb file when you will submit it**) to canvas.\n",
    "- **Make sure to check that your notebook runs before submission**. A quick way to do this is to restart the kernel and run all the cells.  \n",
    "- Do not change the number of arugments in the given functions.\n",
    "- **Please do not delete/add new cells**. Removing cells **will** lead to grade deduction. \n",
    "- Note, that you are not allowed to use Google Colab.\n",
    "\n",
    "\n",
    "**Learning Goals**:\n",
    "- [Part 1, Term-based matching](#part1) (165 points):\n",
    "    - Learn how to load a dataset and process it.\n",
    "    - Learn how to implement several standard IR methods (TF-IDF, BM25, QL) and understand their weaknesses & strengths.\n",
    "    - Learn how to evaluate IR methods.\n",
    "- [Part 2, Semantic-based matching](#part2) (85 points):\n",
    "    - Learn how to implement vector-space retrieval methods (LSI, LDA).\n",
    "    - Learn how to use LSI and LDA for re-ranking.\n",
    "\n",
    "    \n",
    "**Resources**: \n",
    "- **Part 1**: Sections 2.3, 4.1, 4.2, 4.3, 5.3, 5.6, 5.7, 6.2, 7, 8 of [Search Engines: Information Retrieval in Practice](https://ciir.cs.umass.edu/downloads/SEIRiP.pdf)\n",
    "- **Part 2**: [LSI - Chapter 18](https://nlp.stanford.edu/IR-book/pdf/18lsi.pdf) from [Introduction to Information Retrieval](https://nlp.stanford.edu/IR-book/) book and the [original LDA paper](https://jmlr.org/papers/volume3/blei03a/blei03a.pdf)"
   ]
  },
  {
   "cell_type": "code",
   "execution_count": 1,
   "metadata": {
    "deletable": false,
    "editable": false,
    "nbgrader": {
     "cell_type": "code",
     "checksum": "c55bfe94ff1f564dd595547e516c4c6e",
     "grade": false,
     "grade_id": "cell-f5357fabdb9660e3",
     "locked": true,
     "schema_version": 3,
     "solution": false,
     "task": false
    }
   },
   "outputs": [],
   "source": [
    "# imports \n",
    "# TODO: Ensure that no additional library is imported in the notebook. \n",
    "# TODO: Only the standard library and the following libraries are allowed:\n",
    "# TODO: You can also use unlisted classes from these libraries or standard libraries (such as defaultdict, Counter, ...).\n",
    "\n",
    "import os\n",
    "import zipfile\n",
    "from functools import partial\n",
    "\n",
    "import nltk\n",
    "import requests\n",
    "import numpy as np\n",
    "from tqdm import tqdm\n",
    "\n",
    "import matplotlib.pyplot as plt\n",
    "from matplotlib.pyplot import cm\n",
    "\n",
    "from ipywidgets import widgets\n",
    "from IPython.display import display, HTML\n",
    "#from IPython.html import widgets\n",
    "from collections import namedtuple\n",
    "\n",
    "%matplotlib inline"
   ]
  },
  {
   "cell_type": "markdown",
   "metadata": {
    "deletable": false,
    "editable": false,
    "nbgrader": {
     "cell_type": "markdown",
     "checksum": "c8328f758ca5b69f76eee03dbbdd4715",
     "grade": false,
     "grade_id": "cell-7428e12ed184408b",
     "locked": true,
     "schema_version": 3,
     "solution": false,
     "task": false
    }
   },
   "source": [
    "\n",
    "# Part 1: Term-based Matching (165 points) <a class=\"anchor\" id=\"part1\"></a>\n",
    "\n",
    "[Back to top](#top)\n",
    "\n",
    "In the first part, we will learn the basics of IR from loading and preprocessing the material, to implementing some well known search algorithms, to evaluating the ranking performance of the implemented algorithms. We will be using the CACM dataset throughout the assignment. The CACM dataset is a collection of titles and abstracts from the journal CACM (Communication of the ACM).\n",
    "\n",
    "Table of contents:\n",
    "- [Section 1: Text Processing](#text_processing) (5 points)\n",
    "- [Section 2: Indexing](#indexing) (10 points)\n",
    "- [Section 3: Ranking](#ranking) (80 points)\n",
    "- [Section 4: Evaluation](#evaluation) (40 points)\n",
    "- [Section 5: Analysis](#analysis) (30 points)\n"
   ]
  },
  {
   "cell_type": "markdown",
   "metadata": {
    "deletable": false,
    "editable": false,
    "nbgrader": {
     "cell_type": "markdown",
     "checksum": "4e3f938065183dc743aa8254b96b4f5e",
     "grade": false,
     "grade_id": "cell-4b24825cf4ae55ec",
     "locked": true,
     "schema_version": 3,
     "solution": false,
     "task": false
    }
   },
   "source": [
    "---\n",
    "## Section 1: Text Processing (5 points)<a class=\"anchor\" id=\"text_processing\"></a>\n",
    "\n",
    "[Back to Part 1](#part1)\n",
    "\n",
    "In this section, we will load the dataset and learn how to clean up the data to make it usable for an IR system. \n",
    "First, go through the implementation of the following functions:\n",
    "- `read_cacm_docs`: Reads in the CACM documents.\n",
    "- `read_queries`: Reads in the CACM queries.\n",
    "- `load_stopwords`: Loads the stopwords.\n",
    "\n",
    "The points of this section are earned for the following implementations:\n",
    "- `tokenize` (3 points): Tokenizes the input text.\n",
    "- `stem_token` (2 points): Stems the given token. \n",
    "\n",
    "We are using the [CACM dataset](http://ir.dcs.gla.ac.uk/resources/test_collections/cacm/), which is a small, classic IR dataset, composed of a collection of titles and abstracts from the journal CACM. It comes with relevance judgements for queries, so we can evaluate our IR system. \n"
   ]
  },
  {
   "cell_type": "markdown",
   "metadata": {
    "deletable": false,
    "editable": false,
    "nbgrader": {
     "cell_type": "markdown",
     "checksum": "0155d897c7016389d73d160921947a6f",
     "grade": false,
     "grade_id": "cell-45651364e7af6d5a",
     "locked": true,
     "schema_version": 3,
     "solution": false,
     "task": false
    }
   },
   "source": [
    "---\n",
    "### 1.1 Read the CACM documents\n",
    "\n",
    "\n",
    "The following cell downloads the dataset and unzips it to a local directory."
   ]
  },
  {
   "cell_type": "code",
   "execution_count": 2,
   "metadata": {
    "deletable": false,
    "editable": false,
    "nbgrader": {
     "cell_type": "code",
     "checksum": "4d43c9ad6e77cc01ce4cef0c34824930",
     "grade": false,
     "grade_id": "cell-bbc3030bb3fe7e02",
     "locked": true,
     "schema_version": 3,
     "solution": false,
     "task": false
    }
   },
   "outputs": [],
   "source": [
    "def download_dataset():\n",
    "    folder_path = os.environ.get(\"IR1_DATA_PATH\")\n",
    "    if not folder_path:\n",
    "        folder_path = \"./datasets/\"\n",
    "    os.makedirs(folder_path, exist_ok=True)\n",
    "    \n",
    "    file_location = os.path.join(folder_path, \"cacm.zip\")\n",
    "    \n",
    "    # download file if it doesn't exist\n",
    "    if not os.path.exists(file_location):\n",
    "        \n",
    "        url = \"https://surfdrive.surf.nl/files/index.php/s/M0FGJpX2p8wDwxR/download\"\n",
    "\n",
    "        with open(file_location, \"wb\") as handle:\n",
    "            print(f\"Downloading file from {url} to {file_location}\")\n",
    "            response = requests.get(url, stream=True)\n",
    "            for data in tqdm(response.iter_content()):\n",
    "                handle.write(data)\n",
    "            print(\"Finished downloading file\")\n",
    "    \n",
    "    if not os.path.exists(os.path.join(folder_path, \"train.txt\")):\n",
    "        \n",
    "        # unzip file\n",
    "        with zipfile.ZipFile(file_location, 'r') as zip_ref:\n",
    "            zip_ref.extractall(folder_path)\n",
    "        \n",
    "download_dataset()"
   ]
  },
  {
   "cell_type": "markdown",
   "metadata": {
    "deletable": false,
    "editable": false,
    "nbgrader": {
     "cell_type": "markdown",
     "checksum": "31609b0d61d0c74cbd69bc43e47c23be",
     "grade": false,
     "grade_id": "cell-a7dd9a9bf98ede05",
     "locked": true,
     "schema_version": 3,
     "solution": false,
     "task": false
    }
   },
   "source": [
    "---\n",
    "\n",
    "You can see a brief description of each file in the dataset by looking at the README file:"
   ]
  },
  {
   "cell_type": "code",
   "execution_count": 3,
   "metadata": {
    "deletable": false,
    "editable": false,
    "nbgrader": {
     "cell_type": "code",
     "checksum": "cb3c9a2b8b2bf4fd5b7446b0c4c00f43",
     "grade": false,
     "grade_id": "cell-9b6ff1a17124711f",
     "locked": true,
     "schema_version": 3,
     "solution": false,
     "task": false
    }
   },
   "outputs": [
    {
     "name": "stdout",
     "output_type": "stream",
     "text": [
      "Files in this directory with sizes:\n",
      "          0 Jun 19 21:01 README\n",
      "\n",
      "    2187734 Jun 19 20:55 cacm.all              text of documents\n",
      "        626 Jun 19 20:58 cite.info             key to citation info\n",
      "                                                (the X sections in cacm.all)\n",
      "       2668 Jun 19 20:55 common_words           stop words used by smart\n",
      "       2194 Jun 19 20:55 make_coll*             shell script to make collection\n",
      "       1557 Jun 19 20:55 make_coll_term*        ditto (both useless without\n",
      "                                                smart system)\n",
      "       9948 Jun 19 20:55 qrels.text             relation giving\n",
      "                                                    qid did 0 0\n",
      "                                                to indicate dument did is\n",
      "                                                relevant to query qid\n",
      "      13689 Jun 19 20:55 query.text             Original text of the query\n",
      "\n"
     ]
    }
   ],
   "source": [
    "##### Read the README file \n",
    "with open (\"./datasets/README\",\"r\") as file:\n",
    "    readme = file.read()\n",
    "    print(readme)\n",
    "#####"
   ]
  },
  {
   "cell_type": "markdown",
   "metadata": {
    "deletable": false,
    "editable": false,
    "nbgrader": {
     "cell_type": "markdown",
     "checksum": "6e2712c4c4632bf7486a532f7f18074d",
     "grade": false,
     "grade_id": "cell-73351431869fda76",
     "locked": true,
     "schema_version": 3,
     "solution": false,
     "task": false
    }
   },
   "source": [
    "---\n",
    "We are interested in 4 files:\n",
    "- `cacm.all` : Contains the text for all documents. Note that some documents do not have abstracts available\n",
    "- `query.text` : The text of all queries\n",
    "- `qrels.text` : The relevance judgements\n",
    "- `common_words` : A list of common words. This may be used as a collection of stopwords"
   ]
  },
  {
   "cell_type": "code",
   "execution_count": 4,
   "metadata": {
    "deletable": false,
    "editable": false,
    "nbgrader": {
     "cell_type": "code",
     "checksum": "f1162c15177eb4ffe466531d03cff4a2",
     "grade": false,
     "grade_id": "cell-b44dd14079f278ca",
     "locked": true,
     "schema_version": 3,
     "solution": false,
     "task": false
    }
   },
   "outputs": [
    {
     "name": "stdout",
     "output_type": "stream",
     "text": [
      ".I 1\n",
      ".T\n",
      "Preliminary Report-International Algebraic Language\n",
      ".B\n",
      "CACM December, 1958\n",
      ".A\n",
      "Perlis, A. J.\n",
      "Samelson,K.\n",
      ".N\n",
      "CA581203 JB March 22, 1978  8:28 PM\n",
      ".X\n",
      "100\t5\t1\n",
      "123\t5\t1\n",
      "164\t5\t1\n",
      "1\t5\t1\n",
      "1\t5\t1\n",
      "1\t5\t1\n",
      "205\t5\t1\n",
      "210\t5\t1\n",
      "214\t5\t1\n",
      "1982\t5\t1\n",
      "398\t5\t1\n",
      "642\t5\t1\n",
      "669\t5\t1\n",
      "1\t6\t1\n",
      "1\t6\t1\n",
      "1\t6\t1\n",
      "1\t6\t1\n",
      "1\t6\t1\n",
      "1\t6\t1\n",
      "1\t6\t1\n",
      "1\t6\t1\n",
      "1\t6\t1\n",
      "1\t6\t1\n",
      "165\t6\t1\n",
      "196\t6\t1\n",
      "196\t6\t1\n",
      "1273\t6\t1\n",
      "1883\t6\t1\n",
      "324\t6\t1\n",
      "43\t6\t1\n",
      "53\t6\t1\n",
      "91\t6\t1\n",
      "410\t6\t1\n",
      "3184\t6\t1\n",
      "\n"
     ]
    }
   ],
   "source": [
    "##### The first 45 lines of the CACM dataset forms the first record\n",
    "# We are interested only in 3 fields. \n",
    "# 1. the '.I' field, which is the document id\n",
    "# 2. the '.T' field (the title) and\n",
    "# 3. the '.W' field (the abstract, which may be absent)\n",
    "with open (\"./datasets/cacm.all\",\"r\") as file:\n",
    "    cacm_all = \"\".join(file.readlines()[:45])\n",
    "    print(cacm_all)\n",
    "#####"
   ]
  },
  {
   "cell_type": "markdown",
   "metadata": {
    "deletable": false,
    "editable": false,
    "nbgrader": {
     "cell_type": "markdown",
     "checksum": "250b413baccd8efb186bb46a34ae0060",
     "grade": false,
     "grade_id": "cell-c4bf2e263ec553d8",
     "locked": true,
     "schema_version": 3,
     "solution": false,
     "task": false
    }
   },
   "source": [
    "---\n",
    "\n",
    "The following function reads the `cacm.all` file. Note that each document has a variable number of lines. The `.I` field denotes a new document:"
   ]
  },
  {
   "cell_type": "code",
   "execution_count": 5,
   "metadata": {
    "deletable": false,
    "editable": false,
    "nbgrader": {
     "cell_type": "code",
     "checksum": "57d757e6a7a6938740dc899022b4f291",
     "grade": false,
     "grade_id": "cell-b736116eb419c624",
     "locked": true,
     "schema_version": 3,
     "solution": false,
     "task": false
    }
   },
   "outputs": [],
   "source": [
    "def read_cacm_docs(root_folder = \"./datasets/\"):\n",
    "    \"\"\"\n",
    "        Reads in the CACM documents. The dataset is assumed to be in the folder \"./datasets/\" by default\n",
    "        Returns: A list of 2-tuples: (doc_id, document), where 'document' is a single string created by \n",
    "            appending the title and abstract (separated by a \"\\n\"). \n",
    "            In case the record doesn't have an abstract, the document is composed only by the title\n",
    "    \"\"\"\n",
    "    with open(os.path.join(root_folder, \"cacm.all\")) as reader:\n",
    "        lines = reader.readlines()\n",
    "    \n",
    "    doc_id, title, abstract = None, None, None\n",
    "    \n",
    "    docs = []\n",
    "    line_idx = 0\n",
    "    while line_idx < len(lines):\n",
    "        line = lines[line_idx]\n",
    "        if line.startswith(\".I\"):\n",
    "            if doc_id is not None:\n",
    "                docs.append((doc_id, title, abstract))\n",
    "                doc_id, title, abstract = None, None, None\n",
    "            \n",
    "            doc_id = line.split()[-1]\n",
    "            line_idx += 1\n",
    "        elif line.startswith(\".T\"):\n",
    "            # start at next line\n",
    "            line_idx += 1\n",
    "            temp_lines = []\n",
    "            # read till next '.'\n",
    "            while not lines[line_idx].startswith(\".\"):\n",
    "                temp_lines.append(lines[line_idx].strip(\"\\n\"))\n",
    "                line_idx += 1\n",
    "            title = \"\\n\".join(temp_lines).strip(\"\\n\")\n",
    "        elif line.startswith(\".W\"):\n",
    "            # start at next line\n",
    "            line_idx += 1\n",
    "            temp_lines = []\n",
    "            # read till next '.'\n",
    "            while not lines[line_idx].startswith(\".\"):\n",
    "                temp_lines.append(lines[line_idx].strip(\"\\n\"))\n",
    "                line_idx += 1\n",
    "            abstract = \"\\n\".join(temp_lines).strip(\"\\n\")\n",
    "        else:\n",
    "            line_idx += 1\n",
    "    \n",
    "    docs.append((doc_id, title, abstract))\n",
    "    \n",
    "    p_docs = []\n",
    "    for (did, t, a) in docs:\n",
    "        if a is None:\n",
    "            a = \"\"\n",
    "        p_docs.append((did, t + \"\\n\" + a))\n",
    "    return p_docs\n"
   ]
  },
  {
   "cell_type": "code",
   "execution_count": 6,
   "metadata": {
    "deletable": false,
    "editable": false,
    "nbgrader": {
     "cell_type": "code",
     "checksum": "2f81930fcd89670b6e20e2255e1f2369",
     "grade": false,
     "grade_id": "cell-a1c43818e0d3fd79",
     "locked": true,
     "schema_version": 3,
     "solution": false,
     "task": false
    }
   },
   "outputs": [],
   "source": [
    "##### Function check\n",
    "docs = read_cacm_docs()\n",
    "\n",
    "assert isinstance(docs, list)\n",
    "assert len(docs) == 3204, \"There should be exactly 3204 documents\"\n",
    "\n",
    "unzipped_docs = list(zip(*docs))\n",
    "assert np.sum(np.array(list(map(int,unzipped_docs[0])))) == 5134410\n",
    "\n",
    "##### "
   ]
  },
  {
   "cell_type": "markdown",
   "metadata": {
    "deletable": false,
    "editable": false,
    "nbgrader": {
     "cell_type": "markdown",
     "checksum": "25fd3cfaf2137c56002b850699b3c9d3",
     "grade": false,
     "grade_id": "cell-5ed2ddc91f73c60e",
     "locked": true,
     "schema_version": 3,
     "solution": false,
     "task": false
    }
   },
   "source": [
    "---\n",
    "### 1.2 Read the CACM queries\n",
    "\n",
    "Next, let us read the queries. They are formatted similarly:"
   ]
  },
  {
   "cell_type": "code",
   "execution_count": 7,
   "metadata": {
    "deletable": false,
    "editable": false,
    "nbgrader": {
     "cell_type": "code",
     "checksum": "5d26c0908e758acb9968b84056b1060a",
     "grade": false,
     "grade_id": "cell-5c7e8e7c4fc2757f",
     "locked": true,
     "schema_version": 3,
     "solution": false,
     "task": false
    }
   },
   "outputs": [
    {
     "name": "stdout",
     "output_type": "stream",
     "text": [
      ".I 1\n",
      ".W\n",
      " What articles exist which deal with TSS (Time Sharing System), an\n",
      "operating system for IBM computers?\n",
      ".N\n",
      " 1. Richard Alexander, Comp Serv, Langmuir Lab (TSS)\n",
      " \n",
      ".I 2\n",
      ".W\n",
      " I am interested in articles written either by Prieve or Udo Pooch\n",
      ".A\n",
      "Prieve, B.\n",
      "Pooch, U.\n",
      ".N\n",
      " 2. Richard Alexander, Comp Serv, Langmuir Lab (author = Pooch or Prieve)\n"
     ]
    }
   ],
   "source": [
    "##### The first 15 lines of 'query.text' has 2 queries\n",
    "# We are interested only in 2 fields. \n",
    "# 1. the '.I' - the query id\n",
    "# 2. the '.W' - the query\n",
    "!head -15 ./datasets/query.text\n",
    "#####"
   ]
  },
  {
   "cell_type": "markdown",
   "metadata": {
    "deletable": false,
    "editable": false,
    "nbgrader": {
     "cell_type": "markdown",
     "checksum": "8f19f311a660f30e3f86cb0f7037d54a",
     "grade": false,
     "grade_id": "cell-88e293507d2dcef6",
     "locked": true,
     "schema_version": 3,
     "solution": false,
     "task": false
    }
   },
   "source": [
    "---\n",
    "\n",
    "The following function reads the `query.text` file:"
   ]
  },
  {
   "cell_type": "code",
   "execution_count": 8,
   "metadata": {
    "deletable": false,
    "editable": false,
    "nbgrader": {
     "cell_type": "code",
     "checksum": "e3fbb193211007672849487f5cff1664",
     "grade": false,
     "grade_id": "cell-433e3ad5d0e2572a",
     "locked": true,
     "schema_version": 3,
     "solution": false,
     "task": false
    }
   },
   "outputs": [],
   "source": [
    "def read_queries(root_folder = \"./datasets/\"):\n",
    "    \"\"\"\n",
    "        Reads in the CACM queries. The dataset is assumed to be in the folder \"./datasets/\" by default\n",
    "        Returns: A list of 2-tuples: (query_id, query)\n",
    "    \"\"\"\n",
    "    with open(os.path.join(root_folder, \"query.text\")) as reader:\n",
    "        lines = reader.readlines()\n",
    "    \n",
    "    query_id, query = None, None\n",
    "    \n",
    "    queries = []\n",
    "    line_idx = 0\n",
    "    while line_idx < len(lines):\n",
    "        line = lines[line_idx]\n",
    "        if line.startswith(\".I\"):\n",
    "            if query_id is not None:\n",
    "                queries.append((query_id, query))\n",
    "                query_id, query = None, None\n",
    "    \n",
    "            query_id = line.split()[-1]\n",
    "            line_idx += 1\n",
    "        elif line.startswith(\".W\"):\n",
    "            # start at next line\n",
    "            line_idx += 1\n",
    "            temp_lines = []\n",
    "            # read till next '.'\n",
    "            while not lines[line_idx].startswith(\".\"):\n",
    "                temp_lines.append(lines[line_idx].strip(\"\\n\"))\n",
    "                line_idx += 1\n",
    "            query = \"\\n\".join(temp_lines).strip(\"\\n\")\n",
    "        else:\n",
    "            line_idx += 1\n",
    "    \n",
    "    queries.append((query_id, query))\n",
    "    return queries\n"
   ]
  },
  {
   "cell_type": "code",
   "execution_count": 9,
   "metadata": {
    "deletable": false,
    "editable": false,
    "nbgrader": {
     "cell_type": "code",
     "checksum": "a897b9771b54f447be3418d7246fc4a0",
     "grade": false,
     "grade_id": "cell-6ec540abce66c598",
     "locked": true,
     "schema_version": 3,
     "solution": false,
     "task": false
    }
   },
   "outputs": [],
   "source": [
    "##### Function check\n",
    "queries = read_queries()\n",
    "\n",
    "assert isinstance(queries, list)\n",
    "assert len(queries) == 64 and all([q[1] is not None for q in queries]), \"There should be exactly 64 queries\"\n",
    "\n",
    "unzipped_queries = list(zip(*queries))\n",
    "assert np.sum(np.array(list(map(int,unzipped_queries[0])))) == 2080\n",
    "\n",
    "##### "
   ]
  },
  {
   "cell_type": "markdown",
   "metadata": {
    "deletable": false,
    "editable": false,
    "nbgrader": {
     "cell_type": "markdown",
     "checksum": "a300c41912ac63b239070b4c15c9f5c5",
     "grade": false,
     "grade_id": "cell-1c31569491d7b782",
     "locked": true,
     "schema_version": 3,
     "solution": false,
     "task": false
    }
   },
   "source": [
    "---\n",
    "### 1.3 Read the stop words\n",
    "\n",
    "We use the common words stored in `common_words`:"
   ]
  },
  {
   "cell_type": "code",
   "execution_count": 10,
   "metadata": {
    "deletable": false,
    "editable": false,
    "nbgrader": {
     "cell_type": "code",
     "checksum": "1ad6f5bae6a792504c1c8513ae5751ad",
     "grade": false,
     "grade_id": "cell-34bdb63461418a96",
     "locked": true,
     "schema_version": 3,
     "solution": false,
     "task": false
    }
   },
   "outputs": [
    {
     "name": "stdout",
     "output_type": "stream",
     "text": [
      "a\n",
      "about\n",
      "above\n",
      "accordingly\n",
      "across\n",
      "after\n",
      "afterwards\n",
      "again\n",
      "against\n",
      "all\n"
     ]
    }
   ],
   "source": [
    "##### Read the stop words file \n",
    "!head ./datasets/common_words\n",
    "##### Read the README file "
   ]
  },
  {
   "cell_type": "markdown",
   "metadata": {
    "deletable": false,
    "editable": false,
    "nbgrader": {
     "cell_type": "markdown",
     "checksum": "6d0fe612e770213b6397c2179b07a966",
     "grade": false,
     "grade_id": "cell-4744bde0338895d8",
     "locked": true,
     "schema_version": 3,
     "solution": false,
     "task": false
    }
   },
   "source": [
    "---\n",
    "\n",
    "The following function reads the `common_words` file (For better coverage, we try to keep them in lowercase):"
   ]
  },
  {
   "cell_type": "code",
   "execution_count": 11,
   "metadata": {
    "deletable": false,
    "editable": false,
    "nbgrader": {
     "cell_type": "code",
     "checksum": "9409713fd26eb0c33587e190638997c4",
     "grade": false,
     "grade_id": "cell-7357aa40f64e5bcb",
     "locked": true,
     "schema_version": 3,
     "solution": false,
     "task": false
    }
   },
   "outputs": [],
   "source": [
    "def load_stopwords(root_folder = \"./datasets/\"):\n",
    "    \"\"\"\n",
    "        Loads the stopwords. The dataset is assumed to be in the folder \"./datasets/\" by default\n",
    "        Output: A set of stopwords\n",
    "    \"\"\"\n",
    "    with open(os.path.join(root_folder, \"common_words\")) as reader:\n",
    "        lines = reader.readlines()\n",
    "    stopwords = set([l.strip().lower() for l in lines])\n",
    "    return stopwords\n"
   ]
  },
  {
   "cell_type": "code",
   "execution_count": 12,
   "metadata": {
    "deletable": false,
    "editable": false,
    "nbgrader": {
     "cell_type": "code",
     "checksum": "f1c8153c3c38133bc2db6e7b076ad470",
     "grade": false,
     "grade_id": "cell-2ca3ac162004de97",
     "locked": true,
     "schema_version": 3,
     "solution": false,
     "task": false
    }
   },
   "outputs": [],
   "source": [
    "##### Function check\n",
    "stopwords = load_stopwords()\n",
    "\n",
    "assert isinstance(stopwords, set)\n",
    "assert len(stopwords) == 428, \"There should be exactly 428 stop words\"\n",
    "\n",
    "assert np.sum(np.array(list(map(len,stopwords)))) == 2234\n",
    "\n",
    "##### \n"
   ]
  },
  {
   "cell_type": "markdown",
   "metadata": {
    "deletable": false,
    "editable": false,
    "nbgrader": {
     "cell_type": "markdown",
     "checksum": "92c1191e9e7291dcf0d70dc67b907a65",
     "grade": false,
     "grade_id": "cell-134b72872f4300cb",
     "locked": true,
     "schema_version": 3,
     "solution": false,
     "task": false
    }
   },
   "source": [
    "---\n",
    "### 1.4 Tokenization (3 points)\n",
    "\n",
    "We can now write some basic text processing functions. \n",
    "A first step is to tokenize the text. \n",
    "\n",
    "**Note**: Use the  `WordPunctTokenizer` available in the `nltk` library:"
   ]
  },
  {
   "cell_type": "code",
   "execution_count": 13,
   "metadata": {
    "deletable": false,
    "nbgrader": {
     "cell_type": "code",
     "checksum": "3f5564d3c75bf22fbf832b3a9b938f37",
     "grade": false,
     "grade_id": "cell-322be4c9499bdc4b",
     "locked": false,
     "schema_version": 3,
     "solution": true,
     "task": false
    }
   },
   "outputs": [],
   "source": [
    "# TODO: Implement this! (4 points)\n",
    "def tokenize(text):\n",
    "    \"\"\"\n",
    "        Tokenizes the input text. Use the WordPunctTokenizer\n",
    "        Input: text - a string\n",
    "        Output: a list of tokens\n",
    "    \"\"\"\n",
    "    # YOUR CODE HERE\n",
    "    return nltk.tokenize.WordPunctTokenizer().tokenize(text)\n",
    "    # raise NotImplementedError()"
   ]
  },
  {
   "cell_type": "code",
   "execution_count": 14,
   "metadata": {
    "deletable": false,
    "editable": false,
    "nbgrader": {
     "cell_type": "code",
     "checksum": "e15af22c4d8ae0a3f9dac43bef7097ec",
     "grade": true,
     "grade_id": "cell-7fbf48bf7541a622",
     "locked": true,
     "points": 3,
     "schema_version": 3,
     "solution": false,
     "task": false
    }
   },
   "outputs": [
    {
     "name": "stdout",
     "output_type": "stream",
     "text": [
      "['the', 'quick', 'brown', 'fox', 'jumps', 'over', 'the', 'lazy', 'dog']\n"
     ]
    }
   ],
   "source": [
    "##### Function check\n",
    "text = \"the quick brown fox jumps over the lazy dog\"\n",
    "tokens = tokenize(text)\n",
    "\n",
    "assert isinstance(tokens, list)\n",
    "assert len(tokens) == 9\n",
    "\n",
    "print(tokens)\n",
    "# output: ['the', 'quick', 'brown', 'fox', 'jumps', 'over', 'the', 'lazy', 'dog']\n",
    "#####"
   ]
  },
  {
   "cell_type": "markdown",
   "metadata": {
    "deletable": false,
    "editable": false,
    "nbgrader": {
     "cell_type": "markdown",
     "checksum": "34210618bff4cb47aad2f03cb4b9854c",
     "grade": false,
     "grade_id": "cell-fd1b98ae61b697ca",
     "locked": true,
     "schema_version": 3,
     "solution": false,
     "task": false
    }
   },
   "source": [
    "---\n",
    "### 1.5 Stemming (2 points)\n",
    "\n",
    "Write a function to stem tokens. \n",
    "Again, you can use the nltk library for this:"
   ]
  },
  {
   "cell_type": "code",
   "execution_count": 15,
   "metadata": {
    "deletable": false,
    "nbgrader": {
     "cell_type": "code",
     "checksum": "1c4a6aa979d66158c7b6b992af43293a",
     "grade": false,
     "grade_id": "cell-e3f6c8e3f874b28d",
     "locked": false,
     "schema_version": 3,
     "solution": true,
     "task": false
    }
   },
   "outputs": [],
   "source": [
    "# TODO: Implement this! (3 points)\n",
    "def stem_token(token):\n",
    "    \"\"\"\n",
    "        Stems the given token using the PorterStemmer from the nltk library\n",
    "        Input: a single token\n",
    "        Output: the stem of the token\n",
    "    \"\"\"\n",
    "    # YOUR CODE HERE\n",
    "    stemmer = nltk.stem.porter.PorterStemmer()\n",
    "    return stemmer.stem(token)\n",
    "    # raise NotImplementedError()"
   ]
  },
  {
   "cell_type": "code",
   "execution_count": 16,
   "metadata": {
    "deletable": false,
    "editable": false,
    "nbgrader": {
     "cell_type": "code",
     "checksum": "9363b4f09b556d424d9c895d4ab57b1c",
     "grade": true,
     "grade_id": "cell-cd6863e6ee6ed205",
     "locked": true,
     "points": 2,
     "schema_version": 3,
     "solution": false,
     "task": false
    }
   },
   "outputs": [],
   "source": [
    "##### Function check\n",
    "\n",
    "assert stem_token('owned') == 'own'\n",
    "assert stem_token('itemization') == 'item'\n",
    "#####"
   ]
  },
  {
   "cell_type": "markdown",
   "metadata": {
    "deletable": false,
    "editable": false,
    "nbgrader": {
     "cell_type": "markdown",
     "checksum": "0b311d014146da6afa1d39542fab9869",
     "grade": false,
     "grade_id": "cell-47c9f90498699110",
     "locked": true,
     "schema_version": 3,
     "solution": false,
     "task": false
    }
   },
   "source": [
    "---\n",
    "### 1.6 Summary\n",
    "\n",
    "The following function puts it all together. Given an input string, this functions tokenizes and processes it according to the flags that you set."
   ]
  },
  {
   "cell_type": "code",
   "execution_count": 17,
   "metadata": {
    "deletable": false,
    "editable": false,
    "nbgrader": {
     "cell_type": "code",
     "checksum": "2ff2d215ee8e0039c5a91fd3de12e6bd",
     "grade": false,
     "grade_id": "cell-dd0d3f46b30801da",
     "locked": true,
     "schema_version": 3,
     "solution": false,
     "task": false
    }
   },
   "outputs": [],
   "source": [
    "#### Putting it all together\n",
    "def process_text(text, stem=False, remove_stopwords=False, lowercase_text=False):\n",
    "    \n",
    "    tokens = []\n",
    "    for token in tokenize(text):\n",
    "        if remove_stopwords and token.lower() in stopwords:\n",
    "            continue\n",
    "        if stem:\n",
    "            token = stem_token(token)\n",
    "        if lowercase_text:\n",
    "            token = token.lower()\n",
    "        tokens.append(token)\n",
    "\n",
    "    return tokens\n",
    "#### "
   ]
  },
  {
   "cell_type": "markdown",
   "metadata": {
    "deletable": false,
    "editable": false,
    "nbgrader": {
     "cell_type": "markdown",
     "checksum": "02d433b18eb43654fa4306a7bf55b190",
     "grade": false,
     "grade_id": "cell-8d885bfd2edd43ae",
     "locked": true,
     "schema_version": 3,
     "solution": false,
     "task": false
    }
   },
   "source": [
    "---\n",
    "\n",
    "Let's create two sets of preprocessed documents.\n",
    "We can process the documents and queries according to these two configurations:"
   ]
  },
  {
   "cell_type": "code",
   "execution_count": 18,
   "metadata": {
    "deletable": false,
    "editable": false,
    "nbgrader": {
     "cell_type": "code",
     "checksum": "dbe4ca667be6842fdcf512fbcad50c7f",
     "grade": false,
     "grade_id": "cell-d427365ee0fb21d8",
     "locked": true,
     "schema_version": 3,
     "solution": false,
     "task": false
    }
   },
   "outputs": [],
   "source": [
    "# In this configuration:\n",
    "# Don't preprocess the text, except to tokenize \n",
    "config_1 = {\n",
    "  \"stem\": False,\n",
    "  \"remove_stopwords\" : False,\n",
    "  \"lowercase_text\": True\n",
    "} \n",
    "\n",
    "\n",
    "# In this configuration:\n",
    "# Preprocess the text, stem and remove stopwords\n",
    "config_2 = {\n",
    "  \"stem\": True,\n",
    "  \"remove_stopwords\" : True,\n",
    "  \"lowercase_text\": True, \n",
    "} \n",
    "\n",
    "####\n",
    "doc_repr_1 = []\n",
    "doc_repr_2 = []\n",
    "for (doc_id, document) in docs:\n",
    "    doc_repr_1.append((doc_id, process_text(document, **config_1)))\n",
    "    doc_repr_2.append((doc_id, process_text(document, **config_2)))\n",
    "\n",
    "####"
   ]
  },
  {
   "cell_type": "markdown",
   "metadata": {
    "deletable": false,
    "editable": false,
    "nbgrader": {
     "cell_type": "markdown",
     "checksum": "b60589aac19e80941d860d9b3f1e9a16",
     "grade": false,
     "grade_id": "cell-b1c102db61ae7495",
     "locked": true,
     "schema_version": 3,
     "solution": false,
     "task": false
    }
   },
   "source": [
    "--- \n",
    "\n",
    "## Section 2: Indexing (10 points)<a class=\"anchor\" id=\"indexing\"></a>\n",
    "\n",
    "[Back to Part 1](#part1)\n",
    "\n",
    "\n",
    "\n",
    "A retrieval function usually takes in a query document pair, and scores a query against a document.  Our document set is quite small - just a few thousand documents. However, consider a web-scale dataset with a few million documents. In such a scenario, it would become infeasible to score every query and document pair. In such a case, we can build an inverted index. From Wikipedia:\n",
    "\n",
    "> ... , an inverted index (also referred to as a postings file or inverted file) is a database index storing a mapping from content, such as words or numbers, to its locations in a table, .... The purpose of an inverted index is to allow fast full-text searches, at a cost of increased processing when a document is added to the database. ...\n",
    "\n",
    "\n",
    "Consider a simple inverted index, which maps from word to document. This can improve the performance of a retrieval system significantly. In this assignment, we consider a *simple* inverted index, which maps a word to a set of documents. In practice, however, more complex indices might be used.  \n"
   ]
  },
  {
   "cell_type": "markdown",
   "metadata": {
    "deletable": false,
    "editable": false,
    "nbgrader": {
     "cell_type": "markdown",
     "checksum": "710fd943f45523ac36fcb887cc0d4d39",
     "grade": false,
     "grade_id": "cell-fa373192c1b7bb95",
     "locked": true,
     "schema_version": 3,
     "solution": false,
     "task": false
    }
   },
   "source": [
    "### 2.1 Term Frequency-index (10 points)\n",
    "In this assignment, we will be using an index created in memory since our dataset is tiny. To get started, build a simple index that maps each `token` to a list of `(doc_id, count)` where `count` is the count of the `token` in `doc_id`.\n",
    "For consistency, build this index using a python dictionary.\n",
    "    \n",
    "Now, implement a function to build an index:"
   ]
  },
  {
   "cell_type": "code",
   "execution_count": 19,
   "metadata": {
    "deletable": false,
    "nbgrader": {
     "cell_type": "code",
     "checksum": "d4e8c6b658c469379d5fe511de05b536",
     "grade": false,
     "grade_id": "cell-077599b87e953209",
     "locked": false,
     "schema_version": 3,
     "solution": true,
     "task": false
    }
   },
   "outputs": [],
   "source": [
    "from collections import defaultdict\n",
    "\n",
    "# TODO: Implement this! (10 points)\n",
    "def build_tf_index(documents):\n",
    "    \"\"\"\n",
    "        Build an inverted index (with counts). The output is a dictionary which takes in a token\n",
    "        and returns a list of (doc_id, count) where 'count' is the count of the 'token' in 'doc_id'\n",
    "        Input: a list of documents - (doc_id, tokens) \n",
    "        Output: An inverted index implemented within a pyhton dictionary: [token] -> [(doc_id, token_count)]\n",
    "    \"\"\"\n",
    "    # YOUR CODE HERE\n",
    "    inv_index = defaultdict(list)\n",
    "    for doc_id, tokens in documents:\n",
    "        token_counts = {}\n",
    "        for token in tokens:\n",
    "            token_counts[token] = token_counts.get(token, 0) + 1\n",
    "\n",
    "        for token, count in token_counts.items():\n",
    "            if token not in inv_index.keys():\n",
    "                inv_index[token] = []\n",
    "  \n",
    "            inv_index[token].append((doc_id, count))\n",
    "    \n",
    "    return inv_index\n",
    "    # raise NotImplementedError()"
   ]
  },
  {
   "cell_type": "markdown",
   "metadata": {
    "deletable": false,
    "editable": false,
    "nbgrader": {
     "cell_type": "markdown",
     "checksum": "15e7041b4323d2a290322de538ff7670",
     "grade": false,
     "grade_id": "cell-093aebfa504f96f2",
     "locked": true,
     "schema_version": 3,
     "solution": false,
     "task": false
    }
   },
   "source": [
    "---\n",
    "Now we can build indexed documents and preprocess the queries based on the two configurations:"
   ]
  },
  {
   "cell_type": "code",
   "execution_count": 20,
   "metadata": {
    "deletable": false,
    "editable": false,
    "nbgrader": {
     "cell_type": "code",
     "checksum": "e27540c1d8d77a3779a05f557f3f40c6",
     "grade": false,
     "grade_id": "cell-b2ff1676348b90a8",
     "locked": true,
     "schema_version": 3,
     "solution": false,
     "task": false
    }
   },
   "outputs": [],
   "source": [
    "#### Indexed documents based on the two configs\n",
    "\n",
    "# Create the 2 indices\n",
    "tf_index_1 = build_tf_index(doc_repr_1)\n",
    "tf_index_2 = build_tf_index(doc_repr_2)\n",
    "\n",
    "# This function returns the tf_index of the corresponding config\n",
    "def get_index(index_set):\n",
    "    assert index_set in {1, 2}\n",
    "    return {\n",
    "        1: tf_index_1,\n",
    "        2: tf_index_2\n",
    "    }[index_set]\n",
    "\n",
    "####\n",
    "#### Preprocessed query based on the two configs\n",
    "\n",
    "# This function preprocesses the text given the index set, according to the specified config\n",
    "def preprocess_query(text, index_set):\n",
    "    assert index_set in {1, 2}\n",
    "    if index_set == 1:\n",
    "        return process_text(text, **config_1)\n",
    "    elif index_set == 2:\n",
    "        return process_text(text, **config_2)\n",
    "\n",
    "#### "
   ]
  },
  {
   "cell_type": "code",
   "execution_count": 21,
   "metadata": {
    "deletable": false,
    "editable": false,
    "nbgrader": {
     "cell_type": "code",
     "checksum": "f0cbc8703e1248cd6edf03f9019b69db",
     "grade": true,
     "grade_id": "cell-fc7c7232d5d2ee46",
     "locked": true,
     "points": 5,
     "schema_version": 3,
     "solution": false,
     "task": false
    }
   },
   "outputs": [
    {
     "name": "stdout",
     "output_type": "stream",
     "text": [
      "sample tf index for computer: [('4', 1), ('7', 1), ('10', 1), ('13', 1), ('19', 1), ('22', 1), ('23', 1), ('37', 1), ('40', 3), ('41', 1)]\n",
      "sample tf index for examples: [('111', 1), ('320', 1), ('644', 1), ('691', 1), ('727', 1), ('848', 1), ('892', 1), ('893', 1), ('1049', 1), ('1051', 1)]\n"
     ]
    }
   ],
   "source": [
    "##### Function check\n",
    "\n",
    "assert isinstance(tf_index_1, dict)\n",
    "\n",
    "assert isinstance(tf_index_1['computer'], list)\n",
    "print('sample tf index for computer:', tf_index_1['computer'][:10])\n",
    "\n",
    "assert isinstance(tf_index_1['examples'], list)\n",
    "print('sample tf index for examples:', tf_index_1['examples'][:10])\n",
    "#### "
   ]
  },
  {
   "cell_type": "code",
   "execution_count": 22,
   "metadata": {
    "deletable": false,
    "editable": false,
    "nbgrader": {
     "cell_type": "code",
     "checksum": "d49b8ac36815d9a5cb4bed838ab53a50",
     "grade": true,
     "grade_id": "cell-ff06bd11204db250",
     "locked": true,
     "points": 5,
     "schema_version": 3,
     "solution": false,
     "task": false
    }
   },
   "outputs": [
    {
     "name": "stdout",
     "output_type": "stream",
     "text": [
      "sample tf index for computer: [('4', 1), ('7', 1), ('10', 1), ('13', 1), ('19', 1), ('22', 1), ('23', 1), ('37', 1), ('40', 3), ('41', 1)]\n",
      "sample tf index for examples: []\n"
     ]
    }
   ],
   "source": [
    "##### Function check\n",
    "\n",
    "assert isinstance(tf_index_2, dict)\n",
    "\n",
    "assert isinstance(tf_index_2['computer'], list)\n",
    "print('sample tf index for computer:', tf_index_1['computer'][:10])\n",
    "\n",
    "assert isinstance(tf_index_2['examples'], list)\n",
    "print('sample tf index for examples:', tf_index_2['examples'][:10])\n",
    "#### "
   ]
  },
  {
   "cell_type": "markdown",
   "metadata": {
    "deletable": false,
    "editable": false,
    "nbgrader": {
     "cell_type": "markdown",
     "checksum": "880b2ef3ca405f2af6e0667d2dc7a600",
     "grade": false,
     "grade_id": "cell-89eba71f04310291",
     "locked": true,
     "schema_version": 3,
     "solution": false,
     "task": false
    }
   },
   "source": [
    "\n",
    "---\n",
    "## Section 3: Ranking  (80 points) <a class=\"anchor\" id=\"ranking\"></a>\n",
    "\n",
    "[Back to Part 1](#part1)\n",
    "\n",
    "Now that we have cleaned and processed our dataset, we can start building simple IR systems. \n",
    "\n",
    "For now, we consider *simple* IR systems, which involve computing scores from the tokens present in the document/query. More advanced methods are covered in later assignments.\n",
    "\n",
    "We will implement the following methods in this section:\n",
    "- [Section 3.1: Bag of Words](#bow) (10 points)\n",
    "- [Section 3.2: TF-IDF](#tfidf) (15 points)\n",
    "- [Section 3.3: Query Likelihood Model](#qlm) (35 points)\n",
    "- [Section 3.4: BM25](#bm25) (20 points)\n",
    "\n",
    "*All search functions should be able to handle multiple words queries.*\n",
    "\n",
    "**Scoring policy:**\n",
    "Your implementations in this section are scored based on the expected performance of your ranking functions.\n",
    "You will get a full mark if your implementation meets the expected performance (measured by some evaluation metric).\n",
    "Otherwise, you may get partial credit.\n",
    "For example, if your *Bag of words* ranking function has 60% of expected performance, you will get 6 out of 10."
   ]
  },
  {
   "cell_type": "markdown",
   "metadata": {
    "deletable": false,
    "editable": false,
    "nbgrader": {
     "cell_type": "markdown",
     "checksum": "6c74e5061917358300c6e8085ec07864",
     "grade": false,
     "grade_id": "cell-3daf70a60e393adf",
     "locked": true,
     "schema_version": 3,
     "solution": false,
     "task": false
    }
   },
   "source": [
    "--- \n",
    "\n",
    "### Section 3.1: Bag of Words (10 points)<a class=\"anchor\" id=\"bow\"></a>\n",
    "\n",
    "Probably the simplest IR model is the Bag of Words (BOW) model.\n",
    "Implement a function that scores and ranks all the documents against a query using this model.   \n",
    "\n",
    "- For consistency, you should use the count of the token and **not** the binary indicator.\n",
    "- Use `float` type for the scores (even though the scores are integers in this case).\n",
    "- No normalization of the scores is necessary, as the ordering is what we are interested in.\n",
    "- If two documents have the same score, they can have any ordering: you are not required to disambiguate.\n"
   ]
  },
  {
   "cell_type": "code",
   "execution_count": 23,
   "metadata": {
    "deletable": false,
    "nbgrader": {
     "cell_type": "code",
     "checksum": "fee4640e22bfc4f05eb958a675ef40e7",
     "grade": false,
     "grade_id": "cell-de9cf0459c4b9324",
     "locked": false,
     "schema_version": 3,
     "solution": true,
     "task": false
    }
   },
   "outputs": [],
   "source": [
    "# TODO: Implement this! (10 points)\n",
    "def bow_search(query, index_set):\n",
    "    \"\"\"\n",
    "        Perform a search over all documents with the given query. \n",
    "        Note: You have to use the `get_index` function created in the previous cells\n",
    "        Input: \n",
    "            query - a (unprocessed) query\n",
    "            index_set - the index to use\n",
    "        Output: a list of (document_id, score), sorted in descending relevance to the given query. \n",
    "    \"\"\"\n",
    "    index = get_index(index_set)\n",
    "    processed_query = preprocess_query(query, index_set)\n",
    "    \n",
    "    # YOUR CODE HERE\n",
    "    scores = {}\n",
    "    for token in processed_query:\n",
    "        if token in index.keys():\n",
    "            for doc_id, token_count in index[token]:\n",
    "                scores[doc_id] = scores.get(doc_id, 0) + token_count\n",
    "    \n",
    "    result = [(k,float(v)) for k, v in sorted(scores.items(), key=lambda item: item[1], reverse=True)]\n",
    "    return result\n",
    "    # raise NotImplementedError()"
   ]
  },
  {
   "cell_type": "code",
   "execution_count": 24,
   "metadata": {
    "deletable": false,
    "editable": false,
    "nbgrader": {
     "cell_type": "code",
     "checksum": "613524fbbf02b1d122c6611a71fbf11b",
     "grade": true,
     "grade_id": "cell-9f6aceae6dd9125f",
     "locked": true,
     "points": 2,
     "schema_version": 3,
     "solution": false,
     "task": false
    }
   },
   "outputs": [],
   "source": [
    "#### Function check\n",
    "\n",
    "test_bow = bow_search(\"how to implement bag of words search\", index_set=1)[:5]\n",
    "assert isinstance(test_bow, list)\n",
    "assert len(test_bow[0]) == 2\n",
    "assert isinstance(test_bow[0][0], str)\n",
    "assert isinstance(test_bow[0][1], float)\n",
    "\n",
    "#### "
   ]
  },
  {
   "cell_type": "code",
   "execution_count": 25,
   "metadata": {
    "deletable": false,
    "editable": false,
    "nbgrader": {
     "cell_type": "code",
     "checksum": "9af20897659edb62fe77598483590500",
     "grade": true,
     "grade_id": "cell-4eed3abf233d9b58",
     "locked": true,
     "points": 2,
     "schema_version": 3,
     "solution": false,
     "task": false
    }
   },
   "outputs": [
    {
     "name": "stdout",
     "output_type": "stream",
     "text": [
      "BOW Results:\n",
      "Rank 0(1.3e+01): On Computing The Fast Fourier Transform\\nCooley an...\n",
      "Rank 1(1.2e+01): Variable Length Tree Structures Having Minimum Ave...\n",
      "Rank 2(1.1e+01): A Modular Computer Sharing System\\nAn alternative ...\n",
      "Rank 3(1e+01): PEEKABIT, Computer Offspring of Punched\\nCard PEEK...\n",
      "Rank 4(9.0): Computer Simulation-Discussion of the\\nTechnique a...\n"
     ]
    }
   ],
   "source": [
    "\n",
    "docs_by_id = dict(docs)\n",
    "def print_results(docs, len_limit=50):    \n",
    "    for i, (doc_id, score) in enumerate(docs):\n",
    "        doc_content = docs_by_id[doc_id].strip().replace(\"\\n\", \"\\\\n\")[:len_limit] + \"...\"\n",
    "        print(f\"Rank {i}({score:.2}): {doc_content}\")\n",
    "\n",
    "test_bow_2 = bow_search(\"computer search word\", index_set=2)[:5]\n",
    "print(f\"BOW Results:\")\n",
    "print_results(test_bow_2)\n"
   ]
  },
  {
   "cell_type": "code",
   "execution_count": 26,
   "metadata": {
    "deletable": false,
    "editable": false,
    "nbgrader": {
     "cell_type": "code",
     "checksum": "3c9c8b16c8e7d1032f101e9da8a6e845",
     "grade": true,
     "grade_id": "cell-4d65a2d7090c466c",
     "locked": true,
     "points": 3,
     "schema_version": 3,
     "solution": false,
     "task": false
    }
   },
   "outputs": [
    {
     "name": "stdout",
     "output_type": "stream",
     "text": [
      "BOW Results:\n",
      "Rank 0(9.0): CURRICULUM 68 -- Recommendations for Academic\\nPro...\n",
      "Rank 1(9.0): Variable Length Tree Structures Having Minimum Ave...\n",
      "Rank 2(7.0): Computer Formulation of the Equations of Motion Us...\n",
      "Rank 3(7.0): The Effects of Multiplexing on a Computer-Communic...\n",
      "Rank 4(6.0): Optimizing Bit-time Computer Simulation\\nA major c...\n"
     ]
    }
   ],
   "source": [
    "\n",
    "test_bow_1 = bow_search(\"computer search word\", index_set=1)[:5]\n",
    "print(f\"BOW Results:\")\n",
    "print_results(test_bow_1)\n"
   ]
  },
  {
   "cell_type": "code",
   "execution_count": 27,
   "metadata": {
    "deletable": false,
    "editable": false,
    "nbgrader": {
     "cell_type": "code",
     "checksum": "b7e593847aa4202ae45ec061fb18ad73",
     "grade": true,
     "grade_id": "cell-dedf36ab5853ce20",
     "locked": true,
     "points": 3,
     "schema_version": 3,
     "solution": false,
     "task": false
    }
   },
   "outputs": [
    {
     "name": "stdout",
     "output_type": "stream",
     "text": [
      "top-5 docs for index1: ('1771', '1936', '1543', '2535', '678')\n",
      "top-5 docs for index2: ('1525', '1936', '1844', '1700', '1366')\n"
     ]
    }
   ],
   "source": [
    "print('top-5 docs for index1:', list(zip(*test_bow_1[:5]))[0])\n",
    "print('top-5 docs for index2:', list(zip(*test_bow_2[:5]))[0])\n"
   ]
  },
  {
   "cell_type": "markdown",
   "metadata": {
    "deletable": false,
    "editable": false,
    "nbgrader": {
     "cell_type": "markdown",
     "checksum": "b04352ee0716dfdf094b8cdb6f32e984",
     "grade": false,
     "grade_id": "cell-a5c09c79ac1f2871",
     "locked": true,
     "schema_version": 3,
     "solution": false,
     "task": false
    }
   },
   "source": [
    "\n",
    "---\n",
    "\n",
    "### Section 3.2: TF-IDF (15 points) <a class=\"anchor\" id=\"tfidf\"></a>\n",
    "\n",
    "Before we implement the tf-idf scoring functions, let's first write a function to compute the document frequencies of all words.  \n",
    "\n",
    "#### 3.2.1 Document frequency (5 points)\n",
    "Compute the document frequencies of all tokens in the collection. \n",
    "Your code should return a dictionary with tokens as its keys and the number of documents containing the token as values.\n",
    "For consistency, the values should have `int` type."
   ]
  },
  {
   "cell_type": "code",
   "execution_count": 28,
   "metadata": {
    "deletable": false,
    "nbgrader": {
     "cell_type": "code",
     "checksum": "5c53263cf4c0b0ffcaae08b91fc364cc",
     "grade": false,
     "grade_id": "cell-9a2369f32e864b8a",
     "locked": false,
     "schema_version": 3,
     "solution": true,
     "task": false
    }
   },
   "outputs": [],
   "source": [
    "# TODO: Implement this! (5 points)\n",
    "def compute_df(documents):\n",
    "    \"\"\"\n",
    "        Compute the document frequency of all terms in the vocabulary\n",
    "        Input: A list of documents\n",
    "        Output: A dictionary with {token: document frequency (int)}\n",
    "    \"\"\"\n",
    "    # YOUR CODE HERE\n",
    "    df_counts = {}\n",
    "    for tokens in documents:\n",
    "        visited_tokens = []\n",
    "        for token in tokens:\n",
    "            if token not in visited_tokens:\n",
    "                visited_tokens.append(token)\n",
    "                df_counts[token] = df_counts.get(token, 0) + 1\n",
    "\n",
    "    return df_counts\n",
    "    # raise NotImplementedError()"
   ]
  },
  {
   "cell_type": "code",
   "execution_count": 29,
   "metadata": {
    "deletable": false,
    "editable": false,
    "nbgrader": {
     "cell_type": "code",
     "checksum": "154985511d7925c5793a1f97dea81880",
     "grade": false,
     "grade_id": "cell-4c3bddd0b73ac90e",
     "locked": true,
     "schema_version": 3,
     "solution": false,
     "task": false
    }
   },
   "outputs": [],
   "source": [
    "#### Compute df based on the two configs\n",
    "\n",
    "# get the document frequencies of each document\n",
    "df_1 = compute_df([d[1] for d in doc_repr_1])\n",
    "df_2 = compute_df([d[1] for d in doc_repr_2])\n",
    "\n",
    "def get_df(index_set):\n",
    "    assert index_set in {1, 2}\n",
    "    return {\n",
    "        1: df_1,\n",
    "        2: df_2\n",
    "    }[index_set]\n",
    "####"
   ]
  },
  {
   "cell_type": "code",
   "execution_count": 30,
   "metadata": {
    "deletable": false,
    "editable": false,
    "nbgrader": {
     "cell_type": "code",
     "checksum": "110cc180068cf3f77c682ee3de2a117c",
     "grade": true,
     "grade_id": "cell-79e8a6db1e5fc46f",
     "locked": true,
     "points": 5,
     "schema_version": 3,
     "solution": false,
     "task": false
    }
   },
   "outputs": [
    {
     "name": "stdout",
     "output_type": "stream",
     "text": [
      "597\n",
      "11\n"
     ]
    }
   ],
   "source": [
    "#### Function check\n",
    "\n",
    "print(df_1['computer'])\n",
    "print(df_2['computer'])\n",
    "####"
   ]
  },
  {
   "cell_type": "markdown",
   "metadata": {
    "deletable": false,
    "editable": false,
    "nbgrader": {
     "cell_type": "markdown",
     "checksum": "d0d577668fa51b80aeab6e67209ae73b",
     "grade": false,
     "grade_id": "cell-52f6acc487e1b96d",
     "locked": true,
     "schema_version": 3,
     "solution": false,
     "task": false
    }
   },
   "source": [
    "---\n",
    "#### 3.2.2 TF-IDF search (10 points)\n",
    "Next, implement a function that computes a tf-idf score, given a query.\n",
    "Use the following formulas for TF and IDF:\n",
    "\n",
    "$$ TF=\\log (1 + f_{d,t}) $$\n",
    "\n",
    "$$ IDF=\\log (\\frac{N}{n_t})$$\n",
    "\n",
    "where $f_{d,t}$ is the frequency of token $t$ in document $d$, $N$ is the number of total documents and $n_t$ is the number of documents containing token $t$.\n",
    "\n",
    "**Note:** your implementation will be auto-graded assuming you have used the above formulas.\n"
   ]
  },
  {
   "cell_type": "code",
   "execution_count": 31,
   "metadata": {
    "deletable": false,
    "nbgrader": {
     "cell_type": "code",
     "checksum": "3534c44b4a3419ca1db98eebe7115dc1",
     "grade": false,
     "grade_id": "cell-2fb5ba34b2994cd9",
     "locked": false,
     "schema_version": 3,
     "solution": true,
     "task": false
    }
   },
   "outputs": [],
   "source": [
    "# TODO: Implement this! (10 points)\n",
    "def tfidf_search(query, index_set):\n",
    "    \"\"\"\n",
    "        Perform a search over all documents with the given query using tf-idf. \n",
    "        Note #1: You have to use the `get_index` (and the `get_df`) function created in the previous cells\n",
    "        Input: \n",
    "            query - a (unprocessed) query\n",
    "            index_set - the index to use\n",
    "        Output: a list of (document_id, score), sorted in descending relevance to the given query \n",
    "    \"\"\"\n",
    "    index = get_index(index_set)\n",
    "    df = get_df(index_set)\n",
    "    processed_query = preprocess_query(query, index_set)\n",
    "    \n",
    "    N = len(docs)\n",
    "    # YOUR CODE HERE\n",
    "    scores = {}\n",
    "    for token in processed_query:\n",
    "        if token in index.keys():\n",
    "            for doc_id, token_count in index[token]:\n",
    "                scores[doc_id] = scores.get(doc_id, 0) + (np.log(1 + token_count) * np.log(N/df[token]))\n",
    "    \n",
    "    result = [(k,float(v)) for k, v in sorted(scores.items(), key=lambda item: item[1], reverse=True)]\n",
    "    return result\n",
    "    # raise NotImplementedError()"
   ]
  },
  {
   "cell_type": "code",
   "execution_count": 32,
   "metadata": {
    "deletable": false,
    "editable": false,
    "nbgrader": {
     "cell_type": "code",
     "checksum": "7b66a514663d898694b09a23a597312b",
     "grade": true,
     "grade_id": "cell-bc68aeeacf42beb3",
     "locked": true,
     "points": 2,
     "schema_version": 3,
     "solution": false,
     "task": false
    }
   },
   "outputs": [],
   "source": [
    "\n",
    "#### Function check\n",
    "test_tfidf = tfidf_search(\"how to implement tf idf search\", index_set=1)[:5]\n",
    "assert isinstance(test_tfidf, list)\n",
    "assert len(test_tfidf[0]) == 2\n",
    "assert isinstance(test_tfidf[0][0], str)\n",
    "assert isinstance(test_tfidf[0][1], float)\n",
    "\n",
    "####"
   ]
  },
  {
   "cell_type": "code",
   "execution_count": 33,
   "metadata": {
    "deletable": false,
    "editable": false,
    "nbgrader": {
     "cell_type": "code",
     "checksum": "98fb1326cf4bf7983ae237ca8a9105f9",
     "grade": true,
     "grade_id": "cell-c7702fa8179fadb9",
     "locked": true,
     "points": 2,
     "schema_version": 3,
     "solution": false,
     "task": false
    }
   },
   "outputs": [
    {
     "name": "stdout",
     "output_type": "stream",
     "text": [
      "TFIDF Results:\n",
      "Rank 0(1.3e+01): PEEKABIT, Computer Offspring of Punched\\nCard PEEK...\n",
      "Rank 1(9.8): Variable Length Tree Structures Having Minimum Ave...\n",
      "Rank 2(8.2): A Stochastic Approach to the Grammatical Coding of...\n",
      "Rank 3(8.1): Full Table Quadratic Searching for Scatter Storage...\n",
      "Rank 4(7.6): Use of Tree Structures for Processing Files\\nIn da...\n"
     ]
    }
   ],
   "source": [
    "\n",
    "test_tfidf_2 = tfidf_search(\"computer word search\", index_set=2)[:5]\n",
    "print(f\"TFIDF Results:\")\n",
    "print_results(test_tfidf_2)\n"
   ]
  },
  {
   "cell_type": "code",
   "execution_count": 34,
   "metadata": {
    "deletable": false,
    "editable": false,
    "nbgrader": {
     "cell_type": "code",
     "checksum": "733b5b67be5e53989f5b763ce5e52ee9",
     "grade": true,
     "grade_id": "cell-3284f50ac29abbaa",
     "locked": true,
     "points": 3,
     "schema_version": 3,
     "solution": false,
     "task": false
    }
   },
   "outputs": [
    {
     "name": "stdout",
     "output_type": "stream",
     "text": [
      "TFIDF Results:\n",
      "Rank 0(9.4): Variable Length Tree Structures Having Minimum Ave...\n",
      "Rank 1(7.4): On the Feasibility of Voice Input to\\nan On-line C...\n",
      "Rank 2(7.3): Median Split Trees: A Fast Lookup Technique for Fr...\n",
      "Rank 3(7.0): Execution Time Requirements for Encipherment Progr...\n",
      "Rank 4(7.0): Storage and Search Properties of a Tree-Organized ...\n"
     ]
    }
   ],
   "source": [
    "\n",
    "test_tfidf_1 = tfidf_search(\"computer word search\", index_set=1)[:5]\n",
    "print(f\"TFIDF Results:\")\n",
    "print_results(test_tfidf_1)\n"
   ]
  },
  {
   "cell_type": "code",
   "execution_count": 35,
   "metadata": {
    "deletable": false,
    "editable": false,
    "nbgrader": {
     "cell_type": "code",
     "checksum": "e0edb37a5ae807a2de85d578c87ccb78",
     "grade": true,
     "grade_id": "cell-d908c80a3155354b",
     "locked": true,
     "points": 3,
     "schema_version": 3,
     "solution": false,
     "task": false
    }
   },
   "outputs": [
    {
     "name": "stdout",
     "output_type": "stream",
     "text": [
      "top-5 docs for index1 with BOW search: ('1771', '1936', '1543', '2535', '678')\n",
      "top-5 docs for index2 with BOW search: ('1525', '1936', '1844', '1700', '1366')\n",
      "top-5 docs for index1 with TF-IDF search: ('1936', '2054', '3041', '2620', '944')\n",
      "top-5 docs for index2 with TF-IDF search: ('1700', '1936', '1235', '2018', '849')\n"
     ]
    }
   ],
   "source": [
    "\n",
    "print('top-5 docs for index1 with BOW search:', list(zip(*test_bow_1[:5]))[0])\n",
    "print('top-5 docs for index2 with BOW search:', list(zip(*test_bow_2[:5]))[0])\n",
    "print('top-5 docs for index1 with TF-IDF search:', list(zip(*test_tfidf_1[:5]))[0])\n",
    "print('top-5 docs for index2 with TF-IDF search:', list(zip(*test_tfidf_2[:5]))[0])\n",
    "\n"
   ]
  },
  {
   "cell_type": "markdown",
   "metadata": {
    "deletable": false,
    "editable": false,
    "nbgrader": {
     "cell_type": "markdown",
     "checksum": "cdffc83f0eaea937cf64a212e7e9af8d",
     "grade": false,
     "grade_id": "cell-f5d923459ba21733",
     "locked": true,
     "schema_version": 3,
     "solution": false,
     "task": false
    }
   },
   "source": [
    "--- \n",
    "\n",
    "### Section 3.3: Query Likelihood Model (35 points) <a class=\"anchor\" id=\"qlm\"></a>\n",
    "\n",
    "In this section, you will implement a simple query likelihood model. \n",
    "\n",
    "\n",
    "#### 3.3.1 Naive QL (15 points)\n",
    "\n",
    "First, let us implement a naive version of a QL model, assuming a multinomial unigram language model (with a uniform prior over the documents). \n",
    "\n"
   ]
  },
  {
   "cell_type": "code",
   "execution_count": 36,
   "metadata": {
    "deletable": false,
    "editable": false,
    "nbgrader": {
     "cell_type": "code",
     "checksum": "b7ae2b7d818b428b4638c1c9206d2aca",
     "grade": false,
     "grade_id": "cell-98505778f7b68e7f",
     "locked": true,
     "schema_version": 3,
     "solution": false,
     "task": false
    }
   },
   "outputs": [],
   "source": [
    "#### Document length for normalization\n",
    "\n",
    "def doc_lengths(documents):\n",
    "    doc_lengths = {doc_id:len(doc) for (doc_id, doc) in documents}\n",
    "    return doc_lengths\n",
    "\n",
    "doc_lengths_1 = doc_lengths(doc_repr_1)\n",
    "doc_lengths_2 = doc_lengths(doc_repr_2)\n",
    "\n",
    "def get_doc_lengths(index_set):\n",
    "    assert index_set in {1, 2}\n",
    "    return {\n",
    "        1: doc_lengths_1,\n",
    "        2: doc_lengths_2\n",
    "    }[index_set]\n",
    "####"
   ]
  },
  {
   "cell_type": "code",
   "execution_count": 37,
   "metadata": {
    "deletable": false,
    "nbgrader": {
     "cell_type": "code",
     "checksum": "cedd08303a914243fefdb6b876977ca1",
     "grade": false,
     "grade_id": "cell-8bcf2b804d636c2e",
     "locked": false,
     "schema_version": 3,
     "solution": true,
     "task": false
    }
   },
   "outputs": [],
   "source": [
    "# TODO: Implement this! (15 points)\n",
    "def naive_ql_search(query, index_set):\n",
    "    \"\"\"\n",
    "        Perform a search over all documents with the given query using a naive QL model. \n",
    "        Note #1: You have to use the `get_index` (and get_doc_lengths) function created in the previous cells\n",
    "        Input: \n",
    "            query - a (unprocessed) query\n",
    "            index_set - the index to use\n",
    "        Output: a list of (document_id, score), sorted in descending relevance to the given query \n",
    "    \"\"\"\n",
    "    index = get_index(index_set)\n",
    "    doc_lengths = get_doc_lengths(index_set)\n",
    "    processed_query = preprocess_query(query, index_set)\n",
    "    # YOUR CODE HERE\n",
    "    # loop over documents\n",
    "    ranking = {}\n",
    "    for token in processed_query:\n",
    "        if not index[token]:\n",
    "            continue\n",
    "        freqs = {doc: freq for doc, freq in index[token]}\n",
    "        for doc, length in doc_lengths.items():\n",
    "            if doc in freqs:\n",
    "                ranking[doc] = ranking.get(doc, 1.)*(freqs[doc]/length)\n",
    "            else:\n",
    "                ranking[doc] = ranking.get(doc, 1.)*0.0\n",
    "\n",
    "    # sort ranking result\n",
    "    ranking = [(k, v) for k,v in ranking.items()]\n",
    "    ranking.sort(key=lambda x: x[1], reverse=True)\n",
    "\n",
    "    return ranking\n",
    "    # raise NotImplementedError()"
   ]
  },
  {
   "cell_type": "code",
   "execution_count": 38,
   "metadata": {
    "deletable": false,
    "editable": false,
    "nbgrader": {
     "cell_type": "code",
     "checksum": "b550d15bdad28354c336020a00c33d56",
     "grade": true,
     "grade_id": "cell-5a83ac12ecde8578",
     "locked": true,
     "points": 3,
     "schema_version": 3,
     "solution": false,
     "task": false
    }
   },
   "outputs": [
    {
     "name": "stdout",
     "output_type": "stream",
     "text": [
      "Naive QL Results:\n",
      "Rank 0(0.2): A Report Writer For COBOL...\n",
      "Rank 1(0.2): A CRT Report Generating System...\n",
      "Rank 2(0.17): Preliminary Report-International Algebraic Languag...\n",
      "Rank 3(0.17): Supplement to the ALGOL 60 Report...\n",
      "Rank 4(0.14): ALGOL Sub-Committee Report - Extensions...\n"
     ]
    }
   ],
   "source": [
    "#### Function check\n",
    "test_naiveql = naive_ql_search(\"report\", index_set=1)[:5]\n",
    "print(f\"Naive QL Results:\")\n",
    "print_results(test_naiveql)\n",
    "####"
   ]
  },
  {
   "cell_type": "code",
   "execution_count": 39,
   "metadata": {
    "deletable": false,
    "editable": false,
    "nbgrader": {
     "cell_type": "code",
     "checksum": "799df1d81c63fe90edbb6c218fc707fb",
     "grade": true,
     "grade_id": "cell-80f4bf2137f997bb",
     "locked": true,
     "points": 2,
     "schema_version": 3,
     "solution": false,
     "task": false
    }
   },
   "outputs": [],
   "source": [
    "#### Please do not change this. This cell is used for grading."
   ]
  },
  {
   "cell_type": "code",
   "execution_count": 40,
   "metadata": {
    "deletable": false,
    "editable": false,
    "nbgrader": {
     "cell_type": "code",
     "checksum": "875a4a517d27e20625d41783cebec118",
     "grade": true,
     "grade_id": "cell-5ce2993458a8ce51",
     "locked": true,
     "points": 3,
     "schema_version": 3,
     "solution": false,
     "task": false
    }
   },
   "outputs": [],
   "source": [
    "#### Please do not change this. This cell is used for grading."
   ]
  },
  {
   "cell_type": "code",
   "execution_count": 41,
   "metadata": {
    "deletable": false,
    "editable": false,
    "nbgrader": {
     "cell_type": "code",
     "checksum": "d5c4e1c3852e71a46f32825b122f1b71",
     "grade": true,
     "grade_id": "cell-7753bdb54e292f3d",
     "locked": true,
     "points": 3,
     "schema_version": 3,
     "solution": false,
     "task": false
    }
   },
   "outputs": [],
   "source": [
    "#### Please do not change this. This cell is used for grading."
   ]
  },
  {
   "cell_type": "code",
   "execution_count": 42,
   "metadata": {
    "deletable": false,
    "editable": false,
    "nbgrader": {
     "cell_type": "code",
     "checksum": "c4d4332d4356e89ce0240f6b80e1899a",
     "grade": true,
     "grade_id": "cell-54e476e2f96e64bb",
     "locked": true,
     "points": 4,
     "schema_version": 3,
     "solution": false,
     "task": false
    }
   },
   "outputs": [],
   "source": [
    "#### Please do not change this. This cell is used for grading."
   ]
  },
  {
   "cell_type": "markdown",
   "metadata": {
    "deletable": false,
    "editable": false,
    "nbgrader": {
     "cell_type": "markdown",
     "checksum": "8d739dc91a22bd48897f603885f95a74",
     "grade": false,
     "grade_id": "cell-5414dfd69dab8b94",
     "locked": true,
     "schema_version": 3,
     "solution": false,
     "task": false
    }
   },
   "source": [
    "---\n",
    "#### 3.3.2 QL (20 points)\n",
    "Now, let's implement a QL model that handles the issues with the naive version. In particular, you will implement a QL model with Jelinek-Mercer Smoothing. That means an interpolated score is computed per word - one term is the same as the previous naive version, and the second term comes from a unigram language model. In addition, you should accumulate the scores by summing the **log** (smoothed) probability which leads to better numerical stability."
   ]
  },
  {
   "cell_type": "code",
   "execution_count": 43,
   "metadata": {
    "deletable": false,
    "nbgrader": {
     "cell_type": "code",
     "checksum": "b8c6abf937ad333e628f1db891f2e29e",
     "grade": false,
     "grade_id": "cell-bb1f506409771257",
     "locked": false,
     "schema_version": 3,
     "solution": true,
     "task": false
    }
   },
   "outputs": [],
   "source": [
    "# TODO: Implement this! (20 points)\n",
    "\n",
    "# YOUR CODE HERE\n",
    "# raise NotImplementedError()\n",
    "\n",
    "def ql_search(query, index_set):\n",
    "    \"\"\"\n",
    "        Perform a search over all documents with the given query using a QL model \n",
    "        with Jelinek-Mercer Smoothing (set smoothing=0.1). \n",
    "        \n",
    "        \n",
    "        Note #1: You have to use the `get_index` (and get_doc_lengths) function created in the previous cells\n",
    "        Note #2: You might have to create some variables beforehand and use them in this function\n",
    "        \n",
    "        \n",
    "        Input: \n",
    "            query - a (unprocessed) query\n",
    "            index_set - the index to use\n",
    "        Output: a list of (document_id, score), sorted in descending relevance to the given query \n",
    "    \"\"\"\n",
    "    index = get_index(index_set)\n",
    "    doc_lengths = get_doc_lengths(index_set)\n",
    "    processed_query = preprocess_query(query, index_set)\n",
    "    \n",
    "    # YOUR CODE HERE\n",
    "    # hard-coding smoothing because I don't want to break any tests\n",
    "    # adding it as an argument of the function would definitely be better\n",
    "    smooth = 0.1\n",
    "\n",
    "    # build total counts of words\n",
    "    corpus_len = np.sum(list(doc_lengths.values()))\n",
    "\n",
    "    # loop over documents\n",
    "    ranking = {} \n",
    "    for token in processed_query:\n",
    "        if not index[token]:\n",
    "            continue\n",
    "        token_n = 0\n",
    "        freqs = {}\n",
    "        for doc, val in index[token]:\n",
    "            freqs[doc] = val\n",
    "            token_n += val\n",
    "        for doc, l in doc_lengths.items():\n",
    "            if doc in freqs:\n",
    "                count = freqs[doc]\n",
    "            else:\n",
    "                count = 0\n",
    "            likelihood = np.log((1-smooth)*(count/l) + smooth*(token_n/corpus_len))\n",
    "            ranking[doc] = ranking.get(doc, 0.0) + likelihood\n",
    "\n",
    "    # sort ranking result\n",
    "    ranking = [(k, v) for k,v in ranking.items()]\n",
    "    ranking.sort(key=lambda x: x[1], reverse=True)\n",
    "\n",
    "    return ranking\n",
    "    # raise NotImplementedError()\n",
    "    "
   ]
  },
  {
   "cell_type": "code",
   "execution_count": 44,
   "metadata": {
    "deletable": false,
    "editable": false,
    "nbgrader": {
     "cell_type": "code",
     "checksum": "0b12a7f3355193a257fd9f5f69a66562",
     "grade": true,
     "grade_id": "cell-850e9d6369bcec32",
     "locked": true,
     "points": 4,
     "schema_version": 3,
     "solution": false,
     "task": false
    }
   },
   "outputs": [
    {
     "name": "stdout",
     "output_type": "stream",
     "text": [
      "Rank 0(-1.7): A Report Writer For COBOL...\n",
      "Rank 1(-1.7): A CRT Report Generating System...\n",
      "Rank 2(-1.9): Preliminary Report-International Algebraic Languag...\n",
      "Rank 3(-1.9): Supplement to the ALGOL 60 Report...\n",
      "Rank 4(-2.1): ALGOL Sub-Committee Report - Extensions...\n",
      "\n",
      "Rank 0(-1.7e+01): A Report Writer For COBOL...\n",
      "Rank 1(-1.7e+01): A CRT Report Generating System...\n",
      "Rank 2(-1.9e+01): Preliminary Report-International Algebraic Languag...\n",
      "Rank 3(-1.9e+01): Supplement to the ALGOL 60 Report...\n",
      "Rank 4(-2.1e+01): ALGOL Sub-Committee Report - Extensions...\n"
     ]
    }
   ],
   "source": [
    "#### Function check\n",
    "test_ql_results = ql_search(\"report\", index_set=1)[:5]\n",
    "print_results(test_ql_results)\n",
    "print()\n",
    "test_ql_results_long = ql_search(\"report \" * 10, index_set=1)[:5]\n",
    "print_results(test_ql_results_long)\n",
    "####"
   ]
  },
  {
   "cell_type": "code",
   "execution_count": 45,
   "metadata": {
    "deletable": false,
    "editable": false,
    "nbgrader": {
     "cell_type": "code",
     "checksum": "e40be645140389c115849856145f5b59",
     "grade": true,
     "grade_id": "cell-958cdcf6fd6899b7",
     "locked": true,
     "points": 3,
     "schema_version": 3,
     "solution": false,
     "task": false
    }
   },
   "outputs": [],
   "source": [
    "#### Please do not change this. This cell is used for grading."
   ]
  },
  {
   "cell_type": "code",
   "execution_count": 46,
   "metadata": {
    "deletable": false,
    "editable": false,
    "nbgrader": {
     "cell_type": "code",
     "checksum": "41d4aff001df17e7963ba79b45810b30",
     "grade": true,
     "grade_id": "cell-384dc23a0c251f6e",
     "locked": true,
     "points": 4,
     "schema_version": 3,
     "solution": false,
     "task": false
    }
   },
   "outputs": [],
   "source": [
    "#### Please do not change this. This cell is used for grading."
   ]
  },
  {
   "cell_type": "code",
   "execution_count": 47,
   "metadata": {
    "deletable": false,
    "editable": false,
    "nbgrader": {
     "cell_type": "code",
     "checksum": "893e8c5a073abc8ebb763d267b91bc02",
     "grade": true,
     "grade_id": "cell-7218966cba5097cc",
     "locked": true,
     "points": 4,
     "schema_version": 3,
     "solution": false,
     "task": false
    }
   },
   "outputs": [],
   "source": [
    "#### Please do not change this. This cell is used for grading."
   ]
  },
  {
   "cell_type": "code",
   "execution_count": 48,
   "metadata": {
    "deletable": false,
    "editable": false,
    "nbgrader": {
     "cell_type": "code",
     "checksum": "f99cb6f8b1f5830aaed8f06712ff846e",
     "grade": true,
     "grade_id": "cell-481ab073259ae53f",
     "locked": true,
     "points": 5,
     "schema_version": 3,
     "solution": false,
     "task": false
    }
   },
   "outputs": [],
   "source": [
    "#### Please do not change this. This cell is used for grading."
   ]
  },
  {
   "cell_type": "markdown",
   "metadata": {
    "deletable": false,
    "editable": false,
    "nbgrader": {
     "cell_type": "markdown",
     "checksum": "c02f14705d679579b1aa9f78f54779d5",
     "grade": false,
     "grade_id": "cell-f44088bfdac1dc90",
     "locked": true,
     "schema_version": 3,
     "solution": false,
     "task": false
    }
   },
   "source": [
    "--- \n",
    "\n",
    "### Section 3.4: BM25 (20 points) <a class=\"anchor\" id=\"bm25\"></a>\n",
    "\n",
    "In this section, we will implement the BM25 scoring function. \n"
   ]
  },
  {
   "cell_type": "code",
   "execution_count": 49,
   "metadata": {
    "deletable": false,
    "nbgrader": {
     "cell_type": "code",
     "checksum": "e57efe06ea92af1c83784a42eb3d86e0",
     "grade": false,
     "grade_id": "cell-15640fc9b5d00a3c",
     "locked": false,
     "schema_version": 3,
     "solution": true,
     "task": false
    }
   },
   "outputs": [],
   "source": [
    "# TODO: Implement this! (20 points)\n",
    "def bm25_search(query, index_set):\n",
    "    \"\"\"\n",
    "        Perform a search over all documents with the given query using BM25. Use k_1 = 1.5 and b = 0.75\n",
    "        Note #1: You have to use the `get_index` (and `get_doc_lengths`) function created in the previous cells\n",
    "        Note #2: You might have to create some variables beforehand and use them in this function\n",
    "        \n",
    "        Input: \n",
    "            query - a (unprocessed) query\n",
    "            index_set - the index to use\n",
    "        Output: a list of (document_id, score), sorted in descending relevance to the given query \n",
    "    \"\"\"\n",
    "    \n",
    "    index = get_index(index_set)\n",
    "    df = get_df(index_set)\n",
    "    doc_lengths = get_doc_lengths(index_set)\n",
    "    processed_query = preprocess_query(query, index_set)\n",
    "    \n",
    "    # YOUR CODE HERE\n",
    "    k_1 = 1.5\n",
    "    b = 0.75 \n",
    "    N = len(doc_lengths)\n",
    "    dl_avg = sum(doc_lengths.values()) / N\n",
    "    bm25_scores = {}\n",
    "\n",
    "    for token in processed_query:\n",
    "        if token in index.keys():\n",
    "            for doc_id, token_count in index[token]:\n",
    "                bm25_scores[doc_id] = bm25_scores.get(doc_id, 0) + (np.log(N/df[token]) * (k_1 + 1) * token_count) / (k_1 * ((1-b) + b * (doc_lengths[doc_id] / dl_avg)) + token_count) \n",
    "\n",
    "    bm25_scores_list = [(k,float(v)) for k, v in sorted(bm25_scores.items(), key=lambda item: item[1], reverse=True)]\n",
    "    return bm25_scores_list\n",
    "    # raise NotImplementedError()"
   ]
  },
  {
   "cell_type": "code",
   "execution_count": 50,
   "metadata": {
    "deletable": false,
    "editable": false,
    "nbgrader": {
     "cell_type": "code",
     "checksum": "4be9de5d4e94637960d83725422bea6c",
     "grade": true,
     "grade_id": "cell-d10536bca72c74b1",
     "locked": true,
     "points": 3,
     "schema_version": 3,
     "solution": false,
     "task": false
    }
   },
   "outputs": [
    {
     "name": "stdout",
     "output_type": "stream",
     "text": [
      "Rank 0(6.7): A Report Writer For COBOL...\n",
      "Rank 1(6.7): A CRT Report Generating System...\n",
      "Rank 2(6.6): Preliminary Report-International Algebraic Languag...\n",
      "Rank 3(6.6): Supplement to the ALGOL 60 Report...\n",
      "Rank 4(6.5): ALGOL Sub-Committee Report - Extensions...\n"
     ]
    }
   ],
   "source": [
    "#### Function check\n",
    "test_bm25_results = bm25_search(\"report\", index_set=1)[:5]\n",
    "print_results(test_bm25_results)\n",
    "####"
   ]
  },
  {
   "cell_type": "code",
   "execution_count": 51,
   "metadata": {
    "deletable": false,
    "editable": false,
    "nbgrader": {
     "cell_type": "code",
     "checksum": "31b550d6a46ae4f8ede88788799ac2b9",
     "grade": true,
     "grade_id": "cell-60f6ec5052712d79",
     "locked": true,
     "points": 5,
     "schema_version": 3,
     "solution": false,
     "task": false
    }
   },
   "outputs": [],
   "source": [
    "#### Please do not change this. This cell is used for grading."
   ]
  },
  {
   "cell_type": "code",
   "execution_count": 52,
   "metadata": {
    "deletable": false,
    "editable": false,
    "nbgrader": {
     "cell_type": "code",
     "checksum": "3da2ec16bfe781916e71755d65aa2983",
     "grade": true,
     "grade_id": "cell-5d17524043a5abcc",
     "locked": true,
     "points": 5,
     "schema_version": 3,
     "solution": false,
     "task": false
    }
   },
   "outputs": [],
   "source": [
    "#### Please do not change this. This cell is used for grading."
   ]
  },
  {
   "cell_type": "code",
   "execution_count": 53,
   "metadata": {
    "deletable": false,
    "editable": false,
    "nbgrader": {
     "cell_type": "code",
     "checksum": "e7b563d54fa84c20909c0ae107010541",
     "grade": true,
     "grade_id": "cell-ff8e704eda1184e3",
     "locked": true,
     "points": 3,
     "schema_version": 3,
     "solution": false,
     "task": false
    }
   },
   "outputs": [],
   "source": [
    "#### Please do not change this. This cell is used for grading."
   ]
  },
  {
   "cell_type": "code",
   "execution_count": 54,
   "metadata": {
    "deletable": false,
    "editable": false,
    "nbgrader": {
     "cell_type": "code",
     "checksum": "b013f90974b396630a8831d6f1d7e5f7",
     "grade": true,
     "grade_id": "cell-a52310500a2543cb",
     "locked": true,
     "points": 4,
     "schema_version": 3,
     "solution": false,
     "task": false
    }
   },
   "outputs": [],
   "source": [
    "#### Please do not change this. This cell is used for grading."
   ]
  },
  {
   "cell_type": "markdown",
   "metadata": {
    "deletable": false,
    "editable": false,
    "nbgrader": {
     "cell_type": "markdown",
     "checksum": "8fcf67cb7d5e8b26cb9bf1f0aa42c847",
     "grade": false,
     "grade_id": "cell-8b2b412c81d62f2d",
     "locked": true,
     "schema_version": 3,
     "solution": false,
     "task": false
    }
   },
   "source": [
    "\n",
    "---\n",
    "\n",
    "### 3.5. Test Your Functions\n",
    "\n",
    "The widget below allows you to play with the search functions you've written so far. Use this to test your search functions and ensure that they work as expected."
   ]
  },
  {
   "cell_type": "code",
   "execution_count": 55,
   "metadata": {
    "deletable": false,
    "editable": false,
    "nbgrader": {
     "cell_type": "code",
     "checksum": "dfeb204b390acc0794dbdcac92b0cf2c",
     "grade": false,
     "grade_id": "cell-c9c2bb76354e8d97",
     "locked": true,
     "schema_version": 3,
     "solution": false,
     "task": false
    }
   },
   "outputs": [],
   "source": [
    "#### Highlighter function\n",
    "# class for results\n",
    "ResultRow = namedtuple(\"ResultRow\", [\"doc_id\", \"snippet\", \"score\"])\n",
    "# doc_id -> doc\n",
    "docs_by_id = dict((d[0], d[1]) for d in docs)\n",
    "\n",
    "def highlight_text(document, query, tol=17):\n",
    "    import re\n",
    "    tokens = tokenize(query)\n",
    "    regex = \"|\".join(f\"(\\\\b{t}\\\\b)\" for t in tokens)\n",
    "    regex = re.compile(regex, flags=re.IGNORECASE)\n",
    "    output = \"\"\n",
    "    i = 0\n",
    "    for m in regex.finditer(document):\n",
    "        start_idx = max(0, m.start() - tol)\n",
    "        end_idx = min(len(document), m.end() + tol)\n",
    "        output += \"\".join([\"...\",\n",
    "                        document[start_idx:m.start()],\n",
    "                        \"<strong>\",\n",
    "                        document[m.start():m.end()],\n",
    "                        \"</strong>\",\n",
    "                        document[m.end():end_idx],\n",
    "                        \"...\"])\n",
    "    return output.replace(\"\\n\", \" \")\n",
    "\n",
    "\n",
    "def make_results(query, search_fn, index_set):\n",
    "    results = []\n",
    "    for doc_id, score in search_fn(query, index_set):\n",
    "        highlight = highlight_text(docs_by_id[doc_id], query)\n",
    "        if len(highlight.strip()) == 0:\n",
    "            highlight = docs_by_id[doc_id]\n",
    "        results.append(ResultRow(doc_id, highlight, score))\n",
    "    return results\n",
    "####"
   ]
  },
  {
   "cell_type": "code",
   "execution_count": 56,
   "metadata": {},
   "outputs": [
    {
     "data": {
      "application/vnd.jupyter.widget-view+json": {
       "model_id": "6c21e4ed7f524262902bef5c7ed5f7d2",
       "version_major": 2,
       "version_minor": 0
      },
      "text/plain": [
       "Text(value='', description='Search Bar')"
      ]
     },
     "metadata": {},
     "output_type": "display_data"
    }
   ],
   "source": [
    "# TODO: Set this to the function you want to test!\n",
    "# this function should take in a query (string)\n",
    "# and return a sorted list of (doc_id, score) \n",
    "# with the most relevant document in the first position\n",
    "search_fn = bm25_search\n",
    "index_set = 1\n",
    "\n",
    "text = widgets.Text(description=\"Search Bar\", width=200)\n",
    "display(text)\n",
    "\n",
    "def handle_submit(sender):\n",
    "    print(f\"Searching for: '{sender.value}'\")\n",
    "    \n",
    "    results = make_results(sender.value, search_fn, index_set)\n",
    "    \n",
    "    # display only the top 5\n",
    "    results = results[:5]\n",
    "    \n",
    "    body = \"\"\n",
    "    for idx, r in enumerate(results):\n",
    "        body += f\"<li>Document #{r.doc_id}({r.score}): {r.snippet}</li>\"\n",
    "    display(HTML(f\"<ul>{body}</ul>\"))\n",
    "    \n",
    "\n",
    "text.on_submit(handle_submit)"
   ]
  },
  {
   "cell_type": "markdown",
   "metadata": {
    "deletable": false,
    "editable": false,
    "nbgrader": {
     "cell_type": "markdown",
     "checksum": "019b1ff878dc6339dd068e2d48d19904",
     "grade": false,
     "grade_id": "cell-8d46fe8e4f3d8cdb",
     "locked": true,
     "schema_version": 3,
     "solution": false,
     "task": false
    }
   },
   "source": [
    "---\n",
    "\n",
    "## Section 4: Evaluation (40 points) <a class=\"anchor\" id=\"evaluation\"></a>\n",
    "\n",
    "[Back to Part 1](#part1)\n",
    "\n",
    "In order to analyze the effectiveness of retrieval algorithms, we first have to learn how to evaluate such a system. In particular, we will work with offline evaluation metrics. These metrics are computed on a dataset with known relevance judgements.\n",
    "\n",
    "Implement the following evaluation metrics. \n",
    "\n",
    "1. Precision (7 points)\n",
    "2. Recall (7 points)\n",
    "3. Mean Average Precision (13 points)\n",
    "4. Expected Reciprocal Rank (13 points)"
   ]
  },
  {
   "cell_type": "markdown",
   "metadata": {
    "deletable": false,
    "editable": false,
    "nbgrader": {
     "cell_type": "markdown",
     "checksum": "e46f54c7f81d88bbc950b0fae14c4ca5",
     "grade": false,
     "grade_id": "cell-3419fd3bc663d7cc",
     "locked": true,
     "schema_version": 3,
     "solution": false,
     "task": false
    }
   },
   "source": [
    "---\n",
    "### 4.1 Read relevance labels\n",
    "\n",
    "Let's take a look at the `qrels.text` file, which contains the ground truth relevance scores. The relevance labels for CACM are binary - either 0 or 1. \n"
   ]
  },
  {
   "cell_type": "code",
   "execution_count": 57,
   "metadata": {
    "deletable": false,
    "editable": false,
    "nbgrader": {
     "cell_type": "code",
     "checksum": "6c11025f5a222796f2882c73c1634799",
     "grade": false,
     "grade_id": "cell-6b738366059dde9e",
     "locked": true,
     "schema_version": 3,
     "solution": false,
     "task": false
    }
   },
   "outputs": [
    {
     "name": "stdout",
     "output_type": "stream",
     "text": [
      "01 1410  0 0\n",
      "01 1572  0 0\n",
      "01 1605  0 0\n",
      "01 2020  0 0\n",
      "01 2358  0 0\n",
      "02 2434  0 0\n",
      "02 2863  0 0\n",
      "02 3078  0 0\n",
      "03 1134  0 0\n",
      "03 1613  0 0\n"
     ]
    }
   ],
   "source": [
    "!head ./datasets/qrels.text"
   ]
  },
  {
   "cell_type": "markdown",
   "metadata": {
    "deletable": false,
    "editable": false,
    "nbgrader": {
     "cell_type": "markdown",
     "checksum": "7ce95245c1597183320d7254afde5c8e",
     "grade": false,
     "grade_id": "cell-10e16bff2753ffbb",
     "locked": true,
     "schema_version": 3,
     "solution": false,
     "task": false
    }
   },
   "source": [
    "---\n",
    "\n",
    "The first column is the query_id and the second column is the document_id. We can safely ignore the 3rd and 4th columns."
   ]
  },
  {
   "cell_type": "code",
   "execution_count": 58,
   "metadata": {
    "deletable": false,
    "nbgrader": {
     "cell_type": "code",
     "checksum": "000c6d59dce08dba0ba1e8d691dbbc2e",
     "grade": false,
     "grade_id": "cell-ee5253a4ef602fce",
     "locked": false,
     "schema_version": 3,
     "solution": true,
     "task": false
    }
   },
   "outputs": [],
   "source": [
    "# YOUR CODE HERE\n",
    "def read_qrels(root_folder = \"./datasets/\"):\n",
    "    \"\"\"\n",
    "        Reads the qrels.text file. \n",
    "        Output: A dictionary: query_id -> [list of relevant documents]\n",
    "    \"\"\"\n",
    "    with open(os.path.join(root_folder, \"qrels.text\")) as reader:\n",
    "        lines = reader.readlines()\n",
    "    \n",
    "    relevant_docs = defaultdict(set)\n",
    "    for line in lines:\n",
    "        query_id, doc_id, _, _ = line.split()\n",
    "        relevant_docs[str(int(query_id))].add(doc_id)\n",
    "    return relevant_docs\n",
    "# raise NotImplementedError()\n"
   ]
  },
  {
   "cell_type": "code",
   "execution_count": 59,
   "metadata": {
    "deletable": false,
    "editable": false,
    "nbgrader": {
     "cell_type": "code",
     "checksum": "d60caeba85c2a97d2211184a5ae91fd1",
     "grade": false,
     "grade_id": "cell-72215605fbe24f65",
     "locked": true,
     "schema_version": 3,
     "solution": false,
     "task": false
    }
   },
   "outputs": [],
   "source": [
    "#### Function check\n",
    "qrels = read_qrels()\n",
    "\n",
    "assert len(qrels) == 52, \"There should be 52 queries with relevance judgements\"\n",
    "assert sum(len(j) for j in qrels.values()) == 796, \"There should be a total of 796 Relevance Judgements\"\n",
    "\n",
    "assert np.min(np.array([len(j) for j in qrels.values()])) == 1\n",
    "assert np.max(np.array([len(j) for j in qrels.values()])) == 51\n",
    "\n",
    "####"
   ]
  },
  {
   "cell_type": "markdown",
   "metadata": {
    "deletable": false,
    "editable": false,
    "nbgrader": {
     "cell_type": "markdown",
     "checksum": "6c9e7428a52e291a2cdf92a379730d4c",
     "grade": false,
     "grade_id": "cell-176a6fb2939d0420",
     "locked": true,
     "schema_version": 3,
     "solution": false,
     "task": false
    }
   },
   "source": [
    "---\n",
    "**Note:** For a given query `query_id`, you can assume that documents *not* in `qrels[query_id]` are not relevant to `query_id`. \n"
   ]
  },
  {
   "cell_type": "markdown",
   "metadata": {
    "deletable": false,
    "editable": false,
    "nbgrader": {
     "cell_type": "markdown",
     "checksum": "b26a818c7b4f7ad490e00b35ea0edd69",
     "grade": false,
     "grade_id": "cell-bd8341b72cdd89bb",
     "locked": true,
     "schema_version": 3,
     "solution": false,
     "task": false
    }
   },
   "source": [
    "---\n",
    "### 4.2 Precision (7 points)\n",
    "Implement the `precision@k` metric:"
   ]
  },
  {
   "cell_type": "code",
   "execution_count": 60,
   "metadata": {
    "deletable": false,
    "nbgrader": {
     "cell_type": "code",
     "checksum": "43dea1979ebdec24ffcfeff71c670433",
     "grade": false,
     "grade_id": "cell-494bd0cce108ed67",
     "locked": false,
     "schema_version": 3,
     "solution": true,
     "task": false
    }
   },
   "outputs": [],
   "source": [
    "# TODO: Implement this! (7 points)\n",
    "def precision_k(results, relevant_docs, k):\n",
    "    \"\"\"\n",
    "        Compute Precision@K\n",
    "        Input: \n",
    "            results: A sorted list of 2-tuples (document_id, score), \n",
    "                    with the most relevant document in the first position\n",
    "            relevant_docs: A set of relevant documents. \n",
    "            k: the cut-off\n",
    "        Output: Precision@K\n",
    "    \"\"\"\n",
    "    if k > len(results):\n",
    "        k = len(results)\n",
    "    # YOUR CODE HERE\n",
    "    relevant_items = 0\n",
    "    for result in results[:k]:\n",
    "        if result[0] in relevant_docs:\n",
    "            relevant_items += 1\n",
    "\n",
    "    return relevant_items/k\n",
    "    # raise NotImplementedError()"
   ]
  },
  {
   "cell_type": "code",
   "execution_count": 61,
   "metadata": {
    "deletable": false,
    "editable": false,
    "nbgrader": {
     "cell_type": "code",
     "checksum": "9222e35582b1840ffb60fd02fb0b60c3",
     "grade": true,
     "grade_id": "cell-e7ff0d91c319ca64",
     "locked": true,
     "points": 7,
     "schema_version": 3,
     "solution": false,
     "task": false
    }
   },
   "outputs": [
    {
     "name": "stdout",
     "output_type": "stream",
     "text": [
      "query: What articles exist which deal with TSS (Time Sharing System), an\n",
      "operating system for IBM computers?\n",
      "precision@10 = 0.2\n"
     ]
    }
   ],
   "source": [
    "\n",
    "#### Function check\n",
    "qid = queries[0][0]\n",
    "qtext = queries[0][1]\n",
    "print(f'query:{qtext}')\n",
    "results = bm25_search(qtext, 2)\n",
    "precision = precision_k(results, qrels[qid], 10)\n",
    "print(f'precision@10 = {precision}')\n",
    "####"
   ]
  },
  {
   "cell_type": "markdown",
   "metadata": {
    "deletable": false,
    "editable": false,
    "nbgrader": {
     "cell_type": "markdown",
     "checksum": "8fd3b3998197c7097a40348500affb68",
     "grade": false,
     "grade_id": "cell-afd95f865bc7191e",
     "locked": true,
     "schema_version": 3,
     "solution": false,
     "task": false
    }
   },
   "source": [
    "---\n",
    "### 4.3 Recall (7 points)\n",
    "Implement the `recall@k` metric:"
   ]
  },
  {
   "cell_type": "code",
   "execution_count": 62,
   "metadata": {
    "deletable": false,
    "nbgrader": {
     "cell_type": "code",
     "checksum": "b2020e5741ae03b3fe35817ed8f4ccaa",
     "grade": false,
     "grade_id": "cell-c323fc8c3f8a7cf8",
     "locked": false,
     "schema_version": 3,
     "solution": true,
     "task": false
    }
   },
   "outputs": [],
   "source": [
    "# TODO: Implement this! (7 points)\n",
    "def recall_k(results, relevant_docs, k):\n",
    "    \"\"\"\n",
    "        Compute Recall@K\n",
    "        Input: \n",
    "            results: A sorted list of 2-tuples (document_id, score), with the most relevant document in the first position\n",
    "            relevant_docs: A set of relevant documents. \n",
    "            k: the cut-off\n",
    "        Output: Recall@K\n",
    "    \"\"\"\n",
    "    # YOUR CODE HERE\n",
    "    results_k = results[:k]\n",
    "    relevant_n = len(relevant_docs)\n",
    "    count = 0\n",
    "    for retrieved in results_k:\n",
    "        for d in relevant_docs:\n",
    "            if retrieved[0] == d:\n",
    "                count += 1\n",
    "    \n",
    "    return count/relevant_n\n",
    "    # raise NotImplementedError()"
   ]
  },
  {
   "cell_type": "code",
   "execution_count": 63,
   "metadata": {
    "deletable": false,
    "editable": false,
    "nbgrader": {
     "cell_type": "code",
     "checksum": "56b6e0b8522f8b2dffbfb3206b2efa84",
     "grade": true,
     "grade_id": "cell-b25172161aef165c",
     "locked": true,
     "points": 7,
     "schema_version": 3,
     "solution": false,
     "task": false
    }
   },
   "outputs": [
    {
     "name": "stdout",
     "output_type": "stream",
     "text": [
      "query: SETL, Very High Level Languages\n",
      "recall@10 = 0.3157894736842105\n"
     ]
    }
   ],
   "source": [
    "#### Function check\n",
    "qid = queries[10][0]\n",
    "qtext = queries[10][1]\n",
    "print(f'query:{qtext}')\n",
    "results = bm25_search(qtext, 2)\n",
    "recall = recall_k(results, qrels[qid], 10)\n",
    "print(f'recall@10 = {recall}')\n",
    "####"
   ]
  },
  {
   "cell_type": "markdown",
   "metadata": {
    "deletable": false,
    "editable": false,
    "nbgrader": {
     "cell_type": "markdown",
     "checksum": "b3d3c7bd1cd977cd07ef5df7d3fbf159",
     "grade": false,
     "grade_id": "cell-77fd2e7a39a74739",
     "locked": true,
     "schema_version": 3,
     "solution": false,
     "task": false
    }
   },
   "source": [
    "---\n",
    "### 4.4 Mean Average Precision (13 points)\n",
    "Implement the `map` metric:"
   ]
  },
  {
   "cell_type": "code",
   "execution_count": 64,
   "metadata": {
    "deletable": false,
    "nbgrader": {
     "cell_type": "code",
     "checksum": "aae2c62f2ffd76f5b6c004e9519b9f14",
     "grade": false,
     "grade_id": "cell-e50925fa9093a30d",
     "locked": false,
     "schema_version": 3,
     "solution": true,
     "task": false
    }
   },
   "outputs": [],
   "source": [
    "# TODO: Implement this! (12 points)\n",
    "def average_precision(results, relevant_docs):\n",
    "    \"\"\"\n",
    "        Compute Average Precision (for a single query - the results are \n",
    "        averaged across queries to get MAP in the next few cells)\n",
    "        Hint: You can use the recall_k and precision_k functions here!\n",
    "        Input: \n",
    "            results: A sorted list of 2-tuples (document_id, score), with the most \n",
    "                    relevant document in the first position\n",
    "            relevant_docs: A set of relevant documents. \n",
    "        Output: Average Precision\n",
    "    \"\"\"\n",
    "    # YOUR CODE HERE\n",
    "    n = len(results)\n",
    "    relevant_n = len(relevant_docs)\n",
    "    precision_sum = 0\n",
    "\n",
    "    for k, result in enumerate(results):\n",
    "        if result[0] in relevant_docs:\n",
    "            precision_sum += precision_k(results, relevant_docs, k+1)\n",
    "    return precision_sum/relevant_n\n",
    "    # raise NotImplementedError()"
   ]
  },
  {
   "cell_type": "code",
   "execution_count": 65,
   "metadata": {
    "deletable": false,
    "editable": false,
    "nbgrader": {
     "cell_type": "code",
     "checksum": "3b00e147c2fa146fa59f179b7c9cab75",
     "grade": true,
     "grade_id": "cell-8a1f7ec98571e58b",
     "locked": true,
     "points": 13,
     "schema_version": 3,
     "solution": false,
     "task": false
    }
   },
   "outputs": [
    {
     "name": "stdout",
     "output_type": "stream",
     "text": [
      "query: computational complexity, intractability, class-complete reductions,\n",
      "algorithms and efficiency\n",
      "MAP = 0.17240404110559454\n"
     ]
    }
   ],
   "source": [
    "#### Function check\n",
    "qid = queries[20][0]\n",
    "qtext = queries[20][1]\n",
    "print(f'query:{qtext}')\n",
    "results = bm25_search(qtext, 2)\n",
    "mean_ap = average_precision(results, qrels[qid])\n",
    "print(f'MAP = {mean_ap}')\n",
    "####"
   ]
  },
  {
   "cell_type": "markdown",
   "metadata": {
    "deletable": false,
    "editable": false,
    "nbgrader": {
     "cell_type": "markdown",
     "checksum": "36f85f45ef52d9467ba9a717d6d99ff2",
     "grade": false,
     "grade_id": "cell-1da18f0fe6f6d7be",
     "locked": true,
     "schema_version": 3,
     "solution": false,
     "task": false
    }
   },
   "source": [
    "---\n",
    "### 4.5 Expected Reciprocal Rank (13 points)\n",
    "Implement the `err` metric:"
   ]
  },
  {
   "cell_type": "code",
   "execution_count": 66,
   "metadata": {
    "deletable": false,
    "nbgrader": {
     "cell_type": "code",
     "checksum": "9ac94db728e23ea1f5dc0d509473c6fb",
     "grade": false,
     "grade_id": "cell-64262889f9b267ea",
     "locked": false,
     "schema_version": 3,
     "solution": true,
     "task": false
    }
   },
   "outputs": [],
   "source": [
    "# TODO: Implement this! (12 points)\n",
    "def err(results, relevant_docs):\n",
    "    \"\"\"\n",
    "        Compute the expected reciprocal rank.\n",
    "        Hint: https://dl.acm.org/doi/pdf/10.1145/1645953.1646033?download=true\n",
    "        Input: \n",
    "            results: A sorted list of 2-tuples (document_id, score), with the most \n",
    "                    relevant document in the first position\n",
    "            relevant_docs: A set of relevant documents. \n",
    "        Output: ERR\n",
    "        \n",
    "    \"\"\"\n",
    "    # YOUR CODE HERE\n",
    "    p = 1\n",
    "    err = 0\n",
    "    for i, (doc, _) in enumerate(results):\n",
    "        if doc in relevant_docs:\n",
    "            R_g = (2**1 - 1)/(2**1)\n",
    "        else:\n",
    "            R_g = 0\n",
    "        err += p * R_g/(i+1)\n",
    "        p *= (1-R_g)\n",
    "\n",
    "    return err\n",
    "    # raise NotImplementedError()"
   ]
  },
  {
   "cell_type": "code",
   "execution_count": 67,
   "metadata": {
    "deletable": false,
    "editable": false,
    "nbgrader": {
     "cell_type": "code",
     "checksum": "b7d201de0990b69d5f38704668665d87",
     "grade": true,
     "grade_id": "cell-071e3970ff1afae4",
     "locked": true,
     "points": 13,
     "schema_version": 3,
     "solution": false,
     "task": false
    }
   },
   "outputs": [
    {
     "name": "stdout",
     "output_type": "stream",
     "text": [
      "query: I'd like to find articles describing the use of singular value decomposition\n",
      "in digital image processing.  Applications include finding approximations\n",
      "to the original image and restoring images that are subject to noise. An\n",
      "article on the subject is H.C. Andrews and C.L. Patterson \"Outer product\n",
      "expansions and their uses in digital image processing\", American Mathematical\n",
      "Monthly, vol. 82.\n",
      "ERR = 0.625\n"
     ]
    }
   ],
   "source": [
    "#### Function check\n",
    "qid = queries[30][0]\n",
    "qtext = queries[30][1]\n",
    "print(f'query:{qtext}')\n",
    "results = bm25_search(qtext, 2)\n",
    "ERR = err(results, qrels[qid])\n",
    "print(f'ERR = {ERR}')\n",
    "####"
   ]
  },
  {
   "cell_type": "markdown",
   "metadata": {
    "deletable": false,
    "editable": false,
    "nbgrader": {
     "cell_type": "markdown",
     "checksum": "5bd94caf77cfa5f34675df758d91002d",
     "grade": false,
     "grade_id": "cell-43709a765f353946",
     "locked": true,
     "schema_version": 3,
     "solution": false,
     "task": false
    }
   },
   "source": [
    "---\n",
    "### 4.6 Evaluate Search Functions\n",
    "\n",
    "Let's define some metrics@k using [partial functions](https://docs.python.org/3/library/functools.html#functools.partial)"
   ]
  },
  {
   "cell_type": "code",
   "execution_count": 68,
   "metadata": {
    "deletable": false,
    "editable": false,
    "nbgrader": {
     "cell_type": "code",
     "checksum": "49ccc158e5fb7340ace55e90eeb9d62a",
     "grade": false,
     "grade_id": "cell-dab560e18e340da8",
     "locked": true,
     "schema_version": 3,
     "solution": false,
     "task": false
    }
   },
   "outputs": [],
   "source": [
    "#### metrics@k functions\n",
    "\n",
    "recall_at_1 = partial(recall_k, k=1)\n",
    "recall_at_5 = partial(recall_k, k=5)\n",
    "recall_at_10 = partial(recall_k, k=10)\n",
    "precision_at_1 = partial(precision_k, k=1)\n",
    "precision_at_5 = partial(precision_k, k=5)\n",
    "precision_at_10 = partial(precision_k, k=10)\n",
    "\n",
    "\n",
    "list_of_metrics = [\n",
    "    (\"ERR\", err),\n",
    "    (\"MAP\", average_precision),\n",
    "    (\"Recall@1\",recall_at_1),\n",
    "    (\"Recall@5\", recall_at_5),\n",
    "    (\"Recall@10\", recall_at_10),\n",
    "    (\"Precision@1\", precision_at_1),\n",
    "    (\"Precision@5\", precision_at_5),\n",
    "    (\"Precision@10\", precision_at_10)]\n",
    "####"
   ]
  },
  {
   "cell_type": "markdown",
   "metadata": {
    "deletable": false,
    "editable": false,
    "nbgrader": {
     "cell_type": "markdown",
     "checksum": "fb541002c03221b453b8936290020ea5",
     "grade": false,
     "grade_id": "cell-580a2bdc66d03b47",
     "locked": true,
     "schema_version": 3,
     "solution": false,
     "task": false
    }
   },
   "source": [
    "---\n",
    "\n",
    "The following function evaluates a `search_fn` using the `metric_fn`. Note that the final number is averaged over all the queries"
   ]
  },
  {
   "cell_type": "code",
   "execution_count": 69,
   "metadata": {},
   "outputs": [],
   "source": [
    "#### Evaluate a search function\n",
    "\n",
    "list_of_search_fns = [\n",
    "    (\"BOW\", bow_search),\n",
    "    (\"TF-IDF\", tfidf_search),\n",
    "    (\"NaiveQL\", naive_ql_search),\n",
    "    (\"QL\", ql_search),\n",
    "    (\"BM25\", bm25_search)\n",
    "]\n",
    "\n",
    "def evaluate_search_fn(search_fn, metric_fns, index_set=None):\n",
    "    # build a dict query_id -> query \n",
    "    queries_by_id = dict((q[0], q[1]) for q in queries)\n",
    "    \n",
    "    metrics = {}\n",
    "    for metric, metric_fn in metric_fns:\n",
    "        metrics[metric] = np.zeros(len(qrels), dtype=np.float32)\n",
    "    \n",
    "    for i, (query_id, relevant_docs) in enumerate(qrels.items()):\n",
    "        query = queries_by_id[query_id]\n",
    "        if index_set:\n",
    "            results = search_fn(query, index_set)\n",
    "        else:\n",
    "            results = search_fn(query)\n",
    "        \n",
    "        for metric, metric_fn in metric_fns:\n",
    "            metrics[metric][i] = metric_fn(results, relevant_docs)\n",
    "\n",
    "    \n",
    "    \n",
    "    final_dict = {}\n",
    "    for metric, metric_vals in metrics.items():\n",
    "        final_dict[metric] = metric_vals.mean()\n",
    "    \n",
    "    return final_dict\n",
    "####"
   ]
  },
  {
   "cell_type": "markdown",
   "metadata": {
    "deletable": false,
    "editable": false,
    "nbgrader": {
     "cell_type": "markdown",
     "checksum": "6ea67534f74a8f81e1f504794f641709",
     "grade": false,
     "grade_id": "cell-b156d83a0649cbb4",
     "locked": true,
     "schema_version": 3,
     "solution": false,
     "task": false
    }
   },
   "source": [
    "## Section 5: Analysis (30 points) <a class=\"anchor\" id=\"analysis\"></a>\n",
    "\n",
    "[Back to Part 1](#part1)\n",
    "\n",
    "In the final section of Part1, we will compare the different term-based IR algorithms and different preprocessing configurations and analyze their advantages and disadvantages.\n",
    "\n",
    "### Section 5.1: Plot (20 points)\n",
    "\n",
    "First, gather the results. The results should consider the index set, the different search functions and different metrics. Plot the results in bar charts, per metric, with clear labels.\n",
    "\n",
    "**Rubric:**\n",
    "- Each Metric is plotted: 7 points\n",
    "- Each Method is plotted: 7 points\n",
    "- Clear titles, x label, y labels and legends (if applicable): 6 points"
   ]
  },
  {
   "cell_type": "code",
   "execution_count": 70,
   "metadata": {
    "deletable": false,
    "nbgrader": {
     "cell_type": "code",
     "checksum": "7e2588a925d13ddf588abe8311dc9cfc",
     "grade": true,
     "grade_id": "cell-46fda42a25863a04",
     "locked": false,
     "points": 20,
     "schema_version": 3,
     "solution": true,
     "task": false
    }
   },
   "outputs": [
    {
     "name": "stderr",
     "output_type": "stream",
     "text": [
      "C:\\Users\\irene\\AppData\\Local\\Continuum\\anaconda3\\envs\\ir2022\\lib\\site-packages\\ipykernel_launcher.py:30: UserWarning: You have mixed positional and keyword arguments, some input may be discarded.\n"
     ]
    },
    {
     "data": {
      "image/png": "[encoded data removed]",
      "text/plain": [
       "<Figure size 1875x1200 with 8 Axes>"
      ]
     },
     "metadata": {
      "needs_background": "light"
     },
     "output_type": "display_data"
    }
   ],
   "source": [
    "# YOUR CODE HERE\n",
    "results = {}\n",
    "for name_fn, search_fn in list_of_search_fns:\n",
    "    for index_set in {1, 2}:\n",
    "        results[(name_fn, index_set)] = evaluate_search_fn(search_fn, list_of_metrics, index_set)\n",
    "\n",
    "search_fns = [\"BOW\", \"TF-IDF\", \"NaiveQL\", \"QL\", \"BM25\"]\n",
    "metrics = [\"ERR\", \"MAP\", \"Recall@1\", \"Recall@5\", \"Recall@10\", \"Precision@1\", \"Precision@5\", \"Precision@10\"]\n",
    "X = np.arange(len(search_fns))\n",
    "\n",
    "fig, ax = plt.subplots(2, 4, figsize=(12.5, 8), sharey=True, dpi=150)\n",
    "\n",
    "for i, metric in enumerate(metrics):\n",
    "    metric_results = []\n",
    "    for index_set in {1, 2}:\n",
    "        index_results = []\n",
    "        for name_fn, search_fn in list_of_search_fns:\n",
    "            index_results.append(results[(name_fn, index_set)][metric])\n",
    "        metric_results.append(index_results)\n",
    "    ax[i // 4, i % 4].bar(X - 0.15, metric_results[0], width = 0.3)\n",
    "    ax[i // 4, i % 4].bar(X + 0.15, metric_results[1], width = 0.3)\n",
    "    ax[i // 4, i % 4].set_title(metric)\n",
    "    ax[i // 4, i % 4].set_xticks(X)\n",
    "    ax[i // 4, i % 4].set_xticklabels(search_fns, rotation=45)\n",
    "    ax[i // 4, i % 4].grid(axis='y')\n",
    "    ax[i // 4, i % 4].set_axisbelow(True)\n",
    "    handles,_ = ax[i // 4, i % 4].get_legend_handles_labels()\n",
    "    \n",
    "plt.suptitle(\"Term Based Evaluation (with and without Preprocessing)\", fontsize=16)\n",
    "fig.legend(handles,labels=['no preprocessing', 'preprocessing'],loc='lower center',ncol=2)\n",
    "fig.tight_layout(rect=[0, 0.03, 1, 0.95])\n",
    "plt.show()\n",
    "\n",
    "# raise NotImplementedError()"
   ]
  },
  {
   "cell_type": "markdown",
   "metadata": {
    "deletable": false,
    "editable": false,
    "nbgrader": {
     "cell_type": "markdown",
     "checksum": "e88c444a0acf4e398c65e289169b75f7",
     "grade": false,
     "grade_id": "cell-8aabe3bcf265deb0",
     "locked": true,
     "points": 10,
     "schema_version": 3,
     "solution": false,
     "task": true
    }
   },
   "source": [
    "---\n",
    "### Section 5.2: Summary (10 points)\n",
    "Write a summary of what you observe in the results.\n",
    "Your summary should compare results across the 2 indices and the methods being used. State what you expected to see in the results, followed by either supporting evidence *or* justify why the results did not support your expectations.      "
   ]
  },
  {
   "cell_type": "markdown",
   "metadata": {},
   "source": [
    "---\n",
    "\n",
    "We would generally expect a better performance on the pre-processed index for all metrics. Indeed, we can see that all performance metrics increase at least slightly for all search methods when pre-processing the dataset. By removing stop words we are in most cases removing words which do not add any meaningful information, making our results better for all metrics. Additionally stemming makes all derived terms the same as the root term. This mapping will make term based matching methods produce higher scores for semantically similar but morphologically different terms. \n",
    "\n",
    "BM25 is in all cases, except at precision@1, is the best performing method. On the other hand, the worst method is naive QL, which only performs better than BOW for precision@1 but produces the lowest performance for all other metrics. This is expected because, in the absence of smoothing, documents that do not contain all query words are strongly penalized (i.e., they receive a score of zero). \n",
    "\n",
    "We expected Jelinek-Mercer smoothing to resolve the limitations of the naive QL method and indeed its performance significantly improves, almost matching that of BM25, especially on the pre-processed collection. BOW also has generally poor performance as expected, as it is the model that leverages the least amount of collection-level information.\n",
    "\n",
    "TF-IDF generally performs well for all metrics, even outperforming BM25 at precision@1. This similar performance is not surprising given that, at its core, BM25 can be described as a reweighted version of TF-IDF.\n",
    "\n",
    "All the methods have a low performance on recall@1 which is expected if there are more than one relevant document for the various queries. In this case, recall@1 is likely an inadequate performance metric. We expect increasing performance on recall with increasing k, as it is more likely that the methods will find more relevant documents. On the other hand we expect the reverse trend for precision, as k increases faster than the number of relevant documents found. This trend is reflected in the data above.\n",
    "\n",
    "---\n"
   ]
  },
  {
   "cell_type": "markdown",
   "metadata": {
    "deletable": false,
    "editable": false,
    "nbgrader": {
     "cell_type": "markdown",
     "checksum": "b3eb77be74eecca205fc7b47316d1627",
     "grade": false,
     "grade_id": "cell-bb60dd5c092d0f2e",
     "locked": true,
     "schema_version": 3,
     "solution": false,
     "task": false
    }
   },
   "source": [
    "---\n",
    "---\n",
    "# Part 2: Semantic-based Matching (85 points) <a class=\"anchor\" id=\"part2\"></a>\n",
    "\n",
    "[Back to top](#top)\n",
    "\n",
    "We will now experiment with methods that go beyond lexical methods like TF-IDF, which operate at the word level and are high dimensional and sparse, and look at methods which constructs low dimensional dense representations of queries and documents. \n",
    "\n",
    "Since these low-dimensional methods have a higher time complexity, they are typically used in conjunction with methods like BM-25. That is, instead of searching through potentially million documents to find matches using low dimensional vectors, a list of K documents are retrieved using BM25, and then **re-ranked** using the other method. This is the method that is going to be applied in the following exercises. \n",
    "\n",
    "LSI/LDA takes documents that are similar on a semantic level - for instance, if they are describing the same topic - and projects them into nearby vectors, despite having low lexical overlap.\n",
    "\n",
    "In this assignment, you will use `gensim` to create LSI/LDA models and use them in re-ranking. \n",
    "\n",
    "**Note**: The following exercises only uses `doc_repr_2` and `config_2`\n",
    "\n",
    "Table of contents:\n",
    "- [Section 6: LSI](#lsi) (15 points)\n",
    "- [Section 7: LDA](#lda) (10 points)\n",
    "- [Section 8: Word2Vec/Doc2Vec](#2vec) (20 points)\n",
    "- [Section 8: Re-ranking](#reranking) (10 points)\n",
    "- [Section 9: Re-ranking Evaluation](#reranking_eval) (30 points)"
   ]
  },
  {
   "cell_type": "markdown",
   "metadata": {
    "deletable": false,
    "editable": false,
    "nbgrader": {
     "cell_type": "markdown",
     "checksum": "f7c7b2cab82f576ed0acf836ca57171c",
     "grade": false,
     "grade_id": "cell-6b2c81e7a8abd180",
     "locked": true,
     "schema_version": 3,
     "solution": false,
     "task": false
    }
   },
   "source": [
    "---\n",
    "## Section 6: Latent Semantic Indexing (LSI) (15 points) <a class=\"anchor\" id=\"lsi\"></a>\n",
    "\n",
    "[Back to Part 2](#part2)\n",
    "\n",
    "LSI is one of the methods to embed the queries and documents into vectors. It is based on a method similar to Principal Component Analysis (PCA) for obtaining a dense concept matrix out of the sparse term-document matrix.\n",
    "\n",
    "See [wikipedia](https://en.wikipedia.org/wiki/Latent_semantic_analysis), particularly [#Mathematics_of_LSI](https://en.wikipedia.org/wiki/Latent_semantic_analysis#Mathematics_of_LSI)."
   ]
  },
  {
   "cell_type": "code",
   "execution_count": 71,
   "metadata": {
    "deletable": false,
    "editable": false,
    "nbgrader": {
     "cell_type": "code",
     "checksum": "c17ee75319cb517e2bf48ec3d9efc329",
     "grade": false,
     "grade_id": "cell-59913daee47f680d",
     "locked": true,
     "schema_version": 3,
     "solution": false,
     "task": false
    }
   },
   "outputs": [],
   "source": [
    "from gensim.corpora import Dictionary\n",
    "from gensim.models import LdaModel, LsiModel, Word2Vec\n",
    "from gensim.models.doc2vec import Doc2Vec, TaggedDocument\n",
    "from gensim import downloader as g_downloader\n",
    "# gensim uses logging, so set it up \n",
    "import logging\n",
    "logging.basicConfig(format='%(asctime)s : %(levelname)s : %(message)s', level=logging.INFO)"
   ]
  },
  {
   "cell_type": "markdown",
   "metadata": {
    "deletable": false,
    "editable": false,
    "nbgrader": {
     "cell_type": "markdown",
     "checksum": "5fce140c546759b54a9fc060901ae77c",
     "grade": false,
     "grade_id": "cell-3644faff4976598a",
     "locked": true,
     "schema_version": 3,
     "solution": false,
     "task": false
    }
   },
   "source": [
    "---\n",
    "### Section 6.1: Cosine Similarity (5 points)<a class=\"anchor\" id=\"cosing_sim\"></a>\n",
    "Before we begin, let us first define our method of similarity for the LSI model, the cosine similarity:\n",
    "\n",
    "$$\\text{similarity} = \\cos(\\theta) = {\\mathbf{A} \\cdot \\mathbf{B} \\over \\|\\mathbf{A}\\| \\|\\mathbf{B}\\|} = \\frac{ \\sum\\limits_{i=1}^{n}{A_i  B_i} }{ \\sqrt{\\sum\\limits_{i=1}^{n}{A_i^2}}  \\sqrt{\\sum\\limits_{i=1}^{n}{B_i^2}} }$$\n",
    "\n",
    "Since we are using gensim, the types of vectors returned by their classes are of the form defined below (they are not just simple vectors):"
   ]
  },
  {
   "cell_type": "code",
   "execution_count": 72,
   "metadata": {
    "deletable": false,
    "editable": false,
    "nbgrader": {
     "cell_type": "code",
     "checksum": "4e340e1a1d546f430c018fd0760e707a",
     "grade": false,
     "grade_id": "cell-3995a50f951314d5",
     "locked": true,
     "schema_version": 3,
     "solution": false,
     "task": false
    }
   },
   "outputs": [],
   "source": [
    "# 1, 2, 3 are either latent dimensions (LSI), or topics (LDA)\n",
    "# The second value in each tuple is a number (LSI) or a probability (LDA)  \n",
    "example_vec_1 = [(1, 0.2), (2, 0.3), (3, 0.4)]\n",
    "example_vec_2 = [(1, 0.2), (2, 0.7), (3, 0.4)]"
   ]
  },
  {
   "cell_type": "markdown",
   "metadata": {
    "deletable": false,
    "editable": false,
    "nbgrader": {
     "cell_type": "markdown",
     "checksum": "20832fd4f579f49ae204b0efee02edd1",
     "grade": false,
     "grade_id": "cell-5e54d581858dc8f7",
     "locked": true,
     "schema_version": 3,
     "solution": false,
     "task": false
    }
   },
   "source": [
    "---\n",
    "**Implementation (2+3 points):**\n",
    "Now, implement the `dot product` operation on these types of vectors and using this operator, implement the `cosine similarity` (don't forget: two functions to implement!):"
   ]
  },
  {
   "cell_type": "code",
   "execution_count": 73,
   "metadata": {
    "deletable": false,
    "nbgrader": {
     "cell_type": "code",
     "checksum": "06a712ee75fc213a21c5f0067fd8fe28",
     "grade": false,
     "grade_id": "cell-0e8189f5f93de33f",
     "locked": false,
     "schema_version": 3,
     "solution": true,
     "task": false
    }
   },
   "outputs": [],
   "source": [
    "# TODO: Implement this! (2 points)\n",
    "def dot(vec_1,vec_2): \n",
    "    \"\"\"\n",
    "        vec_1 and vec_2 are of the form: [(int, float), (int, float), ...]\n",
    "        Return the dot product of two such vectors, computed only on the floats\n",
    "        You can assume that the lengths of the vectors are the same, and the dimensions are aligned \n",
    "            i.e you won't get: vec_1 = [(1, 0.2)] ; vec_2 = [(2, 0.3)] \n",
    "                                (dimensions are unaligned and lengths are different)\n",
    "    \"\"\"\n",
    "    # YOUR CODE HERE\n",
    "    result = 0\n",
    "    for i, data in enumerate(vec_1):\n",
    "        result += vec_1[i][1]*vec_2[i][1]\n",
    "    return result\n",
    "    # raise NotImplementedError()\n",
    "\n",
    "\n",
    "\n",
    "# TODO: Implement this! (3 points)\n",
    "def cosine_sim(vec_1, vec_2):\n",
    "    # YOUR CODE HERE\n",
    "    if len(vec_1) == 0 or len(vec_2) == 0:\n",
    "        return 0\n",
    "    numerator = dot(vec_1, vec_2)\n",
    "    denominator = np.sqrt(dot(vec_1, vec_1))*np.sqrt(dot(vec_2, vec_2))\n",
    "\n",
    "    return numerator/denominator\n",
    "    # raise NotImplementedError()"
   ]
  },
  {
   "cell_type": "code",
   "execution_count": 74,
   "metadata": {
    "deletable": false,
    "editable": false,
    "nbgrader": {
     "cell_type": "code",
     "checksum": "d22a4a7325ba7815a808390388f534a1",
     "grade": true,
     "grade_id": "cell-b25d04ed6b79fd35",
     "locked": true,
     "points": 2,
     "schema_version": 3,
     "solution": false,
     "task": false
    }
   },
   "outputs": [
    {
     "name": "stdout",
     "output_type": "stream",
     "text": [
      "vectors: ([(1, 0.2), (2, 0.3), (3, 0.4)], [(1, 0.2), (2, 0.7), (3, 0.4)])\n",
      "dot product = 0.41000000000000003\n",
      "cosine similarity = 0.9165587597202866\n"
     ]
    }
   ],
   "source": [
    "##### Function check\n",
    "print(f'vectors: {(example_vec_1,example_vec_2)}')\n",
    "print(f'dot product = {dot(example_vec_1,example_vec_2)}')\n",
    "print(f'cosine similarity = {cosine_sim(example_vec_1,example_vec_2)}')\n",
    "##### "
   ]
  },
  {
   "cell_type": "code",
   "execution_count": 75,
   "metadata": {
    "deletable": false,
    "editable": false,
    "nbgrader": {
     "cell_type": "code",
     "checksum": "0744131724ce76b1b3f163b4bae5f700",
     "grade": true,
     "grade_id": "cell-ae3c4466866ace77",
     "locked": true,
     "points": 3,
     "schema_version": 3,
     "solution": false,
     "task": false
    }
   },
   "outputs": [],
   "source": [
    "#### Please do not change this. This cell is used for grading."
   ]
  },
  {
   "cell_type": "markdown",
   "metadata": {
    "deletable": false,
    "editable": false,
    "nbgrader": {
     "cell_type": "markdown",
     "checksum": "9b123f599f9ea372d14676e23f1c6a52",
     "grade": false,
     "grade_id": "cell-4b2534067c44fcdf",
     "locked": true,
     "schema_version": 3,
     "solution": false,
     "task": false
    }
   },
   "source": [
    "---\n",
    "### Section 6.2: LSI Retrieval (10 points)<a class=\"anchor\" id=\"lsi_retrieval\"></a>\n",
    "LSI retrieval is simply ranking the documents based on their cosine similarity to the query vector.\n",
    "First, let's write a parent class for vector-based retrieval models:"
   ]
  },
  {
   "cell_type": "code",
   "execution_count": 76,
   "metadata": {
    "deletable": false,
    "editable": false,
    "nbgrader": {
     "cell_type": "code",
     "checksum": "ecc111d58182570e2252b8ef5d6b02af",
     "grade": false,
     "grade_id": "cell-937936cea18711ee",
     "locked": true,
     "schema_version": 3,
     "solution": false,
     "task": false
    }
   },
   "outputs": [],
   "source": [
    "class VectorSpaceRetrievalModel:\n",
    "    \"\"\"\n",
    "        Parent class for Dense Vector Retrieval models\n",
    "    \"\"\"\n",
    "    def __init__(self, doc_repr):\n",
    "        \"\"\"\n",
    "            document_collection: \n",
    "                [\n",
    "                    (doc_id_1, [token 1, token 2, ...]), \n",
    "                    (doc_id_2, [token 1, token 2, ....]) \n",
    "                    ...\n",
    "                ]\n",
    "\n",
    "        \"\"\"\n",
    "        self.doc_repr = doc_repr\n",
    "        self.documents = [_[1] for _ in self.doc_repr]\n",
    "        \n",
    "        # construct a dictionary\n",
    "        self.dictionary = Dictionary(self.documents)\n",
    "        # Filter out words that occur less than 20 documents, or more than 50% of the documents.\n",
    "        self.dictionary.filter_extremes(no_below=10)\n",
    "        self.corpus = [self.dictionary.doc2bow(doc) for doc in self.documents]\n",
    "    \n",
    "        # Make a index to word dictionary.\n",
    "        temp = self.dictionary[0]  # This is only to \"load\" the dictionary.\n",
    "        self.id2word = self.dictionary.id2token\n",
    "        \n",
    "        # this is set by the train_model function\n",
    "        self.model = None\n",
    "        \n",
    "        \n",
    "    def vectorize_documents(self):\n",
    "        \"\"\"\n",
    "            Returns a doc_id -> vector dictionary\n",
    "        \"\"\"\n",
    "        vectors = {}\n",
    "        for (doc_id, _), cc in zip(self.doc_repr, self.corpus):\n",
    "            vectors[doc_id] = self.model[cc]\n",
    "        return vectors\n",
    "\n",
    "    def vectorize_query(self, query):\n",
    "        # Note the use of config_2 here!\n",
    "        query = process_text(query, **config_2)\n",
    "        query_vector = self.dictionary.doc2bow(query)\n",
    "        return self.model[query_vector]\n",
    "    \n",
    "    def train_model(self):\n",
    "        \"\"\"\n",
    "            Trains a model and sets the 'self.model' variable. \n",
    "            Make sure to use the variables created in the __init__ method.\n",
    "            e.g the variables which may be useful: {corpus, dictionary, id2word}\n",
    "        \"\"\"\n",
    "        raise NotImplementedError()"
   ]
  },
  {
   "cell_type": "markdown",
   "metadata": {
    "deletable": false,
    "editable": false,
    "nbgrader": {
     "cell_type": "markdown",
     "checksum": "ff161eefd9b81b768cd6361bc1a502b0",
     "grade": false,
     "grade_id": "cell-704a18c2f80cd60c",
     "locked": true,
     "schema_version": 3,
     "solution": false,
     "task": false
    }
   },
   "source": [
    "---\n",
    "**Implementation (5 points):**\n",
    "Implement the `train_model` method in the following class (note that this is only one line of code in `gensim`!). Ensure that the parameters defined in the `__init__` method are not changed, and are *used in the `train_method` function*. Normally, the hyperaparameter space will be searched using grid search / other methods - in this assignment we have provided the hyperparameters for you.\n",
    "\n",
    "The last two lines of code train an LSI model on the list of documents which have been stemmed, lower-cased and have stopwords removed. "
   ]
  },
  {
   "cell_type": "code",
   "execution_count": 77,
   "metadata": {
    "deletable": false,
    "nbgrader": {
     "cell_type": "code",
     "checksum": "0e90eedc27c248bc1ae050518a46a46c",
     "grade": false,
     "grade_id": "cell-307682c9089f15d6",
     "locked": false,
     "schema_version": 3,
     "solution": true,
     "task": false
    }
   },
   "outputs": [],
   "source": [
    "# TODO: Implement this! (5 points)\n",
    "class LsiRetrievalModel(VectorSpaceRetrievalModel):\n",
    "    def __init__(self, doc_repr):\n",
    "        super().__init__(doc_repr)\n",
    "        \n",
    "        self.num_topics = 100\n",
    "        self.chunksize = 2000\n",
    "    \n",
    "    def train_model(self):\n",
    "        # YOUR CODE HERE\n",
    "        self.model = LsiModel(corpus = self.corpus, \n",
    "                              id2word = self.id2word, \n",
    "                              num_topics = self.num_topics, \n",
    "                              chunksize = self.chunksize)\n",
    "        # raise NotImplementedError()"
   ]
  },
  {
   "cell_type": "code",
   "execution_count": 78,
   "metadata": {
    "deletable": false,
    "editable": false,
    "nbgrader": {
     "cell_type": "code",
     "checksum": "00399cfe13d60cb4beed1271e36004b0",
     "grade": true,
     "grade_id": "cell-5ce512650c1b2dfb",
     "locked": true,
     "points": 0,
     "schema_version": 3,
     "solution": false,
     "task": false
    }
   },
   "outputs": [
    {
     "name": "stderr",
     "output_type": "stream",
     "text": [
      "2022-02-28 17:54:17,444 : INFO : adding document #0 to Dictionary(0 unique tokens: [])\n",
      "2022-02-28 17:54:17,574 : INFO : built Dictionary(5937 unique tokens: ['-', 'algebra', 'intern', 'languag', 'preliminari']...) from 3204 documents (total 115969 corpus positions)\n",
      "2022-02-28 17:54:17,581 : INFO : discarding 4740 tokens: [('repeat', 8), ('glossari', 7), ('inspect', 8), ('uncol', 2), ('rung', 9), ('secant', 2), ('.', 1603), ('acceler', 6), ('diverg', 3), ('induc', 9)]...\n",
      "2022-02-28 17:54:17,583 : INFO : keeping 1197 tokens which were in no less than 10 and no more than 1602 (=50.0%) documents\n",
      "2022-02-28 17:54:17,585 : INFO : resulting dictionary: Dictionary(1197 unique tokens: ['-', 'algebra', 'intern', 'languag', 'preliminari']...)\n",
      "2022-02-28 17:54:17,652 : INFO : using serial LSI version on this node\n",
      "2022-02-28 17:54:17,653 : INFO : updating model with new documents\n",
      "2022-02-28 17:54:17,653 : INFO : preparing a new chunk of documents\n",
      "2022-02-28 17:54:17,664 : INFO : using 100 extra samples and 2 power iterations\n",
      "2022-02-28 17:54:17,666 : INFO : 1st phase: constructing (1197, 200) action matrix\n",
      "2022-02-28 17:54:17,682 : INFO : orthonormalizing (1197, 200) action matrix\n",
      "2022-02-28 17:54:17,781 : INFO : 2nd phase: running dense svd on (200, 2000) matrix\n",
      "2022-02-28 17:54:17,855 : INFO : computing the final decomposition\n",
      "2022-02-28 17:54:17,856 : INFO : keeping 100 factors (discarding 13.464% of energy spectrum)\n",
      "2022-02-28 17:54:17,858 : INFO : processed documents up to #2000\n",
      "2022-02-28 17:54:17,859 : INFO : topic #0(152.127): 0.741*\",\" + 0.342*\"-\" + 0.211*\"system\" + 0.204*\"program\" + 0.192*\"comput\" + 0.146*\"(\" + 0.127*\"languag\" + 0.108*\")\" + 0.084*\"gener\" + 0.083*\"data\"\n",
      "2022-02-28 17:54:17,860 : INFO : topic #1(60.600): -0.607*\"(\" + -0.434*\")\" + -0.366*\"algorithm\" + -0.300*\"-\" + 0.237*\",\" + 0.213*\"system\" + 0.132*\"comput\" + -0.096*\"[\" + 0.093*\"program\" + -0.084*\"])\"\n",
      "2022-02-28 17:54:17,861 : INFO : topic #2(57.438): -0.744*\"-\" + 0.452*\",\" + -0.263*\"system\" + 0.214*\"(\" + 0.166*\")\" + -0.107*\"time\" + -0.105*\"program\" + 0.094*\"algorithm\" + -0.068*\"comput\" + -0.067*\"share\"\n",
      "2022-02-28 17:54:17,861 : INFO : topic #3(48.370): -0.483*\"system\" + -0.375*\"program\" + -0.367*\"comput\" + 0.363*\"-\" + 0.308*\",\" + -0.212*\"(\" + -0.168*\")\" + -0.147*\"algorithm\" + 0.144*\"languag\" + -0.119*\"time\"\n",
      "2022-02-28 17:54:17,863 : INFO : topic #4(45.710): -0.489*\"comput\" + 0.475*\"languag\" + 0.428*\"program\" + -0.238*\"method\" + -0.141*\"problem\" + 0.121*\"system\" + 0.109*\")\" + -0.107*\"equat\" + -0.100*\"algorithm\" + 0.099*\"(\"\n",
      "2022-02-28 17:54:17,863 : INFO : preparing a new chunk of documents\n",
      "2022-02-28 17:54:17,872 : INFO : using 100 extra samples and 2 power iterations\n",
      "2022-02-28 17:54:17,873 : INFO : 1st phase: constructing (1197, 200) action matrix\n",
      "2022-02-28 17:54:17,884 : INFO : orthonormalizing (1197, 200) action matrix\n",
      "2022-02-28 17:54:17,976 : INFO : 2nd phase: running dense svd on (200, 1204) matrix\n",
      "2022-02-28 17:54:18,048 : INFO : computing the final decomposition\n",
      "2022-02-28 17:54:18,049 : INFO : keeping 100 factors (discarding 13.996% of energy spectrum)\n",
      "2022-02-28 17:54:18,051 : INFO : merging projections: (1197, 100) + (1197, 100)\n",
      "2022-02-28 17:54:18,089 : INFO : keeping 100 factors (discarding 8.172% of energy spectrum)\n",
      "2022-02-28 17:54:18,091 : INFO : processed documents up to #3204\n",
      "2022-02-28 17:54:18,093 : INFO : topic #0(225.136): 0.759*\",\" + 0.337*\"-\" + 0.196*\"system\" + 0.186*\"program\" + 0.166*\"comput\" + 0.139*\"(\" + 0.103*\")\" + 0.103*\"algorithm\" + 0.099*\"languag\" + 0.087*\"time\"\n",
      "2022-02-28 17:54:18,093 : INFO : topic #1(87.805): 0.613*\"-\" + -0.399*\",\" + 0.399*\"(\" + 0.326*\"algorithm\" + 0.293*\")\" + -0.129*\"system\" + -0.107*\"program\" + 0.085*\"method\" + 0.077*\"time\" + 0.062*\"1\"\n",
      "2022-02-28 17:54:18,094 : INFO : topic #2(81.909): 0.550*\"-\" + -0.434*\"(\" + 0.355*\"system\" + -0.321*\")\" + -0.291*\",\" + -0.266*\"algorithm\" + 0.146*\"program\" + 0.123*\"comput\" + 0.078*\"time\" + -0.064*\"[\"\n",
      "2022-02-28 17:54:18,095 : INFO : topic #3(72.433): -0.693*\"program\" + 0.339*\",\" + 0.279*\"-\" + -0.251*\"(\" + -0.221*\"system\" + -0.214*\"languag\" + -0.204*\")\" + -0.160*\"comput\" + -0.099*\"data\" + -0.056*\"execut\"\n",
      "2022-02-28 17:54:18,095 : INFO : topic #4(68.523): -0.673*\"system\" + 0.453*\"program\" + 0.254*\"languag\" + 0.212*\"-\" + -0.179*\"comput\" + -0.165*\"(\" + -0.121*\")\" + -0.115*\"model\" + 0.101*\",\" + -0.098*\"algorithm\"\n"
     ]
    },
    {
     "data": {
      "text/plain": [
       "[(0, 0.015216761470132116),\n",
       " (1, -0.016262412571706342),\n",
       " (2, -0.00018516393319290307),\n",
       " (3, -0.0018047438432908206),\n",
       " (4, -0.009444629792337633),\n",
       " (5, -0.004679896319102567),\n",
       " (6, 0.02717451941946884),\n",
       " (7, 0.01669012253895785),\n",
       " (8, -0.03196779362935981),\n",
       " (9, -0.0008166343256183119),\n",
       " (10, 0.0021668265725630718),\n",
       " (11, -0.017254408520367175),\n",
       " (12, 0.00028034293937153655),\n",
       " (13, 0.0017665092362839927),\n",
       " (14, 0.003913330623584937),\n",
       " (15, 0.006122382879080002),\n",
       " (16, 0.005040151176826603),\n",
       " (17, 0.002335016099338878),\n",
       " (18, -0.01820030052238308),\n",
       " (19, 0.018004941168355517),\n",
       " (20, -0.011060956106114515),\n",
       " (21, -0.01492329697371743),\n",
       " (22, 0.047941704844514536),\n",
       " (23, 0.02462615944485955),\n",
       " (24, -0.011593557668222992),\n",
       " (25, -0.009358390990993865),\n",
       " (26, 0.0035560511264178716),\n",
       " (27, 0.07721086163160815),\n",
       " (28, -0.06066391269245868),\n",
       " (29, 0.029597546129446973),\n",
       " (30, 0.04428231353355709),\n",
       " (31, 0.045460953377167025),\n",
       " (32, -0.06588156509039142),\n",
       " (33, 0.05161103045808441),\n",
       " (34, -0.023571320041850335),\n",
       " (35, 0.06762139041924814),\n",
       " (36, 0.039184009108872646),\n",
       " (37, -0.0023649500153656204),\n",
       " (38, -0.05473463398291369),\n",
       " (39, 0.016934980784268312),\n",
       " (40, -0.04746056854838374),\n",
       " (41, -0.0332349155711199),\n",
       " (42, 0.023645889576719897),\n",
       " (43, 0.010389919463271193),\n",
       " (44, 0.010347909597911124),\n",
       " (45, 0.06457745387479179),\n",
       " (46, -0.01209580282236308),\n",
       " (47, 0.003334011091804088),\n",
       " (48, -0.01037851181440509),\n",
       " (49, 0.030744020302883868),\n",
       " (50, 0.02189649389798499),\n",
       " (51, 0.05256111115969311),\n",
       " (52, -0.008662146563463985),\n",
       " (53, 0.0012821183662522963),\n",
       " (54, 0.04087813066889322),\n",
       " (55, -0.021388592269272866),\n",
       " (56, 0.018313487455642),\n",
       " (57, -0.0213294332827473),\n",
       " (58, -0.011380734502955335),\n",
       " (59, 0.05147423370247352),\n",
       " (60, -0.0016253012104473115),\n",
       " (61, -0.041871703132834184),\n",
       " (62, 0.013615991347189719),\n",
       " (63, 0.005364722043088008),\n",
       " (64, 0.0483264631665379),\n",
       " (65, 0.03671461966681773),\n",
       " (66, 0.05039293770891455),\n",
       " (67, -0.059408572990020475),\n",
       " (68, 0.03944979278778966),\n",
       " (69, -0.00582588094706276),\n",
       " (70, -0.05512725177232577),\n",
       " (71, -0.017683830612263286),\n",
       " (72, 0.027462688372221572),\n",
       " (73, -0.07575859019862327),\n",
       " (74, -0.0631806233012063),\n",
       " (75, -0.01533772376264379),\n",
       " (76, 0.01384745290279198),\n",
       " (77, 0.04030029700351298),\n",
       " (78, 0.03856600489031199),\n",
       " (79, 0.031994465607069866),\n",
       " (80, -0.02505208875421048),\n",
       " (81, -0.002557934039845753),\n",
       " (82, 0.05757243764117965),\n",
       " (83, -0.028598110592301103),\n",
       " (84, -0.0037084930026089254),\n",
       " (85, -0.04509783854623242),\n",
       " (86, 0.004684759554561428),\n",
       " (87, 0.044673077128068985),\n",
       " (88, -0.05414635075256842),\n",
       " (89, -0.010243954027849812),\n",
       " (90, -0.07818510049963769),\n",
       " (91, 0.03664645320858061),\n",
       " (92, -0.012871142019268006),\n",
       " (93, 0.029824711826278445),\n",
       " (94, -0.06809419677177557),\n",
       " (95, -0.03483203010050491),\n",
       " (96, 0.020001860930563286),\n",
       " (97, -0.017162090820633365),\n",
       " (98, 0.0065648519967767965),\n",
       " (99, -0.006791187575358203)]"
      ]
     },
     "execution_count": 78,
     "metadata": {},
     "output_type": "execute_result"
    }
   ],
   "source": [
    "##### Function check\n",
    "lsi = LsiRetrievalModel(doc_repr_2)\n",
    "lsi.train_model()\n",
    "\n",
    "# you can now get an LSI vector for a given query in the following way:\n",
    "lsi.vectorize_query(\"report\")\n",
    "##### "
   ]
  },
  {
   "cell_type": "markdown",
   "metadata": {
    "deletable": false,
    "editable": false,
    "nbgrader": {
     "cell_type": "markdown",
     "checksum": "7116bb9f576c5bb04934e1d59c51d729",
     "grade": false,
     "grade_id": "cell-4c5eeb557b4fca2f",
     "locked": true,
     "points": 5,
     "schema_version": 3,
     "solution": false,
     "task": true
    }
   },
   "source": [
    "\\#### Please do not change this. This cell is used for grading."
   ]
  },
  {
   "cell_type": "markdown",
   "metadata": {
    "deletable": false,
    "editable": false,
    "nbgrader": {
     "cell_type": "markdown",
     "checksum": "26e2ff3c413745e633d99f66c041d6b1",
     "grade": false,
     "grade_id": "cell-c4e50296cd17a555",
     "locked": true,
     "schema_version": 3,
     "solution": false,
     "task": false
    }
   },
   "source": [
    "---\n",
    "**Implementation (5 points):**\n",
    " Next, implement a basic ranking class for vector space retrieval (used for all semantic methods): "
   ]
  },
  {
   "cell_type": "code",
   "execution_count": 79,
   "metadata": {
    "deletable": false,
    "nbgrader": {
     "cell_type": "code",
     "checksum": "1a8389d2f0635c3405e2b0b27ed9f327",
     "grade": false,
     "grade_id": "cell-250515d288e80cdc",
     "locked": false,
     "schema_version": 3,
     "solution": true,
     "task": false
    }
   },
   "outputs": [],
   "source": [
    "# TODO: Implement this! (5 points)\n",
    "class DenseRetrievalRanker:\n",
    "    def __init__(self, vsrm, similarity_fn):\n",
    "        \"\"\"\n",
    "            vsrm: instance of `VectorSpaceRetrievalModel`\n",
    "            similarity_fn: function instance that takes in two vectors \n",
    "                            and returns a similarity score e.g cosine_sim defined earlier\n",
    "        \"\"\"\n",
    "        self.vsrm = vsrm \n",
    "        self.vectorized_documents = self.vsrm.vectorize_documents()\n",
    "        self.similarity_fn = similarity_fn\n",
    "    \n",
    "    def _compute_sim(self, query_vector):\n",
    "        \"\"\"\n",
    "            Compute the similarity of `query_vector` to documents in \n",
    "            `self.vectorized_documents` using `self.similarity_fn`\n",
    "            Returns a list of (doc_id, score) tuples\n",
    "        \"\"\"\n",
    "        # YOUR CODE HERE\n",
    "        results = [(doc, cosine_sim(vec, query_vector)) for doc, vec in self.vectorized_documents.items()]\n",
    "        return results\n",
    "        # raise NotImplementedError()\n",
    "    \n",
    "    def search(self, query):\n",
    "        scores = self._compute_sim(self.vsrm.vectorize_query(query))\n",
    "        scores.sort(key=lambda _:-_[1])\n",
    "        return scores "
   ]
  },
  {
   "cell_type": "code",
   "execution_count": 80,
   "metadata": {
    "deletable": false,
    "editable": false,
    "nbgrader": {
     "cell_type": "code",
     "checksum": "f237dd1ef6c1783c06797f4b514421f5",
     "grade": true,
     "grade_id": "cell-b73068b3e77a8e31",
     "locked": true,
     "points": 0,
     "schema_version": 3,
     "solution": false,
     "task": false
    }
   },
   "outputs": [
    {
     "data": {
      "text/plain": [
       "[('599', 0.7926144222030604),\n",
       " ('947', 0.5816968061832626),\n",
       " ('53', 0.501643768581463),\n",
       " ('1339', 0.45274966205744405),\n",
       " ('3160', 0.4469471020805297)]"
      ]
     },
     "execution_count": 80,
     "metadata": {},
     "output_type": "execute_result"
    }
   ],
   "source": [
    "##### Function check\n",
    "drm_lsi = DenseRetrievalRanker(lsi, cosine_sim)\n",
    "drm_lsi.search(\"report\")[:5]\n",
    "##### "
   ]
  },
  {
   "cell_type": "markdown",
   "metadata": {
    "deletable": false,
    "editable": false,
    "nbgrader": {
     "cell_type": "markdown",
     "checksum": "5b3f19fdcaa585d263706d5a26038799",
     "grade": false,
     "grade_id": "cell-034c755a6502b868",
     "locked": true,
     "points": 5,
     "schema_version": 3,
     "solution": false,
     "task": true
    }
   },
   "source": [
    "\\#### Please do not change this. This cell is used for grading."
   ]
  },
  {
   "cell_type": "markdown",
   "metadata": {
    "deletable": false,
    "editable": false,
    "nbgrader": {
     "cell_type": "markdown",
     "checksum": "dcafef6e037033c46304b914f7c78bdf",
     "grade": false,
     "grade_id": "cell-d1df23f497d5ed6b",
     "locked": true,
     "schema_version": 3,
     "solution": false,
     "task": false
    }
   },
   "source": [
    "---\n",
    "Now, you can test your LSI model in the following cell: try finding queries which are lexically different to documents, but semantically similar - does LSI work well for these queries?!"
   ]
  },
  {
   "cell_type": "code",
   "execution_count": 81,
   "metadata": {
    "deletable": false,
    "editable": false,
    "nbgrader": {
     "cell_type": "code",
     "checksum": "11734bc7674377b340ad51297a8e8bb5",
     "grade": false,
     "grade_id": "cell-efd1d08dfc04ec3e",
     "locked": true,
     "schema_version": 3,
     "solution": false,
     "task": false
    }
   },
   "outputs": [
    {
     "data": {
      "application/vnd.jupyter.widget-view+json": {
       "model_id": "f0950524bbc44699852109cf82430090",
       "version_major": 2,
       "version_minor": 0
      },
      "text/plain": [
       "Text(value='', description='Search Bar')"
      ]
     },
     "metadata": {},
     "output_type": "display_data"
    }
   ],
   "source": [
    "# test your LSI model\n",
    "search_fn = drm_lsi.search\n",
    "\n",
    "text = widgets.Text(description=\"Search Bar\", width=200)\n",
    "display(text)\n",
    "\n",
    "def make_results_2(query, search_fn):\n",
    "    results = []\n",
    "    for doc_id, score in search_fn(query):\n",
    "        highlight = highlight_text(docs_by_id[doc_id], query)\n",
    "        if len(highlight.strip()) == 0:\n",
    "            highlight = docs_by_id[doc_id]\n",
    "        results.append(ResultRow(doc_id, highlight, score))\n",
    "    return results\n",
    "\n",
    "def handle_submit_2(sender):\n",
    "    print(f\"Searching for: '{sender.value}' (SEARCH FN: {search_fn})\")\n",
    "    \n",
    "    results = make_results_2(sender.value, search_fn)\n",
    "    \n",
    "    # display only the top 5\n",
    "    results = results[:5]\n",
    "    \n",
    "    body = \"\"\n",
    "    for idx, r in enumerate(results):\n",
    "        body += f\"<li>Document #{r.doc_id}({r.score}): {r.snippet}</li>\"\n",
    "    display(HTML(f\"<ul>{body}</ul>\"))\n",
    "    \n",
    "\n",
    "text.on_submit(handle_submit_2)"
   ]
  },
  {
   "cell_type": "markdown",
   "metadata": {
    "deletable": false,
    "editable": false,
    "nbgrader": {
     "cell_type": "markdown",
     "checksum": "d074ce1ca48384cdda78742741c938be",
     "grade": false,
     "grade_id": "cell-3a86cef264d8f6cf",
     "locked": true,
     "schema_version": 3,
     "solution": false,
     "task": false
    }
   },
   "source": [
    "---\n",
    "## Section 7: Latent Dirichlet Allocation (LDA) (10 points) <a class=\"anchor\" id=\"lda\"></a>\n",
    "\n",
    "[Back to Part 2](#part2)\n",
    "\n",
    "The specifics of LDA is out of the scope of this assignment, but we will use the `gensim` implementation to perform search using LDA over our small document collection. The key thing to remember is that LDA, unlike LSI, outputs a topic **distribution**, not a vector. With that in mind, let's first define a similarity measure.\n"
   ]
  },
  {
   "cell_type": "markdown",
   "metadata": {
    "deletable": false,
    "editable": false,
    "nbgrader": {
     "cell_type": "markdown",
     "checksum": "db01092373b18f0c9dfed1bb17db4ad9",
     "grade": false,
     "grade_id": "cell-6b78ad22c2d60ba7",
     "locked": true,
     "schema_version": 3,
     "solution": false,
     "task": false
    }
   },
   "source": [
    "---\n",
    "### Section 7.1: Jenson-Shannon divergence (5 points) <a class=\"anchor\" id=\"js_sim\"></a>\n",
    "\n",
    "The Jenson-Shannon divergence is a symmetric and finite measure on two probability distributions (unlike the KL, which is neither). For identical distributions, the JSD is equal to 0, and since our code uses 0 as irrelevant and higher scores as relevant, we use `(1 - JSD)` as the score or 'similarity' in our setup\n",
    "\n",
    "**Note**: the JSD is bounded to \\[0,1\\] only if we use log base 2. So please ensure that you're using `np.log2` instead of `np.log`"
   ]
  },
  {
   "cell_type": "code",
   "execution_count": 82,
   "metadata": {
    "deletable": false,
    "nbgrader": {
     "cell_type": "code",
     "checksum": "a579e6cd7a24a3516bc9a84528b392d3",
     "grade": false,
     "grade_id": "cell-d2376a85a4841e98",
     "locked": false,
     "schema_version": 3,
     "solution": true,
     "task": false
    }
   },
   "outputs": [],
   "source": [
    "## TODO: Implement this! (5 points)\n",
    "def jenson_shannon_divergence(vec_1, vec_2, assert_prob=False):\n",
    "    \"\"\"\n",
    "        Computes the Jensen-Shannon divergence between two probability distributions. \n",
    "        NOTE: DO NOT RETURN 1 - JSD here, that is handled by the next function which is already implemented! \n",
    "        The inputs are *gensim* vectors - same as the vectors for the cosine_sim function\n",
    "        assert_prob is a flag that checks if the inputs are proper probability distributions \n",
    "            i.e they sum to 1 and are positive - use this to check your inputs if needed. \n",
    "                (This is optional to implement, but recommended - \n",
    "                you can the default to False to save a few ms off the runtime)\n",
    "    \"\"\"\n",
    "    # YOUR CODE HERE\n",
    "    v1 = [v[1] for v in vec_1]\n",
    "    v2 = [v[1] for v in vec_2]\n",
    "    \n",
    "    if assert_prob:\n",
    "        assert(np.isclose(np.sum(v1), 1)), np.sum(v1)\n",
    "        assert(np.isclose(np.sum(v2), 1)), np.sum(v2)\n",
    "        assert(np.min(v1) >= 0), np.min(v1)\n",
    "        assert(np.min(v2) >= 0), np.min(v2)\n",
    "    \n",
    "    kl_v1 = np.zeros(len(vec_1))\n",
    "    kl_v2 = np.zeros(len(vec_2))\n",
    "    for i in range(len(vec_1)):\n",
    "        m = 0.5 * (v1[i] + v2[i])\n",
    "        kl_v1[i] = v1[i] * (np.log2(v1[i]) - np.log2(m))\n",
    "        kl_v2[i] = v2[i] * (np.log2(v2[i]) - np.log2(m))\n",
    "    \n",
    "    kl_v1 = np.sum(kl_v1)\n",
    "    kl_v2 = np.sum(kl_v2)\n",
    "    \n",
    "    jsd = 0.5 * kl_v1 + 0.5 * kl_v2\n",
    "\n",
    "    return jsd\n",
    "    # raise NotImplementedError()\n",
    "\n",
    "def jenson_shannon_sim(vec_1, vec_2, assert_prob=False):\n",
    "    return 1 - jenson_shannon_divergence(vec_1, vec_2, assert_prob)"
   ]
  },
  {
   "cell_type": "code",
   "execution_count": 83,
   "metadata": {
    "deletable": false,
    "editable": false,
    "nbgrader": {
     "cell_type": "code",
     "checksum": "ab340aa941c9fb5c89b3fd0a9139e246",
     "grade": true,
     "grade_id": "cell-487c6d2933f38053",
     "locked": true,
     "points": 5,
     "schema_version": 3,
     "solution": false,
     "task": false
    }
   },
   "outputs": [
    {
     "data": {
      "text/plain": [
       "0.9251064410358459"
      ]
     },
     "execution_count": 83,
     "metadata": {},
     "output_type": "execute_result"
    }
   ],
   "source": [
    "##### Function check\n",
    "vec_1 = [(1, 0.3), (2, 0.4), (3, 0.3)]\n",
    "vec_2 = [(1, 0.1), (2, 0.7), (3, 0.2)]\n",
    "jenson_shannon_sim(vec_1, vec_2, assert_prob=True)\n",
    "##### "
   ]
  },
  {
   "cell_type": "markdown",
   "metadata": {
    "deletable": false,
    "editable": false,
    "nbgrader": {
     "cell_type": "markdown",
     "checksum": "0a1583a5f23e3390038331cce67f5d8e",
     "grade": false,
     "grade_id": "cell-4535cc67a50b80fa",
     "locked": true,
     "schema_version": 3,
     "solution": false,
     "task": false
    }
   },
   "source": [
    "---\n",
    "### Section 7.2: LDA retrieval (5 points) <a class=\"anchor\" id=\"lda_ret\"></a>\n",
    "\n",
    "Implement the `train_model` method in the following class (note that this is only one line of code in `gensim`!). Ensure that the parameters defined in the `__init__` method are not changed, and are *used in the `train_method` function*. You do not need to set this. Normally, the hyperaparameter space will be searched using grid search / other methods. Note that training the LDA model might take some time\n",
    "\n",
    "The last two lines of code train an LDA model on the list of documents which have been stemmed, lower-cased and have stopwords removed. "
   ]
  },
  {
   "cell_type": "code",
   "execution_count": 84,
   "metadata": {
    "deletable": false,
    "nbgrader": {
     "cell_type": "code",
     "checksum": "27de8e4fa85536bb396b73bfc51b3f50",
     "grade": false,
     "grade_id": "cell-021a48dff4a8bb91",
     "locked": false,
     "schema_version": 3,
     "solution": true,
     "task": false
    }
   },
   "outputs": [],
   "source": [
    "# TODO: Implement this! (5 points)\n",
    "class LdaRetrievalModel(VectorSpaceRetrievalModel):\n",
    "    def __init__(self, doc_repr):\n",
    "        super().__init__(doc_repr)\n",
    "        \n",
    "        # use these parameters in the train_model method\n",
    "        self.num_topics = 100\n",
    "        self.chunksize = 2000\n",
    "        self.passes = 20\n",
    "        self.iterations = 400\n",
    "        self.eval_every = 10\n",
    "        # this is need to get full vectors\n",
    "        self.minimum_probability=0.0\n",
    "        self.alpha='auto'\n",
    "        self.eta='auto'\n",
    "    \n",
    "    \n",
    "    def train_model(self):\n",
    "        # YOUR CODE HERE\n",
    "        self.model = LdaModel(corpus = self.corpus,\n",
    "                              id2word = self.id2word,\n",
    "                              num_topics = self.num_topics,\n",
    "                              chunksize = self.chunksize,\n",
    "                              passes = self.passes,\n",
    "                              iterations = self.iterations,\n",
    "                              eval_every = self.eval_every,\n",
    "                              minimum_probability = self.minimum_probability,\n",
    "                              alpha = self.alpha,\n",
    "                              eta = self.eta)\n",
    "        # raise NotImplementedError()"
   ]
  },
  {
   "cell_type": "code",
   "execution_count": 85,
   "metadata": {
    "deletable": false,
    "editable": false,
    "nbgrader": {
     "cell_type": "code",
     "checksum": "be70fcb8098d0b6ce64cd2a10e6a05b7",
     "grade": true,
     "grade_id": "cell-86750b715f0345fd",
     "locked": true,
     "points": 0,
     "schema_version": 3,
     "solution": false,
     "task": false
    }
   },
   "outputs": [
    {
     "name": "stderr",
     "output_type": "stream",
     "text": [
      "2022-02-28 17:54:18,943 : INFO : adding document #0 to Dictionary(0 unique tokens: [])\n",
      "2022-02-28 17:54:19,062 : INFO : built Dictionary(5937 unique tokens: ['-', 'algebra', 'intern', 'languag', 'preliminari']...) from 3204 documents (total 115969 corpus positions)\n",
      "2022-02-28 17:54:19,069 : INFO : discarding 4740 tokens: [('repeat', 8), ('glossari', 7), ('inspect', 8), ('uncol', 2), ('rung', 9), ('secant', 2), ('.', 1603), ('acceler', 6), ('diverg', 3), ('induc', 9)]...\n",
      "2022-02-28 17:54:19,070 : INFO : keeping 1197 tokens which were in no less than 10 and no more than 1602 (=50.0%) documents\n",
      "2022-02-28 17:54:19,072 : INFO : resulting dictionary: Dictionary(1197 unique tokens: ['-', 'algebra', 'intern', 'languag', 'preliminari']...)\n",
      "2022-02-28 17:54:19,140 : INFO : using autotuned alpha, starting with [0.01, 0.01, 0.01, 0.01, 0.01, 0.01, 0.01, 0.01, 0.01, 0.01, 0.01, 0.01, 0.01, 0.01, 0.01, 0.01, 0.01, 0.01, 0.01, 0.01, 0.01, 0.01, 0.01, 0.01, 0.01, 0.01, 0.01, 0.01, 0.01, 0.01, 0.01, 0.01, 0.01, 0.01, 0.01, 0.01, 0.01, 0.01, 0.01, 0.01, 0.01, 0.01, 0.01, 0.01, 0.01, 0.01, 0.01, 0.01, 0.01, 0.01, 0.01, 0.01, 0.01, 0.01, 0.01, 0.01, 0.01, 0.01, 0.01, 0.01, 0.01, 0.01, 0.01, 0.01, 0.01, 0.01, 0.01, 0.01, 0.01, 0.01, 0.01, 0.01, 0.01, 0.01, 0.01, 0.01, 0.01, 0.01, 0.01, 0.01, 0.01, 0.01, 0.01, 0.01, 0.01, 0.01, 0.01, 0.01, 0.01, 0.01, 0.01, 0.01, 0.01, 0.01, 0.01, 0.01, 0.01, 0.01, 0.01, 0.01]\n",
      "2022-02-28 17:54:19,141 : INFO : using serial LDA version on this node\n",
      "2022-02-28 17:54:19,154 : INFO : running online (multi-pass) LDA training, 100 topics, 20 passes over the supplied corpus of 3204 documents, updating model once every 2000 documents, evaluating perplexity every 3204 documents, iterating 400x with a convergence threshold of 0.001000\n",
      "2022-02-28 17:54:19,154 : INFO : PROGRESS: pass 0, at document #2000/3204\n",
      "2022-02-28 17:54:20,953 : INFO : optimized alpha [0.009818983, 0.009798306, 0.00978278, 0.009829499, 0.009906617, 0.009792851, 0.009787711, 0.009839412, 0.009782901, 0.00978276, 0.009818976, 0.009787747, 0.009857546, 0.009876232, 0.009858007, 0.009793128, 0.00980843, 0.00978792, 0.009824321, 0.009943571, 0.009808553, 0.0098397285, 0.009906644, 0.009840177, 0.009839511, 0.0097724, 0.009839613, 0.009756864, 0.009896531, 0.009782584, 0.009829853, 0.009845352, 0.009839502, 0.009808396, 0.009849333, 0.00981854, 0.009803558, 0.009896877, 0.009979821, 0.009865469, 0.009834353, 0.0098086065, 0.009879619, 0.00982903, 0.009787932, 0.009798459, 0.009834874, 0.009756864, 0.009803319, 0.009823697, 0.00997981, 0.009911502, 0.009813809, 0.0097982995, 0.009798119, 0.009833997, 0.009808426, 0.009792948, 0.0098133525, 0.009813631, 0.009812633, 0.009787586, 0.009850406, 0.009813676, 0.009819533, 0.009818613, 0.0097979335, 0.009824112, 0.0099233845, 0.00986065, 0.009787781, 0.00982925, 0.009782726, 0.009777662, 0.009895712, 0.009793918, 0.009814076, 0.009860207, 0.009818899, 0.009824084, 0.009777446, 0.009788025, 0.009787586, 0.009871115, 0.009772364, 0.009829558, 0.009823889, 0.009792828, 0.009792844, 0.00991697, 0.009772536, 0.009792747, 0.009907127, 0.009891285, 0.009860924, 0.01006455, 0.009855562, 0.009834557, 0.009787861, 0.009767235]\n",
      "2022-02-28 17:54:20,959 : INFO : merging changes from 2000 documents into a model of 3204 documents\n",
      "2022-02-28 17:54:20,972 : INFO : topic #80 (0.010): 0.048*\"expans\" + 0.036*\"equat\" + 0.036*\"symbol\" + 0.036*\"(\" + 0.036*\")\" + 0.036*\"algorithm\" + 0.024*\"numer\" + 0.024*\"procedur\" + 0.024*\"paramet\" + 0.024*\"final\"\n",
      "2022-02-28 17:54:20,973 : INFO : topic #73 (0.010): 0.049*\"point\" + 0.027*\"system\" + 0.027*\"gener\" + 0.027*\"program\" + 0.022*\"transform\" + 0.022*\"random\" + 0.022*\"intersect\" + 0.022*\"grammar\" + 0.022*\",\" + 0.016*\"comput\"\n",
      "2022-02-28 17:54:20,974 : INFO : topic #38 (0.010): 0.062*\",\" + 0.046*\"-\" + 0.027*\"comput\" + 0.023*\"(\" + 0.018*\"system\" + 0.015*\")\" + 0.015*\"algorithm\" + 0.014*\"time\" + 0.013*\"program\" + 0.009*\";\"\n",
      "2022-02-28 17:54:20,974 : INFO : topic #19 (0.010): 0.087*\",\" + 0.035*\"-\" + 0.019*\"comput\" + 0.017*\"number\" + 0.015*\"gener\" + 0.013*\"system\" + 0.012*\"time\" + 0.011*\"problem\" + 0.010*\"(\" + 0.010*\"program\"\n",
      "2022-02-28 17:54:20,975 : INFO : topic #95 (0.010): 0.071*\",\" + 0.026*\"-\" + 0.023*\"comput\" + 0.020*\"program\" + 0.015*\"system\" + 0.013*\"problem\" + 0.011*\"data\" + 0.010*\"time\" + 0.009*\"method\" + 0.009*\"algorithm\"\n",
      "2022-02-28 17:54:20,975 : INFO : topic diff=82.598557, rho=1.000000\n",
      "2022-02-28 17:54:22,206 : INFO : -7.294 per-word bound, 156.9 perplexity estimate based on a held-out corpus of 1204 documents with 49783 words\n",
      "2022-02-28 17:54:22,207 : INFO : PROGRESS: pass 0, at document #3204/3204\n",
      "2022-02-28 17:54:23,264 : INFO : optimized alpha [0.009942165, 0.009857944, 0.009835761, 0.010125296, 0.00996508, 0.009809132, 0.009897826, 0.010068895, 0.009947255, 0.00993558, 0.00981863, 0.009647126, 0.009897111, 0.010095831, 0.009921191, 0.009898634, 0.009866297, 0.009870738, 0.009847746, 0.010459884, 0.009955858, 0.010176888, 0.009953348, 0.009964731, 0.009709568, 0.009917853, 0.009922588, 0.00949559, 0.010062991, 0.009874529, 0.009889829, 0.010113592, 0.009969426, 0.009889186, 0.009759889, 0.009994796, 0.009961093, 0.010034019, 0.010352182, 0.0099126715, 0.0099183, 0.009761603, 0.009818864, 0.009893568, 0.009881906, 0.010039485, 0.010102033, 0.00949559, 0.009951249, 0.009823104, 0.01043698, 0.0098259235, 0.009996228, 0.009974983, 0.009832511, 0.009904209, 0.010072054, 0.010249226, 0.009736782, 0.009948895, 0.009982159, 0.009757775, 0.010140515, 0.009801946, 0.010186958, 0.010122414, 0.0098096095, 0.010018947, 0.010192185, 0.009925475, 0.009862995, 0.010095993, 0.009917948, 0.010033364, 0.009799149, 0.010145674, 0.009854718, 0.010107872, 0.01001827, 0.009906521, 0.009788922, 0.010139378, 0.009863394, 0.010079939, 0.009859006, 0.010108561, 0.009846752, 0.009897916, 0.0097571, 0.01016006, 0.0100425, 0.009908273, 0.009930383, 0.009991721, 0.009991502, 0.010679229, 0.010086295, 0.010088946, 0.009910025, 0.009812867]\n",
      "2022-02-28 17:54:23,272 : INFO : merging changes from 1204 documents into a model of 3204 documents\n",
      "2022-02-28 17:54:23,283 : INFO : topic #47 (0.009): 0.001*\"implic\" + 0.001*\"favor\" + 0.001*\"adapt\" + 0.001*\"polygon\" + 0.001*\"stage\" + 0.001*\"situat\" + 0.001*\"respons\" + 0.001*\"industri\" + 0.001*\"regress\" + 0.001*\"drive\"\n",
      "2022-02-28 17:54:23,284 : INFO : topic #27 (0.009): 0.001*\"implic\" + 0.001*\"favor\" + 0.001*\"adapt\" + 0.001*\"polygon\" + 0.001*\"stage\" + 0.001*\"situat\" + 0.001*\"respons\" + 0.001*\"industri\" + 0.001*\"regress\" + 0.001*\"drive\"\n",
      "2022-02-28 17:54:23,285 : INFO : topic #50 (0.010): 0.104*\",\" + 0.021*\"comput\" + 0.020*\"-\" + 0.020*\"system\" + 0.018*\"\"\" + 0.017*\"program\" + 0.015*\"data\" + 0.015*\"abstract\" + 0.014*\"languag\" + 0.013*\"type\"\n",
      "2022-02-28 17:54:23,285 : INFO : topic #19 (0.010): 0.095*\",\" + 0.033*\"-\" + 0.021*\"tree\" + 0.018*\"structur\" + 0.014*\"search\" + 0.014*\"number\" + 0.014*\"time\" + 0.012*\"gener\" + 0.012*\"averag\" + 0.011*\"system\"\n",
      "2022-02-28 17:54:23,286 : INFO : topic #95 (0.011): 0.075*\",\" + 0.027*\"-\" + 0.024*\"program\" + 0.020*\"comput\" + 0.016*\"system\" + 0.015*\"problem\" + 0.013*\"result\" + 0.011*\"data\" + 0.010*\"paper\" + 0.010*\"time\"\n",
      "2022-02-28 17:54:23,287 : INFO : topic diff=0.740851, rho=0.707107\n",
      "2022-02-28 17:54:23,296 : INFO : PROGRESS: pass 1, at document #2000/3204\n",
      "2022-02-28 17:54:24,352 : INFO : optimized alpha [0.009884109, 0.009814382, 0.009837047, 0.010071884, 0.009858945, 0.009865499, 0.009980166, 0.010032395, 0.009954946, 0.009900918, 0.009747396, 0.009635699, 0.009922096, 0.010021429, 0.010033412, 0.009878491, 0.009777843, 0.009811349, 0.009825907, 0.010349344, 0.00993212, 0.010113776, 0.009855666, 0.009930757, 0.009664377, 0.009899153, 0.009875843, 0.009347772, 0.010062128, 0.009874705, 0.009854416, 0.010066376, 0.009894456, 0.009871382, 0.009726435, 0.009935111, 0.010074249, 0.009975236, 0.010258353, 0.009826254, 0.009853135, 0.009709848, 0.009765798, 0.009910525, 0.009814317, 0.010003513, 0.010095451, 0.009347772, 0.009871688, 0.009816742, 0.010403561, 0.00974686, 0.010030412, 0.009980055, 0.009849865, 0.009825492, 0.009983855, 0.010159308, 0.00972663, 0.009944014, 0.009914981, 0.009846241, 0.010119455, 0.009764786, 0.01010231, 0.010347577, 0.01014279, 0.00997021, 0.01014642, 0.009881233, 0.009816553, 0.010417214, 0.009997424, 0.009988359, 0.0100799, 0.01007484, 0.009832769, 0.010027044, 0.009942464, 0.009854656, 0.009843543, 0.010136305, 0.009917261, 0.009997921, 0.00982019, 0.010041662, 0.009766427, 0.010116282, 0.0097203525, 0.010091967, 0.0100193545, 0.010051107, 0.00992651, 0.009986853, 0.009906411, 0.010606552, 0.009990608, 0.010028058, 0.009957532, 0.009793387]\n"
     ]
    },
    {
     "name": "stderr",
     "output_type": "stream",
     "text": [
      "2022-02-28 17:54:24,361 : INFO : merging changes from 2000 documents into a model of 3204 documents\n",
      "2022-02-28 17:54:24,371 : INFO : topic #47 (0.009): 0.001*\"implic\" + 0.001*\"favor\" + 0.001*\"adapt\" + 0.001*\"polygon\" + 0.001*\"stage\" + 0.001*\"situat\" + 0.001*\"respons\" + 0.001*\"industri\" + 0.001*\"regress\" + 0.001*\"drive\"\n",
      "2022-02-28 17:54:24,372 : INFO : topic #27 (0.009): 0.001*\"implic\" + 0.001*\"favor\" + 0.001*\"adapt\" + 0.001*\"polygon\" + 0.001*\"stage\" + 0.001*\"situat\" + 0.001*\"respons\" + 0.001*\"industri\" + 0.001*\"regress\" + 0.001*\"drive\"\n",
      "2022-02-28 17:54:24,373 : INFO : topic #50 (0.010): 0.108*\",\" + 0.022*\"comput\" + 0.020*\"-\" + 0.019*\"system\" + 0.019*\"\"\" + 0.016*\"program\" + 0.015*\"data\" + 0.014*\"languag\" + 0.013*\"abstract\" + 0.012*\"oper\"\n",
      "2022-02-28 17:54:24,375 : INFO : topic #71 (0.010): 0.172*\"languag\" + 0.100*\"program\" + 0.044*\",\" + 0.044*\"-\" + 0.028*\"algol\" + 0.026*\"compil\" + 0.020*\"machin\" + 0.017*\"translat\" + 0.017*\"sourc\" + 0.016*\"flowchart\"\n",
      "2022-02-28 17:54:24,376 : INFO : topic #95 (0.011): 0.078*\",\" + 0.027*\"-\" + 0.024*\"program\" + 0.022*\"comput\" + 0.016*\"system\" + 0.016*\"problem\" + 0.013*\"result\" + 0.011*\"data\" + 0.010*\"time\" + 0.010*\"paper\"\n",
      "2022-02-28 17:54:24,377 : INFO : topic diff=0.286490, rho=0.526900\n",
      "2022-02-28 17:54:25,433 : INFO : -6.904 per-word bound, 119.8 perplexity estimate based on a held-out corpus of 1204 documents with 49783 words\n",
      "2022-02-28 17:54:25,434 : INFO : PROGRESS: pass 1, at document #3204/3204\n",
      "2022-02-28 17:54:26,308 : INFO : optimized alpha [0.009958609, 0.009947154, 0.0100253, 0.0103577655, 0.009825034, 0.010056244, 0.010092209, 0.010368382, 0.010147807, 0.0100588715, 0.009797288, 0.0096390145, 0.009999726, 0.010194325, 0.010096363, 0.010010273, 0.009856821, 0.00990017, 0.009879408, 0.010649165, 0.010090516, 0.010336653, 0.009875065, 0.010015043, 0.0095735965, 0.01005145, 0.00995159, 0.009170456, 0.01021293, 0.010047699, 0.009938775, 0.010294632, 0.010057912, 0.010014848, 0.009802774, 0.010142494, 0.010315462, 0.010037633, 0.010474009, 0.009919951, 0.009952373, 0.009721167, 0.009745976, 0.009989727, 0.009959232, 0.010219448, 0.010377052, 0.009170456, 0.0100976005, 0.009917479, 0.0106714405, 0.009688694, 0.010147762, 0.010191796, 0.009972462, 0.009962016, 0.010225521, 0.010465627, 0.009707589, 0.010093608, 0.0100947665, 0.0099806525, 0.010359861, 0.009814657, 0.010361606, 0.01065188, 0.010318274, 0.0102673, 0.010288128, 0.009903529, 0.010008011, 0.010822982, 0.010293217, 0.010263471, 0.010021816, 0.010371082, 0.009903441, 0.010234465, 0.01009134, 0.009956336, 0.010022749, 0.010433655, 0.010083737, 0.010122285, 0.01006793, 0.01020571, 0.009898144, 0.010385557, 0.009778108, 0.010197195, 0.010289129, 0.010216111, 0.00991347, 0.010084287, 0.009951202, 0.010839024, 0.010105294, 0.010303258, 0.010140771, 0.009918946]\n",
      "2022-02-28 17:54:26,316 : INFO : merging changes from 1204 documents into a model of 3204 documents\n",
      "2022-02-28 17:54:26,327 : INFO : topic #47 (0.009): 0.001*\"implic\" + 0.001*\"favor\" + 0.001*\"adapt\" + 0.001*\"polygon\" + 0.001*\"stage\" + 0.001*\"situat\" + 0.001*\"respons\" + 0.001*\"industri\" + 0.001*\"regress\" + 0.001*\"drive\"\n",
      "2022-02-28 17:54:26,328 : INFO : topic #27 (0.009): 0.001*\"implic\" + 0.001*\"favor\" + 0.001*\"adapt\" + 0.001*\"polygon\" + 0.001*\"stage\" + 0.001*\"situat\" + 0.001*\"respons\" + 0.001*\"industri\" + 0.001*\"regress\" + 0.001*\"drive\"\n",
      "2022-02-28 17:54:26,329 : INFO : topic #65 (0.011): 0.151*\"[\" + 0.148*\"(\" + 0.146*\"algorithm\" + 0.141*\"]\" + 0.124*\")\" + 0.027*\"polynomi\" + 0.015*\"])\" + 0.014*\"procedur\" + 0.012*\"certif\" + 0.012*\",\"\n",
      "2022-02-28 17:54:26,329 : INFO : topic #71 (0.011): 0.181*\"languag\" + 0.122*\"program\" + 0.049*\",\" + 0.039*\"-\" + 0.029*\"compil\" + 0.021*\"level\" + 0.020*\"algol\" + 0.019*\"machin\" + 0.019*\"flowchart\" + 0.018*\"translat\"\n",
      "2022-02-28 17:54:26,330 : INFO : topic #95 (0.011): 0.079*\",\" + 0.029*\"-\" + 0.027*\"program\" + 0.020*\"comput\" + 0.016*\"result\" + 0.014*\"problem\" + 0.014*\"system\" + 0.011*\"paper\" + 0.010*\"data\" + 0.009*\"induct\"\n",
      "2022-02-28 17:54:26,331 : INFO : topic diff=0.426782, rho=0.526900\n",
      "2022-02-28 17:54:26,341 : INFO : PROGRESS: pass 2, at document #2000/3204\n",
      "2022-02-28 17:54:27,263 : INFO : optimized alpha [0.009933907, 0.009945971, 0.01007478, 0.010314877, 0.00974013, 0.010218378, 0.0102128, 0.010363393, 0.010201095, 0.010036617, 0.009743, 0.00967768, 0.010007483, 0.010142006, 0.010185997, 0.010017905, 0.009800913, 0.009871634, 0.009891105, 0.010542774, 0.010111458, 0.010298347, 0.009803476, 0.009999556, 0.00955504, 0.010031742, 0.009929712, 0.009049578, 0.010213803, 0.010077253, 0.009935885, 0.010265467, 0.010021852, 0.010038207, 0.009815077, 0.010102546, 0.01045663, 0.009994033, 0.010396885, 0.009886808, 0.00991193, 0.009707034, 0.009731293, 0.009999941, 0.009936671, 0.01020258, 0.010415223, 0.009049578, 0.010056571, 0.009930192, 0.0106411595, 0.009668157, 0.010194149, 0.010233103, 0.0100531895, 0.009934491, 0.010140717, 0.01041948, 0.009793081, 0.010140876, 0.010072235, 0.010072495, 0.010368294, 0.009835842, 0.010293941, 0.0108648045, 0.010902787, 0.0102792755, 0.010249687, 0.009875231, 0.010015072, 0.01125189, 0.010478177, 0.010239965, 0.01037822, 0.010322099, 0.009945096, 0.010166241, 0.0100405635, 0.009941281, 0.010152783, 0.010452347, 0.010163806, 0.010057191, 0.010043239, 0.010155474, 0.0098573575, 0.010631462, 0.009780853, 0.010161483, 0.010297688, 0.010383781, 0.009930328, 0.0101204775, 0.009882556, 0.010738636, 0.010035791, 0.010275402, 0.0102293305, 0.009938515]\n",
      "2022-02-28 17:54:27,274 : INFO : merging changes from 2000 documents into a model of 3204 documents\n",
      "2022-02-28 17:54:27,281 : INFO : topic #47 (0.009): 0.001*\"implic\" + 0.001*\"favor\" + 0.001*\"adapt\" + 0.001*\"polygon\" + 0.001*\"stage\" + 0.001*\"situat\" + 0.001*\"respons\" + 0.001*\"industri\" + 0.001*\"regress\" + 0.001*\"drive\"\n",
      "2022-02-28 17:54:27,281 : INFO : topic #27 (0.009): 0.001*\"implic\" + 0.001*\"favor\" + 0.001*\"adapt\" + 0.001*\"polygon\" + 0.001*\"stage\" + 0.001*\"situat\" + 0.001*\"respons\" + 0.001*\"industri\" + 0.001*\"regress\" + 0.001*\"drive\"\n",
      "2022-02-28 17:54:27,281 : INFO : topic #65 (0.011): 0.164*\"(\" + 0.157*\"[\" + 0.156*\"algorithm\" + 0.100*\")\" + 0.089*\"]\" + 0.048*\"])\" + 0.046*\"polynomi\" + 0.017*\"root\" + 0.013*\"procedur\" + 0.013*\"e4\"\n",
      "2022-02-28 17:54:27,281 : INFO : topic #66 (0.011): 0.250*\"(\" + 0.216*\")\" + 0.197*\"algorithm\" + 0.080*\"function\" + 0.038*\"complex\" + 0.027*\"number\" + 0.027*\"gener\" + 0.024*\"invers\" + 0.018*\"gamma\" + 0.015*\"$\"\n",
      "2022-02-28 17:54:27,281 : INFO : topic #71 (0.011): 0.182*\"languag\" + 0.115*\"program\" + 0.049*\",\" + 0.044*\"-\" + 0.039*\"algol\" + 0.032*\"compil\" + 0.020*\"translat\" + 0.020*\"machin\" + 0.016*\"level\" + 0.016*\"sourc\"\n",
      "2022-02-28 17:54:27,291 : INFO : topic diff=0.385114, rho=0.466151\n",
      "2022-02-28 17:54:28,306 : INFO : -6.786 per-word bound, 110.3 perplexity estimate based on a held-out corpus of 1204 documents with 49783 words\n",
      "2022-02-28 17:54:28,307 : INFO : PROGRESS: pass 2, at document #3204/3204\n",
      "2022-02-28 17:54:29,205 : INFO : optimized alpha [0.009992662, 0.010107214, 0.010266774, 0.010546875, 0.009790358, 0.010455935, 0.010319498, 0.010718703, 0.010412718, 0.0101884585, 0.00980762, 0.009741731, 0.010080579, 0.01029204, 0.01024497, 0.01018231, 0.00986445, 0.010005104, 0.009966016, 0.01081512, 0.010264285, 0.010460569, 0.0098229395, 0.010137606, 0.009549626, 0.010163176, 0.010024806, 0.008903838, 0.0103759775, 0.010231103, 0.010050113, 0.010457076, 0.010202696, 0.010177296, 0.009990704, 0.0103117265, 0.010709072, 0.01007408, 0.010556219, 0.010016937, 0.01000847, 0.009722242, 0.009742331, 0.010109378, 0.010108495, 0.010383181, 0.010647944, 0.008903838, 0.010314158, 0.01006622, 0.010859257, 0.0096541345, 0.010289695, 0.01045442, 0.010221161, 0.010102795, 0.010352489, 0.0107354205, 0.009810654, 0.010309738, 0.01026037, 0.01027842, 0.010599327, 0.009957542, 0.01052144, 0.011135185, 0.011254662, 0.01062365, 0.010363839, 0.009907919, 0.010240625, 0.011679197, 0.010836527, 0.010530365, 0.010337701, 0.010612035, 0.010035151, 0.010359044, 0.010193112, 0.01004346, 0.010351689, 0.010715479, 0.010351613, 0.01014402, 0.010315858, 0.010277469, 0.010017135, 0.010903706, 0.009859219, 0.010259303, 0.01055169, 0.010627064, 0.009923967, 0.010262717, 0.009911885, 0.0108939605, 0.01012622, 0.010538188, 0.010420197, 0.010084839]\n"
     ]
    },
    {
     "name": "stderr",
     "output_type": "stream",
     "text": [
      "2022-02-28 17:54:29,213 : INFO : merging changes from 1204 documents into a model of 3204 documents\n",
      "2022-02-28 17:54:29,224 : INFO : topic #27 (0.009): 0.001*\"implic\" + 0.001*\"favor\" + 0.001*\"adapt\" + 0.001*\"polygon\" + 0.001*\"stage\" + 0.001*\"situat\" + 0.001*\"respons\" + 0.001*\"industri\" + 0.001*\"regress\" + 0.001*\"drive\"\n",
      "2022-02-28 17:54:29,225 : INFO : topic #47 (0.009): 0.001*\"implic\" + 0.001*\"favor\" + 0.001*\"adapt\" + 0.001*\"polygon\" + 0.001*\"stage\" + 0.001*\"situat\" + 0.001*\"respons\" + 0.001*\"industri\" + 0.001*\"regress\" + 0.001*\"drive\"\n",
      "2022-02-28 17:54:29,226 : INFO : topic #65 (0.011): 0.174*\"[\" + 0.160*\"(\" + 0.158*\"algorithm\" + 0.144*\"]\" + 0.127*\")\" + 0.031*\"polynomi\" + 0.023*\"])\" + 0.014*\"root\" + 0.013*\"procedur\" + 0.012*\"certif\"\n",
      "2022-02-28 17:54:29,227 : INFO : topic #66 (0.011): 0.274*\"(\" + 0.229*\")\" + 0.190*\"algorithm\" + 0.082*\"function\" + 0.042*\"complex\" + 0.026*\"number\" + 0.022*\"gener\" + 0.017*\"invers\" + 0.016*\"gamma\" + 0.012*\"$\"\n",
      "2022-02-28 17:54:29,227 : INFO : topic #71 (0.012): 0.186*\"languag\" + 0.130*\"program\" + 0.052*\",\" + 0.039*\"-\" + 0.033*\"compil\" + 0.028*\"algol\" + 0.021*\"level\" + 0.020*\"translat\" + 0.019*\"machin\" + 0.017*\"sourc\"\n",
      "2022-02-28 17:54:29,228 : INFO : topic diff=0.529682, rho=0.466151\n",
      "2022-02-28 17:54:29,238 : INFO : PROGRESS: pass 3, at document #2000/3204\n",
      "2022-02-28 17:54:30,142 : INFO : optimized alpha [0.009973234, 0.010138016, 0.010348385, 0.010526615, 0.00972162, 0.010631982, 0.010456253, 0.010719872, 0.010480141, 0.010185111, 0.009774221, 0.009818577, 0.010113457, 0.010248678, 0.0103135, 0.010197275, 0.00982547, 0.009998129, 0.009998189, 0.010716323, 0.01030902, 0.010423035, 0.009775193, 0.010131812, 0.009566708, 0.010157935, 0.010009434, 0.0088016335, 0.010411548, 0.0102638705, 0.010064537, 0.010433989, 0.010175645, 0.010204437, 0.010024229, 0.010289534, 0.010856336, 0.010046031, 0.010485979, 0.010008067, 0.009980851, 0.00972313, 0.009744815, 0.010129297, 0.010093781, 0.010371334, 0.010704343, 0.0088016335, 0.010303506, 0.010087972, 0.010846659, 0.009692795, 0.0103494935, 0.0104866065, 0.010359845, 0.010102811, 0.010280944, 0.01075188, 0.009953288, 0.0103764795, 0.010262853, 0.010385412, 0.010619046, 0.010010423, 0.010476517, 0.011222067, 0.0120486505, 0.010675076, 0.010337986, 0.009889724, 0.010271774, 0.012183414, 0.011058083, 0.010519841, 0.010766504, 0.010569333, 0.010107428, 0.0103249615, 0.010159825, 0.010042781, 0.010507952, 0.010730584, 0.0104437675, 0.01010335, 0.01032176, 0.010232051, 0.009986057, 0.01102933, 0.009893206, 0.010242415, 0.010566597, 0.010826203, 0.009953264, 0.010323804, 0.009849508, 0.010800816, 0.010074953, 0.010535504, 0.010524952, 0.01009999]\n",
      "2022-02-28 17:54:30,151 : INFO : merging changes from 2000 documents into a model of 3204 documents\n",
      "2022-02-28 17:54:30,162 : INFO : topic #27 (0.009): 0.001*\"implic\" + 0.001*\"favor\" + 0.001*\"adapt\" + 0.001*\"polygon\" + 0.001*\"stage\" + 0.001*\"situat\" + 0.001*\"respons\" + 0.001*\"industri\" + 0.001*\"regress\" + 0.001*\"drive\"\n",
      "2022-02-28 17:54:30,163 : INFO : topic #47 (0.009): 0.001*\"implic\" + 0.001*\"favor\" + 0.001*\"adapt\" + 0.001*\"polygon\" + 0.001*\"stage\" + 0.001*\"situat\" + 0.001*\"respons\" + 0.001*\"industri\" + 0.001*\"regress\" + 0.001*\"drive\"\n",
      "2022-02-28 17:54:30,164 : INFO : topic #65 (0.011): 0.168*\"[\" + 0.166*\"(\" + 0.160*\"algorithm\" + 0.111*\")\" + 0.108*\"]\" + 0.046*\"polynomi\" + 0.043*\"])\" + 0.021*\"root\" + 0.015*\"chebyshev\" + 0.014*\"e4\"\n",
      "2022-02-28 17:54:30,165 : INFO : topic #66 (0.012): 0.288*\"(\" + 0.254*\")\" + 0.199*\"algorithm\" + 0.074*\"function\" + 0.034*\"complex\" + 0.023*\"invers\" + 0.021*\"number\" + 0.018*\"gener\" + 0.014*\"gamma\" + 0.006*\"$\"\n",
      "2022-02-28 17:54:30,165 : INFO : topic #71 (0.012): 0.185*\"languag\" + 0.121*\"program\" + 0.051*\",\" + 0.045*\"algol\" + 0.044*\"-\" + 0.035*\"compil\" + 0.022*\"translat\" + 0.020*\"machin\" + 0.018*\"60\" + 0.016*\"level\"\n",
      "2022-02-28 17:54:30,166 : INFO : topic diff=0.539959, rho=0.422502\n",
      "2022-02-28 17:54:31,108 : INFO : -6.703 per-word bound, 104.2 perplexity estimate based on a held-out corpus of 1204 documents with 49783 words\n",
      "2022-02-28 17:54:31,109 : INFO : PROGRESS: pass 3, at document #3204/3204\n",
      "2022-02-28 17:54:31,907 : INFO : optimized alpha [0.010044897, 0.010339353, 0.010560971, 0.010761908, 0.009827374, 0.010858113, 0.010548903, 0.0110709695, 0.01069997, 0.010352495, 0.00984067, 0.009911547, 0.010208726, 0.01038952, 0.01038517, 0.010383866, 0.009911929, 0.010144598, 0.010084256, 0.010950392, 0.010481518, 0.010548799, 0.009808591, 0.0102616735, 0.009590191, 0.010299733, 0.010103364, 0.008677806, 0.010581969, 0.0104152085, 0.010182752, 0.010609182, 0.010355427, 0.010338474, 0.01024201, 0.010492068, 0.0111041395, 0.010137371, 0.01063138, 0.010162444, 0.010072808, 0.009744895, 0.0097662825, 0.010229231, 0.010258077, 0.010521553, 0.010933427, 0.008677806, 0.010566471, 0.01024755, 0.011057614, 0.009711958, 0.010450769, 0.010719309, 0.010557233, 0.010288898, 0.010489313, 0.011074132, 0.009999914, 0.010549351, 0.010460181, 0.01062952, 0.010823349, 0.010156633, 0.010695676, 0.011482878, 0.012589106, 0.011025124, 0.010438696, 0.009923776, 0.010500541, 0.01258788, 0.01143635, 0.010783244, 0.010727172, 0.010820648, 0.010207275, 0.010505057, 0.01032466, 0.010135969, 0.010701404, 0.010991386, 0.0106227975, 0.010168592, 0.010591094, 0.01036144, 0.010139276, 0.011221096, 0.0099751325, 0.010357262, 0.010822178, 0.011088437, 0.009951871, 0.010497748, 0.009881253, 0.0109117, 0.010175778, 0.010795608, 0.010695734, 0.01025521]\n",
      "2022-02-28 17:54:31,915 : INFO : merging changes from 1204 documents into a model of 3204 documents\n",
      "2022-02-28 17:54:31,926 : INFO : topic #27 (0.009): 0.001*\"implic\" + 0.001*\"favor\" + 0.001*\"adapt\" + 0.001*\"polygon\" + 0.001*\"stage\" + 0.001*\"situat\" + 0.001*\"respons\" + 0.001*\"industri\" + 0.001*\"regress\" + 0.001*\"drive\"\n",
      "2022-02-28 17:54:31,926 : INFO : topic #47 (0.009): 0.001*\"implic\" + 0.001*\"favor\" + 0.001*\"adapt\" + 0.001*\"polygon\" + 0.001*\"stage\" + 0.001*\"situat\" + 0.001*\"respons\" + 0.001*\"industri\" + 0.001*\"regress\" + 0.001*\"drive\"\n",
      "2022-02-28 17:54:31,928 : INFO : topic #65 (0.011): 0.180*\"[\" + 0.162*\"(\" + 0.160*\"algorithm\" + 0.152*\"]\" + 0.135*\")\" + 0.031*\"polynomi\" + 0.022*\"])\" + 0.016*\"root\" + 0.013*\"-\" + 0.012*\"certif\"\n",
      "2022-02-28 17:54:31,928 : INFO : topic #66 (0.013): 0.311*\"(\" + 0.266*\")\" + 0.190*\"algorithm\" + 0.072*\"function\" + 0.035*\"complex\" + 0.019*\"number\" + 0.016*\"invers\" + 0.015*\"gener\" + 0.013*\"gamma\" + 0.008*\").\"\n",
      "2022-02-28 17:54:31,929 : INFO : topic #71 (0.013): 0.190*\"languag\" + 0.133*\"program\" + 0.053*\",\" + 0.040*\"-\" + 0.035*\"compil\" + 0.033*\"algol\" + 0.023*\"translat\" + 0.020*\"level\" + 0.020*\"machin\" + 0.016*\"sourc\"\n",
      "2022-02-28 17:54:31,930 : INFO : topic diff=0.655833, rho=0.422502\n",
      "2022-02-28 17:54:31,939 : INFO : PROGRESS: pass 4, at document #2000/3204\n",
      "2022-02-28 17:54:32,808 : INFO : optimized alpha [0.01003936, 0.010395512, 0.010661161, 0.010779665, 0.009783837, 0.011044328, 0.010694896, 0.011086268, 0.010768014, 0.01036288, 0.0098262075, 0.009992698, 0.010249124, 0.010367707, 0.010454725, 0.010413252, 0.0098883305, 0.010149632, 0.010131995, 0.010866681, 0.010549223, 0.010514353, 0.009787474, 0.010270167, 0.009612331, 0.0103188595, 0.010101336, 0.0085893525, 0.010626766, 0.01044917, 0.010209889, 0.010587287, 0.010347982, 0.010367338, 0.010288234, 0.01046844, 0.011265312, 0.0101220785, 0.010579322, 0.010169722, 0.010057806, 0.00976199, 0.009779129, 0.010261729, 0.010241977, 0.0105060665, 0.010991404, 0.0085893525, 0.010569535, 0.010273073, 0.011064411, 0.00977691, 0.010520459, 0.010756235, 0.010740274, 0.010312174, 0.010428418, 0.011115337, 0.010173963, 0.01061504, 0.01046968, 0.010738866, 0.010846833, 0.01023125, 0.010665413, 0.011519138, 0.013607967, 0.011099305, 0.010425436, 0.009917817, 0.010538589, 0.013113021, 0.011701437, 0.01077577, 0.011189288, 0.010785597, 0.010300595, 0.0104770055, 0.0103077395, 0.010151459, 0.01086196, 0.01102105, 0.010710043, 0.010130083, 0.010611321, 0.010327691, 0.010128037, 0.011240057, 0.0100204, 0.010358059, 0.010851277, 0.011327312, 0.00999153, 0.010574666, 0.009837261, 0.010822613, 0.010140906, 0.01080613, 0.01081584, 0.010278738]\n",
      "2022-02-28 17:54:32,815 : INFO : merging changes from 2000 documents into a model of 3204 documents\n",
      "2022-02-28 17:54:32,821 : INFO : topic #47 (0.009): 0.001*\"implic\" + 0.001*\"favor\" + 0.001*\"adapt\" + 0.001*\"polygon\" + 0.001*\"stage\" + 0.001*\"situat\" + 0.001*\"respons\" + 0.001*\"industri\" + 0.001*\"regress\" + 0.001*\"drive\"\n"
     ]
    },
    {
     "name": "stderr",
     "output_type": "stream",
     "text": [
      "2022-02-28 17:54:32,821 : INFO : topic #27 (0.009): 0.001*\"implic\" + 0.001*\"favor\" + 0.001*\"adapt\" + 0.001*\"polygon\" + 0.001*\"stage\" + 0.001*\"situat\" + 0.001*\"respons\" + 0.001*\"industri\" + 0.001*\"regress\" + 0.001*\"drive\"\n",
      "2022-02-28 17:54:32,821 : INFO : topic #72 (0.012): 0.369*\"method\" + 0.054*\",\" + 0.050*\"charact\" + 0.034*\"correct\" + 0.031*\"-\" + 0.029*\"applic\" + 0.026*\"result\" + 0.026*\"appli\" + 0.023*\"set\" + 0.023*\"present\"\n",
      "2022-02-28 17:54:32,821 : INFO : topic #71 (0.013): 0.187*\"languag\" + 0.124*\"program\" + 0.052*\",\" + 0.048*\"algol\" + 0.045*\"-\" + 0.036*\"compil\" + 0.025*\"translat\" + 0.020*\"machin\" + 0.019*\"60\" + 0.016*\"level\"\n",
      "2022-02-28 17:54:32,821 : INFO : topic #66 (0.014): 0.317*\"(\" + 0.282*\")\" + 0.198*\"algorithm\" + 0.065*\"function\" + 0.029*\"complex\" + 0.020*\"invers\" + 0.017*\"number\" + 0.013*\"gener\" + 0.012*\"gamma\" + 0.006*\").\"\n",
      "2022-02-28 17:54:32,831 : INFO : topic diff=0.634995, rho=0.389191\n",
      "2022-02-28 17:54:33,790 : INFO : -6.645 per-word bound, 100.1 perplexity estimate based on a held-out corpus of 1204 documents with 49783 words\n",
      "2022-02-28 17:54:33,791 : INFO : PROGRESS: pass 4, at document #3204/3204\n",
      "2022-02-28 17:54:34,608 : INFO : optimized alpha [0.010109441, 0.010590316, 0.010859802, 0.011020475, 0.009898406, 0.011266374, 0.010786771, 0.011449033, 0.01097663, 0.01052504, 0.00989154, 0.010095068, 0.01037764, 0.010505223, 0.010520978, 0.010600592, 0.009997929, 0.010305565, 0.010215002, 0.011120054, 0.010733544, 0.010621008, 0.009829075, 0.010404326, 0.009637739, 0.010477695, 0.010191963, 0.008481728, 0.010795715, 0.010586424, 0.010329587, 0.010739769, 0.010522175, 0.010491701, 0.010508698, 0.010656802, 0.011504535, 0.010213765, 0.010724876, 0.010323186, 0.010149946, 0.009808066, 0.009806148, 0.01036458, 0.010401373, 0.0106521575, 0.011227011, 0.008481728, 0.010833042, 0.010414848, 0.011268212, 0.009807482, 0.010603692, 0.010959256, 0.010938599, 0.010525753, 0.010622427, 0.011429053, 0.010225981, 0.01078649, 0.010660248, 0.011005834, 0.011061796, 0.010393693, 0.010872935, 0.011751447, 0.0143804485, 0.011429925, 0.0105396835, 0.009966376, 0.010776162, 0.013503956, 0.012141269, 0.011028722, 0.011171929, 0.011026699, 0.010389556, 0.010654769, 0.010461042, 0.010244631, 0.011059715, 0.011282891, 0.01086942, 0.010201201, 0.010866885, 0.010447782, 0.0102903005, 0.011388543, 0.010102818, 0.010484979, 0.011072499, 0.011599127, 0.010000804, 0.010746915, 0.009877496, 0.010933199, 0.010221462, 0.011070271, 0.01097796, 0.010446564]\n",
      "2022-02-28 17:54:34,617 : INFO : merging changes from 1204 documents into a model of 3204 documents\n",
      "2022-02-28 17:54:34,628 : INFO : topic #47 (0.008): 0.001*\"implic\" + 0.001*\"favor\" + 0.001*\"adapt\" + 0.001*\"polygon\" + 0.001*\"stage\" + 0.001*\"situat\" + 0.001*\"respons\" + 0.001*\"industri\" + 0.001*\"regress\" + 0.001*\"drive\"\n",
      "2022-02-28 17:54:34,629 : INFO : topic #27 (0.008): 0.001*\"implic\" + 0.001*\"favor\" + 0.001*\"adapt\" + 0.001*\"polygon\" + 0.001*\"stage\" + 0.001*\"situat\" + 0.001*\"respons\" + 0.001*\"industri\" + 0.001*\"regress\" + 0.001*\"drive\"\n",
      "2022-02-28 17:54:34,630 : INFO : topic #72 (0.012): 0.397*\"method\" + 0.055*\",\" + 0.040*\"charact\" + 0.034*\"correct\" + 0.028*\"-\" + 0.028*\"applic\" + 0.025*\"result\" + 0.025*\"appli\" + 0.024*\"set\" + 0.023*\"present\"\n",
      "2022-02-28 17:54:34,631 : INFO : topic #71 (0.014): 0.191*\"languag\" + 0.135*\"program\" + 0.054*\",\" + 0.041*\"-\" + 0.037*\"algol\" + 0.036*\"compil\" + 0.025*\"translat\" + 0.020*\"machin\" + 0.019*\"level\" + 0.016*\"sourc\"\n",
      "2022-02-28 17:54:34,632 : INFO : topic #66 (0.014): 0.335*\"(\" + 0.293*\")\" + 0.187*\"algorithm\" + 0.061*\"function\" + 0.030*\"complex\" + 0.015*\"invers\" + 0.014*\"number\" + 0.011*\"gamma\" + 0.011*\"gener\" + 0.008*\").\"\n",
      "2022-02-28 17:54:34,633 : INFO : topic diff=0.696774, rho=0.389191\n",
      "2022-02-28 17:54:34,641 : INFO : PROGRESS: pass 5, at document #2000/3204\n",
      "2022-02-28 17:54:35,505 : INFO : optimized alpha [0.010106699, 0.010658205, 0.0109658195, 0.011050137, 0.009859805, 0.011498466, 0.010934353, 0.011468997, 0.011051895, 0.010545836, 0.009891281, 0.010200782, 0.010422976, 0.010488485, 0.010588314, 0.010646795, 0.009994225, 0.010328594, 0.0102599915, 0.011040185, 0.010814462, 0.010591115, 0.009808587, 0.010417817, 0.009667783, 0.0105258105, 0.010194008, 0.008403894, 0.01084714, 0.010614053, 0.010358762, 0.010728934, 0.01052811, 0.0105223, 0.010579971, 0.010629995, 0.011677845, 0.010211159, 0.010684126, 0.010350326, 0.010143727, 0.009835245, 0.009820686, 0.010393281, 0.010393486, 0.010641282, 0.011293061, 0.008403894, 0.010852285, 0.010444079, 0.011271578, 0.009901124, 0.010682754, 0.011003074, 0.011152215, 0.010550331, 0.010566703, 0.011476473, 0.010420334, 0.010861598, 0.010674256, 0.011120317, 0.011094905, 0.010471153, 0.010843619, 0.011753754, 0.015604183, 0.0115214735, 0.010541117, 0.009963366, 0.010818656, 0.014033892, 0.012442812, 0.01102012, 0.0116048725, 0.010988346, 0.010498416, 0.0106299445, 0.010456464, 0.0102705285, 0.01121776, 0.011317458, 0.010964981, 0.010169833, 0.0108923325, 0.010420268, 0.010294333, 0.011403588, 0.010152767, 0.010500963, 0.0110967625, 0.011844193, 0.010042339, 0.010812965, 0.009835873, 0.010855213, 0.010193312, 0.011078582, 0.011090853, 0.010481316]\n",
      "2022-02-28 17:54:35,513 : INFO : merging changes from 2000 documents into a model of 3204 documents\n",
      "2022-02-28 17:54:35,523 : INFO : topic #27 (0.008): 0.001*\"implic\" + 0.001*\"favor\" + 0.001*\"adapt\" + 0.001*\"polygon\" + 0.001*\"stage\" + 0.001*\"situat\" + 0.001*\"respons\" + 0.001*\"industri\" + 0.001*\"regress\" + 0.001*\"drive\"\n",
      "2022-02-28 17:54:35,525 : INFO : topic #47 (0.008): 0.001*\"implic\" + 0.001*\"favor\" + 0.001*\"adapt\" + 0.001*\"polygon\" + 0.001*\"stage\" + 0.001*\"situat\" + 0.001*\"respons\" + 0.001*\"industri\" + 0.001*\"regress\" + 0.001*\"drive\"\n",
      "2022-02-28 17:54:35,526 : INFO : topic #72 (0.012): 0.404*\"method\" + 0.052*\",\" + 0.045*\"charact\" + 0.030*\"correct\" + 0.028*\"applic\" + 0.028*\"-\" + 0.025*\"appli\" + 0.025*\"result\" + 0.024*\"present\" + 0.024*\"set\"\n",
      "2022-02-28 17:54:35,527 : INFO : topic #71 (0.014): 0.188*\"languag\" + 0.127*\"program\" + 0.054*\",\" + 0.050*\"algol\" + 0.045*\"-\" + 0.037*\"compil\" + 0.027*\"translat\" + 0.021*\"machin\" + 0.020*\"60\" + 0.015*\"sourc\"\n",
      "2022-02-28 17:54:35,527 : INFO : topic #66 (0.016): 0.336*\"(\" + 0.303*\")\" + 0.193*\"algorithm\" + 0.056*\"function\" + 0.026*\"complex\" + 0.018*\"invers\" + 0.013*\"number\" + 0.010*\"gamma\" + 0.009*\"gener\" + 0.006*\").\"\n",
      "2022-02-28 17:54:35,529 : INFO : topic diff=0.638212, rho=0.362690\n",
      "2022-02-28 17:54:36,442 : INFO : -6.601 per-word bound, 97.1 perplexity estimate based on a held-out corpus of 1204 documents with 49783 words\n",
      "2022-02-28 17:54:36,443 : INFO : PROGRESS: pass 5, at document #3204/3204\n",
      "2022-02-28 17:54:37,212 : INFO : optimized alpha [0.010163557, 0.01085517, 0.011166547, 0.011301444, 0.009979832, 0.011722318, 0.011039705, 0.011831918, 0.011272048, 0.010695208, 0.009952941, 0.010315278, 0.0105786165, 0.010633763, 0.010650352, 0.010839674, 0.010106371, 0.010481541, 0.010344107, 0.0112893535, 0.01099491, 0.010710697, 0.009851464, 0.010556643, 0.009700841, 0.010717045, 0.010291521, 0.008308791, 0.011019432, 0.01073973, 0.010471222, 0.010885528, 0.010708349, 0.010642286, 0.010846538, 0.010797509, 0.011918489, 0.010316343, 0.010820991, 0.010507319, 0.010227418, 0.00988772, 0.009870352, 0.010489944, 0.01055301, 0.010781814, 0.011512381, 0.008308791, 0.011118668, 0.010583562, 0.011463629, 0.009941597, 0.010763916, 0.011194505, 0.011376626, 0.01075838, 0.010752576, 0.011781502, 0.010496156, 0.011033052, 0.010850692, 0.011411023, 0.011311283, 0.010608278, 0.011055643, 0.011958467, 0.016571065, 0.011857977, 0.010668057, 0.010024569, 0.011049885, 0.014409818, 0.01290277, 0.011262376, 0.011579762, 0.011215701, 0.010584718, 0.0108004715, 0.010603942, 0.010373571, 0.011400951, 0.011558291, 0.011114833, 0.010243233, 0.0111473985, 0.010536329, 0.01045341, 0.011546617, 0.010233124, 0.010636302, 0.011305413, 0.012117108, 0.010060795, 0.010984909, 0.009886543, 0.010966208, 0.010275544, 0.01134201, 0.011249822, 0.010674275]\n",
      "2022-02-28 17:54:37,219 : INFO : merging changes from 1204 documents into a model of 3204 documents\n",
      "2022-02-28 17:54:37,230 : INFO : topic #47 (0.008): 0.001*\"implic\" + 0.001*\"favor\" + 0.001*\"adapt\" + 0.001*\"polygon\" + 0.001*\"stage\" + 0.001*\"situat\" + 0.001*\"respons\" + 0.001*\"industri\" + 0.001*\"regress\" + 0.001*\"drive\"\n"
     ]
    },
    {
     "name": "stderr",
     "output_type": "stream",
     "text": [
      "2022-02-28 17:54:37,231 : INFO : topic #27 (0.008): 0.001*\"implic\" + 0.001*\"favor\" + 0.001*\"adapt\" + 0.001*\"polygon\" + 0.001*\"stage\" + 0.001*\"situat\" + 0.001*\"respons\" + 0.001*\"industri\" + 0.001*\"regress\" + 0.001*\"drive\"\n",
      "2022-02-28 17:54:37,232 : INFO : topic #72 (0.013): 0.427*\"method\" + 0.053*\",\" + 0.035*\"charact\" + 0.029*\"correct\" + 0.027*\"applic\" + 0.025*\"-\" + 0.025*\"appli\" + 0.025*\"set\" + 0.024*\"result\" + 0.024*\"present\"\n",
      "2022-02-28 17:54:37,233 : INFO : topic #71 (0.014): 0.192*\"languag\" + 0.134*\"program\" + 0.055*\",\" + 0.041*\"-\" + 0.040*\"algol\" + 0.037*\"compil\" + 0.026*\"translat\" + 0.020*\"machin\" + 0.018*\"level\" + 0.017*\"60\"\n",
      "2022-02-28 17:54:37,233 : INFO : topic #66 (0.017): 0.351*\"(\" + 0.312*\")\" + 0.181*\"algorithm\" + 0.054*\"function\" + 0.027*\"complex\" + 0.014*\"invers\" + 0.012*\"number\" + 0.010*\"gamma\" + 0.008*\"gener\" + 0.008*\").\"\n",
      "2022-02-28 17:54:37,235 : INFO : topic diff=0.659794, rho=0.362690\n",
      "2022-02-28 17:54:37,243 : INFO : PROGRESS: pass 6, at document #2000/3204\n",
      "2022-02-28 17:54:38,091 : INFO : optimized alpha [0.010166822, 0.010924863, 0.011270957, 0.011336117, 0.009953798, 0.011983875, 0.011191627, 0.011854422, 0.0113447895, 0.010723767, 0.009985639, 0.010442273, 0.010630275, 0.010621422, 0.010714313, 0.010907153, 0.010109998, 0.01051919, 0.010388623, 0.011216582, 0.011079013, 0.010690082, 0.009856941, 0.010576417, 0.009731386, 0.010776909, 0.010311353, 0.0082393605, 0.011062226, 0.010769431, 0.01050416, 0.010880638, 0.010718949, 0.010676528, 0.010924659, 0.010769966, 0.012100306, 0.010321136, 0.010782701, 0.010548822, 0.010223795, 0.009920611, 0.009886265, 0.010518958, 0.010548845, 0.010778704, 0.011572374, 0.0082393605, 0.011156661, 0.010607329, 0.011474129, 0.0100425575, 0.010840835, 0.01122961, 0.011615221, 0.010801066, 0.010699495, 0.011830938, 0.010700039, 0.011108007, 0.010867041, 0.011540936, 0.01134757, 0.010696084, 0.011027044, 0.01192033, 0.01794577, 0.011962194, 0.010676625, 0.010032582, 0.0111080995, 0.0149441585, 0.013203043, 0.011256803, 0.012034667, 0.011185944, 0.010695592, 0.010780346, 0.0106012095, 0.010403536, 0.011555694, 0.011595933, 0.011212943, 0.010217779, 0.0111816805, 0.010517779, 0.0104586985, 0.011570357, 0.010287521, 0.010660407, 0.011341051, 0.012378058, 0.010114391, 0.011056788, 0.009856897, 0.010897499, 0.010253128, 0.011360109, 0.011360742, 0.010722981]\n",
      "2022-02-28 17:54:38,099 : INFO : merging changes from 2000 documents into a model of 3204 documents\n",
      "2022-02-28 17:54:38,110 : INFO : topic #27 (0.008): 0.001*\"implic\" + 0.001*\"favor\" + 0.001*\"adapt\" + 0.001*\"polygon\" + 0.001*\"stage\" + 0.001*\"situat\" + 0.001*\"respons\" + 0.001*\"industri\" + 0.001*\"regress\" + 0.001*\"drive\"\n",
      "2022-02-28 17:54:38,111 : INFO : topic #47 (0.008): 0.001*\"implic\" + 0.001*\"favor\" + 0.001*\"adapt\" + 0.001*\"polygon\" + 0.001*\"stage\" + 0.001*\"situat\" + 0.001*\"respons\" + 0.001*\"industri\" + 0.001*\"regress\" + 0.001*\"drive\"\n",
      "2022-02-28 17:54:38,112 : INFO : topic #72 (0.013): 0.434*\"method\" + 0.051*\",\" + 0.036*\"charact\" + 0.028*\"applic\" + 0.026*\"correct\" + 0.026*\"appli\" + 0.025*\"-\" + 0.024*\"present\" + 0.024*\"result\" + 0.024*\"set\"\n",
      "2022-02-28 17:54:38,113 : INFO : topic #71 (0.015): 0.190*\"languag\" + 0.126*\"program\" + 0.055*\",\" + 0.051*\"algol\" + 0.045*\"-\" + 0.038*\"compil\" + 0.028*\"translat\" + 0.021*\"60\" + 0.021*\"machin\" + 0.016*\"sourc\"\n",
      "2022-02-28 17:54:38,113 : INFO : topic #66 (0.018): 0.349*\"(\" + 0.318*\")\" + 0.188*\"algorithm\" + 0.050*\"function\" + 0.024*\"complex\" + 0.016*\"invers\" + 0.011*\"number\" + 0.010*\"gamma\" + 0.007*\"gener\" + 0.006*\").\"\n",
      "2022-02-28 17:54:38,114 : INFO : topic diff=0.585648, rho=0.340958\n",
      "2022-02-28 17:54:39,056 : INFO : -6.568 per-word bound, 94.9 perplexity estimate based on a held-out corpus of 1204 documents with 49783 words\n",
      "2022-02-28 17:54:39,057 : INFO : PROGRESS: pass 6, at document #3204/3204\n",
      "2022-02-28 17:54:39,851 : INFO : optimized alpha [0.010229744, 0.011109381, 0.011484724, 0.011595628, 0.01007635, 0.012194308, 0.011297131, 0.012213351, 0.011551315, 0.010877715, 0.010064119, 0.010574576, 0.010781311, 0.01075936, 0.010782157, 0.011100243, 0.010230789, 0.010691493, 0.010477186, 0.011476301, 0.011275965, 0.010812753, 0.0098953135, 0.010735443, 0.0097657805, 0.011029688, 0.010409839, 0.00815423, 0.0112196645, 0.010882476, 0.010622607, 0.011016829, 0.010905677, 0.010790215, 0.01120839, 0.010931824, 0.012330172, 0.01042101, 0.010927978, 0.010716187, 0.010303436, 0.009984598, 0.009936504, 0.010610532, 0.010709448, 0.010921197, 0.011797934, 0.00815423, 0.011421257, 0.010736635, 0.011670002, 0.010086337, 0.010914378, 0.011421209, 0.011829832, 0.011014624, 0.0108852815, 0.012116452, 0.010783081, 0.011280518, 0.011043827, 0.011830021, 0.011576381, 0.01083519, 0.011234934, 0.012111315, 0.019066455, 0.012296373, 0.010793932, 0.010090922, 0.011331992, 0.015311129, 0.0136854, 0.01148744, 0.01201577, 0.011418096, 0.010786173, 0.01094853, 0.0107413065, 0.01051608, 0.011733113, 0.011832347, 0.011354993, 0.010290657, 0.011437936, 0.010630925, 0.010621686, 0.0117156785, 0.010366491, 0.010791922, 0.011536299, 0.012643386, 0.010129265, 0.011229704, 0.009899798, 0.011012445, 0.010331276, 0.011627994, 0.011530729, 0.01091908]\n",
      "2022-02-28 17:54:39,859 : INFO : merging changes from 1204 documents into a model of 3204 documents\n",
      "2022-02-28 17:54:39,870 : INFO : topic #47 (0.008): 0.001*\"implic\" + 0.001*\"favor\" + 0.001*\"adapt\" + 0.001*\"polygon\" + 0.001*\"stage\" + 0.001*\"situat\" + 0.001*\"respons\" + 0.001*\"industri\" + 0.001*\"regress\" + 0.001*\"drive\"\n",
      "2022-02-28 17:54:39,872 : INFO : topic #27 (0.008): 0.001*\"implic\" + 0.001*\"favor\" + 0.001*\"adapt\" + 0.001*\"polygon\" + 0.001*\"stage\" + 0.001*\"situat\" + 0.001*\"respons\" + 0.001*\"industri\" + 0.001*\"regress\" + 0.001*\"drive\"\n",
      "2022-02-28 17:54:39,872 : INFO : topic #72 (0.014): 0.455*\"method\" + 0.051*\",\" + 0.027*\"applic\" + 0.027*\"charact\" + 0.026*\"correct\" + 0.026*\"appli\" + 0.025*\"set\" + 0.024*\"partial\" + 0.024*\"present\" + 0.023*\"-\"\n",
      "2022-02-28 17:54:39,873 : INFO : topic #71 (0.015): 0.194*\"languag\" + 0.134*\"program\" + 0.056*\",\" + 0.042*\"-\" + 0.041*\"algol\" + 0.038*\"compil\" + 0.027*\"translat\" + 0.021*\"machin\" + 0.018*\"60\" + 0.017*\"level\"\n",
      "2022-02-28 17:54:39,874 : INFO : topic #66 (0.019): 0.363*\"(\" + 0.326*\")\" + 0.176*\"algorithm\" + 0.047*\"function\" + 0.025*\"complex\" + 0.012*\"invers\" + 0.010*\"number\" + 0.010*\"gamma\" + 0.008*\").\" + 0.006*\"gener\"\n",
      "2022-02-28 17:54:39,875 : INFO : topic diff=0.588822, rho=0.340958\n",
      "2022-02-28 17:54:39,883 : INFO : PROGRESS: pass 7, at document #2000/3204\n",
      "2022-02-28 17:54:40,845 : INFO : optimized alpha [0.010238318, 0.011171989, 0.011582591, 0.01163318, 0.010054997, 0.01245994, 0.0114502795, 0.012236441, 0.011629548, 0.010916887, 0.010113479, 0.0107135875, 0.010832129, 0.010756291, 0.010845101, 0.011175156, 0.010234194, 0.010728733, 0.010519719, 0.011411313, 0.011354253, 0.010800338, 0.009907723, 0.010764323, 0.009796896, 0.011114798, 0.01044075, 0.008091652, 0.011265692, 0.010908966, 0.010662575, 0.01101937, 0.010915211, 0.01082808, 0.011280584, 0.010910618, 0.012517111, 0.010437698, 0.010902285, 0.010764158, 0.010307173, 0.010029084, 0.009956949, 0.01064522, 0.010719012, 0.010925031, 0.011862349, 0.008091652, 0.011475156, 0.010759099, 0.011690729, 0.010187909, 0.010986176, 0.0114540765, 0.012080335, 0.011063632, 0.010834357, 0.012172198, 0.010993679, 0.011357444, 0.011062483, 0.011960179, 0.011615767, 0.010924273, 0.011212379, 0.012068584, 0.02058499, 0.012407426, 0.010810996, 0.010108888, 0.011394292, 0.015849164, 0.014005459, 0.011482902, 0.012463596, 0.011390492, 0.010902936, 0.010925401, 0.010752582, 0.010551513, 0.011885569, 0.011865449, 0.011452275, 0.010267155, 0.011469543, 0.010615218, 0.010626349, 0.01174737, 0.010421892, 0.01083229, 0.011573384, 0.012907033, 0.010185803, 0.011298092, 0.00987262, 0.010946143, 0.010315575, 0.011643877, 0.011644142, 0.010970365]\n",
      "2022-02-28 17:54:40,853 : INFO : merging changes from 2000 documents into a model of 3204 documents\n",
      "2022-02-28 17:54:40,862 : INFO : topic #27 (0.008): 0.001*\"implic\" + 0.001*\"favor\" + 0.001*\"adapt\" + 0.001*\"polygon\" + 0.001*\"stage\" + 0.001*\"situat\" + 0.001*\"respons\" + 0.001*\"industri\" + 0.001*\"regress\" + 0.001*\"drive\"\n",
      "2022-02-28 17:54:40,863 : INFO : topic #47 (0.008): 0.001*\"implic\" + 0.001*\"favor\" + 0.001*\"adapt\" + 0.001*\"polygon\" + 0.001*\"stage\" + 0.001*\"situat\" + 0.001*\"respons\" + 0.001*\"industri\" + 0.001*\"regress\" + 0.001*\"drive\"\n"
     ]
    },
    {
     "name": "stderr",
     "output_type": "stream",
     "text": [
      "2022-02-28 17:54:40,864 : INFO : topic #72 (0.014): 0.463*\"method\" + 0.049*\",\" + 0.027*\"applic\" + 0.026*\"appli\" + 0.026*\"charact\" + 0.024*\"present\" + 0.024*\"correct\" + 0.024*\"partial\" + 0.023*\"-\" + 0.023*\"result\"\n",
      "2022-02-28 17:54:40,864 : INFO : topic #71 (0.016): 0.192*\"languag\" + 0.127*\"program\" + 0.056*\",\" + 0.052*\"algol\" + 0.045*\"-\" + 0.040*\"compil\" + 0.028*\"translat\" + 0.022*\"60\" + 0.021*\"machin\" + 0.016*\"sourc\"\n",
      "2022-02-28 17:54:40,866 : INFO : topic #66 (0.021): 0.359*\"(\" + 0.330*\")\" + 0.183*\"algorithm\" + 0.045*\"function\" + 0.023*\"complex\" + 0.014*\"invers\" + 0.010*\"number\" + 0.009*\"gamma\" + 0.006*\").\" + 0.005*\"gener\"\n",
      "2022-02-28 17:54:40,866 : INFO : topic diff=0.515188, rho=0.322715\n",
      "2022-02-28 17:54:41,919 : INFO : -6.545 per-word bound, 93.4 perplexity estimate based on a held-out corpus of 1204 documents with 49783 words\n",
      "2022-02-28 17:54:41,919 : INFO : PROGRESS: pass 7, at document #3204/3204\n",
      "2022-02-28 17:54:42,816 : INFO : optimized alpha [0.010298512, 0.011357797, 0.011784732, 0.011873308, 0.010180351, 0.012665109, 0.011568902, 0.0125933075, 0.011843102, 0.011061113, 0.010191036, 0.010854487, 0.010982496, 0.010890993, 0.010906834, 0.011375436, 0.010363428, 0.010893773, 0.010604243, 0.011666325, 0.011552298, 0.010923339, 0.00994744, 0.010928139, 0.009829971, 0.011400782, 0.0105431145, 0.00801467, 0.011425385, 0.011019847, 0.010790077, 0.011158468, 0.011094155, 0.010936557, 0.011576331, 0.011053481, 0.012741223, 0.0105387885, 0.011047115, 0.010947667, 0.010389006, 0.010095618, 0.010007815, 0.010744142, 0.0108755855, 0.011052317, 0.012075707, 0.00801467, 0.01173947, 0.010891193, 0.011897319, 0.010237522, 0.011064976, 0.011649895, 0.012289981, 0.011271626, 0.011003266, 0.0124603575, 0.0110897245, 0.011525844, 0.011234692, 0.012262184, 0.01184488, 0.011057128, 0.011411426, 0.01224788, 0.021805722, 0.012741255, 0.010929079, 0.010170125, 0.0116032, 0.016187197, 0.014501913, 0.011710105, 0.01245399, 0.01160673, 0.010997804, 0.011089253, 0.0108922655, 0.010667513, 0.012055312, 0.012098728, 0.0116030695, 0.010339709, 0.011722098, 0.010734718, 0.010782264, 0.011889246, 0.0104998965, 0.010969646, 0.011766571, 0.01316642, 0.010225033, 0.01146675, 0.009916774, 0.011059088, 0.010395973, 0.011898309, 0.0118096415, 0.01116445]\n",
      "2022-02-28 17:54:42,824 : INFO : merging changes from 1204 documents into a model of 3204 documents\n",
      "2022-02-28 17:54:42,835 : INFO : topic #47 (0.008): 0.001*\"implic\" + 0.001*\"favor\" + 0.001*\"adapt\" + 0.001*\"polygon\" + 0.001*\"stage\" + 0.001*\"situat\" + 0.001*\"respons\" + 0.001*\"industri\" + 0.001*\"regress\" + 0.001*\"drive\"\n",
      "2022-02-28 17:54:42,836 : INFO : topic #27 (0.008): 0.001*\"implic\" + 0.001*\"favor\" + 0.001*\"adapt\" + 0.001*\"polygon\" + 0.001*\"stage\" + 0.001*\"situat\" + 0.001*\"respons\" + 0.001*\"industri\" + 0.001*\"regress\" + 0.001*\"drive\"\n",
      "2022-02-28 17:54:42,837 : INFO : topic #72 (0.015): 0.479*\"method\" + 0.049*\",\" + 0.027*\"applic\" + 0.026*\"appli\" + 0.025*\"partial\" + 0.024*\"present\" + 0.024*\"correct\" + 0.024*\"set\" + 0.023*\"result\" + 0.022*\"-\"\n",
      "2022-02-28 17:54:42,839 : INFO : topic #71 (0.016): 0.196*\"languag\" + 0.134*\"program\" + 0.057*\",\" + 0.043*\"algol\" + 0.042*\"-\" + 0.039*\"compil\" + 0.028*\"translat\" + 0.020*\"machin\" + 0.019*\"60\" + 0.017*\"level\"\n",
      "2022-02-28 17:54:42,840 : INFO : topic #66 (0.022): 0.371*\"(\" + 0.336*\")\" + 0.172*\"algorithm\" + 0.043*\"function\" + 0.023*\"complex\" + 0.011*\"invers\" + 0.009*\"number\" + 0.009*\"gamma\" + 0.008*\").\" + 0.005*\"gener\"\n",
      "2022-02-28 17:54:42,841 : INFO : topic diff=0.512748, rho=0.322715\n",
      "2022-02-28 17:54:42,850 : INFO : PROGRESS: pass 8, at document #2000/3204\n",
      "2022-02-28 17:54:43,800 : INFO : optimized alpha [0.010305547, 0.011426318, 0.011878521, 0.011912156, 0.010164638, 0.012924115, 0.011716771, 0.012613341, 0.011917768, 0.011100152, 0.010248086, 0.010993858, 0.011029301, 0.010893021, 0.010977448, 0.01145242, 0.010372979, 0.010932565, 0.010650096, 0.011619041, 0.011637813, 0.010911536, 0.009961466, 0.010963886, 0.00986162, 0.011508476, 0.010580918, 0.00795778, 0.011469254, 0.011043568, 0.010836573, 0.011169563, 0.011102706, 0.010969481, 0.011655642, 0.011031316, 0.0129338605, 0.010558105, 0.011029307, 0.01098651, 0.0103945425, 0.010143128, 0.010037045, 0.01077743, 0.010894491, 0.011061084, 0.012148123, 0.00795778, 0.011795851, 0.010910874, 0.011916548, 0.010343265, 0.011139137, 0.011682609, 0.012541832, 0.011326681, 0.01095769, 0.012516672, 0.0112958355, 0.011597752, 0.011255589, 0.012381717, 0.011889129, 0.011149477, 0.0113944, 0.012210486, 0.02343858, 0.012855466, 0.010945511, 0.010194018, 0.0116625205, 0.016711988, 0.014838796, 0.011706518, 0.012906315, 0.011584806, 0.011120503, 0.011073753, 0.010921273, 0.010709666, 0.012209864, 0.012138944, 0.011703573, 0.01031783, 0.0117567, 0.010721433, 0.01079141, 0.0119193, 0.01055153, 0.011011612, 0.0117942905, 0.013429634, 0.010277941, 0.011528664, 0.009893188, 0.010998193, 0.01038304, 0.011919693, 0.011920566, 0.0112132365]\n",
      "2022-02-28 17:54:43,806 : INFO : merging changes from 2000 documents into a model of 3204 documents\n",
      "2022-02-28 17:54:43,814 : INFO : topic #27 (0.008): 0.001*\"implic\" + 0.001*\"favor\" + 0.001*\"adapt\" + 0.001*\"polygon\" + 0.001*\"stage\" + 0.001*\"situat\" + 0.001*\"respons\" + 0.001*\"industri\" + 0.001*\"regress\" + 0.001*\"drive\"\n",
      "2022-02-28 17:54:43,814 : INFO : topic #47 (0.008): 0.001*\"implic\" + 0.001*\"favor\" + 0.001*\"adapt\" + 0.001*\"polygon\" + 0.001*\"stage\" + 0.001*\"situat\" + 0.001*\"respons\" + 0.001*\"industri\" + 0.001*\"regress\" + 0.001*\"drive\"\n",
      "2022-02-28 17:54:43,814 : INFO : topic #72 (0.015): 0.485*\"method\" + 0.047*\",\" + 0.027*\"appli\" + 0.027*\"applic\" + 0.025*\"present\" + 0.024*\"partial\" + 0.023*\"correct\" + 0.022*\"result\" + 0.021*\"set\" + 0.021*\"-\"\n",
      "2022-02-28 17:54:43,814 : INFO : topic #71 (0.017): 0.194*\"languag\" + 0.126*\"program\" + 0.056*\",\" + 0.053*\"algol\" + 0.045*\"-\" + 0.040*\"compil\" + 0.029*\"translat\" + 0.022*\"60\" + 0.021*\"machin\" + 0.016*\"sourc\"\n",
      "2022-02-28 17:54:43,814 : INFO : topic #66 (0.023): 0.367*\"(\" + 0.339*\")\" + 0.179*\"algorithm\" + 0.042*\"function\" + 0.022*\"complex\" + 0.011*\"invers\" + 0.010*\"number\" + 0.009*\"gamma\" + 0.006*\").\" + 0.004*\"gener\"\n",
      "2022-02-28 17:54:43,826 : INFO : topic diff=0.445788, rho=0.307119\n",
      "2022-02-28 17:54:44,794 : INFO : -6.523 per-word bound, 92.0 perplexity estimate based on a held-out corpus of 1204 documents with 49783 words\n",
      "2022-02-28 17:54:44,801 : INFO : PROGRESS: pass 8, at document #3204/3204\n",
      "2022-02-28 17:54:45,607 : INFO : optimized alpha [0.010358253, 0.011617158, 0.012088604, 0.012156334, 0.010298345, 0.013118518, 0.011833321, 0.01295977, 0.012117701, 0.011247224, 0.010322373, 0.011149115, 0.0111654345, 0.0110252015, 0.011047795, 0.011651676, 0.010497244, 0.011105426, 0.010736653, 0.011885893, 0.011834804, 0.011029623, 0.010002518, 0.011127106, 0.009893591, 0.011816337, 0.010684669, 0.007887573, 0.0116198985, 0.011147112, 0.010956276, 0.011300449, 0.011280594, 0.011070754, 0.011973253, 0.011174084, 0.013166472, 0.01065801, 0.011162742, 0.011174862, 0.010475879, 0.010212183, 0.010093729, 0.010872433, 0.011047954, 0.011194469, 0.0123570375, 0.007887573, 0.012061029, 0.01103774, 0.012121768, 0.010403797, 0.011214669, 0.01187409, 0.012750577, 0.011544802, 0.011128504, 0.012795727, 0.011395992, 0.011756865, 0.011432688, 0.012697176, 0.012113266, 0.011276974, 0.011600737, 0.012382839, 0.024737459, 0.013190308, 0.011067417, 0.010250302, 0.01185193, 0.017038822, 0.0153590115, 0.011934379, 0.0128890015, 0.011795829, 0.01122558, 0.011237023, 0.011055531, 0.010829351, 0.012385581, 0.012370192, 0.011860285, 0.0103903925, 0.011997803, 0.010839029, 0.010944113, 0.01205837, 0.010629035, 0.011160627, 0.011983225, 0.013701296, 0.010310489, 0.011687965, 0.009943712, 0.011115287, 0.010465742, 0.012165368, 0.012079673, 0.011406108]\n",
      "2022-02-28 17:54:45,619 : INFO : merging changes from 1204 documents into a model of 3204 documents\n",
      "2022-02-28 17:54:45,626 : INFO : topic #47 (0.008): 0.001*\"implic\" + 0.001*\"favor\" + 0.001*\"adapt\" + 0.001*\"polygon\" + 0.001*\"stage\" + 0.001*\"situat\" + 0.001*\"respons\" + 0.001*\"industri\" + 0.001*\"regress\" + 0.001*\"drive\"\n",
      "2022-02-28 17:54:45,626 : INFO : topic #27 (0.008): 0.001*\"implic\" + 0.001*\"favor\" + 0.001*\"adapt\" + 0.001*\"polygon\" + 0.001*\"stage\" + 0.001*\"situat\" + 0.001*\"respons\" + 0.001*\"industri\" + 0.001*\"regress\" + 0.001*\"drive\"\n"
     ]
    },
    {
     "name": "stderr",
     "output_type": "stream",
     "text": [
      "2022-02-28 17:54:45,626 : INFO : topic #72 (0.015): 0.498*\"method\" + 0.047*\",\" + 0.027*\"appli\" + 0.027*\"applic\" + 0.025*\"partial\" + 0.024*\"present\" + 0.023*\"correct\" + 0.022*\"set\" + 0.022*\"result\" + 0.021*\"consid\"\n",
      "2022-02-28 17:54:45,626 : INFO : topic #71 (0.017): 0.198*\"languag\" + 0.133*\"program\" + 0.057*\",\" + 0.044*\"algol\" + 0.042*\"-\" + 0.039*\"compil\" + 0.029*\"translat\" + 0.020*\"machin\" + 0.019*\"60\" + 0.017*\"level\"\n",
      "2022-02-28 17:54:45,626 : INFO : topic #66 (0.025): 0.378*\"(\" + 0.343*\")\" + 0.170*\"algorithm\" + 0.040*\"function\" + 0.022*\"complex\" + 0.009*\"gamma\" + 0.009*\"invers\" + 0.008*\"number\" + 0.008*\").\" + 0.003*\"gener\"\n",
      "2022-02-28 17:54:45,626 : INFO : topic diff=0.444605, rho=0.307119\n",
      "2022-02-28 17:54:45,642 : INFO : PROGRESS: pass 9, at document #2000/3204\n",
      "2022-02-28 17:54:46,463 : INFO : optimized alpha [0.010367013, 0.011686363, 0.012182326, 0.012203738, 0.010286185, 0.013387065, 0.011980068, 0.012984724, 0.012189316, 0.011282994, 0.010389679, 0.011282779, 0.01121202, 0.01103199, 0.011124145, 0.011730885, 0.010509388, 0.011142467, 0.010784009, 0.011844221, 0.011925779, 0.0110281445, 0.0100224465, 0.011166124, 0.0099288225, 0.011932625, 0.010729088, 0.007835483, 0.011661885, 0.011168349, 0.011005928, 0.011319519, 0.011281749, 0.0111008845, 0.012072086, 0.011159267, 0.013355774, 0.010679938, 0.011150663, 0.011220033, 0.010486171, 0.010270093, 0.010131039, 0.0109046195, 0.011065944, 0.011199423, 0.012434035, 0.007835483, 0.012114613, 0.011058155, 0.012134148, 0.010512139, 0.011291226, 0.011908533, 0.013006323, 0.01160754, 0.011086079, 0.012849029, 0.011600206, 0.011831264, 0.011452371, 0.012821726, 0.012151617, 0.01136285, 0.011588742, 0.012343025, 0.026476506, 0.013306128, 0.011089792, 0.010279692, 0.011905237, 0.017548012, 0.015711877, 0.01193869, 0.013339537, 0.011779206, 0.011347759, 0.0112234885, 0.011084985, 0.010879528, 0.012540964, 0.012410021, 0.01195729, 0.010374493, 0.012037289, 0.010831145, 0.010954236, 0.012095869, 0.010682057, 0.011204148, 0.012005832, 0.013970977, 0.010363308, 0.011747339, 0.009923296, 0.011060671, 0.0104613975, 0.01218312, 0.012188564, 0.011459265]\n",
      "2022-02-28 17:54:46,474 : INFO : merging changes from 2000 documents into a model of 3204 documents\n",
      "2022-02-28 17:54:46,485 : INFO : topic #27 (0.008): 0.001*\"implic\" + 0.001*\"favor\" + 0.001*\"adapt\" + 0.001*\"polygon\" + 0.001*\"stage\" + 0.001*\"situat\" + 0.001*\"respons\" + 0.001*\"industri\" + 0.001*\"regress\" + 0.001*\"drive\"\n",
      "2022-02-28 17:54:46,486 : INFO : topic #47 (0.008): 0.001*\"implic\" + 0.001*\"favor\" + 0.001*\"adapt\" + 0.001*\"polygon\" + 0.001*\"stage\" + 0.001*\"situat\" + 0.001*\"respons\" + 0.001*\"industri\" + 0.001*\"regress\" + 0.001*\"drive\"\n",
      "2022-02-28 17:54:46,487 : INFO : topic #72 (0.016): 0.504*\"method\" + 0.046*\",\" + 0.028*\"appli\" + 0.027*\"applic\" + 0.025*\"present\" + 0.024*\"partial\" + 0.021*\"correct\" + 0.021*\"result\" + 0.020*\"set\" + 0.020*\"consid\"\n",
      "2022-02-28 17:54:46,488 : INFO : topic #71 (0.018): 0.196*\"languag\" + 0.125*\"program\" + 0.057*\",\" + 0.054*\"algol\" + 0.045*\"-\" + 0.040*\"compil\" + 0.029*\"translat\" + 0.022*\"60\" + 0.021*\"machin\" + 0.016*\"sourc\"\n",
      "2022-02-28 17:54:46,489 : INFO : topic #66 (0.026): 0.373*\"(\" + 0.345*\")\" + 0.176*\"algorithm\" + 0.039*\"function\" + 0.021*\"complex\" + 0.009*\"invers\" + 0.009*\"number\" + 0.008*\"gamma\" + 0.007*\").\" + 0.003*\"gener\"\n",
      "2022-02-28 17:54:46,490 : INFO : topic diff=0.385833, rho=0.293585\n",
      "2022-02-28 17:54:47,453 : INFO : -6.507 per-word bound, 90.9 perplexity estimate based on a held-out corpus of 1204 documents with 49783 words\n",
      "2022-02-28 17:54:47,453 : INFO : PROGRESS: pass 9, at document #3204/3204\n",
      "2022-02-28 17:54:48,185 : INFO : optimized alpha [0.010423156, 0.0118912645, 0.012391966, 0.012449796, 0.010430538, 0.013581295, 0.012100832, 0.01331912, 0.012391655, 0.011424951, 0.010463689, 0.01143863, 0.011351731, 0.011167741, 0.011191755, 0.011926844, 0.010634519, 0.011309691, 0.0108753005, 0.012102876, 0.01212247, 0.011144763, 0.010074684, 0.011321169, 0.009964673, 0.012245692, 0.010831797, 0.0077710054, 0.01181599, 0.011265426, 0.011132161, 0.011468195, 0.0114593, 0.011195755, 0.012406661, 0.011296998, 0.0135682, 0.010781656, 0.011282191, 0.011421898, 0.010562118, 0.01035416, 0.01019818, 0.011004236, 0.011222352, 0.011330937, 0.012639362, 0.0077710054, 0.012375635, 0.011183231, 0.012329809, 0.010570095, 0.011366398, 0.01209968, 0.01323705, 0.011824731, 0.011245479, 0.01312013, 0.011701976, 0.0119849425, 0.011617935, 0.013145648, 0.012374701, 0.011488467, 0.011794054, 0.012506343, 0.027843516, 0.013649644, 0.01121846, 0.010336483, 0.0120969955, 0.01786458, 0.016246404, 0.012165168, 0.013321433, 0.011974504, 0.0114573445, 0.011383991, 0.011211666, 0.011000383, 0.01271077, 0.012634161, 0.012105625, 0.010447184, 0.012271155, 0.010949957, 0.011098937, 0.012238862, 0.010761791, 0.011350767, 0.012191383, 0.014238729, 0.0103973355, 0.0119040795, 0.009977217, 0.01117638, 0.010543798, 0.012433195, 0.012345018, 0.011654474]\n",
      "2022-02-28 17:54:48,193 : INFO : merging changes from 1204 documents into a model of 3204 documents\n",
      "2022-02-28 17:54:48,204 : INFO : topic #27 (0.008): 0.001*\"implic\" + 0.001*\"favor\" + 0.001*\"adapt\" + 0.001*\"polygon\" + 0.001*\"stage\" + 0.001*\"situat\" + 0.001*\"respons\" + 0.001*\"industri\" + 0.001*\"regress\" + 0.001*\"drive\"\n",
      "2022-02-28 17:54:48,205 : INFO : topic #47 (0.008): 0.001*\"implic\" + 0.001*\"favor\" + 0.001*\"adapt\" + 0.001*\"polygon\" + 0.001*\"stage\" + 0.001*\"situat\" + 0.001*\"respons\" + 0.001*\"industri\" + 0.001*\"regress\" + 0.001*\"drive\"\n",
      "2022-02-28 17:54:48,206 : INFO : topic #72 (0.016): 0.514*\"method\" + 0.046*\",\" + 0.027*\"appli\" + 0.027*\"applic\" + 0.024*\"partial\" + 0.024*\"present\" + 0.021*\"correct\" + 0.021*\"set\" + 0.021*\"consid\" + 0.020*\"result\"\n",
      "2022-02-28 17:54:48,207 : INFO : topic #71 (0.018): 0.200*\"languag\" + 0.131*\"program\" + 0.058*\",\" + 0.045*\"algol\" + 0.042*\"-\" + 0.040*\"compil\" + 0.029*\"translat\" + 0.020*\"machin\" + 0.020*\"60\" + 0.017*\"sourc\"\n",
      "2022-02-28 17:54:48,207 : INFO : topic #66 (0.028): 0.382*\"(\" + 0.348*\")\" + 0.167*\"algorithm\" + 0.037*\"function\" + 0.021*\"complex\" + 0.009*\"gamma\" + 0.008*\"number\" + 0.008*\").\" + 0.007*\"invers\" + 0.003*\"gener\"\n",
      "2022-02-28 17:54:48,208 : INFO : topic diff=0.387772, rho=0.293585\n",
      "2022-02-28 17:54:48,217 : INFO : PROGRESS: pass 10, at document #2000/3204\n",
      "2022-02-28 17:54:49,054 : INFO : optimized alpha [0.010434977, 0.011959603, 0.01248258, 0.012509128, 0.010420092, 0.013846792, 0.012248655, 0.013345257, 0.012458812, 0.011460979, 0.0105348565, 0.011570311, 0.011395029, 0.011175786, 0.01126271, 0.012011716, 0.010653671, 0.011346734, 0.010924272, 0.012063053, 0.01221044, 0.011144993, 0.010098637, 0.011363483, 0.010001775, 0.012365513, 0.010879364, 0.0077230195, 0.011861447, 0.011286074, 0.011184876, 0.011483126, 0.011464799, 0.011224943, 0.012514397, 0.011284211, 0.013754589, 0.0108059505, 0.011272164, 0.011471537, 0.010575333, 0.010407354, 0.010248868, 0.011036965, 0.011242642, 0.011340437, 0.012709971, 0.0077230195, 0.012440696, 0.011206038, 0.012344721, 0.0106813, 0.011439018, 0.012141013, 0.01349768, 0.0118883345, 0.011209205, 0.01316888, 0.011906498, 0.012050036, 0.011638233, 0.013268081, 0.012419866, 0.01156675, 0.011786822, 0.012471422, 0.02970119, 0.013767372, 0.011249627, 0.010368122, 0.012160035, 0.018368565, 0.016600415, 0.012171834, 0.013761871, 0.011962927, 0.011581, 0.011375482, 0.011241627, 0.011045832, 0.01286383, 0.012677386, 0.012206408, 0.010433864, 0.012312003, 0.010942433, 0.0111069055, 0.012280127, 0.010816169, 0.011394203, 0.0122161945, 0.014517589, 0.010457496, 0.011959638, 0.009965225, 0.011125858, 0.010542925, 0.012463432, 0.012452263, 0.011713729]\n",
      "2022-02-28 17:54:49,062 : INFO : merging changes from 2000 documents into a model of 3204 documents\n",
      "2022-02-28 17:54:49,073 : INFO : topic #27 (0.008): 0.001*\"implic\" + 0.001*\"favor\" + 0.001*\"adapt\" + 0.001*\"polygon\" + 0.001*\"stage\" + 0.001*\"situat\" + 0.001*\"respons\" + 0.001*\"industri\" + 0.001*\"regress\" + 0.001*\"drive\"\n",
      "2022-02-28 17:54:49,074 : INFO : topic #47 (0.008): 0.001*\"implic\" + 0.001*\"favor\" + 0.001*\"adapt\" + 0.001*\"polygon\" + 0.001*\"stage\" + 0.001*\"situat\" + 0.001*\"respons\" + 0.001*\"industri\" + 0.001*\"regress\" + 0.001*\"drive\"\n",
      "2022-02-28 17:54:49,075 : INFO : topic #72 (0.017): 0.520*\"method\" + 0.044*\",\" + 0.027*\"appli\" + 0.027*\"applic\" + 0.025*\"present\" + 0.024*\"partial\" + 0.020*\"correct\" + 0.020*\"result\" + 0.020*\"consid\" + 0.019*\"set\"\n"
     ]
    },
    {
     "name": "stderr",
     "output_type": "stream",
     "text": [
      "2022-02-28 17:54:49,075 : INFO : topic #71 (0.018): 0.198*\"languag\" + 0.124*\"program\" + 0.058*\",\" + 0.055*\"algol\" + 0.046*\"-\" + 0.041*\"compil\" + 0.030*\"translat\" + 0.023*\"60\" + 0.021*\"machin\" + 0.016*\"sourc\"\n",
      "2022-02-28 17:54:49,076 : INFO : topic #66 (0.030): 0.377*\"(\" + 0.350*\")\" + 0.174*\"algorithm\" + 0.036*\"function\" + 0.020*\"complex\" + 0.008*\"number\" + 0.008*\"gamma\" + 0.008*\"invers\" + 0.007*\").\" + 0.002*\"argument\"\n",
      "2022-02-28 17:54:49,077 : INFO : topic diff=0.337050, rho=0.281696\n",
      "2022-02-28 17:54:49,949 : INFO : -6.492 per-word bound, 90.0 perplexity estimate based on a held-out corpus of 1204 documents with 49783 words\n",
      "2022-02-28 17:54:49,950 : INFO : PROGRESS: pass 10, at document #3204/3204\n",
      "2022-02-28 17:54:50,671 : INFO : optimized alpha [0.010494387, 0.012156131, 0.012689446, 0.012748975, 0.010564975, 0.014038144, 0.012365153, 0.013674989, 0.012658248, 0.011606583, 0.010606295, 0.011716098, 0.0115358895, 0.011309794, 0.011330618, 0.01221067, 0.010784915, 0.011511678, 0.011012594, 0.012317393, 0.012410229, 0.011249955, 0.010151805, 0.0115137305, 0.0100412965, 0.012684674, 0.010976159, 0.0076634455, 0.012016351, 0.01138001, 0.011314928, 0.011613656, 0.011639868, 0.011314063, 0.0128551945, 0.011420229, 0.013960859, 0.010917186, 0.011396818, 0.011676028, 0.010651455, 0.01049855, 0.010318618, 0.011135999, 0.011391675, 0.011473088, 0.012912419, 0.0076634455, 0.012716062, 0.011332383, 0.012537573, 0.010744631, 0.011514285, 0.012326542, 0.013728867, 0.012108084, 0.011366271, 0.013448508, 0.012010004, 0.012201846, 0.011798804, 0.013601093, 0.01263383, 0.011688376, 0.011986144, 0.012632578, 0.031137262, 0.014107637, 0.011390375, 0.010432854, 0.012354669, 0.018675309, 0.017146388, 0.012391812, 0.013736544, 0.0121409595, 0.011686891, 0.011528332, 0.011369623, 0.011162872, 0.013025313, 0.012904168, 0.012352838, 0.01050183, 0.012536623, 0.011062566, 0.01124971, 0.012427152, 0.010898318, 0.0115417335, 0.012399055, 0.014788937, 0.010512679, 0.012122772, 0.010024652, 0.011235268, 0.010620262, 0.012698227, 0.012606663, 0.011917233]\n",
      "2022-02-28 17:54:50,679 : INFO : merging changes from 1204 documents into a model of 3204 documents\n",
      "2022-02-28 17:54:50,690 : INFO : topic #27 (0.008): 0.001*\"implic\" + 0.001*\"favor\" + 0.001*\"adapt\" + 0.001*\"polygon\" + 0.001*\"stage\" + 0.001*\"situat\" + 0.001*\"respons\" + 0.001*\"industri\" + 0.001*\"regress\" + 0.001*\"drive\"\n",
      "2022-02-28 17:54:50,690 : INFO : topic #47 (0.008): 0.001*\"implic\" + 0.001*\"favor\" + 0.001*\"adapt\" + 0.001*\"polygon\" + 0.001*\"stage\" + 0.001*\"situat\" + 0.001*\"respons\" + 0.001*\"industri\" + 0.001*\"regress\" + 0.001*\"drive\"\n",
      "2022-02-28 17:54:50,691 : INFO : topic #72 (0.017): 0.528*\"method\" + 0.044*\",\" + 0.027*\"appli\" + 0.027*\"applic\" + 0.025*\"partial\" + 0.024*\"present\" + 0.021*\"consid\" + 0.021*\"correct\" + 0.020*\"set\" + 0.019*\"result\"\n",
      "2022-02-28 17:54:50,691 : INFO : topic #71 (0.019): 0.201*\"languag\" + 0.130*\"program\" + 0.059*\",\" + 0.046*\"algol\" + 0.043*\"-\" + 0.040*\"compil\" + 0.030*\"translat\" + 0.020*\"machin\" + 0.020*\"60\" + 0.017*\"sourc\"\n",
      "2022-02-28 17:54:50,692 : INFO : topic #66 (0.031): 0.386*\"(\" + 0.352*\")\" + 0.165*\"algorithm\" + 0.035*\"function\" + 0.020*\"complex\" + 0.009*\"gamma\" + 0.008*\").\" + 0.008*\"number\" + 0.006*\"invers\" + 0.002*\"argument\"\n",
      "2022-02-28 17:54:50,693 : INFO : topic diff=0.341566, rho=0.281696\n",
      "2022-02-28 17:54:50,702 : INFO : PROGRESS: pass 11, at document #2000/3204\n",
      "2022-02-28 17:54:51,489 : INFO : optimized alpha [0.010507629, 0.012227198, 0.012780703, 0.012798841, 0.01056042, 0.014295435, 0.012512727, 0.013698721, 0.012719598, 0.011641316, 0.01067696, 0.011846252, 0.011579296, 0.011317436, 0.011401173, 0.012291211, 0.0108033605, 0.011553583, 0.011064668, 0.012279265, 0.012502296, 0.011250352, 0.010183641, 0.011556047, 0.01008167, 0.012792756, 0.01102684, 0.0076190005, 0.012066719, 0.011398573, 0.011364472, 0.011631351, 0.011649506, 0.011342512, 0.01298411, 0.011415587, 0.0141430255, 0.010943742, 0.011394888, 0.011722085, 0.010661549, 0.010560228, 0.010369347, 0.011164774, 0.011411134, 0.011482158, 0.012982378, 0.0076190005, 0.012778622, 0.011354419, 0.0125550665, 0.010860337, 0.011584887, 0.0123663265, 0.013995017, 0.0121776555, 0.011332506, 0.013496579, 0.01221697, 0.012259924, 0.011816572, 0.013725413, 0.012677045, 0.011762787, 0.01198338, 0.012591798, 0.033091243, 0.014227404, 0.0114205545, 0.010462291, 0.012420559, 0.019192562, 0.01750874, 0.012402527, 0.014167496, 0.012129311, 0.011813789, 0.01152303, 0.011400088, 0.0112160435, 0.013179851, 0.012947229, 0.01244577, 0.010493701, 0.012578998, 0.011059796, 0.011258769, 0.012468687, 0.010952619, 0.011589964, 0.012424433, 0.01506954, 0.010574199, 0.012176365, 0.010013535, 0.011183775, 0.01061977, 0.012731959, 0.012715979, 0.011982507]\n",
      "2022-02-28 17:54:51,498 : INFO : merging changes from 2000 documents into a model of 3204 documents\n",
      "2022-02-28 17:54:51,509 : INFO : topic #27 (0.008): 0.001*\"implic\" + 0.001*\"favor\" + 0.001*\"adapt\" + 0.001*\"polygon\" + 0.001*\"stage\" + 0.001*\"situat\" + 0.001*\"respons\" + 0.001*\"industri\" + 0.001*\"regress\" + 0.001*\"drive\"\n",
      "2022-02-28 17:54:51,510 : INFO : topic #47 (0.008): 0.001*\"implic\" + 0.001*\"favor\" + 0.001*\"adapt\" + 0.001*\"polygon\" + 0.001*\"stage\" + 0.001*\"situat\" + 0.001*\"respons\" + 0.001*\"industri\" + 0.001*\"regress\" + 0.001*\"drive\"\n",
      "2022-02-28 17:54:51,510 : INFO : topic #72 (0.018): 0.532*\"method\" + 0.043*\",\" + 0.028*\"appli\" + 0.027*\"applic\" + 0.025*\"partial\" + 0.025*\"present\" + 0.020*\"correct\" + 0.019*\"consid\" + 0.019*\"result\" + 0.019*\"set\"\n",
      "2022-02-28 17:54:51,511 : INFO : topic #71 (0.019): 0.199*\"languag\" + 0.124*\"program\" + 0.058*\",\" + 0.055*\"algol\" + 0.046*\"-\" + 0.040*\"compil\" + 0.030*\"translat\" + 0.023*\"60\" + 0.021*\"machin\" + 0.017*\"sourc\"\n",
      "2022-02-28 17:54:51,512 : INFO : topic #66 (0.033): 0.381*\"(\" + 0.353*\")\" + 0.171*\"algorithm\" + 0.034*\"function\" + 0.019*\"complex\" + 0.008*\"gamma\" + 0.008*\"number\" + 0.007*\").\" + 0.007*\"invers\" + 0.002*\"logarithm\"\n",
      "2022-02-28 17:54:51,513 : INFO : topic diff=0.297702, rho=0.271143\n",
      "2022-02-28 17:54:52,369 : INFO : -6.478 per-word bound, 89.2 perplexity estimate based on a held-out corpus of 1204 documents with 49783 words\n",
      "2022-02-28 17:54:52,370 : INFO : PROGRESS: pass 11, at document #3204/3204\n",
      "2022-02-28 17:54:53,084 : INFO : optimized alpha [0.01057731, 0.012432693, 0.012976592, 0.013044648, 0.010703796, 0.014487647, 0.012633865, 0.014024664, 0.012910898, 0.011782798, 0.010755751, 0.012001329, 0.011724219, 0.011445156, 0.011461737, 0.012488049, 0.010938291, 0.0117168175, 0.011152875, 0.012530084, 0.012699975, 0.011352211, 0.01025166, 0.011715253, 0.010120122, 0.013106953, 0.01112075, 0.00756368, 0.012228392, 0.0114897415, 0.011490887, 0.011768847, 0.01182512, 0.011428969, 0.013332146, 0.011545022, 0.014359526, 0.0110393455, 0.011539353, 0.011932341, 0.010733068, 0.010663154, 0.0104440255, 0.011260919, 0.011553433, 0.011600577, 0.013182385, 0.00756368, 0.01306303, 0.011479639, 0.0127513865, 0.010923947, 0.011663048, 0.012552476, 0.014230307, 0.0123922285, 0.011482638, 0.013775947, 0.0123196775, 0.012404667, 0.011969992, 0.014055928, 0.012897194, 0.011891449, 0.012180187, 0.012748289, 0.034561466, 0.01457798, 0.011562679, 0.010520443, 0.012626805, 0.019489769, 0.01806305, 0.01262241, 0.014135445, 0.012299511, 0.011918899, 0.011674226, 0.01151925, 0.011327141, 0.013351529, 0.013159497, 0.012579516, 0.010562236, 0.01280096, 0.011176398, 0.011397537, 0.01260859, 0.0110346945, 0.011736023, 0.012602406, 0.015338171, 0.010625353, 0.012329542, 0.010075904, 0.011297726, 0.010697318, 0.0129696205, 0.01287448, 0.012181134]\n",
      "2022-02-28 17:54:53,093 : INFO : merging changes from 1204 documents into a model of 3204 documents\n",
      "2022-02-28 17:54:53,104 : INFO : topic #27 (0.008): 0.001*\"implic\" + 0.001*\"favor\" + 0.001*\"adapt\" + 0.001*\"polygon\" + 0.001*\"stage\" + 0.001*\"situat\" + 0.001*\"respons\" + 0.001*\"industri\" + 0.001*\"regress\" + 0.001*\"drive\"\n",
      "2022-02-28 17:54:53,105 : INFO : topic #47 (0.008): 0.001*\"implic\" + 0.001*\"favor\" + 0.001*\"adapt\" + 0.001*\"polygon\" + 0.001*\"stage\" + 0.001*\"situat\" + 0.001*\"respons\" + 0.001*\"industri\" + 0.001*\"regress\" + 0.001*\"drive\"\n",
      "2022-02-28 17:54:53,106 : INFO : topic #72 (0.018): 0.539*\"method\" + 0.043*\",\" + 0.027*\"appli\" + 0.026*\"applic\" + 0.025*\"partial\" + 0.024*\"present\" + 0.020*\"consid\" + 0.020*\"set\" + 0.020*\"correct\" + 0.019*\"result\"\n"
     ]
    },
    {
     "name": "stderr",
     "output_type": "stream",
     "text": [
      "2022-02-28 17:54:53,106 : INFO : topic #71 (0.019): 0.203*\"languag\" + 0.129*\"program\" + 0.059*\",\" + 0.047*\"algol\" + 0.043*\"-\" + 0.039*\"compil\" + 0.030*\"translat\" + 0.020*\"60\" + 0.020*\"machin\" + 0.018*\"sourc\"\n",
      "2022-02-28 17:54:53,107 : INFO : topic #66 (0.035): 0.389*\"(\" + 0.355*\")\" + 0.164*\"algorithm\" + 0.033*\"function\" + 0.020*\"complex\" + 0.009*\"gamma\" + 0.009*\").\" + 0.007*\"number\" + 0.006*\"invers\" + 0.002*\"argument\"\n",
      "2022-02-28 17:54:53,108 : INFO : topic diff=0.303898, rho=0.271143\n",
      "2022-02-28 17:54:53,116 : INFO : PROGRESS: pass 12, at document #2000/3204\n",
      "2022-02-28 17:54:53,915 : INFO : optimized alpha [0.010591802, 0.012506511, 0.013063508, 0.013095929, 0.01069913, 0.01474086, 0.012779836, 0.014046116, 0.012971889, 0.011821075, 0.010824631, 0.01213487, 0.011766287, 0.01145403, 0.011532027, 0.012569641, 0.01096036, 0.011760441, 0.011202143, 0.012493631, 0.012791213, 0.011360166, 0.010291031, 0.011762354, 0.0101622185, 0.01321561, 0.011174487, 0.007522323, 0.012274007, 0.011509422, 0.011540546, 0.011795327, 0.011832527, 0.011455243, 0.013452908, 0.011540485, 0.0145340925, 0.011069648, 0.0115343155, 0.011970409, 0.01074319, 0.010725972, 0.010500332, 0.011291931, 0.011575241, 0.011607875, 0.013243148, 0.007522323, 0.013136966, 0.011505439, 0.012776318, 0.011044243, 0.01174104, 0.012589098, 0.014502242, 0.012461188, 0.011449785, 0.013841493, 0.012521413, 0.012464216, 0.01198859, 0.014180453, 0.0129437465, 0.0119622545, 0.012176948, 0.012710372, 0.036613505, 0.014700026, 0.011593384, 0.010549288, 0.012693835, 0.019987365, 0.018443512, 0.012630376, 0.014553903, 0.012291061, 0.012042988, 0.011671946, 0.011548896, 0.011381896, 0.013504497, 0.0132059995, 0.012674956, 0.010557572, 0.012844899, 0.011178181, 0.011407642, 0.012655435, 0.011086167, 0.011784277, 0.01262996, 0.015620933, 0.010685354, 0.012381469, 0.010070812, 0.011252718, 0.010702779, 0.012998139, 0.012982726, 0.012239628]\n",
      "2022-02-28 17:54:53,924 : INFO : merging changes from 2000 documents into a model of 3204 documents\n",
      "2022-02-28 17:54:53,935 : INFO : topic #47 (0.008): 0.001*\"implic\" + 0.001*\"favor\" + 0.001*\"adapt\" + 0.001*\"polygon\" + 0.001*\"stage\" + 0.001*\"situat\" + 0.001*\"respons\" + 0.001*\"industri\" + 0.001*\"regress\" + 0.001*\"drive\"\n",
      "2022-02-28 17:54:53,936 : INFO : topic #27 (0.008): 0.001*\"implic\" + 0.001*\"favor\" + 0.001*\"adapt\" + 0.001*\"polygon\" + 0.001*\"stage\" + 0.001*\"situat\" + 0.001*\"respons\" + 0.001*\"industri\" + 0.001*\"regress\" + 0.001*\"drive\"\n",
      "2022-02-28 17:54:53,938 : INFO : topic #72 (0.018): 0.545*\"method\" + 0.042*\",\" + 0.028*\"appli\" + 0.027*\"applic\" + 0.025*\"present\" + 0.025*\"partial\" + 0.019*\"correct\" + 0.019*\"consid\" + 0.018*\"set\" + 0.018*\"result\"\n",
      "2022-02-28 17:54:53,938 : INFO : topic #71 (0.020): 0.201*\"languag\" + 0.123*\"program\" + 0.059*\",\" + 0.056*\"algol\" + 0.046*\"-\" + 0.039*\"compil\" + 0.030*\"translat\" + 0.023*\"60\" + 0.020*\"machin\" + 0.017*\"sourc\"\n",
      "2022-02-28 17:54:53,939 : INFO : topic #66 (0.037): 0.384*\"(\" + 0.356*\")\" + 0.170*\"algorithm\" + 0.032*\"function\" + 0.019*\"complex\" + 0.008*\"gamma\" + 0.007*\"number\" + 0.007*\").\" + 0.007*\"invers\" + 0.002*\"logarithm\"\n",
      "2022-02-28 17:54:53,940 : INFO : topic diff=0.266566, rho=0.261694\n",
      "2022-02-28 17:54:54,783 : INFO : -6.468 per-word bound, 88.5 perplexity estimate based on a held-out corpus of 1204 documents with 49783 words\n",
      "2022-02-28 17:54:54,784 : INFO : PROGRESS: pass 12, at document #3204/3204\n",
      "2022-02-28 17:54:55,481 : INFO : optimized alpha [0.010655061, 0.01271303, 0.013257631, 0.013330792, 0.010843591, 0.014918289, 0.012897429, 0.014371943, 0.013152838, 0.011958873, 0.010908276, 0.012299285, 0.011912726, 0.011583453, 0.01159332, 0.012767601, 0.0110966815, 0.011922361, 0.011287884, 0.012727622, 0.01298434, 0.011464304, 0.010354952, 0.011920256, 0.010201911, 0.013516583, 0.011263378, 0.007470722, 0.012431721, 0.011593104, 0.011666212, 0.011931894, 0.012006477, 0.011539338, 0.013808618, 0.011674171, 0.0147455055, 0.011177406, 0.011667501, 0.012181391, 0.010810473, 0.010833375, 0.010584343, 0.011387979, 0.011721521, 0.011733306, 0.013444216, 0.007470722, 0.013419444, 0.01162991, 0.012976542, 0.011110633, 0.011822108, 0.0127873765, 0.014732493, 0.012673753, 0.011588511, 0.014115281, 0.012628966, 0.012607903, 0.012143326, 0.014518267, 0.0131617, 0.012100574, 0.012387847, 0.012865596, 0.03812161, 0.015081083, 0.011742179, 0.0106128305, 0.012906449, 0.020266388, 0.019014658, 0.012853323, 0.014518617, 0.012451531, 0.012145066, 0.01181933, 0.011670067, 0.011495026, 0.013677634, 0.013427772, 0.012802281, 0.010628993, 0.0130618615, 0.011291772, 0.0115328245, 0.012800133, 0.011168404, 0.011918884, 0.012814439, 0.015887385, 0.010737431, 0.012533431, 0.0101294685, 0.011381075, 0.010782995, 0.01322769, 0.013145531, 0.01242848]\n",
      "2022-02-28 17:54:55,489 : INFO : merging changes from 1204 documents into a model of 3204 documents\n",
      "2022-02-28 17:54:55,501 : INFO : topic #27 (0.007): 0.001*\"implic\" + 0.001*\"favor\" + 0.001*\"adapt\" + 0.001*\"polygon\" + 0.001*\"stage\" + 0.001*\"situat\" + 0.001*\"respons\" + 0.001*\"industri\" + 0.001*\"regress\" + 0.001*\"drive\"\n",
      "2022-02-28 17:54:55,501 : INFO : topic #47 (0.007): 0.001*\"implic\" + 0.001*\"favor\" + 0.001*\"adapt\" + 0.001*\"polygon\" + 0.001*\"stage\" + 0.001*\"situat\" + 0.001*\"respons\" + 0.001*\"industri\" + 0.001*\"regress\" + 0.001*\"drive\"\n",
      "2022-02-28 17:54:55,502 : INFO : topic #72 (0.019): 0.551*\"method\" + 0.042*\",\" + 0.027*\"appli\" + 0.026*\"applic\" + 0.025*\"partial\" + 0.024*\"present\" + 0.020*\"set\" + 0.019*\"consid\" + 0.019*\"correct\" + 0.018*\"result\"\n",
      "2022-02-28 17:54:55,503 : INFO : topic #71 (0.020): 0.206*\"languag\" + 0.129*\"program\" + 0.059*\",\" + 0.048*\"algol\" + 0.044*\"-\" + 0.038*\"compil\" + 0.030*\"translat\" + 0.021*\"60\" + 0.020*\"machin\" + 0.018*\"construct\"\n",
      "2022-02-28 17:54:55,504 : INFO : topic #66 (0.038): 0.392*\"(\" + 0.357*\")\" + 0.162*\"algorithm\" + 0.031*\"function\" + 0.019*\"complex\" + 0.009*\"gamma\" + 0.009*\").\" + 0.007*\"number\" + 0.006*\"invers\" + 0.002*\"argument\"\n",
      "2022-02-28 17:54:55,505 : INFO : topic diff=0.273352, rho=0.261694\n",
      "2022-02-28 17:54:55,514 : INFO : PROGRESS: pass 13, at document #2000/3204\n",
      "2022-02-28 17:54:56,269 : INFO : optimized alpha [0.01066806, 0.012781533, 0.013337169, 0.013378445, 0.0108457375, 0.015169687, 0.013043725, 0.014394892, 0.013212067, 0.01199754, 0.010979717, 0.012431786, 0.0119581325, 0.011590543, 0.011664953, 0.012851956, 0.011126494, 0.011967729, 0.011337464, 0.01269606, 0.0130764665, 0.0114779705, 0.010390884, 0.011964431, 0.010245726, 0.013624274, 0.011317286, 0.00743209, 0.01247757, 0.011613937, 0.0117160035, 0.011959141, 0.012019435, 0.011565078, 0.013935315, 0.011674111, 0.014922166, 0.011212644, 0.011665489, 0.012221097, 0.0108205965, 0.010894719, 0.010644727, 0.011419711, 0.0117425565, 0.011743352, 0.01350998, 0.00743209, 0.01349973, 0.011656448, 0.012995314, 0.011231329, 0.011898334, 0.012824281, 0.015005217, 0.012745541, 0.01155948, 0.014182123, 0.01282751, 0.012664227, 0.01216428, 0.014647001, 0.013208185, 0.012172569, 0.01238552, 0.012825464, 0.04026589, 0.015205588, 0.011773367, 0.010641126, 0.012984523, 0.020765051, 0.01940473, 0.012866845, 0.014939826, 0.012450936, 0.012274366, 0.011815449, 0.011700349, 0.011555776, 0.013832798, 0.013474275, 0.012889025, 0.010626115, 0.013107424, 0.011294989, 0.01154547, 0.012842352, 0.011218644, 0.011967366, 0.0128442105, 0.01617261, 0.010791993, 0.012590332, 0.010126208, 0.011338976, 0.01078995, 0.013261407, 0.01325294, 0.012494735]\n",
      "2022-02-28 17:54:56,277 : INFO : merging changes from 2000 documents into a model of 3204 documents\n",
      "2022-02-28 17:54:56,288 : INFO : topic #47 (0.007): 0.001*\"implic\" + 0.001*\"favor\" + 0.001*\"adapt\" + 0.001*\"polygon\" + 0.001*\"stage\" + 0.001*\"situat\" + 0.001*\"respons\" + 0.001*\"industri\" + 0.001*\"regress\" + 0.001*\"drive\"\n",
      "2022-02-28 17:54:56,289 : INFO : topic #27 (0.007): 0.001*\"implic\" + 0.001*\"favor\" + 0.001*\"adapt\" + 0.001*\"polygon\" + 0.001*\"stage\" + 0.001*\"situat\" + 0.001*\"respons\" + 0.001*\"industri\" + 0.001*\"regress\" + 0.001*\"drive\"\n",
      "2022-02-28 17:54:56,290 : INFO : topic #72 (0.019): 0.556*\"method\" + 0.041*\",\" + 0.027*\"appli\" + 0.026*\"applic\" + 0.025*\"partial\" + 0.024*\"present\" + 0.019*\"correct\" + 0.018*\"consid\" + 0.018*\"set\" + 0.017*\"result\"\n",
      "2022-02-28 17:54:56,290 : INFO : topic #71 (0.021): 0.204*\"languag\" + 0.123*\"program\" + 0.059*\",\" + 0.056*\"algol\" + 0.047*\"-\" + 0.038*\"compil\" + 0.030*\"translat\" + 0.023*\"60\" + 0.021*\"machin\" + 0.017*\"sourc\"\n"
     ]
    },
    {
     "name": "stderr",
     "output_type": "stream",
     "text": [
      "2022-02-28 17:54:56,291 : INFO : topic #66 (0.040): 0.387*\"(\" + 0.358*\")\" + 0.168*\"algorithm\" + 0.031*\"function\" + 0.018*\"complex\" + 0.008*\"gamma\" + 0.008*\").\" + 0.007*\"number\" + 0.006*\"invers\" + 0.002*\"logarithm\"\n",
      "2022-02-28 17:54:56,293 : INFO : topic diff=0.240878, rho=0.253169\n",
      "2022-02-28 17:54:57,100 : INFO : -6.458 per-word bound, 87.9 perplexity estimate based on a held-out corpus of 1204 documents with 49783 words\n",
      "2022-02-28 17:54:57,100 : INFO : PROGRESS: pass 13, at document #3204/3204\n",
      "2022-02-28 17:54:57,754 : INFO : optimized alpha [0.01073208, 0.012992019, 0.013535462, 0.01361152, 0.010993834, 0.015348767, 0.013166277, 0.014718181, 0.013397199, 0.0121295145, 0.011070479, 0.012600695, 0.012103817, 0.011724199, 0.0117269885, 0.013062204, 0.011269121, 0.012128691, 0.011423467, 0.012930548, 0.01326553, 0.011579503, 0.010459912, 0.012128911, 0.010286617, 0.013921105, 0.011403887, 0.007383763, 0.012636953, 0.0116980225, 0.011838695, 0.012095027, 0.012194576, 0.011644663, 0.014293547, 0.011809579, 0.015125586, 0.011320289, 0.011800453, 0.01243059, 0.0108863115, 0.0109972535, 0.010733415, 0.011508541, 0.011890417, 0.011878094, 0.013701032, 0.007383763, 0.013777927, 0.011782816, 0.013191253, 0.011298141, 0.011982221, 0.013023786, 0.015230858, 0.012961996, 0.011697311, 0.014448061, 0.012926523, 0.012801805, 0.012312891, 0.014986578, 0.013427379, 0.012317945, 0.012605174, 0.01297419, 0.04179427, 0.015592251, 0.011918832, 0.010698636, 0.013201137, 0.0210439, 0.019977493, 0.013087903, 0.014895111, 0.012607542, 0.012378943, 0.011959386, 0.011813661, 0.011668669, 0.013999004, 0.013685703, 0.013013122, 0.010698107, 0.013322663, 0.011408177, 0.011665188, 0.012988959, 0.0113011105, 0.012101261, 0.013027341, 0.016437115, 0.010842743, 0.012733484, 0.01018566, 0.011469035, 0.010870565, 0.013480679, 0.01341198, 0.01267968]\n",
      "2022-02-28 17:54:57,762 : INFO : merging changes from 1204 documents into a model of 3204 documents\n",
      "2022-02-28 17:54:57,773 : INFO : topic #27 (0.007): 0.001*\"implic\" + 0.001*\"favor\" + 0.001*\"adapt\" + 0.001*\"polygon\" + 0.001*\"stage\" + 0.001*\"situat\" + 0.001*\"respons\" + 0.001*\"industri\" + 0.001*\"regress\" + 0.001*\"drive\"\n",
      "2022-02-28 17:54:57,774 : INFO : topic #47 (0.007): 0.001*\"implic\" + 0.001*\"favor\" + 0.001*\"adapt\" + 0.001*\"polygon\" + 0.001*\"stage\" + 0.001*\"situat\" + 0.001*\"respons\" + 0.001*\"industri\" + 0.001*\"regress\" + 0.001*\"drive\"\n",
      "2022-02-28 17:54:57,775 : INFO : topic #72 (0.020): 0.562*\"method\" + 0.040*\",\" + 0.027*\"appli\" + 0.026*\"applic\" + 0.025*\"partial\" + 0.024*\"present\" + 0.019*\"set\" + 0.019*\"correct\" + 0.019*\"consid\" + 0.017*\"result\"\n",
      "2022-02-28 17:54:57,776 : INFO : topic #71 (0.021): 0.208*\"languag\" + 0.128*\"program\" + 0.060*\",\" + 0.049*\"algol\" + 0.044*\"-\" + 0.037*\"compil\" + 0.030*\"translat\" + 0.021*\"60\" + 0.020*\"machin\" + 0.018*\"construct\"\n",
      "2022-02-28 17:54:57,777 : INFO : topic #66 (0.042): 0.394*\"(\" + 0.359*\")\" + 0.161*\"algorithm\" + 0.030*\"function\" + 0.019*\"complex\" + 0.009*\"gamma\" + 0.009*\").\" + 0.006*\"number\" + 0.006*\"invers\" + 0.002*\"argument\"\n",
      "2022-02-28 17:54:57,778 : INFO : topic diff=0.247571, rho=0.253169\n",
      "2022-02-28 17:54:57,787 : INFO : PROGRESS: pass 14, at document #2000/3204\n",
      "2022-02-28 17:54:58,522 : INFO : optimized alpha [0.010748931, 0.0130618615, 0.013614678, 0.013659092, 0.0109957075, 0.015598676, 0.013311515, 0.014740801, 0.013459644, 0.012171673, 0.011143095, 0.012730838, 0.012149529, 0.011732391, 0.011794212, 0.013147702, 0.011295277, 0.012181768, 0.011474793, 0.012897284, 0.0133638, 0.011592919, 0.010501659, 0.012171862, 0.010330854, 0.014026281, 0.011458032, 0.007347554, 0.012679993, 0.011718506, 0.0118873, 0.01212603, 0.012209786, 0.011669955, 0.014419331, 0.011810861, 0.015295236, 0.011350591, 0.011801298, 0.012468861, 0.010897823, 0.011058577, 0.010795124, 0.011532538, 0.011915118, 0.011889208, 0.013763214, 0.007347554, 0.013859353, 0.011808635, 0.0132174, 0.011419385, 0.01206122, 0.013065732, 0.015513891, 0.013033416, 0.011670443, 0.014514461, 0.01312212, 0.012853556, 0.012330059, 0.015114105, 0.013473885, 0.012385164, 0.012608354, 0.012938304, 0.044008013, 0.015725205, 0.011955159, 0.0107303895, 0.013277185, 0.021525502, 0.020370152, 0.013098729, 0.015299219, 0.012611384, 0.012507313, 0.011955398, 0.011840248, 0.011733798, 0.014153108, 0.013723797, 0.013097938, 0.010698252, 0.013366623, 0.01141559, 0.011674632, 0.013036398, 0.011350238, 0.012152987, 0.013059213, 0.016723074, 0.010896148, 0.012787315, 0.010186575, 0.011425242, 0.010877522, 0.013512961, 0.013518714, 0.012742616]\n",
      "2022-02-28 17:54:58,529 : INFO : merging changes from 2000 documents into a model of 3204 documents\n",
      "2022-02-28 17:54:58,540 : INFO : topic #27 (0.007): 0.001*\"implic\" + 0.001*\"favor\" + 0.001*\"adapt\" + 0.001*\"polygon\" + 0.001*\"stage\" + 0.001*\"situat\" + 0.001*\"respons\" + 0.001*\"industri\" + 0.001*\"regress\" + 0.001*\"drive\"\n",
      "2022-02-28 17:54:58,542 : INFO : topic #47 (0.007): 0.001*\"implic\" + 0.001*\"favor\" + 0.001*\"adapt\" + 0.001*\"polygon\" + 0.001*\"stage\" + 0.001*\"situat\" + 0.001*\"respons\" + 0.001*\"industri\" + 0.001*\"regress\" + 0.001*\"drive\"\n",
      "2022-02-28 17:54:58,543 : INFO : topic #72 (0.020): 0.566*\"method\" + 0.040*\",\" + 0.028*\"appli\" + 0.026*\"applic\" + 0.025*\"partial\" + 0.024*\"present\" + 0.018*\"correct\" + 0.018*\"consid\" + 0.018*\"set\" + 0.017*\"result\"\n",
      "2022-02-28 17:54:58,543 : INFO : topic #71 (0.022): 0.206*\"languag\" + 0.122*\"program\" + 0.059*\",\" + 0.057*\"algol\" + 0.047*\"-\" + 0.037*\"compil\" + 0.030*\"translat\" + 0.024*\"60\" + 0.021*\"machin\" + 0.017*\"sourc\"\n",
      "2022-02-28 17:54:58,544 : INFO : topic #66 (0.044): 0.389*\"(\" + 0.360*\")\" + 0.167*\"algorithm\" + 0.030*\"function\" + 0.018*\"complex\" + 0.008*\"gamma\" + 0.008*\").\" + 0.006*\"number\" + 0.006*\"invers\" + 0.002*\"logarithm\"\n",
      "2022-02-28 17:54:58,545 : INFO : topic diff=0.219364, rho=0.245426\n",
      "2022-02-28 17:54:59,395 : INFO : -6.450 per-word bound, 87.4 perplexity estimate based on a held-out corpus of 1204 documents with 49783 words\n",
      "2022-02-28 17:54:59,396 : INFO : PROGRESS: pass 14, at document #3204/3204\n",
      "2022-02-28 17:55:00,051 : INFO : optimized alpha [0.010811512, 0.013274016, 0.013803478, 0.013899301, 0.011140775, 0.015776422, 0.013431033, 0.015071062, 0.013638203, 0.012305724, 0.011236302, 0.012904229, 0.0122946855, 0.01186314, 0.011857095, 0.013354231, 0.011439553, 0.012346964, 0.011558808, 0.013116517, 0.013554765, 0.01169217, 0.010571263, 0.0123330355, 0.010372923, 0.01431353, 0.011544922, 0.007302137, 0.0128464615, 0.011800668, 0.012009724, 0.012261588, 0.012378984, 0.011745328, 0.01478912, 0.011948183, 0.015490989, 0.0114558535, 0.011933299, 0.012679722, 0.010962108, 0.011156509, 0.0108862035, 0.011621739, 0.012057419, 0.01201376, 0.013953123, 0.007302137, 0.014139301, 0.011934583, 0.0134204775, 0.011484398, 0.012145479, 0.013258691, 0.015731962, 0.013251439, 0.01181003, 0.014781814, 0.013226332, 0.012993429, 0.012477961, 0.015455837, 0.013694501, 0.0125323525, 0.012818735, 0.0130784055, 0.04550988, 0.01610191, 0.012109897, 0.010788772, 0.013492628, 0.021804858, 0.020944422, 0.013315517, 0.01526121, 0.012772305, 0.012609265, 0.012093727, 0.011958215, 0.011848938, 0.014309815, 0.01393399, 0.013213701, 0.0107709095, 0.013577699, 0.011533211, 0.011791675, 0.013177196, 0.011428461, 0.012286456, 0.013238586, 0.016992941, 0.010947917, 0.012927237, 0.010248966, 0.011554753, 0.01096079, 0.013730719, 0.0136769805, 0.012926529]\n",
      "2022-02-28 17:55:00,058 : INFO : merging changes from 1204 documents into a model of 3204 documents\n",
      "2022-02-28 17:55:00,069 : INFO : topic #27 (0.007): 0.001*\"implic\" + 0.001*\"favor\" + 0.001*\"adapt\" + 0.001*\"polygon\" + 0.001*\"stage\" + 0.001*\"situat\" + 0.001*\"respons\" + 0.001*\"industri\" + 0.001*\"regress\" + 0.001*\"drive\"\n",
      "2022-02-28 17:55:00,069 : INFO : topic #47 (0.007): 0.001*\"implic\" + 0.001*\"favor\" + 0.001*\"adapt\" + 0.001*\"polygon\" + 0.001*\"stage\" + 0.001*\"situat\" + 0.001*\"respons\" + 0.001*\"industri\" + 0.001*\"regress\" + 0.001*\"drive\"\n",
      "2022-02-28 17:55:00,070 : INFO : topic #72 (0.021): 0.571*\"method\" + 0.039*\",\" + 0.028*\"appli\" + 0.026*\"applic\" + 0.026*\"partial\" + 0.024*\"present\" + 0.019*\"set\" + 0.019*\"correct\" + 0.019*\"consid\" + 0.016*\"result\"\n",
      "2022-02-28 17:55:00,071 : INFO : topic #71 (0.022): 0.210*\"languag\" + 0.127*\"program\" + 0.060*\",\" + 0.050*\"algol\" + 0.044*\"-\" + 0.036*\"compil\" + 0.030*\"translat\" + 0.021*\"60\" + 0.020*\"machin\" + 0.018*\"construct\"\n"
     ]
    },
    {
     "name": "stderr",
     "output_type": "stream",
     "text": [
      "2022-02-28 17:55:00,072 : INFO : topic #66 (0.046): 0.396*\"(\" + 0.361*\")\" + 0.160*\"algorithm\" + 0.029*\"function\" + 0.019*\"complex\" + 0.009*\").\" + 0.009*\"gamma\" + 0.006*\"number\" + 0.005*\"invers\" + 0.002*\"argument\"\n",
      "2022-02-28 17:55:00,073 : INFO : topic diff=0.225442, rho=0.245426\n",
      "2022-02-28 17:55:00,082 : INFO : PROGRESS: pass 15, at document #2000/3204\n",
      "2022-02-28 17:55:00,819 : INFO : optimized alpha [0.010829509, 0.013340457, 0.013879091, 0.01394519, 0.011145043, 0.016019424, 0.013575412, 0.01508985, 0.013699043, 0.0123483185, 0.011308857, 0.013032144, 0.012340686, 0.0118753025, 0.011928659, 0.013441073, 0.011469038, 0.012401665, 0.011611848, 0.013081715, 0.013652557, 0.011706757, 0.010610969, 0.012379197, 0.010417617, 0.014414591, 0.011602146, 0.0072680754, 0.012894439, 0.011819416, 0.01206012, 0.012290363, 0.012397981, 0.011770194, 0.0149210915, 0.011947849, 0.015663248, 0.011489615, 0.011935489, 0.012715162, 0.01097361, 0.011212588, 0.010949313, 0.011649463, 0.012081431, 0.012030328, 0.014013738, 0.0072680754, 0.014220333, 0.011959712, 0.01345036, 0.011604959, 0.012225808, 0.013294493, 0.016019987, 0.013325785, 0.011782303, 0.01484609, 0.013424039, 0.013048649, 0.012497494, 0.015578692, 0.013742732, 0.012601049, 0.012825726, 0.013041907, 0.047793888, 0.016235666, 0.012149608, 0.010817434, 0.013571583, 0.02229081, 0.021334503, 0.013328586, 0.015656024, 0.012780384, 0.012735475, 0.01208968, 0.01198989, 0.011912782, 0.0144613525, 0.013969028, 0.013295213, 0.01077517, 0.013620176, 0.01153626, 0.011799438, 0.0132234115, 0.011476584, 0.012338429, 0.013267814, 0.017285986, 0.011002914, 0.012976702, 0.010252572, 0.011513525, 0.010970332, 0.013761578, 0.013786448, 0.012989421]\n",
      "2022-02-28 17:55:00,826 : INFO : merging changes from 2000 documents into a model of 3204 documents\n",
      "2022-02-28 17:55:00,837 : INFO : topic #27 (0.007): 0.001*\"implic\" + 0.001*\"favor\" + 0.001*\"adapt\" + 0.001*\"polygon\" + 0.001*\"stage\" + 0.001*\"situat\" + 0.001*\"respons\" + 0.001*\"industri\" + 0.001*\"regress\" + 0.001*\"drive\"\n",
      "2022-02-28 17:55:00,838 : INFO : topic #47 (0.007): 0.001*\"implic\" + 0.001*\"favor\" + 0.001*\"adapt\" + 0.001*\"polygon\" + 0.001*\"stage\" + 0.001*\"situat\" + 0.001*\"respons\" + 0.001*\"industri\" + 0.001*\"regress\" + 0.001*\"drive\"\n",
      "2022-02-28 17:55:00,838 : INFO : topic #72 (0.021): 0.575*\"method\" + 0.039*\",\" + 0.028*\"appli\" + 0.026*\"applic\" + 0.026*\"partial\" + 0.024*\"present\" + 0.018*\"correct\" + 0.018*\"set\" + 0.018*\"consid\" + 0.016*\"form\"\n",
      "2022-02-28 17:55:00,839 : INFO : topic #71 (0.022): 0.207*\"languag\" + 0.122*\"program\" + 0.060*\",\" + 0.057*\"algol\" + 0.047*\"-\" + 0.036*\"compil\" + 0.030*\"translat\" + 0.024*\"60\" + 0.021*\"machin\" + 0.018*\"sourc\"\n",
      "2022-02-28 17:55:00,840 : INFO : topic #66 (0.048): 0.390*\"(\" + 0.361*\")\" + 0.166*\"algorithm\" + 0.029*\"function\" + 0.018*\"complex\" + 0.008*\"gamma\" + 0.008*\").\" + 0.006*\"invers\" + 0.006*\"number\" + 0.002*\"argument\"\n",
      "2022-02-28 17:55:00,841 : INFO : topic diff=0.200944, rho=0.238352\n",
      "2022-02-28 17:55:01,616 : INFO : -6.441 per-word bound, 86.9 perplexity estimate based on a held-out corpus of 1204 documents with 49783 words\n",
      "2022-02-28 17:55:01,616 : INFO : PROGRESS: pass 15, at document #3204/3204\n",
      "2022-02-28 17:55:02,273 : INFO : optimized alpha [0.010892908, 0.013549057, 0.014064213, 0.014178824, 0.011305126, 0.016199222, 0.013697506, 0.0154065415, 0.013876848, 0.012482044, 0.011400072, 0.013205018, 0.012487938, 0.012005738, 0.011994803, 0.01364158, 0.011610584, 0.012561417, 0.011696345, 0.013294262, 0.013837269, 0.011801515, 0.010683359, 0.012542288, 0.010458795, 0.014686782, 0.011689489, 0.0072252504, 0.013055216, 0.011902155, 0.012182423, 0.012430625, 0.012576229, 0.011839291, 0.015285481, 0.012075231, 0.015854957, 0.011588085, 0.012060004, 0.012930178, 0.011038762, 0.0113062, 0.0110384505, 0.011734419, 0.0122281015, 0.01215712, 0.014188925, 0.0072252504, 0.01449965, 0.012087749, 0.013652538, 0.011668271, 0.012312993, 0.01348924, 0.016243408, 0.013540363, 0.011916658, 0.015106342, 0.013522813, 0.013183005, 0.012639912, 0.015919786, 0.013962344, 0.01274044, 0.013029735, 0.0131868925, 0.04927282, 0.01661879, 0.012294228, 0.010876733, 0.013786102, 0.02255702, 0.02189728, 0.013544141, 0.015602818, 0.012938075, 0.012832501, 0.012227596, 0.01209826, 0.012018359, 0.014620381, 0.014175368, 0.013408275, 0.010857117, 0.013830167, 0.0116538005, 0.011914031, 0.0133665865, 0.011557585, 0.012476539, 0.013459525, 0.017567994, 0.011062282, 0.01311372, 0.0103177745, 0.011647177, 0.011060616, 0.013970046, 0.013941412, 0.013172648]\n",
      "2022-02-28 17:55:02,281 : INFO : merging changes from 1204 documents into a model of 3204 documents\n",
      "2022-02-28 17:55:02,293 : INFO : topic #47 (0.007): 0.001*\"implic\" + 0.001*\"favor\" + 0.001*\"adapt\" + 0.001*\"polygon\" + 0.001*\"stage\" + 0.001*\"situat\" + 0.001*\"respons\" + 0.001*\"industri\" + 0.001*\"regress\" + 0.001*\"drive\"\n",
      "2022-02-28 17:55:02,294 : INFO : topic #27 (0.007): 0.001*\"implic\" + 0.001*\"favor\" + 0.001*\"adapt\" + 0.001*\"polygon\" + 0.001*\"stage\" + 0.001*\"situat\" + 0.001*\"respons\" + 0.001*\"industri\" + 0.001*\"regress\" + 0.001*\"drive\"\n",
      "2022-02-28 17:55:02,295 : INFO : topic #72 (0.022): 0.580*\"method\" + 0.038*\",\" + 0.028*\"appli\" + 0.026*\"applic\" + 0.025*\"partial\" + 0.024*\"present\" + 0.019*\"set\" + 0.018*\"correct\" + 0.018*\"consid\" + 0.016*\"result\"\n",
      "2022-02-28 17:55:02,295 : INFO : topic #71 (0.023): 0.212*\"languag\" + 0.127*\"program\" + 0.061*\",\" + 0.050*\"algol\" + 0.045*\"-\" + 0.035*\"compil\" + 0.030*\"translat\" + 0.021*\"60\" + 0.021*\"machin\" + 0.019*\"construct\"\n",
      "2022-02-28 17:55:02,296 : INFO : topic #66 (0.049): 0.397*\"(\" + 0.362*\")\" + 0.159*\"algorithm\" + 0.028*\"function\" + 0.018*\"complex\" + 0.009*\").\" + 0.009*\"gamma\" + 0.005*\"invers\" + 0.005*\"number\" + 0.002*\"argument\"\n",
      "2022-02-28 17:55:02,297 : INFO : topic diff=0.206584, rho=0.238352\n",
      "2022-02-28 17:55:02,306 : INFO : PROGRESS: pass 16, at document #2000/3204\n",
      "2022-02-28 17:55:03,061 : INFO : optimized alpha [0.010915785, 0.013615448, 0.014139735, 0.014228202, 0.011310271, 0.01644123, 0.013841247, 0.015427016, 0.0139378095, 0.012520772, 0.0114712855, 0.013329446, 0.012535725, 0.012016128, 0.01206783, 0.013740922, 0.011643372, 0.012616348, 0.011749785, 0.013257967, 0.01393646, 0.011817243, 0.010729852, 0.012588746, 0.010502709, 0.014778828, 0.011744213, 0.007193126, 0.013105087, 0.011920654, 0.012234638, 0.012468873, 0.012601763, 0.011862465, 0.01541682, 0.01207199, 0.016031813, 0.011619884, 0.012062129, 0.012970347, 0.011050217, 0.011362541, 0.011099037, 0.011760312, 0.012252804, 0.012173256, 0.014251452, 0.007193126, 0.01458035, 0.012112225, 0.013689399, 0.01179103, 0.012391902, 0.013523852, 0.016534917, 0.013614544, 0.0118908845, 0.015168629, 0.013718071, 0.013238578, 0.012658869, 0.01604895, 0.014005779, 0.012810642, 0.0130374385, 0.0131481355, 0.051613446, 0.016755536, 0.012335874, 0.010904954, 0.013860063, 0.023028621, 0.022289518, 0.0135546625, 0.015997602, 0.012942692, 0.012958178, 0.012225005, 0.012129247, 0.012090761, 0.014766113, 0.014215838, 0.013488204, 0.010858887, 0.013869682, 0.01165809, 0.0119229965, 0.013408598, 0.0116074085, 0.012531743, 0.013486072, 0.017864494, 0.011114978, 0.013166647, 0.010321505, 0.011608303, 0.011073941, 0.013998073, 0.014050528, 0.013241649]\n",
      "2022-02-28 17:55:03,069 : INFO : merging changes from 2000 documents into a model of 3204 documents\n",
      "2022-02-28 17:55:03,084 : INFO : topic #47 (0.007): 0.001*\"implic\" + 0.001*\"favor\" + 0.001*\"adapt\" + 0.001*\"polygon\" + 0.001*\"stage\" + 0.001*\"situat\" + 0.001*\"respons\" + 0.001*\"industri\" + 0.001*\"regress\" + 0.001*\"drive\"\n",
      "2022-02-28 17:55:03,084 : INFO : topic #27 (0.007): 0.001*\"implic\" + 0.001*\"favor\" + 0.001*\"adapt\" + 0.001*\"polygon\" + 0.001*\"stage\" + 0.001*\"situat\" + 0.001*\"respons\" + 0.001*\"industri\" + 0.001*\"regress\" + 0.001*\"drive\"\n",
      "2022-02-28 17:55:03,085 : INFO : topic #72 (0.022): 0.583*\"method\" + 0.037*\",\" + 0.028*\"appli\" + 0.026*\"applic\" + 0.026*\"partial\" + 0.024*\"present\" + 0.017*\"correct\" + 0.017*\"consid\" + 0.017*\"set\" + 0.016*\"form\"\n",
      "2022-02-28 17:55:03,085 : INFO : topic #71 (0.023): 0.209*\"languag\" + 0.121*\"program\" + 0.060*\",\" + 0.058*\"algol\" + 0.047*\"-\" + 0.035*\"compil\" + 0.030*\"translat\" + 0.024*\"60\" + 0.021*\"machin\" + 0.018*\"construct\"\n",
      "2022-02-28 17:55:03,086 : INFO : topic #66 (0.052): 0.392*\"(\" + 0.362*\")\" + 0.165*\"algorithm\" + 0.029*\"function\" + 0.018*\"complex\" + 0.008*\"gamma\" + 0.008*\").\" + 0.006*\"invers\" + 0.005*\"number\" + 0.002*\"argument\"\n"
     ]
    },
    {
     "name": "stderr",
     "output_type": "stream",
     "text": [
      "2022-02-28 17:55:03,087 : INFO : topic diff=0.185197, rho=0.231857\n",
      "2022-02-28 17:55:04,021 : INFO : -6.434 per-word bound, 86.4 perplexity estimate based on a held-out corpus of 1204 documents with 49783 words\n",
      "2022-02-28 17:55:04,022 : INFO : PROGRESS: pass 16, at document #3204/3204\n",
      "2022-02-28 17:55:04,673 : INFO : optimized alpha [0.010982164, 0.013826156, 0.014321466, 0.014455449, 0.011469883, 0.016617086, 0.013960646, 0.015751302, 0.014112339, 0.012649532, 0.011560662, 0.0135020465, 0.012682786, 0.012148764, 0.01213007, 0.013941093, 0.011789205, 0.012780627, 0.011837194, 0.013461555, 0.014126182, 0.011907828, 0.010805, 0.012751496, 0.010547077, 0.015047509, 0.011827459, 0.0071526323, 0.013270705, 0.012001742, 0.012354634, 0.012618812, 0.012772242, 0.011932484, 0.015769843, 0.0122062685, 0.016225852, 0.011723304, 0.012186561, 0.013179736, 0.011118442, 0.011454285, 0.011186406, 0.011843549, 0.0124015855, 0.012297604, 0.014417886, 0.0071526323, 0.014850662, 0.012240183, 0.013896326, 0.011859606, 0.012481976, 0.013712608, 0.016751168, 0.013823259, 0.012022664, 0.015433788, 0.013816904, 0.013372919, 0.012801067, 0.016392725, 0.0142300315, 0.012952363, 0.013240634, 0.013290328, 0.053067263, 0.017132334, 0.012480307, 0.010965195, 0.014071325, 0.023287121, 0.02285297, 0.013769228, 0.015938878, 0.013097355, 0.013058059, 0.012362695, 0.012240194, 0.012210606, 0.014916349, 0.014415952, 0.013598863, 0.010939201, 0.014078835, 0.011773329, 0.012035344, 0.013551684, 0.011688938, 0.012669684, 0.0136719225, 0.018138707, 0.011170994, 0.013301191, 0.010383449, 0.01173942, 0.011171123, 0.014202978, 0.014202516, 0.013424354]\n",
      "2022-02-28 17:55:04,679 : INFO : merging changes from 1204 documents into a model of 3204 documents\n",
      "2022-02-28 17:55:04,693 : INFO : topic #27 (0.007): 0.001*\"implic\" + 0.001*\"favor\" + 0.001*\"adapt\" + 0.001*\"polygon\" + 0.001*\"stage\" + 0.001*\"situat\" + 0.001*\"respons\" + 0.001*\"industri\" + 0.001*\"regress\" + 0.001*\"drive\"\n",
      "2022-02-28 17:55:04,693 : INFO : topic #47 (0.007): 0.001*\"implic\" + 0.001*\"favor\" + 0.001*\"adapt\" + 0.001*\"polygon\" + 0.001*\"stage\" + 0.001*\"situat\" + 0.001*\"respons\" + 0.001*\"industri\" + 0.001*\"regress\" + 0.001*\"drive\"\n",
      "2022-02-28 17:55:04,693 : INFO : topic #72 (0.023): 0.587*\"method\" + 0.037*\",\" + 0.028*\"appli\" + 0.026*\"applic\" + 0.026*\"partial\" + 0.023*\"present\" + 0.018*\"set\" + 0.018*\"consid\" + 0.018*\"correct\" + 0.016*\"normal\"\n",
      "2022-02-28 17:55:04,693 : INFO : topic #71 (0.023): 0.213*\"languag\" + 0.127*\"program\" + 0.061*\",\" + 0.051*\"algol\" + 0.045*\"-\" + 0.033*\"compil\" + 0.030*\"translat\" + 0.022*\"60\" + 0.020*\"machin\" + 0.020*\"construct\"\n",
      "2022-02-28 17:55:04,702 : INFO : topic #66 (0.053): 0.398*\"(\" + 0.363*\")\" + 0.158*\"algorithm\" + 0.028*\"function\" + 0.018*\"complex\" + 0.009*\").\" + 0.009*\"gamma\" + 0.005*\"invers\" + 0.005*\"number\" + 0.002*\"argument\"\n",
      "2022-02-28 17:55:04,703 : INFO : topic diff=0.190359, rho=0.231857\n",
      "2022-02-28 17:55:04,712 : INFO : PROGRESS: pass 17, at document #2000/3204\n",
      "2022-02-28 17:55:05,419 : INFO : optimized alpha [0.011002276, 0.013886322, 0.014392142, 0.01450331, 0.011479826, 0.016856492, 0.0141038885, 0.015780557, 0.014173526, 0.012697453, 0.011635873, 0.013626124, 0.012732394, 0.012161576, 0.012203262, 0.014035552, 0.011821172, 0.012831428, 0.011892442, 0.013426942, 0.014221927, 0.011923336, 0.0108557185, 0.012801218, 0.010590315, 0.015137448, 0.011881228, 0.0071222475, 0.013320982, 0.012021372, 0.012407277, 0.012663493, 0.012794033, 0.011958069, 0.015900582, 0.012208531, 0.016400058, 0.011762493, 0.012189968, 0.01322014, 0.011132412, 0.011513546, 0.011251027, 0.011869041, 0.012429805, 0.012313343, 0.014487297, 0.0071222475, 0.014932888, 0.012264058, 0.013931988, 0.011980672, 0.0125609385, 0.013753955, 0.017050112, 0.013897329, 0.011997417, 0.01550115, 0.014014599, 0.013428932, 0.0128194615, 0.016513802, 0.014270439, 0.01301976, 0.013249108, 0.013252447, 0.05546739, 0.017270092, 0.0125225065, 0.010994246, 0.014148402, 0.023765743, 0.023247255, 0.01378043, 0.016321145, 0.013101633, 0.013181936, 0.012358603, 0.0122761, 0.012285911, 0.015061598, 0.014456866, 0.013678887, 0.010939825, 0.01411704, 0.011780171, 0.012044114, 0.013598909, 0.01174052, 0.012732336, 0.013697536, 0.018432783, 0.011219003, 0.0133561, 0.010390821, 0.01170004, 0.011186786, 0.014231526, 0.014309777, 0.013491917]\n",
      "2022-02-28 17:55:05,427 : INFO : merging changes from 2000 documents into a model of 3204 documents\n",
      "2022-02-28 17:55:05,439 : INFO : topic #47 (0.007): 0.001*\"implic\" + 0.001*\"favor\" + 0.001*\"adapt\" + 0.001*\"polygon\" + 0.001*\"stage\" + 0.001*\"situat\" + 0.001*\"respons\" + 0.001*\"industri\" + 0.001*\"regress\" + 0.001*\"drive\"\n",
      "2022-02-28 17:55:05,440 : INFO : topic #27 (0.007): 0.001*\"implic\" + 0.001*\"favor\" + 0.001*\"adapt\" + 0.001*\"polygon\" + 0.001*\"stage\" + 0.001*\"situat\" + 0.001*\"respons\" + 0.001*\"industri\" + 0.001*\"regress\" + 0.001*\"drive\"\n",
      "2022-02-28 17:55:05,440 : INFO : topic #72 (0.023): 0.590*\"method\" + 0.036*\",\" + 0.028*\"appli\" + 0.027*\"applic\" + 0.026*\"partial\" + 0.024*\"present\" + 0.017*\"consid\" + 0.017*\"correct\" + 0.017*\"set\" + 0.016*\"form\"\n",
      "2022-02-28 17:55:05,441 : INFO : topic #71 (0.024): 0.210*\"languag\" + 0.121*\"program\" + 0.061*\",\" + 0.058*\"algol\" + 0.048*\"-\" + 0.033*\"compil\" + 0.031*\"translat\" + 0.024*\"60\" + 0.021*\"machin\" + 0.019*\"construct\"\n",
      "2022-02-28 17:55:05,441 : INFO : topic #66 (0.055): 0.394*\"(\" + 0.363*\")\" + 0.164*\"algorithm\" + 0.028*\"function\" + 0.018*\"complex\" + 0.008*\"gamma\" + 0.008*\").\" + 0.006*\"invers\" + 0.005*\"number\" + 0.002*\"argument\"\n",
      "2022-02-28 17:55:05,442 : INFO : topic diff=0.171510, rho=0.225865\n",
      "2022-02-28 17:55:06,224 : INFO : -6.427 per-word bound, 86.1 perplexity estimate based on a held-out corpus of 1204 documents with 49783 words\n",
      "2022-02-28 17:55:06,225 : INFO : PROGRESS: pass 17, at document #3204/3204\n",
      "2022-02-28 17:55:06,828 : INFO : optimized alpha [0.0110653695, 0.01409143, 0.014573477, 0.014729966, 0.0116325505, 0.0170317, 0.014228639, 0.016095221, 0.014347739, 0.012826272, 0.011725676, 0.01379347, 0.0128770135, 0.012296532, 0.012264186, 0.01424349, 0.011964655, 0.013000394, 0.011978167, 0.013639941, 0.014403384, 0.012014485, 0.010927484, 0.012966184, 0.010633867, 0.015397047, 0.011960573, 0.007083861, 0.013488942, 0.012100944, 0.012522802, 0.012808473, 0.012956957, 0.012026772, 0.016254032, 0.012340511, 0.016584279, 0.011866304, 0.012312174, 0.013429144, 0.011199404, 0.011605721, 0.011340965, 0.011957481, 0.0125761, 0.012440142, 0.014656344, 0.007083861, 0.015208602, 0.01238973, 0.014149326, 0.012047693, 0.012644366, 0.01393974, 0.017284784, 0.014108281, 0.012129084, 0.015756879, 0.014113655, 0.013555739, 0.01295917, 0.01685747, 0.014496777, 0.0131663475, 0.013451704, 0.013389554, 0.056853265, 0.01766002, 0.012664544, 0.011051295, 0.014364511, 0.024011826, 0.023823898, 0.0139890835, 0.016266512, 0.013256065, 0.013279709, 0.012489218, 0.012385069, 0.012399005, 0.01520889, 0.014656513, 0.0137847345, 0.011022821, 0.014328223, 0.011897774, 0.012158896, 0.013739405, 0.011820429, 0.01287271, 0.013877773, 0.018705964, 0.011282494, 0.013493262, 0.010453652, 0.011828831, 0.011280143, 0.014435869, 0.014458976, 0.013671776]\n",
      "2022-02-28 17:55:06,836 : INFO : merging changes from 1204 documents into a model of 3204 documents\n",
      "2022-02-28 17:55:06,847 : INFO : topic #27 (0.007): 0.001*\"implic\" + 0.001*\"favor\" + 0.001*\"adapt\" + 0.001*\"polygon\" + 0.001*\"stage\" + 0.001*\"situat\" + 0.001*\"respons\" + 0.001*\"industri\" + 0.001*\"regress\" + 0.001*\"drive\"\n",
      "2022-02-28 17:55:06,848 : INFO : topic #47 (0.007): 0.001*\"implic\" + 0.001*\"favor\" + 0.001*\"adapt\" + 0.001*\"polygon\" + 0.001*\"stage\" + 0.001*\"situat\" + 0.001*\"respons\" + 0.001*\"industri\" + 0.001*\"regress\" + 0.001*\"drive\"\n",
      "2022-02-28 17:55:06,848 : INFO : topic #72 (0.024): 0.594*\"method\" + 0.036*\",\" + 0.028*\"appli\" + 0.026*\"applic\" + 0.026*\"partial\" + 0.023*\"present\" + 0.018*\"set\" + 0.018*\"consid\" + 0.017*\"correct\" + 0.016*\"normal\"\n",
      "2022-02-28 17:55:06,849 : INFO : topic #71 (0.024): 0.214*\"languag\" + 0.127*\"program\" + 0.062*\",\" + 0.051*\"algol\" + 0.045*\"-\" + 0.032*\"compil\" + 0.030*\"translat\" + 0.022*\"60\" + 0.020*\"machin\" + 0.020*\"construct\"\n",
      "2022-02-28 17:55:06,850 : INFO : topic #66 (0.057): 0.400*\"(\" + 0.363*\")\" + 0.158*\"algorithm\" + 0.027*\"function\" + 0.018*\"complex\" + 0.009*\").\" + 0.009*\"gamma\" + 0.005*\"invers\" + 0.004*\"number\" + 0.001*\"argument\"\n"
     ]
    },
    {
     "name": "stderr",
     "output_type": "stream",
     "text": [
      "2022-02-28 17:55:06,851 : INFO : topic diff=0.176383, rho=0.225865\n",
      "2022-02-28 17:55:06,860 : INFO : PROGRESS: pass 18, at document #2000/3204\n",
      "2022-02-28 17:55:07,553 : INFO : optimized alpha [0.0110852085, 0.014153324, 0.0146474745, 0.014778043, 0.011642027, 0.017264824, 0.014371482, 0.016120765, 0.014405955, 0.012874634, 0.011799721, 0.013920335, 0.012925622, 0.0123102795, 0.012337557, 0.014336333, 0.011997206, 0.013051511, 0.012033828, 0.013605293, 0.01449585, 0.012029822, 0.010978701, 0.0130148, 0.010675271, 0.015484979, 0.012013464, 0.0070550554, 0.013535086, 0.012121694, 0.012570259, 0.012860849, 0.012982384, 0.012050698, 0.016385984, 0.012339836, 0.016752245, 0.011907465, 0.01231955, 0.013469848, 0.011214489, 0.011664001, 0.011404587, 0.01198515, 0.012603666, 0.012456855, 0.014722774, 0.0070550554, 0.0152956415, 0.012411674, 0.014190214, 0.012171079, 0.0127248615, 0.013976862, 0.017585862, 0.014183887, 0.0121042635, 0.015822444, 0.014312447, 0.013610718, 0.012977062, 0.016986895, 0.014537472, 0.013232458, 0.013457982, 0.013354005, 0.059279315, 0.01779904, 0.012705824, 0.011086058, 0.014438323, 0.024473602, 0.02422038, 0.013997895, 0.016641982, 0.013261433, 0.0134048425, 0.012486491, 0.012421702, 0.012467567, 0.0153503455, 0.01469298, 0.013864896, 0.011024737, 0.014368343, 0.011904389, 0.012170138, 0.0137855755, 0.011868537, 0.0129328165, 0.013910286, 0.01899772, 0.011330995, 0.013547153, 0.01046338, 0.011790198, 0.011298075, 0.014464949, 0.014562866, 0.013737922]\n",
      "2022-02-28 17:55:07,561 : INFO : merging changes from 2000 documents into a model of 3204 documents\n",
      "2022-02-28 17:55:07,572 : INFO : topic #47 (0.007): 0.001*\"implic\" + 0.001*\"favor\" + 0.001*\"adapt\" + 0.001*\"polygon\" + 0.001*\"stage\" + 0.001*\"situat\" + 0.001*\"respons\" + 0.001*\"industri\" + 0.001*\"regress\" + 0.001*\"drive\"\n",
      "2022-02-28 17:55:07,573 : INFO : topic #27 (0.007): 0.001*\"implic\" + 0.001*\"favor\" + 0.001*\"adapt\" + 0.001*\"polygon\" + 0.001*\"stage\" + 0.001*\"situat\" + 0.001*\"respons\" + 0.001*\"industri\" + 0.001*\"regress\" + 0.001*\"drive\"\n",
      "2022-02-28 17:55:07,574 : INFO : topic #72 (0.024): 0.596*\"method\" + 0.036*\",\" + 0.029*\"appli\" + 0.027*\"applic\" + 0.026*\"partial\" + 0.024*\"present\" + 0.017*\"consid\" + 0.017*\"set\" + 0.017*\"correct\" + 0.016*\"form\"\n",
      "2022-02-28 17:55:07,575 : INFO : topic #71 (0.024): 0.211*\"languag\" + 0.121*\"program\" + 0.062*\",\" + 0.058*\"algol\" + 0.048*\"-\" + 0.032*\"compil\" + 0.031*\"translat\" + 0.024*\"60\" + 0.021*\"machin\" + 0.019*\"construct\"\n",
      "2022-02-28 17:55:07,576 : INFO : topic #66 (0.059): 0.395*\"(\" + 0.364*\")\" + 0.164*\"algorithm\" + 0.027*\"function\" + 0.018*\"complex\" + 0.008*\").\" + 0.008*\"gamma\" + 0.006*\"invers\" + 0.004*\"number\" + 0.001*\"argument\"\n",
      "2022-02-28 17:55:07,577 : INFO : topic diff=0.159821, rho=0.220316\n",
      "2022-02-28 17:55:08,315 : INFO : -6.420 per-word bound, 85.6 perplexity estimate based on a held-out corpus of 1204 documents with 49783 words\n",
      "2022-02-28 17:55:08,316 : INFO : PROGRESS: pass 18, at document #3204/3204\n",
      "2022-02-28 17:55:08,935 : INFO : optimized alpha [0.011151301, 0.014363438, 0.014828577, 0.015015486, 0.011790407, 0.017433142, 0.014501656, 0.016437618, 0.014572064, 0.013006008, 0.011883602, 0.014092853, 0.013072746, 0.012440755, 0.012394914, 0.014531137, 0.012142891, 0.013227635, 0.012115805, 0.013809981, 0.014679891, 0.012117095, 0.0110533, 0.013179754, 0.010716102, 0.015738668, 0.012100235, 0.007018584, 0.013703087, 0.012199865, 0.012686099, 0.013010725, 0.013140425, 0.012118211, 0.01675524, 0.012467378, 0.016933031, 0.012009473, 0.012439745, 0.013681165, 0.0112803355, 0.011756696, 0.011495043, 0.012072007, 0.012747649, 0.012581506, 0.014878116, 0.007018584, 0.01556305, 0.012537504, 0.014402023, 0.012234383, 0.012811259, 0.014159854, 0.017813763, 0.0143921105, 0.012235961, 0.016074875, 0.014409151, 0.01373786, 0.013112041, 0.017336847, 0.014768842, 0.013374232, 0.013657679, 0.013486284, 0.06059744, 0.018193178, 0.0128574595, 0.0111461375, 0.014654246, 0.024711853, 0.02480672, 0.014208621, 0.016585259, 0.013410859, 0.013505564, 0.012619494, 0.012535657, 0.0125832865, 0.015489255, 0.01488689, 0.013968739, 0.011110341, 0.014587008, 0.012022218, 0.012282965, 0.0139288055, 0.011946984, 0.013073287, 0.014095465, 0.019266592, 0.011389153, 0.013677011, 0.010525124, 0.011914519, 0.011394006, 0.014666256, 0.014709458, 0.0139176855]\n",
      "2022-02-28 17:55:08,942 : INFO : merging changes from 1204 documents into a model of 3204 documents\n",
      "2022-02-28 17:55:08,954 : INFO : topic #27 (0.007): 0.001*\"implic\" + 0.001*\"favor\" + 0.001*\"adapt\" + 0.001*\"polygon\" + 0.001*\"stage\" + 0.001*\"situat\" + 0.001*\"respons\" + 0.001*\"industri\" + 0.001*\"regress\" + 0.001*\"drive\"\n",
      "2022-02-28 17:55:08,955 : INFO : topic #47 (0.007): 0.001*\"implic\" + 0.001*\"favor\" + 0.001*\"adapt\" + 0.001*\"polygon\" + 0.001*\"stage\" + 0.001*\"situat\" + 0.001*\"respons\" + 0.001*\"industri\" + 0.001*\"regress\" + 0.001*\"drive\"\n",
      "2022-02-28 17:55:08,955 : INFO : topic #71 (0.025): 0.215*\"languag\" + 0.126*\"program\" + 0.062*\",\" + 0.052*\"algol\" + 0.045*\"-\" + 0.031*\"compil\" + 0.031*\"translat\" + 0.022*\"60\" + 0.020*\"construct\" + 0.020*\"machin\"\n",
      "2022-02-28 17:55:08,956 : INFO : topic #72 (0.025): 0.599*\"method\" + 0.035*\",\" + 0.029*\"appli\" + 0.026*\"applic\" + 0.026*\"partial\" + 0.023*\"present\" + 0.018*\"consid\" + 0.018*\"set\" + 0.017*\"correct\" + 0.016*\"normal\"\n",
      "2022-02-28 17:55:08,956 : INFO : topic #66 (0.061): 0.401*\"(\" + 0.364*\")\" + 0.158*\"algorithm\" + 0.026*\"function\" + 0.018*\"complex\" + 0.010*\").\" + 0.009*\"gamma\" + 0.005*\"invers\" + 0.004*\"number\" + 0.001*\"argument\"\n",
      "2022-02-28 17:55:08,957 : INFO : topic diff=0.164402, rho=0.220316\n",
      "2022-02-28 17:55:08,966 : INFO : PROGRESS: pass 19, at document #2000/3204\n",
      "2022-02-28 17:55:09,608 : INFO : optimized alpha [0.011170903, 0.014431701, 0.014896261, 0.015062157, 0.0118019935, 0.01766392, 0.0146427145, 0.016463144, 0.014636972, 0.01305487, 0.0119565865, 0.014222654, 0.013120354, 0.012454133, 0.012468521, 0.014619258, 0.012177333, 0.013276183, 0.012169295, 0.013773892, 0.014778809, 0.012132213, 0.011101282, 0.013225879, 0.010758045, 0.015817951, 0.012150982, 0.00699121, 0.013754099, 0.012219033, 0.0127355, 0.0130706625, 0.013165134, 0.012140577, 0.016897624, 0.0124666095, 0.017106079, 0.012050019, 0.012448339, 0.013722181, 0.011291636, 0.01181665, 0.011560175, 0.012100576, 0.012775895, 0.012599179, 0.014940039, 0.00699121, 0.015641544, 0.0125616, 0.014443343, 0.012358911, 0.012896097, 0.014200517, 0.018115168, 0.014469338, 0.012212852, 0.016142156, 0.014602944, 0.01378739, 0.013129471, 0.017469538, 0.014805005, 0.01344064, 0.013663317, 0.013451467, 0.06306626, 0.018331517, 0.012902176, 0.011176808, 0.014729674, 0.025162073, 0.025205119, 0.014218144, 0.016954238, 0.013417338, 0.013633488, 0.0126180705, 0.012574255, 0.012658945, 0.015625505, 0.014925535, 0.0140446415, 0.011118321, 0.014624282, 0.012027357, 0.012295289, 0.013975552, 0.011996873, 0.013136569, 0.014122438, 0.019560078, 0.011441915, 0.013726907, 0.010533681, 0.011875393, 0.011415331, 0.014692716, 0.014813303, 0.013984039]\n",
      "2022-02-28 17:55:09,616 : INFO : merging changes from 2000 documents into a model of 3204 documents\n",
      "2022-02-28 17:55:09,627 : INFO : topic #27 (0.007): 0.001*\"implic\" + 0.001*\"favor\" + 0.001*\"adapt\" + 0.001*\"polygon\" + 0.001*\"stage\" + 0.001*\"situat\" + 0.001*\"respons\" + 0.001*\"industri\" + 0.001*\"regress\" + 0.001*\"drive\"\n",
      "2022-02-28 17:55:09,628 : INFO : topic #47 (0.007): 0.001*\"implic\" + 0.001*\"favor\" + 0.001*\"adapt\" + 0.001*\"polygon\" + 0.001*\"stage\" + 0.001*\"situat\" + 0.001*\"respons\" + 0.001*\"industri\" + 0.001*\"regress\" + 0.001*\"drive\"\n",
      "2022-02-28 17:55:09,629 : INFO : topic #72 (0.025): 0.602*\"method\" + 0.035*\",\" + 0.029*\"appli\" + 0.027*\"applic\" + 0.026*\"partial\" + 0.024*\"present\" + 0.017*\"consid\" + 0.016*\"set\" + 0.016*\"correct\" + 0.016*\"form\"\n",
      "2022-02-28 17:55:09,629 : INFO : topic #71 (0.025): 0.212*\"languag\" + 0.120*\"program\" + 0.062*\",\" + 0.059*\"algol\" + 0.048*\"-\" + 0.031*\"compil\" + 0.031*\"translat\" + 0.025*\"60\" + 0.020*\"machin\" + 0.019*\"construct\"\n",
      "2022-02-28 17:55:09,631 : INFO : topic #66 (0.063): 0.396*\"(\" + 0.365*\")\" + 0.164*\"algorithm\" + 0.026*\"function\" + 0.017*\"complex\" + 0.009*\").\" + 0.008*\"gamma\" + 0.006*\"invers\" + 0.004*\"number\" + 0.001*\"argument\"\n",
      "2022-02-28 17:55:09,632 : INFO : topic diff=0.149704, rho=0.215156\n"
     ]
    },
    {
     "name": "stderr",
     "output_type": "stream",
     "text": [
      "2022-02-28 17:55:10,365 : INFO : -6.416 per-word bound, 85.4 perplexity estimate based on a held-out corpus of 1204 documents with 49783 words\n",
      "2022-02-28 17:55:10,366 : INFO : PROGRESS: pass 19, at document #3204/3204\n",
      "2022-02-28 17:55:10,936 : INFO : optimized alpha [0.011235875, 0.014641842, 0.015085345, 0.01529674, 0.011943943, 0.017841255, 0.014775783, 0.016773742, 0.0148031525, 0.013181842, 0.012039009, 0.01439545, 0.013267662, 0.012584818, 0.012527022, 0.014816721, 0.012320988, 0.013452416, 0.012249871, 0.013980661, 0.014957569, 0.012218052, 0.0111726215, 0.013386146, 0.0108001055, 0.016062923, 0.012234119, 0.006956481, 0.01391723, 0.012295898, 0.012844895, 0.013223106, 0.013323232, 0.0122048, 0.017268138, 0.012592115, 0.017280472, 0.012159208, 0.012564409, 0.013938382, 0.0113584455, 0.011905718, 0.011651191, 0.012183811, 0.012915427, 0.012724196, 0.015093017, 0.006956481, 0.01590898, 0.012689922, 0.01467347, 0.012423042, 0.012980919, 0.01438355, 0.018345822, 0.014674978, 0.012344645, 0.016394423, 0.014694748, 0.0139099425, 0.013262327, 0.017813556, 0.015030893, 0.013587521, 0.013857824, 0.013584022, 0.06430522, 0.0187301, 0.013044745, 0.011235893, 0.014948033, 0.025397621, 0.025792016, 0.014420883, 0.016889418, 0.013566875, 0.013734655, 0.012751326, 0.012684107, 0.012777368, 0.015770102, 0.015119285, 0.014141562, 0.011208611, 0.01484529, 0.012147701, 0.012406287, 0.014124054, 0.012073921, 0.013277363, 0.014310045, 0.019835245, 0.011501143, 0.013854694, 0.010598209, 0.011999929, 0.0115118325, 0.014901711, 0.014957405, 0.014161325]\n",
      "2022-02-28 17:55:10,943 : INFO : merging changes from 1204 documents into a model of 3204 documents\n",
      "2022-02-28 17:55:10,955 : INFO : topic #27 (0.007): 0.001*\"implic\" + 0.001*\"favor\" + 0.001*\"adapt\" + 0.001*\"polygon\" + 0.001*\"stage\" + 0.001*\"situat\" + 0.001*\"respons\" + 0.001*\"industri\" + 0.001*\"regress\" + 0.001*\"drive\"\n",
      "2022-02-28 17:55:10,956 : INFO : topic #47 (0.007): 0.001*\"implic\" + 0.001*\"favor\" + 0.001*\"adapt\" + 0.001*\"polygon\" + 0.001*\"stage\" + 0.001*\"situat\" + 0.001*\"respons\" + 0.001*\"industri\" + 0.001*\"regress\" + 0.001*\"drive\"\n",
      "2022-02-28 17:55:10,956 : INFO : topic #71 (0.025): 0.216*\"languag\" + 0.126*\"program\" + 0.063*\",\" + 0.052*\"algol\" + 0.046*\"-\" + 0.031*\"translat\" + 0.031*\"compil\" + 0.023*\"60\" + 0.021*\"construct\" + 0.020*\"machin\"\n",
      "2022-02-28 17:55:10,957 : INFO : topic #72 (0.026): 0.606*\"method\" + 0.034*\",\" + 0.029*\"appli\" + 0.026*\"applic\" + 0.026*\"partial\" + 0.023*\"present\" + 0.017*\"consid\" + 0.017*\"set\" + 0.017*\"correct\" + 0.016*\"normal\"\n",
      "2022-02-28 17:55:10,957 : INFO : topic #66 (0.064): 0.402*\"(\" + 0.365*\")\" + 0.157*\"algorithm\" + 0.026*\"function\" + 0.018*\"complex\" + 0.010*\").\" + 0.009*\"gamma\" + 0.005*\"invers\" + 0.003*\"number\" + 0.001*\"argument\"\n",
      "2022-02-28 17:55:10,958 : INFO : topic diff=0.153601, rho=0.215156\n"
     ]
    },
    {
     "data": {
      "text/plain": [
       "[(0, 0.004610582),\n",
       " (1, 0.006008202),\n",
       " (2, 0.0061901915),\n",
       " (3, 0.0062769367),\n",
       " (4, 0.004901134),\n",
       " (5, 0.007321065),\n",
       " (6, 0.006063164),\n",
       " (7, 0.0068830163),\n",
       " (8, 0.0060743955),\n",
       " (9, 0.005409099),\n",
       " (10, 0.0049401433),\n",
       " (11, 0.005907097),\n",
       " (12, 0.0054443153),\n",
       " (13, 0.0051641134),\n",
       " (14, 0.005140397),\n",
       " (15, 0.006079963),\n",
       " (16, 0.0050558522),\n",
       " (17, 0.0055201277),\n",
       " (18, 0.0050266697),\n",
       " (19, 0.0057368902),\n",
       " (20, 0.006137759),\n",
       " (21, 0.005013613),\n",
       " (22, 0.0045846263),\n",
       " (23, 0.0054929345),\n",
       " (24, 0.004431766),\n",
       " (25, 0.0065913354),\n",
       " (26, 0.005020206),\n",
       " (27, 0.0028545551),\n",
       " (28, 0.0057108616),\n",
       " (29, 0.005045557),\n",
       " (30, 0.0052708345),\n",
       " (31, 0.0054260315),\n",
       " (32, 0.0054671178),\n",
       " (33, 0.005008175),\n",
       " (34, 0.007085889),\n",
       " (35, 0.005167108),\n",
       " (36, 0.0070909504),\n",
       " (37, 0.0049894666),\n",
       " (38, 0.0051557384),\n",
       " (39, 0.0057195416),\n",
       " (40, 0.004660878),\n",
       " (41, 0.004885448),\n",
       " (42, 0.0047810045),\n",
       " (43, 0.004999562),\n",
       " (44, 0.0052997773),\n",
       " (45, 0.0052213063),\n",
       " (46, 0.00619334),\n",
       " (47, 0.0028545551),\n",
       " (48, 0.006528166),\n",
       " (49, 0.0052072424),\n",
       " (50, 0.0060211807),\n",
       " (51, 0.0050977296),\n",
       " (52, 0.0053266515),\n",
       " (53, 0.0059022135),\n",
       " (54, 0.007528111),\n",
       " (55, 0.0060217995),\n",
       " (56, 0.00506556),\n",
       " (57, 0.006727365),\n",
       " (58, 0.0060299123),\n",
       " (59, 0.41604793),\n",
       " (60, 0.0054421257),\n",
       " (61, 0.0073096985),\n",
       " (62, 0.006167847),\n",
       " (63, 0.0055755675),\n",
       " (64, 0.0056864847),\n",
       " (65, 0.005574132),\n",
       " (66, 0.026387308),\n",
       " (67, 0.0076857978),\n",
       " (68, 0.005352842),\n",
       " (69, 0.0046105892),\n",
       " (70, 0.006133846),\n",
       " (71, 0.01042178),\n",
       " (72, 0.010583617),\n",
       " (73, 0.005917533),\n",
       " (74, 0.006930483),\n",
       " (75, 0.0055670952),\n",
       " (76, 0.0056359433),\n",
       " (77, 0.0052324394),\n",
       " (78, 0.005204856),\n",
       " (79, 0.0052431254),\n",
       " (80, 0.006471178),\n",
       " (81, 0.006204119),\n",
       " (82, 0.0058029154),\n",
       " (83, 0.0045993943),\n",
       " (84, 0.0060916864),\n",
       " (85, 0.004984745),\n",
       " (86, 0.005090854),\n",
       " (87, 0.005795731),\n",
       " (88, 0.00495447),\n",
       " (89, 0.0054482957),\n",
       " (90, 0.005872051),\n",
       " (91, 0.008139288),\n",
       " (92, 0.004719433),\n",
       " (93, 0.0056852004),\n",
       " (94, 0.004348919),\n",
       " (95, 0.0049241073),\n",
       " (96, 0.0047238194),\n",
       " (97, 0.006114838),\n",
       " (98, 0.006137692),\n",
       " (99, 0.005811025)]"
      ]
     },
     "execution_count": 85,
     "metadata": {},
     "output_type": "execute_result"
    }
   ],
   "source": [
    "##### Function check\n",
    "lda = LdaRetrievalModel(doc_repr_2)\n",
    "lda.train_model()\n",
    "\n",
    "# you can now get an LDA vector for a given query in the following way:\n",
    "lda.vectorize_query(\"report\")\n",
    "##### "
   ]
  },
  {
   "cell_type": "markdown",
   "metadata": {
    "deletable": false,
    "editable": false,
    "nbgrader": {
     "cell_type": "markdown",
     "checksum": "32d83b6ea79ca3ddb789a7f8805a1b25",
     "grade": false,
     "grade_id": "cell-0e24b727d5908c0e",
     "locked": true,
     "points": 5,
     "schema_version": 3,
     "solution": false,
     "task": true
    }
   },
   "source": [
    "\\#### Please do not change this. This cell is used for grading."
   ]
  },
  {
   "cell_type": "markdown",
   "metadata": {
    "deletable": false,
    "editable": false,
    "nbgrader": {
     "cell_type": "markdown",
     "checksum": "114a934f0b9ce696e6cf09d3b8da6a3d",
     "grade": false,
     "grade_id": "cell-b1bffcb970b18aeb",
     "locked": true,
     "schema_version": 3,
     "solution": false,
     "task": false
    }
   },
   "source": [
    "---\n",
    "Now we can use the `DenseRetrievalModel` class to obtain an LDA search function.\n",
    "You can test your LDA model in the following cell: Try finding queries which are lexically different to documents, but semantically similar - does LDA work well for these queries?!"
   ]
  },
  {
   "cell_type": "code",
   "execution_count": 86,
   "metadata": {},
   "outputs": [
    {
     "data": {
      "application/vnd.jupyter.widget-view+json": {
       "model_id": "5527d2c7a6744e118f0c817055e551c3",
       "version_major": 2,
       "version_minor": 0
      },
      "text/plain": [
       "Text(value='', description='Search Bar')"
      ]
     },
     "metadata": {},
     "output_type": "display_data"
    }
   ],
   "source": [
    "drm_lda = DenseRetrievalRanker(lda, jenson_shannon_sim)\n",
    "\n",
    "# test your LDA model\n",
    "search_fn = drm_lda.search\n",
    "\n",
    "text = widgets.Text(description=\"Search Bar\", width=200)\n",
    "display(text)\n",
    "\n",
    "\n",
    "text.on_submit(handle_submit_2)"
   ]
  },
  {
   "cell_type": "markdown",
   "metadata": {
    "deletable": false,
    "editable": false,
    "nbgrader": {
     "cell_type": "markdown",
     "checksum": "9d7f15863b655119b45f4d89354e5661",
     "grade": false,
     "grade_id": "cell-190cd0854b2791cc",
     "locked": true,
     "schema_version": 3,
     "solution": false,
     "task": false
    }
   },
   "source": [
    "## Section 8: Word2Vec/Doc2Vec (20 points) <a class=\"anchor\" id=\"2vec\"></a>\n",
    "\n",
    "[Back to Part 2](#part2)\n",
    "\n",
    "We will implement two other methods here, the Word2Vec model and the Doc2Vec model, also using `gensim`. Word2Vec creates representations of words, not documents, so the word level vectors need to be aggregated to obtain a representation for the document. Here, we will simply take the mean of the vectors. \n",
    "\n",
    "\n",
    "A drawback of these models is that they need a lot of training data. Our dataset is tiny, so in addition to using a model trained on the data, we will also use a pre-trained model for Word2Vec (this will be automatically downloaded).     \n",
    "\n",
    "*Note*:\n",
    "1. The code in vectorize_documents / vectorize_query should return gensim-like vectors i.e `[(dim, val), .. (dim, val)]`. \n",
    "2. For Word2Vec: You should also handle the following two cases: (a) A word in the query is not present in the vocabulary of the model and (b) none of the words in the query are present in the model - you can return 0 scores for all documents in this case. For either of these, you can check if a `word` is present in the vocab by using `word in self.model`\n"
   ]
  },
  {
   "cell_type": "code",
   "execution_count": 87,
   "metadata": {
    "deletable": false,
    "nbgrader": {
     "cell_type": "code",
     "checksum": "83ab733608ed14c29c09b36b4e1b6daa",
     "grade": false,
     "grade_id": "cell-2b73759f9baf688f",
     "locked": false,
     "schema_version": 3,
     "solution": true,
     "task": false
    }
   },
   "outputs": [
    {
     "name": "stderr",
     "output_type": "stream",
     "text": [
      "2022-02-28 17:55:12,763 : INFO : adding document #0 to Dictionary(0 unique tokens: [])\n",
      "2022-02-28 17:55:12,894 : INFO : built Dictionary(5937 unique tokens: ['-', 'algebra', 'intern', 'languag', 'preliminari']...) from 3204 documents (total 115969 corpus positions)\n",
      "2022-02-28 17:55:12,901 : INFO : discarding 4740 tokens: [('repeat', 8), ('glossari', 7), ('inspect', 8), ('uncol', 2), ('rung', 9), ('secant', 2), ('.', 1603), ('acceler', 6), ('diverg', 3), ('induc', 9)]...\n",
      "2022-02-28 17:55:12,902 : INFO : keeping 1197 tokens which were in no less than 10 and no more than 1602 (=50.0%) documents\n",
      "2022-02-28 17:55:12,904 : INFO : resulting dictionary: Dictionary(1197 unique tokens: ['-', 'algebra', 'intern', 'languag', 'preliminari']...)\n",
      "2022-02-28 17:55:12,968 : INFO : collecting all words and their counts\n",
      "2022-02-28 17:55:12,969 : INFO : PROGRESS: at sentence #0, processed 0 words, keeping 0 word types\n",
      "2022-02-28 17:55:12,986 : INFO : collected 5937 word types from a corpus of 115969 raw words and 3204 sentences\n",
      "2022-02-28 17:55:12,986 : INFO : Loading a fresh vocabulary\n",
      "2022-02-28 17:55:12,995 : INFO : effective_min_count=1 retains 5937 unique words (100% of original 5937, drops 0)\n",
      "2022-02-28 17:55:12,995 : INFO : effective_min_count=1 leaves 115969 word corpus (100% of original 115969, drops 0)\n",
      "2022-02-28 17:55:13,011 : INFO : deleting the raw counts dictionary of 5937 items\n",
      "2022-02-28 17:55:13,012 : INFO : sample=0.001 downsamples 40 most-common words\n",
      "2022-02-28 17:55:13,012 : INFO : downsampling leaves estimated 92346 word corpus (79.6% of prior 115969)\n",
      "2022-02-28 17:55:13,024 : INFO : estimated required memory for 5937 words and 100 dimensions: 7718100 bytes\n",
      "2022-02-28 17:55:13,025 : INFO : resetting layer weights\n",
      "2022-02-28 17:55:14,028 : INFO : training model with 3 workers on 5937 vocabulary and 100 features, using sg=0 hs=0 sample=0.001 negative=5 window=5\n",
      "2022-02-28 17:55:14,095 : INFO : worker thread finished; awaiting finish of 2 more threads\n",
      "2022-02-28 17:55:14,100 : INFO : worker thread finished; awaiting finish of 1 more threads\n",
      "2022-02-28 17:55:14,101 : INFO : worker thread finished; awaiting finish of 0 more threads\n",
      "2022-02-28 17:55:14,102 : INFO : EPOCH - 1 : training on 115969 raw words (92322 effective words) took 0.1s, 1560271 effective words/s\n",
      "2022-02-28 17:55:14,163 : INFO : worker thread finished; awaiting finish of 2 more threads\n",
      "2022-02-28 17:55:14,167 : INFO : worker thread finished; awaiting finish of 1 more threads\n",
      "2022-02-28 17:55:14,168 : INFO : worker thread finished; awaiting finish of 0 more threads\n",
      "2022-02-28 17:55:14,168 : INFO : EPOCH - 2 : training on 115969 raw words (92274 effective words) took 0.1s, 1485210 effective words/s\n",
      "2022-02-28 17:55:14,220 : INFO : worker thread finished; awaiting finish of 2 more threads\n",
      "2022-02-28 17:55:14,225 : INFO : worker thread finished; awaiting finish of 1 more threads\n",
      "2022-02-28 17:55:14,226 : INFO : worker thread finished; awaiting finish of 0 more threads\n",
      "2022-02-28 17:55:14,227 : INFO : EPOCH - 3 : training on 115969 raw words (92362 effective words) took 0.1s, 1726228 effective words/s\n",
      "2022-02-28 17:55:14,280 : INFO : worker thread finished; awaiting finish of 2 more threads\n",
      "2022-02-28 17:55:14,282 : INFO : worker thread finished; awaiting finish of 1 more threads\n",
      "2022-02-28 17:55:14,283 : INFO : worker thread finished; awaiting finish of 0 more threads\n",
      "2022-02-28 17:55:14,284 : INFO : EPOCH - 4 : training on 115969 raw words (92365 effective words) took 0.1s, 1737275 effective words/s\n",
      "2022-02-28 17:55:14,340 : INFO : worker thread finished; awaiting finish of 2 more threads\n",
      "2022-02-28 17:55:14,343 : INFO : worker thread finished; awaiting finish of 1 more threads\n",
      "2022-02-28 17:55:14,345 : INFO : worker thread finished; awaiting finish of 0 more threads\n",
      "2022-02-28 17:55:14,345 : INFO : EPOCH - 5 : training on 115969 raw words (92331 effective words) took 0.1s, 1656019 effective words/s\n",
      "2022-02-28 17:55:14,346 : INFO : training on a 579845 raw words (461654 effective words) took 0.3s, 1510145 effective words/s\n",
      "C:\\Users\\irene\\AppData\\Local\\Continuum\\anaconda3\\envs\\ir2022\\lib\\site-packages\\ipykernel_launcher.py:57: DeprecationWarning: Call to deprecated `__contains__` (Method will be removed in 4.0.0, use self.wv.__contains__() instead).\n",
      "C:\\Users\\irene\\AppData\\Local\\Continuum\\anaconda3\\envs\\ir2022\\lib\\site-packages\\ipykernel_launcher.py:58: DeprecationWarning: Call to deprecated `__getitem__` (Method will be removed in 4.0.0, use self.wv.__getitem__() instead).\n"
     ]
    },
    {
     "data": {
      "text/plain": [
       "[(0, -0.6379153),\n",
       " (1, -0.6869232),\n",
       " (2, 0.19762893),\n",
       " (3, 0.29322925),\n",
       " (4, 0.07814361),\n",
       " (5, 0.1362701),\n",
       " (6, 0.0992861),\n",
       " (7, 0.56463563),\n",
       " (8, 0.46405712),\n",
       " (9, -0.47636834),\n",
       " (10, 0.4733748),\n",
       " (11, 0.21552417),\n",
       " (12, -0.68879676),\n",
       " (13, -0.21512021),\n",
       " (14, -0.32647195),\n",
       " (15, 1.0998029),\n",
       " (16, -0.012009838),\n",
       " (17, -0.24189377),\n",
       " (18, 0.48366627),\n",
       " (19, -0.5536443),\n",
       " (20, 0.090041466),\n",
       " (21, 0.12508635),\n",
       " (22, -0.52496856),\n",
       " (23, 1.1220247),\n",
       " (24, -0.13815314),\n",
       " (25, -0.6787957),\n",
       " (26, -0.35442284),\n",
       " (27, -0.08201916),\n",
       " (28, 0.40790167),\n",
       " (29, -0.39095002),\n",
       " (30, -0.20040007),\n",
       " (31, -0.12688704),\n",
       " (32, 0.5056693),\n",
       " (33, -0.17318377),\n",
       " (34, 0.6505849),\n",
       " (35, -0.9198943),\n",
       " (36, -0.13281319),\n",
       " (37, -0.11559304),\n",
       " (38, -0.27632833),\n",
       " (39, -0.32637426),\n",
       " (40, 0.29513404),\n",
       " (41, -0.09433138),\n",
       " (42, 0.09205032),\n",
       " (43, 0.033118926),\n",
       " (44, 0.07363883),\n",
       " (45, -0.39005888),\n",
       " (46, -0.3980156),\n",
       " (47, 0.1546799),\n",
       " (48, -0.23715116),\n",
       " (49, 0.014662953),\n",
       " (50, 0.056922738),\n",
       " (51, -0.042012867),\n",
       " (52, 0.044945303),\n",
       " (53, 0.41516298),\n",
       " (54, -0.5702251),\n",
       " (55, -0.359333),\n",
       " (56, 0.2921743),\n",
       " (57, 0.4498458),\n",
       " (58, 0.7466246),\n",
       " (59, -0.053373437),\n",
       " (60, -0.05198677),\n",
       " (61, -0.16789599),\n",
       " (62, 0.31127125),\n",
       " (63, -0.18836874),\n",
       " (64, -0.26342264),\n",
       " (65, -0.29363143),\n",
       " (66, 0.12275999),\n",
       " (67, 0.22899154),\n",
       " (68, -0.29363444),\n",
       " (69, -0.45283777),\n",
       " (70, 0.13625082),\n",
       " (71, -0.06591859),\n",
       " (72, 0.44292584),\n",
       " (73, -0.48186746),\n",
       " (74, 0.47882497),\n",
       " (75, -0.5006463),\n",
       " (76, 0.07113212),\n",
       " (77, -0.5461071),\n",
       " (78, -0.056391798),\n",
       " (79, 0.89450026),\n",
       " (80, 0.46191412),\n",
       " (81, -0.40537608),\n",
       " (82, 0.742308),\n",
       " (83, 0.43637416),\n",
       " (84, 0.38892353),\n",
       " (85, -0.39424977),\n",
       " (86, -0.82450885),\n",
       " (87, -0.13074881),\n",
       " (88, -0.6188654),\n",
       " (89, -0.4618457),\n",
       " (90, -0.27134278),\n",
       " (91, -0.19908224),\n",
       " (92, -0.14882158),\n",
       " (93, 0.28454813),\n",
       " (94, 0.99668366),\n",
       " (95, 0.8516618),\n",
       " (96, 0.10754187),\n",
       " (97, 0.74686205),\n",
       " (98, -0.2603215),\n",
       " (99, 0.12805891)]"
      ]
     },
     "execution_count": 87,
     "metadata": {},
     "output_type": "execute_result"
    }
   ],
   "source": [
    "# TODO: Implement this! (10 points)\n",
    "class W2VRetrievalModel(VectorSpaceRetrievalModel):\n",
    "    def __init__(self, doc_repr):\n",
    "        super().__init__(doc_repr)\n",
    "        \n",
    "        # the dimensionality of the vectors\n",
    "        self.size = 100 \n",
    "        self.min_count = 1\n",
    "    \n",
    "    def train_model(self):\n",
    "        \"\"\"\n",
    "        Trains the W2V model\n",
    "        \"\"\"\n",
    "        # YOUR CODE HERE\n",
    "        self.model = Word2Vec(sentences = self.documents,\n",
    "                              size = self.size,\n",
    "                              min_count = self.min_count)\n",
    "        # raise NotImplementedError()\n",
    "        \n",
    "    def vectorize_documents(self):\n",
    "        \"\"\"\n",
    "            Returns a doc_id -> vector dictionary\n",
    "        \"\"\"\n",
    "        # YOUR CODE HERE\n",
    "        vectors = {}\n",
    "        for (doc_id, _), cc in zip(self.doc_repr, self.documents):\n",
    "            vectors_list = []\n",
    "            for word in cc:\n",
    "                if word in self.model:\n",
    "                    vectors_list.append(self.model[word])\n",
    "                else:\n",
    "                    # if word not present in the vocab treat it as UNK with a zero vector\n",
    "                    vectors_list.append(np.zeros(self.size))\n",
    "                 \n",
    "            final_vector = []\n",
    "            if vectors_list:\n",
    "                vectors_mean = np.mean(vectors_list, axis=0)\n",
    "                for i, value in enumerate(vectors_mean):\n",
    "                    final_vector.append((i, value))\n",
    "            else:\n",
    "                for i in range(self.size):\n",
    "                    final_vector.append((i, 0))\n",
    "        \n",
    "            vectors[doc_id] = final_vector\n",
    "\n",
    "        return vectors\n",
    "        # raise NotImplementedError()\n",
    "\n",
    "    def vectorize_query(self, query):\n",
    "        \"\"\"\n",
    "        Vectorizes the query using the W2V model\n",
    "        \"\"\"\n",
    "        query = process_text(query, **config_2)\n",
    "        # YOUR CODE HERE\n",
    "        vectors = []\n",
    "        for word in query:\n",
    "            if word in self.model:\n",
    "                vectors.append(self.model[word])\n",
    "            else:\n",
    "                # if word not present in the vocab treat it as UNK with a zero vector\n",
    "                vectors.append(np.zeros(self.size))\n",
    "\n",
    "        final_vector = []\n",
    "        if vectors:\n",
    "            vectors_mean = np.mean(vectors, axis=0)\n",
    "            for i, value in enumerate(vectors_mean):\n",
    "                final_vector.append((i, value))\n",
    "        else:\n",
    "            for i in range(self.size):\n",
    "                final_vector.append((i, 0))\n",
    "\n",
    "        return final_vector\n",
    "        # raise NotImplementedError()\n",
    "    \n",
    "    \n",
    "class W2VPretrainedRetrievalModel(W2VRetrievalModel):\n",
    "    def __init__(self, doc_repr):\n",
    "        super().__init__(doc_repr)\n",
    "        self.model_name = \"word2vec-google-news-300\"\n",
    "        self.size = 300\n",
    "    \n",
    "    def train_model(self):\n",
    "        \"\"\"\n",
    "        Loads the pretrained model\n",
    "        \"\"\"\n",
    "        self.model = g_downloader.load(self.model_name)\n",
    "\n",
    "w2v = W2VRetrievalModel(doc_repr_2)\n",
    "w2v.train_model()\n",
    "\n",
    "# you can now get a W2V vector for a given query in the following way:\n",
    "w2v.vectorize_query(\"report\")"
   ]
  },
  {
   "cell_type": "code",
   "execution_count": 88,
   "metadata": {
    "deletable": false,
    "editable": false,
    "nbgrader": {
     "cell_type": "code",
     "checksum": "f92b5c5a8c6c4b80652b94223209ab0b",
     "grade": true,
     "grade_id": "cell-b31c0f8d214b8bdf",
     "locked": true,
     "points": 0,
     "schema_version": 3,
     "solution": false,
     "task": false
    }
   },
   "outputs": [
    {
     "name": "stderr",
     "output_type": "stream",
     "text": [
      "C:\\Users\\irene\\AppData\\Local\\Continuum\\anaconda3\\envs\\ir2022\\lib\\site-packages\\ipykernel_launcher.py:57: DeprecationWarning: Call to deprecated `__contains__` (Method will be removed in 4.0.0, use self.wv.__contains__() instead).\n",
      "C:\\Users\\irene\\AppData\\Local\\Continuum\\anaconda3\\envs\\ir2022\\lib\\site-packages\\ipykernel_launcher.py:58: DeprecationWarning: Call to deprecated `__getitem__` (Method will be removed in 4.0.0, use self.wv.__getitem__() instead).\n"
     ]
    }
   ],
   "source": [
    "assert len(w2v.vectorize_query(\"report\")) == 100\n",
    "assert len(w2v.vectorize_query(\"this is a sentence that is not mellifluous\")) == 100\n"
   ]
  },
  {
   "cell_type": "markdown",
   "metadata": {
    "deletable": false,
    "editable": false,
    "nbgrader": {
     "cell_type": "markdown",
     "checksum": "8dfaabebcb06f308a7ca61fdc5d369e7",
     "grade": false,
     "grade_id": "cell-c2614fa067386384",
     "locked": true,
     "points": 8,
     "schema_version": 3,
     "solution": false,
     "task": true
    }
   },
   "source": [
    "\\#### Please do not change this. This cell is used for grading."
   ]
  },
  {
   "cell_type": "code",
   "execution_count": 89,
   "metadata": {},
   "outputs": [
    {
     "name": "stderr",
     "output_type": "stream",
     "text": [
      "2022-02-28 17:55:14,377 : INFO : adding document #0 to Dictionary(0 unique tokens: [])\n",
      "2022-02-28 17:55:14,505 : INFO : built Dictionary(5937 unique tokens: ['-', 'algebra', 'intern', 'languag', 'preliminari']...) from 3204 documents (total 115969 corpus positions)\n",
      "2022-02-28 17:55:14,511 : INFO : discarding 4740 tokens: [('repeat', 8), ('glossari', 7), ('inspect', 8), ('uncol', 2), ('rung', 9), ('secant', 2), ('.', 1603), ('acceler', 6), ('diverg', 3), ('induc', 9)]...\n",
      "2022-02-28 17:55:14,513 : INFO : keeping 1197 tokens which were in no less than 10 and no more than 1602 (=50.0%) documents\n",
      "2022-02-28 17:55:14,516 : INFO : resulting dictionary: Dictionary(1197 unique tokens: ['-', 'algebra', 'intern', 'languag', 'preliminari']...)\n",
      "2022-02-28 17:55:15,527 : INFO : loading projection weights from C:\\Users\\irene/gensim-data\\word2vec-google-news-300\\word2vec-google-news-300.gz\n",
      "2022-02-28 17:55:56,382 : INFO : loaded (3000000, 300) matrix from C:\\Users\\irene/gensim-data\\word2vec-google-news-300\\word2vec-google-news-300.gz\n"
     ]
    },
    {
     "data": {
      "text/plain": [
       "[(0, -0.14257812),\n",
       " (1, -0.1640625),\n",
       " (2, -0.09033203),\n",
       " (3, -0.11230469),\n",
       " (4, 0.100097656),\n",
       " (5, -0.041259766),\n",
       " (6, 0.048828125),\n",
       " (7, -0.13671875),\n",
       " (8, 0.19628906),\n",
       " (9, -0.13476562),\n",
       " (10, -0.017578125),\n",
       " (11, 0.032226562),\n",
       " (12, 0.095214844),\n",
       " (13, -0.10595703),\n",
       " (14, -0.16992188),\n",
       " (15, 0.041015625),\n",
       " (16, -0.26367188),\n",
       " (17, -0.0063171387),\n",
       " (18, -0.17773438),\n",
       " (19, -0.24023438),\n",
       " (20, 0.3515625),\n",
       " (21, -0.012207031),\n",
       " (22, -0.16210938),\n",
       " (23, -0.12060547),\n",
       " (24, 0.04321289),\n",
       " (25, 0.10986328),\n",
       " (26, 0.052490234),\n",
       " (27, 0.17871094),\n",
       " (28, -0.14550781),\n",
       " (29, 0.13769531),\n",
       " (30, -0.08203125),\n",
       " (31, -0.28320312),\n",
       " (32, -0.10888672),\n",
       " (33, -0.2890625),\n",
       " (34, 0.072265625),\n",
       " (35, -0.04736328),\n",
       " (36, 0.040283203),\n",
       " (37, 0.067871094),\n",
       " (38, 0.11669922),\n",
       " (39, 0.000831604),\n",
       " (40, 0.068359375),\n",
       " (41, 0.12011719),\n",
       " (42, -0.088378906),\n",
       " (43, 0.33789062),\n",
       " (44, -0.044677734),\n",
       " (45, -0.030151367),\n",
       " (46, 0.0076904297),\n",
       " (47, -0.021118164),\n",
       " (48, -0.25390625),\n",
       " (49, 0.14941406),\n",
       " (50, 0.3984375),\n",
       " (51, 0.021606445),\n",
       " (52, -0.02319336),\n",
       " (53, 0.0063476562),\n",
       " (54, 0.008239746),\n",
       " (55, -0.16894531),\n",
       " (56, 0.037353516),\n",
       " (57, -0.06347656),\n",
       " (58, 0.1171875),\n",
       " (59, -0.1484375),\n",
       " (60, -0.07861328),\n",
       " (61, 0.36914062),\n",
       " (62, -0.22460938),\n",
       " (63, 0.17382812),\n",
       " (64, 0.0138549805),\n",
       " (65, 0.1875),\n",
       " (66, -0.10107422),\n",
       " (67, 0.037841797),\n",
       " (68, 0.0021209717),\n",
       " (69, -0.05126953),\n",
       " (70, 0.096191406),\n",
       " (71, -0.057128906),\n",
       " (72, 0.10595703),\n",
       " (73, -0.020996094),\n",
       " (74, 0.16113281),\n",
       " (75, 0.09765625),\n",
       " (76, 0.038330078),\n",
       " (77, 0.21972656),\n",
       " (78, 0.10644531),\n",
       " (79, 0.0859375),\n",
       " (80, 0.1796875),\n",
       " (81, -0.08300781),\n",
       " (82, -0.033203125),\n",
       " (83, 0.041015625),\n",
       " (84, -0.064941406),\n",
       " (85, 0.019897461),\n",
       " (86, 0.13378906),\n",
       " (87, -0.09765625),\n",
       " (88, -0.19335938),\n",
       " (89, -0.23535156),\n",
       " (90, 0.19042969),\n",
       " (91, 0.0024871826),\n",
       " (92, -0.01574707),\n",
       " (93, 0.032226562),\n",
       " (94, -0.21972656),\n",
       " (95, -0.091308594),\n",
       " (96, 0.021240234),\n",
       " (97, 0.15820312),\n",
       " (98, 0.29882812),\n",
       " (99, -0.328125),\n",
       " (100, 0.057373047),\n",
       " (101, -0.04638672),\n",
       " (102, 0.11328125),\n",
       " (103, -0.1015625),\n",
       " (104, 0.18066406),\n",
       " (105, -0.025146484),\n",
       " (106, -0.16601562),\n",
       " (107, -0.096191406),\n",
       " (108, 0.018798828),\n",
       " (109, -0.19433594),\n",
       " (110, 0.14941406),\n",
       " (111, -0.056640625),\n",
       " (112, -0.106933594),\n",
       " (113, -0.15039062),\n",
       " (114, -0.17578125),\n",
       " (115, 0.11279297),\n",
       " (116, 0.049316406),\n",
       " (117, 0.21972656),\n",
       " (118, 0.31835938),\n",
       " (119, 0.15722656),\n",
       " (120, -0.29296875),\n",
       " (121, 0.10498047),\n",
       " (122, -0.296875),\n",
       " (123, -0.013427734),\n",
       " (124, 0.09082031),\n",
       " (125, 0.012573242),\n",
       " (126, -0.051513672),\n",
       " (127, -0.12890625),\n",
       " (128, 0.014465332),\n",
       " (129, 0.12060547),\n",
       " (130, -0.10107422),\n",
       " (131, -0.111328125),\n",
       " (132, 0.063964844),\n",
       " (133, -0.052978516),\n",
       " (134, -0.04321289),\n",
       " (135, -0.012939453),\n",
       " (136, -0.02758789),\n",
       " (137, -0.09716797),\n",
       " (138, -0.20214844),\n",
       " (139, 0.123046875),\n",
       " (140, -0.04248047),\n",
       " (141, 0.17382812),\n",
       " (142, -0.013671875),\n",
       " (143, 0.1015625),\n",
       " (144, -0.0009384155),\n",
       " (145, -0.03564453),\n",
       " (146, 0.30078125),\n",
       " (147, -0.068359375),\n",
       " (148, -0.056152344),\n",
       " (149, 0.037597656),\n",
       " (150, 0.06591797),\n",
       " (151, 0.040283203),\n",
       " (152, 0.0119018555),\n",
       " (153, 0.096191406),\n",
       " (154, 0.3671875),\n",
       " (155, -0.27929688),\n",
       " (156, -0.052001953),\n",
       " (157, -0.106933594),\n",
       " (158, -0.13476562),\n",
       " (159, -0.046142578),\n",
       " (160, 0.25),\n",
       " (161, 0.0056762695),\n",
       " (162, -0.014404297),\n",
       " (163, -0.03100586),\n",
       " (164, -0.060302734),\n",
       " (165, 0.10595703),\n",
       " (166, 0.37890625),\n",
       " (167, 0.05883789),\n",
       " (168, 0.123046875),\n",
       " (169, -0.115234375),\n",
       " (170, 0.14941406),\n",
       " (171, -0.1640625),\n",
       " (172, -0.23339844),\n",
       " (173, -0.07763672),\n",
       " (174, 0.026733398),\n",
       " (175, -0.021118164),\n",
       " (176, 0.19433594),\n",
       " (177, -0.056152344),\n",
       " (178, -0.006439209),\n",
       " (179, -0.16992188),\n",
       " (180, -0.118652344),\n",
       " (181, -0.06738281),\n",
       " (182, -0.068847656),\n",
       " (183, -0.08691406),\n",
       " (184, -0.1015625),\n",
       " (185, 0.014160156),\n",
       " (186, -0.20117188),\n",
       " (187, 0.09814453),\n",
       " (188, -0.010253906),\n",
       " (189, 0.1875),\n",
       " (190, 0.19628906),\n",
       " (191, -0.22070312),\n",
       " (192, -0.19628906),\n",
       " (193, -0.07373047),\n",
       " (194, 0.06640625),\n",
       " (195, -0.13378906),\n",
       " (196, 0.18359375),\n",
       " (197, -0.20019531),\n",
       " (198, 0.19824219),\n",
       " (199, 0.05029297),\n",
       " (200, 0.029907227),\n",
       " (201, 0.017700195),\n",
       " (202, -0.19335938),\n",
       " (203, -0.096191406),\n",
       " (204, -0.10253906),\n",
       " (205, 0.21289062),\n",
       " (206, -0.029907227),\n",
       " (207, 0.14355469),\n",
       " (208, 0.041015625),\n",
       " (209, -0.21191406),\n",
       " (210, 0.20800781),\n",
       " (211, 0.13769531),\n",
       " (212, -0.01965332),\n",
       " (213, 0.014953613),\n",
       " (214, -0.09765625),\n",
       " (215, 0.24316406),\n",
       " (216, 0.080078125),\n",
       " (217, 0.08251953),\n",
       " (218, 0.09863281),\n",
       " (219, 0.056884766),\n",
       " (220, 0.04248047),\n",
       " (221, 0.068847656),\n",
       " (222, -0.03540039),\n",
       " (223, -0.076171875),\n",
       " (224, -0.00016117096),\n",
       " (225, -0.07519531),\n",
       " (226, 0.22460938),\n",
       " (227, 0.15136719),\n",
       " (228, 0.10058594),\n",
       " (229, 0.10986328),\n",
       " (230, 0.023803711),\n",
       " (231, 0.088378906),\n",
       " (232, 0.061767578),\n",
       " (233, -0.107910156),\n",
       " (234, 0.06225586),\n",
       " (235, 0.0034332275),\n",
       " (236, 0.080566406),\n",
       " (237, 0.106933594),\n",
       " (238, 0.08886719),\n",
       " (239, -0.23730469),\n",
       " (240, 0.064941406),\n",
       " (241, 0.010192871),\n",
       " (242, -0.088378906),\n",
       " (243, -0.33203125),\n",
       " (244, 0.0046691895),\n",
       " (245, 0.21289062),\n",
       " (246, 0.0859375),\n",
       " (247, 0.020385742),\n",
       " (248, 0.045654297),\n",
       " (249, 0.1484375),\n",
       " (250, 0.11816406),\n",
       " (251, 0.055664062),\n",
       " (252, -0.17285156),\n",
       " (253, -0.125),\n",
       " (254, -0.025390625),\n",
       " (255, -0.31835938),\n",
       " (256, 0.03112793),\n",
       " (257, 0.0859375),\n",
       " (258, -0.041992188),\n",
       " (259, 0.15625),\n",
       " (260, 0.16113281),\n",
       " (261, 0.19824219),\n",
       " (262, -0.100097656),\n",
       " (263, 0.203125),\n",
       " (264, 0.12890625),\n",
       " (265, 0.23339844),\n",
       " (266, -0.26757812),\n",
       " (267, 0.05517578),\n",
       " (268, 0.048828125),\n",
       " (269, 0.072265625),\n",
       " (270, 0.24414062),\n",
       " (271, 0.24414062),\n",
       " (272, 0.056884766),\n",
       " (273, -0.0546875),\n",
       " (274, -0.033691406),\n",
       " (275, -0.12060547),\n",
       " (276, 0.03491211),\n",
       " (277, -0.14550781),\n",
       " (278, 0.087402344),\n",
       " (279, -0.08300781),\n",
       " (280, 0.017211914),\n",
       " (281, 0.14355469),\n",
       " (282, -0.122558594),\n",
       " (283, 0.1796875),\n",
       " (284, 0.13085938),\n",
       " (285, -0.16503906),\n",
       " (286, 0.012756348),\n",
       " (287, 0.16015625),\n",
       " (288, -0.03112793),\n",
       " (289, 0.08203125),\n",
       " (290, 0.17382812),\n",
       " (291, -0.16796875),\n",
       " (292, 0.13085938),\n",
       " (293, 0.08544922),\n",
       " (294, -0.2109375),\n",
       " (295, -0.13085938),\n",
       " (296, -0.028930664),\n",
       " (297, -0.10546875),\n",
       " (298, 0.084472656),\n",
       " (299, -0.14160156)]"
      ]
     },
     "execution_count": 89,
     "metadata": {},
     "output_type": "execute_result"
    }
   ],
   "source": [
    "w2v_pretrained = W2VPretrainedRetrievalModel(doc_repr_2)\n",
    "w2v_pretrained.train_model()\n",
    "\n",
    "# you can now get an W2V vector for a given query in the following way:\n",
    "w2v_pretrained.vectorize_query(\"report\")"
   ]
  },
  {
   "cell_type": "code",
   "execution_count": 90,
   "metadata": {
    "deletable": false,
    "editable": false,
    "nbgrader": {
     "cell_type": "code",
     "checksum": "0822845afb5eafe5ddb1ffeaa4f4942a",
     "grade": true,
     "grade_id": "cell-1b1466f8ce516f42",
     "locked": true,
     "points": 2,
     "schema_version": 3,
     "solution": false,
     "task": false
    }
   },
   "outputs": [
    {
     "name": "stdout",
     "output_type": "stream",
     "text": [
      "300\n"
     ]
    }
   ],
   "source": [
    "##### Function check\n",
    "\n",
    "print(len(w2v_pretrained.vectorize_query(\"report\")))\n",
    "#####"
   ]
  },
  {
   "cell_type": "code",
   "execution_count": 91,
   "metadata": {},
   "outputs": [
    {
     "name": "stderr",
     "output_type": "stream",
     "text": [
      "C:\\Users\\irene\\AppData\\Local\\Continuum\\anaconda3\\envs\\ir2022\\lib\\site-packages\\ipykernel_launcher.py:29: DeprecationWarning: Call to deprecated `__contains__` (Method will be removed in 4.0.0, use self.wv.__contains__() instead).\n",
      "C:\\Users\\irene\\AppData\\Local\\Continuum\\anaconda3\\envs\\ir2022\\lib\\site-packages\\ipykernel_launcher.py:30: DeprecationWarning: Call to deprecated `__getitem__` (Method will be removed in 4.0.0, use self.wv.__getitem__() instead).\n"
     ]
    },
    {
     "data": {
      "application/vnd.jupyter.widget-view+json": {
       "model_id": "a0288244894c48ffb10c5a0d5d71ce82",
       "version_major": 2,
       "version_minor": 0
      },
      "text/plain": [
       "Text(value='', description='Search Bar')"
      ]
     },
     "metadata": {},
     "output_type": "display_data"
    }
   ],
   "source": [
    "drm_w2v = DenseRetrievalRanker(w2v, cosine_sim)\n",
    "\n",
    "# test your W2V model\n",
    "search_fn = drm_w2v.search\n",
    "\n",
    "text = widgets.Text(description=\"Search Bar\", width=200)\n",
    "display(text)\n",
    "\n",
    "\n",
    "text.on_submit(handle_submit_2)"
   ]
  },
  {
   "cell_type": "code",
   "execution_count": 92,
   "metadata": {},
   "outputs": [
    {
     "data": {
      "application/vnd.jupyter.widget-view+json": {
       "model_id": "30aa168b60814791b8b6408f13b911ac",
       "version_major": 2,
       "version_minor": 0
      },
      "text/plain": [
       "Text(value='', description='Search Bar')"
      ]
     },
     "metadata": {},
     "output_type": "display_data"
    }
   ],
   "source": [
    "drm_w2v_pretrained = DenseRetrievalRanker(w2v_pretrained, cosine_sim)\n",
    "\n",
    "# test your LDA model\n",
    "search_fn = drm_w2v_pretrained.search\n",
    "\n",
    "text = widgets.Text(description=\"Search Bar\", width=200)\n",
    "display(text)\n",
    "\n",
    "\n",
    "text.on_submit(handle_submit_2)"
   ]
  },
  {
   "cell_type": "markdown",
   "metadata": {
    "deletable": false,
    "editable": false,
    "nbgrader": {
     "cell_type": "markdown",
     "checksum": "51b778984fd60757974f51047c61eb15",
     "grade": false,
     "grade_id": "cell-b92f701cbc706108",
     "locked": true,
     "schema_version": 3,
     "solution": false,
     "task": false
    }
   },
   "source": [
    "**Implementation (10 points):**\n",
    "For Doc2Vec, you will need to create a list of `TaggedDocument` instead of using the `self.corpus` or `self.documents` variable. Use the document id as the 'tag'.\n",
    "  "
   ]
  },
  {
   "cell_type": "code",
   "execution_count": 93,
   "metadata": {
    "deletable": false,
    "nbgrader": {
     "cell_type": "code",
     "checksum": "1f60fdeb97febb7f4a6fd5bf109aac20",
     "grade": false,
     "grade_id": "cell-680facdcc98a19ab",
     "locked": false,
     "schema_version": 3,
     "solution": true,
     "task": false
    }
   },
   "outputs": [
    {
     "name": "stderr",
     "output_type": "stream",
     "text": [
      "2022-02-28 17:55:57,959 : INFO : adding document #0 to Dictionary(0 unique tokens: [])\n",
      "2022-02-28 17:55:58,085 : INFO : built Dictionary(5937 unique tokens: ['-', 'algebra', 'intern', 'languag', 'preliminari']...) from 3204 documents (total 115969 corpus positions)\n",
      "2022-02-28 17:55:58,091 : INFO : discarding 4740 tokens: [('repeat', 8), ('glossari', 7), ('inspect', 8), ('uncol', 2), ('rung', 9), ('secant', 2), ('.', 1603), ('acceler', 6), ('diverg', 3), ('induc', 9)]...\n",
      "2022-02-28 17:55:58,092 : INFO : keeping 1197 tokens which were in no less than 10 and no more than 1602 (=50.0%) documents\n",
      "2022-02-28 17:55:58,094 : INFO : resulting dictionary: Dictionary(1197 unique tokens: ['-', 'algebra', 'intern', 'languag', 'preliminari']...)\n",
      "2022-02-28 17:55:58,164 : INFO : collecting all words and their counts\n",
      "2022-02-28 17:55:58,165 : INFO : PROGRESS: at example #0, processed 0 words (0/s), 0 word types, 0 tags\n",
      "2022-02-28 17:55:58,187 : INFO : collected 5937 word types and 3204 unique tags from a corpus of 3204 examples and 115969 words\n",
      "2022-02-28 17:55:58,188 : INFO : Loading a fresh vocabulary\n",
      "2022-02-28 17:55:58,197 : INFO : effective_min_count=1 retains 5937 unique words (100% of original 5937, drops 0)\n",
      "2022-02-28 17:55:58,198 : INFO : effective_min_count=1 leaves 115969 word corpus (100% of original 115969, drops 0)\n",
      "2022-02-28 17:55:58,214 : INFO : deleting the raw counts dictionary of 5937 items\n",
      "2022-02-28 17:55:58,216 : INFO : sample=0.001 downsamples 40 most-common words\n",
      "2022-02-28 17:55:58,216 : INFO : downsampling leaves estimated 92346 word corpus (79.6% of prior 115969)\n",
      "2022-02-28 17:55:58,227 : INFO : estimated required memory for 5937 words and 100 dimensions: 9640500 bytes\n",
      "2022-02-28 17:55:58,228 : INFO : resetting layer weights\n",
      "2022-02-28 17:55:59,773 : INFO : training model with 3 workers on 5937 vocabulary and 100 features, using sg=0 hs=0 sample=0.001 negative=5 window=5\n",
      "2022-02-28 17:56:00,006 : INFO : worker thread finished; awaiting finish of 2 more threads\n",
      "2022-02-28 17:56:00,007 : INFO : worker thread finished; awaiting finish of 1 more threads\n",
      "2022-02-28 17:56:00,009 : INFO : worker thread finished; awaiting finish of 0 more threads\n",
      "2022-02-28 17:56:00,010 : INFO : EPOCH - 1 : training on 115969 raw words (95636 effective words) took 0.2s, 412017 effective words/s\n",
      "2022-02-28 17:56:00,240 : INFO : worker thread finished; awaiting finish of 2 more threads\n",
      "2022-02-28 17:56:00,244 : INFO : worker thread finished; awaiting finish of 1 more threads\n",
      "2022-02-28 17:56:00,249 : INFO : worker thread finished; awaiting finish of 0 more threads\n",
      "2022-02-28 17:56:00,249 : INFO : EPOCH - 2 : training on 115969 raw words (95417 effective words) took 0.2s, 410423 effective words/s\n",
      "2022-02-28 17:56:00,470 : INFO : worker thread finished; awaiting finish of 2 more threads\n",
      "2022-02-28 17:56:00,476 : INFO : worker thread finished; awaiting finish of 1 more threads\n",
      "2022-02-28 17:56:00,480 : INFO : worker thread finished; awaiting finish of 0 more threads\n",
      "2022-02-28 17:56:00,480 : INFO : EPOCH - 3 : training on 115969 raw words (95718 effective words) took 0.2s, 423062 effective words/s\n",
      "2022-02-28 17:56:00,709 : INFO : worker thread finished; awaiting finish of 2 more threads\n",
      "2022-02-28 17:56:00,711 : INFO : worker thread finished; awaiting finish of 1 more threads\n",
      "2022-02-28 17:56:00,722 : INFO : worker thread finished; awaiting finish of 0 more threads\n",
      "2022-02-28 17:56:00,723 : INFO : EPOCH - 4 : training on 115969 raw words (95554 effective words) took 0.2s, 400539 effective words/s\n",
      "2022-02-28 17:56:00,949 : INFO : worker thread finished; awaiting finish of 2 more threads\n",
      "2022-02-28 17:56:00,950 : INFO : worker thread finished; awaiting finish of 1 more threads\n",
      "2022-02-28 17:56:00,955 : INFO : worker thread finished; awaiting finish of 0 more threads\n",
      "2022-02-28 17:56:00,955 : INFO : EPOCH - 5 : training on 115969 raw words (95460 effective words) took 0.2s, 420557 effective words/s\n",
      "2022-02-28 17:56:01,177 : INFO : worker thread finished; awaiting finish of 2 more threads\n",
      "2022-02-28 17:56:01,181 : INFO : worker thread finished; awaiting finish of 1 more threads\n",
      "2022-02-28 17:56:01,188 : INFO : worker thread finished; awaiting finish of 0 more threads\n",
      "2022-02-28 17:56:01,189 : INFO : EPOCH - 6 : training on 115969 raw words (95622 effective words) took 0.2s, 419360 effective words/s\n",
      "2022-02-28 17:56:01,402 : INFO : worker thread finished; awaiting finish of 2 more threads\n",
      "2022-02-28 17:56:01,416 : INFO : worker thread finished; awaiting finish of 1 more threads\n",
      "2022-02-28 17:56:01,417 : INFO : worker thread finished; awaiting finish of 0 more threads\n",
      "2022-02-28 17:56:01,417 : INFO : EPOCH - 7 : training on 115969 raw words (95560 effective words) took 0.2s, 425256 effective words/s\n",
      "2022-02-28 17:56:01,647 : INFO : worker thread finished; awaiting finish of 2 more threads\n",
      "2022-02-28 17:56:01,650 : INFO : worker thread finished; awaiting finish of 1 more threads\n",
      "2022-02-28 17:56:01,651 : INFO : worker thread finished; awaiting finish of 0 more threads\n",
      "2022-02-28 17:56:01,652 : INFO : EPOCH - 8 : training on 115969 raw words (95566 effective words) took 0.2s, 417756 effective words/s\n",
      "2022-02-28 17:56:01,872 : INFO : worker thread finished; awaiting finish of 2 more threads\n",
      "2022-02-28 17:56:01,879 : INFO : worker thread finished; awaiting finish of 1 more threads\n",
      "2022-02-28 17:56:01,880 : INFO : worker thread finished; awaiting finish of 0 more threads\n",
      "2022-02-28 17:56:01,881 : INFO : EPOCH - 9 : training on 115969 raw words (95429 effective words) took 0.2s, 425358 effective words/s\n",
      "2022-02-28 17:56:02,105 : INFO : worker thread finished; awaiting finish of 2 more threads\n",
      "2022-02-28 17:56:02,109 : INFO : worker thread finished; awaiting finish of 1 more threads\n",
      "2022-02-28 17:56:02,123 : INFO : worker thread finished; awaiting finish of 0 more threads\n",
      "2022-02-28 17:56:02,123 : INFO : EPOCH - 10 : training on 115969 raw words (95410 effective words) took 0.2s, 400590 effective words/s\n",
      "2022-02-28 17:56:02,339 : INFO : worker thread finished; awaiting finish of 2 more threads\n",
      "2022-02-28 17:56:02,343 : INFO : worker thread finished; awaiting finish of 1 more threads\n",
      "2022-02-28 17:56:02,351 : INFO : worker thread finished; awaiting finish of 0 more threads\n",
      "2022-02-28 17:56:02,353 : INFO : EPOCH - 11 : training on 115969 raw words (95583 effective words) took 0.2s, 425276 effective words/s\n",
      "2022-02-28 17:56:02,573 : INFO : worker thread finished; awaiting finish of 2 more threads\n",
      "2022-02-28 17:56:02,582 : INFO : worker thread finished; awaiting finish of 1 more threads\n",
      "2022-02-28 17:56:02,587 : INFO : worker thread finished; awaiting finish of 0 more threads\n",
      "2022-02-28 17:56:02,587 : INFO : EPOCH - 12 : training on 115969 raw words (95566 effective words) took 0.2s, 413410 effective words/s\n",
      "2022-02-28 17:56:02,809 : INFO : worker thread finished; awaiting finish of 2 more threads\n",
      "2022-02-28 17:56:02,817 : INFO : worker thread finished; awaiting finish of 1 more threads\n",
      "2022-02-28 17:56:02,818 : INFO : worker thread finished; awaiting finish of 0 more threads\n",
      "2022-02-28 17:56:02,819 : INFO : EPOCH - 13 : training on 115969 raw words (95509 effective words) took 0.2s, 421917 effective words/s\n",
      "2022-02-28 17:56:03,033 : INFO : worker thread finished; awaiting finish of 2 more threads\n",
      "2022-02-28 17:56:03,046 : INFO : worker thread finished; awaiting finish of 1 more threads\n",
      "2022-02-28 17:56:03,050 : INFO : worker thread finished; awaiting finish of 0 more threads\n",
      "2022-02-28 17:56:03,051 : INFO : EPOCH - 14 : training on 115969 raw words (95516 effective words) took 0.2s, 417099 effective words/s\n",
      "2022-02-28 17:56:03,268 : INFO : worker thread finished; awaiting finish of 2 more threads\n",
      "2022-02-28 17:56:03,273 : INFO : worker thread finished; awaiting finish of 1 more threads\n",
      "2022-02-28 17:56:03,285 : INFO : worker thread finished; awaiting finish of 0 more threads\n",
      "2022-02-28 17:56:03,285 : INFO : EPOCH - 15 : training on 115969 raw words (95635 effective words) took 0.2s, 415849 effective words/s\n",
      "2022-02-28 17:56:03,513 : INFO : worker thread finished; awaiting finish of 2 more threads\n",
      "2022-02-28 17:56:03,514 : INFO : worker thread finished; awaiting finish of 1 more threads\n"
     ]
    },
    {
     "name": "stderr",
     "output_type": "stream",
     "text": [
      "2022-02-28 17:56:03,520 : INFO : worker thread finished; awaiting finish of 0 more threads\n",
      "2022-02-28 17:56:03,521 : INFO : EPOCH - 16 : training on 115969 raw words (95608 effective words) took 0.2s, 413832 effective words/s\n",
      "2022-02-28 17:56:03,761 : INFO : worker thread finished; awaiting finish of 2 more threads\n",
      "2022-02-28 17:56:03,772 : INFO : worker thread finished; awaiting finish of 1 more threads\n",
      "2022-02-28 17:56:03,775 : INFO : worker thread finished; awaiting finish of 0 more threads\n",
      "2022-02-28 17:56:03,776 : INFO : EPOCH - 17 : training on 115969 raw words (95696 effective words) took 0.3s, 381146 effective words/s\n",
      "2022-02-28 17:56:04,053 : INFO : worker thread finished; awaiting finish of 2 more threads\n",
      "2022-02-28 17:56:04,056 : INFO : worker thread finished; awaiting finish of 1 more threads\n",
      "2022-02-28 17:56:04,063 : INFO : worker thread finished; awaiting finish of 0 more threads\n",
      "2022-02-28 17:56:04,063 : INFO : EPOCH - 18 : training on 115969 raw words (95480 effective words) took 0.3s, 339840 effective words/s\n",
      "2022-02-28 17:56:04,283 : INFO : worker thread finished; awaiting finish of 2 more threads\n",
      "2022-02-28 17:56:04,292 : INFO : worker thread finished; awaiting finish of 1 more threads\n",
      "2022-02-28 17:56:04,296 : INFO : worker thread finished; awaiting finish of 0 more threads\n",
      "2022-02-28 17:56:04,296 : INFO : EPOCH - 19 : training on 115969 raw words (95497 effective words) took 0.2s, 416144 effective words/s\n",
      "2022-02-28 17:56:04,513 : INFO : worker thread finished; awaiting finish of 2 more threads\n",
      "2022-02-28 17:56:04,518 : INFO : worker thread finished; awaiting finish of 1 more threads\n",
      "2022-02-28 17:56:04,523 : INFO : worker thread finished; awaiting finish of 0 more threads\n",
      "2022-02-28 17:56:04,524 : INFO : EPOCH - 20 : training on 115969 raw words (95385 effective words) took 0.2s, 427244 effective words/s\n",
      "2022-02-28 17:56:04,524 : INFO : training on a 2319380 raw words (1910847 effective words) took 4.8s, 402235 effective words/s\n"
     ]
    },
    {
     "data": {
      "text/plain": [
       "[(0, -0.00065443816),\n",
       " (1, -0.110016145),\n",
       " (2, 0.052285258),\n",
       " (3, -0.003233886),\n",
       " (4, -0.03654962),\n",
       " (5, 0.0019872836),\n",
       " (6, 0.009882928),\n",
       " (7, 0.08664185),\n",
       " (8, 0.07351605),\n",
       " (9, -0.06975936),\n",
       " (10, 0.026431894),\n",
       " (11, 0.05504157),\n",
       " (12, -0.04895692),\n",
       " (13, -0.04476597),\n",
       " (14, -0.016201295),\n",
       " (15, 0.20220426),\n",
       " (16, 0.073429905),\n",
       " (17, -0.021623937),\n",
       " (18, 0.08806903),\n",
       " (19, -0.058224645),\n",
       " (20, -0.0075784656),\n",
       " (21, -0.008250274),\n",
       " (22, -0.11550648),\n",
       " (23, 0.08580072),\n",
       " (24, -0.05970969),\n",
       " (25, -0.039002266),\n",
       " (26, -0.022140838),\n",
       " (27, 0.018684935),\n",
       " (28, 0.05777408),\n",
       " (29, 0.0101318),\n",
       " (30, -0.030937292),\n",
       " (31, 0.04152883),\n",
       " (32, 0.07751971),\n",
       " (33, 0.0016860317),\n",
       " (34, 0.0014889616),\n",
       " (35, -0.11038367),\n",
       " (36, 0.021415139),\n",
       " (37, 0.015286213),\n",
       " (38, -0.00848734),\n",
       " (39, -0.050233856),\n",
       " (40, 0.07479177),\n",
       " (41, 0.007157533),\n",
       " (42, -0.016462319),\n",
       " (43, 0.06713453),\n",
       " (44, 0.053121842),\n",
       " (45, -0.03851574),\n",
       " (46, -0.008461025),\n",
       " (47, -0.0064837425),\n",
       " (48, -0.002231531),\n",
       " (49, 0.03713834),\n",
       " (50, -0.004654618),\n",
       " (51, -0.08451029),\n",
       " (52, 0.018862901),\n",
       " (53, -0.024245681),\n",
       " (54, -0.064237475),\n",
       " (55, -0.062172547),\n",
       " (56, -0.021373525),\n",
       " (57, 0.025972601),\n",
       " (58, 0.066203095),\n",
       " (59, 0.030692343),\n",
       " (60, 0.055018585),\n",
       " (61, -0.005209713),\n",
       " (62, 0.0538889),\n",
       " (63, -0.056258477),\n",
       " (64, -0.034292396),\n",
       " (65, -0.037201542),\n",
       " (66, 0.024158124),\n",
       " (67, -0.037942123),\n",
       " (68, -0.012990637),\n",
       " (69, -0.06620409),\n",
       " (70, 0.045428813),\n",
       " (71, 0.035515677),\n",
       " (72, 0.014099959),\n",
       " (73, -0.05104425),\n",
       " (74, 0.10007017),\n",
       " (75, -0.040694192),\n",
       " (76, 0.025244474),\n",
       " (77, -0.07471998),\n",
       " (78, -0.09570588),\n",
       " (79, 0.061693992),\n",
       " (80, 0.008538428),\n",
       " (81, 0.0040493594),\n",
       " (82, 0.06841242),\n",
       " (83, 0.005088227),\n",
       " (84, 0.08427532),\n",
       " (85, -0.008244712),\n",
       " (86, -0.01036408),\n",
       " (87, -0.036027405),\n",
       " (88, -0.075959556),\n",
       " (89, -0.0051270816),\n",
       " (90, -0.06433819),\n",
       " (91, 0.043402698),\n",
       " (92, -0.008080201),\n",
       " (93, 0.02227564),\n",
       " (94, 0.06455678),\n",
       " (95, 0.09070254),\n",
       " (96, 0.024530128),\n",
       " (97, 0.048372976),\n",
       " (98, -0.018921861),\n",
       " (99, 0.025204878)]"
      ]
     },
     "execution_count": 93,
     "metadata": {},
     "output_type": "execute_result"
    }
   ],
   "source": [
    "# TODO: Implement this! (10 points)\n",
    "class D2VRetrievalModel(VectorSpaceRetrievalModel):\n",
    "    def __init__(self, doc_repr):\n",
    "        super().__init__(doc_repr)\n",
    "        \n",
    "        self.vector_size= 100\n",
    "        self.min_count = 1\n",
    "        self.epochs = 20\n",
    "        \n",
    "        # YOUR CODE HERE\n",
    "        tagged_docs = []\n",
    "        for (doc_id, _), cc in zip(self.doc_repr, self.documents):\n",
    "            tagged_docs.append(TaggedDocument(words=cc, tags=[doc_id]))\n",
    "\n",
    "        self.tagged_documents = tagged_docs\n",
    "        # raise NotImplementedError()\n",
    "        \n",
    "    def train_model(self):\n",
    "        # YOUR CODE HERE\n",
    "        self.model = Doc2Vec(documents = self.tagged_documents,\n",
    "                             vector_size = self.vector_size,\n",
    "                             min_count = self.min_count,\n",
    "                             epochs = self.epochs)\n",
    "        # raise NotImplementedError()\n",
    "    \n",
    "    def vectorize_documents(self):\n",
    "        \"\"\"\n",
    "            Returns a doc_id -> vector dictionary\n",
    "        \"\"\"\n",
    "        # YOUR CODE HERE\n",
    "        vectors = {}\n",
    "        for (doc_id, _), cc in zip(self.doc_repr, self.documents):\n",
    "            vectors[doc_id] = [(i, value) for i, value in enumerate(self.model.infer_vector(cc))]\n",
    "\n",
    "        return vectors\n",
    "        # raise NotImplementedError()\n",
    "\n",
    "    def vectorize_query(self, query):\n",
    "        # YOUR CODE HERE\n",
    "        query = process_text(query, **config_2)\n",
    "        vectors = [(i, value) for i, value in enumerate(self.model.infer_vector(query))]\n",
    "        return vectors\n",
    "        # raise NotImplementedError()\n",
    "        \n",
    "d2v = D2VRetrievalModel(doc_repr_2)\n",
    "d2v.train_model()\n",
    "\n",
    "\n",
    "# # you can now get an LSI vector for a given query in the following way:\n",
    "d2v.vectorize_query(\"report\")"
   ]
  },
  {
   "cell_type": "code",
   "execution_count": 94,
   "metadata": {
    "deletable": false,
    "editable": false,
    "nbgrader": {
     "cell_type": "code",
     "checksum": "e83a363a9d4f136efbdde1426a83925e",
     "grade": true,
     "grade_id": "cell-5e2c5e0c9a2e8cb5",
     "locked": true,
     "points": 0,
     "schema_version": 3,
     "solution": false,
     "task": false
    }
   },
   "outputs": [],
   "source": [
    "#### Please do not change this. This cell is used for grading."
   ]
  },
  {
   "cell_type": "markdown",
   "metadata": {
    "deletable": false,
    "editable": false,
    "nbgrader": {
     "cell_type": "markdown",
     "checksum": "5bb46bf6b9be1e0ca66f0b0bc6260ecb",
     "grade": false,
     "grade_id": "cell-8a49d414f798a595",
     "locked": true,
     "points": 10,
     "schema_version": 3,
     "solution": false,
     "task": true
    }
   },
   "source": [
    "\\#### Please do not change this. This cell is used for grading."
   ]
  },
  {
   "cell_type": "code",
   "execution_count": 95,
   "metadata": {},
   "outputs": [
    {
     "data": {
      "application/vnd.jupyter.widget-view+json": {
       "model_id": "8d0e98dbbfb34f709a03ae836a8a6914",
       "version_major": 2,
       "version_minor": 0
      },
      "text/plain": [
       "Text(value='', description='Search Bar')"
      ]
     },
     "metadata": {},
     "output_type": "display_data"
    }
   ],
   "source": [
    "drm_d2v = DenseRetrievalRanker(d2v, cosine_sim)\n",
    "\n",
    "# test your LDA model\n",
    "search_fn = drm_d2v.search\n",
    "\n",
    "text = widgets.Text(description=\"Search Bar\", width=200)\n",
    "display(text)\n",
    "\n",
    "\n",
    "text.on_submit(handle_submit_2)"
   ]
  },
  {
   "cell_type": "markdown",
   "metadata": {
    "deletable": false,
    "editable": false,
    "nbgrader": {
     "cell_type": "markdown",
     "checksum": "363ec36c1d03d9f9e1c2045a6e193c14",
     "grade": false,
     "grade_id": "cell-3529ae29eece7b97",
     "locked": true,
     "schema_version": 3,
     "solution": false,
     "task": false
    }
   },
   "source": [
    "---\n",
    "## Section 9: Re-ranking (10 points) <a class=\"anchor\" id=\"reranking\"></a>\n",
    "\n",
    "[Back to Part 2](#part2)\n",
    "\n",
    "To motivate the re-ranking perspective (i.e retrieve with lexical method + rerank with a semantic method), let's search using semantic methods and compare it to BM25's performance, along with their runtime:\n"
   ]
  },
  {
   "cell_type": "code",
   "execution_count": 96,
   "metadata": {
    "deletable": false,
    "editable": false,
    "nbgrader": {
     "cell_type": "code",
     "checksum": "5755f70e3eb28abc65d14d80125338af",
     "grade": false,
     "grade_id": "cell-f8f43bf5ae383128",
     "locked": true,
     "schema_version": 3,
     "solution": false,
     "task": false
    }
   },
   "outputs": [
    {
     "name": "stdout",
     "output_type": "stream",
     "text": [
      "BM25: \n",
      "1.2 ms ± 33.7 µs per loop (mean ± std. dev. of 7 runs, 1000 loops each)\n",
      "LSI: \n",
      "277 ms ± 5.86 ms per loop (mean ± std. dev. of 7 runs, 1 loop each)\n",
      "LDA: \n",
      "447 ms ± 8.26 ms per loop (mean ± std. dev. of 7 runs, 1 loop each)\n",
      "W2V: \n"
     ]
    },
    {
     "name": "stderr",
     "output_type": "stream",
     "text": [
      "C:\\Users\\irene\\AppData\\Local\\Continuum\\anaconda3\\envs\\ir2022\\lib\\site-packages\\ipykernel_launcher.py:57: DeprecationWarning: Call to deprecated `__contains__` (Method will be removed in 4.0.0, use self.wv.__contains__() instead).\n",
      "C:\\Users\\irene\\AppData\\Local\\Continuum\\anaconda3\\envs\\ir2022\\lib\\site-packages\\ipykernel_launcher.py:58: DeprecationWarning: Call to deprecated `__getitem__` (Method will be removed in 4.0.0, use self.wv.__getitem__() instead).\n"
     ]
    },
    {
     "name": "stdout",
     "output_type": "stream",
     "text": [
      "452 ms ± 10.8 ms per loop (mean ± std. dev. of 7 runs, 1 loop each)\n",
      "W2V(Pretrained): \n"
     ]
    },
    {
     "name": "stderr",
     "output_type": "stream",
     "text": [
      "C:\\Users\\irene\\AppData\\Local\\Continuum\\anaconda3\\envs\\ir2022\\lib\\site-packages\\ipykernel_launcher.py:27: RuntimeWarning: invalid value encountered in double_scalars\n"
     ]
    },
    {
     "name": "stdout",
     "output_type": "stream",
     "text": [
      "902 ms ± 6.23 ms per loop (mean ± std. dev. of 7 runs, 1 loop each)\n",
      "D2V:\n",
      "476 ms ± 11.8 ms per loop (mean ± std. dev. of 7 runs, 1 loop each)\n"
     ]
    }
   ],
   "source": [
    "query = \"algebraic functions\"\n",
    "print(\"BM25: \")\n",
    "%timeit bm25_search(query, 2)\n",
    "print(\"LSI: \")\n",
    "%timeit drm_lsi.search(query)\n",
    "print(\"LDA: \")\n",
    "%timeit drm_lda.search(query)\n",
    "print(\"W2V: \")\n",
    "%timeit drm_w2v.search(query)\n",
    "print(\"W2V(Pretrained): \")\n",
    "%timeit drm_w2v_pretrained.search(query)\n",
    "print(\"D2V:\")\n",
    "%timeit drm_d2v.search(query)"
   ]
  },
  {
   "cell_type": "markdown",
   "metadata": {
    "deletable": false,
    "editable": false,
    "nbgrader": {
     "cell_type": "markdown",
     "checksum": "ae398da0a8c23c95bcbb0023b7ec6f34",
     "grade": false,
     "grade_id": "cell-db5ff09f97841af7",
     "locked": true,
     "schema_version": 3,
     "solution": false,
     "task": false
    }
   },
   "source": [
    "---\n",
    "\n",
    "**Implementation (10 points):**\n",
    "Re-ranking involves retrieving a small set of documents using simple but fast methods like BM25 and then re-ranking them with the aid of semantic methods such as LDA or LSI. Implement the following class, which takes in an `initial_retrieval_fn` - the initial retrieval function and `vsrm` - an instance of the `VectorSpaceRetrievalModel` class (i.e LSI/LDA) as input. The search function should first retrieve an initial list of K documents, and then these documents are re-ranked using a semantic method. This not only makes retrieval faster, but semantic methods perform poorly when used in isolation, as you will find out."
   ]
  },
  {
   "cell_type": "code",
   "execution_count": 97,
   "metadata": {
    "deletable": false,
    "nbgrader": {
     "cell_type": "code",
     "checksum": "63b6b05a676a2ae3f08d8bed1bc59428",
     "grade": false,
     "grade_id": "cell-5bf47600d1a0c507",
     "locked": false,
     "schema_version": 3,
     "solution": true,
     "task": false
    }
   },
   "outputs": [],
   "source": [
    "# TODO: Implement this! (10 points)\n",
    "class DenseRerankingModel:\n",
    "    def __init__(self, initial_retrieval_fn, vsrm, similarity_fn):\n",
    "        \"\"\"\n",
    "            initial_retrieval_fn: takes in a query and returns a list of [(doc_id, score)] (sorted)\n",
    "            vsrm: instance of `VectorSpaceRetrievalModel`\n",
    "            similarity_fn: function instance that takes in two vectors \n",
    "                            and returns a similarity score e.g cosine_sim defined earlier\n",
    "        \"\"\"\n",
    "        self.ret = initial_retrieval_fn\n",
    "        self.vsrm = vsrm\n",
    "        self.similarity_fn = similarity_fn\n",
    "        self.vectorized_documents = vsrm.vectorize_documents()\n",
    "        \n",
    "        assert len(self.vectorized_documents) == len(doc_repr_2)\n",
    "    \n",
    "    def search(self, query, K=50):\n",
    "        \"\"\"\n",
    "            First, retrieve the top K results using the retrieval function\n",
    "            Then, re-rank the results using the VSRM instance\n",
    "        \"\"\"\n",
    "        # YOUR CODE HERE\n",
    "        results = self.ret(query)[:K]\n",
    "        \n",
    "        retrieved_doc_ids = [value[0] for value in results]\n",
    "        query_vector = self.vsrm.vectorize_query(query)\n",
    "\n",
    "        scores = [(doc_id, self.similarity_fn(vec, query_vector)) \n",
    "                  for doc_id, vec in self.vectorized_documents.items() \n",
    "                  if (doc_id in retrieved_doc_ids) and vec and query_vector]\n",
    "        scores.sort(key=lambda _:-_[1])\n",
    "        return scores\n",
    "        # raise NotImplementedError()"
   ]
  },
  {
   "cell_type": "code",
   "execution_count": 98,
   "metadata": {
    "deletable": false,
    "editable": false,
    "nbgrader": {
     "cell_type": "code",
     "checksum": "334ab5af96976265cace682ab82a7387",
     "grade": true,
     "grade_id": "cell-52c6d18a4c0b4882",
     "locked": true,
     "points": 0,
     "schema_version": 3,
     "solution": false,
     "task": false
    }
   },
   "outputs": [
    {
     "name": "stderr",
     "output_type": "stream",
     "text": [
      "C:\\Users\\irene\\AppData\\Local\\Continuum\\anaconda3\\envs\\ir2022\\lib\\site-packages\\ipykernel_launcher.py:29: DeprecationWarning: Call to deprecated `__contains__` (Method will be removed in 4.0.0, use self.wv.__contains__() instead).\n",
      "C:\\Users\\irene\\AppData\\Local\\Continuum\\anaconda3\\envs\\ir2022\\lib\\site-packages\\ipykernel_launcher.py:30: DeprecationWarning: Call to deprecated `__getitem__` (Method will be removed in 4.0.0, use self.wv.__getitem__() instead).\n"
     ]
    }
   ],
   "source": [
    "##### Function check\n",
    "bm25_search_2 = partial(bm25_search, index_set=2)\n",
    "lsi_rerank = DenseRerankingModel(bm25_search_2, lsi, cosine_sim)\n",
    "lda_rerank = DenseRerankingModel(bm25_search_2, lda, jenson_shannon_sim)\n",
    "w2v_rerank = DenseRerankingModel(bm25_search_2, w2v, cosine_sim)\n",
    "w2v_pretrained_rerank = DenseRerankingModel(bm25_search_2, w2v_pretrained, cosine_sim)\n",
    "d2v_rerank = DenseRerankingModel(bm25_search_2, d2v, cosine_sim)\n",
    "\n",
    "##### "
   ]
  },
  {
   "cell_type": "markdown",
   "metadata": {
    "deletable": false,
    "editable": false,
    "nbgrader": {
     "cell_type": "markdown",
     "checksum": "bd904253f45f84e63bab3a69729058fc",
     "grade": false,
     "grade_id": "cell-93215dfe6bcf7cff",
     "locked": true,
     "points": 10,
     "schema_version": 3,
     "solution": false,
     "task": true
    }
   },
   "source": [
    "\\#### Please do not change this. This cell is used for grading."
   ]
  },
  {
   "cell_type": "markdown",
   "metadata": {
    "deletable": false,
    "editable": false,
    "nbgrader": {
     "cell_type": "markdown",
     "checksum": "b592e60292bfe3d9ef2930a354c4077a",
     "grade": false,
     "grade_id": "cell-aa694ff55fa91e7d",
     "locked": true,
     "schema_version": 3,
     "solution": false,
     "task": false
    }
   },
   "source": [
    "---\n",
    "Now, let us time the new search functions:"
   ]
  },
  {
   "cell_type": "code",
   "execution_count": 99,
   "metadata": {
    "deletable": false,
    "editable": false,
    "nbgrader": {
     "cell_type": "code",
     "checksum": "338c7e3528cba266a865a061287c0e38",
     "grade": false,
     "grade_id": "cell-5edbd481562ad91f",
     "locked": true,
     "schema_version": 3,
     "solution": false,
     "task": false
    }
   },
   "outputs": [
    {
     "name": "stdout",
     "output_type": "stream",
     "text": [
      "BM25: \n",
      "1.47 ms ± 110 µs per loop (mean ± std. dev. of 7 runs, 1000 loops each)\n",
      "LSI: \n",
      "9.74 ms ± 344 µs per loop (mean ± std. dev. of 7 runs, 100 loops each)\n",
      "LDA: \n",
      "102 ms ± 3.44 ms per loop (mean ± std. dev. of 7 runs, 10 loops each)\n",
      "W2V: \n"
     ]
    },
    {
     "name": "stderr",
     "output_type": "stream",
     "text": [
      "C:\\Users\\irene\\AppData\\Local\\Continuum\\anaconda3\\envs\\ir2022\\lib\\site-packages\\ipykernel_launcher.py:57: DeprecationWarning: Call to deprecated `__contains__` (Method will be removed in 4.0.0, use self.wv.__contains__() instead).\n",
      "C:\\Users\\irene\\AppData\\Local\\Continuum\\anaconda3\\envs\\ir2022\\lib\\site-packages\\ipykernel_launcher.py:58: DeprecationWarning: Call to deprecated `__getitem__` (Method will be removed in 4.0.0, use self.wv.__getitem__() instead).\n"
     ]
    },
    {
     "name": "stdout",
     "output_type": "stream",
     "text": [
      "12.3 ms ± 361 µs per loop (mean ± std. dev. of 7 runs, 100 loops each)\n",
      "W2V(Pretrained): \n",
      "19.8 ms ± 2.95 ms per loop (mean ± std. dev. of 7 runs, 10 loops each)\n",
      "D2V:\n",
      "13.6 ms ± 470 µs per loop (mean ± std. dev. of 7 runs, 100 loops each)\n"
     ]
    }
   ],
   "source": [
    "query = \"algebraic functions\"\n",
    "print(\"BM25: \")\n",
    "%timeit bm25_search(query, 2)\n",
    "print(\"LSI: \")\n",
    "%timeit lsi_rerank.search(query)\n",
    "print(\"LDA: \")\n",
    "%timeit lda_rerank.search(query)\n",
    "print(\"W2V: \")\n",
    "%timeit w2v_rerank.search(query)\n",
    "print(\"W2V(Pretrained): \")\n",
    "%timeit w2v_pretrained_rerank.search(query)\n",
    "print(\"D2V:\")\n",
    "%timeit d2v_rerank.search(query)"
   ]
  },
  {
   "cell_type": "markdown",
   "metadata": {
    "deletable": false,
    "editable": false,
    "nbgrader": {
     "cell_type": "markdown",
     "checksum": "c45c5e3f015b2de89d9d39ae3766368b",
     "grade": false,
     "grade_id": "cell-85c50f2ab9eec301",
     "locked": true,
     "schema_version": 3,
     "solution": false,
     "task": false
    }
   },
   "source": [
    "---\n",
    "As you can see, it is much faster (but BM25 is still orders of magnitude faster)."
   ]
  },
  {
   "cell_type": "markdown",
   "metadata": {
    "deletable": false,
    "editable": false,
    "nbgrader": {
     "cell_type": "markdown",
     "checksum": "1e2f3388e3807659f303fe31a75a010e",
     "grade": false,
     "grade_id": "cell-5071bb99b2af61cb",
     "locked": true,
     "schema_version": 3,
     "solution": false,
     "task": false
    }
   },
   "source": [
    "---\n",
    "## Section 10: Evaluation & Analysis (30 points) <a class=\"anchor\" id=\"reranking_eval\"></a>\n",
    "\n",
    "[Back to Part 2](#part2)\n",
    "\n",
    "[Previously](#evaluation) we have implemented some evaluation metrics and used them for measuring the ranking performance of term-based IR algorithms. In this section, we will do the same for semantic methods, both with and without re-ranking.\n",
    "\n",
    "### Section 10.1: Plot (10 points)\n",
    "\n",
    "First, gather the results. The results should consider the index set, the different search functions and different metrics. Plot the results in bar charts, per metric, with clear labels.\n",
    "\n",
    "Then, gather only the re-ranking models, and plot and compare them with the results obtained in part 1 (only index set 2)."
   ]
  },
  {
   "cell_type": "code",
   "execution_count": 100,
   "metadata": {
    "deletable": false,
    "editable": false,
    "nbgrader": {
     "cell_type": "code",
     "checksum": "4fe81520ac6413a803838913fd64de03",
     "grade": false,
     "grade_id": "cell-b672fe6dfae0b1ce",
     "locked": true,
     "schema_version": 3,
     "solution": false,
     "task": false
    }
   },
   "outputs": [],
   "source": [
    "list_of_sem_search_fns = [\n",
    "    (\"lda\", drm_lda.search),\n",
    "    (\"lsi\", drm_lsi.search),\n",
    "    (\"w2v\", drm_w2v.search),\n",
    "    (\"w2v_pretrained\", drm_w2v_pretrained.search),\n",
    "    (\"d2v\", drm_d2v.search),\n",
    "    (\"lsi_rr\", lsi_rerank.search),\n",
    "    (\"lda_rr\", lda_rerank.search),\n",
    "    (\"w2v_rr\", w2v_rerank.search),\n",
    "    (\"w2v_pretrained_rr\", w2v_pretrained_rerank.search),\n",
    "    (\"d2v_rr\", d2v_rerank.search),\n",
    "    \n",
    "]"
   ]
  },
  {
   "cell_type": "code",
   "execution_count": 101,
   "metadata": {
    "deletable": false,
    "nbgrader": {
     "cell_type": "code",
     "checksum": "54707c4afac084299aeefa047259b4a9",
     "grade": true,
     "grade_id": "cell-7dd8273b0f5a3c22",
     "locked": false,
     "points": 10,
     "schema_version": 3,
     "solution": true,
     "task": false
    }
   },
   "outputs": [
    {
     "name": "stderr",
     "output_type": "stream",
     "text": [
      "C:\\Users\\irene\\AppData\\Local\\Continuum\\anaconda3\\envs\\ir2022\\lib\\site-packages\\ipykernel_launcher.py:57: DeprecationWarning: Call to deprecated `__contains__` (Method will be removed in 4.0.0, use self.wv.__contains__() instead).\n",
      "C:\\Users\\irene\\AppData\\Local\\Continuum\\anaconda3\\envs\\ir2022\\lib\\site-packages\\ipykernel_launcher.py:58: DeprecationWarning: Call to deprecated `__getitem__` (Method will be removed in 4.0.0, use self.wv.__getitem__() instead).\n",
      "C:\\Users\\irene\\AppData\\Local\\Continuum\\anaconda3\\envs\\ir2022\\lib\\site-packages\\ipykernel_launcher.py:27: RuntimeWarning: invalid value encountered in double_scalars\n",
      "C:\\Users\\irene\\AppData\\Local\\Continuum\\anaconda3\\envs\\ir2022\\lib\\site-packages\\ipykernel_launcher.py:34: UserWarning: You have mixed positional and keyword arguments, some input may be discarded.\n"
     ]
    },
    {
     "data": {
      "image/png": "[encoded data removed]",
      "text/plain": [
       "<Figure size 1875x1200 with 8 Axes>"
      ]
     },
     "metadata": {
      "needs_background": "light"
     },
     "output_type": "display_data"
    }
   ],
   "source": [
    "# YOUR CODE HERE\n",
    "results = {}\n",
    "for name_fn, search_fn in list_of_sem_search_fns:\n",
    "    results[name_fn] = evaluate_search_fn(search_fn, list_of_metrics)\n",
    "\n",
    "search_fns = [\"LSI\", \"LDA\", \"W2V\", \"W2V_Pretrained\", \"D2V\"]\n",
    "metrics = [\"ERR\", \"MAP\", \"Recall@1\", \"Recall@5\", \"Recall@10\", \"Precision@1\", \"Precision@5\", \"Precision@10\"]\n",
    "\n",
    "no_reranking_keys = [\"lsi\", \"lda\", \"w2v\", \"w2v_pretrained\", \"d2v\"]\n",
    "reranking_keys = [\"lsi_rr\", \"lda_rr\", \"w2v_rr\", \"w2v_pretrained_rr\", \"d2v_rr\"]\n",
    "\n",
    "X = np.arange(len(search_fns))\n",
    "\n",
    "fig, ax = plt.subplots(2, 4, figsize=(12.5, 8), sharey=False, dpi=150)\n",
    "\n",
    "for i, metric in enumerate(metrics):\n",
    "    metric_results = {}\n",
    "    for name_fn, search_fn in list_of_sem_search_fns:\n",
    "        metric_results[name_fn] = results[name_fn][metric]\n",
    "    \n",
    "    results_without_reranking = [metric_results.get(key) for key in no_reranking_keys]\n",
    "    results_with_reranking = [metric_results.get(key) for key in reranking_keys]\n",
    "    \n",
    "    ax[i // 4, i % 4].bar(X - 0.15, results_without_reranking, width = 0.3)\n",
    "    ax[i // 4, i % 4].bar(X + 0.15, results_with_reranking, width = 0.3)\n",
    "    ax[i // 4, i % 4].set_title(metric)\n",
    "    ax[i // 4, i % 4].set_xticks(X)\n",
    "    ax[i // 4, i % 4].set_xticklabels(search_fns, rotation=45)\n",
    "    ax[i // 4, i % 4].grid(axis='y')\n",
    "    ax[i // 4, i % 4].set_axisbelow(True)\n",
    "    handles,_ = ax[i // 4, i % 4].get_legend_handles_labels()\n",
    "\n",
    "plt.suptitle(\"Semantic Based Evaluation (with and without Reranking)\", fontsize=16)\n",
    "fig.legend(handles,labels=['reranking', 'no reranking'],loc='lower center',ncol=2)\n",
    "fig.tight_layout(rect=[0, 0.03, 1, 0.95])\n",
    "plt.show()"
   ]
  },
  {
   "cell_type": "markdown",
   "metadata": {
    "deletable": false,
    "editable": false,
    "nbgrader": {
     "cell_type": "markdown",
     "checksum": "a8a3b6189bdde66704c694d85e38d049",
     "grade": false,
     "grade_id": "cell-deb2ef3daa306e82",
     "locked": true,
     "schema_version": 3,
     "solution": false,
     "task": false
    }
   },
   "source": [
    "### Section 10.2: Summary (20 points)\n",
    "\n",
    "Your summary should compare methods from Part 1 and Part 2 (only for index set 2). State what you expected to see in the results, followed by either supporting evidence *or* justify why the results did not support your expectations. Consider the availability of data, scalability, domain/type of data, etc."
   ]
  },
  {
   "cell_type": "markdown",
   "metadata": {
    "deletable": false,
    "nbgrader": {
     "cell_type": "markdown",
     "checksum": "ff97c43837d10bff6aaffa75e1492887",
     "grade": true,
     "grade_id": "cell-ec5dd7d9cf59dd86",
     "locked": false,
     "points": 20,
     "schema_version": 3,
     "solution": true,
     "task": false
    }
   },
   "source": [
    "---\n",
    "\n",
    "Overall, by running semantic based matching alone we observed two things. First, it performs most poorly in search results, likely due to the small size of our training database. This concern does not apply in the case of the pretrained word2vec embeddings, though here it is likely that the averaging of word embeddings for each documents leads to a large loss in semantic information due to embedding noise. Second, due to the complexity of the algorithms, it requires a longer amount of time compared to the term-based search functions. As we can see, due to their complexity, semantic based methods alone are not scalable, as they cannot be applied to large collections of documents. To address this we can combine the use of term and semantic based methods. \n",
    "\n",
    "Term based methods can be utilised to retrieve the top-K most relevant documents of the collection and then apply the semantic based methods to re-rank these documents. The use of semantic methods to rerank the results produced by term-based search functions yields better results than semantic methods alone, as expected. However, it does not improve upon the results of the term-based search functions but instead worsens the performance across most metrics. This was unexpected, as we thought incorporating semantic information would improve the performance. It is possible that the small dataset size impedes the learning of useful word and document embeddings, thus introducing uninformative noise in the rankings. This is supported by the fact that the pre-trained word2vec method performs the best in reranking, as it was trained on a much larger collection. \n",
    "\n",
    "Moreover, note that doc2vec yields better performance in terms of precision@5 and precision@10 metrics, compared to the pre-trained word2vec. This implies that doc2vec has a lower false positive rate than word2vec, despite having a higher false negative rate (because it performs worse in recall). Perhaps, the doc2vec vectorization produces a sparser and more clustered document space than simple word vector averaging, making the model better at correctly identifying clustering documents but stricter about farther documents which may still be relevant.\n",
    "\n",
    "Finally, reranking only the most relevant documents retrieved from a term-based matching method, using the semantic based methods decreases the amount of time drastically. This is expected as the semantic based methods are applied only on a subset of documents instead on the whole collection.\n",
    "\n",
    "---"
   ]
  },
  {
   "cell_type": "code",
   "execution_count": null,
   "metadata": {},
   "outputs": [],
   "source": []
  }
 ],
 "metadata": {
  "kernelspec": {
   "display_name": "Python 3",
   "language": "python",
   "name": "python3"
  },
  "language_info": {
   "codemirror_mode": {
    "name": "ipython",
    "version": 3
   },
   "file_extension": ".py",
   "mimetype": "text/x-python",
   "name": "python",
   "nbconvert_exporter": "python",
   "pygments_lexer": "ipython3",
   "version": "3.6.5"
  },
  "toc": {
   "base_numbering": 1,
   "nav_menu": {},
   "number_sections": true,
   "sideBar": true,
   "skip_h1_title": false,
   "title_cell": "Table of Contents",
   "title_sidebar": "Contents",
   "toc_cell": false,
   "toc_position": {},
   "toc_section_display": true,
   "toc_window_display": false
  }
 },
 "nbformat": 4,
 "nbformat_minor": 4
}
